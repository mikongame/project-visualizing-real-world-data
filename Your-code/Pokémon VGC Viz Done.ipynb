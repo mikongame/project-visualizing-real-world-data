{
 "cells": [
  {
   "cell_type": "markdown",
   "metadata": {},
   "source": [
    "<img src=\"https://bit.ly/2VnXWr2\" width=\"100\" align=\"left\">"
   ]
  },
  {
   "cell_type": "markdown",
   "metadata": {},
   "source": [
    "# Project | Visualizing \"real world\" data"
   ]
  },
  {
   "cell_type": "markdown",
   "metadata": {},
   "source": [
    "## Import Useful Libraries"
   ]
  },
  {
   "cell_type": "code",
   "execution_count": 1,
   "metadata": {
    "ExecuteTime": {
     "end_time": "2020-03-29T15:17:59.750864Z",
     "start_time": "2020-03-29T15:17:50.461115Z"
    }
   },
   "outputs": [
    {
     "data": {
      "text/html": [
       "        <script type=\"text/javascript\">\n",
       "        window.PlotlyConfig = {MathJaxConfig: 'local'};\n",
       "        if (window.MathJax) {MathJax.Hub.Config({SVG: {font: \"STIX-Web\"}});}\n",
       "        if (typeof require !== 'undefined') {\n",
       "        require.undef(\"plotly\");\n",
       "        requirejs.config({\n",
       "            paths: {\n",
       "                'plotly': ['https://cdn.plot.ly/plotly-latest.min']\n",
       "            }\n",
       "        });\n",
       "        require(['plotly'], function(Plotly) {\n",
       "            window._Plotly = Plotly;\n",
       "        });\n",
       "        }\n",
       "        </script>\n",
       "        "
      ]
     },
     "metadata": {},
     "output_type": "display_data"
    }
   ],
   "source": [
    "import plotly.graph_objs as go\n",
    "from ipywidgets import interact\n",
    "import cufflinks as cf\n",
    "import plotly.offline as py\n",
    "import numpy as np\n",
    "import pandas as pd\n",
    "import re\n",
    "import matplotlib as mpl\n",
    "import matplotlib.pyplot as plt\n",
    "import seaborn as sns\n",
    "%matplotlib inline\n",
    "cf.go_offline()\n",
    "\n",
    "pd.set_option('display.max_rows', None)"
   ]
  },
  {
   "cell_type": "markdown",
   "metadata": {},
   "source": [
    "## Pikalytics dataset"
   ]
  },
  {
   "cell_type": "markdown",
   "metadata": {},
   "source": [
    "### Pikalytics dataset EDA and cleaning"
   ]
  },
  {
   "cell_type": "code",
   "execution_count": 2,
   "metadata": {
    "ExecuteTime": {
     "end_time": "2020-03-29T15:17:59.772805Z",
     "start_time": "2020-03-29T15:17:59.764826Z"
    }
   },
   "outputs": [],
   "source": [
    "pikalytics = pd.read_csv(\"data/pikalyticsDF_clean.csv\")"
   ]
  },
  {
   "cell_type": "code",
   "execution_count": 3,
   "metadata": {
    "ExecuteTime": {
     "end_time": "2020-03-29T15:18:04.861938Z",
     "start_time": "2020-03-29T15:18:04.856977Z"
    }
   },
   "outputs": [
    {
     "data": {
      "text/plain": [
       "(224, 9)"
      ]
     },
     "execution_count": 3,
     "metadata": {},
     "output_type": "execute_result"
    }
   ],
   "source": [
    "pikalytics.shape"
   ]
  },
  {
   "cell_type": "code",
   "execution_count": 4,
   "metadata": {
    "ExecuteTime": {
     "end_time": "2020-03-21T11:06:05.551685Z",
     "start_time": "2020-03-21T11:06:05.455173Z"
    }
   },
   "outputs": [
    {
     "name": "stdout",
     "output_type": "stream",
     "text": [
      "<class 'pandas.core.frame.DataFrame'>\n",
      "RangeIndex: 224 entries, 0 to 223\n",
      "Data columns (total 9 columns):\n",
      " #   Column                     Non-Null Count  Dtype  \n",
      "---  ------                     --------------  -----  \n",
      " 0   Unnamed: 0                 224 non-null    int64  \n",
      " 1   name                       224 non-null    object \n",
      " 2   types                      222 non-null    object \n",
      " 3   percent                    222 non-null    float64\n",
      " 4   ranking                    222 non-null    float64\n",
      " 5   viability                  224 non-null    object \n",
      " 6   Most common teammates      224 non-null    object \n",
      " 7   2nd most common teammates  224 non-null    object \n",
      " 8   3rd most common teammates  224 non-null    object \n",
      "dtypes: float64(2), int64(1), object(6)\n",
      "memory usage: 15.9+ KB\n"
     ]
    }
   ],
   "source": [
    "pikalytics.info()"
   ]
  },
  {
   "cell_type": "code",
   "execution_count": 5,
   "metadata": {
    "ExecuteTime": {
     "end_time": "2020-03-21T11:06:05.670923Z",
     "start_time": "2020-03-21T11:06:05.554311Z"
    }
   },
   "outputs": [
    {
     "data": {
      "text/html": [
       "<div>\n",
       "<style scoped>\n",
       "    .dataframe tbody tr th:only-of-type {\n",
       "        vertical-align: middle;\n",
       "    }\n",
       "\n",
       "    .dataframe tbody tr th {\n",
       "        vertical-align: top;\n",
       "    }\n",
       "\n",
       "    .dataframe thead th {\n",
       "        text-align: right;\n",
       "    }\n",
       "</style>\n",
       "<table border=\"1\" class=\"dataframe\">\n",
       "  <thead>\n",
       "    <tr style=\"text-align: right;\">\n",
       "      <th></th>\n",
       "      <th>pokemon_name</th>\n",
       "      <th>types</th>\n",
       "      <th>percent</th>\n",
       "      <th>ranking</th>\n",
       "      <th>viability</th>\n",
       "      <th>Most common teammates</th>\n",
       "      <th>2nd most common teammates</th>\n",
       "      <th>3rd most common teammates</th>\n",
       "    </tr>\n",
       "  </thead>\n",
       "  <tbody>\n",
       "    <tr>\n",
       "      <th>0</th>\n",
       "      <td>Togekiss</td>\n",
       "      <td>['fairy', 'flying']</td>\n",
       "      <td>46.0</td>\n",
       "      <td>1.0</td>\n",
       "      <td>B</td>\n",
       "      <td>Excadrill 38.536% ['ground', 'steel']</td>\n",
       "      <td>Arcanine 35.593% ['fire']</td>\n",
       "      <td>Dragapult 33.117% ['dragon', 'ghost']</td>\n",
       "    </tr>\n",
       "    <tr>\n",
       "      <th>1</th>\n",
       "      <td>Arcanine</td>\n",
       "      <td>['fire']</td>\n",
       "      <td>36.0</td>\n",
       "      <td>2.0</td>\n",
       "      <td>B</td>\n",
       "      <td>Togekiss 45.687% ['fairy', 'flying']</td>\n",
       "      <td>Dragapult 30.663% ['dragon', 'ghost']</td>\n",
       "      <td>Tyranitar 28.847% ['rock', 'dark']</td>\n",
       "    </tr>\n",
       "    <tr>\n",
       "      <th>2</th>\n",
       "      <td>Dragapult</td>\n",
       "      <td>['dragon', 'ghost']</td>\n",
       "      <td>31.0</td>\n",
       "      <td>3.0</td>\n",
       "      <td>B</td>\n",
       "      <td>Togekiss 48.228% ['fairy', 'flying']</td>\n",
       "      <td>Excadrill 38.133% ['ground', 'steel']</td>\n",
       "      <td>Arcanine 34.788% ['fire']</td>\n",
       "    </tr>\n",
       "    <tr>\n",
       "      <th>3</th>\n",
       "      <td>Excadrill</td>\n",
       "      <td>['ground', 'steel']</td>\n",
       "      <td>30.0</td>\n",
       "      <td>4.0</td>\n",
       "      <td>B</td>\n",
       "      <td>Togekiss 59.572% ['fairy', 'flying']</td>\n",
       "      <td>Tyranitar 47.122% ['rock', 'dark']</td>\n",
       "      <td>Dragapult 40.479% ['dragon', 'ghost']</td>\n",
       "    </tr>\n",
       "    <tr>\n",
       "      <th>4</th>\n",
       "      <td>Whimsicott</td>\n",
       "      <td>['grass', 'fairy']</td>\n",
       "      <td>29.0</td>\n",
       "      <td>5.0</td>\n",
       "      <td>B-</td>\n",
       "      <td>Duraludon 36.074% ['steel', 'dragon']</td>\n",
       "      <td>Togekiss 32.431% ['fairy', 'flying']</td>\n",
       "      <td>Arcanine 25.983% ['fire']</td>\n",
       "    </tr>\n",
       "  </tbody>\n",
       "</table>\n",
       "</div>"
      ],
      "text/plain": [
       "  pokemon_name                types  percent  ranking viability  \\\n",
       "0     Togekiss  ['fairy', 'flying']     46.0      1.0         B   \n",
       "1     Arcanine             ['fire']     36.0      2.0         B   \n",
       "2    Dragapult  ['dragon', 'ghost']     31.0      3.0         B   \n",
       "3    Excadrill  ['ground', 'steel']     30.0      4.0         B   \n",
       "4   Whimsicott   ['grass', 'fairy']     29.0      5.0        B-   \n",
       "\n",
       "                   Most common teammates  \\\n",
       "0  Excadrill 38.536% ['ground', 'steel']   \n",
       "1   Togekiss 45.687% ['fairy', 'flying']   \n",
       "2   Togekiss 48.228% ['fairy', 'flying']   \n",
       "3   Togekiss 59.572% ['fairy', 'flying']   \n",
       "4  Duraludon 36.074% ['steel', 'dragon']   \n",
       "\n",
       "               2nd most common teammates  \\\n",
       "0              Arcanine 35.593% ['fire']   \n",
       "1  Dragapult 30.663% ['dragon', 'ghost']   \n",
       "2  Excadrill 38.133% ['ground', 'steel']   \n",
       "3     Tyranitar 47.122% ['rock', 'dark']   \n",
       "4   Togekiss 32.431% ['fairy', 'flying']   \n",
       "\n",
       "               3rd most common teammates  \n",
       "0  Dragapult 33.117% ['dragon', 'ghost']  \n",
       "1     Tyranitar 28.847% ['rock', 'dark']  \n",
       "2              Arcanine 34.788% ['fire']  \n",
       "3  Dragapult 40.479% ['dragon', 'ghost']  \n",
       "4              Arcanine 25.983% ['fire']  "
      ]
     },
     "execution_count": 5,
     "metadata": {},
     "output_type": "execute_result"
    }
   ],
   "source": [
    "pikalytics = pikalytics.drop([\"Unnamed: 0\"], axis=1)\n",
    "pikalytics = pikalytics.rename(columns={\"name\": \"pokemon_name\"})\n",
    "pikalytics.head()"
   ]
  },
  {
   "cell_type": "code",
   "execution_count": 6,
   "metadata": {
    "ExecuteTime": {
     "end_time": "2020-03-21T11:06:05.776202Z",
     "start_time": "2020-03-21T11:06:05.674422Z"
    }
   },
   "outputs": [
    {
     "data": {
      "text/html": [
       "<div>\n",
       "<style scoped>\n",
       "    .dataframe tbody tr th:only-of-type {\n",
       "        vertical-align: middle;\n",
       "    }\n",
       "\n",
       "    .dataframe tbody tr th {\n",
       "        vertical-align: top;\n",
       "    }\n",
       "\n",
       "    .dataframe thead th {\n",
       "        text-align: right;\n",
       "    }\n",
       "</style>\n",
       "<table border=\"1\" class=\"dataframe\">\n",
       "  <thead>\n",
       "    <tr style=\"text-align: right;\">\n",
       "      <th></th>\n",
       "      <th>pokemon_name</th>\n",
       "      <th>types</th>\n",
       "      <th>percent</th>\n",
       "      <th>ranking</th>\n",
       "      <th>viability</th>\n",
       "      <th>Most common teammates</th>\n",
       "      <th>2nd most common teammates</th>\n",
       "      <th>3rd most common teammates</th>\n",
       "    </tr>\n",
       "  </thead>\n",
       "  <tbody>\n",
       "    <tr>\n",
       "      <th>219</th>\n",
       "      <td>Solrock</td>\n",
       "      <td>['rock', 'psychic']</td>\n",
       "      <td>0.0</td>\n",
       "      <td>220.0</td>\n",
       "      <td>C</td>\n",
       "      <td>Torkoal 75.838% ['fire']</td>\n",
       "      <td>Obstagoon 68.307% ['dark', 'normal']</td>\n",
       "      <td>Dracozolt 68.292% ['electric', 'dragon']</td>\n",
       "    </tr>\n",
       "    <tr>\n",
       "      <th>220</th>\n",
       "      <td>Cottonee</td>\n",
       "      <td>['grass', 'fairy']</td>\n",
       "      <td>0.0</td>\n",
       "      <td>221.0</td>\n",
       "      <td>C</td>\n",
       "      <td>Excadrill 68.691% ['ground', 'steel']</td>\n",
       "      <td>Vanilluxe 51.546% ['ice']</td>\n",
       "      <td>Togekiss 51.127% ['fairy', 'flying']</td>\n",
       "    </tr>\n",
       "    <tr>\n",
       "      <th>221</th>\n",
       "      <td>Throh</td>\n",
       "      <td>['fighting']</td>\n",
       "      <td>0.0</td>\n",
       "      <td>222.0</td>\n",
       "      <td>C+</td>\n",
       "      <td>Gyarados 59.921% ['water', 'flying']</td>\n",
       "      <td>Arcanine 59.832% ['fire']</td>\n",
       "      <td>Whimsicott 59.695% ['grass', 'fairy']</td>\n",
       "    </tr>\n",
       "    <tr>\n",
       "      <th>222</th>\n",
       "      <td>Shellos</td>\n",
       "      <td>['water']</td>\n",
       "      <td>0.0</td>\n",
       "      <td>223.0</td>\n",
       "      <td>C-</td>\n",
       "      <td>Indeedee-F 95.882% ['psychic', 'normal']</td>\n",
       "      <td>Rhyperior 95.882% ['ground', 'rock']</td>\n",
       "      <td>Hatterene 86.486% ['psychic', 'fairy']</td>\n",
       "    </tr>\n",
       "    <tr>\n",
       "      <th>223</th>\n",
       "      <td>Wobbuffet</td>\n",
       "      <td>['psychic']</td>\n",
       "      <td>0.0</td>\n",
       "      <td>224.0</td>\n",
       "      <td>D+</td>\n",
       "      <td>Lapras 66.298% ['water', 'ice']</td>\n",
       "      <td>Gothitelle 51.576% ['psychic']</td>\n",
       "      <td>Gengar 44.001% ['ghost', 'poison']</td>\n",
       "    </tr>\n",
       "  </tbody>\n",
       "</table>\n",
       "</div>"
      ],
      "text/plain": [
       "    pokemon_name                types  percent  ranking viability  \\\n",
       "219      Solrock  ['rock', 'psychic']      0.0    220.0         C   \n",
       "220     Cottonee   ['grass', 'fairy']      0.0    221.0         C   \n",
       "221        Throh         ['fighting']      0.0    222.0        C+   \n",
       "222      Shellos            ['water']      0.0    223.0        C-   \n",
       "223    Wobbuffet          ['psychic']      0.0    224.0        D+   \n",
       "\n",
       "                        Most common teammates  \\\n",
       "219                  Torkoal 75.838% ['fire']   \n",
       "220     Excadrill 68.691% ['ground', 'steel']   \n",
       "221      Gyarados 59.921% ['water', 'flying']   \n",
       "222  Indeedee-F 95.882% ['psychic', 'normal']   \n",
       "223           Lapras 66.298% ['water', 'ice']   \n",
       "\n",
       "                2nd most common teammates  \\\n",
       "219  Obstagoon 68.307% ['dark', 'normal']   \n",
       "220             Vanilluxe 51.546% ['ice']   \n",
       "221             Arcanine 59.832% ['fire']   \n",
       "222  Rhyperior 95.882% ['ground', 'rock']   \n",
       "223        Gothitelle 51.576% ['psychic']   \n",
       "\n",
       "                    3rd most common teammates  \n",
       "219  Dracozolt 68.292% ['electric', 'dragon']  \n",
       "220      Togekiss 51.127% ['fairy', 'flying']  \n",
       "221     Whimsicott 59.695% ['grass', 'fairy']  \n",
       "222    Hatterene 86.486% ['psychic', 'fairy']  \n",
       "223        Gengar 44.001% ['ghost', 'poison']  "
      ]
     },
     "execution_count": 6,
     "metadata": {},
     "output_type": "execute_result"
    }
   ],
   "source": [
    "pikalytics.tail()"
   ]
  },
  {
   "cell_type": "code",
   "execution_count": 7,
   "metadata": {
    "ExecuteTime": {
     "end_time": "2020-03-21T11:06:05.887345Z",
     "start_time": "2020-03-21T11:06:05.778335Z"
    }
   },
   "outputs": [
    {
     "data": {
      "text/html": [
       "<div>\n",
       "<style scoped>\n",
       "    .dataframe tbody tr th:only-of-type {\n",
       "        vertical-align: middle;\n",
       "    }\n",
       "\n",
       "    .dataframe tbody tr th {\n",
       "        vertical-align: top;\n",
       "    }\n",
       "\n",
       "    .dataframe thead th {\n",
       "        text-align: right;\n",
       "    }\n",
       "</style>\n",
       "<table border=\"1\" class=\"dataframe\">\n",
       "  <thead>\n",
       "    <tr style=\"text-align: right;\">\n",
       "      <th></th>\n",
       "      <th>count</th>\n",
       "      <th>mean</th>\n",
       "      <th>std</th>\n",
       "      <th>min</th>\n",
       "      <th>25%</th>\n",
       "      <th>50%</th>\n",
       "      <th>75%</th>\n",
       "      <th>max</th>\n",
       "    </tr>\n",
       "  </thead>\n",
       "  <tbody>\n",
       "    <tr>\n",
       "      <th>percent</th>\n",
       "      <td>222.0</td>\n",
       "      <td>2.653153</td>\n",
       "      <td>6.397218</td>\n",
       "      <td>0.0</td>\n",
       "      <td>0.00</td>\n",
       "      <td>0.0</td>\n",
       "      <td>1.00</td>\n",
       "      <td>46.0</td>\n",
       "    </tr>\n",
       "    <tr>\n",
       "      <th>ranking</th>\n",
       "      <td>222.0</td>\n",
       "      <td>112.590090</td>\n",
       "      <td>65.057778</td>\n",
       "      <td>1.0</td>\n",
       "      <td>56.25</td>\n",
       "      <td>112.5</td>\n",
       "      <td>168.75</td>\n",
       "      <td>224.0</td>\n",
       "    </tr>\n",
       "  </tbody>\n",
       "</table>\n",
       "</div>"
      ],
      "text/plain": [
       "         count        mean        std  min    25%    50%     75%    max\n",
       "percent  222.0    2.653153   6.397218  0.0   0.00    0.0    1.00   46.0\n",
       "ranking  222.0  112.590090  65.057778  1.0  56.25  112.5  168.75  224.0"
      ]
     },
     "execution_count": 7,
     "metadata": {},
     "output_type": "execute_result"
    }
   ],
   "source": [
    "pikalytics.describe().T"
   ]
  },
  {
   "cell_type": "markdown",
   "metadata": {},
   "source": [
    "### Pikalytics dataset visualization"
   ]
  },
  {
   "cell_type": "code",
   "execution_count": 8,
   "metadata": {
    "ExecuteTime": {
     "end_time": "2020-03-21T11:06:09.894060Z",
     "start_time": "2020-03-21T11:06:05.888601Z"
    }
   },
   "outputs": [
    {
     "data": {
      "application/vnd.plotly.v1+json": {
       "config": {
        "plotlyServerURL": "https://plot.ly"
       },
       "data": [
        {
         "alignmentgroup": "True",
         "hoverlabel": {
          "namelength": 0
         },
         "hovertemplate": "<b>%{hovertext}</b><br><br>pokemon_name=Togekiss<br>viability=%{x}<br>percent=%{y}",
         "hovertext": [
          "Togekiss"
         ],
         "legendgroup": "Togekiss",
         "marker": {
          "color": "#636efa"
         },
         "name": "Togekiss",
         "offsetgroup": "Togekiss",
         "orientation": "v",
         "showlegend": true,
         "textposition": "auto",
         "type": "bar",
         "x": [
          "B"
         ],
         "xaxis": "x",
         "y": [
          46
         ],
         "yaxis": "y"
        },
        {
         "alignmentgroup": "True",
         "hoverlabel": {
          "namelength": 0
         },
         "hovertemplate": "<b>%{hovertext}</b><br><br>pokemon_name=Arcanine<br>viability=%{x}<br>percent=%{y}",
         "hovertext": [
          "Arcanine"
         ],
         "legendgroup": "Arcanine",
         "marker": {
          "color": "#EF553B"
         },
         "name": "Arcanine",
         "offsetgroup": "Arcanine",
         "orientation": "v",
         "showlegend": true,
         "textposition": "auto",
         "type": "bar",
         "x": [
          "B"
         ],
         "xaxis": "x",
         "y": [
          36
         ],
         "yaxis": "y"
        },
        {
         "alignmentgroup": "True",
         "hoverlabel": {
          "namelength": 0
         },
         "hovertemplate": "<b>%{hovertext}</b><br><br>pokemon_name=Dragapult<br>viability=%{x}<br>percent=%{y}",
         "hovertext": [
          "Dragapult"
         ],
         "legendgroup": "Dragapult",
         "marker": {
          "color": "#00cc96"
         },
         "name": "Dragapult",
         "offsetgroup": "Dragapult",
         "orientation": "v",
         "showlegend": true,
         "textposition": "auto",
         "type": "bar",
         "x": [
          "B"
         ],
         "xaxis": "x",
         "y": [
          31
         ],
         "yaxis": "y"
        },
        {
         "alignmentgroup": "True",
         "hoverlabel": {
          "namelength": 0
         },
         "hovertemplate": "<b>%{hovertext}</b><br><br>pokemon_name=Excadrill<br>viability=%{x}<br>percent=%{y}",
         "hovertext": [
          "Excadrill"
         ],
         "legendgroup": "Excadrill",
         "marker": {
          "color": "#ab63fa"
         },
         "name": "Excadrill",
         "offsetgroup": "Excadrill",
         "orientation": "v",
         "showlegend": true,
         "textposition": "auto",
         "type": "bar",
         "x": [
          "B"
         ],
         "xaxis": "x",
         "y": [
          30
         ],
         "yaxis": "y"
        },
        {
         "alignmentgroup": "True",
         "hoverlabel": {
          "namelength": 0
         },
         "hovertemplate": "<b>%{hovertext}</b><br><br>pokemon_name=Whimsicott<br>viability=%{x}<br>percent=%{y}",
         "hovertext": [
          "Whimsicott"
         ],
         "legendgroup": "Whimsicott",
         "marker": {
          "color": "#FFA15A"
         },
         "name": "Whimsicott",
         "offsetgroup": "Whimsicott",
         "orientation": "v",
         "showlegend": true,
         "textposition": "auto",
         "type": "bar",
         "x": [
          "B-"
         ],
         "xaxis": "x",
         "y": [
          29
         ],
         "yaxis": "y"
        },
        {
         "alignmentgroup": "True",
         "hoverlabel": {
          "namelength": 0
         },
         "hovertemplate": "<b>%{hovertext}</b><br><br>pokemon_name=Duraludon<br>viability=%{x}<br>percent=%{y}",
         "hovertext": [
          "Duraludon"
         ],
         "legendgroup": "Duraludon",
         "marker": {
          "color": "#19d3f3"
         },
         "name": "Duraludon",
         "offsetgroup": "Duraludon",
         "orientation": "v",
         "showlegend": true,
         "textposition": "auto",
         "type": "bar",
         "x": [
          "B-"
         ],
         "xaxis": "x",
         "y": [
          24
         ],
         "yaxis": "y"
        },
        {
         "alignmentgroup": "True",
         "hoverlabel": {
          "namelength": 0
         },
         "hovertemplate": "<b>%{hovertext}</b><br><br>pokemon_name=Tyranitar<br>viability=%{x}<br>percent=%{y}",
         "hovertext": [
          "Tyranitar"
         ],
         "legendgroup": "Tyranitar",
         "marker": {
          "color": "#FF6692"
         },
         "name": "Tyranitar",
         "offsetgroup": "Tyranitar",
         "orientation": "v",
         "showlegend": true,
         "textposition": "auto",
         "type": "bar",
         "x": [
          "B"
         ],
         "xaxis": "x",
         "y": [
          23
         ],
         "yaxis": "y"
        },
        {
         "alignmentgroup": "True",
         "hoverlabel": {
          "namelength": 0
         },
         "hovertemplate": "<b>%{hovertext}</b><br><br>pokemon_name=Grimmsnarl<br>viability=%{x}<br>percent=%{y}",
         "hovertext": [
          "Grimmsnarl"
         ],
         "legendgroup": "Grimmsnarl",
         "marker": {
          "color": "#B6E880"
         },
         "name": "Grimmsnarl",
         "offsetgroup": "Grimmsnarl",
         "orientation": "v",
         "showlegend": true,
         "textposition": "auto",
         "type": "bar",
         "x": [
          "B"
         ],
         "xaxis": "x",
         "y": [
          20
         ],
         "yaxis": "y"
        },
        {
         "alignmentgroup": "True",
         "hoverlabel": {
          "namelength": 0
         },
         "hovertemplate": "<b>%{hovertext}</b><br><br>pokemon_name=Gyarados<br>viability=%{x}<br>percent=%{y}",
         "hovertext": [
          "Gyarados"
         ],
         "legendgroup": "Gyarados",
         "marker": {
          "color": "#FF97FF"
         },
         "name": "Gyarados",
         "offsetgroup": "Gyarados",
         "orientation": "v",
         "showlegend": true,
         "textposition": "auto",
         "type": "bar",
         "x": [
          "B"
         ],
         "xaxis": "x",
         "y": [
          17
         ],
         "yaxis": "y"
        },
        {
         "alignmentgroup": "True",
         "hoverlabel": {
          "namelength": 0
         },
         "hovertemplate": "<b>%{hovertext}</b><br><br>pokemon_name=Gastrodon<br>viability=%{x}<br>percent=%{y}",
         "hovertext": [
          "Gastrodon"
         ],
         "legendgroup": "Gastrodon",
         "marker": {
          "color": "#FECB52"
         },
         "name": "Gastrodon",
         "offsetgroup": "Gastrodon",
         "orientation": "v",
         "showlegend": true,
         "textposition": "auto",
         "type": "bar",
         "x": [
          "B"
         ],
         "xaxis": "x",
         "y": [
          17
         ],
         "yaxis": "y"
        },
        {
         "alignmentgroup": "True",
         "hoverlabel": {
          "namelength": 0
         },
         "hovertemplate": "<b>%{hovertext}</b><br><br>pokemon_name=Rhyperior<br>viability=%{x}<br>percent=%{y}",
         "hovertext": [
          "Rhyperior"
         ],
         "legendgroup": "Rhyperior",
         "marker": {
          "color": "#636efa"
         },
         "name": "Rhyperior",
         "offsetgroup": "Rhyperior",
         "orientation": "v",
         "showlegend": true,
         "textposition": "auto",
         "type": "bar",
         "x": [
          "B"
         ],
         "xaxis": "x",
         "y": [
          16
         ],
         "yaxis": "y"
        },
        {
         "alignmentgroup": "True",
         "hoverlabel": {
          "namelength": 0
         },
         "hovertemplate": "<b>%{hovertext}</b><br><br>pokemon_name=Conkeldurr<br>viability=%{x}<br>percent=%{y}",
         "hovertext": [
          "Conkeldurr"
         ],
         "legendgroup": "Conkeldurr",
         "marker": {
          "color": "#EF553B"
         },
         "name": "Conkeldurr",
         "offsetgroup": "Conkeldurr",
         "orientation": "v",
         "showlegend": true,
         "textposition": "auto",
         "type": "bar",
         "x": [
          "B"
         ],
         "xaxis": "x",
         "y": [
          15
         ],
         "yaxis": "y"
        },
        {
         "alignmentgroup": "True",
         "hoverlabel": {
          "namelength": 0
         },
         "hovertemplate": "<b>%{hovertext}</b><br><br>pokemon_name=Rotom-Mow<br>viability=%{x}<br>percent=%{y}",
         "hovertext": [
          "Rotom-Mow"
         ],
         "legendgroup": "Rotom-Mow",
         "marker": {
          "color": "#00cc96"
         },
         "name": "Rotom-Mow",
         "offsetgroup": "Rotom-Mow",
         "orientation": "v",
         "showlegend": true,
         "textposition": "auto",
         "type": "bar",
         "x": [
          "B"
         ],
         "xaxis": "x",
         "y": [
          12
         ],
         "yaxis": "y"
        },
        {
         "alignmentgroup": "True",
         "hoverlabel": {
          "namelength": 0
         },
         "hovertemplate": "<b>%{hovertext}</b><br><br>pokemon_name=Snorlax<br>viability=%{x}<br>percent=%{y}",
         "hovertext": [
          "Snorlax"
         ],
         "legendgroup": "Snorlax",
         "marker": {
          "color": "#ab63fa"
         },
         "name": "Snorlax",
         "offsetgroup": "Snorlax",
         "orientation": "v",
         "showlegend": true,
         "textposition": "auto",
         "type": "bar",
         "x": [
          "B-"
         ],
         "xaxis": "x",
         "y": [
          11
         ],
         "yaxis": "y"
        },
        {
         "alignmentgroup": "True",
         "hoverlabel": {
          "namelength": 0
         },
         "hovertemplate": "<b>%{hovertext}</b><br><br>pokemon_name=Dusclops<br>viability=%{x}<br>percent=%{y}",
         "hovertext": [
          "Dusclops"
         ],
         "legendgroup": "Dusclops",
         "marker": {
          "color": "#FFA15A"
         },
         "name": "Dusclops",
         "offsetgroup": "Dusclops",
         "orientation": "v",
         "showlegend": true,
         "textposition": "auto",
         "type": "bar",
         "x": [
          "B-"
         ],
         "xaxis": "x",
         "y": [
          11
         ],
         "yaxis": "y"
        },
        {
         "alignmentgroup": "True",
         "hoverlabel": {
          "namelength": 0
         },
         "hovertemplate": "<b>%{hovertext}</b><br><br>pokemon_name=Dracovish<br>viability=%{x}<br>percent=%{y}",
         "hovertext": [
          "Dracovish"
         ],
         "legendgroup": "Dracovish",
         "marker": {
          "color": "#19d3f3"
         },
         "name": "Dracovish",
         "offsetgroup": "Dracovish",
         "orientation": "v",
         "showlegend": true,
         "textposition": "auto",
         "type": "bar",
         "x": [
          "B-"
         ],
         "xaxis": "x",
         "y": [
          11
         ],
         "yaxis": "y"
        },
        {
         "alignmentgroup": "True",
         "hoverlabel": {
          "namelength": 0
         },
         "hovertemplate": "<b>%{hovertext}</b><br><br>pokemon_name=Vanilluxe<br>viability=%{x}<br>percent=%{y}",
         "hovertext": [
          "Vanilluxe"
         ],
         "legendgroup": "Vanilluxe",
         "marker": {
          "color": "#FF6692"
         },
         "name": "Vanilluxe",
         "offsetgroup": "Vanilluxe",
         "orientation": "v",
         "showlegend": true,
         "textposition": "auto",
         "type": "bar",
         "x": [
          "B-"
         ],
         "xaxis": "x",
         "y": [
          11
         ],
         "yaxis": "y"
        },
        {
         "alignmentgroup": "True",
         "hoverlabel": {
          "namelength": 0
         },
         "hovertemplate": "<b>%{hovertext}</b><br><br>pokemon_name=Rotom-Wash<br>viability=%{x}<br>percent=%{y}",
         "hovertext": [
          "Rotom-Wash"
         ],
         "legendgroup": "Rotom-Wash",
         "marker": {
          "color": "#B6E880"
         },
         "name": "Rotom-Wash",
         "offsetgroup": "Rotom-Wash",
         "orientation": "v",
         "showlegend": true,
         "textposition": "auto",
         "type": "bar",
         "x": [
          "B-"
         ],
         "xaxis": "x",
         "y": [
          10
         ],
         "yaxis": "y"
        },
        {
         "alignmentgroup": "True",
         "hoverlabel": {
          "namelength": 0
         },
         "hovertemplate": "<b>%{hovertext}</b><br><br>pokemon_name=Torkoal<br>viability=%{x}<br>percent=%{y}",
         "hovertext": [
          "Torkoal"
         ],
         "legendgroup": "Torkoal",
         "marker": {
          "color": "#FF97FF"
         },
         "name": "Torkoal",
         "offsetgroup": "Torkoal",
         "orientation": "v",
         "showlegend": true,
         "textposition": "auto",
         "type": "bar",
         "x": [
          "B-"
         ],
         "xaxis": "x",
         "y": [
          9
         ],
         "yaxis": "y"
        },
        {
         "alignmentgroup": "True",
         "hoverlabel": {
          "namelength": 0
         },
         "hovertemplate": "<b>%{hovertext}</b><br><br>pokemon_name=Inteleon<br>viability=%{x}<br>percent=%{y}",
         "hovertext": [
          "Inteleon"
         ],
         "legendgroup": "Inteleon",
         "marker": {
          "color": "#FECB52"
         },
         "name": "Inteleon",
         "offsetgroup": "Inteleon",
         "orientation": "v",
         "showlegend": true,
         "textposition": "auto",
         "type": "bar",
         "x": [
          "B"
         ],
         "xaxis": "x",
         "y": [
          9
         ],
         "yaxis": "y"
        },
        {
         "alignmentgroup": "True",
         "hoverlabel": {
          "namelength": 0
         },
         "hovertemplate": "<b>%{hovertext}</b><br><br>pokemon_name=Charizard<br>viability=%{x}<br>percent=%{y}",
         "hovertext": [
          "Charizard"
         ],
         "legendgroup": "Charizard",
         "marker": {
          "color": "#636efa"
         },
         "name": "Charizard",
         "offsetgroup": "Charizard",
         "orientation": "v",
         "showlegend": true,
         "textposition": "auto",
         "type": "bar",
         "x": [
          "B"
         ],
         "xaxis": "x",
         "y": [
          9
         ],
         "yaxis": "y"
        },
        {
         "alignmentgroup": "True",
         "hoverlabel": {
          "namelength": 0
         },
         "hovertemplate": "<b>%{hovertext}</b><br><br>pokemon_name=Mimikyu<br>viability=%{x}<br>percent=%{y}",
         "hovertext": [
          "Mimikyu"
         ],
         "legendgroup": "Mimikyu",
         "marker": {
          "color": "#EF553B"
         },
         "name": "Mimikyu",
         "offsetgroup": "Mimikyu",
         "orientation": "v",
         "showlegend": true,
         "textposition": "auto",
         "type": "bar",
         "x": [
          "B"
         ],
         "xaxis": "x",
         "y": [
          9
         ],
         "yaxis": "y"
        },
        {
         "alignmentgroup": "True",
         "hoverlabel": {
          "namelength": 0
         },
         "hovertemplate": "<b>%{hovertext}</b><br><br>pokemon_name=Chandelure<br>viability=%{x}<br>percent=%{y}",
         "hovertext": [
          "Chandelure"
         ],
         "legendgroup": "Chandelure",
         "marker": {
          "color": "#00cc96"
         },
         "name": "Chandelure",
         "offsetgroup": "Chandelure",
         "orientation": "v",
         "showlegend": true,
         "textposition": "auto",
         "type": "bar",
         "x": [
          "B"
         ],
         "xaxis": "x",
         "y": [
          9
         ],
         "yaxis": "y"
        },
        {
         "alignmentgroup": "True",
         "hoverlabel": {
          "namelength": 0
         },
         "hovertemplate": "<b>%{hovertext}</b><br><br>pokemon_name=Corviknight<br>viability=%{x}<br>percent=%{y}",
         "hovertext": [
          "Corviknight"
         ],
         "legendgroup": "Corviknight",
         "marker": {
          "color": "#ab63fa"
         },
         "name": "Corviknight",
         "offsetgroup": "Corviknight",
         "orientation": "v",
         "showlegend": true,
         "textposition": "auto",
         "type": "bar",
         "x": [
          "B-"
         ],
         "xaxis": "x",
         "y": [
          8
         ],
         "yaxis": "y"
        },
        {
         "alignmentgroup": "True",
         "hoverlabel": {
          "namelength": 0
         },
         "hovertemplate": "<b>%{hovertext}</b><br><br>pokemon_name=Jellicent<br>viability=%{x}<br>percent=%{y}",
         "hovertext": [
          "Jellicent"
         ],
         "legendgroup": "Jellicent",
         "marker": {
          "color": "#FFA15A"
         },
         "name": "Jellicent",
         "offsetgroup": "Jellicent",
         "orientation": "v",
         "showlegend": true,
         "textposition": "auto",
         "type": "bar",
         "x": [
          "B-"
         ],
         "xaxis": "x",
         "y": [
          8
         ],
         "yaxis": "y"
        },
        {
         "alignmentgroup": "True",
         "hoverlabel": {
          "namelength": 0
         },
         "hovertemplate": "<b>%{hovertext}</b><br><br>pokemon_name=Hydreigon<br>viability=%{x}<br>percent=%{y}",
         "hovertext": [
          "Hydreigon"
         ],
         "legendgroup": "Hydreigon",
         "marker": {
          "color": "#19d3f3"
         },
         "name": "Hydreigon",
         "offsetgroup": "Hydreigon",
         "orientation": "v",
         "showlegend": true,
         "textposition": "auto",
         "type": "bar",
         "x": [
          "B-"
         ],
         "xaxis": "x",
         "y": [
          7
         ],
         "yaxis": "y"
        },
        {
         "alignmentgroup": "True",
         "hoverlabel": {
          "namelength": 0
         },
         "hovertemplate": "<b>%{hovertext}</b><br><br>pokemon_name=Milotic<br>viability=%{x}<br>percent=%{y}",
         "hovertext": [
          "Milotic"
         ],
         "legendgroup": "Milotic",
         "marker": {
          "color": "#FF6692"
         },
         "name": "Milotic",
         "offsetgroup": "Milotic",
         "orientation": "v",
         "showlegend": true,
         "textposition": "auto",
         "type": "bar",
         "x": [
          "B"
         ],
         "xaxis": "x",
         "y": [
          7
         ],
         "yaxis": "y"
        },
        {
         "alignmentgroup": "True",
         "hoverlabel": {
          "namelength": 0
         },
         "hovertemplate": "<b>%{hovertext}</b><br><br>pokemon_name=Braviary<br>viability=%{x}<br>percent=%{y}",
         "hovertext": [
          "Braviary"
         ],
         "legendgroup": "Braviary",
         "marker": {
          "color": "#B6E880"
         },
         "name": "Braviary",
         "offsetgroup": "Braviary",
         "orientation": "v",
         "showlegend": true,
         "textposition": "auto",
         "type": "bar",
         "x": [
          "B-"
         ],
         "xaxis": "x",
         "y": [
          7
         ],
         "yaxis": "y"
        },
        {
         "alignmentgroup": "True",
         "hoverlabel": {
          "namelength": 0
         },
         "hovertemplate": "<b>%{hovertext}</b><br><br>pokemon_name=Darmanitan-Galar<br>viability=%{x}<br>percent=%{y}",
         "hovertext": [
          "Darmanitan-Galar"
         ],
         "legendgroup": "Darmanitan-Galar",
         "marker": {
          "color": "#FF97FF"
         },
         "name": "Darmanitan-Galar",
         "offsetgroup": "Darmanitan-Galar",
         "orientation": "v",
         "showlegend": true,
         "textposition": "auto",
         "type": "bar",
         "x": [
          "B-"
         ],
         "xaxis": "x",
         "y": [
          7
         ],
         "yaxis": "y"
        },
        {
         "alignmentgroup": "True",
         "hoverlabel": {
          "namelength": 0
         },
         "hovertemplate": "<b>%{hovertext}</b><br><br>pokemon_name=Indeedee-F<br>viability=%{x}<br>percent=%{y}",
         "hovertext": [
          "Indeedee-F"
         ],
         "legendgroup": "Indeedee-F",
         "marker": {
          "color": "#FECB52"
         },
         "name": "Indeedee-F",
         "offsetgroup": "Indeedee-F",
         "orientation": "v",
         "showlegend": true,
         "textposition": "auto",
         "type": "bar",
         "x": [
          "B-"
         ],
         "xaxis": "x",
         "y": [
          7
         ],
         "yaxis": "y"
        },
        {
         "alignmentgroup": "True",
         "hoverlabel": {
          "namelength": 0
         },
         "hovertemplate": "<b>%{hovertext}</b><br><br>pokemon_name=Mudsdale<br>viability=%{x}<br>percent=%{y}",
         "hovertext": [
          "Mudsdale"
         ],
         "legendgroup": "Mudsdale",
         "marker": {
          "color": "#636efa"
         },
         "name": "Mudsdale",
         "offsetgroup": "Mudsdale",
         "orientation": "v",
         "showlegend": true,
         "textposition": "auto",
         "type": "bar",
         "x": [
          "B-"
         ],
         "xaxis": "x",
         "y": [
          6
         ],
         "yaxis": "y"
        },
        {
         "alignmentgroup": "True",
         "hoverlabel": {
          "namelength": 0
         },
         "hovertemplate": "<b>%{hovertext}</b><br><br>pokemon_name=Rotom-Heat<br>viability=%{x}<br>percent=%{y}",
         "hovertext": [
          "Rotom-Heat"
         ],
         "legendgroup": "Rotom-Heat",
         "marker": {
          "color": "#EF553B"
         },
         "name": "Rotom-Heat",
         "offsetgroup": "Rotom-Heat",
         "orientation": "v",
         "showlegend": true,
         "textposition": "auto",
         "type": "bar",
         "x": [
          "B-"
         ],
         "xaxis": "x",
         "y": [
          6
         ],
         "yaxis": "y"
        },
        {
         "alignmentgroup": "True",
         "hoverlabel": {
          "namelength": 0
         },
         "hovertemplate": "<b>%{hovertext}</b><br><br>pokemon_name=Durant<br>viability=%{x}<br>percent=%{y}",
         "hovertext": [
          "Durant"
         ],
         "legendgroup": "Durant",
         "marker": {
          "color": "#00cc96"
         },
         "name": "Durant",
         "offsetgroup": "Durant",
         "orientation": "v",
         "showlegend": true,
         "textposition": "auto",
         "type": "bar",
         "x": [
          "B"
         ],
         "xaxis": "x",
         "y": [
          6
         ],
         "yaxis": "y"
        },
        {
         "alignmentgroup": "True",
         "hoverlabel": {
          "namelength": 0
         },
         "hovertemplate": "<b>%{hovertext}</b><br><br>pokemon_name=Sylveon<br>viability=%{x}<br>percent=%{y}",
         "hovertext": [
          "Sylveon"
         ],
         "legendgroup": "Sylveon",
         "marker": {
          "color": "#ab63fa"
         },
         "name": "Sylveon",
         "offsetgroup": "Sylveon",
         "orientation": "v",
         "showlegend": true,
         "textposition": "auto",
         "type": "bar",
         "x": [
          "B-"
         ],
         "xaxis": "x",
         "y": [
          6
         ],
         "yaxis": "y"
        },
        {
         "alignmentgroup": "True",
         "hoverlabel": {
          "namelength": 0
         },
         "hovertemplate": "<b>%{hovertext}</b><br><br>pokemon_name=Gothitelle<br>viability=%{x}<br>percent=%{y}",
         "hovertext": [
          "Gothitelle"
         ],
         "legendgroup": "Gothitelle",
         "marker": {
          "color": "#FFA15A"
         },
         "name": "Gothitelle",
         "offsetgroup": "Gothitelle",
         "orientation": "v",
         "showlegend": true,
         "textposition": "auto",
         "type": "bar",
         "x": [
          "B-"
         ],
         "xaxis": "x",
         "y": [
          6
         ],
         "yaxis": "y"
        },
        {
         "alignmentgroup": "True",
         "hoverlabel": {
          "namelength": 0
         },
         "hovertemplate": "<b>%{hovertext}</b><br><br>pokemon_name=Bronzong<br>viability=%{x}<br>percent=%{y}",
         "hovertext": [
          "Bronzong"
         ],
         "legendgroup": "Bronzong",
         "marker": {
          "color": "#19d3f3"
         },
         "name": "Bronzong",
         "offsetgroup": "Bronzong",
         "orientation": "v",
         "showlegend": true,
         "textposition": "auto",
         "type": "bar",
         "x": [
          "B"
         ],
         "xaxis": "x",
         "y": [
          5
         ],
         "yaxis": "y"
        },
        {
         "alignmentgroup": "True",
         "hoverlabel": {
          "namelength": 0
         },
         "hovertemplate": "<b>%{hovertext}</b><br><br>pokemon_name=Ferrothorn<br>viability=%{x}<br>percent=%{y}",
         "hovertext": [
          "Ferrothorn"
         ],
         "legendgroup": "Ferrothorn",
         "marker": {
          "color": "#FF6692"
         },
         "name": "Ferrothorn",
         "offsetgroup": "Ferrothorn",
         "orientation": "v",
         "showlegend": true,
         "textposition": "auto",
         "type": "bar",
         "x": [
          "B-"
         ],
         "xaxis": "x",
         "y": [
          5
         ],
         "yaxis": "y"
        },
        {
         "alignmentgroup": "True",
         "hoverlabel": {
          "namelength": 0
         },
         "hovertemplate": "<b>%{hovertext}</b><br><br>pokemon_name=Scrafty<br>viability=%{x}<br>percent=%{y}",
         "hovertext": [
          "Scrafty"
         ],
         "legendgroup": "Scrafty",
         "marker": {
          "color": "#B6E880"
         },
         "name": "Scrafty",
         "offsetgroup": "Scrafty",
         "orientation": "v",
         "showlegend": true,
         "textposition": "auto",
         "type": "bar",
         "x": [
          "B-"
         ],
         "xaxis": "x",
         "y": [
          5
         ],
         "yaxis": "y"
        },
        {
         "alignmentgroup": "True",
         "hoverlabel": {
          "namelength": 0
         },
         "hovertemplate": "<b>%{hovertext}</b><br><br>pokemon_name=Butterfree<br>viability=%{x}<br>percent=%{y}",
         "hovertext": [
          "Butterfree"
         ],
         "legendgroup": "Butterfree",
         "marker": {
          "color": "#FF97FF"
         },
         "name": "Butterfree",
         "offsetgroup": "Butterfree",
         "orientation": "v",
         "showlegend": true,
         "textposition": "auto",
         "type": "bar",
         "x": [
          "B-"
         ],
         "xaxis": "x",
         "y": [
          5
         ],
         "yaxis": "y"
        },
        {
         "alignmentgroup": "True",
         "hoverlabel": {
          "namelength": 0
         },
         "hovertemplate": "<b>%{hovertext}</b><br><br>pokemon_name=Hitmontop<br>viability=%{x}<br>percent=%{y}",
         "hovertext": [
          "Hitmontop"
         ],
         "legendgroup": "Hitmontop",
         "marker": {
          "color": "#FECB52"
         },
         "name": "Hitmontop",
         "offsetgroup": "Hitmontop",
         "orientation": "v",
         "showlegend": true,
         "textposition": "auto",
         "type": "bar",
         "x": [
          "B"
         ],
         "xaxis": "x",
         "y": [
          4
         ],
         "yaxis": "y"
        },
        {
         "alignmentgroup": "True",
         "hoverlabel": {
          "namelength": 0
         },
         "hovertemplate": "<b>%{hovertext}</b><br><br>pokemon_name=Hatterene<br>viability=%{x}<br>percent=%{y}",
         "hovertext": [
          "Hatterene"
         ],
         "legendgroup": "Hatterene",
         "marker": {
          "color": "#636efa"
         },
         "name": "Hatterene",
         "offsetgroup": "Hatterene",
         "orientation": "v",
         "showlegend": true,
         "textposition": "auto",
         "type": "bar",
         "x": [
          "B-"
         ],
         "xaxis": "x",
         "y": [
          4
         ],
         "yaxis": "y"
        },
        {
         "alignmentgroup": "True",
         "hoverlabel": {
          "namelength": 0
         },
         "hovertemplate": "<b>%{hovertext}</b><br><br>pokemon_name=Toxtricity<br>viability=%{x}<br>percent=%{y}",
         "hovertext": [
          "Toxtricity"
         ],
         "legendgroup": "Toxtricity",
         "marker": {
          "color": "#EF553B"
         },
         "name": "Toxtricity",
         "offsetgroup": "Toxtricity",
         "orientation": "v",
         "showlegend": true,
         "textposition": "auto",
         "type": "bar",
         "x": [
          "B-"
         ],
         "xaxis": "x",
         "y": [
          3
         ],
         "yaxis": "y"
        },
        {
         "alignmentgroup": "True",
         "hoverlabel": {
          "namelength": 0
         },
         "hovertemplate": "<b>%{hovertext}</b><br><br>pokemon_name=Lapras<br>viability=%{x}<br>percent=%{y}",
         "hovertext": [
          "Lapras"
         ],
         "legendgroup": "Lapras",
         "marker": {
          "color": "#00cc96"
         },
         "name": "Lapras",
         "offsetgroup": "Lapras",
         "orientation": "v",
         "showlegend": true,
         "textposition": "auto",
         "type": "bar",
         "x": [
          "C+"
         ],
         "xaxis": "x",
         "y": [
          3
         ],
         "yaxis": "y"
        },
        {
         "alignmentgroup": "True",
         "hoverlabel": {
          "namelength": 0
         },
         "hovertemplate": "<b>%{hovertext}</b><br><br>pokemon_name=Pelipper<br>viability=%{x}<br>percent=%{y}",
         "hovertext": [
          "Pelipper"
         ],
         "legendgroup": "Pelipper",
         "marker": {
          "color": "#ab63fa"
         },
         "name": "Pelipper",
         "offsetgroup": "Pelipper",
         "orientation": "v",
         "showlegend": true,
         "textposition": "auto",
         "type": "bar",
         "x": [
          "B-"
         ],
         "xaxis": "x",
         "y": [
          3
         ],
         "yaxis": "y"
        },
        {
         "alignmentgroup": "True",
         "hoverlabel": {
          "namelength": 0
         },
         "hovertemplate": "<b>%{hovertext}</b><br><br>pokemon_name=Ludicolo<br>viability=%{x}<br>percent=%{y}",
         "hovertext": [
          "Ludicolo"
         ],
         "legendgroup": "Ludicolo",
         "marker": {
          "color": "#FFA15A"
         },
         "name": "Ludicolo",
         "offsetgroup": "Ludicolo",
         "orientation": "v",
         "showlegend": true,
         "textposition": "auto",
         "type": "bar",
         "x": [
          "B-"
         ],
         "xaxis": "x",
         "y": [
          3
         ],
         "yaxis": "y"
        },
        {
         "alignmentgroup": "True",
         "hoverlabel": {
          "namelength": 0
         },
         "hovertemplate": "<b>%{hovertext}</b><br><br>pokemon_name=Passimian<br>viability=%{x}<br>percent=%{y}",
         "hovertext": [
          "Passimian"
         ],
         "legendgroup": "Passimian",
         "marker": {
          "color": "#19d3f3"
         },
         "name": "Passimian",
         "offsetgroup": "Passimian",
         "orientation": "v",
         "showlegend": true,
         "textposition": "auto",
         "type": "bar",
         "x": [
          "B-"
         ],
         "xaxis": "x",
         "y": [
          3
         ],
         "yaxis": "y"
        },
        {
         "alignmentgroup": "True",
         "hoverlabel": {
          "namelength": 0
         },
         "hovertemplate": "<b>%{hovertext}</b><br><br>pokemon_name=Dracozolt<br>viability=%{x}<br>percent=%{y}",
         "hovertext": [
          "Dracozolt"
         ],
         "legendgroup": "Dracozolt",
         "marker": {
          "color": "#FF6692"
         },
         "name": "Dracozolt",
         "offsetgroup": "Dracozolt",
         "orientation": "v",
         "showlegend": true,
         "textposition": "auto",
         "type": "bar",
         "x": [
          "B-"
         ],
         "xaxis": "x",
         "y": [
          2
         ],
         "yaxis": "y"
        },
        {
         "alignmentgroup": "True",
         "hoverlabel": {
          "namelength": 0
         },
         "hovertemplate": "<b>%{hovertext}</b><br><br>pokemon_name=Togedemaru<br>viability=%{x}<br>percent=%{y}",
         "hovertext": [
          "Togedemaru"
         ],
         "legendgroup": "Togedemaru",
         "marker": {
          "color": "#B6E880"
         },
         "name": "Togedemaru",
         "offsetgroup": "Togedemaru",
         "orientation": "v",
         "showlegend": true,
         "textposition": "auto",
         "type": "bar",
         "x": [
          "B-"
         ],
         "xaxis": "x",
         "y": [
          2
         ],
         "yaxis": "y"
        },
        {
         "alignmentgroup": "True",
         "hoverlabel": {
          "namelength": 0
         },
         "hovertemplate": "<b>%{hovertext}</b><br><br>pokemon_name=Lucario<br>viability=%{x}<br>percent=%{y}",
         "hovertext": [
          "Lucario"
         ],
         "legendgroup": "Lucario",
         "marker": {
          "color": "#FF97FF"
         },
         "name": "Lucario",
         "offsetgroup": "Lucario",
         "orientation": "v",
         "showlegend": true,
         "textposition": "auto",
         "type": "bar",
         "x": [
          "B-"
         ],
         "xaxis": "x",
         "y": [
          2
         ],
         "yaxis": "y"
        },
        {
         "alignmentgroup": "True",
         "hoverlabel": {
          "namelength": 0
         },
         "hovertemplate": "<b>%{hovertext}</b><br><br>pokemon_name=Vileplume<br>viability=%{x}<br>percent=%{y}",
         "hovertext": [
          "Vileplume"
         ],
         "legendgroup": "Vileplume",
         "marker": {
          "color": "#FECB52"
         },
         "name": "Vileplume",
         "offsetgroup": "Vileplume",
         "orientation": "v",
         "showlegend": true,
         "textposition": "auto",
         "type": "bar",
         "x": [
          "B-"
         ],
         "xaxis": "x",
         "y": [
          2
         ],
         "yaxis": "y"
        },
        {
         "alignmentgroup": "True",
         "hoverlabel": {
          "namelength": 0
         },
         "hovertemplate": "<b>%{hovertext}</b><br><br>pokemon_name=Sableye<br>viability=%{x}<br>percent=%{y}",
         "hovertext": [
          "Sableye"
         ],
         "legendgroup": "Sableye",
         "marker": {
          "color": "#636efa"
         },
         "name": "Sableye",
         "offsetgroup": "Sableye",
         "orientation": "v",
         "showlegend": true,
         "textposition": "auto",
         "type": "bar",
         "x": [
          "B-"
         ],
         "xaxis": "x",
         "y": [
          2
         ],
         "yaxis": "y"
        },
        {
         "alignmentgroup": "True",
         "hoverlabel": {
          "namelength": 0
         },
         "hovertemplate": "<b>%{hovertext}</b><br><br>pokemon_name=Goodra<br>viability=%{x}<br>percent=%{y}",
         "hovertext": [
          "Goodra"
         ],
         "legendgroup": "Goodra",
         "marker": {
          "color": "#EF553B"
         },
         "name": "Goodra",
         "offsetgroup": "Goodra",
         "orientation": "v",
         "showlegend": true,
         "textposition": "auto",
         "type": "bar",
         "x": [
          "B-"
         ],
         "xaxis": "x",
         "y": [
          2
         ],
         "yaxis": "y"
        },
        {
         "alignmentgroup": "True",
         "hoverlabel": {
          "namelength": 0
         },
         "hovertemplate": "<b>%{hovertext}</b><br><br>pokemon_name=Weezing-Galar<br>viability=%{x}<br>percent=%{y}",
         "hovertext": [
          "Weezing-Galar"
         ],
         "legendgroup": "Weezing-Galar",
         "marker": {
          "color": "#00cc96"
         },
         "name": "Weezing-Galar",
         "offsetgroup": "Weezing-Galar",
         "orientation": "v",
         "showlegend": true,
         "textposition": "auto",
         "type": "bar",
         "x": [
          "B-"
         ],
         "xaxis": "x",
         "y": [
          2
         ],
         "yaxis": "y"
        },
        {
         "alignmentgroup": "True",
         "hoverlabel": {
          "namelength": 0
         },
         "hovertemplate": "<b>%{hovertext}</b><br><br>pokemon_name=Hippowdon<br>viability=%{x}<br>percent=%{y}",
         "hovertext": [
          "Hippowdon"
         ],
         "legendgroup": "Hippowdon",
         "marker": {
          "color": "#ab63fa"
         },
         "name": "Hippowdon",
         "offsetgroup": "Hippowdon",
         "orientation": "v",
         "showlegend": true,
         "textposition": "auto",
         "type": "bar",
         "x": [
          "B-"
         ],
         "xaxis": "x",
         "y": [
          2
         ],
         "yaxis": "y"
        },
        {
         "alignmentgroup": "True",
         "hoverlabel": {
          "namelength": 0
         },
         "hovertemplate": "<b>%{hovertext}</b><br><br>pokemon_name=Raichu<br>viability=%{x}<br>percent=%{y}",
         "hovertext": [
          "Raichu"
         ],
         "legendgroup": "Raichu",
         "marker": {
          "color": "#FFA15A"
         },
         "name": "Raichu",
         "offsetgroup": "Raichu",
         "orientation": "v",
         "showlegend": true,
         "textposition": "auto",
         "type": "bar",
         "x": [
          "C+"
         ],
         "xaxis": "x",
         "y": [
          1
         ],
         "yaxis": "y"
        },
        {
         "alignmentgroup": "True",
         "hoverlabel": {
          "namelength": 0
         },
         "hovertemplate": "<b>%{hovertext}</b><br><br>pokemon_name=Oranguru<br>viability=%{x}<br>percent=%{y}",
         "hovertext": [
          "Oranguru"
         ],
         "legendgroup": "Oranguru",
         "marker": {
          "color": "#19d3f3"
         },
         "name": "Oranguru",
         "offsetgroup": "Oranguru",
         "orientation": "v",
         "showlegend": true,
         "textposition": "auto",
         "type": "bar",
         "x": [
          "B-"
         ],
         "xaxis": "x",
         "y": [
          1
         ],
         "yaxis": "y"
        },
        {
         "alignmentgroup": "True",
         "hoverlabel": {
          "namelength": 0
         },
         "hovertemplate": "<b>%{hovertext}</b><br><br>pokemon_name=Appletun<br>viability=%{x}<br>percent=%{y}",
         "hovertext": [
          "Appletun"
         ],
         "legendgroup": "Appletun",
         "marker": {
          "color": "#FF6692"
         },
         "name": "Appletun",
         "offsetgroup": "Appletun",
         "orientation": "v",
         "showlegend": true,
         "textposition": "auto",
         "type": "bar",
         "x": [
          "C+"
         ],
         "xaxis": "x",
         "y": [
          1
         ],
         "yaxis": "y"
        },
        {
         "alignmentgroup": "True",
         "hoverlabel": {
          "namelength": 0
         },
         "hovertemplate": "<b>%{hovertext}</b><br><br>pokemon_name=Reuniclus<br>viability=%{x}<br>percent=%{y}",
         "hovertext": [
          "Reuniclus"
         ],
         "legendgroup": "Reuniclus",
         "marker": {
          "color": "#B6E880"
         },
         "name": "Reuniclus",
         "offsetgroup": "Reuniclus",
         "orientation": "v",
         "showlegend": true,
         "textposition": "auto",
         "type": "bar",
         "x": [
          "B-"
         ],
         "xaxis": "x",
         "y": [
          1
         ],
         "yaxis": "y"
        },
        {
         "alignmentgroup": "True",
         "hoverlabel": {
          "namelength": 0
         },
         "hovertemplate": "<b>%{hovertext}</b><br><br>pokemon_name=Pikachu<br>viability=%{x}<br>percent=%{y}",
         "hovertext": [
          "Pikachu"
         ],
         "legendgroup": "Pikachu",
         "marker": {
          "color": "#FF97FF"
         },
         "name": "Pikachu",
         "offsetgroup": "Pikachu",
         "orientation": "v",
         "showlegend": true,
         "textposition": "auto",
         "type": "bar",
         "x": [
          "C+"
         ],
         "xaxis": "x",
         "y": [
          1
         ],
         "yaxis": "y"
        },
        {
         "alignmentgroup": "True",
         "hoverlabel": {
          "namelength": 0
         },
         "hovertemplate": "<b>%{hovertext}</b><br><br>pokemon_name=Aegislash<br>viability=%{x}<br>percent=%{y}",
         "hovertext": [
          "Aegislash"
         ],
         "legendgroup": "Aegislash",
         "marker": {
          "color": "#FECB52"
         },
         "name": "Aegislash",
         "offsetgroup": "Aegislash",
         "orientation": "v",
         "showlegend": true,
         "textposition": "auto",
         "type": "bar",
         "x": [
          "C+"
         ],
         "xaxis": "x",
         "y": [
          1
         ],
         "yaxis": "y"
        },
        {
         "alignmentgroup": "True",
         "hoverlabel": {
          "namelength": 0
         },
         "hovertemplate": "<b>%{hovertext}</b><br><br>pokemon_name=Hawlucha<br>viability=%{x}<br>percent=%{y}",
         "hovertext": [
          "Hawlucha"
         ],
         "legendgroup": "Hawlucha",
         "marker": {
          "color": "#636efa"
         },
         "name": "Hawlucha",
         "offsetgroup": "Hawlucha",
         "orientation": "v",
         "showlegend": true,
         "textposition": "auto",
         "type": "bar",
         "x": [
          "C+"
         ],
         "xaxis": "x",
         "y": [
          1
         ],
         "yaxis": "y"
        },
        {
         "alignmentgroup": "True",
         "hoverlabel": {
          "namelength": 0
         },
         "hovertemplate": "<b>%{hovertext}</b><br><br>pokemon_name=Cinderace<br>viability=%{x}<br>percent=%{y}",
         "hovertext": [
          "Cinderace"
         ],
         "legendgroup": "Cinderace",
         "marker": {
          "color": "#EF553B"
         },
         "name": "Cinderace",
         "offsetgroup": "Cinderace",
         "orientation": "v",
         "showlegend": true,
         "textposition": "auto",
         "type": "bar",
         "x": [
          "C+"
         ],
         "xaxis": "x",
         "y": [
          1
         ],
         "yaxis": "y"
        },
        {
         "alignmentgroup": "True",
         "hoverlabel": {
          "namelength": 0
         },
         "hovertemplate": "<b>%{hovertext}</b><br><br>pokemon_name=Mandibuzz<br>viability=%{x}<br>percent=%{y}",
         "hovertext": [
          "Mandibuzz"
         ],
         "legendgroup": "Mandibuzz",
         "marker": {
          "color": "#00cc96"
         },
         "name": "Mandibuzz",
         "offsetgroup": "Mandibuzz",
         "orientation": "v",
         "showlegend": true,
         "textposition": "auto",
         "type": "bar",
         "x": [
          "B-"
         ],
         "xaxis": "x",
         "y": [
          1
         ],
         "yaxis": "y"
        },
        {
         "alignmentgroup": "True",
         "hoverlabel": {
          "namelength": 0
         },
         "hovertemplate": "<b>%{hovertext}</b><br><br>pokemon_name=Araquanid<br>viability=%{x}<br>percent=%{y}",
         "hovertext": [
          "Araquanid"
         ],
         "legendgroup": "Araquanid",
         "marker": {
          "color": "#ab63fa"
         },
         "name": "Araquanid",
         "offsetgroup": "Araquanid",
         "orientation": "v",
         "showlegend": true,
         "textposition": "auto",
         "type": "bar",
         "x": [
          "C+"
         ],
         "xaxis": "x",
         "y": [
          1
         ],
         "yaxis": "y"
        },
        {
         "alignmentgroup": "True",
         "hoverlabel": {
          "namelength": 0
         },
         "hovertemplate": "<b>%{hovertext}</b><br><br>pokemon_name=Abomasnow<br>viability=%{x}<br>percent=%{y}",
         "hovertext": [
          "Abomasnow"
         ],
         "legendgroup": "Abomasnow",
         "marker": {
          "color": "#FFA15A"
         },
         "name": "Abomasnow",
         "offsetgroup": "Abomasnow",
         "orientation": "v",
         "showlegend": true,
         "textposition": "auto",
         "type": "bar",
         "x": [
          "B-"
         ],
         "xaxis": "x",
         "y": [
          1
         ],
         "yaxis": "y"
        },
        {
         "alignmentgroup": "True",
         "hoverlabel": {
          "namelength": 0
         },
         "hovertemplate": "<b>%{hovertext}</b><br><br>pokemon_name=Kommo-o<br>viability=%{x}<br>percent=%{y}",
         "hovertext": [
          "Kommo-o"
         ],
         "legendgroup": "Kommo-o",
         "marker": {
          "color": "#19d3f3"
         },
         "name": "Kommo-o",
         "offsetgroup": "Kommo-o",
         "orientation": "v",
         "showlegend": true,
         "textposition": "auto",
         "type": "bar",
         "x": [
          "C+"
         ],
         "xaxis": "x",
         "y": [
          1
         ],
         "yaxis": "y"
        },
        {
         "alignmentgroup": "True",
         "hoverlabel": {
          "namelength": 0
         },
         "hovertemplate": "<b>%{hovertext}</b><br><br>pokemon_name=Silvally<br>viability=%{x}<br>percent=%{y}",
         "hovertext": [
          "Silvally"
         ],
         "legendgroup": "Silvally",
         "marker": {
          "color": "#FF6692"
         },
         "name": "Silvally",
         "offsetgroup": "Silvally",
         "orientation": "v",
         "showlegend": true,
         "textposition": "auto",
         "type": "bar",
         "x": [
          "C+"
         ],
         "xaxis": "x",
         "y": [
          1
         ],
         "yaxis": "y"
        },
        {
         "alignmentgroup": "True",
         "hoverlabel": {
          "namelength": 0
         },
         "hovertemplate": "<b>%{hovertext}</b><br><br>pokemon_name=Umbreon<br>viability=%{x}<br>percent=%{y}",
         "hovertext": [
          "Umbreon"
         ],
         "legendgroup": "Umbreon",
         "marker": {
          "color": "#B6E880"
         },
         "name": "Umbreon",
         "offsetgroup": "Umbreon",
         "orientation": "v",
         "showlegend": true,
         "textposition": "auto",
         "type": "bar",
         "x": [
          "B-"
         ],
         "xaxis": "x",
         "y": [
          1
         ],
         "yaxis": "y"
        },
        {
         "alignmentgroup": "True",
         "hoverlabel": {
          "namelength": 0
         },
         "hovertemplate": "<b>%{hovertext}</b><br><br>pokemon_name=Gengar<br>viability=%{x}<br>percent=%{y}",
         "hovertext": [
          "Gengar"
         ],
         "legendgroup": "Gengar",
         "marker": {
          "color": "#FF97FF"
         },
         "name": "Gengar",
         "offsetgroup": "Gengar",
         "orientation": "v",
         "showlegend": true,
         "textposition": "auto",
         "type": "bar",
         "x": [
          "C+"
         ],
         "xaxis": "x",
         "y": [
          1
         ],
         "yaxis": "y"
        },
        {
         "alignmentgroup": "True",
         "hoverlabel": {
          "namelength": 0
         },
         "hovertemplate": "<b>%{hovertext}</b><br><br>pokemon_name=Dhelmise<br>viability=%{x}<br>percent=%{y}",
         "hovertext": [
          "Dhelmise"
         ],
         "legendgroup": "Dhelmise",
         "marker": {
          "color": "#FECB52"
         },
         "name": "Dhelmise",
         "offsetgroup": "Dhelmise",
         "orientation": "v",
         "showlegend": true,
         "textposition": "auto",
         "type": "bar",
         "x": [
          "B-"
         ],
         "xaxis": "x",
         "y": [
          1
         ],
         "yaxis": "y"
        },
        {
         "alignmentgroup": "True",
         "hoverlabel": {
          "namelength": 0
         },
         "hovertemplate": "<b>%{hovertext}</b><br><br>pokemon_name=Gardevoir<br>viability=%{x}<br>percent=%{y}",
         "hovertext": [
          "Gardevoir"
         ],
         "legendgroup": "Gardevoir",
         "marker": {
          "color": "#636efa"
         },
         "name": "Gardevoir",
         "offsetgroup": "Gardevoir",
         "orientation": "v",
         "showlegend": true,
         "textposition": "auto",
         "type": "bar",
         "x": [
          "B-"
         ],
         "xaxis": "x",
         "y": [
          1
         ],
         "yaxis": "y"
        },
        {
         "alignmentgroup": "True",
         "hoverlabel": {
          "namelength": 0
         },
         "hovertemplate": "<b>%{hovertext}</b><br><br>pokemon_name=Sigilyph<br>viability=%{x}<br>percent=%{y}",
         "hovertext": [
          "Sigilyph"
         ],
         "legendgroup": "Sigilyph",
         "marker": {
          "color": "#EF553B"
         },
         "name": "Sigilyph",
         "offsetgroup": "Sigilyph",
         "orientation": "v",
         "showlegend": true,
         "textposition": "auto",
         "type": "bar",
         "x": [
          "B-"
         ],
         "xaxis": "x",
         "y": [
          1
         ],
         "yaxis": "y"
        },
        {
         "alignmentgroup": "True",
         "hoverlabel": {
          "namelength": 0
         },
         "hovertemplate": "<b>%{hovertext}</b><br><br>pokemon_name=Obstagoon<br>viability=%{x}<br>percent=%{y}",
         "hovertext": [
          "Obstagoon"
         ],
         "legendgroup": "Obstagoon",
         "marker": {
          "color": "#00cc96"
         },
         "name": "Obstagoon",
         "offsetgroup": "Obstagoon",
         "orientation": "v",
         "showlegend": true,
         "textposition": "auto",
         "type": "bar",
         "x": [
          "B-"
         ],
         "xaxis": "x",
         "y": [
          1
         ],
         "yaxis": "y"
        },
        {
         "alignmentgroup": "True",
         "hoverlabel": {
          "namelength": 0
         },
         "hovertemplate": "<b>%{hovertext}</b><br><br>pokemon_name=Rillaboom<br>viability=%{x}<br>percent=%{y}",
         "hovertext": [
          "Rillaboom"
         ],
         "legendgroup": "Rillaboom",
         "marker": {
          "color": "#ab63fa"
         },
         "name": "Rillaboom",
         "offsetgroup": "Rillaboom",
         "orientation": "v",
         "showlegend": true,
         "textposition": "auto",
         "type": "bar",
         "x": [
          "C+"
         ],
         "xaxis": "x",
         "y": [
          1
         ],
         "yaxis": "y"
        },
        {
         "alignmentgroup": "True",
         "hoverlabel": {
          "namelength": 0
         },
         "hovertemplate": "<b>%{hovertext}</b><br><br>pokemon_name=Indeedee<br>viability=%{x}<br>percent=%{y}",
         "hovertext": [
          "Indeedee"
         ],
         "legendgroup": "Indeedee",
         "marker": {
          "color": "#FFA15A"
         },
         "name": "Indeedee",
         "offsetgroup": "Indeedee",
         "orientation": "v",
         "showlegend": true,
         "textposition": "auto",
         "type": "bar",
         "x": [
          "C+"
         ],
         "xaxis": "x",
         "y": [
          1
         ],
         "yaxis": "y"
        },
        {
         "alignmentgroup": "True",
         "hoverlabel": {
          "namelength": 0
         },
         "hovertemplate": "<b>%{hovertext}</b><br><br>pokemon_name=Mamoswine<br>viability=%{x}<br>percent=%{y}",
         "hovertext": [
          "Mamoswine"
         ],
         "legendgroup": "Mamoswine",
         "marker": {
          "color": "#19d3f3"
         },
         "name": "Mamoswine",
         "offsetgroup": "Mamoswine",
         "orientation": "v",
         "showlegend": true,
         "textposition": "auto",
         "type": "bar",
         "x": [
          "C+"
         ],
         "xaxis": "x",
         "y": [
          1
         ],
         "yaxis": "y"
        },
        {
         "alignmentgroup": "True",
         "hoverlabel": {
          "namelength": 0
         },
         "hovertemplate": "<b>%{hovertext}</b><br><br>pokemon_name=Ribombee<br>viability=%{x}<br>percent=%{y}",
         "hovertext": [
          "Ribombee"
         ],
         "legendgroup": "Ribombee",
         "marker": {
          "color": "#FF6692"
         },
         "name": "Ribombee",
         "offsetgroup": "Ribombee",
         "orientation": "v",
         "showlegend": true,
         "textposition": "auto",
         "type": "bar",
         "x": [
          "C+"
         ],
         "xaxis": "x",
         "y": [
          1
         ],
         "yaxis": "y"
        },
        {
         "alignmentgroup": "True",
         "hoverlabel": {
          "namelength": 0
         },
         "hovertemplate": "<b>%{hovertext}</b><br><br>pokemon_name=Greedent<br>viability=%{x}<br>percent=%{y}",
         "hovertext": [
          "Greedent"
         ],
         "legendgroup": "Greedent",
         "marker": {
          "color": "#B6E880"
         },
         "name": "Greedent",
         "offsetgroup": "Greedent",
         "orientation": "v",
         "showlegend": true,
         "textposition": "auto",
         "type": "bar",
         "x": [
          "C+"
         ],
         "xaxis": "x",
         "y": [
          1
         ],
         "yaxis": "y"
        },
        {
         "alignmentgroup": "True",
         "hoverlabel": {
          "namelength": 0
         },
         "hovertemplate": "<b>%{hovertext}</b><br><br>pokemon_name=Sandaconda<br>viability=%{x}<br>percent=%{y}",
         "hovertext": [
          "Sandaconda"
         ],
         "legendgroup": "Sandaconda",
         "marker": {
          "color": "#FF97FF"
         },
         "name": "Sandaconda",
         "offsetgroup": "Sandaconda",
         "orientation": "v",
         "showlegend": true,
         "textposition": "auto",
         "type": "bar",
         "x": [
          "C+"
         ],
         "xaxis": "x",
         "y": [
          1
         ],
         "yaxis": "y"
        },
        {
         "alignmentgroup": "True",
         "hoverlabel": {
          "namelength": 0
         },
         "hovertemplate": "<b>%{hovertext}</b><br><br>pokemon_name=Sirfetch'd<br>viability=%{x}<br>percent=%{y}",
         "hovertext": [
          "Sirfetch'd"
         ],
         "legendgroup": "Sirfetch'd",
         "marker": {
          "color": "#FECB52"
         },
         "name": "Sirfetch'd",
         "offsetgroup": "Sirfetch'd",
         "orientation": "v",
         "showlegend": true,
         "textposition": "auto",
         "type": "bar",
         "x": [
          "C+"
         ],
         "xaxis": "x",
         "y": [
          null
         ],
         "yaxis": "y"
        },
        {
         "alignmentgroup": "True",
         "hoverlabel": {
          "namelength": 0
         },
         "hovertemplate": "<b>%{hovertext}</b><br><br>pokemon_name=Bisharp<br>viability=%{x}<br>percent=%{y}",
         "hovertext": [
          "Bisharp"
         ],
         "legendgroup": "Bisharp",
         "marker": {
          "color": "#636efa"
         },
         "name": "Bisharp",
         "offsetgroup": "Bisharp",
         "orientation": "v",
         "showlegend": true,
         "textposition": "auto",
         "type": "bar",
         "x": [
          "B-"
         ],
         "xaxis": "x",
         "y": [
          1
         ],
         "yaxis": "y"
        },
        {
         "alignmentgroup": "True",
         "hoverlabel": {
          "namelength": 0
         },
         "hovertemplate": "<b>%{hovertext}</b><br><br>pokemon_name=Clefable<br>viability=%{x}<br>percent=%{y}",
         "hovertext": [
          "Clefable"
         ],
         "legendgroup": "Clefable",
         "marker": {
          "color": "#EF553B"
         },
         "name": "Clefable",
         "offsetgroup": "Clefable",
         "orientation": "v",
         "showlegend": true,
         "textposition": "auto",
         "type": "bar",
         "x": [
          "C+"
         ],
         "xaxis": "x",
         "y": [
          1
         ],
         "yaxis": "y"
        },
        {
         "alignmentgroup": "True",
         "hoverlabel": {
          "namelength": 0
         },
         "hovertemplate": "<b>%{hovertext}</b><br><br>pokemon_name=Gigalith<br>viability=%{x}<br>percent=%{y}",
         "hovertext": [
          "Gigalith"
         ],
         "legendgroup": "Gigalith",
         "marker": {
          "color": "#00cc96"
         },
         "name": "Gigalith",
         "offsetgroup": "Gigalith",
         "orientation": "v",
         "showlegend": true,
         "textposition": "auto",
         "type": "bar",
         "x": [
          "C+"
         ],
         "xaxis": "x",
         "y": [
          1
         ],
         "yaxis": "y"
        },
        {
         "alignmentgroup": "True",
         "hoverlabel": {
          "namelength": 0
         },
         "hovertemplate": "<b>%{hovertext}</b><br><br>pokemon_name=Drampa<br>viability=%{x}<br>percent=%{y}",
         "hovertext": [
          "Drampa"
         ],
         "legendgroup": "Drampa",
         "marker": {
          "color": "#ab63fa"
         },
         "name": "Drampa",
         "offsetgroup": "Drampa",
         "orientation": "v",
         "showlegend": true,
         "textposition": "auto",
         "type": "bar",
         "x": [
          "C+"
         ],
         "xaxis": "x",
         "y": [
          1
         ],
         "yaxis": "y"
        },
        {
         "alignmentgroup": "True",
         "hoverlabel": {
          "namelength": 0
         },
         "hovertemplate": "<b>%{hovertext}</b><br><br>pokemon_name=Coalossal<br>viability=%{x}<br>percent=%{y}",
         "hovertext": [
          "Coalossal"
         ],
         "legendgroup": "Coalossal",
         "marker": {
          "color": "#FFA15A"
         },
         "name": "Coalossal",
         "offsetgroup": "Coalossal",
         "orientation": "v",
         "showlegend": true,
         "textposition": "auto",
         "type": "bar",
         "x": [
          "C+"
         ],
         "xaxis": "x",
         "y": [
          1
         ],
         "yaxis": "y"
        },
        {
         "alignmentgroup": "True",
         "hoverlabel": {
          "namelength": 0
         },
         "hovertemplate": "<b>%{hovertext}</b><br><br>pokemon_name=Haxorus<br>viability=%{x}<br>percent=%{y}",
         "hovertext": [
          "Haxorus"
         ],
         "legendgroup": "Haxorus",
         "marker": {
          "color": "#19d3f3"
         },
         "name": "Haxorus",
         "offsetgroup": "Haxorus",
         "orientation": "v",
         "showlegend": true,
         "textposition": "auto",
         "type": "bar",
         "x": [
          "C+"
         ],
         "xaxis": "x",
         "y": [
          1
         ],
         "yaxis": "y"
        },
        {
         "alignmentgroup": "True",
         "hoverlabel": {
          "namelength": 0
         },
         "hovertemplate": "<b>%{hovertext}</b><br><br>pokemon_name=Barraskewda<br>viability=%{x}<br>percent=%{y}",
         "hovertext": [
          "Barraskewda"
         ],
         "legendgroup": "Barraskewda",
         "marker": {
          "color": "#FF6692"
         },
         "name": "Barraskewda",
         "offsetgroup": "Barraskewda",
         "orientation": "v",
         "showlegend": true,
         "textposition": "auto",
         "type": "bar",
         "x": [
          "C+"
         ],
         "xaxis": "x",
         "y": [
          1
         ],
         "yaxis": "y"
        },
        {
         "alignmentgroup": "True",
         "hoverlabel": {
          "namelength": 0
         },
         "hovertemplate": "<b>%{hovertext}</b><br><br>pokemon_name=Aromatisse<br>viability=%{x}<br>percent=%{y}",
         "hovertext": [
          "Aromatisse"
         ],
         "legendgroup": "Aromatisse",
         "marker": {
          "color": "#B6E880"
         },
         "name": "Aromatisse",
         "offsetgroup": "Aromatisse",
         "orientation": "v",
         "showlegend": true,
         "textposition": "auto",
         "type": "bar",
         "x": [
          "C+"
         ],
         "xaxis": "x",
         "y": [
          1
         ],
         "yaxis": "y"
        },
        {
         "alignmentgroup": "True",
         "hoverlabel": {
          "namelength": 0
         },
         "hovertemplate": "<b>%{hovertext}</b><br><br>pokemon_name=Roserade<br>viability=%{x}<br>percent=%{y}",
         "hovertext": [
          "Roserade"
         ],
         "legendgroup": "Roserade",
         "marker": {
          "color": "#FF97FF"
         },
         "name": "Roserade",
         "offsetgroup": "Roserade",
         "orientation": "v",
         "showlegend": true,
         "textposition": "auto",
         "type": "bar",
         "x": [
          "B-"
         ],
         "xaxis": "x",
         "y": [
          1
         ],
         "yaxis": "y"
        },
        {
         "alignmentgroup": "True",
         "hoverlabel": {
          "namelength": 0
         },
         "hovertemplate": "<b>%{hovertext}</b><br><br>pokemon_name=Ninetales<br>viability=%{x}<br>percent=%{y}",
         "hovertext": [
          "Ninetales"
         ],
         "legendgroup": "Ninetales",
         "marker": {
          "color": "#FECB52"
         },
         "name": "Ninetales",
         "offsetgroup": "Ninetales",
         "orientation": "v",
         "showlegend": true,
         "textposition": "auto",
         "type": "bar",
         "x": [
          "C+"
         ],
         "xaxis": "x",
         "y": [
          0
         ],
         "yaxis": "y"
        },
        {
         "alignmentgroup": "True",
         "hoverlabel": {
          "namelength": 0
         },
         "hovertemplate": "<b>%{hovertext}</b><br><br>pokemon_name=Alcremie<br>viability=%{x}<br>percent=%{y}",
         "hovertext": [
          "Alcremie"
         ],
         "legendgroup": "Alcremie",
         "marker": {
          "color": "#636efa"
         },
         "name": "Alcremie",
         "offsetgroup": "Alcremie",
         "orientation": "v",
         "showlegend": true,
         "textposition": "auto",
         "type": "bar",
         "x": [
          "C+"
         ],
         "xaxis": "x",
         "y": [
          0
         ],
         "yaxis": "y"
        },
        {
         "alignmentgroup": "True",
         "hoverlabel": {
          "namelength": 0
         },
         "hovertemplate": "<b>%{hovertext}</b><br><br>pokemon_name=Corsola-Galar<br>viability=%{x}<br>percent=%{y}",
         "hovertext": [
          "Corsola-Galar"
         ],
         "legendgroup": "Corsola-Galar",
         "marker": {
          "color": "#EF553B"
         },
         "name": "Corsola-Galar",
         "offsetgroup": "Corsola-Galar",
         "orientation": "v",
         "showlegend": true,
         "textposition": "auto",
         "type": "bar",
         "x": [
          "B-"
         ],
         "xaxis": "x",
         "y": [
          0
         ],
         "yaxis": "y"
        },
        {
         "alignmentgroup": "True",
         "hoverlabel": {
          "namelength": 0
         },
         "hovertemplate": "<b>%{hovertext}</b><br><br>pokemon_name=Shiinotic<br>viability=%{x}<br>percent=%{y}",
         "hovertext": [
          "Shiinotic"
         ],
         "legendgroup": "Shiinotic",
         "marker": {
          "color": "#00cc96"
         },
         "name": "Shiinotic",
         "offsetgroup": "Shiinotic",
         "orientation": "v",
         "showlegend": true,
         "textposition": "auto",
         "type": "bar",
         "x": [
          "B-"
         ],
         "xaxis": "x",
         "y": [
          0
         ],
         "yaxis": "y"
        },
        {
         "alignmentgroup": "True",
         "hoverlabel": {
          "namelength": 0
         },
         "hovertemplate": "<b>%{hovertext}</b><br><br>pokemon_name=Glaceon<br>viability=%{x}<br>percent=%{y}",
         "hovertext": [
          "Glaceon"
         ],
         "legendgroup": "Glaceon",
         "marker": {
          "color": "#ab63fa"
         },
         "name": "Glaceon",
         "offsetgroup": "Glaceon",
         "orientation": "v",
         "showlegend": true,
         "textposition": "auto",
         "type": "bar",
         "x": [
          "C+"
         ],
         "xaxis": "x",
         "y": [
          0
         ],
         "yaxis": "y"
        },
        {
         "alignmentgroup": "True",
         "hoverlabel": {
          "namelength": 0
         },
         "hovertemplate": "<b>%{hovertext}</b><br><br>pokemon_name=Runerigus<br>viability=%{x}<br>percent=%{y}",
         "hovertext": [
          "Runerigus"
         ],
         "legendgroup": "Runerigus",
         "marker": {
          "color": "#FFA15A"
         },
         "name": "Runerigus",
         "offsetgroup": "Runerigus",
         "orientation": "v",
         "showlegend": true,
         "textposition": "auto",
         "type": "bar",
         "x": [
          "C+"
         ],
         "xaxis": "x",
         "y": [
          0
         ],
         "yaxis": "y"
        },
        {
         "alignmentgroup": "True",
         "hoverlabel": {
          "namelength": 0
         },
         "hovertemplate": "<b>%{hovertext}</b><br><br>pokemon_name=Morpeko<br>viability=%{x}<br>percent=%{y}",
         "hovertext": [
          "Morpeko"
         ],
         "legendgroup": "Morpeko",
         "marker": {
          "color": "#19d3f3"
         },
         "name": "Morpeko",
         "offsetgroup": "Morpeko",
         "orientation": "v",
         "showlegend": true,
         "textposition": "auto",
         "type": "bar",
         "x": [
          "C+"
         ],
         "xaxis": "x",
         "y": [
          0
         ],
         "yaxis": "y"
        },
        {
         "alignmentgroup": "True",
         "hoverlabel": {
          "namelength": 0
         },
         "hovertemplate": "<b>%{hovertext}</b><br><br>pokemon_name=Perrserker<br>viability=%{x}<br>percent=%{y}",
         "hovertext": [
          "Perrserker"
         ],
         "legendgroup": "Perrserker",
         "marker": {
          "color": "#FF6692"
         },
         "name": "Perrserker",
         "offsetgroup": "Perrserker",
         "orientation": "v",
         "showlegend": true,
         "textposition": "auto",
         "type": "bar",
         "x": [
          "B-"
         ],
         "xaxis": "x",
         "y": [
          0
         ],
         "yaxis": "y"
        },
        {
         "alignmentgroup": "True",
         "hoverlabel": {
          "namelength": 0
         },
         "hovertemplate": "<b>%{hovertext}</b><br><br>pokemon_name=Cofagrigus<br>viability=%{x}<br>percent=%{y}",
         "hovertext": [
          "Cofagrigus"
         ],
         "legendgroup": "Cofagrigus",
         "marker": {
          "color": "#B6E880"
         },
         "name": "Cofagrigus",
         "offsetgroup": "Cofagrigus",
         "orientation": "v",
         "showlegend": true,
         "textposition": "auto",
         "type": "bar",
         "x": [
          "C+"
         ],
         "xaxis": "x",
         "y": [
          0
         ],
         "yaxis": "y"
        },
        {
         "alignmentgroup": "True",
         "hoverlabel": {
          "namelength": 0
         },
         "hovertemplate": "<b>%{hovertext}</b><br><br>pokemon_name=Seismitoad<br>viability=%{x}<br>percent=%{y}",
         "hovertext": [
          "Seismitoad"
         ],
         "legendgroup": "Seismitoad",
         "marker": {
          "color": "#FF97FF"
         },
         "name": "Seismitoad",
         "offsetgroup": "Seismitoad",
         "orientation": "v",
         "showlegend": true,
         "textposition": "auto",
         "type": "bar",
         "x": [
          "B-"
         ],
         "xaxis": "x",
         "y": [
          0
         ],
         "yaxis": "y"
        },
        {
         "alignmentgroup": "True",
         "hoverlabel": {
          "namelength": 0
         },
         "hovertemplate": "<b>%{hovertext}</b><br><br>pokemon_name=Musharna<br>viability=%{x}<br>percent=%{y}",
         "hovertext": [
          "Musharna"
         ],
         "legendgroup": "Musharna",
         "marker": {
          "color": "#FECB52"
         },
         "name": "Musharna",
         "offsetgroup": "Musharna",
         "orientation": "v",
         "showlegend": true,
         "textposition": "auto",
         "type": "bar",
         "x": [
          "C+"
         ],
         "xaxis": "x",
         "y": [
          0
         ],
         "yaxis": "y"
        },
        {
         "alignmentgroup": "True",
         "hoverlabel": {
          "namelength": 0
         },
         "hovertemplate": "<b>%{hovertext}</b><br><br>pokemon_name=Centiskorch<br>viability=%{x}<br>percent=%{y}",
         "hovertext": [
          "Centiskorch"
         ],
         "legendgroup": "Centiskorch",
         "marker": {
          "color": "#636efa"
         },
         "name": "Centiskorch",
         "offsetgroup": "Centiskorch",
         "orientation": "v",
         "showlegend": true,
         "textposition": "auto",
         "type": "bar",
         "x": [
          "C"
         ],
         "xaxis": "x",
         "y": [
          0
         ],
         "yaxis": "y"
        },
        {
         "alignmentgroup": "True",
         "hoverlabel": {
          "namelength": 0
         },
         "hovertemplate": "<b>%{hovertext}</b><br><br>pokemon_name=Malamar<br>viability=%{x}<br>percent=%{y}",
         "hovertext": [
          "Malamar"
         ],
         "legendgroup": "Malamar",
         "marker": {
          "color": "#EF553B"
         },
         "name": "Malamar",
         "offsetgroup": "Malamar",
         "orientation": "v",
         "showlegend": true,
         "textposition": "auto",
         "type": "bar",
         "x": [
          "C"
         ],
         "xaxis": "x",
         "y": [
          0
         ],
         "yaxis": "y"
        },
        {
         "alignmentgroup": "True",
         "hoverlabel": {
          "namelength": 0
         },
         "hovertemplate": "<b>%{hovertext}</b><br><br>pokemon_name=Gallade<br>viability=%{x}<br>percent=%{y}",
         "hovertext": [
          "Gallade"
         ],
         "legendgroup": "Gallade",
         "marker": {
          "color": "#00cc96"
         },
         "name": "Gallade",
         "offsetgroup": "Gallade",
         "orientation": "v",
         "showlegend": true,
         "textposition": "auto",
         "type": "bar",
         "x": [
          "C+"
         ],
         "xaxis": "x",
         "y": [
          0
         ],
         "yaxis": "y"
        },
        {
         "alignmentgroup": "True",
         "hoverlabel": {
          "namelength": 0
         },
         "hovertemplate": "<b>%{hovertext}</b><br><br>pokemon_name=Pincurchin<br>viability=%{x}<br>percent=%{y}",
         "hovertext": [
          "Pincurchin"
         ],
         "legendgroup": "Pincurchin",
         "marker": {
          "color": "#ab63fa"
         },
         "name": "Pincurchin",
         "offsetgroup": "Pincurchin",
         "orientation": "v",
         "showlegend": true,
         "textposition": "auto",
         "type": "bar",
         "x": [
          "B-"
         ],
         "xaxis": "x",
         "y": [
          0
         ],
         "yaxis": "y"
        },
        {
         "alignmentgroup": "True",
         "hoverlabel": {
          "namelength": 0
         },
         "hovertemplate": "<b>%{hovertext}</b><br><br>pokemon_name=Gourgeist-Super<br>viability=%{x}<br>percent=%{y}",
         "hovertext": [
          "Gourgeist-Super"
         ],
         "legendgroup": "Gourgeist-Super",
         "marker": {
          "color": "#FFA15A"
         },
         "name": "Gourgeist-Super",
         "offsetgroup": "Gourgeist-Super",
         "orientation": "v",
         "showlegend": true,
         "textposition": "auto",
         "type": "bar",
         "x": [
          "C+"
         ],
         "xaxis": "x",
         "y": [
          0
         ],
         "yaxis": "y"
        },
        {
         "alignmentgroup": "True",
         "hoverlabel": {
          "namelength": 0
         },
         "hovertemplate": "<b>%{hovertext}</b><br><br>pokemon_name=Weavile<br>viability=%{x}<br>percent=%{y}",
         "hovertext": [
          "Weavile"
         ],
         "legendgroup": "Weavile",
         "marker": {
          "color": "#19d3f3"
         },
         "name": "Weavile",
         "offsetgroup": "Weavile",
         "orientation": "v",
         "showlegend": true,
         "textposition": "auto",
         "type": "bar",
         "x": [
          "C"
         ],
         "xaxis": "x",
         "y": [
          0
         ],
         "yaxis": "y"
        },
        {
         "alignmentgroup": "True",
         "hoverlabel": {
          "namelength": 0
         },
         "hovertemplate": "<b>%{hovertext}</b><br><br>pokemon_name=Diggersby<br>viability=%{x}<br>percent=%{y}",
         "hovertext": [
          "Diggersby"
         ],
         "legendgroup": "Diggersby",
         "marker": {
          "color": "#FF6692"
         },
         "name": "Diggersby",
         "offsetgroup": "Diggersby",
         "orientation": "v",
         "showlegend": true,
         "textposition": "auto",
         "type": "bar",
         "x": [
          "C+"
         ],
         "xaxis": "x",
         "y": [
          0
         ],
         "yaxis": "y"
        },
        {
         "alignmentgroup": "True",
         "hoverlabel": {
          "namelength": 0
         },
         "hovertemplate": "<b>%{hovertext}</b><br><br>pokemon_name=Arctozolt<br>viability=%{x}<br>percent=%{y}",
         "hovertext": [
          "Arctozolt"
         ],
         "legendgroup": "Arctozolt",
         "marker": {
          "color": "#B6E880"
         },
         "name": "Arctozolt",
         "offsetgroup": "Arctozolt",
         "orientation": "v",
         "showlegend": true,
         "textposition": "auto",
         "type": "bar",
         "x": [
          "C"
         ],
         "xaxis": "x",
         "y": [
          0
         ],
         "yaxis": "y"
        },
        {
         "alignmentgroup": "True",
         "hoverlabel": {
          "namelength": 0
         },
         "hovertemplate": "<b>%{hovertext}</b><br><br>pokemon_name=Trevenant<br>viability=%{x}<br>percent=%{y}",
         "hovertext": [
          "Trevenant"
         ],
         "legendgroup": "Trevenant",
         "marker": {
          "color": "#FF97FF"
         },
         "name": "Trevenant",
         "offsetgroup": "Trevenant",
         "orientation": "v",
         "showlegend": true,
         "textposition": "auto",
         "type": "bar",
         "x": [
          "C+"
         ],
         "xaxis": "x",
         "y": [
          0
         ],
         "yaxis": "y"
        },
        {
         "alignmentgroup": "True",
         "hoverlabel": {
          "namelength": 0
         },
         "hovertemplate": "<b>%{hovertext}</b><br><br>pokemon_name=Eldegoss<br>viability=%{x}<br>percent=%{y}",
         "hovertext": [
          "Eldegoss"
         ],
         "legendgroup": "Eldegoss",
         "marker": {
          "color": "#FECB52"
         },
         "name": "Eldegoss",
         "offsetgroup": "Eldegoss",
         "orientation": "v",
         "showlegend": true,
         "textposition": "auto",
         "type": "bar",
         "x": [
          "C"
         ],
         "xaxis": "x",
         "y": [
          0
         ],
         "yaxis": "y"
        },
        {
         "alignmentgroup": "True",
         "hoverlabel": {
          "namelength": 0
         },
         "hovertemplate": "<b>%{hovertext}</b><br><br>pokemon_name=Vikavolt<br>viability=%{x}<br>percent=%{y}",
         "hovertext": [
          "Vikavolt"
         ],
         "legendgroup": "Vikavolt",
         "marker": {
          "color": "#636efa"
         },
         "name": "Vikavolt",
         "offsetgroup": "Vikavolt",
         "orientation": "v",
         "showlegend": true,
         "textposition": "auto",
         "type": "bar",
         "x": [
          "C+"
         ],
         "xaxis": "x",
         "y": [
          0
         ],
         "yaxis": "y"
        },
        {
         "alignmentgroup": "True",
         "hoverlabel": {
          "namelength": 0
         },
         "hovertemplate": "<b>%{hovertext}</b><br><br>pokemon_name=Mr. Mime-Galar<br>viability=%{x}<br>percent=%{y}",
         "hovertext": [
          "Mr. Mime-Galar"
         ],
         "legendgroup": "Mr. Mime-Galar",
         "marker": {
          "color": "#EF553B"
         },
         "name": "Mr. Mime-Galar",
         "offsetgroup": "Mr. Mime-Galar",
         "orientation": "v",
         "showlegend": true,
         "textposition": "auto",
         "type": "bar",
         "x": [
          "C+"
         ],
         "xaxis": "x",
         "y": [
          0
         ],
         "yaxis": "y"
        },
        {
         "alignmentgroup": "True",
         "hoverlabel": {
          "namelength": 0
         },
         "hovertemplate": "<b>%{hovertext}</b><br><br>pokemon_name=Stonjourner<br>viability=%{x}<br>percent=%{y}",
         "hovertext": [
          "Stonjourner"
         ],
         "legendgroup": "Stonjourner",
         "marker": {
          "color": "#00cc96"
         },
         "name": "Stonjourner",
         "offsetgroup": "Stonjourner",
         "orientation": "v",
         "showlegend": true,
         "textposition": "auto",
         "type": "bar",
         "x": [
          "C+"
         ],
         "xaxis": "x",
         "y": [
          0
         ],
         "yaxis": "y"
        },
        {
         "alignmentgroup": "True",
         "hoverlabel": {
          "namelength": 0
         },
         "hovertemplate": "<b>%{hovertext}</b><br><br>pokemon_name=Cursola<br>viability=%{x}<br>percent=%{y}",
         "hovertext": [
          "Cursola"
         ],
         "legendgroup": "Cursola",
         "marker": {
          "color": "#ab63fa"
         },
         "name": "Cursola",
         "offsetgroup": "Cursola",
         "orientation": "v",
         "showlegend": true,
         "textposition": "auto",
         "type": "bar",
         "x": [
          "C"
         ],
         "xaxis": "x",
         "y": [
          0
         ],
         "yaxis": "y"
        },
        {
         "alignmentgroup": "True",
         "hoverlabel": {
          "namelength": 0
         },
         "hovertemplate": "<b>%{hovertext}</b><br><br>pokemon_name=Tsareena<br>viability=%{x}<br>percent=%{y}",
         "hovertext": [
          "Tsareena"
         ],
         "legendgroup": "Tsareena",
         "marker": {
          "color": "#FFA15A"
         },
         "name": "Tsareena",
         "offsetgroup": "Tsareena",
         "orientation": "v",
         "showlegend": true,
         "textposition": "auto",
         "type": "bar",
         "x": [
          "C+"
         ],
         "xaxis": "x",
         "y": [
          0
         ],
         "yaxis": "y"
        },
        {
         "alignmentgroup": "True",
         "hoverlabel": {
          "namelength": 0
         },
         "hovertemplate": "<b>%{hovertext}</b><br><br>pokemon_name=Escavalier<br>viability=%{x}<br>percent=%{y}",
         "hovertext": [
          "Escavalier"
         ],
         "legendgroup": "Escavalier",
         "marker": {
          "color": "#19d3f3"
         },
         "name": "Escavalier",
         "offsetgroup": "Escavalier",
         "orientation": "v",
         "showlegend": true,
         "textposition": "auto",
         "type": "bar",
         "x": [
          "C"
         ],
         "xaxis": "x",
         "y": [
          0
         ],
         "yaxis": "y"
        },
        {
         "alignmentgroup": "True",
         "hoverlabel": {
          "namelength": 0
         },
         "hovertemplate": "<b>%{hovertext}</b><br><br>pokemon_name=Copperajah<br>viability=%{x}<br>percent=%{y}",
         "hovertext": [
          "Copperajah"
         ],
         "legendgroup": "Copperajah",
         "marker": {
          "color": "#FF6692"
         },
         "name": "Copperajah",
         "offsetgroup": "Copperajah",
         "orientation": "v",
         "showlegend": true,
         "textposition": "auto",
         "type": "bar",
         "x": [
          "C"
         ],
         "xaxis": "x",
         "y": [
          0
         ],
         "yaxis": "y"
        },
        {
         "alignmentgroup": "True",
         "hoverlabel": {
          "namelength": 0
         },
         "hovertemplate": "<b>%{hovertext}</b><br><br>pokemon_name=Heliolisk<br>viability=%{x}<br>percent=%{y}",
         "hovertext": [
          "Heliolisk"
         ],
         "legendgroup": "Heliolisk",
         "marker": {
          "color": "#B6E880"
         },
         "name": "Heliolisk",
         "offsetgroup": "Heliolisk",
         "orientation": "v",
         "showlegend": true,
         "textposition": "auto",
         "type": "bar",
         "x": [
          "C"
         ],
         "xaxis": "x",
         "y": [
          0
         ],
         "yaxis": "y"
        },
        {
         "alignmentgroup": "True",
         "hoverlabel": {
          "namelength": 0
         },
         "hovertemplate": "<b>%{hovertext}</b><br><br>pokemon_name=Frosmoth<br>viability=%{x}<br>percent=%{y}",
         "hovertext": [
          "Frosmoth"
         ],
         "legendgroup": "Frosmoth",
         "marker": {
          "color": "#FF97FF"
         },
         "name": "Frosmoth",
         "offsetgroup": "Frosmoth",
         "orientation": "v",
         "showlegend": true,
         "textposition": "auto",
         "type": "bar",
         "x": [
          "B-"
         ],
         "xaxis": "x",
         "y": [
          0
         ],
         "yaxis": "y"
        },
        {
         "alignmentgroup": "True",
         "hoverlabel": {
          "namelength": 0
         },
         "hovertemplate": "<b>%{hovertext}</b><br><br>pokemon_name=Leafeon<br>viability=%{x}<br>percent=%{y}",
         "hovertext": [
          "Leafeon"
         ],
         "legendgroup": "Leafeon",
         "marker": {
          "color": "#FECB52"
         },
         "name": "Leafeon",
         "offsetgroup": "Leafeon",
         "orientation": "v",
         "showlegend": true,
         "textposition": "auto",
         "type": "bar",
         "x": [
          "C+"
         ],
         "xaxis": "x",
         "y": [
          0
         ],
         "yaxis": "y"
        },
        {
         "alignmentgroup": "True",
         "hoverlabel": {
          "namelength": 0
         },
         "hovertemplate": "<b>%{hovertext}</b><br><br>pokemon_name=Bellossom<br>viability=%{x}<br>percent=%{y}",
         "hovertext": [
          "Bellossom"
         ],
         "legendgroup": "Bellossom",
         "marker": {
          "color": "#636efa"
         },
         "name": "Bellossom",
         "offsetgroup": "Bellossom",
         "orientation": "v",
         "showlegend": true,
         "textposition": "auto",
         "type": "bar",
         "x": [
          "C+"
         ],
         "xaxis": "x",
         "y": [
          0
         ],
         "yaxis": "y"
        },
        {
         "alignmentgroup": "True",
         "hoverlabel": {
          "namelength": 0
         },
         "hovertemplate": "<b>%{hovertext}</b><br><br>pokemon_name=Flygon<br>viability=%{x}<br>percent=%{y}",
         "hovertext": [
          "Flygon"
         ],
         "legendgroup": "Flygon",
         "marker": {
          "color": "#EF553B"
         },
         "name": "Flygon",
         "offsetgroup": "Flygon",
         "orientation": "v",
         "showlegend": true,
         "textposition": "auto",
         "type": "bar",
         "x": [
          "C+"
         ],
         "xaxis": "x",
         "y": [
          0
         ],
         "yaxis": "y"
        },
        {
         "alignmentgroup": "True",
         "hoverlabel": {
          "namelength": 0
         },
         "hovertemplate": "<b>%{hovertext}</b><br><br>pokemon_name=Claydol<br>viability=%{x}<br>percent=%{y}",
         "hovertext": [
          "Claydol"
         ],
         "legendgroup": "Claydol",
         "marker": {
          "color": "#00cc96"
         },
         "name": "Claydol",
         "offsetgroup": "Claydol",
         "orientation": "v",
         "showlegend": true,
         "textposition": "auto",
         "type": "bar",
         "x": [
          "C"
         ],
         "xaxis": "x",
         "y": [
          0
         ],
         "yaxis": "y"
        },
        {
         "alignmentgroup": "True",
         "hoverlabel": {
          "namelength": 0
         },
         "hovertemplate": "<b>%{hovertext}</b><br><br>pokemon_name=Crawdaunt<br>viability=%{x}<br>percent=%{y}",
         "hovertext": [
          "Crawdaunt"
         ],
         "legendgroup": "Crawdaunt",
         "marker": {
          "color": "#ab63fa"
         },
         "name": "Crawdaunt",
         "offsetgroup": "Crawdaunt",
         "orientation": "v",
         "showlegend": true,
         "textposition": "auto",
         "type": "bar",
         "x": [
          "C+"
         ],
         "xaxis": "x",
         "y": [
          0
         ],
         "yaxis": "y"
        },
        {
         "alignmentgroup": "True",
         "hoverlabel": {
          "namelength": 0
         },
         "hovertemplate": "<b>%{hovertext}</b><br><br>pokemon_name=Mr<br>viability=%{x}<br>percent=%{y}",
         "hovertext": [
          "Mr"
         ],
         "legendgroup": "Mr",
         "marker": {
          "color": "#FFA15A"
         },
         "name": "Mr",
         "offsetgroup": "Mr",
         "orientation": "v",
         "showlegend": true,
         "textposition": "auto",
         "type": "bar",
         "x": [
          "C+"
         ],
         "xaxis": "x",
         "y": [
          null
         ],
         "yaxis": "y"
        },
        {
         "alignmentgroup": "True",
         "hoverlabel": {
          "namelength": 0
         },
         "hovertemplate": "<b>%{hovertext}</b><br><br>pokemon_name=Flapple<br>viability=%{x}<br>percent=%{y}",
         "hovertext": [
          "Flapple"
         ],
         "legendgroup": "Flapple",
         "marker": {
          "color": "#19d3f3"
         },
         "name": "Flapple",
         "offsetgroup": "Flapple",
         "orientation": "v",
         "showlegend": true,
         "textposition": "auto",
         "type": "bar",
         "x": [
          "C"
         ],
         "xaxis": "x",
         "y": [
          0
         ],
         "yaxis": "y"
        },
        {
         "alignmentgroup": "True",
         "hoverlabel": {
          "namelength": 0
         },
         "hovertemplate": "<b>%{hovertext}</b><br><br>pokemon_name=Drednaw<br>viability=%{x}<br>percent=%{y}",
         "hovertext": [
          "Drednaw"
         ],
         "legendgroup": "Drednaw",
         "marker": {
          "color": "#FF6692"
         },
         "name": "Drednaw",
         "offsetgroup": "Drednaw",
         "orientation": "v",
         "showlegend": true,
         "textposition": "auto",
         "type": "bar",
         "x": [
          "C+"
         ],
         "xaxis": "x",
         "y": [
          0
         ],
         "yaxis": "y"
        },
        {
         "alignmentgroup": "True",
         "hoverlabel": {
          "namelength": 0
         },
         "hovertemplate": "<b>%{hovertext}</b><br><br>pokemon_name=Cloyster<br>viability=%{x}<br>percent=%{y}",
         "hovertext": [
          "Cloyster"
         ],
         "legendgroup": "Cloyster",
         "marker": {
          "color": "#B6E880"
         },
         "name": "Cloyster",
         "offsetgroup": "Cloyster",
         "orientation": "v",
         "showlegend": true,
         "textposition": "auto",
         "type": "bar",
         "x": [
          "C"
         ],
         "xaxis": "x",
         "y": [
          0
         ],
         "yaxis": "y"
        },
        {
         "alignmentgroup": "True",
         "hoverlabel": {
          "namelength": 0
         },
         "hovertemplate": "<b>%{hovertext}</b><br><br>pokemon_name=Avalugg<br>viability=%{x}<br>percent=%{y}",
         "hovertext": [
          "Avalugg"
         ],
         "legendgroup": "Avalugg",
         "marker": {
          "color": "#FF97FF"
         },
         "name": "Avalugg",
         "offsetgroup": "Avalugg",
         "orientation": "v",
         "showlegend": true,
         "textposition": "auto",
         "type": "bar",
         "x": [
          "B-"
         ],
         "xaxis": "x",
         "y": [
          0
         ],
         "yaxis": "y"
        },
        {
         "alignmentgroup": "True",
         "hoverlabel": {
          "namelength": 0
         },
         "hovertemplate": "<b>%{hovertext}</b><br><br>pokemon_name=Togetic<br>viability=%{x}<br>percent=%{y}",
         "hovertext": [
          "Togetic"
         ],
         "legendgroup": "Togetic",
         "marker": {
          "color": "#FECB52"
         },
         "name": "Togetic",
         "offsetgroup": "Togetic",
         "orientation": "v",
         "showlegend": true,
         "textposition": "auto",
         "type": "bar",
         "x": [
          "C+"
         ],
         "xaxis": "x",
         "y": [
          0
         ],
         "yaxis": "y"
        },
        {
         "alignmentgroup": "True",
         "hoverlabel": {
          "namelength": 0
         },
         "hovertemplate": "<b>%{hovertext}</b><br><br>pokemon_name=Salazzle<br>viability=%{x}<br>percent=%{y}",
         "hovertext": [
          "Salazzle"
         ],
         "legendgroup": "Salazzle",
         "marker": {
          "color": "#636efa"
         },
         "name": "Salazzle",
         "offsetgroup": "Salazzle",
         "orientation": "v",
         "showlegend": true,
         "textposition": "auto",
         "type": "bar",
         "x": [
          "C+"
         ],
         "xaxis": "x",
         "y": [
          0
         ],
         "yaxis": "y"
        },
        {
         "alignmentgroup": "True",
         "hoverlabel": {
          "namelength": 0
         },
         "hovertemplate": "<b>%{hovertext}</b><br><br>pokemon_name=Drifblim<br>viability=%{x}<br>percent=%{y}",
         "hovertext": [
          "Drifblim"
         ],
         "legendgroup": "Drifblim",
         "marker": {
          "color": "#EF553B"
         },
         "name": "Drifblim",
         "offsetgroup": "Drifblim",
         "orientation": "v",
         "showlegend": true,
         "textposition": "auto",
         "type": "bar",
         "x": [
          "C"
         ],
         "xaxis": "x",
         "y": [
          0
         ],
         "yaxis": "y"
        },
        {
         "alignmentgroup": "True",
         "hoverlabel": {
          "namelength": 0
         },
         "hovertemplate": "<b>%{hovertext}</b><br><br>pokemon_name=Polteageist<br>viability=%{x}<br>percent=%{y}",
         "hovertext": [
          "Polteageist"
         ],
         "legendgroup": "Polteageist",
         "marker": {
          "color": "#00cc96"
         },
         "name": "Polteageist",
         "offsetgroup": "Polteageist",
         "orientation": "v",
         "showlegend": true,
         "textposition": "auto",
         "type": "bar",
         "x": [
          "C"
         ],
         "xaxis": "x",
         "y": [
          0
         ],
         "yaxis": "y"
        },
        {
         "alignmentgroup": "True",
         "hoverlabel": {
          "namelength": 0
         },
         "hovertemplate": "<b>%{hovertext}</b><br><br>pokemon_name=Noivern<br>viability=%{x}<br>percent=%{y}",
         "hovertext": [
          "Noivern"
         ],
         "legendgroup": "Noivern",
         "marker": {
          "color": "#ab63fa"
         },
         "name": "Noivern",
         "offsetgroup": "Noivern",
         "orientation": "v",
         "showlegend": true,
         "textposition": "auto",
         "type": "bar",
         "x": [
          "B-"
         ],
         "xaxis": "x",
         "y": [
          0
         ],
         "yaxis": "y"
        },
        {
         "alignmentgroup": "True",
         "hoverlabel": {
          "namelength": 0
         },
         "hovertemplate": "<b>%{hovertext}</b><br><br>pokemon_name=Beartic<br>viability=%{x}<br>percent=%{y}",
         "hovertext": [
          "Beartic"
         ],
         "legendgroup": "Beartic",
         "marker": {
          "color": "#FFA15A"
         },
         "name": "Beartic",
         "offsetgroup": "Beartic",
         "orientation": "v",
         "showlegend": true,
         "textposition": "auto",
         "type": "bar",
         "x": [
          "C+"
         ],
         "xaxis": "x",
         "y": [
          0
         ],
         "yaxis": "y"
        },
        {
         "alignmentgroup": "True",
         "hoverlabel": {
          "namelength": 0
         },
         "hovertemplate": "<b>%{hovertext}</b><br><br>pokemon_name=Toxapex<br>viability=%{x}<br>percent=%{y}",
         "hovertext": [
          "Toxapex"
         ],
         "legendgroup": "Toxapex",
         "marker": {
          "color": "#19d3f3"
         },
         "name": "Toxapex",
         "offsetgroup": "Toxapex",
         "orientation": "v",
         "showlegend": true,
         "textposition": "auto",
         "type": "bar",
         "x": [
          "C"
         ],
         "xaxis": "x",
         "y": [
          0
         ],
         "yaxis": "y"
        },
        {
         "alignmentgroup": "True",
         "hoverlabel": {
          "namelength": 0
         },
         "hovertemplate": "<b>%{hovertext}</b><br><br>pokemon_name=Machamp<br>viability=%{x}<br>percent=%{y}",
         "hovertext": [
          "Machamp"
         ],
         "legendgroup": "Machamp",
         "marker": {
          "color": "#FF6692"
         },
         "name": "Machamp",
         "offsetgroup": "Machamp",
         "orientation": "v",
         "showlegend": true,
         "textposition": "auto",
         "type": "bar",
         "x": [
          "C"
         ],
         "xaxis": "x",
         "y": [
          0
         ],
         "yaxis": "y"
        },
        {
         "alignmentgroup": "True",
         "hoverlabel": {
          "namelength": 0
         },
         "hovertemplate": "<b>%{hovertext}</b><br><br>pokemon_name=Golisopod<br>viability=%{x}<br>percent=%{y}",
         "hovertext": [
          "Golisopod"
         ],
         "legendgroup": "Golisopod",
         "marker": {
          "color": "#B6E880"
         },
         "name": "Golisopod",
         "offsetgroup": "Golisopod",
         "orientation": "v",
         "showlegend": true,
         "textposition": "auto",
         "type": "bar",
         "x": [
          "C"
         ],
         "xaxis": "x",
         "y": [
          0
         ],
         "yaxis": "y"
        },
        {
         "alignmentgroup": "True",
         "hoverlabel": {
          "namelength": 0
         },
         "hovertemplate": "<b>%{hovertext}</b><br><br>pokemon_name=Accelgor<br>viability=%{x}<br>percent=%{y}",
         "hovertext": [
          "Accelgor"
         ],
         "legendgroup": "Accelgor",
         "marker": {
          "color": "#FF97FF"
         },
         "name": "Accelgor",
         "offsetgroup": "Accelgor",
         "orientation": "v",
         "showlegend": true,
         "textposition": "auto",
         "type": "bar",
         "x": [
          "C"
         ],
         "xaxis": "x",
         "y": [
          0
         ],
         "yaxis": "y"
        },
        {
         "alignmentgroup": "True",
         "hoverlabel": {
          "namelength": 0
         },
         "hovertemplate": "<b>%{hovertext}</b><br><br>pokemon_name=Manectric<br>viability=%{x}<br>percent=%{y}",
         "hovertext": [
          "Manectric"
         ],
         "legendgroup": "Manectric",
         "marker": {
          "color": "#FECB52"
         },
         "name": "Manectric",
         "offsetgroup": "Manectric",
         "orientation": "v",
         "showlegend": true,
         "textposition": "auto",
         "type": "bar",
         "x": [
          "C+"
         ],
         "xaxis": "x",
         "y": [
          0
         ],
         "yaxis": "y"
        },
        {
         "alignmentgroup": "True",
         "hoverlabel": {
          "namelength": 0
         },
         "hovertemplate": "<b>%{hovertext}</b><br><br>pokemon_name=Sawk<br>viability=%{x}<br>percent=%{y}",
         "hovertext": [
          "Sawk"
         ],
         "legendgroup": "Sawk",
         "marker": {
          "color": "#636efa"
         },
         "name": "Sawk",
         "offsetgroup": "Sawk",
         "orientation": "v",
         "showlegend": true,
         "textposition": "auto",
         "type": "bar",
         "x": [
          "C+"
         ],
         "xaxis": "x",
         "y": [
          0
         ],
         "yaxis": "y"
        },
        {
         "alignmentgroup": "True",
         "hoverlabel": {
          "namelength": 0
         },
         "hovertemplate": "<b>%{hovertext}</b><br><br>pokemon_name=Eiscue<br>viability=%{x}<br>percent=%{y}",
         "hovertext": [
          "Eiscue"
         ],
         "legendgroup": "Eiscue",
         "marker": {
          "color": "#EF553B"
         },
         "name": "Eiscue",
         "offsetgroup": "Eiscue",
         "orientation": "v",
         "showlegend": true,
         "textposition": "auto",
         "type": "bar",
         "x": [
          "C+"
         ],
         "xaxis": "x",
         "y": [
          0
         ],
         "yaxis": "y"
        },
        {
         "alignmentgroup": "True",
         "hoverlabel": {
          "namelength": 0
         },
         "hovertemplate": "<b>%{hovertext}</b><br><br>pokemon_name=Falinks<br>viability=%{x}<br>percent=%{y}",
         "hovertext": [
          "Falinks"
         ],
         "legendgroup": "Falinks",
         "marker": {
          "color": "#00cc96"
         },
         "name": "Falinks",
         "offsetgroup": "Falinks",
         "orientation": "v",
         "showlegend": true,
         "textposition": "auto",
         "type": "bar",
         "x": [
          "C"
         ],
         "xaxis": "x",
         "y": [
          0
         ],
         "yaxis": "y"
        },
        {
         "alignmentgroup": "True",
         "hoverlabel": {
          "namelength": 0
         },
         "hovertemplate": "<b>%{hovertext}</b><br><br>pokemon_name=Boltund<br>viability=%{x}<br>percent=%{y}",
         "hovertext": [
          "Boltund"
         ],
         "legendgroup": "Boltund",
         "marker": {
          "color": "#ab63fa"
         },
         "name": "Boltund",
         "offsetgroup": "Boltund",
         "orientation": "v",
         "showlegend": true,
         "textposition": "auto",
         "type": "bar",
         "x": [
          "C+"
         ],
         "xaxis": "x",
         "y": [
          0
         ],
         "yaxis": "y"
        },
        {
         "alignmentgroup": "True",
         "hoverlabel": {
          "namelength": 0
         },
         "hovertemplate": "<b>%{hovertext}</b><br><br>pokemon_name=Steelix<br>viability=%{x}<br>percent=%{y}",
         "hovertext": [
          "Steelix"
         ],
         "legendgroup": "Steelix",
         "marker": {
          "color": "#FFA15A"
         },
         "name": "Steelix",
         "offsetgroup": "Steelix",
         "orientation": "v",
         "showlegend": true,
         "textposition": "auto",
         "type": "bar",
         "x": [
          "C+"
         ],
         "xaxis": "x",
         "y": [
          0
         ],
         "yaxis": "y"
        },
        {
         "alignmentgroup": "True",
         "hoverlabel": {
          "namelength": 0
         },
         "hovertemplate": "<b>%{hovertext}</b><br><br>pokemon_name=Orbeetle<br>viability=%{x}<br>percent=%{y}",
         "hovertext": [
          "Orbeetle"
         ],
         "legendgroup": "Orbeetle",
         "marker": {
          "color": "#19d3f3"
         },
         "name": "Orbeetle",
         "offsetgroup": "Orbeetle",
         "orientation": "v",
         "showlegend": true,
         "textposition": "auto",
         "type": "bar",
         "x": [
          "C"
         ],
         "xaxis": "x",
         "y": [
          0
         ],
         "yaxis": "y"
        },
        {
         "alignmentgroup": "True",
         "hoverlabel": {
          "namelength": 0
         },
         "hovertemplate": "<b>%{hovertext}</b><br><br>pokemon_name=Ditto<br>viability=%{x}<br>percent=%{y}",
         "hovertext": [
          "Ditto"
         ],
         "legendgroup": "Ditto",
         "marker": {
          "color": "#FF6692"
         },
         "name": "Ditto",
         "offsetgroup": "Ditto",
         "orientation": "v",
         "showlegend": true,
         "textposition": "auto",
         "type": "bar",
         "x": [
          "C+"
         ],
         "xaxis": "x",
         "y": [
          0
         ],
         "yaxis": "y"
        },
        {
         "alignmentgroup": "True",
         "hoverlabel": {
          "namelength": 0
         },
         "hovertemplate": "<b>%{hovertext}</b><br><br>pokemon_name=Cramorant<br>viability=%{x}<br>percent=%{y}",
         "hovertext": [
          "Cramorant"
         ],
         "legendgroup": "Cramorant",
         "marker": {
          "color": "#B6E880"
         },
         "name": "Cramorant",
         "offsetgroup": "Cramorant",
         "orientation": "v",
         "showlegend": true,
         "textposition": "auto",
         "type": "bar",
         "x": [
          "C+"
         ],
         "xaxis": "x",
         "y": [
          0
         ],
         "yaxis": "y"
        },
        {
         "alignmentgroup": "True",
         "hoverlabel": {
          "namelength": 0
         },
         "hovertemplate": "<b>%{hovertext}</b><br><br>pokemon_name=Bewear<br>viability=%{x}<br>percent=%{y}",
         "hovertext": [
          "Bewear"
         ],
         "legendgroup": "Bewear",
         "marker": {
          "color": "#FF97FF"
         },
         "name": "Bewear",
         "offsetgroup": "Bewear",
         "orientation": "v",
         "showlegend": true,
         "textposition": "auto",
         "type": "bar",
         "x": [
          "C+"
         ],
         "xaxis": "x",
         "y": [
          0
         ],
         "yaxis": "y"
        },
        {
         "alignmentgroup": "True",
         "hoverlabel": {
          "namelength": 0
         },
         "hovertemplate": "<b>%{hovertext}</b><br><br>pokemon_name=Toxicroak<br>viability=%{x}<br>percent=%{y}",
         "hovertext": [
          "Toxicroak"
         ],
         "legendgroup": "Toxicroak",
         "marker": {
          "color": "#FECB52"
         },
         "name": "Toxicroak",
         "offsetgroup": "Toxicroak",
         "orientation": "v",
         "showlegend": true,
         "textposition": "auto",
         "type": "bar",
         "x": [
          "C"
         ],
         "xaxis": "x",
         "y": [
          0
         ],
         "yaxis": "y"
        },
        {
         "alignmentgroup": "True",
         "hoverlabel": {
          "namelength": 0
         },
         "hovertemplate": "<b>%{hovertext}</b><br><br>pokemon_name=Rotom-Frost<br>viability=%{x}<br>percent=%{y}",
         "hovertext": [
          "Rotom-Frost"
         ],
         "legendgroup": "Rotom-Frost",
         "marker": {
          "color": "#636efa"
         },
         "name": "Rotom-Frost",
         "offsetgroup": "Rotom-Frost",
         "orientation": "v",
         "showlegend": true,
         "textposition": "auto",
         "type": "bar",
         "x": [
          "B-"
         ],
         "xaxis": "x",
         "y": [
          0
         ],
         "yaxis": "y"
        },
        {
         "alignmentgroup": "True",
         "hoverlabel": {
          "namelength": 0
         },
         "hovertemplate": "<b>%{hovertext}</b><br><br>pokemon_name=Galvantula<br>viability=%{x}<br>percent=%{y}",
         "hovertext": [
          "Galvantula"
         ],
         "legendgroup": "Galvantula",
         "marker": {
          "color": "#EF553B"
         },
         "name": "Galvantula",
         "offsetgroup": "Galvantula",
         "orientation": "v",
         "showlegend": true,
         "textposition": "auto",
         "type": "bar",
         "x": [
          "C+"
         ],
         "xaxis": "x",
         "y": [
          0
         ],
         "yaxis": "y"
        },
        {
         "alignmentgroup": "True",
         "hoverlabel": {
          "namelength": 0
         },
         "hovertemplate": "<b>%{hovertext}</b><br><br>pokemon_name=Espeon<br>viability=%{x}<br>percent=%{y}",
         "hovertext": [
          "Espeon"
         ],
         "legendgroup": "Espeon",
         "marker": {
          "color": "#00cc96"
         },
         "name": "Espeon",
         "offsetgroup": "Espeon",
         "orientation": "v",
         "showlegend": true,
         "textposition": "auto",
         "type": "bar",
         "x": [
          "C-"
         ],
         "xaxis": "x",
         "y": [
          0
         ],
         "yaxis": "y"
        },
        {
         "alignmentgroup": "True",
         "hoverlabel": {
          "namelength": 0
         },
         "hovertemplate": "<b>%{hovertext}</b><br><br>pokemon_name=Arctovish<br>viability=%{x}<br>percent=%{y}",
         "hovertext": [
          "Arctovish"
         ],
         "legendgroup": "Arctovish",
         "marker": {
          "color": "#ab63fa"
         },
         "name": "Arctovish",
         "offsetgroup": "Arctovish",
         "orientation": "v",
         "showlegend": true,
         "textposition": "auto",
         "type": "bar",
         "x": [
          "C+"
         ],
         "xaxis": "x",
         "y": [
          0
         ],
         "yaxis": "y"
        },
        {
         "alignmentgroup": "True",
         "hoverlabel": {
          "namelength": 0
         },
         "hovertemplate": "<b>%{hovertext}</b><br><br>pokemon_name=Cherrim<br>viability=%{x}<br>percent=%{y}",
         "hovertext": [
          "Cherrim"
         ],
         "legendgroup": "Cherrim",
         "marker": {
          "color": "#FFA15A"
         },
         "name": "Cherrim",
         "offsetgroup": "Cherrim",
         "orientation": "v",
         "showlegend": true,
         "textposition": "auto",
         "type": "bar",
         "x": [
          "C"
         ],
         "xaxis": "x",
         "y": [
          0
         ],
         "yaxis": "y"
        },
        {
         "alignmentgroup": "True",
         "hoverlabel": {
          "namelength": 0
         },
         "hovertemplate": "<b>%{hovertext}</b><br><br>pokemon_name=Klang<br>viability=%{x}<br>percent=%{y}",
         "hovertext": [
          "Klang"
         ],
         "legendgroup": "Klang",
         "marker": {
          "color": "#19d3f3"
         },
         "name": "Klang",
         "offsetgroup": "Klang",
         "orientation": "v",
         "showlegend": true,
         "textposition": "auto",
         "type": "bar",
         "x": [
          "C+"
         ],
         "xaxis": "x",
         "y": [
          0
         ],
         "yaxis": "y"
        },
        {
         "alignmentgroup": "True",
         "hoverlabel": {
          "namelength": 0
         },
         "hovertemplate": "<b>%{hovertext}</b><br><br>pokemon_name=Klinklang<br>viability=%{x}<br>percent=%{y}",
         "hovertext": [
          "Klinklang"
         ],
         "legendgroup": "Klinklang",
         "marker": {
          "color": "#FF6692"
         },
         "name": "Klinklang",
         "offsetgroup": "Klinklang",
         "orientation": "v",
         "showlegend": true,
         "textposition": "auto",
         "type": "bar",
         "x": [
          "C"
         ],
         "xaxis": "x",
         "y": [
          0
         ],
         "yaxis": "y"
        },
        {
         "alignmentgroup": "True",
         "hoverlabel": {
          "namelength": 0
         },
         "hovertemplate": "<b>%{hovertext}</b><br><br>pokemon_name=Gothorita<br>viability=%{x}<br>percent=%{y}",
         "hovertext": [
          "Gothorita"
         ],
         "legendgroup": "Gothorita",
         "marker": {
          "color": "#B6E880"
         },
         "name": "Gothorita",
         "offsetgroup": "Gothorita",
         "orientation": "v",
         "showlegend": true,
         "textposition": "auto",
         "type": "bar",
         "x": [
          "C+"
         ],
         "xaxis": "x",
         "y": [
          0
         ],
         "yaxis": "y"
        },
        {
         "alignmentgroup": "True",
         "hoverlabel": {
          "namelength": 0
         },
         "hovertemplate": "<b>%{hovertext}</b><br><br>pokemon_name=Grapploct<br>viability=%{x}<br>percent=%{y}",
         "hovertext": [
          "Grapploct"
         ],
         "legendgroup": "Grapploct",
         "marker": {
          "color": "#FF97FF"
         },
         "name": "Grapploct",
         "offsetgroup": "Grapploct",
         "orientation": "v",
         "showlegend": true,
         "textposition": "auto",
         "type": "bar",
         "x": [
          "C"
         ],
         "xaxis": "x",
         "y": [
          0
         ],
         "yaxis": "y"
        },
        {
         "alignmentgroup": "True",
         "hoverlabel": {
          "namelength": 0
         },
         "hovertemplate": "<b>%{hovertext}</b><br><br>pokemon_name=Dubwool<br>viability=%{x}<br>percent=%{y}",
         "hovertext": [
          "Dubwool"
         ],
         "legendgroup": "Dubwool",
         "marker": {
          "color": "#FECB52"
         },
         "name": "Dubwool",
         "offsetgroup": "Dubwool",
         "orientation": "v",
         "showlegend": true,
         "textposition": "auto",
         "type": "bar",
         "x": [
          "C"
         ],
         "xaxis": "x",
         "y": [
          0
         ],
         "yaxis": "y"
        },
        {
         "alignmentgroup": "True",
         "hoverlabel": {
          "namelength": 0
         },
         "hovertemplate": "<b>%{hovertext}</b><br><br>pokemon_name=Quagsire<br>viability=%{x}<br>percent=%{y}",
         "hovertext": [
          "Quagsire"
         ],
         "legendgroup": "Quagsire",
         "marker": {
          "color": "#636efa"
         },
         "name": "Quagsire",
         "offsetgroup": "Quagsire",
         "orientation": "v",
         "showlegend": true,
         "textposition": "auto",
         "type": "bar",
         "x": [
          "C"
         ],
         "xaxis": "x",
         "y": [
          0
         ],
         "yaxis": "y"
        },
        {
         "alignmentgroup": "True",
         "hoverlabel": {
          "namelength": 0
         },
         "hovertemplate": "<b>%{hovertext}</b><br><br>pokemon_name=Silvally-Ground<br>viability=%{x}<br>percent=%{y}",
         "hovertext": [
          "Silvally-Ground"
         ],
         "legendgroup": "Silvally-Ground",
         "marker": {
          "color": "#EF553B"
         },
         "name": "Silvally-Ground",
         "offsetgroup": "Silvally-Ground",
         "orientation": "v",
         "showlegend": true,
         "textposition": "auto",
         "type": "bar",
         "x": [
          "C+"
         ],
         "xaxis": "x",
         "y": [
          0
         ],
         "yaxis": "y"
        },
        {
         "alignmentgroup": "True",
         "hoverlabel": {
          "namelength": 0
         },
         "hovertemplate": "<b>%{hovertext}</b><br><br>pokemon_name=Thievul<br>viability=%{x}<br>percent=%{y}",
         "hovertext": [
          "Thievul"
         ],
         "legendgroup": "Thievul",
         "marker": {
          "color": "#00cc96"
         },
         "name": "Thievul",
         "offsetgroup": "Thievul",
         "orientation": "v",
         "showlegend": true,
         "textposition": "auto",
         "type": "bar",
         "x": [
          "C"
         ],
         "xaxis": "x",
         "y": [
          0
         ],
         "yaxis": "y"
        },
        {
         "alignmentgroup": "True",
         "hoverlabel": {
          "namelength": 0
         },
         "hovertemplate": "<b>%{hovertext}</b><br><br>pokemon_name=Basculin<br>viability=%{x}<br>percent=%{y}",
         "hovertext": [
          "Basculin"
         ],
         "legendgroup": "Basculin",
         "marker": {
          "color": "#ab63fa"
         },
         "name": "Basculin",
         "offsetgroup": "Basculin",
         "orientation": "v",
         "showlegend": true,
         "textposition": "auto",
         "type": "bar",
         "x": [
          "C+"
         ],
         "xaxis": "x",
         "y": [
          0
         ],
         "yaxis": "y"
        },
        {
         "alignmentgroup": "True",
         "hoverlabel": {
          "namelength": 0
         },
         "hovertemplate": "<b>%{hovertext}</b><br><br>pokemon_name=Mantine<br>viability=%{x}<br>percent=%{y}",
         "hovertext": [
          "Mantine"
         ],
         "legendgroup": "Mantine",
         "marker": {
          "color": "#FFA15A"
         },
         "name": "Mantine",
         "offsetgroup": "Mantine",
         "orientation": "v",
         "showlegend": true,
         "textposition": "auto",
         "type": "bar",
         "x": [
          "C"
         ],
         "xaxis": "x",
         "y": [
          0
         ],
         "yaxis": "y"
        },
        {
         "alignmentgroup": "True",
         "hoverlabel": {
          "namelength": 0
         },
         "hovertemplate": "<b>%{hovertext}</b><br><br>pokemon_name=Jolteon<br>viability=%{x}<br>percent=%{y}",
         "hovertext": [
          "Jolteon"
         ],
         "legendgroup": "Jolteon",
         "marker": {
          "color": "#19d3f3"
         },
         "name": "Jolteon",
         "offsetgroup": "Jolteon",
         "orientation": "v",
         "showlegend": true,
         "textposition": "auto",
         "type": "bar",
         "x": [
          "C"
         ],
         "xaxis": "x",
         "y": [
          0
         ],
         "yaxis": "y"
        },
        {
         "alignmentgroup": "True",
         "hoverlabel": {
          "namelength": 0
         },
         "hovertemplate": "<b>%{hovertext}</b><br><br>pokemon_name=Drapion<br>viability=%{x}<br>percent=%{y}",
         "hovertext": [
          "Drapion"
         ],
         "legendgroup": "Drapion",
         "marker": {
          "color": "#FF6692"
         },
         "name": "Drapion",
         "offsetgroup": "Drapion",
         "orientation": "v",
         "showlegend": true,
         "textposition": "auto",
         "type": "bar",
         "x": [
          "C+"
         ],
         "xaxis": "x",
         "y": [
          0
         ],
         "yaxis": "y"
        },
        {
         "alignmentgroup": "True",
         "hoverlabel": {
          "namelength": 0
         },
         "hovertemplate": "<b>%{hovertext}</b><br><br>pokemon_name=Rhydon<br>viability=%{x}<br>percent=%{y}",
         "hovertext": [
          "Rhydon"
         ],
         "legendgroup": "Rhydon",
         "marker": {
          "color": "#B6E880"
         },
         "name": "Rhydon",
         "offsetgroup": "Rhydon",
         "orientation": "v",
         "showlegend": true,
         "textposition": "auto",
         "type": "bar",
         "x": [
          "C"
         ],
         "xaxis": "x",
         "y": [
          0
         ],
         "yaxis": "y"
        },
        {
         "alignmentgroup": "True",
         "hoverlabel": {
          "namelength": 0
         },
         "hovertemplate": "<b>%{hovertext}</b><br><br>pokemon_name=Dugtrio<br>viability=%{x}<br>percent=%{y}",
         "hovertext": [
          "Dugtrio"
         ],
         "legendgroup": "Dugtrio",
         "marker": {
          "color": "#FF97FF"
         },
         "name": "Dugtrio",
         "offsetgroup": "Dugtrio",
         "orientation": "v",
         "showlegend": true,
         "textposition": "auto",
         "type": "bar",
         "x": [
          "C"
         ],
         "xaxis": "x",
         "y": [
          0
         ],
         "yaxis": "y"
        },
        {
         "alignmentgroup": "True",
         "hoverlabel": {
          "namelength": 0
         },
         "hovertemplate": "<b>%{hovertext}</b><br><br>pokemon_name=Silvally-Grass<br>viability=%{x}<br>percent=%{y}",
         "hovertext": [
          "Silvally-Grass"
         ],
         "legendgroup": "Silvally-Grass",
         "marker": {
          "color": "#FECB52"
         },
         "name": "Silvally-Grass",
         "offsetgroup": "Silvally-Grass",
         "orientation": "v",
         "showlegend": true,
         "textposition": "auto",
         "type": "bar",
         "x": [
          "C"
         ],
         "xaxis": "x",
         "y": [
          0
         ],
         "yaxis": "y"
        },
        {
         "alignmentgroup": "True",
         "hoverlabel": {
          "namelength": 0
         },
         "hovertemplate": "<b>%{hovertext}</b><br><br>pokemon_name=Shiftry<br>viability=%{x}<br>percent=%{y}",
         "hovertext": [
          "Shiftry"
         ],
         "legendgroup": "Shiftry",
         "marker": {
          "color": "#636efa"
         },
         "name": "Shiftry",
         "offsetgroup": "Shiftry",
         "orientation": "v",
         "showlegend": true,
         "textposition": "auto",
         "type": "bar",
         "x": [
          "C"
         ],
         "xaxis": "x",
         "y": [
          0
         ],
         "yaxis": "y"
        },
        {
         "alignmentgroup": "True",
         "hoverlabel": {
          "namelength": 0
         },
         "hovertemplate": "<b>%{hovertext}</b><br><br>pokemon_name=Froslass<br>viability=%{x}<br>percent=%{y}",
         "hovertext": [
          "Froslass"
         ],
         "legendgroup": "Froslass",
         "marker": {
          "color": "#EF553B"
         },
         "name": "Froslass",
         "offsetgroup": "Froslass",
         "orientation": "v",
         "showlegend": true,
         "textposition": "auto",
         "type": "bar",
         "x": [
          "C+"
         ],
         "xaxis": "x",
         "y": [
          0
         ],
         "yaxis": "y"
        },
        {
         "alignmentgroup": "True",
         "hoverlabel": {
          "namelength": 0
         },
         "hovertemplate": "<b>%{hovertext}</b><br><br>pokemon_name=Vaporeon<br>viability=%{x}<br>percent=%{y}",
         "hovertext": [
          "Vaporeon"
         ],
         "legendgroup": "Vaporeon",
         "marker": {
          "color": "#00cc96"
         },
         "name": "Vaporeon",
         "offsetgroup": "Vaporeon",
         "orientation": "v",
         "showlegend": true,
         "textposition": "auto",
         "type": "bar",
         "x": [
          "C+"
         ],
         "xaxis": "x",
         "y": [
          0
         ],
         "yaxis": "y"
        },
        {
         "alignmentgroup": "True",
         "hoverlabel": {
          "namelength": 0
         },
         "hovertemplate": "<b>%{hovertext}</b><br><br>pokemon_name=Cinccino<br>viability=%{x}<br>percent=%{y}",
         "hovertext": [
          "Cinccino"
         ],
         "legendgroup": "Cinccino",
         "marker": {
          "color": "#ab63fa"
         },
         "name": "Cinccino",
         "offsetgroup": "Cinccino",
         "orientation": "v",
         "showlegend": true,
         "textposition": "auto",
         "type": "bar",
         "x": [
          "C"
         ],
         "xaxis": "x",
         "y": [
          0
         ],
         "yaxis": "y"
        },
        {
         "alignmentgroup": "True",
         "hoverlabel": {
          "namelength": 0
         },
         "hovertemplate": "<b>%{hovertext}</b><br><br>pokemon_name=Octillery<br>viability=%{x}<br>percent=%{y}",
         "hovertext": [
          "Octillery"
         ],
         "legendgroup": "Octillery",
         "marker": {
          "color": "#FFA15A"
         },
         "name": "Octillery",
         "offsetgroup": "Octillery",
         "orientation": "v",
         "showlegend": true,
         "textposition": "auto",
         "type": "bar",
         "x": [
          "C"
         ],
         "xaxis": "x",
         "y": [
          0
         ],
         "yaxis": "y"
        },
        {
         "alignmentgroup": "True",
         "hoverlabel": {
          "namelength": 0
         },
         "hovertemplate": "<b>%{hovertext}</b><br><br>pokemon_name=Dottler<br>viability=%{x}<br>percent=%{y}",
         "hovertext": [
          "Dottler"
         ],
         "legendgroup": "Dottler",
         "marker": {
          "color": "#19d3f3"
         },
         "name": "Dottler",
         "offsetgroup": "Dottler",
         "orientation": "v",
         "showlegend": true,
         "textposition": "auto",
         "type": "bar",
         "x": [
          "C+"
         ],
         "xaxis": "x",
         "y": [
          0
         ],
         "yaxis": "y"
        },
        {
         "alignmentgroup": "True",
         "hoverlabel": {
          "namelength": 0
         },
         "hovertemplate": "<b>%{hovertext}</b><br><br>pokemon_name=Dusknoir<br>viability=%{x}<br>percent=%{y}",
         "hovertext": [
          "Dusknoir"
         ],
         "legendgroup": "Dusknoir",
         "marker": {
          "color": "#FF6692"
         },
         "name": "Dusknoir",
         "offsetgroup": "Dusknoir",
         "orientation": "v",
         "showlegend": true,
         "textposition": "auto",
         "type": "bar",
         "x": [
          "C+"
         ],
         "xaxis": "x",
         "y": [
          0
         ],
         "yaxis": "y"
        },
        {
         "alignmentgroup": "True",
         "hoverlabel": {
          "namelength": 0
         },
         "hovertemplate": "<b>%{hovertext}</b><br><br>pokemon_name=Rapidash-Galar<br>viability=%{x}<br>percent=%{y}",
         "hovertext": [
          "Rapidash-Galar"
         ],
         "legendgroup": "Rapidash-Galar",
         "marker": {
          "color": "#B6E880"
         },
         "name": "Rapidash-Galar",
         "offsetgroup": "Rapidash-Galar",
         "orientation": "v",
         "showlegend": true,
         "textposition": "auto",
         "type": "bar",
         "x": [
          "C-"
         ],
         "xaxis": "x",
         "y": [
          0
         ],
         "yaxis": "y"
        },
        {
         "alignmentgroup": "True",
         "hoverlabel": {
          "namelength": 0
         },
         "hovertemplate": "<b>%{hovertext}</b><br><br>pokemon_name=Delibird<br>viability=%{x}<br>percent=%{y}",
         "hovertext": [
          "Delibird"
         ],
         "legendgroup": "Delibird",
         "marker": {
          "color": "#FF97FF"
         },
         "name": "Delibird",
         "offsetgroup": "Delibird",
         "orientation": "v",
         "showlegend": true,
         "textposition": "auto",
         "type": "bar",
         "x": [
          "C"
         ],
         "xaxis": "x",
         "y": [
          0
         ],
         "yaxis": "y"
        },
        {
         "alignmentgroup": "True",
         "hoverlabel": {
          "namelength": 0
         },
         "hovertemplate": "<b>%{hovertext}</b><br><br>pokemon_name=Wishiwashi<br>viability=%{x}<br>percent=%{y}",
         "hovertext": [
          "Wishiwashi"
         ],
         "legendgroup": "Wishiwashi",
         "marker": {
          "color": "#FECB52"
         },
         "name": "Wishiwashi",
         "offsetgroup": "Wishiwashi",
         "orientation": "v",
         "showlegend": true,
         "textposition": "auto",
         "type": "bar",
         "x": [
          "C"
         ],
         "xaxis": "x",
         "y": [
          0
         ],
         "yaxis": "y"
        },
        {
         "alignmentgroup": "True",
         "hoverlabel": {
          "namelength": 0
         },
         "hovertemplate": "<b>%{hovertext}</b><br><br>pokemon_name=Wailord<br>viability=%{x}<br>percent=%{y}",
         "hovertext": [
          "Wailord"
         ],
         "legendgroup": "Wailord",
         "marker": {
          "color": "#636efa"
         },
         "name": "Wailord",
         "offsetgroup": "Wailord",
         "orientation": "v",
         "showlegend": true,
         "textposition": "auto",
         "type": "bar",
         "x": [
          "C-"
         ],
         "xaxis": "x",
         "y": [
          0
         ],
         "yaxis": "y"
        },
        {
         "alignmentgroup": "True",
         "hoverlabel": {
          "namelength": 0
         },
         "hovertemplate": "<b>%{hovertext}</b><br><br>pokemon_name=Kingler<br>viability=%{x}<br>percent=%{y}",
         "hovertext": [
          "Kingler"
         ],
         "legendgroup": "Kingler",
         "marker": {
          "color": "#EF553B"
         },
         "name": "Kingler",
         "offsetgroup": "Kingler",
         "orientation": "v",
         "showlegend": true,
         "textposition": "auto",
         "type": "bar",
         "x": [
          "C"
         ],
         "xaxis": "x",
         "y": [
          0
         ],
         "yaxis": "y"
        },
        {
         "alignmentgroup": "True",
         "hoverlabel": {
          "namelength": 0
         },
         "hovertemplate": "<b>%{hovertext}</b><br><br>pokemon_name=Gourgeist-Small<br>viability=%{x}<br>percent=%{y}",
         "hovertext": [
          "Gourgeist-Small"
         ],
         "legendgroup": "Gourgeist-Small",
         "marker": {
          "color": "#00cc96"
         },
         "name": "Gourgeist-Small",
         "offsetgroup": "Gourgeist-Small",
         "orientation": "v",
         "showlegend": true,
         "textposition": "auto",
         "type": "bar",
         "x": [
          "C+"
         ],
         "xaxis": "x",
         "y": [
          0
         ],
         "yaxis": "y"
        },
        {
         "alignmentgroup": "True",
         "hoverlabel": {
          "namelength": 0
         },
         "hovertemplate": "<b>%{hovertext}</b><br><br>pokemon_name=Silvally-Fighting<br>viability=%{x}<br>percent=%{y}",
         "hovertext": [
          "Silvally-Fighting"
         ],
         "legendgroup": "Silvally-Fighting",
         "marker": {
          "color": "#ab63fa"
         },
         "name": "Silvally-Fighting",
         "offsetgroup": "Silvally-Fighting",
         "orientation": "v",
         "showlegend": true,
         "textposition": "auto",
         "type": "bar",
         "x": [
          "C"
         ],
         "xaxis": "x",
         "y": [
          0
         ],
         "yaxis": "y"
        },
        {
         "alignmentgroup": "True",
         "hoverlabel": {
          "namelength": 0
         },
         "hovertemplate": "<b>%{hovertext}</b><br><br>pokemon_name=Beheeyem<br>viability=%{x}<br>percent=%{y}",
         "hovertext": [
          "Beheeyem"
         ],
         "legendgroup": "Beheeyem",
         "marker": {
          "color": "#FFA15A"
         },
         "name": "Beheeyem",
         "offsetgroup": "Beheeyem",
         "orientation": "v",
         "showlegend": true,
         "textposition": "auto",
         "type": "bar",
         "x": [
          "C+"
         ],
         "xaxis": "x",
         "y": [
          0
         ],
         "yaxis": "y"
        },
        {
         "alignmentgroup": "True",
         "hoverlabel": {
          "namelength": 0
         },
         "hovertemplate": "<b>%{hovertext}</b><br><br>pokemon_name=Glalie<br>viability=%{x}<br>percent=%{y}",
         "hovertext": [
          "Glalie"
         ],
         "legendgroup": "Glalie",
         "marker": {
          "color": "#19d3f3"
         },
         "name": "Glalie",
         "offsetgroup": "Glalie",
         "orientation": "v",
         "showlegend": true,
         "textposition": "auto",
         "type": "bar",
         "x": [
          "B-"
         ],
         "xaxis": "x",
         "y": [
          0
         ],
         "yaxis": "y"
        },
        {
         "alignmentgroup": "True",
         "hoverlabel": {
          "namelength": 0
         },
         "hovertemplate": "<b>%{hovertext}</b><br><br>pokemon_name=Shuckle<br>viability=%{x}<br>percent=%{y}",
         "hovertext": [
          "Shuckle"
         ],
         "legendgroup": "Shuckle",
         "marker": {
          "color": "#FF6692"
         },
         "name": "Shuckle",
         "offsetgroup": "Shuckle",
         "orientation": "v",
         "showlegend": true,
         "textposition": "auto",
         "type": "bar",
         "x": [
          "C-"
         ],
         "xaxis": "x",
         "y": [
          0
         ],
         "yaxis": "y"
        },
        {
         "alignmentgroup": "True",
         "hoverlabel": {
          "namelength": 0
         },
         "hovertemplate": "<b>%{hovertext}</b><br><br>pokemon_name=Rotom-Fan<br>viability=%{x}<br>percent=%{y}",
         "hovertext": [
          "Rotom-Fan"
         ],
         "legendgroup": "Rotom-Fan",
         "marker": {
          "color": "#B6E880"
         },
         "name": "Rotom-Fan",
         "offsetgroup": "Rotom-Fan",
         "orientation": "v",
         "showlegend": true,
         "textposition": "auto",
         "type": "bar",
         "x": [
          "C"
         ],
         "xaxis": "x",
         "y": [
          0
         ],
         "yaxis": "y"
        },
        {
         "alignmentgroup": "True",
         "hoverlabel": {
          "namelength": 0
         },
         "hovertemplate": "<b>%{hovertext}</b><br><br>pokemon_name=Silvally-Electric<br>viability=%{x}<br>percent=%{y}",
         "hovertext": [
          "Silvally-Electric"
         ],
         "legendgroup": "Silvally-Electric",
         "marker": {
          "color": "#FF97FF"
         },
         "name": "Silvally-Electric",
         "offsetgroup": "Silvally-Electric",
         "orientation": "v",
         "showlegend": true,
         "textposition": "auto",
         "type": "bar",
         "x": [
          "C"
         ],
         "xaxis": "x",
         "y": [
          0
         ],
         "yaxis": "y"
        },
        {
         "alignmentgroup": "True",
         "hoverlabel": {
          "namelength": 0
         },
         "hovertemplate": "<b>%{hovertext}</b><br><br>pokemon_name=Clefairy<br>viability=%{x}<br>percent=%{y}",
         "hovertext": [
          "Clefairy"
         ],
         "legendgroup": "Clefairy",
         "marker": {
          "color": "#FECB52"
         },
         "name": "Clefairy",
         "offsetgroup": "Clefairy",
         "orientation": "v",
         "showlegend": true,
         "textposition": "auto",
         "type": "bar",
         "x": [
          "C-"
         ],
         "xaxis": "x",
         "y": [
          0
         ],
         "yaxis": "y"
        },
        {
         "alignmentgroup": "True",
         "hoverlabel": {
          "namelength": 0
         },
         "hovertemplate": "<b>%{hovertext}</b><br><br>pokemon_name=Riolu<br>viability=%{x}<br>percent=%{y}",
         "hovertext": [
          "Riolu"
         ],
         "legendgroup": "Riolu",
         "marker": {
          "color": "#636efa"
         },
         "name": "Riolu",
         "offsetgroup": "Riolu",
         "orientation": "v",
         "showlegend": true,
         "textposition": "auto",
         "type": "bar",
         "x": [
          "C"
         ],
         "xaxis": "x",
         "y": [
          0
         ],
         "yaxis": "y"
        },
        {
         "alignmentgroup": "True",
         "hoverlabel": {
          "namelength": 0
         },
         "hovertemplate": "<b>%{hovertext}</b><br><br>pokemon_name=Turtonator<br>viability=%{x}<br>percent=%{y}",
         "hovertext": [
          "Turtonator"
         ],
         "legendgroup": "Turtonator",
         "marker": {
          "color": "#EF553B"
         },
         "name": "Turtonator",
         "offsetgroup": "Turtonator",
         "orientation": "v",
         "showlegend": true,
         "textposition": "auto",
         "type": "bar",
         "x": [
          "C-"
         ],
         "xaxis": "x",
         "y": [
          0
         ],
         "yaxis": "y"
        },
        {
         "alignmentgroup": "True",
         "hoverlabel": {
          "namelength": 0
         },
         "hovertemplate": "<b>%{hovertext}</b><br><br>pokemon_name=Doublade<br>viability=%{x}<br>percent=%{y}",
         "hovertext": [
          "Doublade"
         ],
         "legendgroup": "Doublade",
         "marker": {
          "color": "#00cc96"
         },
         "name": "Doublade",
         "offsetgroup": "Doublade",
         "orientation": "v",
         "showlegend": true,
         "textposition": "auto",
         "type": "bar",
         "x": [
          "C-"
         ],
         "xaxis": "x",
         "y": [
          0
         ],
         "yaxis": "y"
        },
        {
         "alignmentgroup": "True",
         "hoverlabel": {
          "namelength": 0
         },
         "hovertemplate": "<b>%{hovertext}</b><br><br>pokemon_name=Xatu<br>viability=%{x}<br>percent=%{y}",
         "hovertext": [
          "Xatu"
         ],
         "legendgroup": "Xatu",
         "marker": {
          "color": "#ab63fa"
         },
         "name": "Xatu",
         "offsetgroup": "Xatu",
         "orientation": "v",
         "showlegend": true,
         "textposition": "auto",
         "type": "bar",
         "x": [
          "C"
         ],
         "xaxis": "x",
         "y": [
          0
         ],
         "yaxis": "y"
        },
        {
         "alignmentgroup": "True",
         "hoverlabel": {
          "namelength": 0
         },
         "hovertemplate": "<b>%{hovertext}</b><br><br>pokemon_name=Hitmonlee<br>viability=%{x}<br>percent=%{y}",
         "hovertext": [
          "Hitmonlee"
         ],
         "legendgroup": "Hitmonlee",
         "marker": {
          "color": "#FFA15A"
         },
         "name": "Hitmonlee",
         "offsetgroup": "Hitmonlee",
         "orientation": "v",
         "showlegend": true,
         "textposition": "auto",
         "type": "bar",
         "x": [
          "C"
         ],
         "xaxis": "x",
         "y": [
          0
         ],
         "yaxis": "y"
        },
        {
         "alignmentgroup": "True",
         "hoverlabel": {
          "namelength": 0
         },
         "hovertemplate": "<b>%{hovertext}</b><br><br>pokemon_name=Silvally-Water<br>viability=%{x}<br>percent=%{y}",
         "hovertext": [
          "Silvally-Water"
         ],
         "legendgroup": "Silvally-Water",
         "marker": {
          "color": "#19d3f3"
         },
         "name": "Silvally-Water",
         "offsetgroup": "Silvally-Water",
         "orientation": "v",
         "showlegend": true,
         "textposition": "auto",
         "type": "bar",
         "x": [
          "C+"
         ],
         "xaxis": "x",
         "y": [
          0
         ],
         "yaxis": "y"
        },
        {
         "alignmentgroup": "True",
         "hoverlabel": {
          "namelength": 0
         },
         "hovertemplate": "<b>%{hovertext}</b><br><br>pokemon_name=Charjabug<br>viability=%{x}<br>percent=%{y}",
         "hovertext": [
          "Charjabug"
         ],
         "legendgroup": "Charjabug",
         "marker": {
          "color": "#FF6692"
         },
         "name": "Charjabug",
         "offsetgroup": "Charjabug",
         "orientation": "v",
         "showlegend": true,
         "textposition": "auto",
         "type": "bar",
         "x": [
          "C+"
         ],
         "xaxis": "x",
         "y": [
          0
         ],
         "yaxis": "y"
        },
        {
         "alignmentgroup": "True",
         "hoverlabel": {
          "namelength": 0
         },
         "hovertemplate": "<b>%{hovertext}</b><br><br>pokemon_name=Maractus<br>viability=%{x}<br>percent=%{y}",
         "hovertext": [
          "Maractus"
         ],
         "legendgroup": "Maractus",
         "marker": {
          "color": "#B6E880"
         },
         "name": "Maractus",
         "offsetgroup": "Maractus",
         "orientation": "v",
         "showlegend": true,
         "textposition": "auto",
         "type": "bar",
         "x": [
          "C"
         ],
         "xaxis": "x",
         "y": [
          0
         ],
         "yaxis": "y"
        },
        {
         "alignmentgroup": "True",
         "hoverlabel": {
          "namelength": 0
         },
         "hovertemplate": "<b>%{hovertext}</b><br><br>pokemon_name=Type: Null<br>viability=%{x}<br>percent=%{y}",
         "hovertext": [
          "Type: Null"
         ],
         "legendgroup": "Type: Null",
         "marker": {
          "color": "#FF97FF"
         },
         "name": "Type: Null",
         "offsetgroup": "Type: Null",
         "orientation": "v",
         "showlegend": true,
         "textposition": "auto",
         "type": "bar",
         "x": [
          "C+"
         ],
         "xaxis": "x",
         "y": [
          0
         ],
         "yaxis": "y"
        },
        {
         "alignmentgroup": "True",
         "hoverlabel": {
          "namelength": 0
         },
         "hovertemplate": "<b>%{hovertext}</b><br><br>pokemon_name=Shedinja<br>viability=%{x}<br>percent=%{y}",
         "hovertext": [
          "Shedinja"
         ],
         "legendgroup": "Shedinja",
         "marker": {
          "color": "#FECB52"
         },
         "name": "Shedinja",
         "offsetgroup": "Shedinja",
         "orientation": "v",
         "showlegend": true,
         "textposition": "auto",
         "type": "bar",
         "x": [
          "D+"
         ],
         "xaxis": "x",
         "y": [
          0
         ],
         "yaxis": "y"
        },
        {
         "alignmentgroup": "True",
         "hoverlabel": {
          "namelength": 0
         },
         "hovertemplate": "<b>%{hovertext}</b><br><br>pokemon_name=Hitmonchan<br>viability=%{x}<br>percent=%{y}",
         "hovertext": [
          "Hitmonchan"
         ],
         "legendgroup": "Hitmonchan",
         "marker": {
          "color": "#636efa"
         },
         "name": "Hitmonchan",
         "offsetgroup": "Hitmonchan",
         "orientation": "v",
         "showlegend": true,
         "textposition": "auto",
         "type": "bar",
         "x": [
          "C"
         ],
         "xaxis": "x",
         "y": [
          0
         ],
         "yaxis": "y"
        },
        {
         "alignmentgroup": "True",
         "hoverlabel": {
          "namelength": 0
         },
         "hovertemplate": "<b>%{hovertext}</b><br><br>pokemon_name=Swoobat<br>viability=%{x}<br>percent=%{y}",
         "hovertext": [
          "Swoobat"
         ],
         "legendgroup": "Swoobat",
         "marker": {
          "color": "#EF553B"
         },
         "name": "Swoobat",
         "offsetgroup": "Swoobat",
         "orientation": "v",
         "showlegend": true,
         "textposition": "auto",
         "type": "bar",
         "x": [
          "C-"
         ],
         "xaxis": "x",
         "y": [
          0
         ],
         "yaxis": "y"
        },
        {
         "alignmentgroup": "True",
         "hoverlabel": {
          "namelength": 0
         },
         "hovertemplate": "<b>%{hovertext}</b><br><br>pokemon_name=Gloom<br>viability=%{x}<br>percent=%{y}",
         "hovertext": [
          "Gloom"
         ],
         "legendgroup": "Gloom",
         "marker": {
          "color": "#00cc96"
         },
         "name": "Gloom",
         "offsetgroup": "Gloom",
         "orientation": "v",
         "showlegend": true,
         "textposition": "auto",
         "type": "bar",
         "x": [
          "C+"
         ],
         "xaxis": "x",
         "y": [
          0
         ],
         "yaxis": "y"
        },
        {
         "alignmentgroup": "True",
         "hoverlabel": {
          "namelength": 0
         },
         "hovertemplate": "<b>%{hovertext}</b><br><br>pokemon_name=Whiscash<br>viability=%{x}<br>percent=%{y}",
         "hovertext": [
          "Whiscash"
         ],
         "legendgroup": "Whiscash",
         "marker": {
          "color": "#ab63fa"
         },
         "name": "Whiscash",
         "offsetgroup": "Whiscash",
         "orientation": "v",
         "showlegend": true,
         "textposition": "auto",
         "type": "bar",
         "x": [
          "C"
         ],
         "xaxis": "x",
         "y": [
          0
         ],
         "yaxis": "y"
        },
        {
         "alignmentgroup": "True",
         "hoverlabel": {
          "namelength": 0
         },
         "hovertemplate": "<b>%{hovertext}</b><br><br>pokemon_name=Sneasel<br>viability=%{x}<br>percent=%{y}",
         "hovertext": [
          "Sneasel"
         ],
         "legendgroup": "Sneasel",
         "marker": {
          "color": "#FFA15A"
         },
         "name": "Sneasel",
         "offsetgroup": "Sneasel",
         "orientation": "v",
         "showlegend": true,
         "textposition": "auto",
         "type": "bar",
         "x": [
          "D+"
         ],
         "xaxis": "x",
         "y": [
          0
         ],
         "yaxis": "y"
        },
        {
         "alignmentgroup": "True",
         "hoverlabel": {
          "namelength": 0
         },
         "hovertemplate": "<b>%{hovertext}</b><br><br>pokemon_name=Flareon<br>viability=%{x}<br>percent=%{y}",
         "hovertext": [
          "Flareon"
         ],
         "legendgroup": "Flareon",
         "marker": {
          "color": "#19d3f3"
         },
         "name": "Flareon",
         "offsetgroup": "Flareon",
         "orientation": "v",
         "showlegend": true,
         "textposition": "auto",
         "type": "bar",
         "x": [
          "D+"
         ],
         "xaxis": "x",
         "y": [
          0
         ],
         "yaxis": "y"
        },
        {
         "alignmentgroup": "True",
         "hoverlabel": {
          "namelength": 0
         },
         "hovertemplate": "<b>%{hovertext}</b><br><br>pokemon_name=Golurk<br>viability=%{x}<br>percent=%{y}",
         "hovertext": [
          "Golurk"
         ],
         "legendgroup": "Golurk",
         "marker": {
          "color": "#FF6692"
         },
         "name": "Golurk",
         "offsetgroup": "Golurk",
         "orientation": "v",
         "showlegend": true,
         "textposition": "auto",
         "type": "bar",
         "x": [
          "D+"
         ],
         "xaxis": "x",
         "y": [
          0
         ],
         "yaxis": "y"
        },
        {
         "alignmentgroup": "True",
         "hoverlabel": {
          "namelength": 0
         },
         "hovertemplate": "<b>%{hovertext}</b><br><br>pokemon_name=Silvally-Fairy<br>viability=%{x}<br>percent=%{y}",
         "hovertext": [
          "Silvally-Fairy"
         ],
         "legendgroup": "Silvally-Fairy",
         "marker": {
          "color": "#B6E880"
         },
         "name": "Silvally-Fairy",
         "offsetgroup": "Silvally-Fairy",
         "orientation": "v",
         "showlegend": true,
         "textposition": "auto",
         "type": "bar",
         "x": [
          "C-"
         ],
         "xaxis": "x",
         "y": [
          0
         ],
         "yaxis": "y"
        },
        {
         "alignmentgroup": "True",
         "hoverlabel": {
          "namelength": 0
         },
         "hovertemplate": "<b>%{hovertext}</b><br><br>pokemon_name=Meowstic<br>viability=%{x}<br>percent=%{y}",
         "hovertext": [
          "Meowstic"
         ],
         "legendgroup": "Meowstic",
         "marker": {
          "color": "#FF97FF"
         },
         "name": "Meowstic",
         "offsetgroup": "Meowstic",
         "orientation": "v",
         "showlegend": true,
         "textposition": "auto",
         "type": "bar",
         "x": [
          "D+"
         ],
         "xaxis": "x",
         "y": [
          0
         ],
         "yaxis": "y"
        },
        {
         "alignmentgroup": "True",
         "hoverlabel": {
          "namelength": 0
         },
         "hovertemplate": "<b>%{hovertext}</b><br><br>pokemon_name=Lanturn<br>viability=%{x}<br>percent=%{y}",
         "hovertext": [
          "Lanturn"
         ],
         "legendgroup": "Lanturn",
         "marker": {
          "color": "#FECB52"
         },
         "name": "Lanturn",
         "offsetgroup": "Lanturn",
         "orientation": "v",
         "showlegend": true,
         "textposition": "auto",
         "type": "bar",
         "x": [
          "C-"
         ],
         "xaxis": "x",
         "y": [
          0
         ],
         "yaxis": "y"
        },
        {
         "alignmentgroup": "True",
         "hoverlabel": {
          "namelength": 0
         },
         "hovertemplate": "<b>%{hovertext}</b><br><br>pokemon_name=Slurpuff<br>viability=%{x}<br>percent=%{y}",
         "hovertext": [
          "Slurpuff"
         ],
         "legendgroup": "Slurpuff",
         "marker": {
          "color": "#636efa"
         },
         "name": "Slurpuff",
         "offsetgroup": "Slurpuff",
         "orientation": "v",
         "showlegend": true,
         "textposition": "auto",
         "type": "bar",
         "x": [
          "D+"
         ],
         "xaxis": "x",
         "y": [
          0
         ],
         "yaxis": "y"
        },
        {
         "alignmentgroup": "True",
         "hoverlabel": {
          "namelength": 0
         },
         "hovertemplate": "<b>%{hovertext}</b><br><br>pokemon_name=Mime Jr.<br>viability=%{x}<br>percent=%{y}",
         "hovertext": [
          "Mime Jr."
         ],
         "legendgroup": "Mime Jr.",
         "marker": {
          "color": "#EF553B"
         },
         "name": "Mime Jr.",
         "offsetgroup": "Mime Jr.",
         "orientation": "v",
         "showlegend": true,
         "textposition": "auto",
         "type": "bar",
         "x": [
          "C+"
         ],
         "xaxis": "x",
         "y": [
          0
         ],
         "yaxis": "y"
        },
        {
         "alignmentgroup": "True",
         "hoverlabel": {
          "namelength": 0
         },
         "hovertemplate": "<b>%{hovertext}</b><br><br>pokemon_name=Silvally-Steel<br>viability=%{x}<br>percent=%{y}",
         "hovertext": [
          "Silvally-Steel"
         ],
         "legendgroup": "Silvally-Steel",
         "marker": {
          "color": "#00cc96"
         },
         "name": "Silvally-Steel",
         "offsetgroup": "Silvally-Steel",
         "orientation": "v",
         "showlegend": true,
         "textposition": "auto",
         "type": "bar",
         "x": [
          "C-"
         ],
         "xaxis": "x",
         "y": [
          0
         ],
         "yaxis": "y"
        },
        {
         "alignmentgroup": "True",
         "hoverlabel": {
          "namelength": 0
         },
         "hovertemplate": "<b>%{hovertext}</b><br><br>pokemon_name=Morelull<br>viability=%{x}<br>percent=%{y}",
         "hovertext": [
          "Morelull"
         ],
         "legendgroup": "Morelull",
         "marker": {
          "color": "#ab63fa"
         },
         "name": "Morelull",
         "offsetgroup": "Morelull",
         "orientation": "v",
         "showlegend": true,
         "textposition": "auto",
         "type": "bar",
         "x": [
          "C-"
         ],
         "xaxis": "x",
         "y": [
          0
         ],
         "yaxis": "y"
        },
        {
         "alignmentgroup": "True",
         "hoverlabel": {
          "namelength": 0
         },
         "hovertemplate": "<b>%{hovertext}</b><br><br>pokemon_name=Crustle<br>viability=%{x}<br>percent=%{y}",
         "hovertext": [
          "Crustle"
         ],
         "legendgroup": "Crustle",
         "marker": {
          "color": "#FFA15A"
         },
         "name": "Crustle",
         "offsetgroup": "Crustle",
         "orientation": "v",
         "showlegend": true,
         "textposition": "auto",
         "type": "bar",
         "x": [
          "C-"
         ],
         "xaxis": "x",
         "y": [
          0
         ],
         "yaxis": "y"
        },
        {
         "alignmentgroup": "True",
         "hoverlabel": {
          "namelength": 0
         },
         "hovertemplate": "<b>%{hovertext}</b><br><br>pokemon_name=Mawile<br>viability=%{x}<br>percent=%{y}",
         "hovertext": [
          "Mawile"
         ],
         "legendgroup": "Mawile",
         "marker": {
          "color": "#19d3f3"
         },
         "name": "Mawile",
         "offsetgroup": "Mawile",
         "orientation": "v",
         "showlegend": true,
         "textposition": "auto",
         "type": "bar",
         "x": [
          "D+"
         ],
         "xaxis": "x",
         "y": [
          0
         ],
         "yaxis": "y"
        },
        {
         "alignmentgroup": "True",
         "hoverlabel": {
          "namelength": 0
         },
         "hovertemplate": "<b>%{hovertext}</b><br><br>pokemon_name=Pyukumuku<br>viability=%{x}<br>percent=%{y}",
         "hovertext": [
          "Pyukumuku"
         ],
         "legendgroup": "Pyukumuku",
         "marker": {
          "color": "#FF6692"
         },
         "name": "Pyukumuku",
         "offsetgroup": "Pyukumuku",
         "orientation": "v",
         "showlegend": true,
         "textposition": "auto",
         "type": "bar",
         "x": [
          "C"
         ],
         "xaxis": "x",
         "y": [
          0
         ],
         "yaxis": "y"
        },
        {
         "alignmentgroup": "True",
         "hoverlabel": {
          "namelength": 0
         },
         "hovertemplate": "<b>%{hovertext}</b><br><br>pokemon_name=Silvally-Dark<br>viability=%{x}<br>percent=%{y}",
         "hovertext": [
          "Silvally-Dark"
         ],
         "legendgroup": "Silvally-Dark",
         "marker": {
          "color": "#B6E880"
         },
         "name": "Silvally-Dark",
         "offsetgroup": "Silvally-Dark",
         "orientation": "v",
         "showlegend": true,
         "textposition": "auto",
         "type": "bar",
         "x": [
          "C"
         ],
         "xaxis": "x",
         "y": [
          0
         ],
         "yaxis": "y"
        },
        {
         "alignmentgroup": "True",
         "hoverlabel": {
          "namelength": 0
         },
         "hovertemplate": "<b>%{hovertext}</b><br><br>pokemon_name=Unfezant<br>viability=%{x}<br>percent=%{y}",
         "hovertext": [
          "Unfezant"
         ],
         "legendgroup": "Unfezant",
         "marker": {
          "color": "#FF97FF"
         },
         "name": "Unfezant",
         "offsetgroup": "Unfezant",
         "orientation": "v",
         "showlegend": true,
         "textposition": "auto",
         "type": "bar",
         "x": [
          "C"
         ],
         "xaxis": "x",
         "y": [
          0
         ],
         "yaxis": "y"
        },
        {
         "alignmentgroup": "True",
         "hoverlabel": {
          "namelength": 0
         },
         "hovertemplate": "<b>%{hovertext}</b><br><br>pokemon_name=Solrock<br>viability=%{x}<br>percent=%{y}",
         "hovertext": [
          "Solrock"
         ],
         "legendgroup": "Solrock",
         "marker": {
          "color": "#FECB52"
         },
         "name": "Solrock",
         "offsetgroup": "Solrock",
         "orientation": "v",
         "showlegend": true,
         "textposition": "auto",
         "type": "bar",
         "x": [
          "C"
         ],
         "xaxis": "x",
         "y": [
          0
         ],
         "yaxis": "y"
        },
        {
         "alignmentgroup": "True",
         "hoverlabel": {
          "namelength": 0
         },
         "hovertemplate": "<b>%{hovertext}</b><br><br>pokemon_name=Cottonee<br>viability=%{x}<br>percent=%{y}",
         "hovertext": [
          "Cottonee"
         ],
         "legendgroup": "Cottonee",
         "marker": {
          "color": "#636efa"
         },
         "name": "Cottonee",
         "offsetgroup": "Cottonee",
         "orientation": "v",
         "showlegend": true,
         "textposition": "auto",
         "type": "bar",
         "x": [
          "C"
         ],
         "xaxis": "x",
         "y": [
          0
         ],
         "yaxis": "y"
        },
        {
         "alignmentgroup": "True",
         "hoverlabel": {
          "namelength": 0
         },
         "hovertemplate": "<b>%{hovertext}</b><br><br>pokemon_name=Throh<br>viability=%{x}<br>percent=%{y}",
         "hovertext": [
          "Throh"
         ],
         "legendgroup": "Throh",
         "marker": {
          "color": "#EF553B"
         },
         "name": "Throh",
         "offsetgroup": "Throh",
         "orientation": "v",
         "showlegend": true,
         "textposition": "auto",
         "type": "bar",
         "x": [
          "C+"
         ],
         "xaxis": "x",
         "y": [
          0
         ],
         "yaxis": "y"
        },
        {
         "alignmentgroup": "True",
         "hoverlabel": {
          "namelength": 0
         },
         "hovertemplate": "<b>%{hovertext}</b><br><br>pokemon_name=Shellos<br>viability=%{x}<br>percent=%{y}",
         "hovertext": [
          "Shellos"
         ],
         "legendgroup": "Shellos",
         "marker": {
          "color": "#00cc96"
         },
         "name": "Shellos",
         "offsetgroup": "Shellos",
         "orientation": "v",
         "showlegend": true,
         "textposition": "auto",
         "type": "bar",
         "x": [
          "C-"
         ],
         "xaxis": "x",
         "y": [
          0
         ],
         "yaxis": "y"
        },
        {
         "alignmentgroup": "True",
         "hoverlabel": {
          "namelength": 0
         },
         "hovertemplate": "<b>%{hovertext}</b><br><br>pokemon_name=Wobbuffet<br>viability=%{x}<br>percent=%{y}",
         "hovertext": [
          "Wobbuffet"
         ],
         "legendgroup": "Wobbuffet",
         "marker": {
          "color": "#ab63fa"
         },
         "name": "Wobbuffet",
         "offsetgroup": "Wobbuffet",
         "orientation": "v",
         "showlegend": true,
         "textposition": "auto",
         "type": "bar",
         "x": [
          "D+"
         ],
         "xaxis": "x",
         "y": [
          0
         ],
         "yaxis": "y"
        }
       ],
       "layout": {
        "barmode": "relative",
        "legend": {
         "title": {
          "text": "pokemon_name"
         },
         "tracegroupgap": 0
        },
        "margin": {
         "t": 60
        },
        "template": {
         "data": {
          "bar": [
           {
            "error_x": {
             "color": "#2a3f5f"
            },
            "error_y": {
             "color": "#2a3f5f"
            },
            "marker": {
             "line": {
              "color": "#E5ECF6",
              "width": 0.5
             }
            },
            "type": "bar"
           }
          ],
          "barpolar": [
           {
            "marker": {
             "line": {
              "color": "#E5ECF6",
              "width": 0.5
             }
            },
            "type": "barpolar"
           }
          ],
          "carpet": [
           {
            "aaxis": {
             "endlinecolor": "#2a3f5f",
             "gridcolor": "white",
             "linecolor": "white",
             "minorgridcolor": "white",
             "startlinecolor": "#2a3f5f"
            },
            "baxis": {
             "endlinecolor": "#2a3f5f",
             "gridcolor": "white",
             "linecolor": "white",
             "minorgridcolor": "white",
             "startlinecolor": "#2a3f5f"
            },
            "type": "carpet"
           }
          ],
          "choropleth": [
           {
            "colorbar": {
             "outlinewidth": 0,
             "ticks": ""
            },
            "type": "choropleth"
           }
          ],
          "contour": [
           {
            "colorbar": {
             "outlinewidth": 0,
             "ticks": ""
            },
            "colorscale": [
             [
              0,
              "#0d0887"
             ],
             [
              0.1111111111111111,
              "#46039f"
             ],
             [
              0.2222222222222222,
              "#7201a8"
             ],
             [
              0.3333333333333333,
              "#9c179e"
             ],
             [
              0.4444444444444444,
              "#bd3786"
             ],
             [
              0.5555555555555556,
              "#d8576b"
             ],
             [
              0.6666666666666666,
              "#ed7953"
             ],
             [
              0.7777777777777778,
              "#fb9f3a"
             ],
             [
              0.8888888888888888,
              "#fdca26"
             ],
             [
              1,
              "#f0f921"
             ]
            ],
            "type": "contour"
           }
          ],
          "contourcarpet": [
           {
            "colorbar": {
             "outlinewidth": 0,
             "ticks": ""
            },
            "type": "contourcarpet"
           }
          ],
          "heatmap": [
           {
            "colorbar": {
             "outlinewidth": 0,
             "ticks": ""
            },
            "colorscale": [
             [
              0,
              "#0d0887"
             ],
             [
              0.1111111111111111,
              "#46039f"
             ],
             [
              0.2222222222222222,
              "#7201a8"
             ],
             [
              0.3333333333333333,
              "#9c179e"
             ],
             [
              0.4444444444444444,
              "#bd3786"
             ],
             [
              0.5555555555555556,
              "#d8576b"
             ],
             [
              0.6666666666666666,
              "#ed7953"
             ],
             [
              0.7777777777777778,
              "#fb9f3a"
             ],
             [
              0.8888888888888888,
              "#fdca26"
             ],
             [
              1,
              "#f0f921"
             ]
            ],
            "type": "heatmap"
           }
          ],
          "heatmapgl": [
           {
            "colorbar": {
             "outlinewidth": 0,
             "ticks": ""
            },
            "colorscale": [
             [
              0,
              "#0d0887"
             ],
             [
              0.1111111111111111,
              "#46039f"
             ],
             [
              0.2222222222222222,
              "#7201a8"
             ],
             [
              0.3333333333333333,
              "#9c179e"
             ],
             [
              0.4444444444444444,
              "#bd3786"
             ],
             [
              0.5555555555555556,
              "#d8576b"
             ],
             [
              0.6666666666666666,
              "#ed7953"
             ],
             [
              0.7777777777777778,
              "#fb9f3a"
             ],
             [
              0.8888888888888888,
              "#fdca26"
             ],
             [
              1,
              "#f0f921"
             ]
            ],
            "type": "heatmapgl"
           }
          ],
          "histogram": [
           {
            "marker": {
             "colorbar": {
              "outlinewidth": 0,
              "ticks": ""
             }
            },
            "type": "histogram"
           }
          ],
          "histogram2d": [
           {
            "colorbar": {
             "outlinewidth": 0,
             "ticks": ""
            },
            "colorscale": [
             [
              0,
              "#0d0887"
             ],
             [
              0.1111111111111111,
              "#46039f"
             ],
             [
              0.2222222222222222,
              "#7201a8"
             ],
             [
              0.3333333333333333,
              "#9c179e"
             ],
             [
              0.4444444444444444,
              "#bd3786"
             ],
             [
              0.5555555555555556,
              "#d8576b"
             ],
             [
              0.6666666666666666,
              "#ed7953"
             ],
             [
              0.7777777777777778,
              "#fb9f3a"
             ],
             [
              0.8888888888888888,
              "#fdca26"
             ],
             [
              1,
              "#f0f921"
             ]
            ],
            "type": "histogram2d"
           }
          ],
          "histogram2dcontour": [
           {
            "colorbar": {
             "outlinewidth": 0,
             "ticks": ""
            },
            "colorscale": [
             [
              0,
              "#0d0887"
             ],
             [
              0.1111111111111111,
              "#46039f"
             ],
             [
              0.2222222222222222,
              "#7201a8"
             ],
             [
              0.3333333333333333,
              "#9c179e"
             ],
             [
              0.4444444444444444,
              "#bd3786"
             ],
             [
              0.5555555555555556,
              "#d8576b"
             ],
             [
              0.6666666666666666,
              "#ed7953"
             ],
             [
              0.7777777777777778,
              "#fb9f3a"
             ],
             [
              0.8888888888888888,
              "#fdca26"
             ],
             [
              1,
              "#f0f921"
             ]
            ],
            "type": "histogram2dcontour"
           }
          ],
          "mesh3d": [
           {
            "colorbar": {
             "outlinewidth": 0,
             "ticks": ""
            },
            "type": "mesh3d"
           }
          ],
          "parcoords": [
           {
            "line": {
             "colorbar": {
              "outlinewidth": 0,
              "ticks": ""
             }
            },
            "type": "parcoords"
           }
          ],
          "pie": [
           {
            "automargin": true,
            "type": "pie"
           }
          ],
          "scatter": [
           {
            "marker": {
             "colorbar": {
              "outlinewidth": 0,
              "ticks": ""
             }
            },
            "type": "scatter"
           }
          ],
          "scatter3d": [
           {
            "line": {
             "colorbar": {
              "outlinewidth": 0,
              "ticks": ""
             }
            },
            "marker": {
             "colorbar": {
              "outlinewidth": 0,
              "ticks": ""
             }
            },
            "type": "scatter3d"
           }
          ],
          "scattercarpet": [
           {
            "marker": {
             "colorbar": {
              "outlinewidth": 0,
              "ticks": ""
             }
            },
            "type": "scattercarpet"
           }
          ],
          "scattergeo": [
           {
            "marker": {
             "colorbar": {
              "outlinewidth": 0,
              "ticks": ""
             }
            },
            "type": "scattergeo"
           }
          ],
          "scattergl": [
           {
            "marker": {
             "colorbar": {
              "outlinewidth": 0,
              "ticks": ""
             }
            },
            "type": "scattergl"
           }
          ],
          "scattermapbox": [
           {
            "marker": {
             "colorbar": {
              "outlinewidth": 0,
              "ticks": ""
             }
            },
            "type": "scattermapbox"
           }
          ],
          "scatterpolar": [
           {
            "marker": {
             "colorbar": {
              "outlinewidth": 0,
              "ticks": ""
             }
            },
            "type": "scatterpolar"
           }
          ],
          "scatterpolargl": [
           {
            "marker": {
             "colorbar": {
              "outlinewidth": 0,
              "ticks": ""
             }
            },
            "type": "scatterpolargl"
           }
          ],
          "scatterternary": [
           {
            "marker": {
             "colorbar": {
              "outlinewidth": 0,
              "ticks": ""
             }
            },
            "type": "scatterternary"
           }
          ],
          "surface": [
           {
            "colorbar": {
             "outlinewidth": 0,
             "ticks": ""
            },
            "colorscale": [
             [
              0,
              "#0d0887"
             ],
             [
              0.1111111111111111,
              "#46039f"
             ],
             [
              0.2222222222222222,
              "#7201a8"
             ],
             [
              0.3333333333333333,
              "#9c179e"
             ],
             [
              0.4444444444444444,
              "#bd3786"
             ],
             [
              0.5555555555555556,
              "#d8576b"
             ],
             [
              0.6666666666666666,
              "#ed7953"
             ],
             [
              0.7777777777777778,
              "#fb9f3a"
             ],
             [
              0.8888888888888888,
              "#fdca26"
             ],
             [
              1,
              "#f0f921"
             ]
            ],
            "type": "surface"
           }
          ],
          "table": [
           {
            "cells": {
             "fill": {
              "color": "#EBF0F8"
             },
             "line": {
              "color": "white"
             }
            },
            "header": {
             "fill": {
              "color": "#C8D4E3"
             },
             "line": {
              "color": "white"
             }
            },
            "type": "table"
           }
          ]
         },
         "layout": {
          "annotationdefaults": {
           "arrowcolor": "#2a3f5f",
           "arrowhead": 0,
           "arrowwidth": 1
          },
          "coloraxis": {
           "colorbar": {
            "outlinewidth": 0,
            "ticks": ""
           }
          },
          "colorscale": {
           "diverging": [
            [
             0,
             "#8e0152"
            ],
            [
             0.1,
             "#c51b7d"
            ],
            [
             0.2,
             "#de77ae"
            ],
            [
             0.3,
             "#f1b6da"
            ],
            [
             0.4,
             "#fde0ef"
            ],
            [
             0.5,
             "#f7f7f7"
            ],
            [
             0.6,
             "#e6f5d0"
            ],
            [
             0.7,
             "#b8e186"
            ],
            [
             0.8,
             "#7fbc41"
            ],
            [
             0.9,
             "#4d9221"
            ],
            [
             1,
             "#276419"
            ]
           ],
           "sequential": [
            [
             0,
             "#0d0887"
            ],
            [
             0.1111111111111111,
             "#46039f"
            ],
            [
             0.2222222222222222,
             "#7201a8"
            ],
            [
             0.3333333333333333,
             "#9c179e"
            ],
            [
             0.4444444444444444,
             "#bd3786"
            ],
            [
             0.5555555555555556,
             "#d8576b"
            ],
            [
             0.6666666666666666,
             "#ed7953"
            ],
            [
             0.7777777777777778,
             "#fb9f3a"
            ],
            [
             0.8888888888888888,
             "#fdca26"
            ],
            [
             1,
             "#f0f921"
            ]
           ],
           "sequentialminus": [
            [
             0,
             "#0d0887"
            ],
            [
             0.1111111111111111,
             "#46039f"
            ],
            [
             0.2222222222222222,
             "#7201a8"
            ],
            [
             0.3333333333333333,
             "#9c179e"
            ],
            [
             0.4444444444444444,
             "#bd3786"
            ],
            [
             0.5555555555555556,
             "#d8576b"
            ],
            [
             0.6666666666666666,
             "#ed7953"
            ],
            [
             0.7777777777777778,
             "#fb9f3a"
            ],
            [
             0.8888888888888888,
             "#fdca26"
            ],
            [
             1,
             "#f0f921"
            ]
           ]
          },
          "colorway": [
           "#636efa",
           "#EF553B",
           "#00cc96",
           "#ab63fa",
           "#FFA15A",
           "#19d3f3",
           "#FF6692",
           "#B6E880",
           "#FF97FF",
           "#FECB52"
          ],
          "font": {
           "color": "#2a3f5f"
          },
          "geo": {
           "bgcolor": "white",
           "lakecolor": "white",
           "landcolor": "#E5ECF6",
           "showlakes": true,
           "showland": true,
           "subunitcolor": "white"
          },
          "hoverlabel": {
           "align": "left"
          },
          "hovermode": "closest",
          "mapbox": {
           "style": "light"
          },
          "paper_bgcolor": "white",
          "plot_bgcolor": "#E5ECF6",
          "polar": {
           "angularaxis": {
            "gridcolor": "white",
            "linecolor": "white",
            "ticks": ""
           },
           "bgcolor": "#E5ECF6",
           "radialaxis": {
            "gridcolor": "white",
            "linecolor": "white",
            "ticks": ""
           }
          },
          "scene": {
           "xaxis": {
            "backgroundcolor": "#E5ECF6",
            "gridcolor": "white",
            "gridwidth": 2,
            "linecolor": "white",
            "showbackground": true,
            "ticks": "",
            "zerolinecolor": "white"
           },
           "yaxis": {
            "backgroundcolor": "#E5ECF6",
            "gridcolor": "white",
            "gridwidth": 2,
            "linecolor": "white",
            "showbackground": true,
            "ticks": "",
            "zerolinecolor": "white"
           },
           "zaxis": {
            "backgroundcolor": "#E5ECF6",
            "gridcolor": "white",
            "gridwidth": 2,
            "linecolor": "white",
            "showbackground": true,
            "ticks": "",
            "zerolinecolor": "white"
           }
          },
          "shapedefaults": {
           "line": {
            "color": "#2a3f5f"
           }
          },
          "ternary": {
           "aaxis": {
            "gridcolor": "white",
            "linecolor": "white",
            "ticks": ""
           },
           "baxis": {
            "gridcolor": "white",
            "linecolor": "white",
            "ticks": ""
           },
           "bgcolor": "#E5ECF6",
           "caxis": {
            "gridcolor": "white",
            "linecolor": "white",
            "ticks": ""
           }
          },
          "title": {
           "x": 0.05
          },
          "xaxis": {
           "automargin": true,
           "gridcolor": "white",
           "linecolor": "white",
           "ticks": "",
           "title": {
            "standoff": 15
           },
           "zerolinecolor": "white",
           "zerolinewidth": 2
          },
          "yaxis": {
           "automargin": true,
           "gridcolor": "white",
           "linecolor": "white",
           "ticks": "",
           "title": {
            "standoff": 15
           },
           "zerolinecolor": "white",
           "zerolinewidth": 2
          }
         }
        },
        "xaxis": {
         "anchor": "y",
         "domain": [
          0,
          1
         ],
         "title": {
          "text": "viability"
         }
        },
        "yaxis": {
         "anchor": "x",
         "domain": [
          0,
          1
         ],
         "title": {
          "text": "percent"
         }
        }
       }
      },
      "text/html": [
       "<div>\n",
       "        \n",
       "        \n",
       "            <div id=\"fd5c3140-64a3-4ed1-9d63-84b3300ddbb4\" class=\"plotly-graph-div\" style=\"height:525px; width:100%;\"></div>\n",
       "            <script type=\"text/javascript\">\n",
       "                require([\"plotly\"], function(Plotly) {\n",
       "                    window.PLOTLYENV=window.PLOTLYENV || {};\n",
       "                    \n",
       "                if (document.getElementById(\"fd5c3140-64a3-4ed1-9d63-84b3300ddbb4\")) {\n",
       "                    Plotly.newPlot(\n",
       "                        'fd5c3140-64a3-4ed1-9d63-84b3300ddbb4',\n",
       "                        [{\"alignmentgroup\": \"True\", \"hoverlabel\": {\"namelength\": 0}, \"hovertemplate\": \"<b>%{hovertext}</b><br><br>pokemon_name=Togekiss<br>viability=%{x}<br>percent=%{y}\", \"hovertext\": [\"Togekiss\"], \"legendgroup\": \"Togekiss\", \"marker\": {\"color\": \"#636efa\"}, \"name\": \"Togekiss\", \"offsetgroup\": \"Togekiss\", \"orientation\": \"v\", \"showlegend\": true, \"textposition\": \"auto\", \"type\": \"bar\", \"x\": [\"B\"], \"xaxis\": \"x\", \"y\": [46.0], \"yaxis\": \"y\"}, {\"alignmentgroup\": \"True\", \"hoverlabel\": {\"namelength\": 0}, \"hovertemplate\": \"<b>%{hovertext}</b><br><br>pokemon_name=Arcanine<br>viability=%{x}<br>percent=%{y}\", \"hovertext\": [\"Arcanine\"], \"legendgroup\": \"Arcanine\", \"marker\": {\"color\": \"#EF553B\"}, \"name\": \"Arcanine\", \"offsetgroup\": \"Arcanine\", \"orientation\": \"v\", \"showlegend\": true, \"textposition\": \"auto\", \"type\": \"bar\", \"x\": [\"B\"], \"xaxis\": \"x\", \"y\": [36.0], \"yaxis\": \"y\"}, {\"alignmentgroup\": \"True\", \"hoverlabel\": {\"namelength\": 0}, \"hovertemplate\": \"<b>%{hovertext}</b><br><br>pokemon_name=Dragapult<br>viability=%{x}<br>percent=%{y}\", \"hovertext\": [\"Dragapult\"], \"legendgroup\": \"Dragapult\", \"marker\": {\"color\": \"#00cc96\"}, \"name\": \"Dragapult\", \"offsetgroup\": \"Dragapult\", \"orientation\": \"v\", \"showlegend\": true, \"textposition\": \"auto\", \"type\": \"bar\", \"x\": [\"B\"], \"xaxis\": \"x\", \"y\": [31.0], \"yaxis\": \"y\"}, {\"alignmentgroup\": \"True\", \"hoverlabel\": {\"namelength\": 0}, \"hovertemplate\": \"<b>%{hovertext}</b><br><br>pokemon_name=Excadrill<br>viability=%{x}<br>percent=%{y}\", \"hovertext\": [\"Excadrill\"], \"legendgroup\": \"Excadrill\", \"marker\": {\"color\": \"#ab63fa\"}, \"name\": \"Excadrill\", \"offsetgroup\": \"Excadrill\", \"orientation\": \"v\", \"showlegend\": true, \"textposition\": \"auto\", \"type\": \"bar\", \"x\": [\"B\"], \"xaxis\": \"x\", \"y\": [30.0], \"yaxis\": \"y\"}, {\"alignmentgroup\": \"True\", \"hoverlabel\": {\"namelength\": 0}, \"hovertemplate\": \"<b>%{hovertext}</b><br><br>pokemon_name=Whimsicott<br>viability=%{x}<br>percent=%{y}\", \"hovertext\": [\"Whimsicott\"], \"legendgroup\": \"Whimsicott\", \"marker\": {\"color\": \"#FFA15A\"}, \"name\": \"Whimsicott\", \"offsetgroup\": \"Whimsicott\", \"orientation\": \"v\", \"showlegend\": true, \"textposition\": \"auto\", \"type\": \"bar\", \"x\": [\"B-\"], \"xaxis\": \"x\", \"y\": [29.0], \"yaxis\": \"y\"}, {\"alignmentgroup\": \"True\", \"hoverlabel\": {\"namelength\": 0}, \"hovertemplate\": \"<b>%{hovertext}</b><br><br>pokemon_name=Duraludon<br>viability=%{x}<br>percent=%{y}\", \"hovertext\": [\"Duraludon\"], \"legendgroup\": \"Duraludon\", \"marker\": {\"color\": \"#19d3f3\"}, \"name\": \"Duraludon\", \"offsetgroup\": \"Duraludon\", \"orientation\": \"v\", \"showlegend\": true, \"textposition\": \"auto\", \"type\": \"bar\", \"x\": [\"B-\"], \"xaxis\": \"x\", \"y\": [24.0], \"yaxis\": \"y\"}, {\"alignmentgroup\": \"True\", \"hoverlabel\": {\"namelength\": 0}, \"hovertemplate\": \"<b>%{hovertext}</b><br><br>pokemon_name=Tyranitar<br>viability=%{x}<br>percent=%{y}\", \"hovertext\": [\"Tyranitar\"], \"legendgroup\": \"Tyranitar\", \"marker\": {\"color\": \"#FF6692\"}, \"name\": \"Tyranitar\", \"offsetgroup\": \"Tyranitar\", \"orientation\": \"v\", \"showlegend\": true, \"textposition\": \"auto\", \"type\": \"bar\", \"x\": [\"B\"], \"xaxis\": \"x\", \"y\": [23.0], \"yaxis\": \"y\"}, {\"alignmentgroup\": \"True\", \"hoverlabel\": {\"namelength\": 0}, \"hovertemplate\": \"<b>%{hovertext}</b><br><br>pokemon_name=Grimmsnarl<br>viability=%{x}<br>percent=%{y}\", \"hovertext\": [\"Grimmsnarl\"], \"legendgroup\": \"Grimmsnarl\", \"marker\": {\"color\": \"#B6E880\"}, \"name\": \"Grimmsnarl\", \"offsetgroup\": \"Grimmsnarl\", \"orientation\": \"v\", \"showlegend\": true, \"textposition\": \"auto\", \"type\": \"bar\", \"x\": [\"B\"], \"xaxis\": \"x\", \"y\": [20.0], \"yaxis\": \"y\"}, {\"alignmentgroup\": \"True\", \"hoverlabel\": {\"namelength\": 0}, \"hovertemplate\": \"<b>%{hovertext}</b><br><br>pokemon_name=Gyarados<br>viability=%{x}<br>percent=%{y}\", \"hovertext\": [\"Gyarados\"], \"legendgroup\": \"Gyarados\", \"marker\": {\"color\": \"#FF97FF\"}, \"name\": \"Gyarados\", \"offsetgroup\": \"Gyarados\", \"orientation\": \"v\", \"showlegend\": true, \"textposition\": \"auto\", \"type\": \"bar\", \"x\": [\"B\"], \"xaxis\": \"x\", \"y\": [17.0], \"yaxis\": \"y\"}, {\"alignmentgroup\": \"True\", \"hoverlabel\": {\"namelength\": 0}, \"hovertemplate\": \"<b>%{hovertext}</b><br><br>pokemon_name=Gastrodon<br>viability=%{x}<br>percent=%{y}\", \"hovertext\": [\"Gastrodon\"], \"legendgroup\": \"Gastrodon\", \"marker\": {\"color\": \"#FECB52\"}, \"name\": \"Gastrodon\", \"offsetgroup\": \"Gastrodon\", \"orientation\": \"v\", \"showlegend\": true, \"textposition\": \"auto\", \"type\": \"bar\", \"x\": [\"B\"], \"xaxis\": \"x\", \"y\": [17.0], \"yaxis\": \"y\"}, {\"alignmentgroup\": \"True\", \"hoverlabel\": {\"namelength\": 0}, \"hovertemplate\": \"<b>%{hovertext}</b><br><br>pokemon_name=Rhyperior<br>viability=%{x}<br>percent=%{y}\", \"hovertext\": [\"Rhyperior\"], \"legendgroup\": \"Rhyperior\", \"marker\": {\"color\": \"#636efa\"}, \"name\": \"Rhyperior\", \"offsetgroup\": \"Rhyperior\", \"orientation\": \"v\", \"showlegend\": true, \"textposition\": \"auto\", \"type\": \"bar\", \"x\": [\"B\"], \"xaxis\": \"x\", \"y\": [16.0], \"yaxis\": \"y\"}, {\"alignmentgroup\": \"True\", \"hoverlabel\": {\"namelength\": 0}, \"hovertemplate\": \"<b>%{hovertext}</b><br><br>pokemon_name=Conkeldurr<br>viability=%{x}<br>percent=%{y}\", \"hovertext\": [\"Conkeldurr\"], \"legendgroup\": \"Conkeldurr\", \"marker\": {\"color\": \"#EF553B\"}, \"name\": \"Conkeldurr\", \"offsetgroup\": \"Conkeldurr\", \"orientation\": \"v\", \"showlegend\": true, \"textposition\": \"auto\", \"type\": \"bar\", \"x\": [\"B\"], \"xaxis\": \"x\", \"y\": [15.0], \"yaxis\": \"y\"}, {\"alignmentgroup\": \"True\", \"hoverlabel\": {\"namelength\": 0}, \"hovertemplate\": \"<b>%{hovertext}</b><br><br>pokemon_name=Rotom-Mow<br>viability=%{x}<br>percent=%{y}\", \"hovertext\": [\"Rotom-Mow\"], \"legendgroup\": \"Rotom-Mow\", \"marker\": {\"color\": \"#00cc96\"}, \"name\": \"Rotom-Mow\", \"offsetgroup\": \"Rotom-Mow\", \"orientation\": \"v\", \"showlegend\": true, \"textposition\": \"auto\", \"type\": \"bar\", \"x\": [\"B\"], \"xaxis\": \"x\", \"y\": [12.0], \"yaxis\": \"y\"}, {\"alignmentgroup\": \"True\", \"hoverlabel\": {\"namelength\": 0}, \"hovertemplate\": \"<b>%{hovertext}</b><br><br>pokemon_name=Snorlax<br>viability=%{x}<br>percent=%{y}\", \"hovertext\": [\"Snorlax\"], \"legendgroup\": \"Snorlax\", \"marker\": {\"color\": \"#ab63fa\"}, \"name\": \"Snorlax\", \"offsetgroup\": \"Snorlax\", \"orientation\": \"v\", \"showlegend\": true, \"textposition\": \"auto\", \"type\": \"bar\", \"x\": [\"B-\"], \"xaxis\": \"x\", \"y\": [11.0], \"yaxis\": \"y\"}, {\"alignmentgroup\": \"True\", \"hoverlabel\": {\"namelength\": 0}, \"hovertemplate\": \"<b>%{hovertext}</b><br><br>pokemon_name=Dusclops<br>viability=%{x}<br>percent=%{y}\", \"hovertext\": [\"Dusclops\"], \"legendgroup\": \"Dusclops\", \"marker\": {\"color\": \"#FFA15A\"}, \"name\": \"Dusclops\", \"offsetgroup\": \"Dusclops\", \"orientation\": \"v\", \"showlegend\": true, \"textposition\": \"auto\", \"type\": \"bar\", \"x\": [\"B-\"], \"xaxis\": \"x\", \"y\": [11.0], \"yaxis\": \"y\"}, {\"alignmentgroup\": \"True\", \"hoverlabel\": {\"namelength\": 0}, \"hovertemplate\": \"<b>%{hovertext}</b><br><br>pokemon_name=Dracovish<br>viability=%{x}<br>percent=%{y}\", \"hovertext\": [\"Dracovish\"], \"legendgroup\": \"Dracovish\", \"marker\": {\"color\": \"#19d3f3\"}, \"name\": \"Dracovish\", \"offsetgroup\": \"Dracovish\", \"orientation\": \"v\", \"showlegend\": true, \"textposition\": \"auto\", \"type\": \"bar\", \"x\": [\"B-\"], \"xaxis\": \"x\", \"y\": [11.0], \"yaxis\": \"y\"}, {\"alignmentgroup\": \"True\", \"hoverlabel\": {\"namelength\": 0}, \"hovertemplate\": \"<b>%{hovertext}</b><br><br>pokemon_name=Vanilluxe<br>viability=%{x}<br>percent=%{y}\", \"hovertext\": [\"Vanilluxe\"], \"legendgroup\": \"Vanilluxe\", \"marker\": {\"color\": \"#FF6692\"}, \"name\": \"Vanilluxe\", \"offsetgroup\": \"Vanilluxe\", \"orientation\": \"v\", \"showlegend\": true, \"textposition\": \"auto\", \"type\": \"bar\", \"x\": [\"B-\"], \"xaxis\": \"x\", \"y\": [11.0], \"yaxis\": \"y\"}, {\"alignmentgroup\": \"True\", \"hoverlabel\": {\"namelength\": 0}, \"hovertemplate\": \"<b>%{hovertext}</b><br><br>pokemon_name=Rotom-Wash<br>viability=%{x}<br>percent=%{y}\", \"hovertext\": [\"Rotom-Wash\"], \"legendgroup\": \"Rotom-Wash\", \"marker\": {\"color\": \"#B6E880\"}, \"name\": \"Rotom-Wash\", \"offsetgroup\": \"Rotom-Wash\", \"orientation\": \"v\", \"showlegend\": true, \"textposition\": \"auto\", \"type\": \"bar\", \"x\": [\"B-\"], \"xaxis\": \"x\", \"y\": [10.0], \"yaxis\": \"y\"}, {\"alignmentgroup\": \"True\", \"hoverlabel\": {\"namelength\": 0}, \"hovertemplate\": \"<b>%{hovertext}</b><br><br>pokemon_name=Torkoal<br>viability=%{x}<br>percent=%{y}\", \"hovertext\": [\"Torkoal\"], \"legendgroup\": \"Torkoal\", \"marker\": {\"color\": \"#FF97FF\"}, \"name\": \"Torkoal\", \"offsetgroup\": \"Torkoal\", \"orientation\": \"v\", \"showlegend\": true, \"textposition\": \"auto\", \"type\": \"bar\", \"x\": [\"B-\"], \"xaxis\": \"x\", \"y\": [9.0], \"yaxis\": \"y\"}, {\"alignmentgroup\": \"True\", \"hoverlabel\": {\"namelength\": 0}, \"hovertemplate\": \"<b>%{hovertext}</b><br><br>pokemon_name=Inteleon<br>viability=%{x}<br>percent=%{y}\", \"hovertext\": [\"Inteleon\"], \"legendgroup\": \"Inteleon\", \"marker\": {\"color\": \"#FECB52\"}, \"name\": \"Inteleon\", \"offsetgroup\": \"Inteleon\", \"orientation\": \"v\", \"showlegend\": true, \"textposition\": \"auto\", \"type\": \"bar\", \"x\": [\"B\"], \"xaxis\": \"x\", \"y\": [9.0], \"yaxis\": \"y\"}, {\"alignmentgroup\": \"True\", \"hoverlabel\": {\"namelength\": 0}, \"hovertemplate\": \"<b>%{hovertext}</b><br><br>pokemon_name=Charizard<br>viability=%{x}<br>percent=%{y}\", \"hovertext\": [\"Charizard\"], \"legendgroup\": \"Charizard\", \"marker\": {\"color\": \"#636efa\"}, \"name\": \"Charizard\", \"offsetgroup\": \"Charizard\", \"orientation\": \"v\", \"showlegend\": true, \"textposition\": \"auto\", \"type\": \"bar\", \"x\": [\"B\"], \"xaxis\": \"x\", \"y\": [9.0], \"yaxis\": \"y\"}, {\"alignmentgroup\": \"True\", \"hoverlabel\": {\"namelength\": 0}, \"hovertemplate\": \"<b>%{hovertext}</b><br><br>pokemon_name=Mimikyu<br>viability=%{x}<br>percent=%{y}\", \"hovertext\": [\"Mimikyu\"], \"legendgroup\": \"Mimikyu\", \"marker\": {\"color\": \"#EF553B\"}, \"name\": \"Mimikyu\", \"offsetgroup\": \"Mimikyu\", \"orientation\": \"v\", \"showlegend\": true, \"textposition\": \"auto\", \"type\": \"bar\", \"x\": [\"B\"], \"xaxis\": \"x\", \"y\": [9.0], \"yaxis\": \"y\"}, {\"alignmentgroup\": \"True\", \"hoverlabel\": {\"namelength\": 0}, \"hovertemplate\": \"<b>%{hovertext}</b><br><br>pokemon_name=Chandelure<br>viability=%{x}<br>percent=%{y}\", \"hovertext\": [\"Chandelure\"], \"legendgroup\": \"Chandelure\", \"marker\": {\"color\": \"#00cc96\"}, \"name\": \"Chandelure\", \"offsetgroup\": \"Chandelure\", \"orientation\": \"v\", \"showlegend\": true, \"textposition\": \"auto\", \"type\": \"bar\", \"x\": [\"B\"], \"xaxis\": \"x\", \"y\": [9.0], \"yaxis\": \"y\"}, {\"alignmentgroup\": \"True\", \"hoverlabel\": {\"namelength\": 0}, \"hovertemplate\": \"<b>%{hovertext}</b><br><br>pokemon_name=Corviknight<br>viability=%{x}<br>percent=%{y}\", \"hovertext\": [\"Corviknight\"], \"legendgroup\": \"Corviknight\", \"marker\": {\"color\": \"#ab63fa\"}, \"name\": \"Corviknight\", \"offsetgroup\": \"Corviknight\", \"orientation\": \"v\", \"showlegend\": true, \"textposition\": \"auto\", \"type\": \"bar\", \"x\": [\"B-\"], \"xaxis\": \"x\", \"y\": [8.0], \"yaxis\": \"y\"}, {\"alignmentgroup\": \"True\", \"hoverlabel\": {\"namelength\": 0}, \"hovertemplate\": \"<b>%{hovertext}</b><br><br>pokemon_name=Jellicent<br>viability=%{x}<br>percent=%{y}\", \"hovertext\": [\"Jellicent\"], \"legendgroup\": \"Jellicent\", \"marker\": {\"color\": \"#FFA15A\"}, \"name\": \"Jellicent\", \"offsetgroup\": \"Jellicent\", \"orientation\": \"v\", \"showlegend\": true, \"textposition\": \"auto\", \"type\": \"bar\", \"x\": [\"B-\"], \"xaxis\": \"x\", \"y\": [8.0], \"yaxis\": \"y\"}, {\"alignmentgroup\": \"True\", \"hoverlabel\": {\"namelength\": 0}, \"hovertemplate\": \"<b>%{hovertext}</b><br><br>pokemon_name=Hydreigon<br>viability=%{x}<br>percent=%{y}\", \"hovertext\": [\"Hydreigon\"], \"legendgroup\": \"Hydreigon\", \"marker\": {\"color\": \"#19d3f3\"}, \"name\": \"Hydreigon\", \"offsetgroup\": \"Hydreigon\", \"orientation\": \"v\", \"showlegend\": true, \"textposition\": \"auto\", \"type\": \"bar\", \"x\": [\"B-\"], \"xaxis\": \"x\", \"y\": [7.0], \"yaxis\": \"y\"}, {\"alignmentgroup\": \"True\", \"hoverlabel\": {\"namelength\": 0}, \"hovertemplate\": \"<b>%{hovertext}</b><br><br>pokemon_name=Milotic<br>viability=%{x}<br>percent=%{y}\", \"hovertext\": [\"Milotic\"], \"legendgroup\": \"Milotic\", \"marker\": {\"color\": \"#FF6692\"}, \"name\": \"Milotic\", \"offsetgroup\": \"Milotic\", \"orientation\": \"v\", \"showlegend\": true, \"textposition\": \"auto\", \"type\": \"bar\", \"x\": [\"B\"], \"xaxis\": \"x\", \"y\": [7.0], \"yaxis\": \"y\"}, {\"alignmentgroup\": \"True\", \"hoverlabel\": {\"namelength\": 0}, \"hovertemplate\": \"<b>%{hovertext}</b><br><br>pokemon_name=Braviary<br>viability=%{x}<br>percent=%{y}\", \"hovertext\": [\"Braviary\"], \"legendgroup\": \"Braviary\", \"marker\": {\"color\": \"#B6E880\"}, \"name\": \"Braviary\", \"offsetgroup\": \"Braviary\", \"orientation\": \"v\", \"showlegend\": true, \"textposition\": \"auto\", \"type\": \"bar\", \"x\": [\"B-\"], \"xaxis\": \"x\", \"y\": [7.0], \"yaxis\": \"y\"}, {\"alignmentgroup\": \"True\", \"hoverlabel\": {\"namelength\": 0}, \"hovertemplate\": \"<b>%{hovertext}</b><br><br>pokemon_name=Darmanitan-Galar<br>viability=%{x}<br>percent=%{y}\", \"hovertext\": [\"Darmanitan-Galar\"], \"legendgroup\": \"Darmanitan-Galar\", \"marker\": {\"color\": \"#FF97FF\"}, \"name\": \"Darmanitan-Galar\", \"offsetgroup\": \"Darmanitan-Galar\", \"orientation\": \"v\", \"showlegend\": true, \"textposition\": \"auto\", \"type\": \"bar\", \"x\": [\"B-\"], \"xaxis\": \"x\", \"y\": [7.0], \"yaxis\": \"y\"}, {\"alignmentgroup\": \"True\", \"hoverlabel\": {\"namelength\": 0}, \"hovertemplate\": \"<b>%{hovertext}</b><br><br>pokemon_name=Indeedee-F<br>viability=%{x}<br>percent=%{y}\", \"hovertext\": [\"Indeedee-F\"], \"legendgroup\": \"Indeedee-F\", \"marker\": {\"color\": \"#FECB52\"}, \"name\": \"Indeedee-F\", \"offsetgroup\": \"Indeedee-F\", \"orientation\": \"v\", \"showlegend\": true, \"textposition\": \"auto\", \"type\": \"bar\", \"x\": [\"B-\"], \"xaxis\": \"x\", \"y\": [7.0], \"yaxis\": \"y\"}, {\"alignmentgroup\": \"True\", \"hoverlabel\": {\"namelength\": 0}, \"hovertemplate\": \"<b>%{hovertext}</b><br><br>pokemon_name=Mudsdale<br>viability=%{x}<br>percent=%{y}\", \"hovertext\": [\"Mudsdale\"], \"legendgroup\": \"Mudsdale\", \"marker\": {\"color\": \"#636efa\"}, \"name\": \"Mudsdale\", \"offsetgroup\": \"Mudsdale\", \"orientation\": \"v\", \"showlegend\": true, \"textposition\": \"auto\", \"type\": \"bar\", \"x\": [\"B-\"], \"xaxis\": \"x\", \"y\": [6.0], \"yaxis\": \"y\"}, {\"alignmentgroup\": \"True\", \"hoverlabel\": {\"namelength\": 0}, \"hovertemplate\": \"<b>%{hovertext}</b><br><br>pokemon_name=Rotom-Heat<br>viability=%{x}<br>percent=%{y}\", \"hovertext\": [\"Rotom-Heat\"], \"legendgroup\": \"Rotom-Heat\", \"marker\": {\"color\": \"#EF553B\"}, \"name\": \"Rotom-Heat\", \"offsetgroup\": \"Rotom-Heat\", \"orientation\": \"v\", \"showlegend\": true, \"textposition\": \"auto\", \"type\": \"bar\", \"x\": [\"B-\"], \"xaxis\": \"x\", \"y\": [6.0], \"yaxis\": \"y\"}, {\"alignmentgroup\": \"True\", \"hoverlabel\": {\"namelength\": 0}, \"hovertemplate\": \"<b>%{hovertext}</b><br><br>pokemon_name=Durant<br>viability=%{x}<br>percent=%{y}\", \"hovertext\": [\"Durant\"], \"legendgroup\": \"Durant\", \"marker\": {\"color\": \"#00cc96\"}, \"name\": \"Durant\", \"offsetgroup\": \"Durant\", \"orientation\": \"v\", \"showlegend\": true, \"textposition\": \"auto\", \"type\": \"bar\", \"x\": [\"B\"], \"xaxis\": \"x\", \"y\": [6.0], \"yaxis\": \"y\"}, {\"alignmentgroup\": \"True\", \"hoverlabel\": {\"namelength\": 0}, \"hovertemplate\": \"<b>%{hovertext}</b><br><br>pokemon_name=Sylveon<br>viability=%{x}<br>percent=%{y}\", \"hovertext\": [\"Sylveon\"], \"legendgroup\": \"Sylveon\", \"marker\": {\"color\": \"#ab63fa\"}, \"name\": \"Sylveon\", \"offsetgroup\": \"Sylveon\", \"orientation\": \"v\", \"showlegend\": true, \"textposition\": \"auto\", \"type\": \"bar\", \"x\": [\"B-\"], \"xaxis\": \"x\", \"y\": [6.0], \"yaxis\": \"y\"}, {\"alignmentgroup\": \"True\", \"hoverlabel\": {\"namelength\": 0}, \"hovertemplate\": \"<b>%{hovertext}</b><br><br>pokemon_name=Gothitelle<br>viability=%{x}<br>percent=%{y}\", \"hovertext\": [\"Gothitelle\"], \"legendgroup\": \"Gothitelle\", \"marker\": {\"color\": \"#FFA15A\"}, \"name\": \"Gothitelle\", \"offsetgroup\": \"Gothitelle\", \"orientation\": \"v\", \"showlegend\": true, \"textposition\": \"auto\", \"type\": \"bar\", \"x\": [\"B-\"], \"xaxis\": \"x\", \"y\": [6.0], \"yaxis\": \"y\"}, {\"alignmentgroup\": \"True\", \"hoverlabel\": {\"namelength\": 0}, \"hovertemplate\": \"<b>%{hovertext}</b><br><br>pokemon_name=Bronzong<br>viability=%{x}<br>percent=%{y}\", \"hovertext\": [\"Bronzong\"], \"legendgroup\": \"Bronzong\", \"marker\": {\"color\": \"#19d3f3\"}, \"name\": \"Bronzong\", \"offsetgroup\": \"Bronzong\", \"orientation\": \"v\", \"showlegend\": true, \"textposition\": \"auto\", \"type\": \"bar\", \"x\": [\"B\"], \"xaxis\": \"x\", \"y\": [5.0], \"yaxis\": \"y\"}, {\"alignmentgroup\": \"True\", \"hoverlabel\": {\"namelength\": 0}, \"hovertemplate\": \"<b>%{hovertext}</b><br><br>pokemon_name=Ferrothorn<br>viability=%{x}<br>percent=%{y}\", \"hovertext\": [\"Ferrothorn\"], \"legendgroup\": \"Ferrothorn\", \"marker\": {\"color\": \"#FF6692\"}, \"name\": \"Ferrothorn\", \"offsetgroup\": \"Ferrothorn\", \"orientation\": \"v\", \"showlegend\": true, \"textposition\": \"auto\", \"type\": \"bar\", \"x\": [\"B-\"], \"xaxis\": \"x\", \"y\": [5.0], \"yaxis\": \"y\"}, {\"alignmentgroup\": \"True\", \"hoverlabel\": {\"namelength\": 0}, \"hovertemplate\": \"<b>%{hovertext}</b><br><br>pokemon_name=Scrafty<br>viability=%{x}<br>percent=%{y}\", \"hovertext\": [\"Scrafty\"], \"legendgroup\": \"Scrafty\", \"marker\": {\"color\": \"#B6E880\"}, \"name\": \"Scrafty\", \"offsetgroup\": \"Scrafty\", \"orientation\": \"v\", \"showlegend\": true, \"textposition\": \"auto\", \"type\": \"bar\", \"x\": [\"B-\"], \"xaxis\": \"x\", \"y\": [5.0], \"yaxis\": \"y\"}, {\"alignmentgroup\": \"True\", \"hoverlabel\": {\"namelength\": 0}, \"hovertemplate\": \"<b>%{hovertext}</b><br><br>pokemon_name=Butterfree<br>viability=%{x}<br>percent=%{y}\", \"hovertext\": [\"Butterfree\"], \"legendgroup\": \"Butterfree\", \"marker\": {\"color\": \"#FF97FF\"}, \"name\": \"Butterfree\", \"offsetgroup\": \"Butterfree\", \"orientation\": \"v\", \"showlegend\": true, \"textposition\": \"auto\", \"type\": \"bar\", \"x\": [\"B-\"], \"xaxis\": \"x\", \"y\": [5.0], \"yaxis\": \"y\"}, {\"alignmentgroup\": \"True\", \"hoverlabel\": {\"namelength\": 0}, \"hovertemplate\": \"<b>%{hovertext}</b><br><br>pokemon_name=Hitmontop<br>viability=%{x}<br>percent=%{y}\", \"hovertext\": [\"Hitmontop\"], \"legendgroup\": \"Hitmontop\", \"marker\": {\"color\": \"#FECB52\"}, \"name\": \"Hitmontop\", \"offsetgroup\": \"Hitmontop\", \"orientation\": \"v\", \"showlegend\": true, \"textposition\": \"auto\", \"type\": \"bar\", \"x\": [\"B\"], \"xaxis\": \"x\", \"y\": [4.0], \"yaxis\": \"y\"}, {\"alignmentgroup\": \"True\", \"hoverlabel\": {\"namelength\": 0}, \"hovertemplate\": \"<b>%{hovertext}</b><br><br>pokemon_name=Hatterene<br>viability=%{x}<br>percent=%{y}\", \"hovertext\": [\"Hatterene\"], \"legendgroup\": \"Hatterene\", \"marker\": {\"color\": \"#636efa\"}, \"name\": \"Hatterene\", \"offsetgroup\": \"Hatterene\", \"orientation\": \"v\", \"showlegend\": true, \"textposition\": \"auto\", \"type\": \"bar\", \"x\": [\"B-\"], \"xaxis\": \"x\", \"y\": [4.0], \"yaxis\": \"y\"}, {\"alignmentgroup\": \"True\", \"hoverlabel\": {\"namelength\": 0}, \"hovertemplate\": \"<b>%{hovertext}</b><br><br>pokemon_name=Toxtricity<br>viability=%{x}<br>percent=%{y}\", \"hovertext\": [\"Toxtricity\"], \"legendgroup\": \"Toxtricity\", \"marker\": {\"color\": \"#EF553B\"}, \"name\": \"Toxtricity\", \"offsetgroup\": \"Toxtricity\", \"orientation\": \"v\", \"showlegend\": true, \"textposition\": \"auto\", \"type\": \"bar\", \"x\": [\"B-\"], \"xaxis\": \"x\", \"y\": [3.0], \"yaxis\": \"y\"}, {\"alignmentgroup\": \"True\", \"hoverlabel\": {\"namelength\": 0}, \"hovertemplate\": \"<b>%{hovertext}</b><br><br>pokemon_name=Lapras<br>viability=%{x}<br>percent=%{y}\", \"hovertext\": [\"Lapras\"], \"legendgroup\": \"Lapras\", \"marker\": {\"color\": \"#00cc96\"}, \"name\": \"Lapras\", \"offsetgroup\": \"Lapras\", \"orientation\": \"v\", \"showlegend\": true, \"textposition\": \"auto\", \"type\": \"bar\", \"x\": [\"C+\"], \"xaxis\": \"x\", \"y\": [3.0], \"yaxis\": \"y\"}, {\"alignmentgroup\": \"True\", \"hoverlabel\": {\"namelength\": 0}, \"hovertemplate\": \"<b>%{hovertext}</b><br><br>pokemon_name=Pelipper<br>viability=%{x}<br>percent=%{y}\", \"hovertext\": [\"Pelipper\"], \"legendgroup\": \"Pelipper\", \"marker\": {\"color\": \"#ab63fa\"}, \"name\": \"Pelipper\", \"offsetgroup\": \"Pelipper\", \"orientation\": \"v\", \"showlegend\": true, \"textposition\": \"auto\", \"type\": \"bar\", \"x\": [\"B-\"], \"xaxis\": \"x\", \"y\": [3.0], \"yaxis\": \"y\"}, {\"alignmentgroup\": \"True\", \"hoverlabel\": {\"namelength\": 0}, \"hovertemplate\": \"<b>%{hovertext}</b><br><br>pokemon_name=Ludicolo<br>viability=%{x}<br>percent=%{y}\", \"hovertext\": [\"Ludicolo\"], \"legendgroup\": \"Ludicolo\", \"marker\": {\"color\": \"#FFA15A\"}, \"name\": \"Ludicolo\", \"offsetgroup\": \"Ludicolo\", \"orientation\": \"v\", \"showlegend\": true, \"textposition\": \"auto\", \"type\": \"bar\", \"x\": [\"B-\"], \"xaxis\": \"x\", \"y\": [3.0], \"yaxis\": \"y\"}, {\"alignmentgroup\": \"True\", \"hoverlabel\": {\"namelength\": 0}, \"hovertemplate\": \"<b>%{hovertext}</b><br><br>pokemon_name=Passimian<br>viability=%{x}<br>percent=%{y}\", \"hovertext\": [\"Passimian\"], \"legendgroup\": \"Passimian\", \"marker\": {\"color\": \"#19d3f3\"}, \"name\": \"Passimian\", \"offsetgroup\": \"Passimian\", \"orientation\": \"v\", \"showlegend\": true, \"textposition\": \"auto\", \"type\": \"bar\", \"x\": [\"B-\"], \"xaxis\": \"x\", \"y\": [3.0], \"yaxis\": \"y\"}, {\"alignmentgroup\": \"True\", \"hoverlabel\": {\"namelength\": 0}, \"hovertemplate\": \"<b>%{hovertext}</b><br><br>pokemon_name=Dracozolt<br>viability=%{x}<br>percent=%{y}\", \"hovertext\": [\"Dracozolt\"], \"legendgroup\": \"Dracozolt\", \"marker\": {\"color\": \"#FF6692\"}, \"name\": \"Dracozolt\", \"offsetgroup\": \"Dracozolt\", \"orientation\": \"v\", \"showlegend\": true, \"textposition\": \"auto\", \"type\": \"bar\", \"x\": [\"B-\"], \"xaxis\": \"x\", \"y\": [2.0], \"yaxis\": \"y\"}, {\"alignmentgroup\": \"True\", \"hoverlabel\": {\"namelength\": 0}, \"hovertemplate\": \"<b>%{hovertext}</b><br><br>pokemon_name=Togedemaru<br>viability=%{x}<br>percent=%{y}\", \"hovertext\": [\"Togedemaru\"], \"legendgroup\": \"Togedemaru\", \"marker\": {\"color\": \"#B6E880\"}, \"name\": \"Togedemaru\", \"offsetgroup\": \"Togedemaru\", \"orientation\": \"v\", \"showlegend\": true, \"textposition\": \"auto\", \"type\": \"bar\", \"x\": [\"B-\"], \"xaxis\": \"x\", \"y\": [2.0], \"yaxis\": \"y\"}, {\"alignmentgroup\": \"True\", \"hoverlabel\": {\"namelength\": 0}, \"hovertemplate\": \"<b>%{hovertext}</b><br><br>pokemon_name=Lucario<br>viability=%{x}<br>percent=%{y}\", \"hovertext\": [\"Lucario\"], \"legendgroup\": \"Lucario\", \"marker\": {\"color\": \"#FF97FF\"}, \"name\": \"Lucario\", \"offsetgroup\": \"Lucario\", \"orientation\": \"v\", \"showlegend\": true, \"textposition\": \"auto\", \"type\": \"bar\", \"x\": [\"B-\"], \"xaxis\": \"x\", \"y\": [2.0], \"yaxis\": \"y\"}, {\"alignmentgroup\": \"True\", \"hoverlabel\": {\"namelength\": 0}, \"hovertemplate\": \"<b>%{hovertext}</b><br><br>pokemon_name=Vileplume<br>viability=%{x}<br>percent=%{y}\", \"hovertext\": [\"Vileplume\"], \"legendgroup\": \"Vileplume\", \"marker\": {\"color\": \"#FECB52\"}, \"name\": \"Vileplume\", \"offsetgroup\": \"Vileplume\", \"orientation\": \"v\", \"showlegend\": true, \"textposition\": \"auto\", \"type\": \"bar\", \"x\": [\"B-\"], \"xaxis\": \"x\", \"y\": [2.0], \"yaxis\": \"y\"}, {\"alignmentgroup\": \"True\", \"hoverlabel\": {\"namelength\": 0}, \"hovertemplate\": \"<b>%{hovertext}</b><br><br>pokemon_name=Sableye<br>viability=%{x}<br>percent=%{y}\", \"hovertext\": [\"Sableye\"], \"legendgroup\": \"Sableye\", \"marker\": {\"color\": \"#636efa\"}, \"name\": \"Sableye\", \"offsetgroup\": \"Sableye\", \"orientation\": \"v\", \"showlegend\": true, \"textposition\": \"auto\", \"type\": \"bar\", \"x\": [\"B-\"], \"xaxis\": \"x\", \"y\": [2.0], \"yaxis\": \"y\"}, {\"alignmentgroup\": \"True\", \"hoverlabel\": {\"namelength\": 0}, \"hovertemplate\": \"<b>%{hovertext}</b><br><br>pokemon_name=Goodra<br>viability=%{x}<br>percent=%{y}\", \"hovertext\": [\"Goodra\"], \"legendgroup\": \"Goodra\", \"marker\": {\"color\": \"#EF553B\"}, \"name\": \"Goodra\", \"offsetgroup\": \"Goodra\", \"orientation\": \"v\", \"showlegend\": true, \"textposition\": \"auto\", \"type\": \"bar\", \"x\": [\"B-\"], \"xaxis\": \"x\", \"y\": [2.0], \"yaxis\": \"y\"}, {\"alignmentgroup\": \"True\", \"hoverlabel\": {\"namelength\": 0}, \"hovertemplate\": \"<b>%{hovertext}</b><br><br>pokemon_name=Weezing-Galar<br>viability=%{x}<br>percent=%{y}\", \"hovertext\": [\"Weezing-Galar\"], \"legendgroup\": \"Weezing-Galar\", \"marker\": {\"color\": \"#00cc96\"}, \"name\": \"Weezing-Galar\", \"offsetgroup\": \"Weezing-Galar\", \"orientation\": \"v\", \"showlegend\": true, \"textposition\": \"auto\", \"type\": \"bar\", \"x\": [\"B-\"], \"xaxis\": \"x\", \"y\": [2.0], \"yaxis\": \"y\"}, {\"alignmentgroup\": \"True\", \"hoverlabel\": {\"namelength\": 0}, \"hovertemplate\": \"<b>%{hovertext}</b><br><br>pokemon_name=Hippowdon<br>viability=%{x}<br>percent=%{y}\", \"hovertext\": [\"Hippowdon\"], \"legendgroup\": \"Hippowdon\", \"marker\": {\"color\": \"#ab63fa\"}, \"name\": \"Hippowdon\", \"offsetgroup\": \"Hippowdon\", \"orientation\": \"v\", \"showlegend\": true, \"textposition\": \"auto\", \"type\": \"bar\", \"x\": [\"B-\"], \"xaxis\": \"x\", \"y\": [2.0], \"yaxis\": \"y\"}, {\"alignmentgroup\": \"True\", \"hoverlabel\": {\"namelength\": 0}, \"hovertemplate\": \"<b>%{hovertext}</b><br><br>pokemon_name=Raichu<br>viability=%{x}<br>percent=%{y}\", \"hovertext\": [\"Raichu\"], \"legendgroup\": \"Raichu\", \"marker\": {\"color\": \"#FFA15A\"}, \"name\": \"Raichu\", \"offsetgroup\": \"Raichu\", \"orientation\": \"v\", \"showlegend\": true, \"textposition\": \"auto\", \"type\": \"bar\", \"x\": [\"C+\"], \"xaxis\": \"x\", \"y\": [1.0], \"yaxis\": \"y\"}, {\"alignmentgroup\": \"True\", \"hoverlabel\": {\"namelength\": 0}, \"hovertemplate\": \"<b>%{hovertext}</b><br><br>pokemon_name=Oranguru<br>viability=%{x}<br>percent=%{y}\", \"hovertext\": [\"Oranguru\"], \"legendgroup\": \"Oranguru\", \"marker\": {\"color\": \"#19d3f3\"}, \"name\": \"Oranguru\", \"offsetgroup\": \"Oranguru\", \"orientation\": \"v\", \"showlegend\": true, \"textposition\": \"auto\", \"type\": \"bar\", \"x\": [\"B-\"], \"xaxis\": \"x\", \"y\": [1.0], \"yaxis\": \"y\"}, {\"alignmentgroup\": \"True\", \"hoverlabel\": {\"namelength\": 0}, \"hovertemplate\": \"<b>%{hovertext}</b><br><br>pokemon_name=Appletun<br>viability=%{x}<br>percent=%{y}\", \"hovertext\": [\"Appletun\"], \"legendgroup\": \"Appletun\", \"marker\": {\"color\": \"#FF6692\"}, \"name\": \"Appletun\", \"offsetgroup\": \"Appletun\", \"orientation\": \"v\", \"showlegend\": true, \"textposition\": \"auto\", \"type\": \"bar\", \"x\": [\"C+\"], \"xaxis\": \"x\", \"y\": [1.0], \"yaxis\": \"y\"}, {\"alignmentgroup\": \"True\", \"hoverlabel\": {\"namelength\": 0}, \"hovertemplate\": \"<b>%{hovertext}</b><br><br>pokemon_name=Reuniclus<br>viability=%{x}<br>percent=%{y}\", \"hovertext\": [\"Reuniclus\"], \"legendgroup\": \"Reuniclus\", \"marker\": {\"color\": \"#B6E880\"}, \"name\": \"Reuniclus\", \"offsetgroup\": \"Reuniclus\", \"orientation\": \"v\", \"showlegend\": true, \"textposition\": \"auto\", \"type\": \"bar\", \"x\": [\"B-\"], \"xaxis\": \"x\", \"y\": [1.0], \"yaxis\": \"y\"}, {\"alignmentgroup\": \"True\", \"hoverlabel\": {\"namelength\": 0}, \"hovertemplate\": \"<b>%{hovertext}</b><br><br>pokemon_name=Pikachu<br>viability=%{x}<br>percent=%{y}\", \"hovertext\": [\"Pikachu\"], \"legendgroup\": \"Pikachu\", \"marker\": {\"color\": \"#FF97FF\"}, \"name\": \"Pikachu\", \"offsetgroup\": \"Pikachu\", \"orientation\": \"v\", \"showlegend\": true, \"textposition\": \"auto\", \"type\": \"bar\", \"x\": [\"C+\"], \"xaxis\": \"x\", \"y\": [1.0], \"yaxis\": \"y\"}, {\"alignmentgroup\": \"True\", \"hoverlabel\": {\"namelength\": 0}, \"hovertemplate\": \"<b>%{hovertext}</b><br><br>pokemon_name=Aegislash<br>viability=%{x}<br>percent=%{y}\", \"hovertext\": [\"Aegislash\"], \"legendgroup\": \"Aegislash\", \"marker\": {\"color\": \"#FECB52\"}, \"name\": \"Aegislash\", \"offsetgroup\": \"Aegislash\", \"orientation\": \"v\", \"showlegend\": true, \"textposition\": \"auto\", \"type\": \"bar\", \"x\": [\"C+\"], \"xaxis\": \"x\", \"y\": [1.0], \"yaxis\": \"y\"}, {\"alignmentgroup\": \"True\", \"hoverlabel\": {\"namelength\": 0}, \"hovertemplate\": \"<b>%{hovertext}</b><br><br>pokemon_name=Hawlucha<br>viability=%{x}<br>percent=%{y}\", \"hovertext\": [\"Hawlucha\"], \"legendgroup\": \"Hawlucha\", \"marker\": {\"color\": \"#636efa\"}, \"name\": \"Hawlucha\", \"offsetgroup\": \"Hawlucha\", \"orientation\": \"v\", \"showlegend\": true, \"textposition\": \"auto\", \"type\": \"bar\", \"x\": [\"C+\"], \"xaxis\": \"x\", \"y\": [1.0], \"yaxis\": \"y\"}, {\"alignmentgroup\": \"True\", \"hoverlabel\": {\"namelength\": 0}, \"hovertemplate\": \"<b>%{hovertext}</b><br><br>pokemon_name=Cinderace<br>viability=%{x}<br>percent=%{y}\", \"hovertext\": [\"Cinderace\"], \"legendgroup\": \"Cinderace\", \"marker\": {\"color\": \"#EF553B\"}, \"name\": \"Cinderace\", \"offsetgroup\": \"Cinderace\", \"orientation\": \"v\", \"showlegend\": true, \"textposition\": \"auto\", \"type\": \"bar\", \"x\": [\"C+\"], \"xaxis\": \"x\", \"y\": [1.0], \"yaxis\": \"y\"}, {\"alignmentgroup\": \"True\", \"hoverlabel\": {\"namelength\": 0}, \"hovertemplate\": \"<b>%{hovertext}</b><br><br>pokemon_name=Mandibuzz<br>viability=%{x}<br>percent=%{y}\", \"hovertext\": [\"Mandibuzz\"], \"legendgroup\": \"Mandibuzz\", \"marker\": {\"color\": \"#00cc96\"}, \"name\": \"Mandibuzz\", \"offsetgroup\": \"Mandibuzz\", \"orientation\": \"v\", \"showlegend\": true, \"textposition\": \"auto\", \"type\": \"bar\", \"x\": [\"B-\"], \"xaxis\": \"x\", \"y\": [1.0], \"yaxis\": \"y\"}, {\"alignmentgroup\": \"True\", \"hoverlabel\": {\"namelength\": 0}, \"hovertemplate\": \"<b>%{hovertext}</b><br><br>pokemon_name=Araquanid<br>viability=%{x}<br>percent=%{y}\", \"hovertext\": [\"Araquanid\"], \"legendgroup\": \"Araquanid\", \"marker\": {\"color\": \"#ab63fa\"}, \"name\": \"Araquanid\", \"offsetgroup\": \"Araquanid\", \"orientation\": \"v\", \"showlegend\": true, \"textposition\": \"auto\", \"type\": \"bar\", \"x\": [\"C+\"], \"xaxis\": \"x\", \"y\": [1.0], \"yaxis\": \"y\"}, {\"alignmentgroup\": \"True\", \"hoverlabel\": {\"namelength\": 0}, \"hovertemplate\": \"<b>%{hovertext}</b><br><br>pokemon_name=Abomasnow<br>viability=%{x}<br>percent=%{y}\", \"hovertext\": [\"Abomasnow\"], \"legendgroup\": \"Abomasnow\", \"marker\": {\"color\": \"#FFA15A\"}, \"name\": \"Abomasnow\", \"offsetgroup\": \"Abomasnow\", \"orientation\": \"v\", \"showlegend\": true, \"textposition\": \"auto\", \"type\": \"bar\", \"x\": [\"B-\"], \"xaxis\": \"x\", \"y\": [1.0], \"yaxis\": \"y\"}, {\"alignmentgroup\": \"True\", \"hoverlabel\": {\"namelength\": 0}, \"hovertemplate\": \"<b>%{hovertext}</b><br><br>pokemon_name=Kommo-o<br>viability=%{x}<br>percent=%{y}\", \"hovertext\": [\"Kommo-o\"], \"legendgroup\": \"Kommo-o\", \"marker\": {\"color\": \"#19d3f3\"}, \"name\": \"Kommo-o\", \"offsetgroup\": \"Kommo-o\", \"orientation\": \"v\", \"showlegend\": true, \"textposition\": \"auto\", \"type\": \"bar\", \"x\": [\"C+\"], \"xaxis\": \"x\", \"y\": [1.0], \"yaxis\": \"y\"}, {\"alignmentgroup\": \"True\", \"hoverlabel\": {\"namelength\": 0}, \"hovertemplate\": \"<b>%{hovertext}</b><br><br>pokemon_name=Silvally<br>viability=%{x}<br>percent=%{y}\", \"hovertext\": [\"Silvally\"], \"legendgroup\": \"Silvally\", \"marker\": {\"color\": \"#FF6692\"}, \"name\": \"Silvally\", \"offsetgroup\": \"Silvally\", \"orientation\": \"v\", \"showlegend\": true, \"textposition\": \"auto\", \"type\": \"bar\", \"x\": [\"C+\"], \"xaxis\": \"x\", \"y\": [1.0], \"yaxis\": \"y\"}, {\"alignmentgroup\": \"True\", \"hoverlabel\": {\"namelength\": 0}, \"hovertemplate\": \"<b>%{hovertext}</b><br><br>pokemon_name=Umbreon<br>viability=%{x}<br>percent=%{y}\", \"hovertext\": [\"Umbreon\"], \"legendgroup\": \"Umbreon\", \"marker\": {\"color\": \"#B6E880\"}, \"name\": \"Umbreon\", \"offsetgroup\": \"Umbreon\", \"orientation\": \"v\", \"showlegend\": true, \"textposition\": \"auto\", \"type\": \"bar\", \"x\": [\"B-\"], \"xaxis\": \"x\", \"y\": [1.0], \"yaxis\": \"y\"}, {\"alignmentgroup\": \"True\", \"hoverlabel\": {\"namelength\": 0}, \"hovertemplate\": \"<b>%{hovertext}</b><br><br>pokemon_name=Gengar<br>viability=%{x}<br>percent=%{y}\", \"hovertext\": [\"Gengar\"], \"legendgroup\": \"Gengar\", \"marker\": {\"color\": \"#FF97FF\"}, \"name\": \"Gengar\", \"offsetgroup\": \"Gengar\", \"orientation\": \"v\", \"showlegend\": true, \"textposition\": \"auto\", \"type\": \"bar\", \"x\": [\"C+\"], \"xaxis\": \"x\", \"y\": [1.0], \"yaxis\": \"y\"}, {\"alignmentgroup\": \"True\", \"hoverlabel\": {\"namelength\": 0}, \"hovertemplate\": \"<b>%{hovertext}</b><br><br>pokemon_name=Dhelmise<br>viability=%{x}<br>percent=%{y}\", \"hovertext\": [\"Dhelmise\"], \"legendgroup\": \"Dhelmise\", \"marker\": {\"color\": \"#FECB52\"}, \"name\": \"Dhelmise\", \"offsetgroup\": \"Dhelmise\", \"orientation\": \"v\", \"showlegend\": true, \"textposition\": \"auto\", \"type\": \"bar\", \"x\": [\"B-\"], \"xaxis\": \"x\", \"y\": [1.0], \"yaxis\": \"y\"}, {\"alignmentgroup\": \"True\", \"hoverlabel\": {\"namelength\": 0}, \"hovertemplate\": \"<b>%{hovertext}</b><br><br>pokemon_name=Gardevoir<br>viability=%{x}<br>percent=%{y}\", \"hovertext\": [\"Gardevoir\"], \"legendgroup\": \"Gardevoir\", \"marker\": {\"color\": \"#636efa\"}, \"name\": \"Gardevoir\", \"offsetgroup\": \"Gardevoir\", \"orientation\": \"v\", \"showlegend\": true, \"textposition\": \"auto\", \"type\": \"bar\", \"x\": [\"B-\"], \"xaxis\": \"x\", \"y\": [1.0], \"yaxis\": \"y\"}, {\"alignmentgroup\": \"True\", \"hoverlabel\": {\"namelength\": 0}, \"hovertemplate\": \"<b>%{hovertext}</b><br><br>pokemon_name=Sigilyph<br>viability=%{x}<br>percent=%{y}\", \"hovertext\": [\"Sigilyph\"], \"legendgroup\": \"Sigilyph\", \"marker\": {\"color\": \"#EF553B\"}, \"name\": \"Sigilyph\", \"offsetgroup\": \"Sigilyph\", \"orientation\": \"v\", \"showlegend\": true, \"textposition\": \"auto\", \"type\": \"bar\", \"x\": [\"B-\"], \"xaxis\": \"x\", \"y\": [1.0], \"yaxis\": \"y\"}, {\"alignmentgroup\": \"True\", \"hoverlabel\": {\"namelength\": 0}, \"hovertemplate\": \"<b>%{hovertext}</b><br><br>pokemon_name=Obstagoon<br>viability=%{x}<br>percent=%{y}\", \"hovertext\": [\"Obstagoon\"], \"legendgroup\": \"Obstagoon\", \"marker\": {\"color\": \"#00cc96\"}, \"name\": \"Obstagoon\", \"offsetgroup\": \"Obstagoon\", \"orientation\": \"v\", \"showlegend\": true, \"textposition\": \"auto\", \"type\": \"bar\", \"x\": [\"B-\"], \"xaxis\": \"x\", \"y\": [1.0], \"yaxis\": \"y\"}, {\"alignmentgroup\": \"True\", \"hoverlabel\": {\"namelength\": 0}, \"hovertemplate\": \"<b>%{hovertext}</b><br><br>pokemon_name=Rillaboom<br>viability=%{x}<br>percent=%{y}\", \"hovertext\": [\"Rillaboom\"], \"legendgroup\": \"Rillaboom\", \"marker\": {\"color\": \"#ab63fa\"}, \"name\": \"Rillaboom\", \"offsetgroup\": \"Rillaboom\", \"orientation\": \"v\", \"showlegend\": true, \"textposition\": \"auto\", \"type\": \"bar\", \"x\": [\"C+\"], \"xaxis\": \"x\", \"y\": [1.0], \"yaxis\": \"y\"}, {\"alignmentgroup\": \"True\", \"hoverlabel\": {\"namelength\": 0}, \"hovertemplate\": \"<b>%{hovertext}</b><br><br>pokemon_name=Indeedee<br>viability=%{x}<br>percent=%{y}\", \"hovertext\": [\"Indeedee\"], \"legendgroup\": \"Indeedee\", \"marker\": {\"color\": \"#FFA15A\"}, \"name\": \"Indeedee\", \"offsetgroup\": \"Indeedee\", \"orientation\": \"v\", \"showlegend\": true, \"textposition\": \"auto\", \"type\": \"bar\", \"x\": [\"C+\"], \"xaxis\": \"x\", \"y\": [1.0], \"yaxis\": \"y\"}, {\"alignmentgroup\": \"True\", \"hoverlabel\": {\"namelength\": 0}, \"hovertemplate\": \"<b>%{hovertext}</b><br><br>pokemon_name=Mamoswine<br>viability=%{x}<br>percent=%{y}\", \"hovertext\": [\"Mamoswine\"], \"legendgroup\": \"Mamoswine\", \"marker\": {\"color\": \"#19d3f3\"}, \"name\": \"Mamoswine\", \"offsetgroup\": \"Mamoswine\", \"orientation\": \"v\", \"showlegend\": true, \"textposition\": \"auto\", \"type\": \"bar\", \"x\": [\"C+\"], \"xaxis\": \"x\", \"y\": [1.0], \"yaxis\": \"y\"}, {\"alignmentgroup\": \"True\", \"hoverlabel\": {\"namelength\": 0}, \"hovertemplate\": \"<b>%{hovertext}</b><br><br>pokemon_name=Ribombee<br>viability=%{x}<br>percent=%{y}\", \"hovertext\": [\"Ribombee\"], \"legendgroup\": \"Ribombee\", \"marker\": {\"color\": \"#FF6692\"}, \"name\": \"Ribombee\", \"offsetgroup\": \"Ribombee\", \"orientation\": \"v\", \"showlegend\": true, \"textposition\": \"auto\", \"type\": \"bar\", \"x\": [\"C+\"], \"xaxis\": \"x\", \"y\": [1.0], \"yaxis\": \"y\"}, {\"alignmentgroup\": \"True\", \"hoverlabel\": {\"namelength\": 0}, \"hovertemplate\": \"<b>%{hovertext}</b><br><br>pokemon_name=Greedent<br>viability=%{x}<br>percent=%{y}\", \"hovertext\": [\"Greedent\"], \"legendgroup\": \"Greedent\", \"marker\": {\"color\": \"#B6E880\"}, \"name\": \"Greedent\", \"offsetgroup\": \"Greedent\", \"orientation\": \"v\", \"showlegend\": true, \"textposition\": \"auto\", \"type\": \"bar\", \"x\": [\"C+\"], \"xaxis\": \"x\", \"y\": [1.0], \"yaxis\": \"y\"}, {\"alignmentgroup\": \"True\", \"hoverlabel\": {\"namelength\": 0}, \"hovertemplate\": \"<b>%{hovertext}</b><br><br>pokemon_name=Sandaconda<br>viability=%{x}<br>percent=%{y}\", \"hovertext\": [\"Sandaconda\"], \"legendgroup\": \"Sandaconda\", \"marker\": {\"color\": \"#FF97FF\"}, \"name\": \"Sandaconda\", \"offsetgroup\": \"Sandaconda\", \"orientation\": \"v\", \"showlegend\": true, \"textposition\": \"auto\", \"type\": \"bar\", \"x\": [\"C+\"], \"xaxis\": \"x\", \"y\": [1.0], \"yaxis\": \"y\"}, {\"alignmentgroup\": \"True\", \"hoverlabel\": {\"namelength\": 0}, \"hovertemplate\": \"<b>%{hovertext}</b><br><br>pokemon_name=Sirfetch'd<br>viability=%{x}<br>percent=%{y}\", \"hovertext\": [\"Sirfetch'd\"], \"legendgroup\": \"Sirfetch'd\", \"marker\": {\"color\": \"#FECB52\"}, \"name\": \"Sirfetch'd\", \"offsetgroup\": \"Sirfetch'd\", \"orientation\": \"v\", \"showlegend\": true, \"textposition\": \"auto\", \"type\": \"bar\", \"x\": [\"C+\"], \"xaxis\": \"x\", \"y\": [null], \"yaxis\": \"y\"}, {\"alignmentgroup\": \"True\", \"hoverlabel\": {\"namelength\": 0}, \"hovertemplate\": \"<b>%{hovertext}</b><br><br>pokemon_name=Bisharp<br>viability=%{x}<br>percent=%{y}\", \"hovertext\": [\"Bisharp\"], \"legendgroup\": \"Bisharp\", \"marker\": {\"color\": \"#636efa\"}, \"name\": \"Bisharp\", \"offsetgroup\": \"Bisharp\", \"orientation\": \"v\", \"showlegend\": true, \"textposition\": \"auto\", \"type\": \"bar\", \"x\": [\"B-\"], \"xaxis\": \"x\", \"y\": [1.0], \"yaxis\": \"y\"}, {\"alignmentgroup\": \"True\", \"hoverlabel\": {\"namelength\": 0}, \"hovertemplate\": \"<b>%{hovertext}</b><br><br>pokemon_name=Clefable<br>viability=%{x}<br>percent=%{y}\", \"hovertext\": [\"Clefable\"], \"legendgroup\": \"Clefable\", \"marker\": {\"color\": \"#EF553B\"}, \"name\": \"Clefable\", \"offsetgroup\": \"Clefable\", \"orientation\": \"v\", \"showlegend\": true, \"textposition\": \"auto\", \"type\": \"bar\", \"x\": [\"C+\"], \"xaxis\": \"x\", \"y\": [1.0], \"yaxis\": \"y\"}, {\"alignmentgroup\": \"True\", \"hoverlabel\": {\"namelength\": 0}, \"hovertemplate\": \"<b>%{hovertext}</b><br><br>pokemon_name=Gigalith<br>viability=%{x}<br>percent=%{y}\", \"hovertext\": [\"Gigalith\"], \"legendgroup\": \"Gigalith\", \"marker\": {\"color\": \"#00cc96\"}, \"name\": \"Gigalith\", \"offsetgroup\": \"Gigalith\", \"orientation\": \"v\", \"showlegend\": true, \"textposition\": \"auto\", \"type\": \"bar\", \"x\": [\"C+\"], \"xaxis\": \"x\", \"y\": [1.0], \"yaxis\": \"y\"}, {\"alignmentgroup\": \"True\", \"hoverlabel\": {\"namelength\": 0}, \"hovertemplate\": \"<b>%{hovertext}</b><br><br>pokemon_name=Drampa<br>viability=%{x}<br>percent=%{y}\", \"hovertext\": [\"Drampa\"], \"legendgroup\": \"Drampa\", \"marker\": {\"color\": \"#ab63fa\"}, \"name\": \"Drampa\", \"offsetgroup\": \"Drampa\", \"orientation\": \"v\", \"showlegend\": true, \"textposition\": \"auto\", \"type\": \"bar\", \"x\": [\"C+\"], \"xaxis\": \"x\", \"y\": [1.0], \"yaxis\": \"y\"}, {\"alignmentgroup\": \"True\", \"hoverlabel\": {\"namelength\": 0}, \"hovertemplate\": \"<b>%{hovertext}</b><br><br>pokemon_name=Coalossal<br>viability=%{x}<br>percent=%{y}\", \"hovertext\": [\"Coalossal\"], \"legendgroup\": \"Coalossal\", \"marker\": {\"color\": \"#FFA15A\"}, \"name\": \"Coalossal\", \"offsetgroup\": \"Coalossal\", \"orientation\": \"v\", \"showlegend\": true, \"textposition\": \"auto\", \"type\": \"bar\", \"x\": [\"C+\"], \"xaxis\": \"x\", \"y\": [1.0], \"yaxis\": \"y\"}, {\"alignmentgroup\": \"True\", \"hoverlabel\": {\"namelength\": 0}, \"hovertemplate\": \"<b>%{hovertext}</b><br><br>pokemon_name=Haxorus<br>viability=%{x}<br>percent=%{y}\", \"hovertext\": [\"Haxorus\"], \"legendgroup\": \"Haxorus\", \"marker\": {\"color\": \"#19d3f3\"}, \"name\": \"Haxorus\", \"offsetgroup\": \"Haxorus\", \"orientation\": \"v\", \"showlegend\": true, \"textposition\": \"auto\", \"type\": \"bar\", \"x\": [\"C+\"], \"xaxis\": \"x\", \"y\": [1.0], \"yaxis\": \"y\"}, {\"alignmentgroup\": \"True\", \"hoverlabel\": {\"namelength\": 0}, \"hovertemplate\": \"<b>%{hovertext}</b><br><br>pokemon_name=Barraskewda<br>viability=%{x}<br>percent=%{y}\", \"hovertext\": [\"Barraskewda\"], \"legendgroup\": \"Barraskewda\", \"marker\": {\"color\": \"#FF6692\"}, \"name\": \"Barraskewda\", \"offsetgroup\": \"Barraskewda\", \"orientation\": \"v\", \"showlegend\": true, \"textposition\": \"auto\", \"type\": \"bar\", \"x\": [\"C+\"], \"xaxis\": \"x\", \"y\": [1.0], \"yaxis\": \"y\"}, {\"alignmentgroup\": \"True\", \"hoverlabel\": {\"namelength\": 0}, \"hovertemplate\": \"<b>%{hovertext}</b><br><br>pokemon_name=Aromatisse<br>viability=%{x}<br>percent=%{y}\", \"hovertext\": [\"Aromatisse\"], \"legendgroup\": \"Aromatisse\", \"marker\": {\"color\": \"#B6E880\"}, \"name\": \"Aromatisse\", \"offsetgroup\": \"Aromatisse\", \"orientation\": \"v\", \"showlegend\": true, \"textposition\": \"auto\", \"type\": \"bar\", \"x\": [\"C+\"], \"xaxis\": \"x\", \"y\": [1.0], \"yaxis\": \"y\"}, {\"alignmentgroup\": \"True\", \"hoverlabel\": {\"namelength\": 0}, \"hovertemplate\": \"<b>%{hovertext}</b><br><br>pokemon_name=Roserade<br>viability=%{x}<br>percent=%{y}\", \"hovertext\": [\"Roserade\"], \"legendgroup\": \"Roserade\", \"marker\": {\"color\": \"#FF97FF\"}, \"name\": \"Roserade\", \"offsetgroup\": \"Roserade\", \"orientation\": \"v\", \"showlegend\": true, \"textposition\": \"auto\", \"type\": \"bar\", \"x\": [\"B-\"], \"xaxis\": \"x\", \"y\": [1.0], \"yaxis\": \"y\"}, {\"alignmentgroup\": \"True\", \"hoverlabel\": {\"namelength\": 0}, \"hovertemplate\": \"<b>%{hovertext}</b><br><br>pokemon_name=Ninetales<br>viability=%{x}<br>percent=%{y}\", \"hovertext\": [\"Ninetales\"], \"legendgroup\": \"Ninetales\", \"marker\": {\"color\": \"#FECB52\"}, \"name\": \"Ninetales\", \"offsetgroup\": \"Ninetales\", \"orientation\": \"v\", \"showlegend\": true, \"textposition\": \"auto\", \"type\": \"bar\", \"x\": [\"C+\"], \"xaxis\": \"x\", \"y\": [0.0], \"yaxis\": \"y\"}, {\"alignmentgroup\": \"True\", \"hoverlabel\": {\"namelength\": 0}, \"hovertemplate\": \"<b>%{hovertext}</b><br><br>pokemon_name=Alcremie<br>viability=%{x}<br>percent=%{y}\", \"hovertext\": [\"Alcremie\"], \"legendgroup\": \"Alcremie\", \"marker\": {\"color\": \"#636efa\"}, \"name\": \"Alcremie\", \"offsetgroup\": \"Alcremie\", \"orientation\": \"v\", \"showlegend\": true, \"textposition\": \"auto\", \"type\": \"bar\", \"x\": [\"C+\"], \"xaxis\": \"x\", \"y\": [0.0], \"yaxis\": \"y\"}, {\"alignmentgroup\": \"True\", \"hoverlabel\": {\"namelength\": 0}, \"hovertemplate\": \"<b>%{hovertext}</b><br><br>pokemon_name=Corsola-Galar<br>viability=%{x}<br>percent=%{y}\", \"hovertext\": [\"Corsola-Galar\"], \"legendgroup\": \"Corsola-Galar\", \"marker\": {\"color\": \"#EF553B\"}, \"name\": \"Corsola-Galar\", \"offsetgroup\": \"Corsola-Galar\", \"orientation\": \"v\", \"showlegend\": true, \"textposition\": \"auto\", \"type\": \"bar\", \"x\": [\"B-\"], \"xaxis\": \"x\", \"y\": [0.0], \"yaxis\": \"y\"}, {\"alignmentgroup\": \"True\", \"hoverlabel\": {\"namelength\": 0}, \"hovertemplate\": \"<b>%{hovertext}</b><br><br>pokemon_name=Shiinotic<br>viability=%{x}<br>percent=%{y}\", \"hovertext\": [\"Shiinotic\"], \"legendgroup\": \"Shiinotic\", \"marker\": {\"color\": \"#00cc96\"}, \"name\": \"Shiinotic\", \"offsetgroup\": \"Shiinotic\", \"orientation\": \"v\", \"showlegend\": true, \"textposition\": \"auto\", \"type\": \"bar\", \"x\": [\"B-\"], \"xaxis\": \"x\", \"y\": [0.0], \"yaxis\": \"y\"}, {\"alignmentgroup\": \"True\", \"hoverlabel\": {\"namelength\": 0}, \"hovertemplate\": \"<b>%{hovertext}</b><br><br>pokemon_name=Glaceon<br>viability=%{x}<br>percent=%{y}\", \"hovertext\": [\"Glaceon\"], \"legendgroup\": \"Glaceon\", \"marker\": {\"color\": \"#ab63fa\"}, \"name\": \"Glaceon\", \"offsetgroup\": \"Glaceon\", \"orientation\": \"v\", \"showlegend\": true, \"textposition\": \"auto\", \"type\": \"bar\", \"x\": [\"C+\"], \"xaxis\": \"x\", \"y\": [0.0], \"yaxis\": \"y\"}, {\"alignmentgroup\": \"True\", \"hoverlabel\": {\"namelength\": 0}, \"hovertemplate\": \"<b>%{hovertext}</b><br><br>pokemon_name=Runerigus<br>viability=%{x}<br>percent=%{y}\", \"hovertext\": [\"Runerigus\"], \"legendgroup\": \"Runerigus\", \"marker\": {\"color\": \"#FFA15A\"}, \"name\": \"Runerigus\", \"offsetgroup\": \"Runerigus\", \"orientation\": \"v\", \"showlegend\": true, \"textposition\": \"auto\", \"type\": \"bar\", \"x\": [\"C+\"], \"xaxis\": \"x\", \"y\": [0.0], \"yaxis\": \"y\"}, {\"alignmentgroup\": \"True\", \"hoverlabel\": {\"namelength\": 0}, \"hovertemplate\": \"<b>%{hovertext}</b><br><br>pokemon_name=Morpeko<br>viability=%{x}<br>percent=%{y}\", \"hovertext\": [\"Morpeko\"], \"legendgroup\": \"Morpeko\", \"marker\": {\"color\": \"#19d3f3\"}, \"name\": \"Morpeko\", \"offsetgroup\": \"Morpeko\", \"orientation\": \"v\", \"showlegend\": true, \"textposition\": \"auto\", \"type\": \"bar\", \"x\": [\"C+\"], \"xaxis\": \"x\", \"y\": [0.0], \"yaxis\": \"y\"}, {\"alignmentgroup\": \"True\", \"hoverlabel\": {\"namelength\": 0}, \"hovertemplate\": \"<b>%{hovertext}</b><br><br>pokemon_name=Perrserker<br>viability=%{x}<br>percent=%{y}\", \"hovertext\": [\"Perrserker\"], \"legendgroup\": \"Perrserker\", \"marker\": {\"color\": \"#FF6692\"}, \"name\": \"Perrserker\", \"offsetgroup\": \"Perrserker\", \"orientation\": \"v\", \"showlegend\": true, \"textposition\": \"auto\", \"type\": \"bar\", \"x\": [\"B-\"], \"xaxis\": \"x\", \"y\": [0.0], \"yaxis\": \"y\"}, {\"alignmentgroup\": \"True\", \"hoverlabel\": {\"namelength\": 0}, \"hovertemplate\": \"<b>%{hovertext}</b><br><br>pokemon_name=Cofagrigus<br>viability=%{x}<br>percent=%{y}\", \"hovertext\": [\"Cofagrigus\"], \"legendgroup\": \"Cofagrigus\", \"marker\": {\"color\": \"#B6E880\"}, \"name\": \"Cofagrigus\", \"offsetgroup\": \"Cofagrigus\", \"orientation\": \"v\", \"showlegend\": true, \"textposition\": \"auto\", \"type\": \"bar\", \"x\": [\"C+\"], \"xaxis\": \"x\", \"y\": [0.0], \"yaxis\": \"y\"}, {\"alignmentgroup\": \"True\", \"hoverlabel\": {\"namelength\": 0}, \"hovertemplate\": \"<b>%{hovertext}</b><br><br>pokemon_name=Seismitoad<br>viability=%{x}<br>percent=%{y}\", \"hovertext\": [\"Seismitoad\"], \"legendgroup\": \"Seismitoad\", \"marker\": {\"color\": \"#FF97FF\"}, \"name\": \"Seismitoad\", \"offsetgroup\": \"Seismitoad\", \"orientation\": \"v\", \"showlegend\": true, \"textposition\": \"auto\", \"type\": \"bar\", \"x\": [\"B-\"], \"xaxis\": \"x\", \"y\": [0.0], \"yaxis\": \"y\"}, {\"alignmentgroup\": \"True\", \"hoverlabel\": {\"namelength\": 0}, \"hovertemplate\": \"<b>%{hovertext}</b><br><br>pokemon_name=Musharna<br>viability=%{x}<br>percent=%{y}\", \"hovertext\": [\"Musharna\"], \"legendgroup\": \"Musharna\", \"marker\": {\"color\": \"#FECB52\"}, \"name\": \"Musharna\", \"offsetgroup\": \"Musharna\", \"orientation\": \"v\", \"showlegend\": true, \"textposition\": \"auto\", \"type\": \"bar\", \"x\": [\"C+\"], \"xaxis\": \"x\", \"y\": [0.0], \"yaxis\": \"y\"}, {\"alignmentgroup\": \"True\", \"hoverlabel\": {\"namelength\": 0}, \"hovertemplate\": \"<b>%{hovertext}</b><br><br>pokemon_name=Centiskorch<br>viability=%{x}<br>percent=%{y}\", \"hovertext\": [\"Centiskorch\"], \"legendgroup\": \"Centiskorch\", \"marker\": {\"color\": \"#636efa\"}, \"name\": \"Centiskorch\", \"offsetgroup\": \"Centiskorch\", \"orientation\": \"v\", \"showlegend\": true, \"textposition\": \"auto\", \"type\": \"bar\", \"x\": [\"C\"], \"xaxis\": \"x\", \"y\": [0.0], \"yaxis\": \"y\"}, {\"alignmentgroup\": \"True\", \"hoverlabel\": {\"namelength\": 0}, \"hovertemplate\": \"<b>%{hovertext}</b><br><br>pokemon_name=Malamar<br>viability=%{x}<br>percent=%{y}\", \"hovertext\": [\"Malamar\"], \"legendgroup\": \"Malamar\", \"marker\": {\"color\": \"#EF553B\"}, \"name\": \"Malamar\", \"offsetgroup\": \"Malamar\", \"orientation\": \"v\", \"showlegend\": true, \"textposition\": \"auto\", \"type\": \"bar\", \"x\": [\"C\"], \"xaxis\": \"x\", \"y\": [0.0], \"yaxis\": \"y\"}, {\"alignmentgroup\": \"True\", \"hoverlabel\": {\"namelength\": 0}, \"hovertemplate\": \"<b>%{hovertext}</b><br><br>pokemon_name=Gallade<br>viability=%{x}<br>percent=%{y}\", \"hovertext\": [\"Gallade\"], \"legendgroup\": \"Gallade\", \"marker\": {\"color\": \"#00cc96\"}, \"name\": \"Gallade\", \"offsetgroup\": \"Gallade\", \"orientation\": \"v\", \"showlegend\": true, \"textposition\": \"auto\", \"type\": \"bar\", \"x\": [\"C+\"], \"xaxis\": \"x\", \"y\": [0.0], \"yaxis\": \"y\"}, {\"alignmentgroup\": \"True\", \"hoverlabel\": {\"namelength\": 0}, \"hovertemplate\": \"<b>%{hovertext}</b><br><br>pokemon_name=Pincurchin<br>viability=%{x}<br>percent=%{y}\", \"hovertext\": [\"Pincurchin\"], \"legendgroup\": \"Pincurchin\", \"marker\": {\"color\": \"#ab63fa\"}, \"name\": \"Pincurchin\", \"offsetgroup\": \"Pincurchin\", \"orientation\": \"v\", \"showlegend\": true, \"textposition\": \"auto\", \"type\": \"bar\", \"x\": [\"B-\"], \"xaxis\": \"x\", \"y\": [0.0], \"yaxis\": \"y\"}, {\"alignmentgroup\": \"True\", \"hoverlabel\": {\"namelength\": 0}, \"hovertemplate\": \"<b>%{hovertext}</b><br><br>pokemon_name=Gourgeist-Super<br>viability=%{x}<br>percent=%{y}\", \"hovertext\": [\"Gourgeist-Super\"], \"legendgroup\": \"Gourgeist-Super\", \"marker\": {\"color\": \"#FFA15A\"}, \"name\": \"Gourgeist-Super\", \"offsetgroup\": \"Gourgeist-Super\", \"orientation\": \"v\", \"showlegend\": true, \"textposition\": \"auto\", \"type\": \"bar\", \"x\": [\"C+\"], \"xaxis\": \"x\", \"y\": [0.0], \"yaxis\": \"y\"}, {\"alignmentgroup\": \"True\", \"hoverlabel\": {\"namelength\": 0}, \"hovertemplate\": \"<b>%{hovertext}</b><br><br>pokemon_name=Weavile<br>viability=%{x}<br>percent=%{y}\", \"hovertext\": [\"Weavile\"], \"legendgroup\": \"Weavile\", \"marker\": {\"color\": \"#19d3f3\"}, \"name\": \"Weavile\", \"offsetgroup\": \"Weavile\", \"orientation\": \"v\", \"showlegend\": true, \"textposition\": \"auto\", \"type\": \"bar\", \"x\": [\"C\"], \"xaxis\": \"x\", \"y\": [0.0], \"yaxis\": \"y\"}, {\"alignmentgroup\": \"True\", \"hoverlabel\": {\"namelength\": 0}, \"hovertemplate\": \"<b>%{hovertext}</b><br><br>pokemon_name=Diggersby<br>viability=%{x}<br>percent=%{y}\", \"hovertext\": [\"Diggersby\"], \"legendgroup\": \"Diggersby\", \"marker\": {\"color\": \"#FF6692\"}, \"name\": \"Diggersby\", \"offsetgroup\": \"Diggersby\", \"orientation\": \"v\", \"showlegend\": true, \"textposition\": \"auto\", \"type\": \"bar\", \"x\": [\"C+\"], \"xaxis\": \"x\", \"y\": [0.0], \"yaxis\": \"y\"}, {\"alignmentgroup\": \"True\", \"hoverlabel\": {\"namelength\": 0}, \"hovertemplate\": \"<b>%{hovertext}</b><br><br>pokemon_name=Arctozolt<br>viability=%{x}<br>percent=%{y}\", \"hovertext\": [\"Arctozolt\"], \"legendgroup\": \"Arctozolt\", \"marker\": {\"color\": \"#B6E880\"}, \"name\": \"Arctozolt\", \"offsetgroup\": \"Arctozolt\", \"orientation\": \"v\", \"showlegend\": true, \"textposition\": \"auto\", \"type\": \"bar\", \"x\": [\"C\"], \"xaxis\": \"x\", \"y\": [0.0], \"yaxis\": \"y\"}, {\"alignmentgroup\": \"True\", \"hoverlabel\": {\"namelength\": 0}, \"hovertemplate\": \"<b>%{hovertext}</b><br><br>pokemon_name=Trevenant<br>viability=%{x}<br>percent=%{y}\", \"hovertext\": [\"Trevenant\"], \"legendgroup\": \"Trevenant\", \"marker\": {\"color\": \"#FF97FF\"}, \"name\": \"Trevenant\", \"offsetgroup\": \"Trevenant\", \"orientation\": \"v\", \"showlegend\": true, \"textposition\": \"auto\", \"type\": \"bar\", \"x\": [\"C+\"], \"xaxis\": \"x\", \"y\": [0.0], \"yaxis\": \"y\"}, {\"alignmentgroup\": \"True\", \"hoverlabel\": {\"namelength\": 0}, \"hovertemplate\": \"<b>%{hovertext}</b><br><br>pokemon_name=Eldegoss<br>viability=%{x}<br>percent=%{y}\", \"hovertext\": [\"Eldegoss\"], \"legendgroup\": \"Eldegoss\", \"marker\": {\"color\": \"#FECB52\"}, \"name\": \"Eldegoss\", \"offsetgroup\": \"Eldegoss\", \"orientation\": \"v\", \"showlegend\": true, \"textposition\": \"auto\", \"type\": \"bar\", \"x\": [\"C\"], \"xaxis\": \"x\", \"y\": [0.0], \"yaxis\": \"y\"}, {\"alignmentgroup\": \"True\", \"hoverlabel\": {\"namelength\": 0}, \"hovertemplate\": \"<b>%{hovertext}</b><br><br>pokemon_name=Vikavolt<br>viability=%{x}<br>percent=%{y}\", \"hovertext\": [\"Vikavolt\"], \"legendgroup\": \"Vikavolt\", \"marker\": {\"color\": \"#636efa\"}, \"name\": \"Vikavolt\", \"offsetgroup\": \"Vikavolt\", \"orientation\": \"v\", \"showlegend\": true, \"textposition\": \"auto\", \"type\": \"bar\", \"x\": [\"C+\"], \"xaxis\": \"x\", \"y\": [0.0], \"yaxis\": \"y\"}, {\"alignmentgroup\": \"True\", \"hoverlabel\": {\"namelength\": 0}, \"hovertemplate\": \"<b>%{hovertext}</b><br><br>pokemon_name=Mr. Mime-Galar<br>viability=%{x}<br>percent=%{y}\", \"hovertext\": [\"Mr. Mime-Galar\"], \"legendgroup\": \"Mr. Mime-Galar\", \"marker\": {\"color\": \"#EF553B\"}, \"name\": \"Mr. Mime-Galar\", \"offsetgroup\": \"Mr. Mime-Galar\", \"orientation\": \"v\", \"showlegend\": true, \"textposition\": \"auto\", \"type\": \"bar\", \"x\": [\"C+\"], \"xaxis\": \"x\", \"y\": [0.0], \"yaxis\": \"y\"}, {\"alignmentgroup\": \"True\", \"hoverlabel\": {\"namelength\": 0}, \"hovertemplate\": \"<b>%{hovertext}</b><br><br>pokemon_name=Stonjourner<br>viability=%{x}<br>percent=%{y}\", \"hovertext\": [\"Stonjourner\"], \"legendgroup\": \"Stonjourner\", \"marker\": {\"color\": \"#00cc96\"}, \"name\": \"Stonjourner\", \"offsetgroup\": \"Stonjourner\", \"orientation\": \"v\", \"showlegend\": true, \"textposition\": \"auto\", \"type\": \"bar\", \"x\": [\"C+\"], \"xaxis\": \"x\", \"y\": [0.0], \"yaxis\": \"y\"}, {\"alignmentgroup\": \"True\", \"hoverlabel\": {\"namelength\": 0}, \"hovertemplate\": \"<b>%{hovertext}</b><br><br>pokemon_name=Cursola<br>viability=%{x}<br>percent=%{y}\", \"hovertext\": [\"Cursola\"], \"legendgroup\": \"Cursola\", \"marker\": {\"color\": \"#ab63fa\"}, \"name\": \"Cursola\", \"offsetgroup\": \"Cursola\", \"orientation\": \"v\", \"showlegend\": true, \"textposition\": \"auto\", \"type\": \"bar\", \"x\": [\"C\"], \"xaxis\": \"x\", \"y\": [0.0], \"yaxis\": \"y\"}, {\"alignmentgroup\": \"True\", \"hoverlabel\": {\"namelength\": 0}, \"hovertemplate\": \"<b>%{hovertext}</b><br><br>pokemon_name=Tsareena<br>viability=%{x}<br>percent=%{y}\", \"hovertext\": [\"Tsareena\"], \"legendgroup\": \"Tsareena\", \"marker\": {\"color\": \"#FFA15A\"}, \"name\": \"Tsareena\", \"offsetgroup\": \"Tsareena\", \"orientation\": \"v\", \"showlegend\": true, \"textposition\": \"auto\", \"type\": \"bar\", \"x\": [\"C+\"], \"xaxis\": \"x\", \"y\": [0.0], \"yaxis\": \"y\"}, {\"alignmentgroup\": \"True\", \"hoverlabel\": {\"namelength\": 0}, \"hovertemplate\": \"<b>%{hovertext}</b><br><br>pokemon_name=Escavalier<br>viability=%{x}<br>percent=%{y}\", \"hovertext\": [\"Escavalier\"], \"legendgroup\": \"Escavalier\", \"marker\": {\"color\": \"#19d3f3\"}, \"name\": \"Escavalier\", \"offsetgroup\": \"Escavalier\", \"orientation\": \"v\", \"showlegend\": true, \"textposition\": \"auto\", \"type\": \"bar\", \"x\": [\"C\"], \"xaxis\": \"x\", \"y\": [0.0], \"yaxis\": \"y\"}, {\"alignmentgroup\": \"True\", \"hoverlabel\": {\"namelength\": 0}, \"hovertemplate\": \"<b>%{hovertext}</b><br><br>pokemon_name=Copperajah<br>viability=%{x}<br>percent=%{y}\", \"hovertext\": [\"Copperajah\"], \"legendgroup\": \"Copperajah\", \"marker\": {\"color\": \"#FF6692\"}, \"name\": \"Copperajah\", \"offsetgroup\": \"Copperajah\", \"orientation\": \"v\", \"showlegend\": true, \"textposition\": \"auto\", \"type\": \"bar\", \"x\": [\"C\"], \"xaxis\": \"x\", \"y\": [0.0], \"yaxis\": \"y\"}, {\"alignmentgroup\": \"True\", \"hoverlabel\": {\"namelength\": 0}, \"hovertemplate\": \"<b>%{hovertext}</b><br><br>pokemon_name=Heliolisk<br>viability=%{x}<br>percent=%{y}\", \"hovertext\": [\"Heliolisk\"], \"legendgroup\": \"Heliolisk\", \"marker\": {\"color\": \"#B6E880\"}, \"name\": \"Heliolisk\", \"offsetgroup\": \"Heliolisk\", \"orientation\": \"v\", \"showlegend\": true, \"textposition\": \"auto\", \"type\": \"bar\", \"x\": [\"C\"], \"xaxis\": \"x\", \"y\": [0.0], \"yaxis\": \"y\"}, {\"alignmentgroup\": \"True\", \"hoverlabel\": {\"namelength\": 0}, \"hovertemplate\": \"<b>%{hovertext}</b><br><br>pokemon_name=Frosmoth<br>viability=%{x}<br>percent=%{y}\", \"hovertext\": [\"Frosmoth\"], \"legendgroup\": \"Frosmoth\", \"marker\": {\"color\": \"#FF97FF\"}, \"name\": \"Frosmoth\", \"offsetgroup\": \"Frosmoth\", \"orientation\": \"v\", \"showlegend\": true, \"textposition\": \"auto\", \"type\": \"bar\", \"x\": [\"B-\"], \"xaxis\": \"x\", \"y\": [0.0], \"yaxis\": \"y\"}, {\"alignmentgroup\": \"True\", \"hoverlabel\": {\"namelength\": 0}, \"hovertemplate\": \"<b>%{hovertext}</b><br><br>pokemon_name=Leafeon<br>viability=%{x}<br>percent=%{y}\", \"hovertext\": [\"Leafeon\"], \"legendgroup\": \"Leafeon\", \"marker\": {\"color\": \"#FECB52\"}, \"name\": \"Leafeon\", \"offsetgroup\": \"Leafeon\", \"orientation\": \"v\", \"showlegend\": true, \"textposition\": \"auto\", \"type\": \"bar\", \"x\": [\"C+\"], \"xaxis\": \"x\", \"y\": [0.0], \"yaxis\": \"y\"}, {\"alignmentgroup\": \"True\", \"hoverlabel\": {\"namelength\": 0}, \"hovertemplate\": \"<b>%{hovertext}</b><br><br>pokemon_name=Bellossom<br>viability=%{x}<br>percent=%{y}\", \"hovertext\": [\"Bellossom\"], \"legendgroup\": \"Bellossom\", \"marker\": {\"color\": \"#636efa\"}, \"name\": \"Bellossom\", \"offsetgroup\": \"Bellossom\", \"orientation\": \"v\", \"showlegend\": true, \"textposition\": \"auto\", \"type\": \"bar\", \"x\": [\"C+\"], \"xaxis\": \"x\", \"y\": [0.0], \"yaxis\": \"y\"}, {\"alignmentgroup\": \"True\", \"hoverlabel\": {\"namelength\": 0}, \"hovertemplate\": \"<b>%{hovertext}</b><br><br>pokemon_name=Flygon<br>viability=%{x}<br>percent=%{y}\", \"hovertext\": [\"Flygon\"], \"legendgroup\": \"Flygon\", \"marker\": {\"color\": \"#EF553B\"}, \"name\": \"Flygon\", \"offsetgroup\": \"Flygon\", \"orientation\": \"v\", \"showlegend\": true, \"textposition\": \"auto\", \"type\": \"bar\", \"x\": [\"C+\"], \"xaxis\": \"x\", \"y\": [0.0], \"yaxis\": \"y\"}, {\"alignmentgroup\": \"True\", \"hoverlabel\": {\"namelength\": 0}, \"hovertemplate\": \"<b>%{hovertext}</b><br><br>pokemon_name=Claydol<br>viability=%{x}<br>percent=%{y}\", \"hovertext\": [\"Claydol\"], \"legendgroup\": \"Claydol\", \"marker\": {\"color\": \"#00cc96\"}, \"name\": \"Claydol\", \"offsetgroup\": \"Claydol\", \"orientation\": \"v\", \"showlegend\": true, \"textposition\": \"auto\", \"type\": \"bar\", \"x\": [\"C\"], \"xaxis\": \"x\", \"y\": [0.0], \"yaxis\": \"y\"}, {\"alignmentgroup\": \"True\", \"hoverlabel\": {\"namelength\": 0}, \"hovertemplate\": \"<b>%{hovertext}</b><br><br>pokemon_name=Crawdaunt<br>viability=%{x}<br>percent=%{y}\", \"hovertext\": [\"Crawdaunt\"], \"legendgroup\": \"Crawdaunt\", \"marker\": {\"color\": \"#ab63fa\"}, \"name\": \"Crawdaunt\", \"offsetgroup\": \"Crawdaunt\", \"orientation\": \"v\", \"showlegend\": true, \"textposition\": \"auto\", \"type\": \"bar\", \"x\": [\"C+\"], \"xaxis\": \"x\", \"y\": [0.0], \"yaxis\": \"y\"}, {\"alignmentgroup\": \"True\", \"hoverlabel\": {\"namelength\": 0}, \"hovertemplate\": \"<b>%{hovertext}</b><br><br>pokemon_name=Mr<br>viability=%{x}<br>percent=%{y}\", \"hovertext\": [\"Mr\"], \"legendgroup\": \"Mr\", \"marker\": {\"color\": \"#FFA15A\"}, \"name\": \"Mr\", \"offsetgroup\": \"Mr\", \"orientation\": \"v\", \"showlegend\": true, \"textposition\": \"auto\", \"type\": \"bar\", \"x\": [\"C+\"], \"xaxis\": \"x\", \"y\": [null], \"yaxis\": \"y\"}, {\"alignmentgroup\": \"True\", \"hoverlabel\": {\"namelength\": 0}, \"hovertemplate\": \"<b>%{hovertext}</b><br><br>pokemon_name=Flapple<br>viability=%{x}<br>percent=%{y}\", \"hovertext\": [\"Flapple\"], \"legendgroup\": \"Flapple\", \"marker\": {\"color\": \"#19d3f3\"}, \"name\": \"Flapple\", \"offsetgroup\": \"Flapple\", \"orientation\": \"v\", \"showlegend\": true, \"textposition\": \"auto\", \"type\": \"bar\", \"x\": [\"C\"], \"xaxis\": \"x\", \"y\": [0.0], \"yaxis\": \"y\"}, {\"alignmentgroup\": \"True\", \"hoverlabel\": {\"namelength\": 0}, \"hovertemplate\": \"<b>%{hovertext}</b><br><br>pokemon_name=Drednaw<br>viability=%{x}<br>percent=%{y}\", \"hovertext\": [\"Drednaw\"], \"legendgroup\": \"Drednaw\", \"marker\": {\"color\": \"#FF6692\"}, \"name\": \"Drednaw\", \"offsetgroup\": \"Drednaw\", \"orientation\": \"v\", \"showlegend\": true, \"textposition\": \"auto\", \"type\": \"bar\", \"x\": [\"C+\"], \"xaxis\": \"x\", \"y\": [0.0], \"yaxis\": \"y\"}, {\"alignmentgroup\": \"True\", \"hoverlabel\": {\"namelength\": 0}, \"hovertemplate\": \"<b>%{hovertext}</b><br><br>pokemon_name=Cloyster<br>viability=%{x}<br>percent=%{y}\", \"hovertext\": [\"Cloyster\"], \"legendgroup\": \"Cloyster\", \"marker\": {\"color\": \"#B6E880\"}, \"name\": \"Cloyster\", \"offsetgroup\": \"Cloyster\", \"orientation\": \"v\", \"showlegend\": true, \"textposition\": \"auto\", \"type\": \"bar\", \"x\": [\"C\"], \"xaxis\": \"x\", \"y\": [0.0], \"yaxis\": \"y\"}, {\"alignmentgroup\": \"True\", \"hoverlabel\": {\"namelength\": 0}, \"hovertemplate\": \"<b>%{hovertext}</b><br><br>pokemon_name=Avalugg<br>viability=%{x}<br>percent=%{y}\", \"hovertext\": [\"Avalugg\"], \"legendgroup\": \"Avalugg\", \"marker\": {\"color\": \"#FF97FF\"}, \"name\": \"Avalugg\", \"offsetgroup\": \"Avalugg\", \"orientation\": \"v\", \"showlegend\": true, \"textposition\": \"auto\", \"type\": \"bar\", \"x\": [\"B-\"], \"xaxis\": \"x\", \"y\": [0.0], \"yaxis\": \"y\"}, {\"alignmentgroup\": \"True\", \"hoverlabel\": {\"namelength\": 0}, \"hovertemplate\": \"<b>%{hovertext}</b><br><br>pokemon_name=Togetic<br>viability=%{x}<br>percent=%{y}\", \"hovertext\": [\"Togetic\"], \"legendgroup\": \"Togetic\", \"marker\": {\"color\": \"#FECB52\"}, \"name\": \"Togetic\", \"offsetgroup\": \"Togetic\", \"orientation\": \"v\", \"showlegend\": true, \"textposition\": \"auto\", \"type\": \"bar\", \"x\": [\"C+\"], \"xaxis\": \"x\", \"y\": [0.0], \"yaxis\": \"y\"}, {\"alignmentgroup\": \"True\", \"hoverlabel\": {\"namelength\": 0}, \"hovertemplate\": \"<b>%{hovertext}</b><br><br>pokemon_name=Salazzle<br>viability=%{x}<br>percent=%{y}\", \"hovertext\": [\"Salazzle\"], \"legendgroup\": \"Salazzle\", \"marker\": {\"color\": \"#636efa\"}, \"name\": \"Salazzle\", \"offsetgroup\": \"Salazzle\", \"orientation\": \"v\", \"showlegend\": true, \"textposition\": \"auto\", \"type\": \"bar\", \"x\": [\"C+\"], \"xaxis\": \"x\", \"y\": [0.0], \"yaxis\": \"y\"}, {\"alignmentgroup\": \"True\", \"hoverlabel\": {\"namelength\": 0}, \"hovertemplate\": \"<b>%{hovertext}</b><br><br>pokemon_name=Drifblim<br>viability=%{x}<br>percent=%{y}\", \"hovertext\": [\"Drifblim\"], \"legendgroup\": \"Drifblim\", \"marker\": {\"color\": \"#EF553B\"}, \"name\": \"Drifblim\", \"offsetgroup\": \"Drifblim\", \"orientation\": \"v\", \"showlegend\": true, \"textposition\": \"auto\", \"type\": \"bar\", \"x\": [\"C\"], \"xaxis\": \"x\", \"y\": [0.0], \"yaxis\": \"y\"}, {\"alignmentgroup\": \"True\", \"hoverlabel\": {\"namelength\": 0}, \"hovertemplate\": \"<b>%{hovertext}</b><br><br>pokemon_name=Polteageist<br>viability=%{x}<br>percent=%{y}\", \"hovertext\": [\"Polteageist\"], \"legendgroup\": \"Polteageist\", \"marker\": {\"color\": \"#00cc96\"}, \"name\": \"Polteageist\", \"offsetgroup\": \"Polteageist\", \"orientation\": \"v\", \"showlegend\": true, \"textposition\": \"auto\", \"type\": \"bar\", \"x\": [\"C\"], \"xaxis\": \"x\", \"y\": [0.0], \"yaxis\": \"y\"}, {\"alignmentgroup\": \"True\", \"hoverlabel\": {\"namelength\": 0}, \"hovertemplate\": \"<b>%{hovertext}</b><br><br>pokemon_name=Noivern<br>viability=%{x}<br>percent=%{y}\", \"hovertext\": [\"Noivern\"], \"legendgroup\": \"Noivern\", \"marker\": {\"color\": \"#ab63fa\"}, \"name\": \"Noivern\", \"offsetgroup\": \"Noivern\", \"orientation\": \"v\", \"showlegend\": true, \"textposition\": \"auto\", \"type\": \"bar\", \"x\": [\"B-\"], \"xaxis\": \"x\", \"y\": [0.0], \"yaxis\": \"y\"}, {\"alignmentgroup\": \"True\", \"hoverlabel\": {\"namelength\": 0}, \"hovertemplate\": \"<b>%{hovertext}</b><br><br>pokemon_name=Beartic<br>viability=%{x}<br>percent=%{y}\", \"hovertext\": [\"Beartic\"], \"legendgroup\": \"Beartic\", \"marker\": {\"color\": \"#FFA15A\"}, \"name\": \"Beartic\", \"offsetgroup\": \"Beartic\", \"orientation\": \"v\", \"showlegend\": true, \"textposition\": \"auto\", \"type\": \"bar\", \"x\": [\"C+\"], \"xaxis\": \"x\", \"y\": [0.0], \"yaxis\": \"y\"}, {\"alignmentgroup\": \"True\", \"hoverlabel\": {\"namelength\": 0}, \"hovertemplate\": \"<b>%{hovertext}</b><br><br>pokemon_name=Toxapex<br>viability=%{x}<br>percent=%{y}\", \"hovertext\": [\"Toxapex\"], \"legendgroup\": \"Toxapex\", \"marker\": {\"color\": \"#19d3f3\"}, \"name\": \"Toxapex\", \"offsetgroup\": \"Toxapex\", \"orientation\": \"v\", \"showlegend\": true, \"textposition\": \"auto\", \"type\": \"bar\", \"x\": [\"C\"], \"xaxis\": \"x\", \"y\": [0.0], \"yaxis\": \"y\"}, {\"alignmentgroup\": \"True\", \"hoverlabel\": {\"namelength\": 0}, \"hovertemplate\": \"<b>%{hovertext}</b><br><br>pokemon_name=Machamp<br>viability=%{x}<br>percent=%{y}\", \"hovertext\": [\"Machamp\"], \"legendgroup\": \"Machamp\", \"marker\": {\"color\": \"#FF6692\"}, \"name\": \"Machamp\", \"offsetgroup\": \"Machamp\", \"orientation\": \"v\", \"showlegend\": true, \"textposition\": \"auto\", \"type\": \"bar\", \"x\": [\"C\"], \"xaxis\": \"x\", \"y\": [0.0], \"yaxis\": \"y\"}, {\"alignmentgroup\": \"True\", \"hoverlabel\": {\"namelength\": 0}, \"hovertemplate\": \"<b>%{hovertext}</b><br><br>pokemon_name=Golisopod<br>viability=%{x}<br>percent=%{y}\", \"hovertext\": [\"Golisopod\"], \"legendgroup\": \"Golisopod\", \"marker\": {\"color\": \"#B6E880\"}, \"name\": \"Golisopod\", \"offsetgroup\": \"Golisopod\", \"orientation\": \"v\", \"showlegend\": true, \"textposition\": \"auto\", \"type\": \"bar\", \"x\": [\"C\"], \"xaxis\": \"x\", \"y\": [0.0], \"yaxis\": \"y\"}, {\"alignmentgroup\": \"True\", \"hoverlabel\": {\"namelength\": 0}, \"hovertemplate\": \"<b>%{hovertext}</b><br><br>pokemon_name=Accelgor<br>viability=%{x}<br>percent=%{y}\", \"hovertext\": [\"Accelgor\"], \"legendgroup\": \"Accelgor\", \"marker\": {\"color\": \"#FF97FF\"}, \"name\": \"Accelgor\", \"offsetgroup\": \"Accelgor\", \"orientation\": \"v\", \"showlegend\": true, \"textposition\": \"auto\", \"type\": \"bar\", \"x\": [\"C\"], \"xaxis\": \"x\", \"y\": [0.0], \"yaxis\": \"y\"}, {\"alignmentgroup\": \"True\", \"hoverlabel\": {\"namelength\": 0}, \"hovertemplate\": \"<b>%{hovertext}</b><br><br>pokemon_name=Manectric<br>viability=%{x}<br>percent=%{y}\", \"hovertext\": [\"Manectric\"], \"legendgroup\": \"Manectric\", \"marker\": {\"color\": \"#FECB52\"}, \"name\": \"Manectric\", \"offsetgroup\": \"Manectric\", \"orientation\": \"v\", \"showlegend\": true, \"textposition\": \"auto\", \"type\": \"bar\", \"x\": [\"C+\"], \"xaxis\": \"x\", \"y\": [0.0], \"yaxis\": \"y\"}, {\"alignmentgroup\": \"True\", \"hoverlabel\": {\"namelength\": 0}, \"hovertemplate\": \"<b>%{hovertext}</b><br><br>pokemon_name=Sawk<br>viability=%{x}<br>percent=%{y}\", \"hovertext\": [\"Sawk\"], \"legendgroup\": \"Sawk\", \"marker\": {\"color\": \"#636efa\"}, \"name\": \"Sawk\", \"offsetgroup\": \"Sawk\", \"orientation\": \"v\", \"showlegend\": true, \"textposition\": \"auto\", \"type\": \"bar\", \"x\": [\"C+\"], \"xaxis\": \"x\", \"y\": [0.0], \"yaxis\": \"y\"}, {\"alignmentgroup\": \"True\", \"hoverlabel\": {\"namelength\": 0}, \"hovertemplate\": \"<b>%{hovertext}</b><br><br>pokemon_name=Eiscue<br>viability=%{x}<br>percent=%{y}\", \"hovertext\": [\"Eiscue\"], \"legendgroup\": \"Eiscue\", \"marker\": {\"color\": \"#EF553B\"}, \"name\": \"Eiscue\", \"offsetgroup\": \"Eiscue\", \"orientation\": \"v\", \"showlegend\": true, \"textposition\": \"auto\", \"type\": \"bar\", \"x\": [\"C+\"], \"xaxis\": \"x\", \"y\": [0.0], \"yaxis\": \"y\"}, {\"alignmentgroup\": \"True\", \"hoverlabel\": {\"namelength\": 0}, \"hovertemplate\": \"<b>%{hovertext}</b><br><br>pokemon_name=Falinks<br>viability=%{x}<br>percent=%{y}\", \"hovertext\": [\"Falinks\"], \"legendgroup\": \"Falinks\", \"marker\": {\"color\": \"#00cc96\"}, \"name\": \"Falinks\", \"offsetgroup\": \"Falinks\", \"orientation\": \"v\", \"showlegend\": true, \"textposition\": \"auto\", \"type\": \"bar\", \"x\": [\"C\"], \"xaxis\": \"x\", \"y\": [0.0], \"yaxis\": \"y\"}, {\"alignmentgroup\": \"True\", \"hoverlabel\": {\"namelength\": 0}, \"hovertemplate\": \"<b>%{hovertext}</b><br><br>pokemon_name=Boltund<br>viability=%{x}<br>percent=%{y}\", \"hovertext\": [\"Boltund\"], \"legendgroup\": \"Boltund\", \"marker\": {\"color\": \"#ab63fa\"}, \"name\": \"Boltund\", \"offsetgroup\": \"Boltund\", \"orientation\": \"v\", \"showlegend\": true, \"textposition\": \"auto\", \"type\": \"bar\", \"x\": [\"C+\"], \"xaxis\": \"x\", \"y\": [0.0], \"yaxis\": \"y\"}, {\"alignmentgroup\": \"True\", \"hoverlabel\": {\"namelength\": 0}, \"hovertemplate\": \"<b>%{hovertext}</b><br><br>pokemon_name=Steelix<br>viability=%{x}<br>percent=%{y}\", \"hovertext\": [\"Steelix\"], \"legendgroup\": \"Steelix\", \"marker\": {\"color\": \"#FFA15A\"}, \"name\": \"Steelix\", \"offsetgroup\": \"Steelix\", \"orientation\": \"v\", \"showlegend\": true, \"textposition\": \"auto\", \"type\": \"bar\", \"x\": [\"C+\"], \"xaxis\": \"x\", \"y\": [0.0], \"yaxis\": \"y\"}, {\"alignmentgroup\": \"True\", \"hoverlabel\": {\"namelength\": 0}, \"hovertemplate\": \"<b>%{hovertext}</b><br><br>pokemon_name=Orbeetle<br>viability=%{x}<br>percent=%{y}\", \"hovertext\": [\"Orbeetle\"], \"legendgroup\": \"Orbeetle\", \"marker\": {\"color\": \"#19d3f3\"}, \"name\": \"Orbeetle\", \"offsetgroup\": \"Orbeetle\", \"orientation\": \"v\", \"showlegend\": true, \"textposition\": \"auto\", \"type\": \"bar\", \"x\": [\"C\"], \"xaxis\": \"x\", \"y\": [0.0], \"yaxis\": \"y\"}, {\"alignmentgroup\": \"True\", \"hoverlabel\": {\"namelength\": 0}, \"hovertemplate\": \"<b>%{hovertext}</b><br><br>pokemon_name=Ditto<br>viability=%{x}<br>percent=%{y}\", \"hovertext\": [\"Ditto\"], \"legendgroup\": \"Ditto\", \"marker\": {\"color\": \"#FF6692\"}, \"name\": \"Ditto\", \"offsetgroup\": \"Ditto\", \"orientation\": \"v\", \"showlegend\": true, \"textposition\": \"auto\", \"type\": \"bar\", \"x\": [\"C+\"], \"xaxis\": \"x\", \"y\": [0.0], \"yaxis\": \"y\"}, {\"alignmentgroup\": \"True\", \"hoverlabel\": {\"namelength\": 0}, \"hovertemplate\": \"<b>%{hovertext}</b><br><br>pokemon_name=Cramorant<br>viability=%{x}<br>percent=%{y}\", \"hovertext\": [\"Cramorant\"], \"legendgroup\": \"Cramorant\", \"marker\": {\"color\": \"#B6E880\"}, \"name\": \"Cramorant\", \"offsetgroup\": \"Cramorant\", \"orientation\": \"v\", \"showlegend\": true, \"textposition\": \"auto\", \"type\": \"bar\", \"x\": [\"C+\"], \"xaxis\": \"x\", \"y\": [0.0], \"yaxis\": \"y\"}, {\"alignmentgroup\": \"True\", \"hoverlabel\": {\"namelength\": 0}, \"hovertemplate\": \"<b>%{hovertext}</b><br><br>pokemon_name=Bewear<br>viability=%{x}<br>percent=%{y}\", \"hovertext\": [\"Bewear\"], \"legendgroup\": \"Bewear\", \"marker\": {\"color\": \"#FF97FF\"}, \"name\": \"Bewear\", \"offsetgroup\": \"Bewear\", \"orientation\": \"v\", \"showlegend\": true, \"textposition\": \"auto\", \"type\": \"bar\", \"x\": [\"C+\"], \"xaxis\": \"x\", \"y\": [0.0], \"yaxis\": \"y\"}, {\"alignmentgroup\": \"True\", \"hoverlabel\": {\"namelength\": 0}, \"hovertemplate\": \"<b>%{hovertext}</b><br><br>pokemon_name=Toxicroak<br>viability=%{x}<br>percent=%{y}\", \"hovertext\": [\"Toxicroak\"], \"legendgroup\": \"Toxicroak\", \"marker\": {\"color\": \"#FECB52\"}, \"name\": \"Toxicroak\", \"offsetgroup\": \"Toxicroak\", \"orientation\": \"v\", \"showlegend\": true, \"textposition\": \"auto\", \"type\": \"bar\", \"x\": [\"C\"], \"xaxis\": \"x\", \"y\": [0.0], \"yaxis\": \"y\"}, {\"alignmentgroup\": \"True\", \"hoverlabel\": {\"namelength\": 0}, \"hovertemplate\": \"<b>%{hovertext}</b><br><br>pokemon_name=Rotom-Frost<br>viability=%{x}<br>percent=%{y}\", \"hovertext\": [\"Rotom-Frost\"], \"legendgroup\": \"Rotom-Frost\", \"marker\": {\"color\": \"#636efa\"}, \"name\": \"Rotom-Frost\", \"offsetgroup\": \"Rotom-Frost\", \"orientation\": \"v\", \"showlegend\": true, \"textposition\": \"auto\", \"type\": \"bar\", \"x\": [\"B-\"], \"xaxis\": \"x\", \"y\": [0.0], \"yaxis\": \"y\"}, {\"alignmentgroup\": \"True\", \"hoverlabel\": {\"namelength\": 0}, \"hovertemplate\": \"<b>%{hovertext}</b><br><br>pokemon_name=Galvantula<br>viability=%{x}<br>percent=%{y}\", \"hovertext\": [\"Galvantula\"], \"legendgroup\": \"Galvantula\", \"marker\": {\"color\": \"#EF553B\"}, \"name\": \"Galvantula\", \"offsetgroup\": \"Galvantula\", \"orientation\": \"v\", \"showlegend\": true, \"textposition\": \"auto\", \"type\": \"bar\", \"x\": [\"C+\"], \"xaxis\": \"x\", \"y\": [0.0], \"yaxis\": \"y\"}, {\"alignmentgroup\": \"True\", \"hoverlabel\": {\"namelength\": 0}, \"hovertemplate\": \"<b>%{hovertext}</b><br><br>pokemon_name=Espeon<br>viability=%{x}<br>percent=%{y}\", \"hovertext\": [\"Espeon\"], \"legendgroup\": \"Espeon\", \"marker\": {\"color\": \"#00cc96\"}, \"name\": \"Espeon\", \"offsetgroup\": \"Espeon\", \"orientation\": \"v\", \"showlegend\": true, \"textposition\": \"auto\", \"type\": \"bar\", \"x\": [\"C-\"], \"xaxis\": \"x\", \"y\": [0.0], \"yaxis\": \"y\"}, {\"alignmentgroup\": \"True\", \"hoverlabel\": {\"namelength\": 0}, \"hovertemplate\": \"<b>%{hovertext}</b><br><br>pokemon_name=Arctovish<br>viability=%{x}<br>percent=%{y}\", \"hovertext\": [\"Arctovish\"], \"legendgroup\": \"Arctovish\", \"marker\": {\"color\": \"#ab63fa\"}, \"name\": \"Arctovish\", \"offsetgroup\": \"Arctovish\", \"orientation\": \"v\", \"showlegend\": true, \"textposition\": \"auto\", \"type\": \"bar\", \"x\": [\"C+\"], \"xaxis\": \"x\", \"y\": [0.0], \"yaxis\": \"y\"}, {\"alignmentgroup\": \"True\", \"hoverlabel\": {\"namelength\": 0}, \"hovertemplate\": \"<b>%{hovertext}</b><br><br>pokemon_name=Cherrim<br>viability=%{x}<br>percent=%{y}\", \"hovertext\": [\"Cherrim\"], \"legendgroup\": \"Cherrim\", \"marker\": {\"color\": \"#FFA15A\"}, \"name\": \"Cherrim\", \"offsetgroup\": \"Cherrim\", \"orientation\": \"v\", \"showlegend\": true, \"textposition\": \"auto\", \"type\": \"bar\", \"x\": [\"C\"], \"xaxis\": \"x\", \"y\": [0.0], \"yaxis\": \"y\"}, {\"alignmentgroup\": \"True\", \"hoverlabel\": {\"namelength\": 0}, \"hovertemplate\": \"<b>%{hovertext}</b><br><br>pokemon_name=Klang<br>viability=%{x}<br>percent=%{y}\", \"hovertext\": [\"Klang\"], \"legendgroup\": \"Klang\", \"marker\": {\"color\": \"#19d3f3\"}, \"name\": \"Klang\", \"offsetgroup\": \"Klang\", \"orientation\": \"v\", \"showlegend\": true, \"textposition\": \"auto\", \"type\": \"bar\", \"x\": [\"C+\"], \"xaxis\": \"x\", \"y\": [0.0], \"yaxis\": \"y\"}, {\"alignmentgroup\": \"True\", \"hoverlabel\": {\"namelength\": 0}, \"hovertemplate\": \"<b>%{hovertext}</b><br><br>pokemon_name=Klinklang<br>viability=%{x}<br>percent=%{y}\", \"hovertext\": [\"Klinklang\"], \"legendgroup\": \"Klinklang\", \"marker\": {\"color\": \"#FF6692\"}, \"name\": \"Klinklang\", \"offsetgroup\": \"Klinklang\", \"orientation\": \"v\", \"showlegend\": true, \"textposition\": \"auto\", \"type\": \"bar\", \"x\": [\"C\"], \"xaxis\": \"x\", \"y\": [0.0], \"yaxis\": \"y\"}, {\"alignmentgroup\": \"True\", \"hoverlabel\": {\"namelength\": 0}, \"hovertemplate\": \"<b>%{hovertext}</b><br><br>pokemon_name=Gothorita<br>viability=%{x}<br>percent=%{y}\", \"hovertext\": [\"Gothorita\"], \"legendgroup\": \"Gothorita\", \"marker\": {\"color\": \"#B6E880\"}, \"name\": \"Gothorita\", \"offsetgroup\": \"Gothorita\", \"orientation\": \"v\", \"showlegend\": true, \"textposition\": \"auto\", \"type\": \"bar\", \"x\": [\"C+\"], \"xaxis\": \"x\", \"y\": [0.0], \"yaxis\": \"y\"}, {\"alignmentgroup\": \"True\", \"hoverlabel\": {\"namelength\": 0}, \"hovertemplate\": \"<b>%{hovertext}</b><br><br>pokemon_name=Grapploct<br>viability=%{x}<br>percent=%{y}\", \"hovertext\": [\"Grapploct\"], \"legendgroup\": \"Grapploct\", \"marker\": {\"color\": \"#FF97FF\"}, \"name\": \"Grapploct\", \"offsetgroup\": \"Grapploct\", \"orientation\": \"v\", \"showlegend\": true, \"textposition\": \"auto\", \"type\": \"bar\", \"x\": [\"C\"], \"xaxis\": \"x\", \"y\": [0.0], \"yaxis\": \"y\"}, {\"alignmentgroup\": \"True\", \"hoverlabel\": {\"namelength\": 0}, \"hovertemplate\": \"<b>%{hovertext}</b><br><br>pokemon_name=Dubwool<br>viability=%{x}<br>percent=%{y}\", \"hovertext\": [\"Dubwool\"], \"legendgroup\": \"Dubwool\", \"marker\": {\"color\": \"#FECB52\"}, \"name\": \"Dubwool\", \"offsetgroup\": \"Dubwool\", \"orientation\": \"v\", \"showlegend\": true, \"textposition\": \"auto\", \"type\": \"bar\", \"x\": [\"C\"], \"xaxis\": \"x\", \"y\": [0.0], \"yaxis\": \"y\"}, {\"alignmentgroup\": \"True\", \"hoverlabel\": {\"namelength\": 0}, \"hovertemplate\": \"<b>%{hovertext}</b><br><br>pokemon_name=Quagsire<br>viability=%{x}<br>percent=%{y}\", \"hovertext\": [\"Quagsire\"], \"legendgroup\": \"Quagsire\", \"marker\": {\"color\": \"#636efa\"}, \"name\": \"Quagsire\", \"offsetgroup\": \"Quagsire\", \"orientation\": \"v\", \"showlegend\": true, \"textposition\": \"auto\", \"type\": \"bar\", \"x\": [\"C\"], \"xaxis\": \"x\", \"y\": [0.0], \"yaxis\": \"y\"}, {\"alignmentgroup\": \"True\", \"hoverlabel\": {\"namelength\": 0}, \"hovertemplate\": \"<b>%{hovertext}</b><br><br>pokemon_name=Silvally-Ground<br>viability=%{x}<br>percent=%{y}\", \"hovertext\": [\"Silvally-Ground\"], \"legendgroup\": \"Silvally-Ground\", \"marker\": {\"color\": \"#EF553B\"}, \"name\": \"Silvally-Ground\", \"offsetgroup\": \"Silvally-Ground\", \"orientation\": \"v\", \"showlegend\": true, \"textposition\": \"auto\", \"type\": \"bar\", \"x\": [\"C+\"], \"xaxis\": \"x\", \"y\": [0.0], \"yaxis\": \"y\"}, {\"alignmentgroup\": \"True\", \"hoverlabel\": {\"namelength\": 0}, \"hovertemplate\": \"<b>%{hovertext}</b><br><br>pokemon_name=Thievul<br>viability=%{x}<br>percent=%{y}\", \"hovertext\": [\"Thievul\"], \"legendgroup\": \"Thievul\", \"marker\": {\"color\": \"#00cc96\"}, \"name\": \"Thievul\", \"offsetgroup\": \"Thievul\", \"orientation\": \"v\", \"showlegend\": true, \"textposition\": \"auto\", \"type\": \"bar\", \"x\": [\"C\"], \"xaxis\": \"x\", \"y\": [0.0], \"yaxis\": \"y\"}, {\"alignmentgroup\": \"True\", \"hoverlabel\": {\"namelength\": 0}, \"hovertemplate\": \"<b>%{hovertext}</b><br><br>pokemon_name=Basculin<br>viability=%{x}<br>percent=%{y}\", \"hovertext\": [\"Basculin\"], \"legendgroup\": \"Basculin\", \"marker\": {\"color\": \"#ab63fa\"}, \"name\": \"Basculin\", \"offsetgroup\": \"Basculin\", \"orientation\": \"v\", \"showlegend\": true, \"textposition\": \"auto\", \"type\": \"bar\", \"x\": [\"C+\"], \"xaxis\": \"x\", \"y\": [0.0], \"yaxis\": \"y\"}, {\"alignmentgroup\": \"True\", \"hoverlabel\": {\"namelength\": 0}, \"hovertemplate\": \"<b>%{hovertext}</b><br><br>pokemon_name=Mantine<br>viability=%{x}<br>percent=%{y}\", \"hovertext\": [\"Mantine\"], \"legendgroup\": \"Mantine\", \"marker\": {\"color\": \"#FFA15A\"}, \"name\": \"Mantine\", \"offsetgroup\": \"Mantine\", \"orientation\": \"v\", \"showlegend\": true, \"textposition\": \"auto\", \"type\": \"bar\", \"x\": [\"C\"], \"xaxis\": \"x\", \"y\": [0.0], \"yaxis\": \"y\"}, {\"alignmentgroup\": \"True\", \"hoverlabel\": {\"namelength\": 0}, \"hovertemplate\": \"<b>%{hovertext}</b><br><br>pokemon_name=Jolteon<br>viability=%{x}<br>percent=%{y}\", \"hovertext\": [\"Jolteon\"], \"legendgroup\": \"Jolteon\", \"marker\": {\"color\": \"#19d3f3\"}, \"name\": \"Jolteon\", \"offsetgroup\": \"Jolteon\", \"orientation\": \"v\", \"showlegend\": true, \"textposition\": \"auto\", \"type\": \"bar\", \"x\": [\"C\"], \"xaxis\": \"x\", \"y\": [0.0], \"yaxis\": \"y\"}, {\"alignmentgroup\": \"True\", \"hoverlabel\": {\"namelength\": 0}, \"hovertemplate\": \"<b>%{hovertext}</b><br><br>pokemon_name=Drapion<br>viability=%{x}<br>percent=%{y}\", \"hovertext\": [\"Drapion\"], \"legendgroup\": \"Drapion\", \"marker\": {\"color\": \"#FF6692\"}, \"name\": \"Drapion\", \"offsetgroup\": \"Drapion\", \"orientation\": \"v\", \"showlegend\": true, \"textposition\": \"auto\", \"type\": \"bar\", \"x\": [\"C+\"], \"xaxis\": \"x\", \"y\": [0.0], \"yaxis\": \"y\"}, {\"alignmentgroup\": \"True\", \"hoverlabel\": {\"namelength\": 0}, \"hovertemplate\": \"<b>%{hovertext}</b><br><br>pokemon_name=Rhydon<br>viability=%{x}<br>percent=%{y}\", \"hovertext\": [\"Rhydon\"], \"legendgroup\": \"Rhydon\", \"marker\": {\"color\": \"#B6E880\"}, \"name\": \"Rhydon\", \"offsetgroup\": \"Rhydon\", \"orientation\": \"v\", \"showlegend\": true, \"textposition\": \"auto\", \"type\": \"bar\", \"x\": [\"C\"], \"xaxis\": \"x\", \"y\": [0.0], \"yaxis\": \"y\"}, {\"alignmentgroup\": \"True\", \"hoverlabel\": {\"namelength\": 0}, \"hovertemplate\": \"<b>%{hovertext}</b><br><br>pokemon_name=Dugtrio<br>viability=%{x}<br>percent=%{y}\", \"hovertext\": [\"Dugtrio\"], \"legendgroup\": \"Dugtrio\", \"marker\": {\"color\": \"#FF97FF\"}, \"name\": \"Dugtrio\", \"offsetgroup\": \"Dugtrio\", \"orientation\": \"v\", \"showlegend\": true, \"textposition\": \"auto\", \"type\": \"bar\", \"x\": [\"C\"], \"xaxis\": \"x\", \"y\": [0.0], \"yaxis\": \"y\"}, {\"alignmentgroup\": \"True\", \"hoverlabel\": {\"namelength\": 0}, \"hovertemplate\": \"<b>%{hovertext}</b><br><br>pokemon_name=Silvally-Grass<br>viability=%{x}<br>percent=%{y}\", \"hovertext\": [\"Silvally-Grass\"], \"legendgroup\": \"Silvally-Grass\", \"marker\": {\"color\": \"#FECB52\"}, \"name\": \"Silvally-Grass\", \"offsetgroup\": \"Silvally-Grass\", \"orientation\": \"v\", \"showlegend\": true, \"textposition\": \"auto\", \"type\": \"bar\", \"x\": [\"C\"], \"xaxis\": \"x\", \"y\": [0.0], \"yaxis\": \"y\"}, {\"alignmentgroup\": \"True\", \"hoverlabel\": {\"namelength\": 0}, \"hovertemplate\": \"<b>%{hovertext}</b><br><br>pokemon_name=Shiftry<br>viability=%{x}<br>percent=%{y}\", \"hovertext\": [\"Shiftry\"], \"legendgroup\": \"Shiftry\", \"marker\": {\"color\": \"#636efa\"}, \"name\": \"Shiftry\", \"offsetgroup\": \"Shiftry\", \"orientation\": \"v\", \"showlegend\": true, \"textposition\": \"auto\", \"type\": \"bar\", \"x\": [\"C\"], \"xaxis\": \"x\", \"y\": [0.0], \"yaxis\": \"y\"}, {\"alignmentgroup\": \"True\", \"hoverlabel\": {\"namelength\": 0}, \"hovertemplate\": \"<b>%{hovertext}</b><br><br>pokemon_name=Froslass<br>viability=%{x}<br>percent=%{y}\", \"hovertext\": [\"Froslass\"], \"legendgroup\": \"Froslass\", \"marker\": {\"color\": \"#EF553B\"}, \"name\": \"Froslass\", \"offsetgroup\": \"Froslass\", \"orientation\": \"v\", \"showlegend\": true, \"textposition\": \"auto\", \"type\": \"bar\", \"x\": [\"C+\"], \"xaxis\": \"x\", \"y\": [0.0], \"yaxis\": \"y\"}, {\"alignmentgroup\": \"True\", \"hoverlabel\": {\"namelength\": 0}, \"hovertemplate\": \"<b>%{hovertext}</b><br><br>pokemon_name=Vaporeon<br>viability=%{x}<br>percent=%{y}\", \"hovertext\": [\"Vaporeon\"], \"legendgroup\": \"Vaporeon\", \"marker\": {\"color\": \"#00cc96\"}, \"name\": \"Vaporeon\", \"offsetgroup\": \"Vaporeon\", \"orientation\": \"v\", \"showlegend\": true, \"textposition\": \"auto\", \"type\": \"bar\", \"x\": [\"C+\"], \"xaxis\": \"x\", \"y\": [0.0], \"yaxis\": \"y\"}, {\"alignmentgroup\": \"True\", \"hoverlabel\": {\"namelength\": 0}, \"hovertemplate\": \"<b>%{hovertext}</b><br><br>pokemon_name=Cinccino<br>viability=%{x}<br>percent=%{y}\", \"hovertext\": [\"Cinccino\"], \"legendgroup\": \"Cinccino\", \"marker\": {\"color\": \"#ab63fa\"}, \"name\": \"Cinccino\", \"offsetgroup\": \"Cinccino\", \"orientation\": \"v\", \"showlegend\": true, \"textposition\": \"auto\", \"type\": \"bar\", \"x\": [\"C\"], \"xaxis\": \"x\", \"y\": [0.0], \"yaxis\": \"y\"}, {\"alignmentgroup\": \"True\", \"hoverlabel\": {\"namelength\": 0}, \"hovertemplate\": \"<b>%{hovertext}</b><br><br>pokemon_name=Octillery<br>viability=%{x}<br>percent=%{y}\", \"hovertext\": [\"Octillery\"], \"legendgroup\": \"Octillery\", \"marker\": {\"color\": \"#FFA15A\"}, \"name\": \"Octillery\", \"offsetgroup\": \"Octillery\", \"orientation\": \"v\", \"showlegend\": true, \"textposition\": \"auto\", \"type\": \"bar\", \"x\": [\"C\"], \"xaxis\": \"x\", \"y\": [0.0], \"yaxis\": \"y\"}, {\"alignmentgroup\": \"True\", \"hoverlabel\": {\"namelength\": 0}, \"hovertemplate\": \"<b>%{hovertext}</b><br><br>pokemon_name=Dottler<br>viability=%{x}<br>percent=%{y}\", \"hovertext\": [\"Dottler\"], \"legendgroup\": \"Dottler\", \"marker\": {\"color\": \"#19d3f3\"}, \"name\": \"Dottler\", \"offsetgroup\": \"Dottler\", \"orientation\": \"v\", \"showlegend\": true, \"textposition\": \"auto\", \"type\": \"bar\", \"x\": [\"C+\"], \"xaxis\": \"x\", \"y\": [0.0], \"yaxis\": \"y\"}, {\"alignmentgroup\": \"True\", \"hoverlabel\": {\"namelength\": 0}, \"hovertemplate\": \"<b>%{hovertext}</b><br><br>pokemon_name=Dusknoir<br>viability=%{x}<br>percent=%{y}\", \"hovertext\": [\"Dusknoir\"], \"legendgroup\": \"Dusknoir\", \"marker\": {\"color\": \"#FF6692\"}, \"name\": \"Dusknoir\", \"offsetgroup\": \"Dusknoir\", \"orientation\": \"v\", \"showlegend\": true, \"textposition\": \"auto\", \"type\": \"bar\", \"x\": [\"C+\"], \"xaxis\": \"x\", \"y\": [0.0], \"yaxis\": \"y\"}, {\"alignmentgroup\": \"True\", \"hoverlabel\": {\"namelength\": 0}, \"hovertemplate\": \"<b>%{hovertext}</b><br><br>pokemon_name=Rapidash-Galar<br>viability=%{x}<br>percent=%{y}\", \"hovertext\": [\"Rapidash-Galar\"], \"legendgroup\": \"Rapidash-Galar\", \"marker\": {\"color\": \"#B6E880\"}, \"name\": \"Rapidash-Galar\", \"offsetgroup\": \"Rapidash-Galar\", \"orientation\": \"v\", \"showlegend\": true, \"textposition\": \"auto\", \"type\": \"bar\", \"x\": [\"C-\"], \"xaxis\": \"x\", \"y\": [0.0], \"yaxis\": \"y\"}, {\"alignmentgroup\": \"True\", \"hoverlabel\": {\"namelength\": 0}, \"hovertemplate\": \"<b>%{hovertext}</b><br><br>pokemon_name=Delibird<br>viability=%{x}<br>percent=%{y}\", \"hovertext\": [\"Delibird\"], \"legendgroup\": \"Delibird\", \"marker\": {\"color\": \"#FF97FF\"}, \"name\": \"Delibird\", \"offsetgroup\": \"Delibird\", \"orientation\": \"v\", \"showlegend\": true, \"textposition\": \"auto\", \"type\": \"bar\", \"x\": [\"C\"], \"xaxis\": \"x\", \"y\": [0.0], \"yaxis\": \"y\"}, {\"alignmentgroup\": \"True\", \"hoverlabel\": {\"namelength\": 0}, \"hovertemplate\": \"<b>%{hovertext}</b><br><br>pokemon_name=Wishiwashi<br>viability=%{x}<br>percent=%{y}\", \"hovertext\": [\"Wishiwashi\"], \"legendgroup\": \"Wishiwashi\", \"marker\": {\"color\": \"#FECB52\"}, \"name\": \"Wishiwashi\", \"offsetgroup\": \"Wishiwashi\", \"orientation\": \"v\", \"showlegend\": true, \"textposition\": \"auto\", \"type\": \"bar\", \"x\": [\"C\"], \"xaxis\": \"x\", \"y\": [0.0], \"yaxis\": \"y\"}, {\"alignmentgroup\": \"True\", \"hoverlabel\": {\"namelength\": 0}, \"hovertemplate\": \"<b>%{hovertext}</b><br><br>pokemon_name=Wailord<br>viability=%{x}<br>percent=%{y}\", \"hovertext\": [\"Wailord\"], \"legendgroup\": \"Wailord\", \"marker\": {\"color\": \"#636efa\"}, \"name\": \"Wailord\", \"offsetgroup\": \"Wailord\", \"orientation\": \"v\", \"showlegend\": true, \"textposition\": \"auto\", \"type\": \"bar\", \"x\": [\"C-\"], \"xaxis\": \"x\", \"y\": [0.0], \"yaxis\": \"y\"}, {\"alignmentgroup\": \"True\", \"hoverlabel\": {\"namelength\": 0}, \"hovertemplate\": \"<b>%{hovertext}</b><br><br>pokemon_name=Kingler<br>viability=%{x}<br>percent=%{y}\", \"hovertext\": [\"Kingler\"], \"legendgroup\": \"Kingler\", \"marker\": {\"color\": \"#EF553B\"}, \"name\": \"Kingler\", \"offsetgroup\": \"Kingler\", \"orientation\": \"v\", \"showlegend\": true, \"textposition\": \"auto\", \"type\": \"bar\", \"x\": [\"C\"], \"xaxis\": \"x\", \"y\": [0.0], \"yaxis\": \"y\"}, {\"alignmentgroup\": \"True\", \"hoverlabel\": {\"namelength\": 0}, \"hovertemplate\": \"<b>%{hovertext}</b><br><br>pokemon_name=Gourgeist-Small<br>viability=%{x}<br>percent=%{y}\", \"hovertext\": [\"Gourgeist-Small\"], \"legendgroup\": \"Gourgeist-Small\", \"marker\": {\"color\": \"#00cc96\"}, \"name\": \"Gourgeist-Small\", \"offsetgroup\": \"Gourgeist-Small\", \"orientation\": \"v\", \"showlegend\": true, \"textposition\": \"auto\", \"type\": \"bar\", \"x\": [\"C+\"], \"xaxis\": \"x\", \"y\": [0.0], \"yaxis\": \"y\"}, {\"alignmentgroup\": \"True\", \"hoverlabel\": {\"namelength\": 0}, \"hovertemplate\": \"<b>%{hovertext}</b><br><br>pokemon_name=Silvally-Fighting<br>viability=%{x}<br>percent=%{y}\", \"hovertext\": [\"Silvally-Fighting\"], \"legendgroup\": \"Silvally-Fighting\", \"marker\": {\"color\": \"#ab63fa\"}, \"name\": \"Silvally-Fighting\", \"offsetgroup\": \"Silvally-Fighting\", \"orientation\": \"v\", \"showlegend\": true, \"textposition\": \"auto\", \"type\": \"bar\", \"x\": [\"C\"], \"xaxis\": \"x\", \"y\": [0.0], \"yaxis\": \"y\"}, {\"alignmentgroup\": \"True\", \"hoverlabel\": {\"namelength\": 0}, \"hovertemplate\": \"<b>%{hovertext}</b><br><br>pokemon_name=Beheeyem<br>viability=%{x}<br>percent=%{y}\", \"hovertext\": [\"Beheeyem\"], \"legendgroup\": \"Beheeyem\", \"marker\": {\"color\": \"#FFA15A\"}, \"name\": \"Beheeyem\", \"offsetgroup\": \"Beheeyem\", \"orientation\": \"v\", \"showlegend\": true, \"textposition\": \"auto\", \"type\": \"bar\", \"x\": [\"C+\"], \"xaxis\": \"x\", \"y\": [0.0], \"yaxis\": \"y\"}, {\"alignmentgroup\": \"True\", \"hoverlabel\": {\"namelength\": 0}, \"hovertemplate\": \"<b>%{hovertext}</b><br><br>pokemon_name=Glalie<br>viability=%{x}<br>percent=%{y}\", \"hovertext\": [\"Glalie\"], \"legendgroup\": \"Glalie\", \"marker\": {\"color\": \"#19d3f3\"}, \"name\": \"Glalie\", \"offsetgroup\": \"Glalie\", \"orientation\": \"v\", \"showlegend\": true, \"textposition\": \"auto\", \"type\": \"bar\", \"x\": [\"B-\"], \"xaxis\": \"x\", \"y\": [0.0], \"yaxis\": \"y\"}, {\"alignmentgroup\": \"True\", \"hoverlabel\": {\"namelength\": 0}, \"hovertemplate\": \"<b>%{hovertext}</b><br><br>pokemon_name=Shuckle<br>viability=%{x}<br>percent=%{y}\", \"hovertext\": [\"Shuckle\"], \"legendgroup\": \"Shuckle\", \"marker\": {\"color\": \"#FF6692\"}, \"name\": \"Shuckle\", \"offsetgroup\": \"Shuckle\", \"orientation\": \"v\", \"showlegend\": true, \"textposition\": \"auto\", \"type\": \"bar\", \"x\": [\"C-\"], \"xaxis\": \"x\", \"y\": [0.0], \"yaxis\": \"y\"}, {\"alignmentgroup\": \"True\", \"hoverlabel\": {\"namelength\": 0}, \"hovertemplate\": \"<b>%{hovertext}</b><br><br>pokemon_name=Rotom-Fan<br>viability=%{x}<br>percent=%{y}\", \"hovertext\": [\"Rotom-Fan\"], \"legendgroup\": \"Rotom-Fan\", \"marker\": {\"color\": \"#B6E880\"}, \"name\": \"Rotom-Fan\", \"offsetgroup\": \"Rotom-Fan\", \"orientation\": \"v\", \"showlegend\": true, \"textposition\": \"auto\", \"type\": \"bar\", \"x\": [\"C\"], \"xaxis\": \"x\", \"y\": [0.0], \"yaxis\": \"y\"}, {\"alignmentgroup\": \"True\", \"hoverlabel\": {\"namelength\": 0}, \"hovertemplate\": \"<b>%{hovertext}</b><br><br>pokemon_name=Silvally-Electric<br>viability=%{x}<br>percent=%{y}\", \"hovertext\": [\"Silvally-Electric\"], \"legendgroup\": \"Silvally-Electric\", \"marker\": {\"color\": \"#FF97FF\"}, \"name\": \"Silvally-Electric\", \"offsetgroup\": \"Silvally-Electric\", \"orientation\": \"v\", \"showlegend\": true, \"textposition\": \"auto\", \"type\": \"bar\", \"x\": [\"C\"], \"xaxis\": \"x\", \"y\": [0.0], \"yaxis\": \"y\"}, {\"alignmentgroup\": \"True\", \"hoverlabel\": {\"namelength\": 0}, \"hovertemplate\": \"<b>%{hovertext}</b><br><br>pokemon_name=Clefairy<br>viability=%{x}<br>percent=%{y}\", \"hovertext\": [\"Clefairy\"], \"legendgroup\": \"Clefairy\", \"marker\": {\"color\": \"#FECB52\"}, \"name\": \"Clefairy\", \"offsetgroup\": \"Clefairy\", \"orientation\": \"v\", \"showlegend\": true, \"textposition\": \"auto\", \"type\": \"bar\", \"x\": [\"C-\"], \"xaxis\": \"x\", \"y\": [0.0], \"yaxis\": \"y\"}, {\"alignmentgroup\": \"True\", \"hoverlabel\": {\"namelength\": 0}, \"hovertemplate\": \"<b>%{hovertext}</b><br><br>pokemon_name=Riolu<br>viability=%{x}<br>percent=%{y}\", \"hovertext\": [\"Riolu\"], \"legendgroup\": \"Riolu\", \"marker\": {\"color\": \"#636efa\"}, \"name\": \"Riolu\", \"offsetgroup\": \"Riolu\", \"orientation\": \"v\", \"showlegend\": true, \"textposition\": \"auto\", \"type\": \"bar\", \"x\": [\"C\"], \"xaxis\": \"x\", \"y\": [0.0], \"yaxis\": \"y\"}, {\"alignmentgroup\": \"True\", \"hoverlabel\": {\"namelength\": 0}, \"hovertemplate\": \"<b>%{hovertext}</b><br><br>pokemon_name=Turtonator<br>viability=%{x}<br>percent=%{y}\", \"hovertext\": [\"Turtonator\"], \"legendgroup\": \"Turtonator\", \"marker\": {\"color\": \"#EF553B\"}, \"name\": \"Turtonator\", \"offsetgroup\": \"Turtonator\", \"orientation\": \"v\", \"showlegend\": true, \"textposition\": \"auto\", \"type\": \"bar\", \"x\": [\"C-\"], \"xaxis\": \"x\", \"y\": [0.0], \"yaxis\": \"y\"}, {\"alignmentgroup\": \"True\", \"hoverlabel\": {\"namelength\": 0}, \"hovertemplate\": \"<b>%{hovertext}</b><br><br>pokemon_name=Doublade<br>viability=%{x}<br>percent=%{y}\", \"hovertext\": [\"Doublade\"], \"legendgroup\": \"Doublade\", \"marker\": {\"color\": \"#00cc96\"}, \"name\": \"Doublade\", \"offsetgroup\": \"Doublade\", \"orientation\": \"v\", \"showlegend\": true, \"textposition\": \"auto\", \"type\": \"bar\", \"x\": [\"C-\"], \"xaxis\": \"x\", \"y\": [0.0], \"yaxis\": \"y\"}, {\"alignmentgroup\": \"True\", \"hoverlabel\": {\"namelength\": 0}, \"hovertemplate\": \"<b>%{hovertext}</b><br><br>pokemon_name=Xatu<br>viability=%{x}<br>percent=%{y}\", \"hovertext\": [\"Xatu\"], \"legendgroup\": \"Xatu\", \"marker\": {\"color\": \"#ab63fa\"}, \"name\": \"Xatu\", \"offsetgroup\": \"Xatu\", \"orientation\": \"v\", \"showlegend\": true, \"textposition\": \"auto\", \"type\": \"bar\", \"x\": [\"C\"], \"xaxis\": \"x\", \"y\": [0.0], \"yaxis\": \"y\"}, {\"alignmentgroup\": \"True\", \"hoverlabel\": {\"namelength\": 0}, \"hovertemplate\": \"<b>%{hovertext}</b><br><br>pokemon_name=Hitmonlee<br>viability=%{x}<br>percent=%{y}\", \"hovertext\": [\"Hitmonlee\"], \"legendgroup\": \"Hitmonlee\", \"marker\": {\"color\": \"#FFA15A\"}, \"name\": \"Hitmonlee\", \"offsetgroup\": \"Hitmonlee\", \"orientation\": \"v\", \"showlegend\": true, \"textposition\": \"auto\", \"type\": \"bar\", \"x\": [\"C\"], \"xaxis\": \"x\", \"y\": [0.0], \"yaxis\": \"y\"}, {\"alignmentgroup\": \"True\", \"hoverlabel\": {\"namelength\": 0}, \"hovertemplate\": \"<b>%{hovertext}</b><br><br>pokemon_name=Silvally-Water<br>viability=%{x}<br>percent=%{y}\", \"hovertext\": [\"Silvally-Water\"], \"legendgroup\": \"Silvally-Water\", \"marker\": {\"color\": \"#19d3f3\"}, \"name\": \"Silvally-Water\", \"offsetgroup\": \"Silvally-Water\", \"orientation\": \"v\", \"showlegend\": true, \"textposition\": \"auto\", \"type\": \"bar\", \"x\": [\"C+\"], \"xaxis\": \"x\", \"y\": [0.0], \"yaxis\": \"y\"}, {\"alignmentgroup\": \"True\", \"hoverlabel\": {\"namelength\": 0}, \"hovertemplate\": \"<b>%{hovertext}</b><br><br>pokemon_name=Charjabug<br>viability=%{x}<br>percent=%{y}\", \"hovertext\": [\"Charjabug\"], \"legendgroup\": \"Charjabug\", \"marker\": {\"color\": \"#FF6692\"}, \"name\": \"Charjabug\", \"offsetgroup\": \"Charjabug\", \"orientation\": \"v\", \"showlegend\": true, \"textposition\": \"auto\", \"type\": \"bar\", \"x\": [\"C+\"], \"xaxis\": \"x\", \"y\": [0.0], \"yaxis\": \"y\"}, {\"alignmentgroup\": \"True\", \"hoverlabel\": {\"namelength\": 0}, \"hovertemplate\": \"<b>%{hovertext}</b><br><br>pokemon_name=Maractus<br>viability=%{x}<br>percent=%{y}\", \"hovertext\": [\"Maractus\"], \"legendgroup\": \"Maractus\", \"marker\": {\"color\": \"#B6E880\"}, \"name\": \"Maractus\", \"offsetgroup\": \"Maractus\", \"orientation\": \"v\", \"showlegend\": true, \"textposition\": \"auto\", \"type\": \"bar\", \"x\": [\"C\"], \"xaxis\": \"x\", \"y\": [0.0], \"yaxis\": \"y\"}, {\"alignmentgroup\": \"True\", \"hoverlabel\": {\"namelength\": 0}, \"hovertemplate\": \"<b>%{hovertext}</b><br><br>pokemon_name=Type: Null<br>viability=%{x}<br>percent=%{y}\", \"hovertext\": [\"Type: Null\"], \"legendgroup\": \"Type: Null\", \"marker\": {\"color\": \"#FF97FF\"}, \"name\": \"Type: Null\", \"offsetgroup\": \"Type: Null\", \"orientation\": \"v\", \"showlegend\": true, \"textposition\": \"auto\", \"type\": \"bar\", \"x\": [\"C+\"], \"xaxis\": \"x\", \"y\": [0.0], \"yaxis\": \"y\"}, {\"alignmentgroup\": \"True\", \"hoverlabel\": {\"namelength\": 0}, \"hovertemplate\": \"<b>%{hovertext}</b><br><br>pokemon_name=Shedinja<br>viability=%{x}<br>percent=%{y}\", \"hovertext\": [\"Shedinja\"], \"legendgroup\": \"Shedinja\", \"marker\": {\"color\": \"#FECB52\"}, \"name\": \"Shedinja\", \"offsetgroup\": \"Shedinja\", \"orientation\": \"v\", \"showlegend\": true, \"textposition\": \"auto\", \"type\": \"bar\", \"x\": [\"D+\"], \"xaxis\": \"x\", \"y\": [0.0], \"yaxis\": \"y\"}, {\"alignmentgroup\": \"True\", \"hoverlabel\": {\"namelength\": 0}, \"hovertemplate\": \"<b>%{hovertext}</b><br><br>pokemon_name=Hitmonchan<br>viability=%{x}<br>percent=%{y}\", \"hovertext\": [\"Hitmonchan\"], \"legendgroup\": \"Hitmonchan\", \"marker\": {\"color\": \"#636efa\"}, \"name\": \"Hitmonchan\", \"offsetgroup\": \"Hitmonchan\", \"orientation\": \"v\", \"showlegend\": true, \"textposition\": \"auto\", \"type\": \"bar\", \"x\": [\"C\"], \"xaxis\": \"x\", \"y\": [0.0], \"yaxis\": \"y\"}, {\"alignmentgroup\": \"True\", \"hoverlabel\": {\"namelength\": 0}, \"hovertemplate\": \"<b>%{hovertext}</b><br><br>pokemon_name=Swoobat<br>viability=%{x}<br>percent=%{y}\", \"hovertext\": [\"Swoobat\"], \"legendgroup\": \"Swoobat\", \"marker\": {\"color\": \"#EF553B\"}, \"name\": \"Swoobat\", \"offsetgroup\": \"Swoobat\", \"orientation\": \"v\", \"showlegend\": true, \"textposition\": \"auto\", \"type\": \"bar\", \"x\": [\"C-\"], \"xaxis\": \"x\", \"y\": [0.0], \"yaxis\": \"y\"}, {\"alignmentgroup\": \"True\", \"hoverlabel\": {\"namelength\": 0}, \"hovertemplate\": \"<b>%{hovertext}</b><br><br>pokemon_name=Gloom<br>viability=%{x}<br>percent=%{y}\", \"hovertext\": [\"Gloom\"], \"legendgroup\": \"Gloom\", \"marker\": {\"color\": \"#00cc96\"}, \"name\": \"Gloom\", \"offsetgroup\": \"Gloom\", \"orientation\": \"v\", \"showlegend\": true, \"textposition\": \"auto\", \"type\": \"bar\", \"x\": [\"C+\"], \"xaxis\": \"x\", \"y\": [0.0], \"yaxis\": \"y\"}, {\"alignmentgroup\": \"True\", \"hoverlabel\": {\"namelength\": 0}, \"hovertemplate\": \"<b>%{hovertext}</b><br><br>pokemon_name=Whiscash<br>viability=%{x}<br>percent=%{y}\", \"hovertext\": [\"Whiscash\"], \"legendgroup\": \"Whiscash\", \"marker\": {\"color\": \"#ab63fa\"}, \"name\": \"Whiscash\", \"offsetgroup\": \"Whiscash\", \"orientation\": \"v\", \"showlegend\": true, \"textposition\": \"auto\", \"type\": \"bar\", \"x\": [\"C\"], \"xaxis\": \"x\", \"y\": [0.0], \"yaxis\": \"y\"}, {\"alignmentgroup\": \"True\", \"hoverlabel\": {\"namelength\": 0}, \"hovertemplate\": \"<b>%{hovertext}</b><br><br>pokemon_name=Sneasel<br>viability=%{x}<br>percent=%{y}\", \"hovertext\": [\"Sneasel\"], \"legendgroup\": \"Sneasel\", \"marker\": {\"color\": \"#FFA15A\"}, \"name\": \"Sneasel\", \"offsetgroup\": \"Sneasel\", \"orientation\": \"v\", \"showlegend\": true, \"textposition\": \"auto\", \"type\": \"bar\", \"x\": [\"D+\"], \"xaxis\": \"x\", \"y\": [0.0], \"yaxis\": \"y\"}, {\"alignmentgroup\": \"True\", \"hoverlabel\": {\"namelength\": 0}, \"hovertemplate\": \"<b>%{hovertext}</b><br><br>pokemon_name=Flareon<br>viability=%{x}<br>percent=%{y}\", \"hovertext\": [\"Flareon\"], \"legendgroup\": \"Flareon\", \"marker\": {\"color\": \"#19d3f3\"}, \"name\": \"Flareon\", \"offsetgroup\": \"Flareon\", \"orientation\": \"v\", \"showlegend\": true, \"textposition\": \"auto\", \"type\": \"bar\", \"x\": [\"D+\"], \"xaxis\": \"x\", \"y\": [0.0], \"yaxis\": \"y\"}, {\"alignmentgroup\": \"True\", \"hoverlabel\": {\"namelength\": 0}, \"hovertemplate\": \"<b>%{hovertext}</b><br><br>pokemon_name=Golurk<br>viability=%{x}<br>percent=%{y}\", \"hovertext\": [\"Golurk\"], \"legendgroup\": \"Golurk\", \"marker\": {\"color\": \"#FF6692\"}, \"name\": \"Golurk\", \"offsetgroup\": \"Golurk\", \"orientation\": \"v\", \"showlegend\": true, \"textposition\": \"auto\", \"type\": \"bar\", \"x\": [\"D+\"], \"xaxis\": \"x\", \"y\": [0.0], \"yaxis\": \"y\"}, {\"alignmentgroup\": \"True\", \"hoverlabel\": {\"namelength\": 0}, \"hovertemplate\": \"<b>%{hovertext}</b><br><br>pokemon_name=Silvally-Fairy<br>viability=%{x}<br>percent=%{y}\", \"hovertext\": [\"Silvally-Fairy\"], \"legendgroup\": \"Silvally-Fairy\", \"marker\": {\"color\": \"#B6E880\"}, \"name\": \"Silvally-Fairy\", \"offsetgroup\": \"Silvally-Fairy\", \"orientation\": \"v\", \"showlegend\": true, \"textposition\": \"auto\", \"type\": \"bar\", \"x\": [\"C-\"], \"xaxis\": \"x\", \"y\": [0.0], \"yaxis\": \"y\"}, {\"alignmentgroup\": \"True\", \"hoverlabel\": {\"namelength\": 0}, \"hovertemplate\": \"<b>%{hovertext}</b><br><br>pokemon_name=Meowstic<br>viability=%{x}<br>percent=%{y}\", \"hovertext\": [\"Meowstic\"], \"legendgroup\": \"Meowstic\", \"marker\": {\"color\": \"#FF97FF\"}, \"name\": \"Meowstic\", \"offsetgroup\": \"Meowstic\", \"orientation\": \"v\", \"showlegend\": true, \"textposition\": \"auto\", \"type\": \"bar\", \"x\": [\"D+\"], \"xaxis\": \"x\", \"y\": [0.0], \"yaxis\": \"y\"}, {\"alignmentgroup\": \"True\", \"hoverlabel\": {\"namelength\": 0}, \"hovertemplate\": \"<b>%{hovertext}</b><br><br>pokemon_name=Lanturn<br>viability=%{x}<br>percent=%{y}\", \"hovertext\": [\"Lanturn\"], \"legendgroup\": \"Lanturn\", \"marker\": {\"color\": \"#FECB52\"}, \"name\": \"Lanturn\", \"offsetgroup\": \"Lanturn\", \"orientation\": \"v\", \"showlegend\": true, \"textposition\": \"auto\", \"type\": \"bar\", \"x\": [\"C-\"], \"xaxis\": \"x\", \"y\": [0.0], \"yaxis\": \"y\"}, {\"alignmentgroup\": \"True\", \"hoverlabel\": {\"namelength\": 0}, \"hovertemplate\": \"<b>%{hovertext}</b><br><br>pokemon_name=Slurpuff<br>viability=%{x}<br>percent=%{y}\", \"hovertext\": [\"Slurpuff\"], \"legendgroup\": \"Slurpuff\", \"marker\": {\"color\": \"#636efa\"}, \"name\": \"Slurpuff\", \"offsetgroup\": \"Slurpuff\", \"orientation\": \"v\", \"showlegend\": true, \"textposition\": \"auto\", \"type\": \"bar\", \"x\": [\"D+\"], \"xaxis\": \"x\", \"y\": [0.0], \"yaxis\": \"y\"}, {\"alignmentgroup\": \"True\", \"hoverlabel\": {\"namelength\": 0}, \"hovertemplate\": \"<b>%{hovertext}</b><br><br>pokemon_name=Mime Jr.<br>viability=%{x}<br>percent=%{y}\", \"hovertext\": [\"Mime Jr.\"], \"legendgroup\": \"Mime Jr.\", \"marker\": {\"color\": \"#EF553B\"}, \"name\": \"Mime Jr.\", \"offsetgroup\": \"Mime Jr.\", \"orientation\": \"v\", \"showlegend\": true, \"textposition\": \"auto\", \"type\": \"bar\", \"x\": [\"C+\"], \"xaxis\": \"x\", \"y\": [0.0], \"yaxis\": \"y\"}, {\"alignmentgroup\": \"True\", \"hoverlabel\": {\"namelength\": 0}, \"hovertemplate\": \"<b>%{hovertext}</b><br><br>pokemon_name=Silvally-Steel<br>viability=%{x}<br>percent=%{y}\", \"hovertext\": [\"Silvally-Steel\"], \"legendgroup\": \"Silvally-Steel\", \"marker\": {\"color\": \"#00cc96\"}, \"name\": \"Silvally-Steel\", \"offsetgroup\": \"Silvally-Steel\", \"orientation\": \"v\", \"showlegend\": true, \"textposition\": \"auto\", \"type\": \"bar\", \"x\": [\"C-\"], \"xaxis\": \"x\", \"y\": [0.0], \"yaxis\": \"y\"}, {\"alignmentgroup\": \"True\", \"hoverlabel\": {\"namelength\": 0}, \"hovertemplate\": \"<b>%{hovertext}</b><br><br>pokemon_name=Morelull<br>viability=%{x}<br>percent=%{y}\", \"hovertext\": [\"Morelull\"], \"legendgroup\": \"Morelull\", \"marker\": {\"color\": \"#ab63fa\"}, \"name\": \"Morelull\", \"offsetgroup\": \"Morelull\", \"orientation\": \"v\", \"showlegend\": true, \"textposition\": \"auto\", \"type\": \"bar\", \"x\": [\"C-\"], \"xaxis\": \"x\", \"y\": [0.0], \"yaxis\": \"y\"}, {\"alignmentgroup\": \"True\", \"hoverlabel\": {\"namelength\": 0}, \"hovertemplate\": \"<b>%{hovertext}</b><br><br>pokemon_name=Crustle<br>viability=%{x}<br>percent=%{y}\", \"hovertext\": [\"Crustle\"], \"legendgroup\": \"Crustle\", \"marker\": {\"color\": \"#FFA15A\"}, \"name\": \"Crustle\", \"offsetgroup\": \"Crustle\", \"orientation\": \"v\", \"showlegend\": true, \"textposition\": \"auto\", \"type\": \"bar\", \"x\": [\"C-\"], \"xaxis\": \"x\", \"y\": [0.0], \"yaxis\": \"y\"}, {\"alignmentgroup\": \"True\", \"hoverlabel\": {\"namelength\": 0}, \"hovertemplate\": \"<b>%{hovertext}</b><br><br>pokemon_name=Mawile<br>viability=%{x}<br>percent=%{y}\", \"hovertext\": [\"Mawile\"], \"legendgroup\": \"Mawile\", \"marker\": {\"color\": \"#19d3f3\"}, \"name\": \"Mawile\", \"offsetgroup\": \"Mawile\", \"orientation\": \"v\", \"showlegend\": true, \"textposition\": \"auto\", \"type\": \"bar\", \"x\": [\"D+\"], \"xaxis\": \"x\", \"y\": [0.0], \"yaxis\": \"y\"}, {\"alignmentgroup\": \"True\", \"hoverlabel\": {\"namelength\": 0}, \"hovertemplate\": \"<b>%{hovertext}</b><br><br>pokemon_name=Pyukumuku<br>viability=%{x}<br>percent=%{y}\", \"hovertext\": [\"Pyukumuku\"], \"legendgroup\": \"Pyukumuku\", \"marker\": {\"color\": \"#FF6692\"}, \"name\": \"Pyukumuku\", \"offsetgroup\": \"Pyukumuku\", \"orientation\": \"v\", \"showlegend\": true, \"textposition\": \"auto\", \"type\": \"bar\", \"x\": [\"C\"], \"xaxis\": \"x\", \"y\": [0.0], \"yaxis\": \"y\"}, {\"alignmentgroup\": \"True\", \"hoverlabel\": {\"namelength\": 0}, \"hovertemplate\": \"<b>%{hovertext}</b><br><br>pokemon_name=Silvally-Dark<br>viability=%{x}<br>percent=%{y}\", \"hovertext\": [\"Silvally-Dark\"], \"legendgroup\": \"Silvally-Dark\", \"marker\": {\"color\": \"#B6E880\"}, \"name\": \"Silvally-Dark\", \"offsetgroup\": \"Silvally-Dark\", \"orientation\": \"v\", \"showlegend\": true, \"textposition\": \"auto\", \"type\": \"bar\", \"x\": [\"C\"], \"xaxis\": \"x\", \"y\": [0.0], \"yaxis\": \"y\"}, {\"alignmentgroup\": \"True\", \"hoverlabel\": {\"namelength\": 0}, \"hovertemplate\": \"<b>%{hovertext}</b><br><br>pokemon_name=Unfezant<br>viability=%{x}<br>percent=%{y}\", \"hovertext\": [\"Unfezant\"], \"legendgroup\": \"Unfezant\", \"marker\": {\"color\": \"#FF97FF\"}, \"name\": \"Unfezant\", \"offsetgroup\": \"Unfezant\", \"orientation\": \"v\", \"showlegend\": true, \"textposition\": \"auto\", \"type\": \"bar\", \"x\": [\"C\"], \"xaxis\": \"x\", \"y\": [0.0], \"yaxis\": \"y\"}, {\"alignmentgroup\": \"True\", \"hoverlabel\": {\"namelength\": 0}, \"hovertemplate\": \"<b>%{hovertext}</b><br><br>pokemon_name=Solrock<br>viability=%{x}<br>percent=%{y}\", \"hovertext\": [\"Solrock\"], \"legendgroup\": \"Solrock\", \"marker\": {\"color\": \"#FECB52\"}, \"name\": \"Solrock\", \"offsetgroup\": \"Solrock\", \"orientation\": \"v\", \"showlegend\": true, \"textposition\": \"auto\", \"type\": \"bar\", \"x\": [\"C\"], \"xaxis\": \"x\", \"y\": [0.0], \"yaxis\": \"y\"}, {\"alignmentgroup\": \"True\", \"hoverlabel\": {\"namelength\": 0}, \"hovertemplate\": \"<b>%{hovertext}</b><br><br>pokemon_name=Cottonee<br>viability=%{x}<br>percent=%{y}\", \"hovertext\": [\"Cottonee\"], \"legendgroup\": \"Cottonee\", \"marker\": {\"color\": \"#636efa\"}, \"name\": \"Cottonee\", \"offsetgroup\": \"Cottonee\", \"orientation\": \"v\", \"showlegend\": true, \"textposition\": \"auto\", \"type\": \"bar\", \"x\": [\"C\"], \"xaxis\": \"x\", \"y\": [0.0], \"yaxis\": \"y\"}, {\"alignmentgroup\": \"True\", \"hoverlabel\": {\"namelength\": 0}, \"hovertemplate\": \"<b>%{hovertext}</b><br><br>pokemon_name=Throh<br>viability=%{x}<br>percent=%{y}\", \"hovertext\": [\"Throh\"], \"legendgroup\": \"Throh\", \"marker\": {\"color\": \"#EF553B\"}, \"name\": \"Throh\", \"offsetgroup\": \"Throh\", \"orientation\": \"v\", \"showlegend\": true, \"textposition\": \"auto\", \"type\": \"bar\", \"x\": [\"C+\"], \"xaxis\": \"x\", \"y\": [0.0], \"yaxis\": \"y\"}, {\"alignmentgroup\": \"True\", \"hoverlabel\": {\"namelength\": 0}, \"hovertemplate\": \"<b>%{hovertext}</b><br><br>pokemon_name=Shellos<br>viability=%{x}<br>percent=%{y}\", \"hovertext\": [\"Shellos\"], \"legendgroup\": \"Shellos\", \"marker\": {\"color\": \"#00cc96\"}, \"name\": \"Shellos\", \"offsetgroup\": \"Shellos\", \"orientation\": \"v\", \"showlegend\": true, \"textposition\": \"auto\", \"type\": \"bar\", \"x\": [\"C-\"], \"xaxis\": \"x\", \"y\": [0.0], \"yaxis\": \"y\"}, {\"alignmentgroup\": \"True\", \"hoverlabel\": {\"namelength\": 0}, \"hovertemplate\": \"<b>%{hovertext}</b><br><br>pokemon_name=Wobbuffet<br>viability=%{x}<br>percent=%{y}\", \"hovertext\": [\"Wobbuffet\"], \"legendgroup\": \"Wobbuffet\", \"marker\": {\"color\": \"#ab63fa\"}, \"name\": \"Wobbuffet\", \"offsetgroup\": \"Wobbuffet\", \"orientation\": \"v\", \"showlegend\": true, \"textposition\": \"auto\", \"type\": \"bar\", \"x\": [\"D+\"], \"xaxis\": \"x\", \"y\": [0.0], \"yaxis\": \"y\"}],\n",
       "                        {\"barmode\": \"relative\", \"legend\": {\"title\": {\"text\": \"pokemon_name\"}, \"tracegroupgap\": 0}, \"margin\": {\"t\": 60}, \"template\": {\"data\": {\"bar\": [{\"error_x\": {\"color\": \"#2a3f5f\"}, \"error_y\": {\"color\": \"#2a3f5f\"}, \"marker\": {\"line\": {\"color\": \"#E5ECF6\", \"width\": 0.5}}, \"type\": \"bar\"}], \"barpolar\": [{\"marker\": {\"line\": {\"color\": \"#E5ECF6\", \"width\": 0.5}}, \"type\": \"barpolar\"}], \"carpet\": [{\"aaxis\": {\"endlinecolor\": \"#2a3f5f\", \"gridcolor\": \"white\", \"linecolor\": \"white\", \"minorgridcolor\": \"white\", \"startlinecolor\": \"#2a3f5f\"}, \"baxis\": {\"endlinecolor\": \"#2a3f5f\", \"gridcolor\": \"white\", \"linecolor\": \"white\", \"minorgridcolor\": \"white\", \"startlinecolor\": \"#2a3f5f\"}, \"type\": \"carpet\"}], \"choropleth\": [{\"colorbar\": {\"outlinewidth\": 0, \"ticks\": \"\"}, \"type\": \"choropleth\"}], \"contour\": [{\"colorbar\": {\"outlinewidth\": 0, \"ticks\": \"\"}, \"colorscale\": [[0.0, \"#0d0887\"], [0.1111111111111111, \"#46039f\"], [0.2222222222222222, \"#7201a8\"], [0.3333333333333333, \"#9c179e\"], [0.4444444444444444, \"#bd3786\"], [0.5555555555555556, \"#d8576b\"], [0.6666666666666666, \"#ed7953\"], [0.7777777777777778, \"#fb9f3a\"], [0.8888888888888888, \"#fdca26\"], [1.0, \"#f0f921\"]], \"type\": \"contour\"}], \"contourcarpet\": [{\"colorbar\": {\"outlinewidth\": 0, \"ticks\": \"\"}, \"type\": \"contourcarpet\"}], \"heatmap\": [{\"colorbar\": {\"outlinewidth\": 0, \"ticks\": \"\"}, \"colorscale\": [[0.0, \"#0d0887\"], [0.1111111111111111, \"#46039f\"], [0.2222222222222222, \"#7201a8\"], [0.3333333333333333, \"#9c179e\"], [0.4444444444444444, \"#bd3786\"], [0.5555555555555556, \"#d8576b\"], [0.6666666666666666, \"#ed7953\"], [0.7777777777777778, \"#fb9f3a\"], [0.8888888888888888, \"#fdca26\"], [1.0, \"#f0f921\"]], \"type\": \"heatmap\"}], \"heatmapgl\": [{\"colorbar\": {\"outlinewidth\": 0, \"ticks\": \"\"}, \"colorscale\": [[0.0, \"#0d0887\"], [0.1111111111111111, \"#46039f\"], [0.2222222222222222, \"#7201a8\"], [0.3333333333333333, \"#9c179e\"], [0.4444444444444444, \"#bd3786\"], [0.5555555555555556, \"#d8576b\"], [0.6666666666666666, \"#ed7953\"], [0.7777777777777778, \"#fb9f3a\"], [0.8888888888888888, \"#fdca26\"], [1.0, \"#f0f921\"]], \"type\": \"heatmapgl\"}], \"histogram\": [{\"marker\": {\"colorbar\": {\"outlinewidth\": 0, \"ticks\": \"\"}}, \"type\": \"histogram\"}], \"histogram2d\": [{\"colorbar\": {\"outlinewidth\": 0, \"ticks\": \"\"}, \"colorscale\": [[0.0, \"#0d0887\"], [0.1111111111111111, \"#46039f\"], [0.2222222222222222, \"#7201a8\"], [0.3333333333333333, \"#9c179e\"], [0.4444444444444444, \"#bd3786\"], [0.5555555555555556, \"#d8576b\"], [0.6666666666666666, \"#ed7953\"], [0.7777777777777778, \"#fb9f3a\"], [0.8888888888888888, \"#fdca26\"], [1.0, \"#f0f921\"]], \"type\": \"histogram2d\"}], \"histogram2dcontour\": [{\"colorbar\": {\"outlinewidth\": 0, \"ticks\": \"\"}, \"colorscale\": [[0.0, \"#0d0887\"], [0.1111111111111111, \"#46039f\"], [0.2222222222222222, \"#7201a8\"], [0.3333333333333333, \"#9c179e\"], [0.4444444444444444, \"#bd3786\"], [0.5555555555555556, \"#d8576b\"], [0.6666666666666666, \"#ed7953\"], [0.7777777777777778, \"#fb9f3a\"], [0.8888888888888888, \"#fdca26\"], [1.0, \"#f0f921\"]], \"type\": \"histogram2dcontour\"}], \"mesh3d\": [{\"colorbar\": {\"outlinewidth\": 0, \"ticks\": \"\"}, \"type\": \"mesh3d\"}], \"parcoords\": [{\"line\": {\"colorbar\": {\"outlinewidth\": 0, \"ticks\": \"\"}}, \"type\": \"parcoords\"}], \"pie\": [{\"automargin\": true, \"type\": \"pie\"}], \"scatter\": [{\"marker\": {\"colorbar\": {\"outlinewidth\": 0, \"ticks\": \"\"}}, \"type\": \"scatter\"}], \"scatter3d\": [{\"line\": {\"colorbar\": {\"outlinewidth\": 0, \"ticks\": \"\"}}, \"marker\": {\"colorbar\": {\"outlinewidth\": 0, \"ticks\": \"\"}}, \"type\": \"scatter3d\"}], \"scattercarpet\": [{\"marker\": {\"colorbar\": {\"outlinewidth\": 0, \"ticks\": \"\"}}, \"type\": \"scattercarpet\"}], \"scattergeo\": [{\"marker\": {\"colorbar\": {\"outlinewidth\": 0, \"ticks\": \"\"}}, \"type\": \"scattergeo\"}], \"scattergl\": [{\"marker\": {\"colorbar\": {\"outlinewidth\": 0, \"ticks\": \"\"}}, \"type\": \"scattergl\"}], \"scattermapbox\": [{\"marker\": {\"colorbar\": {\"outlinewidth\": 0, \"ticks\": \"\"}}, \"type\": \"scattermapbox\"}], \"scatterpolar\": [{\"marker\": {\"colorbar\": {\"outlinewidth\": 0, \"ticks\": \"\"}}, \"type\": \"scatterpolar\"}], \"scatterpolargl\": [{\"marker\": {\"colorbar\": {\"outlinewidth\": 0, \"ticks\": \"\"}}, \"type\": \"scatterpolargl\"}], \"scatterternary\": [{\"marker\": {\"colorbar\": {\"outlinewidth\": 0, \"ticks\": \"\"}}, \"type\": \"scatterternary\"}], \"surface\": [{\"colorbar\": {\"outlinewidth\": 0, \"ticks\": \"\"}, \"colorscale\": [[0.0, \"#0d0887\"], [0.1111111111111111, \"#46039f\"], [0.2222222222222222, \"#7201a8\"], [0.3333333333333333, \"#9c179e\"], [0.4444444444444444, \"#bd3786\"], [0.5555555555555556, \"#d8576b\"], [0.6666666666666666, \"#ed7953\"], [0.7777777777777778, \"#fb9f3a\"], [0.8888888888888888, \"#fdca26\"], [1.0, \"#f0f921\"]], \"type\": \"surface\"}], \"table\": [{\"cells\": {\"fill\": {\"color\": \"#EBF0F8\"}, \"line\": {\"color\": \"white\"}}, \"header\": {\"fill\": {\"color\": \"#C8D4E3\"}, \"line\": {\"color\": \"white\"}}, \"type\": \"table\"}]}, \"layout\": {\"annotationdefaults\": {\"arrowcolor\": \"#2a3f5f\", \"arrowhead\": 0, \"arrowwidth\": 1}, \"coloraxis\": {\"colorbar\": {\"outlinewidth\": 0, \"ticks\": \"\"}}, \"colorscale\": {\"diverging\": [[0, \"#8e0152\"], [0.1, \"#c51b7d\"], [0.2, \"#de77ae\"], [0.3, \"#f1b6da\"], [0.4, \"#fde0ef\"], [0.5, \"#f7f7f7\"], [0.6, \"#e6f5d0\"], [0.7, \"#b8e186\"], [0.8, \"#7fbc41\"], [0.9, \"#4d9221\"], [1, \"#276419\"]], \"sequential\": [[0.0, \"#0d0887\"], [0.1111111111111111, \"#46039f\"], [0.2222222222222222, \"#7201a8\"], [0.3333333333333333, \"#9c179e\"], [0.4444444444444444, \"#bd3786\"], [0.5555555555555556, \"#d8576b\"], [0.6666666666666666, \"#ed7953\"], [0.7777777777777778, \"#fb9f3a\"], [0.8888888888888888, \"#fdca26\"], [1.0, \"#f0f921\"]], \"sequentialminus\": [[0.0, \"#0d0887\"], [0.1111111111111111, \"#46039f\"], [0.2222222222222222, \"#7201a8\"], [0.3333333333333333, \"#9c179e\"], [0.4444444444444444, \"#bd3786\"], [0.5555555555555556, \"#d8576b\"], [0.6666666666666666, \"#ed7953\"], [0.7777777777777778, \"#fb9f3a\"], [0.8888888888888888, \"#fdca26\"], [1.0, \"#f0f921\"]]}, \"colorway\": [\"#636efa\", \"#EF553B\", \"#00cc96\", \"#ab63fa\", \"#FFA15A\", \"#19d3f3\", \"#FF6692\", \"#B6E880\", \"#FF97FF\", \"#FECB52\"], \"font\": {\"color\": \"#2a3f5f\"}, \"geo\": {\"bgcolor\": \"white\", \"lakecolor\": \"white\", \"landcolor\": \"#E5ECF6\", \"showlakes\": true, \"showland\": true, \"subunitcolor\": \"white\"}, \"hoverlabel\": {\"align\": \"left\"}, \"hovermode\": \"closest\", \"mapbox\": {\"style\": \"light\"}, \"paper_bgcolor\": \"white\", \"plot_bgcolor\": \"#E5ECF6\", \"polar\": {\"angularaxis\": {\"gridcolor\": \"white\", \"linecolor\": \"white\", \"ticks\": \"\"}, \"bgcolor\": \"#E5ECF6\", \"radialaxis\": {\"gridcolor\": \"white\", \"linecolor\": \"white\", \"ticks\": \"\"}}, \"scene\": {\"xaxis\": {\"backgroundcolor\": \"#E5ECF6\", \"gridcolor\": \"white\", \"gridwidth\": 2, \"linecolor\": \"white\", \"showbackground\": true, \"ticks\": \"\", \"zerolinecolor\": \"white\"}, \"yaxis\": {\"backgroundcolor\": \"#E5ECF6\", \"gridcolor\": \"white\", \"gridwidth\": 2, \"linecolor\": \"white\", \"showbackground\": true, \"ticks\": \"\", \"zerolinecolor\": \"white\"}, \"zaxis\": {\"backgroundcolor\": \"#E5ECF6\", \"gridcolor\": \"white\", \"gridwidth\": 2, \"linecolor\": \"white\", \"showbackground\": true, \"ticks\": \"\", \"zerolinecolor\": \"white\"}}, \"shapedefaults\": {\"line\": {\"color\": \"#2a3f5f\"}}, \"ternary\": {\"aaxis\": {\"gridcolor\": \"white\", \"linecolor\": \"white\", \"ticks\": \"\"}, \"baxis\": {\"gridcolor\": \"white\", \"linecolor\": \"white\", \"ticks\": \"\"}, \"bgcolor\": \"#E5ECF6\", \"caxis\": {\"gridcolor\": \"white\", \"linecolor\": \"white\", \"ticks\": \"\"}}, \"title\": {\"x\": 0.05}, \"xaxis\": {\"automargin\": true, \"gridcolor\": \"white\", \"linecolor\": \"white\", \"ticks\": \"\", \"title\": {\"standoff\": 15}, \"zerolinecolor\": \"white\", \"zerolinewidth\": 2}, \"yaxis\": {\"automargin\": true, \"gridcolor\": \"white\", \"linecolor\": \"white\", \"ticks\": \"\", \"title\": {\"standoff\": 15}, \"zerolinecolor\": \"white\", \"zerolinewidth\": 2}}}, \"xaxis\": {\"anchor\": \"y\", \"domain\": [0.0, 1.0], \"title\": {\"text\": \"viability\"}}, \"yaxis\": {\"anchor\": \"x\", \"domain\": [0.0, 1.0], \"title\": {\"text\": \"percent\"}}},\n",
       "                        {\"responsive\": true}\n",
       "                    ).then(function(){\n",
       "                            \n",
       "var gd = document.getElementById('fd5c3140-64a3-4ed1-9d63-84b3300ddbb4');\n",
       "var x = new MutationObserver(function (mutations, observer) {{\n",
       "        var display = window.getComputedStyle(gd).display;\n",
       "        if (!display || display === 'none') {{\n",
       "            console.log([gd, 'removed!']);\n",
       "            Plotly.purge(gd);\n",
       "            observer.disconnect();\n",
       "        }}\n",
       "}});\n",
       "\n",
       "// Listen for the removal of the full notebook cells\n",
       "var notebookContainer = gd.closest('#notebook-container');\n",
       "if (notebookContainer) {{\n",
       "    x.observe(notebookContainer, {childList: true});\n",
       "}}\n",
       "\n",
       "// Listen for the clearing of the current output cell\n",
       "var outputEl = gd.closest('.output');\n",
       "if (outputEl) {{\n",
       "    x.observe(outputEl, {childList: true});\n",
       "}}\n",
       "\n",
       "                        })\n",
       "                };\n",
       "                });\n",
       "            </script>\n",
       "        </div>"
      ]
     },
     "metadata": {},
     "output_type": "display_data"
    }
   ],
   "source": [
    "import plotly.express as px\n",
    "\n",
    "px.bar(pikalytics,\n",
    "       y=\"percent\",\n",
    "       x=\"viability\",\n",
    "       color=\"pokemon_name\",\n",
    "       hover_name=\"pokemon_name\")"
   ]
  },
  {
   "cell_type": "markdown",
   "metadata": {},
   "source": [
    "### Pikalytics dataset insights"
   ]
  },
  {
   "cell_type": "markdown",
   "metadata": {},
   "source": [
    "#### ¿Does viability predict usage?\n",
    "\n",
    "We don't really know if *viability* predicts *usage*, or if it is the latest that defines which Pokémon deserves to be in which *viability* cluster. However we can see that the 3 most used Pokémon are in cluster B, cluster B- Pokémon are used almost as much frequently, and very few Pokemon within-cluster C+ are used, being 0 Pokémon from lower strata. \n",
    "\n",
    "Still, we don't know what are the rules deciding in which stratum Pokémon are classified and... ¿What about A, A-, and B+ clusters? ¿Are they *Uber* (banned)?"
   ]
  },
  {
   "cell_type": "markdown",
   "metadata": {},
   "source": [
    "## Wikidex dataset"
   ]
  },
  {
   "cell_type": "markdown",
   "metadata": {},
   "source": [
    "### Wikidex dataset EDA and cleaning"
   ]
  },
  {
   "cell_type": "code",
   "execution_count": 9,
   "metadata": {
    "ExecuteTime": {
     "end_time": "2020-03-21T11:06:09.914904Z",
     "start_time": "2020-03-21T11:06:09.896041Z"
    }
   },
   "outputs": [],
   "source": [
    "wikidex = pd.read_csv(\"data/wikidexDF_clean.csv\")"
   ]
  },
  {
   "cell_type": "code",
   "execution_count": 10,
   "metadata": {
    "ExecuteTime": {
     "end_time": "2020-03-21T11:06:10.071504Z",
     "start_time": "2020-03-21T11:06:09.922912Z"
    }
   },
   "outputs": [
    {
     "data": {
      "text/plain": [
       "(1021, 12)"
      ]
     },
     "execution_count": 10,
     "metadata": {},
     "output_type": "execute_result"
    }
   ],
   "source": [
    "wikidex.shape"
   ]
  },
  {
   "cell_type": "code",
   "execution_count": 11,
   "metadata": {
    "ExecuteTime": {
     "end_time": "2020-03-21T11:06:10.167643Z",
     "start_time": "2020-03-21T11:06:10.076483Z"
    }
   },
   "outputs": [
    {
     "name": "stdout",
     "output_type": "stream",
     "text": [
      "<class 'pandas.core.frame.DataFrame'>\n",
      "RangeIndex: 1021 entries, 0 to 1020\n",
      "Data columns (total 12 columns):\n",
      " #   Column           Non-Null Count  Dtype \n",
      "---  ------           --------------  ----- \n",
      " 0   Unnamed: 0       1021 non-null   int64 \n",
      " 1   National Dex #   1021 non-null   int64 \n",
      " 2   Pokémon          1021 non-null   object\n",
      " 3   HP               1021 non-null   int64 \n",
      " 4   Attack           1021 non-null   object\n",
      " 5   Defense          1021 non-null   object\n",
      " 6   Special Attack   1021 non-null   object\n",
      " 7   Special Defense  1021 non-null   object\n",
      " 8   Speed            1021 non-null   int64 \n",
      " 9   Mean             1021 non-null   object\n",
      " 10  SD               1021 non-null   object\n",
      " 11  Total            1021 non-null   int64 \n",
      "dtypes: int64(5), object(7)\n",
      "memory usage: 95.8+ KB\n"
     ]
    }
   ],
   "source": [
    "wikidex.info()"
   ]
  },
  {
   "cell_type": "code",
   "execution_count": 12,
   "metadata": {
    "ExecuteTime": {
     "end_time": "2020-03-21T11:06:10.268271Z",
     "start_time": "2020-03-21T11:06:10.169711Z"
    }
   },
   "outputs": [
    {
     "data": {
      "text/html": [
       "<div>\n",
       "<style scoped>\n",
       "    .dataframe tbody tr th:only-of-type {\n",
       "        vertical-align: middle;\n",
       "    }\n",
       "\n",
       "    .dataframe tbody tr th {\n",
       "        vertical-align: top;\n",
       "    }\n",
       "\n",
       "    .dataframe thead th {\n",
       "        text-align: right;\n",
       "    }\n",
       "</style>\n",
       "<table border=\"1\" class=\"dataframe\">\n",
       "  <thead>\n",
       "    <tr style=\"text-align: right;\">\n",
       "      <th></th>\n",
       "      <th>Unnamed: 0</th>\n",
       "      <th>National Dex #</th>\n",
       "      <th>Pokémon</th>\n",
       "      <th>HP</th>\n",
       "      <th>Attack</th>\n",
       "      <th>Defense</th>\n",
       "      <th>Special Attack</th>\n",
       "      <th>Special Defense</th>\n",
       "      <th>Speed</th>\n",
       "      <th>Mean</th>\n",
       "      <th>SD</th>\n",
       "      <th>Total</th>\n",
       "    </tr>\n",
       "  </thead>\n",
       "  <tbody>\n",
       "    <tr>\n",
       "      <th>0</th>\n",
       "      <td>0</td>\n",
       "      <td>1</td>\n",
       "      <td>Bulbasaur</td>\n",
       "      <td>45</td>\n",
       "      <td>49</td>\n",
       "      <td>49</td>\n",
       "      <td>65</td>\n",
       "      <td>65</td>\n",
       "      <td>45</td>\n",
       "      <td>53,00</td>\n",
       "      <td>8,64</td>\n",
       "      <td>318</td>\n",
       "    </tr>\n",
       "    <tr>\n",
       "      <th>1</th>\n",
       "      <td>1</td>\n",
       "      <td>2</td>\n",
       "      <td>Ivysaur</td>\n",
       "      <td>60</td>\n",
       "      <td>62</td>\n",
       "      <td>63</td>\n",
       "      <td>80</td>\n",
       "      <td>80</td>\n",
       "      <td>60</td>\n",
       "      <td>67,50</td>\n",
       "      <td>8,90</td>\n",
       "      <td>405</td>\n",
       "    </tr>\n",
       "    <tr>\n",
       "      <th>2</th>\n",
       "      <td>2</td>\n",
       "      <td>3</td>\n",
       "      <td>Venusaur</td>\n",
       "      <td>80</td>\n",
       "      <td>82</td>\n",
       "      <td>83</td>\n",
       "      <td>100</td>\n",
       "      <td>100</td>\n",
       "      <td>80</td>\n",
       "      <td>87,50</td>\n",
       "      <td>8,90</td>\n",
       "      <td>525</td>\n",
       "    </tr>\n",
       "    <tr>\n",
       "      <th>3</th>\n",
       "      <td>3</td>\n",
       "      <td>3</td>\n",
       "      <td>Mega-Venusaur</td>\n",
       "      <td>80</td>\n",
       "      <td>100</td>\n",
       "      <td>123</td>\n",
       "      <td>122</td>\n",
       "      <td>120</td>\n",
       "      <td>80</td>\n",
       "      <td>104,17</td>\n",
       "      <td>18,75</td>\n",
       "      <td>625</td>\n",
       "    </tr>\n",
       "    <tr>\n",
       "      <th>4</th>\n",
       "      <td>4</td>\n",
       "      <td>4</td>\n",
       "      <td>Charmander</td>\n",
       "      <td>39</td>\n",
       "      <td>52</td>\n",
       "      <td>43</td>\n",
       "      <td>60</td>\n",
       "      <td>50</td>\n",
       "      <td>65</td>\n",
       "      <td>51,50</td>\n",
       "      <td>9,00</td>\n",
       "      <td>309</td>\n",
       "    </tr>\n",
       "  </tbody>\n",
       "</table>\n",
       "</div>"
      ],
      "text/plain": [
       "   Unnamed: 0  National Dex #        Pokémon  HP Attack Defense  \\\n",
       "0           0               1      Bulbasaur  45     49      49   \n",
       "1           1               2        Ivysaur  60     62      63   \n",
       "2           2               3       Venusaur  80     82      83   \n",
       "3           3               3  Mega-Venusaur  80    100     123   \n",
       "4           4               4     Charmander  39     52      43   \n",
       "\n",
       "  Special Attack Special Defense  Speed    Mean     SD  Total  \n",
       "0             65              65     45   53,00   8,64    318  \n",
       "1             80              80     60   67,50   8,90    405  \n",
       "2            100             100     80   87,50   8,90    525  \n",
       "3            122             120     80  104,17  18,75    625  \n",
       "4             60              50     65   51,50   9,00    309  "
      ]
     },
     "execution_count": 12,
     "metadata": {},
     "output_type": "execute_result"
    }
   ],
   "source": [
    "wikidex.head()"
   ]
  },
  {
   "cell_type": "code",
   "execution_count": 13,
   "metadata": {
    "ExecuteTime": {
     "end_time": "2020-03-21T11:06:10.365529Z",
     "start_time": "2020-03-21T11:06:10.271253Z"
    }
   },
   "outputs": [
    {
     "data": {
      "text/html": [
       "<div>\n",
       "<style scoped>\n",
       "    .dataframe tbody tr th:only-of-type {\n",
       "        vertical-align: middle;\n",
       "    }\n",
       "\n",
       "    .dataframe tbody tr th {\n",
       "        vertical-align: top;\n",
       "    }\n",
       "\n",
       "    .dataframe thead th {\n",
       "        text-align: right;\n",
       "    }\n",
       "</style>\n",
       "<table border=\"1\" class=\"dataframe\">\n",
       "  <thead>\n",
       "    <tr style=\"text-align: right;\">\n",
       "      <th></th>\n",
       "      <th>Unnamed: 0</th>\n",
       "      <th>National Dex #</th>\n",
       "      <th>Pokémon</th>\n",
       "      <th>HP</th>\n",
       "      <th>Attack</th>\n",
       "      <th>Defense</th>\n",
       "      <th>Special Attack</th>\n",
       "      <th>Special Defense</th>\n",
       "      <th>Speed</th>\n",
       "      <th>Mean</th>\n",
       "      <th>SD</th>\n",
       "      <th>Total</th>\n",
       "    </tr>\n",
       "  </thead>\n",
       "  <tbody>\n",
       "    <tr>\n",
       "      <th>1016</th>\n",
       "      <td>1016</td>\n",
       "      <td>888</td>\n",
       "      <td>Zacian espada suprema</td>\n",
       "      <td>92</td>\n",
       "      <td>170</td>\n",
       "      <td>115</td>\n",
       "      <td>80</td>\n",
       "      <td>115</td>\n",
       "      <td>148</td>\n",
       "      <td>120</td>\n",
       "      <td>30,87</td>\n",
       "      <td>720</td>\n",
       "    </tr>\n",
       "    <tr>\n",
       "      <th>1017</th>\n",
       "      <td>1017</td>\n",
       "      <td>889</td>\n",
       "      <td>Zamazenta</td>\n",
       "      <td>92</td>\n",
       "      <td>130</td>\n",
       "      <td>115</td>\n",
       "      <td>80</td>\n",
       "      <td>115</td>\n",
       "      <td>138</td>\n",
       "      <td>111,67</td>\n",
       "      <td>20,17</td>\n",
       "      <td>670</td>\n",
       "    </tr>\n",
       "    <tr>\n",
       "      <th>1018</th>\n",
       "      <td>1018</td>\n",
       "      <td>889</td>\n",
       "      <td>Zamazenta escudo supremo</td>\n",
       "      <td>92</td>\n",
       "      <td>130</td>\n",
       "      <td>145</td>\n",
       "      <td>80</td>\n",
       "      <td>145</td>\n",
       "      <td>128</td>\n",
       "      <td>120</td>\n",
       "      <td>25,16</td>\n",
       "      <td>720</td>\n",
       "    </tr>\n",
       "    <tr>\n",
       "      <th>1019</th>\n",
       "      <td>1019</td>\n",
       "      <td>890</td>\n",
       "      <td>Eternatus</td>\n",
       "      <td>140</td>\n",
       "      <td>85</td>\n",
       "      <td>95</td>\n",
       "      <td>145</td>\n",
       "      <td>95</td>\n",
       "      <td>130</td>\n",
       "      <td>115,00</td>\n",
       "      <td>23,98</td>\n",
       "      <td>690</td>\n",
       "    </tr>\n",
       "    <tr>\n",
       "      <th>1020</th>\n",
       "      <td>1020</td>\n",
       "      <td>890</td>\n",
       "      <td>Eternatus Dinamax infinito</td>\n",
       "      <td>255</td>\n",
       "      <td>115</td>\n",
       "      <td>250</td>\n",
       "      <td>125</td>\n",
       "      <td>250</td>\n",
       "      <td>130</td>\n",
       "      <td>187,50</td>\n",
       "      <td>64,34</td>\n",
       "      <td>1125</td>\n",
       "    </tr>\n",
       "  </tbody>\n",
       "</table>\n",
       "</div>"
      ],
      "text/plain": [
       "      Unnamed: 0  National Dex #                     Pokémon   HP Attack  \\\n",
       "1016        1016             888       Zacian espada suprema   92    170   \n",
       "1017        1017             889                   Zamazenta   92    130   \n",
       "1018        1018             889    Zamazenta escudo supremo   92    130   \n",
       "1019        1019             890                   Eternatus  140     85   \n",
       "1020        1020             890  Eternatus Dinamax infinito  255    115   \n",
       "\n",
       "     Defense Special Attack Special Defense  Speed    Mean     SD  Total  \n",
       "1016     115             80             115    148     120  30,87    720  \n",
       "1017     115             80             115    138  111,67  20,17    670  \n",
       "1018     145             80             145    128     120  25,16    720  \n",
       "1019      95            145              95    130  115,00  23,98    690  \n",
       "1020     250            125             250    130  187,50  64,34   1125  "
      ]
     },
     "execution_count": 13,
     "metadata": {},
     "output_type": "execute_result"
    }
   ],
   "source": [
    "wikidex.tail()"
   ]
  },
  {
   "cell_type": "code",
   "execution_count": 14,
   "metadata": {
    "ExecuteTime": {
     "end_time": "2020-03-21T11:06:10.504427Z",
     "start_time": "2020-03-21T11:06:10.368554Z"
    }
   },
   "outputs": [],
   "source": [
    "wikidex[\"HP\"] = wikidex[\"HP\"].replace(\"901\", \"90\").replace(\n",
    "    \"953\", \"95\").replace(\"404\", \"40\").replace(\"505\", \"50\").replace(\n",
    "        \"927\", \"92\").replace(\"959\", \"95\").replace(\"8510\", \"85\").replace(\n",
    "            \"85 10\", \"85\").replace(\"7013\", \"70\").replace(\"9015\", \"90\").replace(\n",
    "                \"8618\",\n",
    "                \"86\").replace(\"7019\", \"70\").replace(\"6020\", \"60\").replace(\n",
    "                    \"8521\",\n",
    "                    \"85\").replace(\"6022\", \"60\").replace(\"6523\", \"65\").replace(\n",
    "                        \"65 23\", \"65\").replace(\"7325\", \"73\").replace(\n",
    "                            \"9026\", \"90\").replace(\"90 26\", \"90\").replace(\n",
    "                                \"6527\", \"65\").replace(\"65 27\", \"65\").replace(\n",
    "                                    \"8030\", \"80\").replace(\n",
    "                                        \"9531\", \"95\").replace(\n",
    "                                            \"5034\", \"50\"\n",
    "                                        ).replace(\"959\", \"95\").replace(\n",
    "                                            \"9011\",\n",
    "                                            \"90\"\n",
    "                                        ).replace(\n",
    "                                            \"7515\",\n",
    "                                            \"75\"\n",
    "                                        ).replace(\n",
    "                                            \"8515\",\n",
    "                                            \"85\"\n",
    "                                        ).replace(\"85 15\", \"85\").replace(\n",
    "                                            \"8019\",\n",
    "                                            \"80\").replace(\n",
    "                                                \"7522\",\n",
    "                                                \"75\").replace(\n",
    "                                                    \"7523\",\n",
    "                                                    \"75\").replace(\n",
    "                                                        \"8026\",\n",
    "                                                        \"80\"\n",
    "                                                    ).replace(\n",
    "                                                        \"140 35\",\n",
    "                                                        \"140\").replace(\n",
    "                                                            \" \", \"\").replace(\n",
    "                                                                \",\",\n",
    "                                                                \".\").astype(\n",
    "                                                                    str)\n",
    "wikidex[\"Attack\"] = wikidex[\"Attack\"].replace(\"901\", \"90\").replace(\n",
    "    \"953\", \"95\").replace(\"404\", \"40\").replace(\"505\", \"50\").replace(\n",
    "        \"927\", \"92\").replace(\"959\", \"95\").replace(\"8510\", \"85\").replace(\n",
    "            \"85 10\", \"85\").replace(\"7013\", \"70\").replace(\"9015\", \"90\").replace(\n",
    "                \"8618\",\n",
    "                \"86\").replace(\"7019\", \"70\").replace(\"6020\", \"60\").replace(\n",
    "                    \"8521\",\n",
    "                    \"85\").replace(\"6022\", \"60\").replace(\"6523\", \"65\").replace(\n",
    "                        \"65 23\", \"65\").replace(\"7325\", \"73\").replace(\n",
    "                            \"9026\", \"90\").replace(\"90 26\", \"90\").replace(\n",
    "                                \"6527\", \"65\").replace(\"65 27\", \"65\").replace(\n",
    "                                    \"8030\", \"80\").replace(\n",
    "                                        \"9531\", \"95\").replace(\n",
    "                                            \"5034\", \"50\"\n",
    "                                        ).replace(\"959\", \"95\").replace(\n",
    "                                            \"9011\",\n",
    "                                            \"90\"\n",
    "                                        ).replace(\n",
    "                                            \"7515\",\n",
    "                                            \"75\"\n",
    "                                        ).replace(\n",
    "                                            \"8515\",\n",
    "                                            \"85\"\n",
    "                                        ).replace(\"85 15\", \"85\").replace(\n",
    "                                            \"8019\",\n",
    "                                            \"80\").replace(\n",
    "                                                \"7522\",\n",
    "                                                \"75\").replace(\n",
    "                                                    \"7523\",\n",
    "                                                    \"75\").replace(\n",
    "                                                        \"8026\",\n",
    "                                                        \"80\"\n",
    "                                                    ).replace(\n",
    "                                                        \"140 35\",\n",
    "                                                        \"140\").replace(\n",
    "                                                            \" \", \"\").replace(\n",
    "                                                                \",\",\n",
    "                                                                \".\").astype(\n",
    "                                                                    str)\n",
    "wikidex[\"Defense\"] = wikidex[\"Defense\"].replace(\"901\", \"90\").replace(\n",
    "    \"953\", \"95\").replace(\"404\", \"40\").replace(\"505\", \"50\").replace(\n",
    "        \"927\", \"92\").replace(\"959\", \"95\").replace(\"8510\", \"85\").replace(\n",
    "            \"85 10\", \"85\").replace(\"7013\", \"70\").replace(\"9015\", \"90\").replace(\n",
    "                \"8618\",\n",
    "                \"86\").replace(\"7019\", \"70\").replace(\"6020\", \"60\").replace(\n",
    "                    \"8521\",\n",
    "                    \"85\").replace(\"6022\", \"60\").replace(\"6523\", \"65\").replace(\n",
    "                        \"65 23\", \"65\").replace(\"7325\", \"73\").replace(\n",
    "                            \"9026\", \"90\").replace(\"90 26\", \"90\").replace(\n",
    "                                \"6527\", \"65\").replace(\"65 27\", \"65\").replace(\n",
    "                                    \"8030\", \"80\").replace(\n",
    "                                        \"9531\", \"95\").replace(\n",
    "                                            \"5034\", \"50\"\n",
    "                                        ).replace(\"959\", \"95\").replace(\n",
    "                                            \"9011\",\n",
    "                                            \"90\"\n",
    "                                        ).replace(\n",
    "                                            \"7515\",\n",
    "                                            \"75\"\n",
    "                                        ).replace(\n",
    "                                            \"8515\",\n",
    "                                            \"85\"\n",
    "                                        ).replace(\"85 15\", \"85\").replace(\n",
    "                                            \"8019\",\n",
    "                                            \"80\").replace(\n",
    "                                                \"7522\",\n",
    "                                                \"75\").replace(\n",
    "                                                    \"7523\",\n",
    "                                                    \"75\").replace(\n",
    "                                                        \"8026\",\n",
    "                                                        \"80\"\n",
    "                                                    ).replace(\n",
    "                                                        \"140 35\",\n",
    "                                                        \"140\").replace(\n",
    "                                                            \" \", \"\").replace(\n",
    "                                                                \",\",\n",
    "                                                                \".\").astype(\n",
    "                                                                    str)\n",
    "wikidex[\"Special Attack\"] = wikidex[\"Special Attack\"].replace(\n",
    "    \"901\", \"90\").replace(\"953\", \"95\").replace(\"404\", \"40\").replace(\n",
    "        \"505\", \"50\").replace(\"927\", \"92\").replace(\"959\", \"95\").replace(\n",
    "            \"8510\", \"85\").replace(\"85 10\", \"85\").replace(\"7013\", \"70\").replace(\n",
    "                \"9015\",\n",
    "                \"90\").replace(\"8618\", \"86\").replace(\"7019\", \"70\").replace(\n",
    "                    \"6020\",\n",
    "                    \"60\").replace(\"8521\", \"85\").replace(\"6022\", \"60\").replace(\n",
    "                        \"6523\", \"65\").replace(\"65 23\", \"65\").replace(\n",
    "                            \"7325\", \"73\").replace(\"9026\", \"90\").replace(\n",
    "                                \"90 26\", \"90\").replace(\"6527\", \"65\").replace(\n",
    "                                    \"65 27\",\n",
    "                                    \"65\").replace(\"8030\", \"80\").replace(\n",
    "                                        \"9531\", \"95\").replace(\n",
    "                                            \"5034\", \"50\"\n",
    "                                        ).replace(\"959\", \"95\").replace(\n",
    "                                            \"9011\",\n",
    "                                            \"90\"\n",
    "                                        ).replace(\n",
    "                                            \"7515\",\n",
    "                                            \"75\"\n",
    "                                        ).replace(\n",
    "                                            \"8515\",\n",
    "                                            \"85\"\n",
    "                                        ).replace(\"85 15\", \"85\").replace(\n",
    "                                            \"8019\",\n",
    "                                            \"80\").replace(\n",
    "                                                \"7522\",\n",
    "                                                \"75\").replace(\n",
    "                                                    \"7523\",\n",
    "                                                    \"75\").replace(\n",
    "                                                        \"8026\",\n",
    "                                                        \"80\"\n",
    "                                                    ).replace(\n",
    "                                                        \"140 35\",\n",
    "                                                        \"140\").replace(\n",
    "                                                            \" \", \"\").replace(\n",
    "                                                                \",\",\n",
    "                                                                \".\").astype(\n",
    "                                                                    str)\n",
    "wikidex[\"Special Defense\"] = wikidex[\"Special Defense\"].replace(\n",
    "    \"901\", \"90\").replace(\"953\", \"95\").replace(\"404\", \"40\").replace(\n",
    "        \"505\", \"50\").replace(\"927\", \"92\").replace(\"959\", \"95\").replace(\n",
    "            \"8510\", \"85\").replace(\"85 10\", \"85\").replace(\"7013\", \"70\").replace(\n",
    "                \"9015\",\n",
    "                \"90\").replace(\"8618\", \"86\").replace(\"7019\", \"70\").replace(\n",
    "                    \"6020\",\n",
    "                    \"60\").replace(\"8521\", \"85\").replace(\"6022\", \"60\").replace(\n",
    "                        \"6523\", \"65\").replace(\"65 23\", \"65\").replace(\n",
    "                            \"7325\", \"73\").replace(\"9026\", \"90\").replace(\n",
    "                                \"90 26\", \"90\").replace(\"6527\", \"65\").replace(\n",
    "                                    \"65 27\",\n",
    "                                    \"65\").replace(\"8030\", \"80\").replace(\n",
    "                                        \"9531\", \"95\").replace(\n",
    "                                            \"5034\", \"50\"\n",
    "                                        ).replace(\"959\", \"95\").replace(\n",
    "                                            \"9011\",\n",
    "                                            \"90\"\n",
    "                                        ).replace(\n",
    "                                            \"7515\",\n",
    "                                            \"75\"\n",
    "                                        ).replace(\n",
    "                                            \"8515\",\n",
    "                                            \"85\"\n",
    "                                        ).replace(\"85 15\", \"85\").replace(\n",
    "                                            \"8019\",\n",
    "                                            \"80\").replace(\n",
    "                                                \"7522\",\n",
    "                                                \"75\").replace(\n",
    "                                                    \"7523\",\n",
    "                                                    \"75\").replace(\n",
    "                                                        \"8026\",\n",
    "                                                        \"80\"\n",
    "                                                    ).replace(\n",
    "                                                        \"140 35\",\n",
    "                                                        \"140\").replace(\n",
    "                                                            \" \", \"\").replace(\n",
    "                                                                \",\",\n",
    "                                                                \".\").astype(\n",
    "                                                                    str)\n",
    "wikidex[\"Speed\"] = wikidex[\"Speed\"].replace(\"901\", \"90\").replace(\n",
    "    \"953\", \"95\").replace(\"404\", \"40\").replace(\"505\", \"50\").replace(\n",
    "        \"927\", \"92\").replace(\"959\", \"95\").replace(\"8510\", \"85\").replace(\n",
    "            \"85 10\", \"85\").replace(\"7013\", \"70\").replace(\"9015\", \"90\").replace(\n",
    "                \"8618\",\n",
    "                \"86\").replace(\"7019\", \"70\").replace(\"6020\", \"60\").replace(\n",
    "                    \"8521\",\n",
    "                    \"85\").replace(\"6022\", \"60\").replace(\"6523\", \"65\").replace(\n",
    "                        \"65 23\", \"65\").replace(\"7325\", \"73\").replace(\n",
    "                            \"9026\", \"90\").replace(\"90 26\", \"90\").replace(\n",
    "                                \"6527\", \"65\").replace(\"65 27\", \"65\").replace(\n",
    "                                    \"8030\", \"80\").replace(\n",
    "                                        \"9531\", \"95\").replace(\n",
    "                                            \"5034\", \"50\"\n",
    "                                        ).replace(\"959\", \"95\").replace(\n",
    "                                            \"9011\",\n",
    "                                            \"90\"\n",
    "                                        ).replace(\n",
    "                                            \"7515\",\n",
    "                                            \"75\"\n",
    "                                        ).replace(\n",
    "                                            \"8515\",\n",
    "                                            \"85\"\n",
    "                                        ).replace(\"85 15\", \"85\").replace(\n",
    "                                            \"8019\",\n",
    "                                            \"80\").replace(\n",
    "                                                \"7522\",\n",
    "                                                \"75\").replace(\n",
    "                                                    \"7523\",\n",
    "                                                    \"75\").replace(\n",
    "                                                        \"8026\",\n",
    "                                                        \"80\"\n",
    "                                                    ).replace(\n",
    "                                                        \"140 35\",\n",
    "                                                        \"140\").replace(\n",
    "                                                            \" \", \"\").replace(\n",
    "                                                                \",\",\n",
    "                                                                \".\").astype(\n",
    "                                                                    str)"
   ]
  },
  {
   "cell_type": "code",
   "execution_count": 15,
   "metadata": {
    "ExecuteTime": {
     "end_time": "2020-03-21T11:06:10.563257Z",
     "start_time": "2020-03-21T11:06:10.505722Z"
    }
   },
   "outputs": [],
   "source": [
    "wikidex_stats = wikidex.drop([\"Unnamed: 0\", \"Mean\", \"SD\", \"Total\"], axis=1)\n",
    "\n",
    "wikidex_new_HP = [re.findall(\"^.{3}\", s) for s in wikidex_stats[\"HP\"]]\n",
    "wikidex_new_Attack = [re.findall(\"^.{3}\", s) for s in wikidex_stats[\"Attack\"]]\n",
    "wikidex_new_Defense = [\n",
    "    re.findall(\"^.{3}\", s) for s in wikidex_stats[\"Defense\"]\n",
    "]\n",
    "wikidex_new_Special_Attack = [\n",
    "    re.findall(\"^.{3}\", s) for s in wikidex_stats[\"Special Attack\"]\n",
    "]\n",
    "wikidex_new_Special_Defense = [\n",
    "    re.findall(\"^.{3}\", s) for s in wikidex_stats[\"Special Defense\"]\n",
    "]\n",
    "wikidex_new_Speed = [re.findall(\"^.{3}\", s) for s in wikidex_stats[\"Speed\"]]"
   ]
  },
  {
   "cell_type": "code",
   "execution_count": 16,
   "metadata": {
    "ExecuteTime": {
     "end_time": "2020-03-21T11:06:10.665613Z",
     "start_time": "2020-03-21T11:06:10.567407Z"
    }
   },
   "outputs": [],
   "source": [
    "wikidex_new_HP = pd.DataFrame(wikidex_new_HP)\n",
    "wikidex_new_Attack = pd.DataFrame(wikidex_new_Attack)\n",
    "wikidex_new_Defense = pd.DataFrame(wikidex_new_Defense)\n",
    "wikidex_new_Special_Attack = pd.DataFrame(wikidex_new_Special_Attack)\n",
    "wikidex_new_Special_Defense = pd.DataFrame(wikidex_new_Special_Defense)\n",
    "wikidex_new_Speed = pd.DataFrame(wikidex_new_Speed)"
   ]
  },
  {
   "cell_type": "code",
   "execution_count": 17,
   "metadata": {
    "ExecuteTime": {
     "end_time": "2020-03-21T11:06:10.782187Z",
     "start_time": "2020-03-21T11:06:10.669608Z"
    }
   },
   "outputs": [],
   "source": [
    "wikidex_new_stats = pd.concat([\n",
    "    wikidex[\"Pokémon\"], wikidex_new_HP, wikidex_new_Attack,\n",
    "    wikidex_new_Defense, wikidex_new_Special_Attack,\n",
    "    wikidex_new_Special_Defense, wikidex_new_Speed\n",
    "],\n",
    "                              axis=1)"
   ]
  },
  {
   "cell_type": "code",
   "execution_count": 18,
   "metadata": {
    "ExecuteTime": {
     "end_time": "2020-03-21T11:06:10.912733Z",
     "start_time": "2020-03-21T11:06:10.784630Z"
    }
   },
   "outputs": [],
   "source": [
    "wikidex_new_stats.columns = [\n",
    "    \"Pokémon\", \"HP\", \"Attack\", \"Defense\", \"Special Attack\", \"Special Defense\",\n",
    "    \"Speed\"\n",
    "]"
   ]
  },
  {
   "cell_type": "code",
   "execution_count": 19,
   "metadata": {
    "ExecuteTime": {
     "end_time": "2020-03-21T11:06:11.058330Z",
     "start_time": "2020-03-21T11:06:10.914127Z"
    }
   },
   "outputs": [],
   "source": [
    "wikidex_clean = pd.merge(wikidex,\n",
    "                         wikidex_new_stats,\n",
    "                         how=\"left\",\n",
    "                         left_on=[\n",
    "                             \"Pokémon\", \"HP\", \"Attack\", \"Defense\",\n",
    "                             \"Special Attack\", \"Special Defense\", \"Speed\"\n",
    "                         ],\n",
    "                         right_on=[\n",
    "                             \"Pokémon\", \"HP\", \"Attack\", \"Defense\",\n",
    "                             \"Special Attack\", \"Special Defense\", \"Speed\"\n",
    "                         ])"
   ]
  },
  {
   "cell_type": "code",
   "execution_count": 20,
   "metadata": {
    "ExecuteTime": {
     "end_time": "2020-03-21T11:06:11.172323Z",
     "start_time": "2020-03-21T11:06:11.060225Z"
    }
   },
   "outputs": [],
   "source": [
    "wikidex_clean[\"HP\"] = wikidex_clean[\"HP\"].astype(float)\n",
    "wikidex_clean[\"Attack\"] = wikidex_clean[\"Attack\"].astype(float)\n",
    "wikidex_clean[\"Defense\"] = wikidex_clean[\"Defense\"].astype(float)\n",
    "wikidex_clean[\"Special Attack\"] = wikidex_clean[\"Special Attack\"].astype(float)\n",
    "wikidex_clean[\"Special Defense\"] = wikidex_clean[\"Special Defense\"].astype(\n",
    "    float)\n",
    "wikidex_clean[\"Speed\"] = wikidex_clean[\"Speed\"].astype(float)\n",
    "wikidex_clean[\"Mean\"] = wikidex_clean[\"Mean\"].str.replace(',',\n",
    "                                                          '.').astype(float)\n",
    "wikidex_clean[\"SD\"] = wikidex_clean[\"SD\"].str.replace(',', '.').astype(float)"
   ]
  },
  {
   "cell_type": "code",
   "execution_count": 21,
   "metadata": {
    "ExecuteTime": {
     "end_time": "2020-03-21T11:06:11.292309Z",
     "start_time": "2020-03-21T11:06:11.173752Z"
    }
   },
   "outputs": [],
   "source": [
    "errorsDF = wikidex_clean.loc[(wikidex_clean[\"HP\"] > 255) |\n",
    "                             (wikidex_clean[\"Attack\"] > 255) |\n",
    "                             (wikidex_clean[\"Defense\"] > 255) |\n",
    "                             (wikidex_clean[\"Special Attack\"] > 255) |\n",
    "                             (wikidex_clean[\"Special Defense\"] > 255) |\n",
    "                             (wikidex_clean[\"Speed\"] > 255)]"
   ]
  },
  {
   "cell_type": "code",
   "execution_count": 22,
   "metadata": {
    "ExecuteTime": {
     "end_time": "2020-03-21T11:06:11.393197Z",
     "start_time": "2020-03-21T11:06:11.294306Z"
    }
   },
   "outputs": [],
   "source": [
    "wikidex = wikidex_clean.drop([\n",
    "    22, 34, 45, 58, 65, 84, 97, 112, 131, 267, 272, 320, 338, 355, 399, 400,\n",
    "    421, 597, 610, 616, 635, 652, 709, 710\n",
    "],\n",
    "                             axis=0)"
   ]
  },
  {
   "cell_type": "code",
   "execution_count": 23,
   "metadata": {
    "ExecuteTime": {
     "end_time": "2020-03-21T11:06:11.540200Z",
     "start_time": "2020-03-21T11:06:11.394194Z"
    },
    "scrolled": true
   },
   "outputs": [
    {
     "data": {
      "text/html": [
       "<div>\n",
       "<style scoped>\n",
       "    .dataframe tbody tr th:only-of-type {\n",
       "        vertical-align: middle;\n",
       "    }\n",
       "\n",
       "    .dataframe tbody tr th {\n",
       "        vertical-align: top;\n",
       "    }\n",
       "\n",
       "    .dataframe thead th {\n",
       "        text-align: right;\n",
       "    }\n",
       "</style>\n",
       "<table border=\"1\" class=\"dataframe\">\n",
       "  <thead>\n",
       "    <tr style=\"text-align: right;\">\n",
       "      <th></th>\n",
       "      <th>count</th>\n",
       "      <th>mean</th>\n",
       "      <th>std</th>\n",
       "      <th>min</th>\n",
       "      <th>25%</th>\n",
       "      <th>50%</th>\n",
       "      <th>75%</th>\n",
       "      <th>max</th>\n",
       "    </tr>\n",
       "  </thead>\n",
       "  <tbody>\n",
       "    <tr>\n",
       "      <th>National Dex #</th>\n",
       "      <td>997.0</td>\n",
       "      <td>439.915747</td>\n",
       "      <td>259.469046</td>\n",
       "      <td>1.00</td>\n",
       "      <td>214.00</td>\n",
       "      <td>437.00</td>\n",
       "      <td>668.00</td>\n",
       "      <td>890.00</td>\n",
       "    </tr>\n",
       "    <tr>\n",
       "      <th>HP</th>\n",
       "      <td>997.0</td>\n",
       "      <td>69.536610</td>\n",
       "      <td>26.697959</td>\n",
       "      <td>1.00</td>\n",
       "      <td>50.00</td>\n",
       "      <td>65.00</td>\n",
       "      <td>80.00</td>\n",
       "      <td>255.00</td>\n",
       "    </tr>\n",
       "    <tr>\n",
       "      <th>Attack</th>\n",
       "      <td>997.0</td>\n",
       "      <td>80.113340</td>\n",
       "      <td>32.536174</td>\n",
       "      <td>5.00</td>\n",
       "      <td>55.00</td>\n",
       "      <td>76.00</td>\n",
       "      <td>100.00</td>\n",
       "      <td>190.00</td>\n",
       "    </tr>\n",
       "    <tr>\n",
       "      <th>Defense</th>\n",
       "      <td>997.0</td>\n",
       "      <td>74.481444</td>\n",
       "      <td>31.573922</td>\n",
       "      <td>5.00</td>\n",
       "      <td>50.00</td>\n",
       "      <td>70.00</td>\n",
       "      <td>90.00</td>\n",
       "      <td>250.00</td>\n",
       "    </tr>\n",
       "    <tr>\n",
       "      <th>Special Attack</th>\n",
       "      <td>997.0</td>\n",
       "      <td>72.590772</td>\n",
       "      <td>32.867646</td>\n",
       "      <td>10.00</td>\n",
       "      <td>48.00</td>\n",
       "      <td>65.00</td>\n",
       "      <td>95.00</td>\n",
       "      <td>194.00</td>\n",
       "    </tr>\n",
       "    <tr>\n",
       "      <th>Special Defense</th>\n",
       "      <td>997.0</td>\n",
       "      <td>72.018054</td>\n",
       "      <td>28.286963</td>\n",
       "      <td>20.00</td>\n",
       "      <td>50.00</td>\n",
       "      <td>70.00</td>\n",
       "      <td>90.00</td>\n",
       "      <td>250.00</td>\n",
       "    </tr>\n",
       "    <tr>\n",
       "      <th>Speed</th>\n",
       "      <td>997.0</td>\n",
       "      <td>67.963892</td>\n",
       "      <td>29.713402</td>\n",
       "      <td>5.00</td>\n",
       "      <td>45.00</td>\n",
       "      <td>65.00</td>\n",
       "      <td>90.00</td>\n",
       "      <td>180.00</td>\n",
       "    </tr>\n",
       "    <tr>\n",
       "      <th>Mean</th>\n",
       "      <td>997.0</td>\n",
       "      <td>72.783922</td>\n",
       "      <td>20.508296</td>\n",
       "      <td>29.17</td>\n",
       "      <td>54.67</td>\n",
       "      <td>75.83</td>\n",
       "      <td>85.83</td>\n",
       "      <td>187.50</td>\n",
       "    </tr>\n",
       "    <tr>\n",
       "      <th>SD</th>\n",
       "      <td>997.0</td>\n",
       "      <td>19.941545</td>\n",
       "      <td>10.884655</td>\n",
       "      <td>0.00</td>\n",
       "      <td>12.58</td>\n",
       "      <td>18.35</td>\n",
       "      <td>24.73</td>\n",
       "      <td>103.22</td>\n",
       "    </tr>\n",
       "    <tr>\n",
       "      <th>Total</th>\n",
       "      <td>997.0</td>\n",
       "      <td>436.704112</td>\n",
       "      <td>123.049349</td>\n",
       "      <td>175.00</td>\n",
       "      <td>328.00</td>\n",
       "      <td>455.00</td>\n",
       "      <td>515.00</td>\n",
       "      <td>1125.00</td>\n",
       "    </tr>\n",
       "  </tbody>\n",
       "</table>\n",
       "</div>"
      ],
      "text/plain": [
       "                 count        mean         std     min     25%     50%  \\\n",
       "National Dex #   997.0  439.915747  259.469046    1.00  214.00  437.00   \n",
       "HP               997.0   69.536610   26.697959    1.00   50.00   65.00   \n",
       "Attack           997.0   80.113340   32.536174    5.00   55.00   76.00   \n",
       "Defense          997.0   74.481444   31.573922    5.00   50.00   70.00   \n",
       "Special Attack   997.0   72.590772   32.867646   10.00   48.00   65.00   \n",
       "Special Defense  997.0   72.018054   28.286963   20.00   50.00   70.00   \n",
       "Speed            997.0   67.963892   29.713402    5.00   45.00   65.00   \n",
       "Mean             997.0   72.783922   20.508296   29.17   54.67   75.83   \n",
       "SD               997.0   19.941545   10.884655    0.00   12.58   18.35   \n",
       "Total            997.0  436.704112  123.049349  175.00  328.00  455.00   \n",
       "\n",
       "                    75%      max  \n",
       "National Dex #   668.00   890.00  \n",
       "HP                80.00   255.00  \n",
       "Attack           100.00   190.00  \n",
       "Defense           90.00   250.00  \n",
       "Special Attack    95.00   194.00  \n",
       "Special Defense   90.00   250.00  \n",
       "Speed             90.00   180.00  \n",
       "Mean              85.83   187.50  \n",
       "SD                24.73   103.22  \n",
       "Total            515.00  1125.00  "
      ]
     },
     "execution_count": 23,
     "metadata": {},
     "output_type": "execute_result"
    }
   ],
   "source": [
    "wikidex = wikidex.drop([\"Unnamed: 0\"], axis=1)\n",
    "wikidex.describe().T"
   ]
  },
  {
   "cell_type": "markdown",
   "metadata": {},
   "source": [
    "### Wikidex dataset visualization"
   ]
  },
  {
   "cell_type": "code",
   "execution_count": 24,
   "metadata": {
    "ExecuteTime": {
     "end_time": "2020-03-21T11:06:11.589626Z",
     "start_time": "2020-03-21T11:06:11.542241Z"
    }
   },
   "outputs": [],
   "source": [
    "stats = wikidex[[\n",
    "    \"National Dex #\", \"Pokémon\", \"HP\", \"Attack\", \"Defense\", \"Special Attack\",\n",
    "    \"Special Defense\", \"Speed\"\n",
    "]].copy()"
   ]
  },
  {
   "cell_type": "code",
   "execution_count": 25,
   "metadata": {
    "ExecuteTime": {
     "end_time": "2020-03-21T11:06:12.159469Z",
     "start_time": "2020-03-21T11:06:11.591589Z"
    },
    "scrolled": true
   },
   "outputs": [
    {
     "data": {
      "application/vnd.plotly.v1+json": {
       "config": {
        "plotlyServerURL": "https://plot.ly"
       },
       "data": [
        {
         "name": "HP",
         "type": "histogram",
         "x": [
          45,
          60,
          80,
          80,
          39,
          58,
          78,
          78,
          78,
          44,
          59,
          79,
          79,
          45,
          50,
          60,
          40,
          45,
          65,
          65,
          40,
          63,
          83,
          30,
          30,
          55,
          75,
          40,
          65,
          35,
          60,
          35,
          45,
          60,
          50,
          50,
          75,
          75,
          55,
          70,
          90,
          46,
          61,
          70,
          95,
          38,
          38,
          73,
          73,
          115,
          140,
          40,
          75,
          45,
          60,
          35,
          60,
          60,
          70,
          10,
          10,
          35,
          40,
          40,
          50,
          65,
          65,
          50,
          80,
          40,
          65,
          55,
          90,
          40,
          65,
          90,
          25,
          40,
          55,
          70,
          80,
          90,
          50,
          65,
          80,
          40,
          80,
          40,
          40,
          55,
          55,
          80,
          50,
          50,
          65,
          65,
          90,
          90,
          95,
          95,
          25,
          50,
          52,
          52,
          35,
          65,
          90,
          80,
          80,
          105,
          105,
          30,
          50,
          30,
          45,
          60,
          60,
          35,
          60,
          85,
          30,
          55,
          40,
          60,
          95,
          95,
          50,
          60,
          60,
          50,
          50,
          90,
          40,
          65,
          65,
          80,
          105,
          250,
          65,
          105,
          105,
          30,
          55,
          45,
          80,
          30,
          60,
          40,
          50,
          70,
          65,
          65,
          65,
          65,
          65,
          75,
          20,
          95,
          95,
          130,
          48,
          55,
          65,
          130,
          65,
          65,
          65,
          35,
          70,
          30,
          60,
          80,
          80,
          160,
          90,
          90,
          90,
          41,
          61,
          91,
          106,
          106,
          106,
          100,
          45,
          60,
          80,
          39,
          58,
          78,
          50,
          65,
          85,
          35,
          85,
          60,
          100,
          40,
          55,
          40,
          70,
          85,
          75,
          125,
          20,
          50,
          90,
          35,
          55,
          40,
          65,
          55,
          70,
          90,
          90,
          75,
          70,
          100,
          70,
          90,
          35,
          55,
          75,
          55,
          30,
          75,
          65,
          55,
          95,
          65,
          95,
          60,
          95,
          60,
          48,
          190,
          70,
          50,
          75,
          100,
          65,
          75,
          75,
          60,
          90,
          65,
          70,
          70,
          20,
          80,
          80,
          55,
          60,
          90,
          40,
          50,
          50,
          100,
          60,
          35,
          75,
          45,
          65,
          45,
          75,
          75,
          75,
          90,
          90,
          85,
          73,
          55,
          35,
          50,
          45,
          45,
          45,
          95,
          255,
          90,
          115,
          100,
          50,
          70,
          100,
          100,
          106,
          106,
          100,
          40,
          50,
          70,
          70,
          45,
          60,
          80,
          80,
          50,
          70,
          100,
          100,
          35,
          70,
          38,
          38,
          78,
          78,
          45,
          50,
          50,
          60,
          40,
          60,
          80,
          40,
          70,
          90,
          40,
          60,
          40,
          60,
          28,
          38,
          68,
          68,
          40,
          60,
          60,
          60,
          80,
          150,
          31,
          61,
          1,
          64,
          84,
          104,
          72,
          144,
          50,
          30,
          50,
          50,
          50,
          50,
          50,
          50,
          60,
          70,
          70,
          30,
          60,
          60,
          40,
          70,
          70,
          60,
          60,
          65,
          65,
          50,
          70,
          100,
          45,
          70,
          70,
          130,
          170,
          60,
          70,
          70,
          70,
          60,
          80,
          60,
          45,
          50,
          80,
          50,
          70,
          45,
          75,
          75,
          73,
          73,
          50,
          110,
          43,
          63,
          40,
          60,
          66,
          86,
          45,
          75,
          20,
          95,
          70,
          60,
          44,
          64,
          64,
          20,
          40,
          99,
          65,
          65,
          95,
          50,
          80,
          80,
          70,
          90,
          110,
          35,
          55,
          55,
          100,
          43,
          45,
          65,
          95,
          95,
          40,
          60,
          80,
          80,
          80,
          80,
          80,
          80,
          80,
          80,
          80,
          100,
          100,
          100,
          100,
          105,
          105,
          100,
          50,
          50,
          50,
          50,
          55,
          75,
          95,
          44,
          64,
          76,
          53,
          64,
          84,
          40,
          55,
          85,
          59,
          79,
          37,
          77,
          45,
          60,
          80,
          40,
          60,
          67,
          97,
          30,
          60,
          40,
          60,
          60,
          60,
          70,
          30,
          70,
          60,
          55,
          85,
          45,
          70,
          76,
          111,
          75,
          90,
          150,
          55,
          65,
          65,
          60,
          100,
          49,
          71,
          45,
          63,
          103,
          57,
          67,
          50,
          20,
          100,
          76,
          50,
          58,
          68,
          108,
          108,
          135,
          40,
          70,
          70,
          68,
          108,
          40,
          70,
          48,
          83,
          74,
          49,
          69,
          45,
          60,
          90,
          90,
          70,
          70,
          110,
          115,
          100,
          75,
          75,
          85,
          86,
          65,
          65,
          75,
          110,
          85,
          68,
          68,
          60,
          45,
          70,
          50,
          50,
          50,
          50,
          50,
          50,
          75,
          80,
          75,
          100,
          90,
          91,
          110,
          150,
          150,
          120,
          80,
          100,
          70,
          100,
          100,
          120,
          100,
          45,
          60,
          75,
          65,
          90,
          110,
          55,
          75,
          95,
          45,
          60,
          45,
          65,
          41,
          64,
          50,
          75,
          50,
          75,
          50,
          75,
          76,
          116,
          50,
          62,
          45,
          75,
          55,
          70,
          85,
          67,
          60,
          110,
          103,
          103,
          75,
          85,
          105,
          50,
          75,
          105,
          120,
          75,
          45,
          55,
          75,
          30,
          40,
          40,
          60,
          45,
          70,
          70,
          50,
          60,
          95,
          70,
          70,
          105,
          105,
          105,
          105,
          75,
          50,
          50,
          65,
          72,
          38,
          38,
          58,
          54,
          74,
          55,
          75,
          50,
          80,
          40,
          60,
          55,
          75,
          45,
          60,
          70,
          45,
          65,
          110,
          62,
          75,
          36,
          51,
          71,
          60,
          80,
          55,
          50,
          70,
          69,
          114,
          55,
          100,
          165,
          50,
          70,
          44,
          74,
          40,
          60,
          60,
          35,
          65,
          85,
          55,
          75,
          50,
          60,
          60,
          46,
          66,
          76,
          55,
          50,
          80,
          109,
          109,
          45,
          65,
          77,
          59,
          89,
          45,
          65,
          95,
          70,
          100,
          70,
          110,
          85,
          58,
          52,
          72,
          92,
          55,
          85,
          91,
          91,
          91,
          79,
          79,
          79,
          79,
          100,
          100,
          89,
          89,
          125,
          125,
          125,
          91,
          100,
          100,
          71,
          56,
          61,
          88,
          40,
          59,
          75,
          41,
          54,
          72,
          72,
          38,
          85,
          45,
          62,
          78,
          38,
          45,
          80,
          62,
          86,
          44,
          54,
          74,
          78,
          66,
          123,
          67,
          95,
          75,
          62,
          74,
          45,
          59,
          60,
          60,
          78,
          101,
          62,
          82,
          53,
          86,
          42,
          72,
          50,
          65,
          50,
          71,
          44,
          62,
          58,
          82,
          77,
          123,
          95,
          78,
          67,
          50,
          45,
          68,
          90,
          57,
          43,
          85,
          44,
          49,
          54,
          59,
          55,
          65,
          75,
          85,
          55,
          95,
          40,
          85,
          126,
          126,
          54,
          108,
          216,
          50,
          50,
          80,
          80,
          80,
          68,
          78,
          78,
          45,
          65,
          95,
          50,
          60,
          80,
          35,
          55,
          80,
          48,
          88,
          47,
          57,
          77,
          47,
          97,
          75,
          75,
          75,
          75,
          40,
          60,
          45,
          75,
          85,
          75,
          45,
          45,
          50,
          50,
          70,
          100,
          38,
          68,
          40,
          70,
          40,
          60,
          48,
          68,
          70,
          120,
          42,
          52,
          72,
          51,
          90,
          100,
          25,
          75,
          55,
          85,
          55,
          95,
          95,
          60,
          60,
          65,
          60,
          65,
          55,
          68,
          78,
          70,
          45,
          55,
          75,
          70,
          70,
          70,
          70,
          43,
          43,
          137,
          137,
          109,
          107,
          71,
          83,
          97,
          59,
          223,
          97,
          97,
          97,
          97,
          80,
          90,
          67,
          73,
          61,
          53,
          88,
          46,
          135,
          50,
          70,
          100,
          50,
          65,
          80,
          50,
          65,
          70,
          70,
          120,
          38,
          68,
          98,
          25,
          50,
          60,
          40,
          70,
          40,
          60,
          42,
          72,
          50,
          90,
          59,
          69,
          30,
          80,
          110,
          40,
          70,
          110,
          52,
          72,
          70,
          41,
          61,
          40,
          75,
          50,
          100,
          50,
          80,
          40,
          60,
          42,
          57,
          57,
          45,
          65,
          95,
          93,
          70,
          60,
          62,
          80,
          58,
          45,
          65,
          65,
          48,
          30,
          70,
          100,
          75,
          75,
          60,
          70,
          58,
          72,
          122,
          90,
          90,
          90,
          90,
          70,
          28,
          68,
          88,
          92,
          92,
          92,
          92,
          140,
          255
         ],
         "xaxis": "x",
         "xbins": {
          "end": 255,
          "size": 5,
          "start": 1
         },
         "yaxis": "y"
        },
        {
         "name": "Attack",
         "type": "histogram",
         "x": [
          49,
          62,
          82,
          100,
          52,
          64,
          84,
          130,
          104,
          48,
          63,
          83,
          103,
          30,
          20,
          45,
          35,
          25,
          90,
          150,
          45,
          60,
          80,
          56,
          56,
          81,
          71,
          60,
          90,
          60,
          95,
          55,
          80,
          85,
          75,
          75,
          100,
          100,
          47,
          62,
          92,
          57,
          72,
          45,
          70,
          41,
          41,
          76,
          67,
          45,
          70,
          45,
          80,
          50,
          65,
          70,
          95,
          55,
          65,
          55,
          55,
          100,
          45,
          35,
          65,
          70,
          60,
          52,
          82,
          80,
          105,
          70,
          110,
          50,
          65,
          95,
          20,
          35,
          50,
          80,
          100,
          130,
          75,
          90,
          105,
          40,
          70,
          80,
          80,
          95,
          95,
          120,
          85,
          85,
          100,
          100,
          65,
          65,
          75,
          75,
          35,
          60,
          90,
          95,
          85,
          45,
          70,
          80,
          80,
          105,
          105,
          65,
          95,
          35,
          50,
          65,
          65,
          45,
          48,
          73,
          105,
          130,
          30,
          40,
          95,
          105,
          50,
          80,
          80,
          120,
          105,
          55,
          65,
          90,
          90,
          85,
          130,
          5,
          55,
          95,
          125,
          40,
          65,
          67,
          92,
          45,
          75,
          45,
          65,
          110,
          50,
          83,
          95,
          125,
          155,
          100,
          10,
          125,
          155,
          85,
          48,
          55,
          75,
          65,
          65,
          130,
          60,
          40,
          60,
          80,
          115,
          105,
          135,
          110,
          85,
          90,
          100,
          64,
          84,
          134,
          110,
          190,
          150,
          100,
          49,
          62,
          82,
          52,
          64,
          84,
          65,
          80,
          105,
          46,
          76,
          30,
          50,
          20,
          35,
          60,
          90,
          90,
          38,
          58,
          40,
          25,
          30,
          20,
          40,
          50,
          75,
          40,
          55,
          75,
          95,
          80,
          20,
          50,
          100,
          75,
          35,
          45,
          55,
          70,
          30,
          75,
          65,
          45,
          85,
          65,
          65,
          85,
          75,
          60,
          72,
          33,
          80,
          65,
          90,
          70,
          75,
          85,
          125,
          80,
          120,
          95,
          130,
          150,
          10,
          125,
          185,
          95,
          80,
          130,
          40,
          60,
          50,
          100,
          55,
          65,
          105,
          55,
          80,
          60,
          90,
          90,
          95,
          60,
          120,
          80,
          95,
          20,
          35,
          95,
          30,
          63,
          75,
          80,
          10,
          85,
          115,
          75,
          64,
          84,
          134,
          164,
          90,
          130,
          100,
          45,
          65,
          85,
          110,
          60,
          85,
          120,
          160,
          70,
          85,
          110,
          150,
          55,
          90,
          30,
          30,
          70,
          70,
          45,
          35,
          35,
          50,
          30,
          50,
          70,
          40,
          70,
          100,
          55,
          85,
          30,
          50,
          25,
          35,
          65,
          85,
          30,
          40,
          130,
          60,
          80,
          160,
          45,
          90,
          90,
          51,
          71,
          91,
          60,
          120,
          20,
          45,
          45,
          75,
          85,
          85,
          105,
          70,
          90,
          110,
          140,
          40,
          60,
          100,
          45,
          75,
          75,
          50,
          40,
          73,
          47,
          60,
          43,
          73,
          90,
          120,
          140,
          70,
          90,
          60,
          100,
          120,
          85,
          25,
          45,
          60,
          100,
          70,
          100,
          85,
          115,
          40,
          70,
          110,
          115,
          100,
          48,
          78,
          80,
          120,
          40,
          70,
          41,
          81,
          95,
          125,
          15,
          60,
          70,
          90,
          75,
          115,
          165,
          40,
          70,
          68,
          130,
          150,
          23,
          50,
          80,
          120,
          40,
          60,
          80,
          64,
          104,
          84,
          90,
          30,
          75,
          95,
          135,
          145,
          55,
          75,
          135,
          145,
          100,
          50,
          75,
          80,
          100,
          90,
          130,
          100,
          150,
          150,
          180,
          150,
          180,
          100,
          150,
          180,
          70,
          95,
          68,
          89,
          109,
          58,
          78,
          104,
          51,
          66,
          86,
          55,
          75,
          120,
          45,
          85,
          25,
          85,
          65,
          85,
          120,
          30,
          70,
          125,
          165,
          42,
          52,
          29,
          59,
          79,
          69,
          94,
          30,
          80,
          45,
          65,
          105,
          35,
          60,
          48,
          83,
          100,
          50,
          80,
          66,
          76,
          136,
          60,
          125,
          55,
          82,
          30,
          63,
          93,
          24,
          89,
          80,
          25,
          5,
          65,
          92,
          70,
          90,
          130,
          170,
          85,
          70,
          110,
          145,
          72,
          112,
          50,
          90,
          61,
          106,
          100,
          49,
          69,
          20,
          62,
          92,
          132,
          120,
          70,
          85,
          140,
          100,
          123,
          95,
          50,
          76,
          110,
          60,
          95,
          130,
          80,
          125,
          165,
          55,
          100,
          80,
          50,
          65,
          65,
          65,
          65,
          65,
          75,
          105,
          125,
          120,
          120,
          90,
          160,
          100,
          120,
          70,
          80,
          100,
          90,
          100,
          103,
          120,
          100,
          45,
          60,
          75,
          63,
          93,
          123,
          55,
          75,
          100,
          55,
          85,
          60,
          80,
          50,
          88,
          53,
          98,
          53,
          98,
          53,
          98,
          25,
          55,
          55,
          77,
          60,
          100,
          75,
          105,
          135,
          57,
          85,
          135,
          60,
          60,
          80,
          105,
          140,
          50,
          65,
          95,
          100,
          125,
          53,
          63,
          103,
          45,
          55,
          27,
          67,
          35,
          60,
          92,
          72,
          82,
          117,
          90,
          90,
          140,
          140,
          30,
          160,
          86,
          65,
          75,
          90,
          58,
          30,
          55,
          50,
          78,
          108,
          112,
          140,
          50,
          95,
          65,
          105,
          50,
          95,
          30,
          45,
          55,
          30,
          40,
          65,
          44,
          87,
          50,
          65,
          95,
          60,
          100,
          75,
          75,
          135,
          55,
          85,
          40,
          60,
          75,
          47,
          77,
          50,
          94,
          55,
          80,
          100,
          55,
          85,
          115,
          55,
          75,
          30,
          40,
          55,
          87,
          117,
          147,
          70,
          40,
          70,
          66,
          81,
          85,
          125,
          120,
          74,
          124,
          85,
          125,
          110,
          83,
          123,
          55,
          65,
          97,
          109,
          65,
          85,
          105,
          85,
          60,
          90,
          129,
          90,
          115,
          100,
          115,
          105,
          120,
          150,
          125,
          145,
          130,
          170,
          120,
          72,
          77,
          128,
          120,
          61,
          78,
          107,
          45,
          59,
          69,
          56,
          63,
          95,
          145,
          36,
          56,
          50,
          73,
          81,
          35,
          22,
          52,
          50,
          68,
          38,
          45,
          65,
          65,
          65,
          100,
          82,
          124,
          80,
          48,
          48,
          80,
          110,
          50,
          140,
          52,
          72,
          48,
          80,
          54,
          92,
          52,
          92,
          60,
          75,
          53,
          73,
          38,
          55,
          89,
          121,
          59,
          77,
          65,
          92,
          58,
          50,
          50,
          75,
          100,
          80,
          70,
          110,
          66,
          66,
          66,
          66,
          85,
          90,
          95,
          100,
          69,
          117,
          30,
          70,
          131,
          131,
          100,
          100,
          100,
          100,
          160,
          110,
          160,
          110,
          55,
          75,
          107,
          65,
          85,
          115,
          54,
          69,
          74,
          75,
          85,
          120,
          70,
          110,
          62,
          82,
          70,
          82,
          132,
          70,
          70,
          70,
          70,
          45,
          55,
          65,
          115,
          115,
          117,
          20,
          140,
          53,
          63,
          100,
          125,
          40,
          70,
          55,
          105,
          35,
          45,
          44,
          64,
          75,
          125,
          30,
          40,
          120,
          52,
          60,
          120,
          35,
          125,
          55,
          75,
          60,
          95,
          95,
          60,
          100,
          115,
          78,
          98,
          90,
          105,
          60,
          131,
          55,
          75,
          110,
          115,
          85,
          130,
          75,
          29,
          29,
          137,
          113,
          53,
          139,
          137,
          89,
          101,
          181,
          101,
          107,
          157,
          113,
          167,
          95,
          125,
          73,
          73,
          131,
          127,
          112,
          65,
          143,
          65,
          85,
          125,
          71,
          86,
          116,
          40,
          60,
          85,
          55,
          95,
          47,
          67,
          87,
          20,
          35,
          45,
          28,
          58,
          40,
          50,
          40,
          80,
          64,
          115,
          45,
          90,
          40,
          60,
          80,
          40,
          110,
          85,
          57,
          107,
          85,
          63,
          123,
          38,
          98,
          65,
          115,
          68,
          118,
          45,
          65,
          30,
          40,
          90,
          45,
          60,
          120,
          90,
          110,
          95,
          135,
          85,
          95,
          40,
          60,
          100,
          101,
          25,
          65,
          125,
          80,
          80,
          65,
          55,
          95,
          80,
          130,
          100,
          100,
          90,
          90,
          95,
          60,
          80,
          120,
          130,
          170,
          130,
          130,
          85,
          115
         ],
         "xaxis": "x2",
         "xbins": {
          "end": 190,
          "size": 5,
          "start": 5
         },
         "yaxis": "y2"
        },
        {
         "name": "Defense",
         "type": "histogram",
         "x": [
          49,
          63,
          83,
          123,
          43,
          58,
          78,
          111,
          78,
          65,
          80,
          100,
          120,
          35,
          55,
          50,
          30,
          50,
          40,
          40,
          40,
          55,
          80,
          35,
          35,
          60,
          70,
          30,
          65,
          44,
          69,
          40,
          50,
          50,
          85,
          90,
          110,
          120,
          52,
          67,
          87,
          40,
          57,
          48,
          73,
          40,
          40,
          75,
          75,
          20,
          45,
          35,
          70,
          55,
          70,
          55,
          80,
          50,
          60,
          25,
          30,
          60,
          35,
          35,
          55,
          60,
          60,
          48,
          78,
          35,
          60,
          45,
          80,
          40,
          65,
          95,
          15,
          30,
          45,
          50,
          70,
          80,
          35,
          50,
          65,
          35,
          65,
          100,
          100,
          115,
          115,
          130,
          55,
          55,
          70,
          70,
          65,
          65,
          110,
          180,
          70,
          95,
          55,
          55,
          45,
          55,
          80,
          50,
          50,
          75,
          75,
          100,
          180,
          30,
          45,
          60,
          80,
          160,
          45,
          70,
          90,
          115,
          50,
          80,
          85,
          85,
          95,
          110,
          110,
          53,
          79,
          75,
          95,
          120,
          120,
          95,
          120,
          5,
          115,
          80,
          100,
          70,
          95,
          60,
          65,
          55,
          85,
          65,
          65,
          80,
          35,
          57,
          57,
          100,
          120,
          95,
          55,
          79,
          109,
          80,
          48,
          50,
          60,
          60,
          60,
          60,
          70,
          100,
          125,
          90,
          105,
          65,
          85,
          65,
          100,
          85,
          90,
          45,
          65,
          95,
          90,
          100,
          70,
          100,
          65,
          80,
          100,
          43,
          58,
          78,
          64,
          80,
          100,
          34,
          64,
          30,
          50,
          30,
          50,
          40,
          70,
          80,
          38,
          58,
          15,
          28,
          15,
          65,
          85,
          45,
          70,
          40,
          55,
          85,
          105,
          95,
          50,
          80,
          115,
          75,
          40,
          50,
          70,
          55,
          30,
          55,
          45,
          45,
          85,
          60,
          110,
          42,
          80,
          60,
          48,
          58,
          65,
          90,
          140,
          70,
          105,
          200,
          230,
          50,
          75,
          85,
          100,
          140,
          230,
          75,
          115,
          55,
          50,
          75,
          40,
          120,
          40,
          80,
          100,
          35,
          75,
          45,
          140,
          30,
          50,
          90,
          95,
          60,
          120,
          90,
          62,
          35,
          35,
          95,
          15,
          37,
          37,
          105,
          10,
          75,
          85,
          115,
          50,
          70,
          110,
          150,
          130,
          90,
          100,
          35,
          45,
          65,
          75,
          40,
          60,
          70,
          80,
          50,
          70,
          90,
          110,
          35,
          70,
          41,
          41,
          61,
          61,
          35,
          55,
          55,
          70,
          30,
          50,
          70,
          50,
          40,
          60,
          30,
          60,
          30,
          100,
          25,
          35,
          65,
          65,
          32,
          60,
          80,
          60,
          80,
          100,
          90,
          45,
          45,
          23,
          43,
          63,
          30,
          60,
          40,
          135,
          45,
          75,
          125,
          85,
          125,
          100,
          140,
          180,
          230,
          55,
          75,
          85,
          40,
          60,
          80,
          40,
          50,
          75,
          75,
          45,
          53,
          83,
          20,
          40,
          70,
          35,
          45,
          40,
          70,
          100,
          140,
          35,
          65,
          60,
          45,
          50,
          80,
          40,
          60,
          60,
          90,
          110,
          60,
          60,
          43,
          73,
          65,
          85,
          55,
          105,
          77,
          97,
          50,
          100,
          20,
          79,
          70,
          70,
          35,
          65,
          75,
          90,
          130,
          83,
          60,
          60,
          48,
          50,
          80,
          80,
          50,
          70,
          90,
          85,
          105,
          105,
          130,
          55,
          60,
          100,
          80,
          130,
          80,
          100,
          130,
          150,
          200,
          100,
          150,
          90,
          120,
          80,
          100,
          90,
          90,
          140,
          160,
          90,
          100,
          100,
          50,
          20,
          160,
          90,
          64,
          85,
          105,
          44,
          52,
          71,
          53,
          68,
          88,
          30,
          50,
          70,
          40,
          60,
          41,
          51,
          34,
          49,
          79,
          35,
          65,
          40,
          60,
          118,
          168,
          45,
          85,
          105,
          95,
          50,
          42,
          102,
          70,
          35,
          55,
          45,
          70,
          48,
          68,
          66,
          34,
          44,
          44,
          84,
          94,
          60,
          52,
          42,
          64,
          50,
          47,
          67,
          86,
          116,
          95,
          45,
          5,
          45,
          108,
          45,
          65,
          95,
          115,
          40,
          40,
          70,
          88,
          78,
          118,
          90,
          110,
          40,
          65,
          72,
          56,
          76,
          50,
          50,
          75,
          105,
          65,
          115,
          95,
          130,
          125,
          67,
          67,
          95,
          86,
          130,
          110,
          125,
          80,
          70,
          65,
          95,
          145,
          135,
          70,
          77,
          107,
          107,
          107,
          107,
          107,
          130,
          105,
          70,
          120,
          100,
          106,
          110,
          120,
          100,
          120,
          80,
          100,
          90,
          100,
          75,
          120,
          100,
          55,
          75,
          95,
          45,
          55,
          65,
          45,
          60,
          85,
          39,
          69,
          45,
          65,
          37,
          50,
          48,
          63,
          48,
          63,
          48,
          63,
          45,
          85,
          50,
          62,
          32,
          63,
          85,
          105,
          130,
          55,
          40,
          60,
          86,
          126,
          55,
          85,
          95,
          40,
          55,
          75,
          85,
          75,
          70,
          90,
          80,
          59,
          99,
          60,
          85,
          50,
          75,
          65,
          35,
          45,
          80,
          45,
          45,
          55,
          55,
          105,
          55,
          67,
          85,
          70,
          115,
          80,
          85,
          85,
          145,
          103,
          133,
          45,
          65,
          62,
          82,
          40,
          60,
          40,
          60,
          50,
          70,
          95,
          40,
          50,
          75,
          50,
          63,
          50,
          65,
          85,
          50,
          70,
          60,
          45,
          105,
          45,
          70,
          50,
          70,
          80,
          50,
          60,
          91,
          131,
          70,
          95,
          115,
          40,
          70,
          80,
          55,
          75,
          55,
          60,
          90,
          60,
          70,
          90,
          40,
          85,
          40,
          84,
          99,
          50,
          60,
          90,
          50,
          80,
          70,
          100,
          95,
          50,
          75,
          75,
          105,
          66,
          112,
          50,
          70,
          90,
          55,
          65,
          129,
          90,
          72,
          70,
          80,
          70,
          70,
          100,
          120,
          90,
          90,
          90,
          100,
          90,
          90,
          77,
          90,
          95,
          65,
          95,
          122,
          40,
          58,
          72,
          40,
          52,
          67,
          67,
          38,
          77,
          43,
          55,
          71,
          40,
          60,
          50,
          58,
          72,
          39,
          47,
          67,
          68,
          48,
          62,
          62,
          78,
          60,
          54,
          76,
          100,
          150,
          140,
          50,
          60,
          72,
          66,
          86,
          53,
          88,
          67,
          115,
          60,
          90,
          62,
          88,
          33,
          52,
          77,
          119,
          50,
          72,
          65,
          75,
          57,
          150,
          35,
          53,
          70,
          91,
          48,
          76,
          70,
          70,
          70,
          70,
          122,
          122,
          122,
          122,
          85,
          184,
          35,
          80,
          95,
          95,
          71,
          121,
          121,
          150,
          110,
          60,
          60,
          120,
          55,
          75,
          75,
          40,
          50,
          90,
          54,
          69,
          74,
          30,
          50,
          75,
          30,
          60,
          45,
          95,
          90,
          57,
          77,
          70,
          70,
          70,
          70,
          40,
          60,
          40,
          65,
          75,
          65,
          20,
          130,
          62,
          152,
          70,
          100,
          52,
          92,
          35,
          90,
          55,
          80,
          40,
          60,
          50,
          80,
          38,
          48,
          98,
          90,
          80,
          90,
          40,
          140,
          80,
          110,
          130,
          95,
          95,
          100,
          60,
          65,
          135,
          63,
          80,
          70,
          85,
          100,
          65,
          90,
          125,
          85,
          75,
          115,
          115,
          31,
          131,
          107,
          89,
          47,
          139,
          37,
          71,
          103,
          131,
          53,
          101,
          127,
          109,
          97,
          115,
          80,
          67,
          73,
          211,
          53,
          75,
          65,
          143,
          50,
          70,
          90,
          40,
          60,
          75,
          40,
          55,
          65,
          55,
          95,
          35,
          55,
          105,
          20,
          80,
          110,
          28,
          58,
          60,
          90,
          55,
          100,
          50,
          90,
          50,
          60,
          50,
          90,
          120,
          80,
          80,
          80,
          75,
          125,
          55,
          40,
          60,
          35,
          70,
          45,
          65,
          60,
          90,
          45,
          65,
          45,
          65,
          95,
          30,
          45,
          65,
          101,
          100,
          50,
          95,
          75,
          145,
          40,
          75,
          100,
          95,
          35,
          60,
          135,
          110,
          70,
          55,
          65,
          58,
          49,
          69,
          90,
          90,
          100,
          100,
          115,
          30,
          50,
          75,
          115,
          115,
          115,
          145,
          95,
          250
         ],
         "xaxis": "x3",
         "xbins": {
          "end": 250,
          "size": 5,
          "start": 5
         },
         "yaxis": "y3"
        },
        {
         "name": "Special Attack",
         "type": "histogram",
         "x": [
          65,
          80,
          100,
          122,
          60,
          80,
          109,
          130,
          159,
          50,
          65,
          85,
          135,
          20,
          25,
          90,
          20,
          25,
          45,
          15,
          35,
          50,
          135,
          25,
          25,
          50,
          40,
          31,
          61,
          40,
          65,
          50,
          75,
          95,
          20,
          10,
          45,
          25,
          40,
          55,
          75,
          40,
          55,
          60,
          95,
          50,
          50,
          81,
          81,
          45,
          85,
          30,
          65,
          75,
          85,
          45,
          60,
          40,
          90,
          35,
          35,
          50,
          40,
          50,
          40,
          65,
          75,
          65,
          95,
          35,
          60,
          70,
          100,
          40,
          50,
          70,
          105,
          120,
          135,
          35,
          50,
          65,
          70,
          85,
          100,
          50,
          80,
          30,
          30,
          45,
          45,
          55,
          65,
          65,
          80,
          80,
          40,
          40,
          100,
          130,
          95,
          120,
          58,
          58,
          35,
          45,
          70,
          40,
          40,
          65,
          65,
          45,
          85,
          100,
          115,
          130,
          170,
          30,
          43,
          73,
          25,
          50,
          55,
          60,
          125,
          125,
          40,
          50,
          50,
          35,
          35,
          60,
          60,
          85,
          85,
          30,
          45,
          35,
          100,
          40,
          60,
          70,
          95,
          35,
          65,
          70,
          100,
          100,
          90,
          55,
          115,
          95,
          100,
          55,
          65,
          40,
          15,
          60,
          70,
          85,
          48,
          45,
          65,
          110,
          110,
          95,
          85,
          90,
          115,
          55,
          65,
          60,
          70,
          65,
          95,
          125,
          125,
          50,
          70,
          100,
          154,
          154,
          194,
          100,
          49,
          63,
          83,
          60,
          80,
          109,
          44,
          59,
          79,
          35,
          45,
          36,
          86,
          40,
          55,
          40,
          60,
          70,
          56,
          76,
          35,
          45,
          40,
          40,
          80,
          70,
          95,
          65,
          80,
          115,
          165,
          90,
          20,
          60,
          30,
          90,
          35,
          45,
          55,
          40,
          30,
          105,
          75,
          25,
          65,
          130,
          60,
          85,
          100,
          85,
          72,
          33,
          90,
          35,
          60,
          65,
          35,
          55,
          55,
          40,
          60,
          55,
          55,
          65,
          10,
          40,
          40,
          35,
          50,
          75,
          70,
          90,
          30,
          60,
          65,
          65,
          105,
          65,
          40,
          80,
          110,
          140,
          95,
          40,
          60,
          105,
          85,
          20,
          35,
          35,
          85,
          65,
          70,
          40,
          75,
          115,
          90,
          90,
          45,
          65,
          95,
          95,
          90,
          110,
          100,
          65,
          85,
          105,
          145,
          70,
          85,
          110,
          130,
          50,
          60,
          85,
          95,
          30,
          60,
          30,
          30,
          50,
          50,
          20,
          25,
          25,
          50,
          40,
          60,
          90,
          30,
          60,
          90,
          30,
          75,
          55,
          95,
          45,
          65,
          125,
          165,
          50,
          40,
          60,
          35,
          55,
          95,
          30,
          50,
          30,
          51,
          71,
          91,
          20,
          40,
          20,
          45,
          35,
          65,
          85,
          55,
          55,
          40,
          50,
          60,
          60,
          40,
          60,
          80,
          65,
          105,
          135,
          85,
          75,
          47,
          73,
          100,
          43,
          73,
          65,
          95,
          110,
          70,
          90,
          65,
          105,
          145,
          85,
          70,
          90,
          60,
          45,
          50,
          80,
          85,
          115,
          40,
          70,
          110,
          60,
          100,
          46,
          76,
          50,
          90,
          40,
          70,
          61,
          81,
          40,
          70,
          10,
          100,
          70,
          60,
          63,
          83,
          93,
          30,
          60,
          72,
          75,
          115,
          23,
          50,
          80,
          120,
          55,
          75,
          95,
          74,
          94,
          114,
          45,
          40,
          40,
          60,
          110,
          120,
          35,
          55,
          95,
          105,
          50,
          100,
          75,
          110,
          140,
          130,
          160,
          150,
          180,
          100,
          150,
          150,
          180,
          100,
          150,
          180,
          70,
          95,
          45,
          55,
          75,
          58,
          78,
          104,
          61,
          81,
          111,
          30,
          40,
          50,
          35,
          55,
          25,
          55,
          40,
          60,
          95,
          50,
          125,
          30,
          65,
          42,
          47,
          29,
          79,
          59,
          69,
          94,
          30,
          80,
          45,
          60,
          85,
          62,
          87,
          57,
          92,
          60,
          60,
          90,
          44,
          54,
          54,
          105,
          105,
          42,
          64,
          65,
          41,
          71,
          24,
          79,
          10,
          70,
          15,
          92,
          92,
          40,
          50,
          80,
          120,
          40,
          35,
          115,
          140,
          38,
          68,
          30,
          60,
          61,
          86,
          90,
          49,
          69,
          60,
          62,
          92,
          132,
          45,
          130,
          80,
          55,
          110,
          95,
          125,
          120,
          116,
          60,
          130,
          45,
          70,
          135,
          65,
          65,
          75,
          65,
          80,
          95,
          105,
          105,
          105,
          105,
          105,
          75,
          105,
          125,
          150,
          150,
          130,
          80,
          100,
          120,
          75,
          80,
          100,
          135,
          100,
          120,
          120,
          100,
          45,
          60,
          75,
          45,
          70,
          100,
          63,
          83,
          108,
          35,
          60,
          25,
          35,
          50,
          88,
          53,
          98,
          53,
          98,
          53,
          98,
          67,
          107,
          36,
          50,
          50,
          80,
          25,
          50,
          60,
          77,
          30,
          50,
          60,
          80,
          25,
          40,
          55,
          50,
          65,
          85,
          30,
          30,
          40,
          50,
          70,
          30,
          40,
          37,
          77,
          70,
          110,
          80,
          35,
          45,
          65,
          15,
          15,
          30,
          30,
          140,
          30,
          106,
          35,
          35,
          45,
          103,
          55,
          30,
          95,
          53,
          83,
          74,
          112,
          40,
          60,
          80,
          120,
          40,
          65,
          55,
          75,
          95,
          105,
          125,
          125,
          44,
          87,
          65,
          80,
          110,
          40,
          60,
          75,
          40,
          60,
          55,
          85,
          65,
          85,
          40,
          57,
          97,
          24,
          54,
          45,
          70,
          70,
          45,
          75,
          105,
          85,
          125,
          65,
          95,
          145,
          30,
          40,
          60,
          60,
          40,
          100,
          81,
          66,
          55,
          95,
          60,
          35,
          55,
          40,
          60,
          40,
          37,
          57,
          45,
          55,
          105,
          48,
          45,
          65,
          125,
          50,
          135,
          90,
          72,
          90,
          125,
          110,
          125,
          145,
          150,
          120,
          115,
          105,
          130,
          120,
          170,
          129,
          128,
          77,
          120,
          48,
          56,
          74,
          62,
          90,
          114,
          62,
          83,
          103,
          153,
          32,
          50,
          40,
          56,
          74,
          27,
          27,
          90,
          73,
          109,
          61,
          75,
          125,
          112,
          62,
          97,
          46,
          69,
          65,
          63,
          83,
          35,
          45,
          50,
          140,
          63,
          99,
          59,
          85,
          37,
          68,
          39,
          54,
          60,
          97,
          58,
          120,
          61,
          109,
          45,
          69,
          67,
          99,
          110,
          74,
          81,
          50,
          55,
          83,
          110,
          80,
          50,
          65,
          44,
          44,
          44,
          44,
          58,
          58,
          58,
          58,
          32,
          44,
          45,
          97,
          131,
          131,
          61,
          81,
          91,
          100,
          160,
          150,
          170,
          130,
          50,
          70,
          100,
          60,
          80,
          80,
          66,
          91,
          126,
          30,
          40,
          75,
          30,
          55,
          55,
          55,
          145,
          42,
          62,
          98,
          98,
          98,
          98,
          55,
          95,
          30,
          55,
          55,
          55,
          25,
          140,
          43,
          53,
          45,
          55,
          40,
          50,
          50,
          80,
          65,
          90,
          71,
          111,
          45,
          55,
          30,
          40,
          50,
          82,
          90,
          40,
          20,
          60,
          70,
          100,
          30,
          95,
          95,
          60,
          100,
          75,
          91,
          40,
          50,
          70,
          135,
          86,
          45,
          65,
          100,
          95,
          130,
          85,
          95,
          29,
          29,
          113,
          137,
          127,
          53,
          137,
          173,
          107,
          59,
          97,
          127,
          113,
          157,
          167,
          130,
          125,
          73,
          127,
          53,
          151,
          102,
          55,
          80,
          40,
          55,
          60,
          40,
          55,
          65,
          70,
          95,
          125,
          35,
          55,
          33,
          43,
          53,
          25,
          50,
          80,
          47,
          87,
          40,
          80,
          40,
          60,
          38,
          48,
          40,
          90,
          40,
          60,
          80,
          40,
          95,
          100,
          35,
          65,
          85,
          40,
          60,
          54,
          114,
          50,
          90,
          50,
          70,
          74,
          134,
          56,
          86,
          136,
          55,
          75,
          95,
          60,
          50,
          145,
          68,
          110,
          50,
          50,
          110,
          70,
          91,
          45,
          125,
          20,
          65,
          65,
          105,
          95,
          70,
          40,
          80,
          80,
          90,
          70,
          80,
          120,
          40,
          60,
          100,
          80,
          80,
          80,
          80,
          145,
          125
         ],
         "xaxis": "x4",
         "xbins": {
          "end": 194,
          "size": 5,
          "start": 10
         },
         "yaxis": "y4"
        },
        {
         "name": "Special Defense",
         "type": "histogram",
         "x": [
          65,
          80,
          100,
          120,
          50,
          65,
          85,
          85,
          115,
          64,
          80,
          105,
          115,
          20,
          25,
          80,
          20,
          25,
          80,
          80,
          35,
          50,
          80,
          35,
          35,
          70,
          80,
          31,
          61,
          54,
          79,
          50,
          60,
          85,
          30,
          35,
          55,
          65,
          40,
          55,
          85,
          40,
          55,
          65,
          90,
          65,
          65,
          100,
          100,
          25,
          50,
          40,
          75,
          65,
          75,
          55,
          80,
          55,
          75,
          45,
          45,
          70,
          40,
          40,
          40,
          65,
          65,
          50,
          80,
          45,
          70,
          50,
          80,
          40,
          50,
          90,
          55,
          70,
          95,
          35,
          60,
          85,
          30,
          45,
          70,
          100,
          120,
          30,
          30,
          45,
          45,
          65,
          65,
          65,
          80,
          80,
          40,
          40,
          80,
          80,
          55,
          70,
          62,
          62,
          35,
          70,
          95,
          50,
          50,
          100,
          100,
          25,
          45,
          35,
          55,
          75,
          95,
          45,
          90,
          115,
          25,
          50,
          55,
          45,
          75,
          75,
          50,
          80,
          80,
          110,
          110,
          75,
          45,
          70,
          70,
          30,
          45,
          105,
          40,
          80,
          100,
          25,
          45,
          50,
          80,
          55,
          85,
          120,
          90,
          80,
          95,
          85,
          85,
          70,
          90,
          70,
          20,
          100,
          130,
          95,
          48,
          65,
          85,
          95,
          95,
          110,
          75,
          55,
          70,
          45,
          70,
          75,
          95,
          110,
          125,
          90,
          85,
          50,
          70,
          100,
          90,
          100,
          120,
          100,
          65,
          80,
          100,
          50,
          65,
          85,
          48,
          63,
          83,
          45,
          55,
          56,
          96,
          80,
          110,
          40,
          70,
          80,
          56,
          76,
          35,
          55,
          20,
          65,
          105,
          45,
          70,
          45,
          60,
          90,
          110,
          100,
          50,
          80,
          65,
          100,
          55,
          65,
          95,
          55,
          30,
          85,
          45,
          25,
          65,
          95,
          130,
          42,
          110,
          85,
          48,
          58,
          65,
          35,
          60,
          65,
          65,
          65,
          95,
          40,
          60,
          55,
          80,
          100,
          230,
          95,
          105,
          75,
          50,
          75,
          40,
          80,
          30,
          60,
          100,
          35,
          75,
          45,
          70,
          50,
          80,
          90,
          95,
          40,
          60,
          95,
          65,
          45,
          35,
          110,
          65,
          55,
          55,
          70,
          135,
          100,
          75,
          115,
          50,
          70,
          100,
          120,
          154,
          154,
          100,
          55,
          65,
          85,
          85,
          50,
          60,
          70,
          80,
          50,
          70,
          90,
          110,
          30,
          60,
          41,
          41,
          61,
          61,
          30,
          25,
          25,
          90,
          50,
          70,
          100,
          30,
          40,
          60,
          30,
          50,
          30,
          70,
          35,
          55,
          115,
          135,
          52,
          60,
          60,
          35,
          55,
          65,
          30,
          50,
          30,
          23,
          43,
          73,
          30,
          60,
          40,
          90,
          35,
          65,
          115,
          55,
          95,
          40,
          50,
          60,
          80,
          55,
          75,
          85,
          40,
          60,
          80,
          75,
          85,
          85,
          85,
          80,
          53,
          83,
          20,
          40,
          65,
          35,
          45,
          45,
          75,
          105,
          70,
          80,
          110,
          60,
          45,
          50,
          80,
          40,
          60,
          75,
          105,
          105,
          60,
          60,
          41,
          71,
          35,
          55,
          70,
          120,
          87,
          107,
          50,
          80,
          55,
          125,
          70,
          120,
          33,
          63,
          83,
          90,
          130,
          87,
          60,
          60,
          48,
          50,
          80,
          80,
          50,
          70,
          90,
          55,
          75,
          75,
          65,
          65,
          30,
          50,
          80,
          90,
          60,
          80,
          90,
          110,
          100,
          200,
          150,
          130,
          150,
          110,
          120,
          140,
          160,
          90,
          90,
          90,
          100,
          100,
          50,
          20,
          160,
          90,
          55,
          65,
          85,
          44,
          52,
          71,
          56,
          76,
          101,
          30,
          40,
          60,
          40,
          60,
          41,
          51,
          34,
          49,
          79,
          70,
          105,
          30,
          50,
          88,
          138,
          45,
          105,
          85,
          95,
          50,
          42,
          102,
          90,
          30,
          50,
          53,
          78,
          62,
          82,
          66,
          44,
          54,
          56,
          96,
          96,
          105,
          52,
          37,
          59,
          50,
          41,
          61,
          86,
          116,
          45,
          90,
          65,
          42,
          108,
          45,
          55,
          85,
          95,
          85,
          40,
          70,
          70,
          42,
          72,
          55,
          75,
          40,
          65,
          72,
          61,
          86,
          120,
          60,
          85,
          105,
          85,
          90,
          95,
          55,
          50,
          85,
          95,
          115,
          56,
          65,
          95,
          75,
          60,
          75,
          115,
          115,
          150,
          135,
          70,
          77,
          107,
          107,
          107,
          107,
          107,
          130,
          105,
          70,
          100,
          120,
          106,
          110,
          120,
          100,
          130,
          80,
          100,
          90,
          100,
          75,
          120,
          100,
          55,
          75,
          95,
          45,
          55,
          65,
          45,
          60,
          70,
          39,
          69,
          45,
          65,
          37,
          50,
          48,
          63,
          48,
          63,
          48,
          63,
          55,
          95,
          30,
          42,
          32,
          63,
          25,
          40,
          80,
          55,
          45,
          65,
          86,
          126,
          35,
          50,
          65,
          40,
          55,
          75,
          85,
          75,
          60,
          80,
          80,
          39,
          79,
          50,
          75,
          50,
          75,
          55,
          35,
          45,
          70,
          45,
          45,
          55,
          55,
          105,
          55,
          67,
          35,
          70,
          115,
          80,
          65,
          65,
          105,
          45,
          65,
          45,
          65,
          62,
          82,
          40,
          60,
          40,
          60,
          65,
          85,
          110,
          50,
          60,
          85,
          50,
          63,
          60,
          75,
          95,
          50,
          70,
          60,
          45,
          105,
          55,
          80,
          85,
          105,
          45,
          50,
          60,
          86,
          116,
          60,
          85,
          85,
          40,
          70,
          80,
          55,
          95,
          55,
          60,
          90,
          40,
          50,
          70,
          40,
          65,
          60,
          99,
          84,
          50,
          60,
          90,
          50,
          80,
          40,
          70,
          95,
          50,
          75,
          65,
          95,
          66,
          48,
          50,
          70,
          90,
          55,
          105,
          72,
          90,
          129,
          80,
          90,
          80,
          80,
          120,
          100,
          80,
          80,
          90,
          90,
          100,
          90,
          128,
          77,
          95,
          45,
          58,
          75,
          60,
          70,
          100,
          44,
          56,
          71,
          71,
          36,
          77,
          38,
          52,
          69,
          25,
          30,
          50,
          54,
          66,
          79,
          98,
          128,
          154,
          57,
          81,
          48,
          71,
          90,
          60,
          81,
          37,
          49,
          140,
          50,
          65,
          89,
          57,
          75,
          46,
          75,
          56,
          86,
          60,
          123,
          63,
          89,
          43,
          94,
          45,
          59,
          63,
          92,
          130,
          63,
          67,
          150,
          75,
          113,
          150,
          87,
          60,
          82,
          55,
          55,
          55,
          55,
          75,
          75,
          75,
          75,
          35,
          46,
          40,
          80,
          98,
          98,
          85,
          95,
          95,
          150,
          110,
          130,
          130,
          90,
          50,
          70,
          100,
          40,
          50,
          90,
          56,
          81,
          116,
          30,
          50,
          75,
          30,
          60,
          45,
          75,
          75,
          47,
          67,
          70,
          70,
          70,
          70,
          40,
          70,
          40,
          65,
          75,
          65,
          25,
          135,
          52,
          142,
          55,
          85,
          72,
          132,
          35,
          90,
          75,
          100,
          40,
          60,
          50,
          60,
          38,
          48,
          98,
          110,
          110,
          60,
          30,
          90,
          45,
          75,
          130,
          95,
          95,
          100,
          60,
          95,
          85,
          73,
          105,
          70,
          91,
          90,
          45,
          70,
          105,
          75,
          115,
          95,
          130,
          31,
          131,
          89,
          107,
          131,
          53,
          37,
          71,
          101,
          31,
          53,
          89,
          109,
          127,
          97,
          115,
          90,
          67,
          73,
          101,
          79,
          80,
          35,
          65,
          40,
          60,
          70,
          40,
          60,
          75,
          40,
          55,
          65,
          35,
          75,
          35,
          55,
          85,
          45,
          90,
          120,
          52,
          92,
          60,
          120,
          45,
          90,
          38,
          68,
          50,
          60,
          50,
          70,
          90,
          40,
          60,
          80,
          50,
          70,
          95,
          30,
          50,
          35,
          70,
          50,
          90,
          50,
          80,
          54,
          114,
          53,
          73,
          103,
          40,
          55,
          75,
          81,
          60,
          130,
          82,
          100,
          105,
          61,
          121,
          60,
          85,
          30,
          90,
          20,
          90,
          50,
          95,
          105,
          58,
          49,
          69,
          70,
          80,
          80,
          90,
          50,
          30,
          50,
          75,
          115,
          115,
          115,
          145,
          95,
          250
         ],
         "xaxis": "x5",
         "xbins": {
          "end": 250,
          "size": 5,
          "start": 20
         },
         "yaxis": "y5"
        },
        {
         "name": "Speed",
         "type": "histogram",
         "x": [
          45,
          60,
          80,
          80,
          65,
          80,
          100,
          100,
          100,
          43,
          58,
          78,
          78,
          45,
          30,
          70,
          50,
          35,
          75,
          145,
          56,
          71,
          121,
          72,
          72,
          97,
          77,
          70,
          100,
          55,
          80,
          90,
          120,
          110,
          40,
          40,
          65,
          65,
          41,
          56,
          76,
          50,
          65,
          35,
          60,
          65,
          65,
          100,
          109,
          20,
          45,
          55,
          90,
          30,
          40,
          25,
          30,
          45,
          90,
          95,
          90,
          110,
          90,
          90,
          40,
          115,
          115,
          55,
          85,
          70,
          95,
          60,
          95,
          90,
          90,
          70,
          90,
          105,
          120,
          35,
          45,
          55,
          40,
          55,
          70,
          70,
          100,
          20,
          20,
          35,
          35,
          45,
          90,
          90,
          105,
          105,
          15,
          15,
          30,
          30,
          45,
          70,
          60,
          55,
          75,
          45,
          70,
          25,
          25,
          50,
          50,
          40,
          70,
          80,
          95,
          110,
          130,
          70,
          42,
          67,
          50,
          75,
          100,
          40,
          55,
          45,
          35,
          45,
          45,
          87,
          76,
          30,
          35,
          60,
          60,
          25,
          40,
          50,
          60,
          90,
          100,
          60,
          85,
          63,
          68,
          85,
          115,
          90,
          100,
          105,
          95,
          105,
          93,
          85,
          105,
          110,
          80,
          81,
          81,
          60,
          48,
          55,
          75,
          65,
          130,
          65,
          40,
          35,
          55,
          55,
          80,
          130,
          150,
          30,
          85,
          100,
          90,
          50,
          70,
          80,
          130,
          130,
          140,
          100,
          45,
          60,
          80,
          65,
          80,
          100,
          43,
          58,
          78,
          20,
          90,
          50,
          70,
          55,
          85,
          30,
          40,
          130,
          67,
          67,
          60,
          15,
          15,
          20,
          40,
          70,
          95,
          35,
          45,
          55,
          45,
          50,
          40,
          50,
          30,
          70,
          50,
          80,
          110,
          85,
          30,
          30,
          95,
          15,
          35,
          110,
          65,
          91,
          30,
          85,
          48,
          33,
          85,
          15,
          40,
          45,
          85,
          30,
          30,
          30,
          45,
          85,
          65,
          75,
          5,
          85,
          75,
          115,
          40,
          55,
          20,
          30,
          50,
          50,
          30,
          65,
          45,
          75,
          70,
          65,
          95,
          115,
          85,
          40,
          50,
          60,
          85,
          75,
          35,
          70,
          65,
          95,
          83,
          100,
          55,
          115,
          100,
          85,
          41,
          51,
          61,
          71,
          110,
          90,
          100,
          70,
          95,
          120,
          145,
          45,
          55,
          80,
          100,
          40,
          50,
          60,
          70,
          35,
          70,
          60,
          60,
          100,
          100,
          20,
          15,
          15,
          65,
          30,
          50,
          70,
          30,
          60,
          80,
          85,
          125,
          85,
          65,
          40,
          50,
          80,
          100,
          65,
          35,
          70,
          30,
          90,
          100,
          40,
          160,
          40,
          28,
          48,
          68,
          25,
          50,
          20,
          30,
          50,
          50,
          20,
          50,
          50,
          30,
          40,
          50,
          50,
          60,
          80,
          100,
          65,
          105,
          135,
          95,
          95,
          85,
          85,
          65,
          40,
          55,
          65,
          95,
          105,
          60,
          60,
          35,
          40,
          20,
          20,
          60,
          80,
          60,
          10,
          70,
          100,
          35,
          55,
          50,
          80,
          80,
          90,
          65,
          60,
          60,
          35,
          55,
          55,
          75,
          23,
          43,
          75,
          45,
          80,
          81,
          70,
          40,
          45,
          65,
          75,
          25,
          25,
          51,
          75,
          115,
          23,
          50,
          80,
          100,
          25,
          45,
          65,
          32,
          52,
          52,
          55,
          97,
          50,
          50,
          100,
          120,
          30,
          50,
          70,
          110,
          50,
          50,
          50,
          110,
          110,
          110,
          110,
          90,
          90,
          90,
          90,
          95,
          115,
          100,
          150,
          150,
          90,
          180,
          31,
          36,
          56,
          61,
          81,
          108,
          40,
          50,
          60,
          60,
          80,
          100,
          31,
          71,
          25,
          65,
          45,
          60,
          70,
          55,
          90,
          58,
          58,
          30,
          30,
          36,
          36,
          36,
          36,
          66,
          70,
          40,
          95,
          85,
          115,
          35,
          85,
          34,
          39,
          115,
          70,
          80,
          85,
          105,
          135,
          105,
          71,
          85,
          112,
          45,
          74,
          84,
          23,
          33,
          10,
          60,
          30,
          91,
          35,
          42,
          82,
          102,
          92,
          5,
          60,
          90,
          112,
          32,
          47,
          65,
          95,
          50,
          85,
          46,
          66,
          91,
          50,
          40,
          60,
          30,
          125,
          60,
          50,
          40,
          50,
          95,
          83,
          80,
          95,
          95,
          65,
          95,
          80,
          90,
          80,
          110,
          40,
          45,
          110,
          91,
          86,
          86,
          86,
          86,
          86,
          95,
          80,
          115,
          90,
          100,
          77,
          100,
          90,
          90,
          85,
          80,
          100,
          125,
          100,
          127,
          120,
          100,
          63,
          83,
          113,
          45,
          55,
          65,
          45,
          60,
          70,
          42,
          77,
          55,
          60,
          66,
          106,
          64,
          101,
          64,
          101,
          64,
          101,
          24,
          29,
          43,
          65,
          76,
          116,
          15,
          20,
          25,
          114,
          68,
          88,
          50,
          50,
          35,
          40,
          45,
          64,
          69,
          74,
          45,
          85,
          42,
          42,
          92,
          57,
          47,
          66,
          116,
          30,
          90,
          98,
          65,
          74,
          92,
          50,
          50,
          95,
          95,
          55,
          135,
          60,
          55,
          48,
          58,
          97,
          30,
          30,
          30,
          22,
          32,
          70,
          110,
          65,
          75,
          65,
          105,
          75,
          115,
          45,
          55,
          65,
          20,
          30,
          30,
          55,
          98,
          44,
          59,
          79,
          75,
          95,
          103,
          60,
          20,
          15,
          30,
          40,
          60,
          65,
          65,
          108,
          10,
          20,
          30,
          50,
          90,
          60,
          40,
          50,
          30,
          40,
          20,
          55,
          80,
          57,
          67,
          97,
          40,
          25,
          145,
          32,
          32,
          65,
          105,
          48,
          35,
          55,
          60,
          70,
          55,
          60,
          80,
          60,
          80,
          65,
          109,
          38,
          58,
          98,
          60,
          100,
          108,
          108,
          108,
          111,
          121,
          111,
          101,
          90,
          90,
          101,
          91,
          95,
          95,
          95,
          108,
          90,
          128,
          99,
          38,
          57,
          64,
          60,
          73,
          104,
          71,
          97,
          122,
          132,
          57,
          78,
          62,
          84,
          126,
          35,
          29,
          89,
          72,
          106,
          42,
          52,
          92,
          75,
          52,
          68,
          43,
          58,
          102,
          68,
          104,
          28,
          35,
          60,
          60,
          23,
          29,
          49,
          72,
          45,
          73,
          50,
          68,
          30,
          44,
          44,
          59,
          70,
          109,
          48,
          71,
          46,
          58,
          60,
          118,
          101,
          50,
          40,
          60,
          80,
          75,
          38,
          56,
          56,
          51,
          46,
          41,
          99,
          84,
          69,
          54,
          28,
          28,
          55,
          123,
          99,
          99,
          115,
          95,
          85,
          50,
          110,
          70,
          80,
          70,
          42,
          52,
          70,
          70,
          90,
          60,
          40,
          50,
          60,
          65,
          75,
          60,
          45,
          45,
          56,
          36,
          43,
          63,
          43,
          93,
          93,
          93,
          93,
          84,
          124,
          60,
          112,
          82,
          110,
          40,
          30,
          45,
          35,
          45,
          35,
          27,
          42,
          35,
          45,
          15,
          30,
          77,
          117,
          50,
          60,
          32,
          62,
          72,
          100,
          60,
          80,
          80,
          40,
          15,
          35,
          5,
          59,
          95,
          60,
          120,
          65,
          36,
          96,
          96,
          92,
          36,
          40,
          45,
          65,
          85,
          130,
          95,
          75,
          85,
          37,
          37,
          97,
          97,
          103,
          79,
          151,
          83,
          61,
          109,
          43,
          79,
          77,
          77,
          129,
          65,
          90,
          73,
          121,
          13,
          107,
          143,
          34,
          34,
          65,
          80,
          85,
          69,
          94,
          119,
          70,
          90,
          120,
          25,
          20,
          57,
          77,
          67,
          45,
          30,
          90,
          50,
          90,
          10,
          60,
          48,
          88,
          44,
          74,
          26,
          121,
          30,
          50,
          30,
          20,
          70,
          30,
          46,
          71,
          85,
          66,
          136,
          40,
          75,
          45,
          65,
          32,
          42,
          50,
          70,
          39,
          49,
          29,
          50,
          70,
          60,
          95,
          50,
          30,
          65,
          70,
          30,
          34,
          64,
          75,
          15,
          20,
          65,
          70,
          50,
          130,
          95,
          85,
          97,
          40,
          30,
          75,
          55,
          75,
          55,
          85,
          82,
          102,
          142,
          138,
          148,
          138,
          128,
          130,
          130
         ],
         "xaxis": "x6",
         "xbins": {
          "end": 180,
          "size": 5,
          "start": 5
         },
         "yaxis": "y6"
        }
       ],
       "layout": {
        "annotations": [
         {
          "font": {
           "size": 16
          },
          "showarrow": false,
          "text": "HP",
          "x": 0.225,
          "xanchor": "center",
          "xref": "paper",
          "y": 1,
          "yanchor": "bottom",
          "yref": "paper"
         },
         {
          "font": {
           "size": 16
          },
          "showarrow": false,
          "text": "Attack",
          "x": 0.775,
          "xanchor": "center",
          "xref": "paper",
          "y": 1,
          "yanchor": "bottom",
          "yref": "paper"
         },
         {
          "font": {
           "size": 16
          },
          "showarrow": false,
          "text": "Defense",
          "x": 0.225,
          "xanchor": "center",
          "xref": "paper",
          "y": 0.6111111111111112,
          "yanchor": "bottom",
          "yref": "paper"
         },
         {
          "font": {
           "size": 16
          },
          "showarrow": false,
          "text": "Special Attack",
          "x": 0.775,
          "xanchor": "center",
          "xref": "paper",
          "y": 0.6111111111111112,
          "yanchor": "bottom",
          "yref": "paper"
         },
         {
          "font": {
           "size": 16
          },
          "showarrow": false,
          "text": "Special Defense",
          "x": 0.225,
          "xanchor": "center",
          "xref": "paper",
          "y": 0.22222222222222224,
          "yanchor": "bottom",
          "yref": "paper"
         },
         {
          "font": {
           "size": 16
          },
          "showarrow": false,
          "text": "Speed",
          "x": 0.775,
          "xanchor": "center",
          "xref": "paper",
          "y": 0.22222222222222224,
          "yanchor": "bottom",
          "yref": "paper"
         }
        ],
        "height": 1000,
        "template": {
         "data": {
          "bar": [
           {
            "error_x": {
             "color": "#2a3f5f"
            },
            "error_y": {
             "color": "#2a3f5f"
            },
            "marker": {
             "line": {
              "color": "#E5ECF6",
              "width": 0.5
             }
            },
            "type": "bar"
           }
          ],
          "barpolar": [
           {
            "marker": {
             "line": {
              "color": "#E5ECF6",
              "width": 0.5
             }
            },
            "type": "barpolar"
           }
          ],
          "carpet": [
           {
            "aaxis": {
             "endlinecolor": "#2a3f5f",
             "gridcolor": "white",
             "linecolor": "white",
             "minorgridcolor": "white",
             "startlinecolor": "#2a3f5f"
            },
            "baxis": {
             "endlinecolor": "#2a3f5f",
             "gridcolor": "white",
             "linecolor": "white",
             "minorgridcolor": "white",
             "startlinecolor": "#2a3f5f"
            },
            "type": "carpet"
           }
          ],
          "choropleth": [
           {
            "colorbar": {
             "outlinewidth": 0,
             "ticks": ""
            },
            "type": "choropleth"
           }
          ],
          "contour": [
           {
            "colorbar": {
             "outlinewidth": 0,
             "ticks": ""
            },
            "colorscale": [
             [
              0,
              "#0d0887"
             ],
             [
              0.1111111111111111,
              "#46039f"
             ],
             [
              0.2222222222222222,
              "#7201a8"
             ],
             [
              0.3333333333333333,
              "#9c179e"
             ],
             [
              0.4444444444444444,
              "#bd3786"
             ],
             [
              0.5555555555555556,
              "#d8576b"
             ],
             [
              0.6666666666666666,
              "#ed7953"
             ],
             [
              0.7777777777777778,
              "#fb9f3a"
             ],
             [
              0.8888888888888888,
              "#fdca26"
             ],
             [
              1,
              "#f0f921"
             ]
            ],
            "type": "contour"
           }
          ],
          "contourcarpet": [
           {
            "colorbar": {
             "outlinewidth": 0,
             "ticks": ""
            },
            "type": "contourcarpet"
           }
          ],
          "heatmap": [
           {
            "colorbar": {
             "outlinewidth": 0,
             "ticks": ""
            },
            "colorscale": [
             [
              0,
              "#0d0887"
             ],
             [
              0.1111111111111111,
              "#46039f"
             ],
             [
              0.2222222222222222,
              "#7201a8"
             ],
             [
              0.3333333333333333,
              "#9c179e"
             ],
             [
              0.4444444444444444,
              "#bd3786"
             ],
             [
              0.5555555555555556,
              "#d8576b"
             ],
             [
              0.6666666666666666,
              "#ed7953"
             ],
             [
              0.7777777777777778,
              "#fb9f3a"
             ],
             [
              0.8888888888888888,
              "#fdca26"
             ],
             [
              1,
              "#f0f921"
             ]
            ],
            "type": "heatmap"
           }
          ],
          "heatmapgl": [
           {
            "colorbar": {
             "outlinewidth": 0,
             "ticks": ""
            },
            "colorscale": [
             [
              0,
              "#0d0887"
             ],
             [
              0.1111111111111111,
              "#46039f"
             ],
             [
              0.2222222222222222,
              "#7201a8"
             ],
             [
              0.3333333333333333,
              "#9c179e"
             ],
             [
              0.4444444444444444,
              "#bd3786"
             ],
             [
              0.5555555555555556,
              "#d8576b"
             ],
             [
              0.6666666666666666,
              "#ed7953"
             ],
             [
              0.7777777777777778,
              "#fb9f3a"
             ],
             [
              0.8888888888888888,
              "#fdca26"
             ],
             [
              1,
              "#f0f921"
             ]
            ],
            "type": "heatmapgl"
           }
          ],
          "histogram": [
           {
            "marker": {
             "colorbar": {
              "outlinewidth": 0,
              "ticks": ""
             }
            },
            "type": "histogram"
           }
          ],
          "histogram2d": [
           {
            "colorbar": {
             "outlinewidth": 0,
             "ticks": ""
            },
            "colorscale": [
             [
              0,
              "#0d0887"
             ],
             [
              0.1111111111111111,
              "#46039f"
             ],
             [
              0.2222222222222222,
              "#7201a8"
             ],
             [
              0.3333333333333333,
              "#9c179e"
             ],
             [
              0.4444444444444444,
              "#bd3786"
             ],
             [
              0.5555555555555556,
              "#d8576b"
             ],
             [
              0.6666666666666666,
              "#ed7953"
             ],
             [
              0.7777777777777778,
              "#fb9f3a"
             ],
             [
              0.8888888888888888,
              "#fdca26"
             ],
             [
              1,
              "#f0f921"
             ]
            ],
            "type": "histogram2d"
           }
          ],
          "histogram2dcontour": [
           {
            "colorbar": {
             "outlinewidth": 0,
             "ticks": ""
            },
            "colorscale": [
             [
              0,
              "#0d0887"
             ],
             [
              0.1111111111111111,
              "#46039f"
             ],
             [
              0.2222222222222222,
              "#7201a8"
             ],
             [
              0.3333333333333333,
              "#9c179e"
             ],
             [
              0.4444444444444444,
              "#bd3786"
             ],
             [
              0.5555555555555556,
              "#d8576b"
             ],
             [
              0.6666666666666666,
              "#ed7953"
             ],
             [
              0.7777777777777778,
              "#fb9f3a"
             ],
             [
              0.8888888888888888,
              "#fdca26"
             ],
             [
              1,
              "#f0f921"
             ]
            ],
            "type": "histogram2dcontour"
           }
          ],
          "mesh3d": [
           {
            "colorbar": {
             "outlinewidth": 0,
             "ticks": ""
            },
            "type": "mesh3d"
           }
          ],
          "parcoords": [
           {
            "line": {
             "colorbar": {
              "outlinewidth": 0,
              "ticks": ""
             }
            },
            "type": "parcoords"
           }
          ],
          "pie": [
           {
            "automargin": true,
            "type": "pie"
           }
          ],
          "scatter": [
           {
            "marker": {
             "colorbar": {
              "outlinewidth": 0,
              "ticks": ""
             }
            },
            "type": "scatter"
           }
          ],
          "scatter3d": [
           {
            "line": {
             "colorbar": {
              "outlinewidth": 0,
              "ticks": ""
             }
            },
            "marker": {
             "colorbar": {
              "outlinewidth": 0,
              "ticks": ""
             }
            },
            "type": "scatter3d"
           }
          ],
          "scattercarpet": [
           {
            "marker": {
             "colorbar": {
              "outlinewidth": 0,
              "ticks": ""
             }
            },
            "type": "scattercarpet"
           }
          ],
          "scattergeo": [
           {
            "marker": {
             "colorbar": {
              "outlinewidth": 0,
              "ticks": ""
             }
            },
            "type": "scattergeo"
           }
          ],
          "scattergl": [
           {
            "marker": {
             "colorbar": {
              "outlinewidth": 0,
              "ticks": ""
             }
            },
            "type": "scattergl"
           }
          ],
          "scattermapbox": [
           {
            "marker": {
             "colorbar": {
              "outlinewidth": 0,
              "ticks": ""
             }
            },
            "type": "scattermapbox"
           }
          ],
          "scatterpolar": [
           {
            "marker": {
             "colorbar": {
              "outlinewidth": 0,
              "ticks": ""
             }
            },
            "type": "scatterpolar"
           }
          ],
          "scatterpolargl": [
           {
            "marker": {
             "colorbar": {
              "outlinewidth": 0,
              "ticks": ""
             }
            },
            "type": "scatterpolargl"
           }
          ],
          "scatterternary": [
           {
            "marker": {
             "colorbar": {
              "outlinewidth": 0,
              "ticks": ""
             }
            },
            "type": "scatterternary"
           }
          ],
          "surface": [
           {
            "colorbar": {
             "outlinewidth": 0,
             "ticks": ""
            },
            "colorscale": [
             [
              0,
              "#0d0887"
             ],
             [
              0.1111111111111111,
              "#46039f"
             ],
             [
              0.2222222222222222,
              "#7201a8"
             ],
             [
              0.3333333333333333,
              "#9c179e"
             ],
             [
              0.4444444444444444,
              "#bd3786"
             ],
             [
              0.5555555555555556,
              "#d8576b"
             ],
             [
              0.6666666666666666,
              "#ed7953"
             ],
             [
              0.7777777777777778,
              "#fb9f3a"
             ],
             [
              0.8888888888888888,
              "#fdca26"
             ],
             [
              1,
              "#f0f921"
             ]
            ],
            "type": "surface"
           }
          ],
          "table": [
           {
            "cells": {
             "fill": {
              "color": "#EBF0F8"
             },
             "line": {
              "color": "white"
             }
            },
            "header": {
             "fill": {
              "color": "#C8D4E3"
             },
             "line": {
              "color": "white"
             }
            },
            "type": "table"
           }
          ]
         },
         "layout": {
          "annotationdefaults": {
           "arrowcolor": "#2a3f5f",
           "arrowhead": 0,
           "arrowwidth": 1
          },
          "coloraxis": {
           "colorbar": {
            "outlinewidth": 0,
            "ticks": ""
           }
          },
          "colorscale": {
           "diverging": [
            [
             0,
             "#8e0152"
            ],
            [
             0.1,
             "#c51b7d"
            ],
            [
             0.2,
             "#de77ae"
            ],
            [
             0.3,
             "#f1b6da"
            ],
            [
             0.4,
             "#fde0ef"
            ],
            [
             0.5,
             "#f7f7f7"
            ],
            [
             0.6,
             "#e6f5d0"
            ],
            [
             0.7,
             "#b8e186"
            ],
            [
             0.8,
             "#7fbc41"
            ],
            [
             0.9,
             "#4d9221"
            ],
            [
             1,
             "#276419"
            ]
           ],
           "sequential": [
            [
             0,
             "#0d0887"
            ],
            [
             0.1111111111111111,
             "#46039f"
            ],
            [
             0.2222222222222222,
             "#7201a8"
            ],
            [
             0.3333333333333333,
             "#9c179e"
            ],
            [
             0.4444444444444444,
             "#bd3786"
            ],
            [
             0.5555555555555556,
             "#d8576b"
            ],
            [
             0.6666666666666666,
             "#ed7953"
            ],
            [
             0.7777777777777778,
             "#fb9f3a"
            ],
            [
             0.8888888888888888,
             "#fdca26"
            ],
            [
             1,
             "#f0f921"
            ]
           ],
           "sequentialminus": [
            [
             0,
             "#0d0887"
            ],
            [
             0.1111111111111111,
             "#46039f"
            ],
            [
             0.2222222222222222,
             "#7201a8"
            ],
            [
             0.3333333333333333,
             "#9c179e"
            ],
            [
             0.4444444444444444,
             "#bd3786"
            ],
            [
             0.5555555555555556,
             "#d8576b"
            ],
            [
             0.6666666666666666,
             "#ed7953"
            ],
            [
             0.7777777777777778,
             "#fb9f3a"
            ],
            [
             0.8888888888888888,
             "#fdca26"
            ],
            [
             1,
             "#f0f921"
            ]
           ]
          },
          "colorway": [
           "#636efa",
           "#EF553B",
           "#00cc96",
           "#ab63fa",
           "#FFA15A",
           "#19d3f3",
           "#FF6692",
           "#B6E880",
           "#FF97FF",
           "#FECB52"
          ],
          "font": {
           "color": "#2a3f5f"
          },
          "geo": {
           "bgcolor": "white",
           "lakecolor": "white",
           "landcolor": "#E5ECF6",
           "showlakes": true,
           "showland": true,
           "subunitcolor": "white"
          },
          "hoverlabel": {
           "align": "left"
          },
          "hovermode": "closest",
          "mapbox": {
           "style": "light"
          },
          "paper_bgcolor": "white",
          "plot_bgcolor": "#E5ECF6",
          "polar": {
           "angularaxis": {
            "gridcolor": "white",
            "linecolor": "white",
            "ticks": ""
           },
           "bgcolor": "#E5ECF6",
           "radialaxis": {
            "gridcolor": "white",
            "linecolor": "white",
            "ticks": ""
           }
          },
          "scene": {
           "xaxis": {
            "backgroundcolor": "#E5ECF6",
            "gridcolor": "white",
            "gridwidth": 2,
            "linecolor": "white",
            "showbackground": true,
            "ticks": "",
            "zerolinecolor": "white"
           },
           "yaxis": {
            "backgroundcolor": "#E5ECF6",
            "gridcolor": "white",
            "gridwidth": 2,
            "linecolor": "white",
            "showbackground": true,
            "ticks": "",
            "zerolinecolor": "white"
           },
           "zaxis": {
            "backgroundcolor": "#E5ECF6",
            "gridcolor": "white",
            "gridwidth": 2,
            "linecolor": "white",
            "showbackground": true,
            "ticks": "",
            "zerolinecolor": "white"
           }
          },
          "shapedefaults": {
           "line": {
            "color": "#2a3f5f"
           }
          },
          "ternary": {
           "aaxis": {
            "gridcolor": "white",
            "linecolor": "white",
            "ticks": ""
           },
           "baxis": {
            "gridcolor": "white",
            "linecolor": "white",
            "ticks": ""
           },
           "bgcolor": "#E5ECF6",
           "caxis": {
            "gridcolor": "white",
            "linecolor": "white",
            "ticks": ""
           }
          },
          "title": {
           "x": 0.05
          },
          "xaxis": {
           "automargin": true,
           "gridcolor": "white",
           "linecolor": "white",
           "ticks": "",
           "title": {
            "standoff": 15
           },
           "zerolinecolor": "white",
           "zerolinewidth": 2
          },
          "yaxis": {
           "automargin": true,
           "gridcolor": "white",
           "linecolor": "white",
           "ticks": "",
           "title": {
            "standoff": 15
           },
           "zerolinecolor": "white",
           "zerolinewidth": 2
          }
         }
        },
        "title": {
         "text": "Base stats distribution"
        },
        "width": 1000,
        "xaxis": {
         "anchor": "y",
         "domain": [
          0,
          0.45
         ]
        },
        "xaxis2": {
         "anchor": "y2",
         "domain": [
          0.55,
          1
         ]
        },
        "xaxis3": {
         "anchor": "y3",
         "domain": [
          0,
          0.45
         ]
        },
        "xaxis4": {
         "anchor": "y4",
         "domain": [
          0.55,
          1
         ]
        },
        "xaxis5": {
         "anchor": "y5",
         "domain": [
          0,
          0.45
         ]
        },
        "xaxis6": {
         "anchor": "y6",
         "domain": [
          0.55,
          1
         ]
        },
        "yaxis": {
         "anchor": "x",
         "domain": [
          0.7777777777777778,
          1
         ]
        },
        "yaxis2": {
         "anchor": "x2",
         "domain": [
          0.7777777777777778,
          1
         ]
        },
        "yaxis3": {
         "anchor": "x3",
         "domain": [
          0.3888888888888889,
          0.6111111111111112
         ]
        },
        "yaxis4": {
         "anchor": "x4",
         "domain": [
          0.3888888888888889,
          0.6111111111111112
         ]
        },
        "yaxis5": {
         "anchor": "x5",
         "domain": [
          0,
          0.22222222222222224
         ]
        },
        "yaxis6": {
         "anchor": "x6",
         "domain": [
          0,
          0.22222222222222224
         ]
        }
       }
      },
      "text/html": [
       "<div>\n",
       "        \n",
       "        \n",
       "            <div id=\"3b72ba7e-4ce4-4520-af0a-fe9a2d0b4396\" class=\"plotly-graph-div\" style=\"height:1000px; width:1000px;\"></div>\n",
       "            <script type=\"text/javascript\">\n",
       "                require([\"plotly\"], function(Plotly) {\n",
       "                    window.PLOTLYENV=window.PLOTLYENV || {};\n",
       "                    \n",
       "                if (document.getElementById(\"3b72ba7e-4ce4-4520-af0a-fe9a2d0b4396\")) {\n",
       "                    Plotly.newPlot(\n",
       "                        '3b72ba7e-4ce4-4520-af0a-fe9a2d0b4396',\n",
       "                        [{\"name\": \"HP\", \"type\": \"histogram\", \"x\": [45.0, 60.0, 80.0, 80.0, 39.0, 58.0, 78.0, 78.0, 78.0, 44.0, 59.0, 79.0, 79.0, 45.0, 50.0, 60.0, 40.0, 45.0, 65.0, 65.0, 40.0, 63.0, 83.0, 30.0, 30.0, 55.0, 75.0, 40.0, 65.0, 35.0, 60.0, 35.0, 45.0, 60.0, 50.0, 50.0, 75.0, 75.0, 55.0, 70.0, 90.0, 46.0, 61.0, 70.0, 95.0, 38.0, 38.0, 73.0, 73.0, 115.0, 140.0, 40.0, 75.0, 45.0, 60.0, 35.0, 60.0, 60.0, 70.0, 10.0, 10.0, 35.0, 40.0, 40.0, 50.0, 65.0, 65.0, 50.0, 80.0, 40.0, 65.0, 55.0, 90.0, 40.0, 65.0, 90.0, 25.0, 40.0, 55.0, 70.0, 80.0, 90.0, 50.0, 65.0, 80.0, 40.0, 80.0, 40.0, 40.0, 55.0, 55.0, 80.0, 50.0, 50.0, 65.0, 65.0, 90.0, 90.0, 95.0, 95.0, 25.0, 50.0, 52.0, 52.0, 35.0, 65.0, 90.0, 80.0, 80.0, 105.0, 105.0, 30.0, 50.0, 30.0, 45.0, 60.0, 60.0, 35.0, 60.0, 85.0, 30.0, 55.0, 40.0, 60.0, 95.0, 95.0, 50.0, 60.0, 60.0, 50.0, 50.0, 90.0, 40.0, 65.0, 65.0, 80.0, 105.0, 250.0, 65.0, 105.0, 105.0, 30.0, 55.0, 45.0, 80.0, 30.0, 60.0, 40.0, 50.0, 70.0, 65.0, 65.0, 65.0, 65.0, 65.0, 75.0, 20.0, 95.0, 95.0, 130.0, 48.0, 55.0, 65.0, 130.0, 65.0, 65.0, 65.0, 35.0, 70.0, 30.0, 60.0, 80.0, 80.0, 160.0, 90.0, 90.0, 90.0, 41.0, 61.0, 91.0, 106.0, 106.0, 106.0, 100.0, 45.0, 60.0, 80.0, 39.0, 58.0, 78.0, 50.0, 65.0, 85.0, 35.0, 85.0, 60.0, 100.0, 40.0, 55.0, 40.0, 70.0, 85.0, 75.0, 125.0, 20.0, 50.0, 90.0, 35.0, 55.0, 40.0, 65.0, 55.0, 70.0, 90.0, 90.0, 75.0, 70.0, 100.0, 70.0, 90.0, 35.0, 55.0, 75.0, 55.0, 30.0, 75.0, 65.0, 55.0, 95.0, 65.0, 95.0, 60.0, 95.0, 60.0, 48.0, 190.0, 70.0, 50.0, 75.0, 100.0, 65.0, 75.0, 75.0, 60.0, 90.0, 65.0, 70.0, 70.0, 20.0, 80.0, 80.0, 55.0, 60.0, 90.0, 40.0, 50.0, 50.0, 100.0, 60.0, 35.0, 75.0, 45.0, 65.0, 45.0, 75.0, 75.0, 75.0, 90.0, 90.0, 85.0, 73.0, 55.0, 35.0, 50.0, 45.0, 45.0, 45.0, 95.0, 255.0, 90.0, 115.0, 100.0, 50.0, 70.0, 100.0, 100.0, 106.0, 106.0, 100.0, 40.0, 50.0, 70.0, 70.0, 45.0, 60.0, 80.0, 80.0, 50.0, 70.0, 100.0, 100.0, 35.0, 70.0, 38.0, 38.0, 78.0, 78.0, 45.0, 50.0, 50.0, 60.0, 40.0, 60.0, 80.0, 40.0, 70.0, 90.0, 40.0, 60.0, 40.0, 60.0, 28.0, 38.0, 68.0, 68.0, 40.0, 60.0, 60.0, 60.0, 80.0, 150.0, 31.0, 61.0, 1.0, 64.0, 84.0, 104.0, 72.0, 144.0, 50.0, 30.0, 50.0, 50.0, 50.0, 50.0, 50.0, 50.0, 60.0, 70.0, 70.0, 30.0, 60.0, 60.0, 40.0, 70.0, 70.0, 60.0, 60.0, 65.0, 65.0, 50.0, 70.0, 100.0, 45.0, 70.0, 70.0, 130.0, 170.0, 60.0, 70.0, 70.0, 70.0, 60.0, 80.0, 60.0, 45.0, 50.0, 80.0, 50.0, 70.0, 45.0, 75.0, 75.0, 73.0, 73.0, 50.0, 110.0, 43.0, 63.0, 40.0, 60.0, 66.0, 86.0, 45.0, 75.0, 20.0, 95.0, 70.0, 60.0, 44.0, 64.0, 64.0, 20.0, 40.0, 99.0, 65.0, 65.0, 95.0, 50.0, 80.0, 80.0, 70.0, 90.0, 110.0, 35.0, 55.0, 55.0, 100.0, 43.0, 45.0, 65.0, 95.0, 95.0, 40.0, 60.0, 80.0, 80.0, 80.0, 80.0, 80.0, 80.0, 80.0, 80.0, 80.0, 100.0, 100.0, 100.0, 100.0, 105.0, 105.0, 100.0, 50.0, 50.0, 50.0, 50.0, 55.0, 75.0, 95.0, 44.0, 64.0, 76.0, 53.0, 64.0, 84.0, 40.0, 55.0, 85.0, 59.0, 79.0, 37.0, 77.0, 45.0, 60.0, 80.0, 40.0, 60.0, 67.0, 97.0, 30.0, 60.0, 40.0, 60.0, 60.0, 60.0, 70.0, 30.0, 70.0, 60.0, 55.0, 85.0, 45.0, 70.0, 76.0, 111.0, 75.0, 90.0, 150.0, 55.0, 65.0, 65.0, 60.0, 100.0, 49.0, 71.0, 45.0, 63.0, 103.0, 57.0, 67.0, 50.0, 20.0, 100.0, 76.0, 50.0, 58.0, 68.0, 108.0, 108.0, 135.0, 40.0, 70.0, 70.0, 68.0, 108.0, 40.0, 70.0, 48.0, 83.0, 74.0, 49.0, 69.0, 45.0, 60.0, 90.0, 90.0, 70.0, 70.0, 110.0, 115.0, 100.0, 75.0, 75.0, 85.0, 86.0, 65.0, 65.0, 75.0, 110.0, 85.0, 68.0, 68.0, 60.0, 45.0, 70.0, 50.0, 50.0, 50.0, 50.0, 50.0, 50.0, 75.0, 80.0, 75.0, 100.0, 90.0, 91.0, 110.0, 150.0, 150.0, 120.0, 80.0, 100.0, 70.0, 100.0, 100.0, 120.0, 100.0, 45.0, 60.0, 75.0, 65.0, 90.0, 110.0, 55.0, 75.0, 95.0, 45.0, 60.0, 45.0, 65.0, 41.0, 64.0, 50.0, 75.0, 50.0, 75.0, 50.0, 75.0, 76.0, 116.0, 50.0, 62.0, 45.0, 75.0, 55.0, 70.0, 85.0, 67.0, 60.0, 110.0, 103.0, 103.0, 75.0, 85.0, 105.0, 50.0, 75.0, 105.0, 120.0, 75.0, 45.0, 55.0, 75.0, 30.0, 40.0, 40.0, 60.0, 45.0, 70.0, 70.0, 50.0, 60.0, 95.0, 70.0, 70.0, 105.0, 105.0, 105.0, 105.0, 75.0, 50.0, 50.0, 65.0, 72.0, 38.0, 38.0, 58.0, 54.0, 74.0, 55.0, 75.0, 50.0, 80.0, 40.0, 60.0, 55.0, 75.0, 45.0, 60.0, 70.0, 45.0, 65.0, 110.0, 62.0, 75.0, 36.0, 51.0, 71.0, 60.0, 80.0, 55.0, 50.0, 70.0, 69.0, 114.0, 55.0, 100.0, 165.0, 50.0, 70.0, 44.0, 74.0, 40.0, 60.0, 60.0, 35.0, 65.0, 85.0, 55.0, 75.0, 50.0, 60.0, 60.0, 46.0, 66.0, 76.0, 55.0, 50.0, 80.0, 109.0, 109.0, 45.0, 65.0, 77.0, 59.0, 89.0, 45.0, 65.0, 95.0, 70.0, 100.0, 70.0, 110.0, 85.0, 58.0, 52.0, 72.0, 92.0, 55.0, 85.0, 91.0, 91.0, 91.0, 79.0, 79.0, 79.0, 79.0, 100.0, 100.0, 89.0, 89.0, 125.0, 125.0, 125.0, 91.0, 100.0, 100.0, 71.0, 56.0, 61.0, 88.0, 40.0, 59.0, 75.0, 41.0, 54.0, 72.0, 72.0, 38.0, 85.0, 45.0, 62.0, 78.0, 38.0, 45.0, 80.0, 62.0, 86.0, 44.0, 54.0, 74.0, 78.0, 66.0, 123.0, 67.0, 95.0, 75.0, 62.0, 74.0, 45.0, 59.0, 60.0, 60.0, 78.0, 101.0, 62.0, 82.0, 53.0, 86.0, 42.0, 72.0, 50.0, 65.0, 50.0, 71.0, 44.0, 62.0, 58.0, 82.0, 77.0, 123.0, 95.0, 78.0, 67.0, 50.0, 45.0, 68.0, 90.0, 57.0, 43.0, 85.0, 44.0, 49.0, 54.0, 59.0, 55.0, 65.0, 75.0, 85.0, 55.0, 95.0, 40.0, 85.0, 126.0, 126.0, 54.0, 108.0, 216.0, 50.0, 50.0, 80.0, 80.0, 80.0, 68.0, 78.0, 78.0, 45.0, 65.0, 95.0, 50.0, 60.0, 80.0, 35.0, 55.0, 80.0, 48.0, 88.0, 47.0, 57.0, 77.0, 47.0, 97.0, 75.0, 75.0, 75.0, 75.0, 40.0, 60.0, 45.0, 75.0, 85.0, 75.0, 45.0, 45.0, 50.0, 50.0, 70.0, 100.0, 38.0, 68.0, 40.0, 70.0, 40.0, 60.0, 48.0, 68.0, 70.0, 120.0, 42.0, 52.0, 72.0, 51.0, 90.0, 100.0, 25.0, 75.0, 55.0, 85.0, 55.0, 95.0, 95.0, 60.0, 60.0, 65.0, 60.0, 65.0, 55.0, 68.0, 78.0, 70.0, 45.0, 55.0, 75.0, 70.0, 70.0, 70.0, 70.0, 43.0, 43.0, 137.0, 137.0, 109.0, 107.0, 71.0, 83.0, 97.0, 59.0, 223.0, 97.0, 97.0, 97.0, 97.0, 80.0, 90.0, 67.0, 73.0, 61.0, 53.0, 88.0, 46.0, 135.0, 50.0, 70.0, 100.0, 50.0, 65.0, 80.0, 50.0, 65.0, 70.0, 70.0, 120.0, 38.0, 68.0, 98.0, 25.0, 50.0, 60.0, 40.0, 70.0, 40.0, 60.0, 42.0, 72.0, 50.0, 90.0, 59.0, 69.0, 30.0, 80.0, 110.0, 40.0, 70.0, 110.0, 52.0, 72.0, 70.0, 41.0, 61.0, 40.0, 75.0, 50.0, 100.0, 50.0, 80.0, 40.0, 60.0, 42.0, 57.0, 57.0, 45.0, 65.0, 95.0, 93.0, 70.0, 60.0, 62.0, 80.0, 58.0, 45.0, 65.0, 65.0, 48.0, 30.0, 70.0, 100.0, 75.0, 75.0, 60.0, 70.0, 58.0, 72.0, 122.0, 90.0, 90.0, 90.0, 90.0, 70.0, 28.0, 68.0, 88.0, 92.0, 92.0, 92.0, 92.0, 140.0, 255.0], \"xaxis\": \"x\", \"xbins\": {\"end\": 255, \"size\": 5, \"start\": 1}, \"yaxis\": \"y\"}, {\"name\": \"Attack\", \"type\": \"histogram\", \"x\": [49.0, 62.0, 82.0, 100.0, 52.0, 64.0, 84.0, 130.0, 104.0, 48.0, 63.0, 83.0, 103.0, 30.0, 20.0, 45.0, 35.0, 25.0, 90.0, 150.0, 45.0, 60.0, 80.0, 56.0, 56.0, 81.0, 71.0, 60.0, 90.0, 60.0, 95.0, 55.0, 80.0, 85.0, 75.0, 75.0, 100.0, 100.0, 47.0, 62.0, 92.0, 57.0, 72.0, 45.0, 70.0, 41.0, 41.0, 76.0, 67.0, 45.0, 70.0, 45.0, 80.0, 50.0, 65.0, 70.0, 95.0, 55.0, 65.0, 55.0, 55.0, 100.0, 45.0, 35.0, 65.0, 70.0, 60.0, 52.0, 82.0, 80.0, 105.0, 70.0, 110.0, 50.0, 65.0, 95.0, 20.0, 35.0, 50.0, 80.0, 100.0, 130.0, 75.0, 90.0, 105.0, 40.0, 70.0, 80.0, 80.0, 95.0, 95.0, 120.0, 85.0, 85.0, 100.0, 100.0, 65.0, 65.0, 75.0, 75.0, 35.0, 60.0, 90.0, 95.0, 85.0, 45.0, 70.0, 80.0, 80.0, 105.0, 105.0, 65.0, 95.0, 35.0, 50.0, 65.0, 65.0, 45.0, 48.0, 73.0, 105.0, 130.0, 30.0, 40.0, 95.0, 105.0, 50.0, 80.0, 80.0, 120.0, 105.0, 55.0, 65.0, 90.0, 90.0, 85.0, 130.0, 5.0, 55.0, 95.0, 125.0, 40.0, 65.0, 67.0, 92.0, 45.0, 75.0, 45.0, 65.0, 110.0, 50.0, 83.0, 95.0, 125.0, 155.0, 100.0, 10.0, 125.0, 155.0, 85.0, 48.0, 55.0, 75.0, 65.0, 65.0, 130.0, 60.0, 40.0, 60.0, 80.0, 115.0, 105.0, 135.0, 110.0, 85.0, 90.0, 100.0, 64.0, 84.0, 134.0, 110.0, 190.0, 150.0, 100.0, 49.0, 62.0, 82.0, 52.0, 64.0, 84.0, 65.0, 80.0, 105.0, 46.0, 76.0, 30.0, 50.0, 20.0, 35.0, 60.0, 90.0, 90.0, 38.0, 58.0, 40.0, 25.0, 30.0, 20.0, 40.0, 50.0, 75.0, 40.0, 55.0, 75.0, 95.0, 80.0, 20.0, 50.0, 100.0, 75.0, 35.0, 45.0, 55.0, 70.0, 30.0, 75.0, 65.0, 45.0, 85.0, 65.0, 65.0, 85.0, 75.0, 60.0, 72.0, 33.0, 80.0, 65.0, 90.0, 70.0, 75.0, 85.0, 125.0, 80.0, 120.0, 95.0, 130.0, 150.0, 10.0, 125.0, 185.0, 95.0, 80.0, 130.0, 40.0, 60.0, 50.0, 100.0, 55.0, 65.0, 105.0, 55.0, 80.0, 60.0, 90.0, 90.0, 95.0, 60.0, 120.0, 80.0, 95.0, 20.0, 35.0, 95.0, 30.0, 63.0, 75.0, 80.0, 10.0, 85.0, 115.0, 75.0, 64.0, 84.0, 134.0, 164.0, 90.0, 130.0, 100.0, 45.0, 65.0, 85.0, 110.0, 60.0, 85.0, 120.0, 160.0, 70.0, 85.0, 110.0, 150.0, 55.0, 90.0, 30.0, 30.0, 70.0, 70.0, 45.0, 35.0, 35.0, 50.0, 30.0, 50.0, 70.0, 40.0, 70.0, 100.0, 55.0, 85.0, 30.0, 50.0, 25.0, 35.0, 65.0, 85.0, 30.0, 40.0, 130.0, 60.0, 80.0, 160.0, 45.0, 90.0, 90.0, 51.0, 71.0, 91.0, 60.0, 120.0, 20.0, 45.0, 45.0, 75.0, 85.0, 85.0, 105.0, 70.0, 90.0, 110.0, 140.0, 40.0, 60.0, 100.0, 45.0, 75.0, 75.0, 50.0, 40.0, 73.0, 47.0, 60.0, 43.0, 73.0, 90.0, 120.0, 140.0, 70.0, 90.0, 60.0, 100.0, 120.0, 85.0, 25.0, 45.0, 60.0, 100.0, 70.0, 100.0, 85.0, 115.0, 40.0, 70.0, 110.0, 115.0, 100.0, 48.0, 78.0, 80.0, 120.0, 40.0, 70.0, 41.0, 81.0, 95.0, 125.0, 15.0, 60.0, 70.0, 90.0, 75.0, 115.0, 165.0, 40.0, 70.0, 68.0, 130.0, 150.0, 23.0, 50.0, 80.0, 120.0, 40.0, 60.0, 80.0, 64.0, 104.0, 84.0, 90.0, 30.0, 75.0, 95.0, 135.0, 145.0, 55.0, 75.0, 135.0, 145.0, 100.0, 50.0, 75.0, 80.0, 100.0, 90.0, 130.0, 100.0, 150.0, 150.0, 180.0, 150.0, 180.0, 100.0, 150.0, 180.0, 70.0, 95.0, 68.0, 89.0, 109.0, 58.0, 78.0, 104.0, 51.0, 66.0, 86.0, 55.0, 75.0, 120.0, 45.0, 85.0, 25.0, 85.0, 65.0, 85.0, 120.0, 30.0, 70.0, 125.0, 165.0, 42.0, 52.0, 29.0, 59.0, 79.0, 69.0, 94.0, 30.0, 80.0, 45.0, 65.0, 105.0, 35.0, 60.0, 48.0, 83.0, 100.0, 50.0, 80.0, 66.0, 76.0, 136.0, 60.0, 125.0, 55.0, 82.0, 30.0, 63.0, 93.0, 24.0, 89.0, 80.0, 25.0, 5.0, 65.0, 92.0, 70.0, 90.0, 130.0, 170.0, 85.0, 70.0, 110.0, 145.0, 72.0, 112.0, 50.0, 90.0, 61.0, 106.0, 100.0, 49.0, 69.0, 20.0, 62.0, 92.0, 132.0, 120.0, 70.0, 85.0, 140.0, 100.0, 123.0, 95.0, 50.0, 76.0, 110.0, 60.0, 95.0, 130.0, 80.0, 125.0, 165.0, 55.0, 100.0, 80.0, 50.0, 65.0, 65.0, 65.0, 65.0, 65.0, 75.0, 105.0, 125.0, 120.0, 120.0, 90.0, 160.0, 100.0, 120.0, 70.0, 80.0, 100.0, 90.0, 100.0, 103.0, 120.0, 100.0, 45.0, 60.0, 75.0, 63.0, 93.0, 123.0, 55.0, 75.0, 100.0, 55.0, 85.0, 60.0, 80.0, 50.0, 88.0, 53.0, 98.0, 53.0, 98.0, 53.0, 98.0, 25.0, 55.0, 55.0, 77.0, 60.0, 100.0, 75.0, 105.0, 135.0, 57.0, 85.0, 135.0, 60.0, 60.0, 80.0, 105.0, 140.0, 50.0, 65.0, 95.0, 100.0, 125.0, 53.0, 63.0, 103.0, 45.0, 55.0, 27.0, 67.0, 35.0, 60.0, 92.0, 72.0, 82.0, 117.0, 90.0, 90.0, 140.0, 140.0, 30.0, 160.0, 86.0, 65.0, 75.0, 90.0, 58.0, 30.0, 55.0, 50.0, 78.0, 108.0, 112.0, 140.0, 50.0, 95.0, 65.0, 105.0, 50.0, 95.0, 30.0, 45.0, 55.0, 30.0, 40.0, 65.0, 44.0, 87.0, 50.0, 65.0, 95.0, 60.0, 100.0, 75.0, 75.0, 135.0, 55.0, 85.0, 40.0, 60.0, 75.0, 47.0, 77.0, 50.0, 94.0, 55.0, 80.0, 100.0, 55.0, 85.0, 115.0, 55.0, 75.0, 30.0, 40.0, 55.0, 87.0, 117.0, 147.0, 70.0, 40.0, 70.0, 66.0, 81.0, 85.0, 125.0, 120.0, 74.0, 124.0, 85.0, 125.0, 110.0, 83.0, 123.0, 55.0, 65.0, 97.0, 109.0, 65.0, 85.0, 105.0, 85.0, 60.0, 90.0, 129.0, 90.0, 115.0, 100.0, 115.0, 105.0, 120.0, 150.0, 125.0, 145.0, 130.0, 170.0, 120.0, 72.0, 77.0, 128.0, 120.0, 61.0, 78.0, 107.0, 45.0, 59.0, 69.0, 56.0, 63.0, 95.0, 145.0, 36.0, 56.0, 50.0, 73.0, 81.0, 35.0, 22.0, 52.0, 50.0, 68.0, 38.0, 45.0, 65.0, 65.0, 65.0, 100.0, 82.0, 124.0, 80.0, 48.0, 48.0, 80.0, 110.0, 50.0, 140.0, 52.0, 72.0, 48.0, 80.0, 54.0, 92.0, 52.0, 92.0, 60.0, 75.0, 53.0, 73.0, 38.0, 55.0, 89.0, 121.0, 59.0, 77.0, 65.0, 92.0, 58.0, 50.0, 50.0, 75.0, 100.0, 80.0, 70.0, 110.0, 66.0, 66.0, 66.0, 66.0, 85.0, 90.0, 95.0, 100.0, 69.0, 117.0, 30.0, 70.0, 131.0, 131.0, 100.0, 100.0, 100.0, 100.0, 160.0, 110.0, 160.0, 110.0, 55.0, 75.0, 107.0, 65.0, 85.0, 115.0, 54.0, 69.0, 74.0, 75.0, 85.0, 120.0, 70.0, 110.0, 62.0, 82.0, 70.0, 82.0, 132.0, 70.0, 70.0, 70.0, 70.0, 45.0, 55.0, 65.0, 115.0, 115.0, 117.0, 20.0, 140.0, 53.0, 63.0, 100.0, 125.0, 40.0, 70.0, 55.0, 105.0, 35.0, 45.0, 44.0, 64.0, 75.0, 125.0, 30.0, 40.0, 120.0, 52.0, 60.0, 120.0, 35.0, 125.0, 55.0, 75.0, 60.0, 95.0, 95.0, 60.0, 100.0, 115.0, 78.0, 98.0, 90.0, 105.0, 60.0, 131.0, 55.0, 75.0, 110.0, 115.0, 85.0, 130.0, 75.0, 29.0, 29.0, 137.0, 113.0, 53.0, 139.0, 137.0, 89.0, 101.0, 181.0, 101.0, 107.0, 157.0, 113.0, 167.0, 95.0, 125.0, 73.0, 73.0, 131.0, 127.0, 112.0, 65.0, 143.0, 65.0, 85.0, 125.0, 71.0, 86.0, 116.0, 40.0, 60.0, 85.0, 55.0, 95.0, 47.0, 67.0, 87.0, 20.0, 35.0, 45.0, 28.0, 58.0, 40.0, 50.0, 40.0, 80.0, 64.0, 115.0, 45.0, 90.0, 40.0, 60.0, 80.0, 40.0, 110.0, 85.0, 57.0, 107.0, 85.0, 63.0, 123.0, 38.0, 98.0, 65.0, 115.0, 68.0, 118.0, 45.0, 65.0, 30.0, 40.0, 90.0, 45.0, 60.0, 120.0, 90.0, 110.0, 95.0, 135.0, 85.0, 95.0, 40.0, 60.0, 100.0, 101.0, 25.0, 65.0, 125.0, 80.0, 80.0, 65.0, 55.0, 95.0, 80.0, 130.0, 100.0, 100.0, 90.0, 90.0, 95.0, 60.0, 80.0, 120.0, 130.0, 170.0, 130.0, 130.0, 85.0, 115.0], \"xaxis\": \"x2\", \"xbins\": {\"end\": 190, \"size\": 5, \"start\": 5}, \"yaxis\": \"y2\"}, {\"name\": \"Defense\", \"type\": \"histogram\", \"x\": [49.0, 63.0, 83.0, 123.0, 43.0, 58.0, 78.0, 111.0, 78.0, 65.0, 80.0, 100.0, 120.0, 35.0, 55.0, 50.0, 30.0, 50.0, 40.0, 40.0, 40.0, 55.0, 80.0, 35.0, 35.0, 60.0, 70.0, 30.0, 65.0, 44.0, 69.0, 40.0, 50.0, 50.0, 85.0, 90.0, 110.0, 120.0, 52.0, 67.0, 87.0, 40.0, 57.0, 48.0, 73.0, 40.0, 40.0, 75.0, 75.0, 20.0, 45.0, 35.0, 70.0, 55.0, 70.0, 55.0, 80.0, 50.0, 60.0, 25.0, 30.0, 60.0, 35.0, 35.0, 55.0, 60.0, 60.0, 48.0, 78.0, 35.0, 60.0, 45.0, 80.0, 40.0, 65.0, 95.0, 15.0, 30.0, 45.0, 50.0, 70.0, 80.0, 35.0, 50.0, 65.0, 35.0, 65.0, 100.0, 100.0, 115.0, 115.0, 130.0, 55.0, 55.0, 70.0, 70.0, 65.0, 65.0, 110.0, 180.0, 70.0, 95.0, 55.0, 55.0, 45.0, 55.0, 80.0, 50.0, 50.0, 75.0, 75.0, 100.0, 180.0, 30.0, 45.0, 60.0, 80.0, 160.0, 45.0, 70.0, 90.0, 115.0, 50.0, 80.0, 85.0, 85.0, 95.0, 110.0, 110.0, 53.0, 79.0, 75.0, 95.0, 120.0, 120.0, 95.0, 120.0, 5.0, 115.0, 80.0, 100.0, 70.0, 95.0, 60.0, 65.0, 55.0, 85.0, 65.0, 65.0, 80.0, 35.0, 57.0, 57.0, 100.0, 120.0, 95.0, 55.0, 79.0, 109.0, 80.0, 48.0, 50.0, 60.0, 60.0, 60.0, 60.0, 70.0, 100.0, 125.0, 90.0, 105.0, 65.0, 85.0, 65.0, 100.0, 85.0, 90.0, 45.0, 65.0, 95.0, 90.0, 100.0, 70.0, 100.0, 65.0, 80.0, 100.0, 43.0, 58.0, 78.0, 64.0, 80.0, 100.0, 34.0, 64.0, 30.0, 50.0, 30.0, 50.0, 40.0, 70.0, 80.0, 38.0, 58.0, 15.0, 28.0, 15.0, 65.0, 85.0, 45.0, 70.0, 40.0, 55.0, 85.0, 105.0, 95.0, 50.0, 80.0, 115.0, 75.0, 40.0, 50.0, 70.0, 55.0, 30.0, 55.0, 45.0, 45.0, 85.0, 60.0, 110.0, 42.0, 80.0, 60.0, 48.0, 58.0, 65.0, 90.0, 140.0, 70.0, 105.0, 200.0, 230.0, 50.0, 75.0, 85.0, 100.0, 140.0, 230.0, 75.0, 115.0, 55.0, 50.0, 75.0, 40.0, 120.0, 40.0, 80.0, 100.0, 35.0, 75.0, 45.0, 140.0, 30.0, 50.0, 90.0, 95.0, 60.0, 120.0, 90.0, 62.0, 35.0, 35.0, 95.0, 15.0, 37.0, 37.0, 105.0, 10.0, 75.0, 85.0, 115.0, 50.0, 70.0, 110.0, 150.0, 130.0, 90.0, 100.0, 35.0, 45.0, 65.0, 75.0, 40.0, 60.0, 70.0, 80.0, 50.0, 70.0, 90.0, 110.0, 35.0, 70.0, 41.0, 41.0, 61.0, 61.0, 35.0, 55.0, 55.0, 70.0, 30.0, 50.0, 70.0, 50.0, 40.0, 60.0, 30.0, 60.0, 30.0, 100.0, 25.0, 35.0, 65.0, 65.0, 32.0, 60.0, 80.0, 60.0, 80.0, 100.0, 90.0, 45.0, 45.0, 23.0, 43.0, 63.0, 30.0, 60.0, 40.0, 135.0, 45.0, 75.0, 125.0, 85.0, 125.0, 100.0, 140.0, 180.0, 230.0, 55.0, 75.0, 85.0, 40.0, 60.0, 80.0, 40.0, 50.0, 75.0, 75.0, 45.0, 53.0, 83.0, 20.0, 40.0, 70.0, 35.0, 45.0, 40.0, 70.0, 100.0, 140.0, 35.0, 65.0, 60.0, 45.0, 50.0, 80.0, 40.0, 60.0, 60.0, 90.0, 110.0, 60.0, 60.0, 43.0, 73.0, 65.0, 85.0, 55.0, 105.0, 77.0, 97.0, 50.0, 100.0, 20.0, 79.0, 70.0, 70.0, 35.0, 65.0, 75.0, 90.0, 130.0, 83.0, 60.0, 60.0, 48.0, 50.0, 80.0, 80.0, 50.0, 70.0, 90.0, 85.0, 105.0, 105.0, 130.0, 55.0, 60.0, 100.0, 80.0, 130.0, 80.0, 100.0, 130.0, 150.0, 200.0, 100.0, 150.0, 90.0, 120.0, 80.0, 100.0, 90.0, 90.0, 140.0, 160.0, 90.0, 100.0, 100.0, 50.0, 20.0, 160.0, 90.0, 64.0, 85.0, 105.0, 44.0, 52.0, 71.0, 53.0, 68.0, 88.0, 30.0, 50.0, 70.0, 40.0, 60.0, 41.0, 51.0, 34.0, 49.0, 79.0, 35.0, 65.0, 40.0, 60.0, 118.0, 168.0, 45.0, 85.0, 105.0, 95.0, 50.0, 42.0, 102.0, 70.0, 35.0, 55.0, 45.0, 70.0, 48.0, 68.0, 66.0, 34.0, 44.0, 44.0, 84.0, 94.0, 60.0, 52.0, 42.0, 64.0, 50.0, 47.0, 67.0, 86.0, 116.0, 95.0, 45.0, 5.0, 45.0, 108.0, 45.0, 65.0, 95.0, 115.0, 40.0, 40.0, 70.0, 88.0, 78.0, 118.0, 90.0, 110.0, 40.0, 65.0, 72.0, 56.0, 76.0, 50.0, 50.0, 75.0, 105.0, 65.0, 115.0, 95.0, 130.0, 125.0, 67.0, 67.0, 95.0, 86.0, 130.0, 110.0, 125.0, 80.0, 70.0, 65.0, 95.0, 145.0, 135.0, 70.0, 77.0, 107.0, 107.0, 107.0, 107.0, 107.0, 130.0, 105.0, 70.0, 120.0, 100.0, 106.0, 110.0, 120.0, 100.0, 120.0, 80.0, 100.0, 90.0, 100.0, 75.0, 120.0, 100.0, 55.0, 75.0, 95.0, 45.0, 55.0, 65.0, 45.0, 60.0, 85.0, 39.0, 69.0, 45.0, 65.0, 37.0, 50.0, 48.0, 63.0, 48.0, 63.0, 48.0, 63.0, 45.0, 85.0, 50.0, 62.0, 32.0, 63.0, 85.0, 105.0, 130.0, 55.0, 40.0, 60.0, 86.0, 126.0, 55.0, 85.0, 95.0, 40.0, 55.0, 75.0, 85.0, 75.0, 70.0, 90.0, 80.0, 59.0, 99.0, 60.0, 85.0, 50.0, 75.0, 65.0, 35.0, 45.0, 80.0, 45.0, 45.0, 55.0, 55.0, 105.0, 55.0, 67.0, 85.0, 70.0, 115.0, 80.0, 85.0, 85.0, 145.0, 103.0, 133.0, 45.0, 65.0, 62.0, 82.0, 40.0, 60.0, 40.0, 60.0, 50.0, 70.0, 95.0, 40.0, 50.0, 75.0, 50.0, 63.0, 50.0, 65.0, 85.0, 50.0, 70.0, 60.0, 45.0, 105.0, 45.0, 70.0, 50.0, 70.0, 80.0, 50.0, 60.0, 91.0, 131.0, 70.0, 95.0, 115.0, 40.0, 70.0, 80.0, 55.0, 75.0, 55.0, 60.0, 90.0, 60.0, 70.0, 90.0, 40.0, 85.0, 40.0, 84.0, 99.0, 50.0, 60.0, 90.0, 50.0, 80.0, 70.0, 100.0, 95.0, 50.0, 75.0, 75.0, 105.0, 66.0, 112.0, 50.0, 70.0, 90.0, 55.0, 65.0, 129.0, 90.0, 72.0, 70.0, 80.0, 70.0, 70.0, 100.0, 120.0, 90.0, 90.0, 90.0, 100.0, 90.0, 90.0, 77.0, 90.0, 95.0, 65.0, 95.0, 122.0, 40.0, 58.0, 72.0, 40.0, 52.0, 67.0, 67.0, 38.0, 77.0, 43.0, 55.0, 71.0, 40.0, 60.0, 50.0, 58.0, 72.0, 39.0, 47.0, 67.0, 68.0, 48.0, 62.0, 62.0, 78.0, 60.0, 54.0, 76.0, 100.0, 150.0, 140.0, 50.0, 60.0, 72.0, 66.0, 86.0, 53.0, 88.0, 67.0, 115.0, 60.0, 90.0, 62.0, 88.0, 33.0, 52.0, 77.0, 119.0, 50.0, 72.0, 65.0, 75.0, 57.0, 150.0, 35.0, 53.0, 70.0, 91.0, 48.0, 76.0, 70.0, 70.0, 70.0, 70.0, 122.0, 122.0, 122.0, 122.0, 85.0, 184.0, 35.0, 80.0, 95.0, 95.0, 71.0, 121.0, 121.0, 150.0, 110.0, 60.0, 60.0, 120.0, 55.0, 75.0, 75.0, 40.0, 50.0, 90.0, 54.0, 69.0, 74.0, 30.0, 50.0, 75.0, 30.0, 60.0, 45.0, 95.0, 90.0, 57.0, 77.0, 70.0, 70.0, 70.0, 70.0, 40.0, 60.0, 40.0, 65.0, 75.0, 65.0, 20.0, 130.0, 62.0, 152.0, 70.0, 100.0, 52.0, 92.0, 35.0, 90.0, 55.0, 80.0, 40.0, 60.0, 50.0, 80.0, 38.0, 48.0, 98.0, 90.0, 80.0, 90.0, 40.0, 140.0, 80.0, 110.0, 130.0, 95.0, 95.0, 100.0, 60.0, 65.0, 135.0, 63.0, 80.0, 70.0, 85.0, 100.0, 65.0, 90.0, 125.0, 85.0, 75.0, 115.0, 115.0, 31.0, 131.0, 107.0, 89.0, 47.0, 139.0, 37.0, 71.0, 103.0, 131.0, 53.0, 101.0, 127.0, 109.0, 97.0, 115.0, 80.0, 67.0, 73.0, 211.0, 53.0, 75.0, 65.0, 143.0, 50.0, 70.0, 90.0, 40.0, 60.0, 75.0, 40.0, 55.0, 65.0, 55.0, 95.0, 35.0, 55.0, 105.0, 20.0, 80.0, 110.0, 28.0, 58.0, 60.0, 90.0, 55.0, 100.0, 50.0, 90.0, 50.0, 60.0, 50.0, 90.0, 120.0, 80.0, 80.0, 80.0, 75.0, 125.0, 55.0, 40.0, 60.0, 35.0, 70.0, 45.0, 65.0, 60.0, 90.0, 45.0, 65.0, 45.0, 65.0, 95.0, 30.0, 45.0, 65.0, 101.0, 100.0, 50.0, 95.0, 75.0, 145.0, 40.0, 75.0, 100.0, 95.0, 35.0, 60.0, 135.0, 110.0, 70.0, 55.0, 65.0, 58.0, 49.0, 69.0, 90.0, 90.0, 100.0, 100.0, 115.0, 30.0, 50.0, 75.0, 115.0, 115.0, 115.0, 145.0, 95.0, 250.0], \"xaxis\": \"x3\", \"xbins\": {\"end\": 250, \"size\": 5, \"start\": 5}, \"yaxis\": \"y3\"}, {\"name\": \"Special Attack\", \"type\": \"histogram\", \"x\": [65.0, 80.0, 100.0, 122.0, 60.0, 80.0, 109.0, 130.0, 159.0, 50.0, 65.0, 85.0, 135.0, 20.0, 25.0, 90.0, 20.0, 25.0, 45.0, 15.0, 35.0, 50.0, 135.0, 25.0, 25.0, 50.0, 40.0, 31.0, 61.0, 40.0, 65.0, 50.0, 75.0, 95.0, 20.0, 10.0, 45.0, 25.0, 40.0, 55.0, 75.0, 40.0, 55.0, 60.0, 95.0, 50.0, 50.0, 81.0, 81.0, 45.0, 85.0, 30.0, 65.0, 75.0, 85.0, 45.0, 60.0, 40.0, 90.0, 35.0, 35.0, 50.0, 40.0, 50.0, 40.0, 65.0, 75.0, 65.0, 95.0, 35.0, 60.0, 70.0, 100.0, 40.0, 50.0, 70.0, 105.0, 120.0, 135.0, 35.0, 50.0, 65.0, 70.0, 85.0, 100.0, 50.0, 80.0, 30.0, 30.0, 45.0, 45.0, 55.0, 65.0, 65.0, 80.0, 80.0, 40.0, 40.0, 100.0, 130.0, 95.0, 120.0, 58.0, 58.0, 35.0, 45.0, 70.0, 40.0, 40.0, 65.0, 65.0, 45.0, 85.0, 100.0, 115.0, 130.0, 170.0, 30.0, 43.0, 73.0, 25.0, 50.0, 55.0, 60.0, 125.0, 125.0, 40.0, 50.0, 50.0, 35.0, 35.0, 60.0, 60.0, 85.0, 85.0, 30.0, 45.0, 35.0, 100.0, 40.0, 60.0, 70.0, 95.0, 35.0, 65.0, 70.0, 100.0, 100.0, 90.0, 55.0, 115.0, 95.0, 100.0, 55.0, 65.0, 40.0, 15.0, 60.0, 70.0, 85.0, 48.0, 45.0, 65.0, 110.0, 110.0, 95.0, 85.0, 90.0, 115.0, 55.0, 65.0, 60.0, 70.0, 65.0, 95.0, 125.0, 125.0, 50.0, 70.0, 100.0, 154.0, 154.0, 194.0, 100.0, 49.0, 63.0, 83.0, 60.0, 80.0, 109.0, 44.0, 59.0, 79.0, 35.0, 45.0, 36.0, 86.0, 40.0, 55.0, 40.0, 60.0, 70.0, 56.0, 76.0, 35.0, 45.0, 40.0, 40.0, 80.0, 70.0, 95.0, 65.0, 80.0, 115.0, 165.0, 90.0, 20.0, 60.0, 30.0, 90.0, 35.0, 45.0, 55.0, 40.0, 30.0, 105.0, 75.0, 25.0, 65.0, 130.0, 60.0, 85.0, 100.0, 85.0, 72.0, 33.0, 90.0, 35.0, 60.0, 65.0, 35.0, 55.0, 55.0, 40.0, 60.0, 55.0, 55.0, 65.0, 10.0, 40.0, 40.0, 35.0, 50.0, 75.0, 70.0, 90.0, 30.0, 60.0, 65.0, 65.0, 105.0, 65.0, 40.0, 80.0, 110.0, 140.0, 95.0, 40.0, 60.0, 105.0, 85.0, 20.0, 35.0, 35.0, 85.0, 65.0, 70.0, 40.0, 75.0, 115.0, 90.0, 90.0, 45.0, 65.0, 95.0, 95.0, 90.0, 110.0, 100.0, 65.0, 85.0, 105.0, 145.0, 70.0, 85.0, 110.0, 130.0, 50.0, 60.0, 85.0, 95.0, 30.0, 60.0, 30.0, 30.0, 50.0, 50.0, 20.0, 25.0, 25.0, 50.0, 40.0, 60.0, 90.0, 30.0, 60.0, 90.0, 30.0, 75.0, 55.0, 95.0, 45.0, 65.0, 125.0, 165.0, 50.0, 40.0, 60.0, 35.0, 55.0, 95.0, 30.0, 50.0, 30.0, 51.0, 71.0, 91.0, 20.0, 40.0, 20.0, 45.0, 35.0, 65.0, 85.0, 55.0, 55.0, 40.0, 50.0, 60.0, 60.0, 40.0, 60.0, 80.0, 65.0, 105.0, 135.0, 85.0, 75.0, 47.0, 73.0, 100.0, 43.0, 73.0, 65.0, 95.0, 110.0, 70.0, 90.0, 65.0, 105.0, 145.0, 85.0, 70.0, 90.0, 60.0, 45.0, 50.0, 80.0, 85.0, 115.0, 40.0, 70.0, 110.0, 60.0, 100.0, 46.0, 76.0, 50.0, 90.0, 40.0, 70.0, 61.0, 81.0, 40.0, 70.0, 10.0, 100.0, 70.0, 60.0, 63.0, 83.0, 93.0, 30.0, 60.0, 72.0, 75.0, 115.0, 23.0, 50.0, 80.0, 120.0, 55.0, 75.0, 95.0, 74.0, 94.0, 114.0, 45.0, 40.0, 40.0, 60.0, 110.0, 120.0, 35.0, 55.0, 95.0, 105.0, 50.0, 100.0, 75.0, 110.0, 140.0, 130.0, 160.0, 150.0, 180.0, 100.0, 150.0, 150.0, 180.0, 100.0, 150.0, 180.0, 70.0, 95.0, 45.0, 55.0, 75.0, 58.0, 78.0, 104.0, 61.0, 81.0, 111.0, 30.0, 40.0, 50.0, 35.0, 55.0, 25.0, 55.0, 40.0, 60.0, 95.0, 50.0, 125.0, 30.0, 65.0, 42.0, 47.0, 29.0, 79.0, 59.0, 69.0, 94.0, 30.0, 80.0, 45.0, 60.0, 85.0, 62.0, 87.0, 57.0, 92.0, 60.0, 60.0, 90.0, 44.0, 54.0, 54.0, 105.0, 105.0, 42.0, 64.0, 65.0, 41.0, 71.0, 24.0, 79.0, 10.0, 70.0, 15.0, 92.0, 92.0, 40.0, 50.0, 80.0, 120.0, 40.0, 35.0, 115.0, 140.0, 38.0, 68.0, 30.0, 60.0, 61.0, 86.0, 90.0, 49.0, 69.0, 60.0, 62.0, 92.0, 132.0, 45.0, 130.0, 80.0, 55.0, 110.0, 95.0, 125.0, 120.0, 116.0, 60.0, 130.0, 45.0, 70.0, 135.0, 65.0, 65.0, 75.0, 65.0, 80.0, 95.0, 105.0, 105.0, 105.0, 105.0, 105.0, 75.0, 105.0, 125.0, 150.0, 150.0, 130.0, 80.0, 100.0, 120.0, 75.0, 80.0, 100.0, 135.0, 100.0, 120.0, 120.0, 100.0, 45.0, 60.0, 75.0, 45.0, 70.0, 100.0, 63.0, 83.0, 108.0, 35.0, 60.0, 25.0, 35.0, 50.0, 88.0, 53.0, 98.0, 53.0, 98.0, 53.0, 98.0, 67.0, 107.0, 36.0, 50.0, 50.0, 80.0, 25.0, 50.0, 60.0, 77.0, 30.0, 50.0, 60.0, 80.0, 25.0, 40.0, 55.0, 50.0, 65.0, 85.0, 30.0, 30.0, 40.0, 50.0, 70.0, 30.0, 40.0, 37.0, 77.0, 70.0, 110.0, 80.0, 35.0, 45.0, 65.0, 15.0, 15.0, 30.0, 30.0, 140.0, 30.0, 106.0, 35.0, 35.0, 45.0, 103.0, 55.0, 30.0, 95.0, 53.0, 83.0, 74.0, 112.0, 40.0, 60.0, 80.0, 120.0, 40.0, 65.0, 55.0, 75.0, 95.0, 105.0, 125.0, 125.0, 44.0, 87.0, 65.0, 80.0, 110.0, 40.0, 60.0, 75.0, 40.0, 60.0, 55.0, 85.0, 65.0, 85.0, 40.0, 57.0, 97.0, 24.0, 54.0, 45.0, 70.0, 70.0, 45.0, 75.0, 105.0, 85.0, 125.0, 65.0, 95.0, 145.0, 30.0, 40.0, 60.0, 60.0, 40.0, 100.0, 81.0, 66.0, 55.0, 95.0, 60.0, 35.0, 55.0, 40.0, 60.0, 40.0, 37.0, 57.0, 45.0, 55.0, 105.0, 48.0, 45.0, 65.0, 125.0, 50.0, 135.0, 90.0, 72.0, 90.0, 125.0, 110.0, 125.0, 145.0, 150.0, 120.0, 115.0, 105.0, 130.0, 120.0, 170.0, 129.0, 128.0, 77.0, 120.0, 48.0, 56.0, 74.0, 62.0, 90.0, 114.0, 62.0, 83.0, 103.0, 153.0, 32.0, 50.0, 40.0, 56.0, 74.0, 27.0, 27.0, 90.0, 73.0, 109.0, 61.0, 75.0, 125.0, 112.0, 62.0, 97.0, 46.0, 69.0, 65.0, 63.0, 83.0, 35.0, 45.0, 50.0, 140.0, 63.0, 99.0, 59.0, 85.0, 37.0, 68.0, 39.0, 54.0, 60.0, 97.0, 58.0, 120.0, 61.0, 109.0, 45.0, 69.0, 67.0, 99.0, 110.0, 74.0, 81.0, 50.0, 55.0, 83.0, 110.0, 80.0, 50.0, 65.0, 44.0, 44.0, 44.0, 44.0, 58.0, 58.0, 58.0, 58.0, 32.0, 44.0, 45.0, 97.0, 131.0, 131.0, 61.0, 81.0, 91.0, 100.0, 160.0, 150.0, 170.0, 130.0, 50.0, 70.0, 100.0, 60.0, 80.0, 80.0, 66.0, 91.0, 126.0, 30.0, 40.0, 75.0, 30.0, 55.0, 55.0, 55.0, 145.0, 42.0, 62.0, 98.0, 98.0, 98.0, 98.0, 55.0, 95.0, 30.0, 55.0, 55.0, 55.0, 25.0, 140.0, 43.0, 53.0, 45.0, 55.0, 40.0, 50.0, 50.0, 80.0, 65.0, 90.0, 71.0, 111.0, 45.0, 55.0, 30.0, 40.0, 50.0, 82.0, 90.0, 40.0, 20.0, 60.0, 70.0, 100.0, 30.0, 95.0, 95.0, 60.0, 100.0, 75.0, 91.0, 40.0, 50.0, 70.0, 135.0, 86.0, 45.0, 65.0, 100.0, 95.0, 130.0, 85.0, 95.0, 29.0, 29.0, 113.0, 137.0, 127.0, 53.0, 137.0, 173.0, 107.0, 59.0, 97.0, 127.0, 113.0, 157.0, 167.0, 130.0, 125.0, 73.0, 127.0, 53.0, 151.0, 102.0, 55.0, 80.0, 40.0, 55.0, 60.0, 40.0, 55.0, 65.0, 70.0, 95.0, 125.0, 35.0, 55.0, 33.0, 43.0, 53.0, 25.0, 50.0, 80.0, 47.0, 87.0, 40.0, 80.0, 40.0, 60.0, 38.0, 48.0, 40.0, 90.0, 40.0, 60.0, 80.0, 40.0, 95.0, 100.0, 35.0, 65.0, 85.0, 40.0, 60.0, 54.0, 114.0, 50.0, 90.0, 50.0, 70.0, 74.0, 134.0, 56.0, 86.0, 136.0, 55.0, 75.0, 95.0, 60.0, 50.0, 145.0, 68.0, 110.0, 50.0, 50.0, 110.0, 70.0, 91.0, 45.0, 125.0, 20.0, 65.0, 65.0, 105.0, 95.0, 70.0, 40.0, 80.0, 80.0, 90.0, 70.0, 80.0, 120.0, 40.0, 60.0, 100.0, 80.0, 80.0, 80.0, 80.0, 145.0, 125.0], \"xaxis\": \"x4\", \"xbins\": {\"end\": 194, \"size\": 5, \"start\": 10}, \"yaxis\": \"y4\"}, {\"name\": \"Special Defense\", \"type\": \"histogram\", \"x\": [65.0, 80.0, 100.0, 120.0, 50.0, 65.0, 85.0, 85.0, 115.0, 64.0, 80.0, 105.0, 115.0, 20.0, 25.0, 80.0, 20.0, 25.0, 80.0, 80.0, 35.0, 50.0, 80.0, 35.0, 35.0, 70.0, 80.0, 31.0, 61.0, 54.0, 79.0, 50.0, 60.0, 85.0, 30.0, 35.0, 55.0, 65.0, 40.0, 55.0, 85.0, 40.0, 55.0, 65.0, 90.0, 65.0, 65.0, 100.0, 100.0, 25.0, 50.0, 40.0, 75.0, 65.0, 75.0, 55.0, 80.0, 55.0, 75.0, 45.0, 45.0, 70.0, 40.0, 40.0, 40.0, 65.0, 65.0, 50.0, 80.0, 45.0, 70.0, 50.0, 80.0, 40.0, 50.0, 90.0, 55.0, 70.0, 95.0, 35.0, 60.0, 85.0, 30.0, 45.0, 70.0, 100.0, 120.0, 30.0, 30.0, 45.0, 45.0, 65.0, 65.0, 65.0, 80.0, 80.0, 40.0, 40.0, 80.0, 80.0, 55.0, 70.0, 62.0, 62.0, 35.0, 70.0, 95.0, 50.0, 50.0, 100.0, 100.0, 25.0, 45.0, 35.0, 55.0, 75.0, 95.0, 45.0, 90.0, 115.0, 25.0, 50.0, 55.0, 45.0, 75.0, 75.0, 50.0, 80.0, 80.0, 110.0, 110.0, 75.0, 45.0, 70.0, 70.0, 30.0, 45.0, 105.0, 40.0, 80.0, 100.0, 25.0, 45.0, 50.0, 80.0, 55.0, 85.0, 120.0, 90.0, 80.0, 95.0, 85.0, 85.0, 70.0, 90.0, 70.0, 20.0, 100.0, 130.0, 95.0, 48.0, 65.0, 85.0, 95.0, 95.0, 110.0, 75.0, 55.0, 70.0, 45.0, 70.0, 75.0, 95.0, 110.0, 125.0, 90.0, 85.0, 50.0, 70.0, 100.0, 90.0, 100.0, 120.0, 100.0, 65.0, 80.0, 100.0, 50.0, 65.0, 85.0, 48.0, 63.0, 83.0, 45.0, 55.0, 56.0, 96.0, 80.0, 110.0, 40.0, 70.0, 80.0, 56.0, 76.0, 35.0, 55.0, 20.0, 65.0, 105.0, 45.0, 70.0, 45.0, 60.0, 90.0, 110.0, 100.0, 50.0, 80.0, 65.0, 100.0, 55.0, 65.0, 95.0, 55.0, 30.0, 85.0, 45.0, 25.0, 65.0, 95.0, 130.0, 42.0, 110.0, 85.0, 48.0, 58.0, 65.0, 35.0, 60.0, 65.0, 65.0, 65.0, 95.0, 40.0, 60.0, 55.0, 80.0, 100.0, 230.0, 95.0, 105.0, 75.0, 50.0, 75.0, 40.0, 80.0, 30.0, 60.0, 100.0, 35.0, 75.0, 45.0, 70.0, 50.0, 80.0, 90.0, 95.0, 40.0, 60.0, 95.0, 65.0, 45.0, 35.0, 110.0, 65.0, 55.0, 55.0, 70.0, 135.0, 100.0, 75.0, 115.0, 50.0, 70.0, 100.0, 120.0, 154.0, 154.0, 100.0, 55.0, 65.0, 85.0, 85.0, 50.0, 60.0, 70.0, 80.0, 50.0, 70.0, 90.0, 110.0, 30.0, 60.0, 41.0, 41.0, 61.0, 61.0, 30.0, 25.0, 25.0, 90.0, 50.0, 70.0, 100.0, 30.0, 40.0, 60.0, 30.0, 50.0, 30.0, 70.0, 35.0, 55.0, 115.0, 135.0, 52.0, 60.0, 60.0, 35.0, 55.0, 65.0, 30.0, 50.0, 30.0, 23.0, 43.0, 73.0, 30.0, 60.0, 40.0, 90.0, 35.0, 65.0, 115.0, 55.0, 95.0, 40.0, 50.0, 60.0, 80.0, 55.0, 75.0, 85.0, 40.0, 60.0, 80.0, 75.0, 85.0, 85.0, 85.0, 80.0, 53.0, 83.0, 20.0, 40.0, 65.0, 35.0, 45.0, 45.0, 75.0, 105.0, 70.0, 80.0, 110.0, 60.0, 45.0, 50.0, 80.0, 40.0, 60.0, 75.0, 105.0, 105.0, 60.0, 60.0, 41.0, 71.0, 35.0, 55.0, 70.0, 120.0, 87.0, 107.0, 50.0, 80.0, 55.0, 125.0, 70.0, 120.0, 33.0, 63.0, 83.0, 90.0, 130.0, 87.0, 60.0, 60.0, 48.0, 50.0, 80.0, 80.0, 50.0, 70.0, 90.0, 55.0, 75.0, 75.0, 65.0, 65.0, 30.0, 50.0, 80.0, 90.0, 60.0, 80.0, 90.0, 110.0, 100.0, 200.0, 150.0, 130.0, 150.0, 110.0, 120.0, 140.0, 160.0, 90.0, 90.0, 90.0, 100.0, 100.0, 50.0, 20.0, 160.0, 90.0, 55.0, 65.0, 85.0, 44.0, 52.0, 71.0, 56.0, 76.0, 101.0, 30.0, 40.0, 60.0, 40.0, 60.0, 41.0, 51.0, 34.0, 49.0, 79.0, 70.0, 105.0, 30.0, 50.0, 88.0, 138.0, 45.0, 105.0, 85.0, 95.0, 50.0, 42.0, 102.0, 90.0, 30.0, 50.0, 53.0, 78.0, 62.0, 82.0, 66.0, 44.0, 54.0, 56.0, 96.0, 96.0, 105.0, 52.0, 37.0, 59.0, 50.0, 41.0, 61.0, 86.0, 116.0, 45.0, 90.0, 65.0, 42.0, 108.0, 45.0, 55.0, 85.0, 95.0, 85.0, 40.0, 70.0, 70.0, 42.0, 72.0, 55.0, 75.0, 40.0, 65.0, 72.0, 61.0, 86.0, 120.0, 60.0, 85.0, 105.0, 85.0, 90.0, 95.0, 55.0, 50.0, 85.0, 95.0, 115.0, 56.0, 65.0, 95.0, 75.0, 60.0, 75.0, 115.0, 115.0, 150.0, 135.0, 70.0, 77.0, 107.0, 107.0, 107.0, 107.0, 107.0, 130.0, 105.0, 70.0, 100.0, 120.0, 106.0, 110.0, 120.0, 100.0, 130.0, 80.0, 100.0, 90.0, 100.0, 75.0, 120.0, 100.0, 55.0, 75.0, 95.0, 45.0, 55.0, 65.0, 45.0, 60.0, 70.0, 39.0, 69.0, 45.0, 65.0, 37.0, 50.0, 48.0, 63.0, 48.0, 63.0, 48.0, 63.0, 55.0, 95.0, 30.0, 42.0, 32.0, 63.0, 25.0, 40.0, 80.0, 55.0, 45.0, 65.0, 86.0, 126.0, 35.0, 50.0, 65.0, 40.0, 55.0, 75.0, 85.0, 75.0, 60.0, 80.0, 80.0, 39.0, 79.0, 50.0, 75.0, 50.0, 75.0, 55.0, 35.0, 45.0, 70.0, 45.0, 45.0, 55.0, 55.0, 105.0, 55.0, 67.0, 35.0, 70.0, 115.0, 80.0, 65.0, 65.0, 105.0, 45.0, 65.0, 45.0, 65.0, 62.0, 82.0, 40.0, 60.0, 40.0, 60.0, 65.0, 85.0, 110.0, 50.0, 60.0, 85.0, 50.0, 63.0, 60.0, 75.0, 95.0, 50.0, 70.0, 60.0, 45.0, 105.0, 55.0, 80.0, 85.0, 105.0, 45.0, 50.0, 60.0, 86.0, 116.0, 60.0, 85.0, 85.0, 40.0, 70.0, 80.0, 55.0, 95.0, 55.0, 60.0, 90.0, 40.0, 50.0, 70.0, 40.0, 65.0, 60.0, 99.0, 84.0, 50.0, 60.0, 90.0, 50.0, 80.0, 40.0, 70.0, 95.0, 50.0, 75.0, 65.0, 95.0, 66.0, 48.0, 50.0, 70.0, 90.0, 55.0, 105.0, 72.0, 90.0, 129.0, 80.0, 90.0, 80.0, 80.0, 120.0, 100.0, 80.0, 80.0, 90.0, 90.0, 100.0, 90.0, 128.0, 77.0, 95.0, 45.0, 58.0, 75.0, 60.0, 70.0, 100.0, 44.0, 56.0, 71.0, 71.0, 36.0, 77.0, 38.0, 52.0, 69.0, 25.0, 30.0, 50.0, 54.0, 66.0, 79.0, 98.0, 128.0, 154.0, 57.0, 81.0, 48.0, 71.0, 90.0, 60.0, 81.0, 37.0, 49.0, 140.0, 50.0, 65.0, 89.0, 57.0, 75.0, 46.0, 75.0, 56.0, 86.0, 60.0, 123.0, 63.0, 89.0, 43.0, 94.0, 45.0, 59.0, 63.0, 92.0, 130.0, 63.0, 67.0, 150.0, 75.0, 113.0, 150.0, 87.0, 60.0, 82.0, 55.0, 55.0, 55.0, 55.0, 75.0, 75.0, 75.0, 75.0, 35.0, 46.0, 40.0, 80.0, 98.0, 98.0, 85.0, 95.0, 95.0, 150.0, 110.0, 130.0, 130.0, 90.0, 50.0, 70.0, 100.0, 40.0, 50.0, 90.0, 56.0, 81.0, 116.0, 30.0, 50.0, 75.0, 30.0, 60.0, 45.0, 75.0, 75.0, 47.0, 67.0, 70.0, 70.0, 70.0, 70.0, 40.0, 70.0, 40.0, 65.0, 75.0, 65.0, 25.0, 135.0, 52.0, 142.0, 55.0, 85.0, 72.0, 132.0, 35.0, 90.0, 75.0, 100.0, 40.0, 60.0, 50.0, 60.0, 38.0, 48.0, 98.0, 110.0, 110.0, 60.0, 30.0, 90.0, 45.0, 75.0, 130.0, 95.0, 95.0, 100.0, 60.0, 95.0, 85.0, 73.0, 105.0, 70.0, 91.0, 90.0, 45.0, 70.0, 105.0, 75.0, 115.0, 95.0, 130.0, 31.0, 131.0, 89.0, 107.0, 131.0, 53.0, 37.0, 71.0, 101.0, 31.0, 53.0, 89.0, 109.0, 127.0, 97.0, 115.0, 90.0, 67.0, 73.0, 101.0, 79.0, 80.0, 35.0, 65.0, 40.0, 60.0, 70.0, 40.0, 60.0, 75.0, 40.0, 55.0, 65.0, 35.0, 75.0, 35.0, 55.0, 85.0, 45.0, 90.0, 120.0, 52.0, 92.0, 60.0, 120.0, 45.0, 90.0, 38.0, 68.0, 50.0, 60.0, 50.0, 70.0, 90.0, 40.0, 60.0, 80.0, 50.0, 70.0, 95.0, 30.0, 50.0, 35.0, 70.0, 50.0, 90.0, 50.0, 80.0, 54.0, 114.0, 53.0, 73.0, 103.0, 40.0, 55.0, 75.0, 81.0, 60.0, 130.0, 82.0, 100.0, 105.0, 61.0, 121.0, 60.0, 85.0, 30.0, 90.0, 20.0, 90.0, 50.0, 95.0, 105.0, 58.0, 49.0, 69.0, 70.0, 80.0, 80.0, 90.0, 50.0, 30.0, 50.0, 75.0, 115.0, 115.0, 115.0, 145.0, 95.0, 250.0], \"xaxis\": \"x5\", \"xbins\": {\"end\": 250, \"size\": 5, \"start\": 20}, \"yaxis\": \"y5\"}, {\"name\": \"Speed\", \"type\": \"histogram\", \"x\": [45.0, 60.0, 80.0, 80.0, 65.0, 80.0, 100.0, 100.0, 100.0, 43.0, 58.0, 78.0, 78.0, 45.0, 30.0, 70.0, 50.0, 35.0, 75.0, 145.0, 56.0, 71.0, 121.0, 72.0, 72.0, 97.0, 77.0, 70.0, 100.0, 55.0, 80.0, 90.0, 120.0, 110.0, 40.0, 40.0, 65.0, 65.0, 41.0, 56.0, 76.0, 50.0, 65.0, 35.0, 60.0, 65.0, 65.0, 100.0, 109.0, 20.0, 45.0, 55.0, 90.0, 30.0, 40.0, 25.0, 30.0, 45.0, 90.0, 95.0, 90.0, 110.0, 90.0, 90.0, 40.0, 115.0, 115.0, 55.0, 85.0, 70.0, 95.0, 60.0, 95.0, 90.0, 90.0, 70.0, 90.0, 105.0, 120.0, 35.0, 45.0, 55.0, 40.0, 55.0, 70.0, 70.0, 100.0, 20.0, 20.0, 35.0, 35.0, 45.0, 90.0, 90.0, 105.0, 105.0, 15.0, 15.0, 30.0, 30.0, 45.0, 70.0, 60.0, 55.0, 75.0, 45.0, 70.0, 25.0, 25.0, 50.0, 50.0, 40.0, 70.0, 80.0, 95.0, 110.0, 130.0, 70.0, 42.0, 67.0, 50.0, 75.0, 100.0, 40.0, 55.0, 45.0, 35.0, 45.0, 45.0, 87.0, 76.0, 30.0, 35.0, 60.0, 60.0, 25.0, 40.0, 50.0, 60.0, 90.0, 100.0, 60.0, 85.0, 63.0, 68.0, 85.0, 115.0, 90.0, 100.0, 105.0, 95.0, 105.0, 93.0, 85.0, 105.0, 110.0, 80.0, 81.0, 81.0, 60.0, 48.0, 55.0, 75.0, 65.0, 130.0, 65.0, 40.0, 35.0, 55.0, 55.0, 80.0, 130.0, 150.0, 30.0, 85.0, 100.0, 90.0, 50.0, 70.0, 80.0, 130.0, 130.0, 140.0, 100.0, 45.0, 60.0, 80.0, 65.0, 80.0, 100.0, 43.0, 58.0, 78.0, 20.0, 90.0, 50.0, 70.0, 55.0, 85.0, 30.0, 40.0, 130.0, 67.0, 67.0, 60.0, 15.0, 15.0, 20.0, 40.0, 70.0, 95.0, 35.0, 45.0, 55.0, 45.0, 50.0, 40.0, 50.0, 30.0, 70.0, 50.0, 80.0, 110.0, 85.0, 30.0, 30.0, 95.0, 15.0, 35.0, 110.0, 65.0, 91.0, 30.0, 85.0, 48.0, 33.0, 85.0, 15.0, 40.0, 45.0, 85.0, 30.0, 30.0, 30.0, 45.0, 85.0, 65.0, 75.0, 5.0, 85.0, 75.0, 115.0, 40.0, 55.0, 20.0, 30.0, 50.0, 50.0, 30.0, 65.0, 45.0, 75.0, 70.0, 65.0, 95.0, 115.0, 85.0, 40.0, 50.0, 60.0, 85.0, 75.0, 35.0, 70.0, 65.0, 95.0, 83.0, 100.0, 55.0, 115.0, 100.0, 85.0, 41.0, 51.0, 61.0, 71.0, 110.0, 90.0, 100.0, 70.0, 95.0, 120.0, 145.0, 45.0, 55.0, 80.0, 100.0, 40.0, 50.0, 60.0, 70.0, 35.0, 70.0, 60.0, 60.0, 100.0, 100.0, 20.0, 15.0, 15.0, 65.0, 30.0, 50.0, 70.0, 30.0, 60.0, 80.0, 85.0, 125.0, 85.0, 65.0, 40.0, 50.0, 80.0, 100.0, 65.0, 35.0, 70.0, 30.0, 90.0, 100.0, 40.0, 160.0, 40.0, 28.0, 48.0, 68.0, 25.0, 50.0, 20.0, 30.0, 50.0, 50.0, 20.0, 50.0, 50.0, 30.0, 40.0, 50.0, 50.0, 60.0, 80.0, 100.0, 65.0, 105.0, 135.0, 95.0, 95.0, 85.0, 85.0, 65.0, 40.0, 55.0, 65.0, 95.0, 105.0, 60.0, 60.0, 35.0, 40.0, 20.0, 20.0, 60.0, 80.0, 60.0, 10.0, 70.0, 100.0, 35.0, 55.0, 50.0, 80.0, 80.0, 90.0, 65.0, 60.0, 60.0, 35.0, 55.0, 55.0, 75.0, 23.0, 43.0, 75.0, 45.0, 80.0, 81.0, 70.0, 40.0, 45.0, 65.0, 75.0, 25.0, 25.0, 51.0, 75.0, 115.0, 23.0, 50.0, 80.0, 100.0, 25.0, 45.0, 65.0, 32.0, 52.0, 52.0, 55.0, 97.0, 50.0, 50.0, 100.0, 120.0, 30.0, 50.0, 70.0, 110.0, 50.0, 50.0, 50.0, 110.0, 110.0, 110.0, 110.0, 90.0, 90.0, 90.0, 90.0, 95.0, 115.0, 100.0, 150.0, 150.0, 90.0, 180.0, 31.0, 36.0, 56.0, 61.0, 81.0, 108.0, 40.0, 50.0, 60.0, 60.0, 80.0, 100.0, 31.0, 71.0, 25.0, 65.0, 45.0, 60.0, 70.0, 55.0, 90.0, 58.0, 58.0, 30.0, 30.0, 36.0, 36.0, 36.0, 36.0, 66.0, 70.0, 40.0, 95.0, 85.0, 115.0, 35.0, 85.0, 34.0, 39.0, 115.0, 70.0, 80.0, 85.0, 105.0, 135.0, 105.0, 71.0, 85.0, 112.0, 45.0, 74.0, 84.0, 23.0, 33.0, 10.0, 60.0, 30.0, 91.0, 35.0, 42.0, 82.0, 102.0, 92.0, 5.0, 60.0, 90.0, 112.0, 32.0, 47.0, 65.0, 95.0, 50.0, 85.0, 46.0, 66.0, 91.0, 50.0, 40.0, 60.0, 30.0, 125.0, 60.0, 50.0, 40.0, 50.0, 95.0, 83.0, 80.0, 95.0, 95.0, 65.0, 95.0, 80.0, 90.0, 80.0, 110.0, 40.0, 45.0, 110.0, 91.0, 86.0, 86.0, 86.0, 86.0, 86.0, 95.0, 80.0, 115.0, 90.0, 100.0, 77.0, 100.0, 90.0, 90.0, 85.0, 80.0, 100.0, 125.0, 100.0, 127.0, 120.0, 100.0, 63.0, 83.0, 113.0, 45.0, 55.0, 65.0, 45.0, 60.0, 70.0, 42.0, 77.0, 55.0, 60.0, 66.0, 106.0, 64.0, 101.0, 64.0, 101.0, 64.0, 101.0, 24.0, 29.0, 43.0, 65.0, 76.0, 116.0, 15.0, 20.0, 25.0, 114.0, 68.0, 88.0, 50.0, 50.0, 35.0, 40.0, 45.0, 64.0, 69.0, 74.0, 45.0, 85.0, 42.0, 42.0, 92.0, 57.0, 47.0, 66.0, 116.0, 30.0, 90.0, 98.0, 65.0, 74.0, 92.0, 50.0, 50.0, 95.0, 95.0, 55.0, 135.0, 60.0, 55.0, 48.0, 58.0, 97.0, 30.0, 30.0, 30.0, 22.0, 32.0, 70.0, 110.0, 65.0, 75.0, 65.0, 105.0, 75.0, 115.0, 45.0, 55.0, 65.0, 20.0, 30.0, 30.0, 55.0, 98.0, 44.0, 59.0, 79.0, 75.0, 95.0, 103.0, 60.0, 20.0, 15.0, 30.0, 40.0, 60.0, 65.0, 65.0, 108.0, 10.0, 20.0, 30.0, 50.0, 90.0, 60.0, 40.0, 50.0, 30.0, 40.0, 20.0, 55.0, 80.0, 57.0, 67.0, 97.0, 40.0, 25.0, 145.0, 32.0, 32.0, 65.0, 105.0, 48.0, 35.0, 55.0, 60.0, 70.0, 55.0, 60.0, 80.0, 60.0, 80.0, 65.0, 109.0, 38.0, 58.0, 98.0, 60.0, 100.0, 108.0, 108.0, 108.0, 111.0, 121.0, 111.0, 101.0, 90.0, 90.0, 101.0, 91.0, 95.0, 95.0, 95.0, 108.0, 90.0, 128.0, 99.0, 38.0, 57.0, 64.0, 60.0, 73.0, 104.0, 71.0, 97.0, 122.0, 132.0, 57.0, 78.0, 62.0, 84.0, 126.0, 35.0, 29.0, 89.0, 72.0, 106.0, 42.0, 52.0, 92.0, 75.0, 52.0, 68.0, 43.0, 58.0, 102.0, 68.0, 104.0, 28.0, 35.0, 60.0, 60.0, 23.0, 29.0, 49.0, 72.0, 45.0, 73.0, 50.0, 68.0, 30.0, 44.0, 44.0, 59.0, 70.0, 109.0, 48.0, 71.0, 46.0, 58.0, 60.0, 118.0, 101.0, 50.0, 40.0, 60.0, 80.0, 75.0, 38.0, 56.0, 56.0, 51.0, 46.0, 41.0, 99.0, 84.0, 69.0, 54.0, 28.0, 28.0, 55.0, 123.0, 99.0, 99.0, 115.0, 95.0, 85.0, 50.0, 110.0, 70.0, 80.0, 70.0, 42.0, 52.0, 70.0, 70.0, 90.0, 60.0, 40.0, 50.0, 60.0, 65.0, 75.0, 60.0, 45.0, 45.0, 56.0, 36.0, 43.0, 63.0, 43.0, 93.0, 93.0, 93.0, 93.0, 84.0, 124.0, 60.0, 112.0, 82.0, 110.0, 40.0, 30.0, 45.0, 35.0, 45.0, 35.0, 27.0, 42.0, 35.0, 45.0, 15.0, 30.0, 77.0, 117.0, 50.0, 60.0, 32.0, 62.0, 72.0, 100.0, 60.0, 80.0, 80.0, 40.0, 15.0, 35.0, 5.0, 59.0, 95.0, 60.0, 120.0, 65.0, 36.0, 96.0, 96.0, 92.0, 36.0, 40.0, 45.0, 65.0, 85.0, 130.0, 95.0, 75.0, 85.0, 37.0, 37.0, 97.0, 97.0, 103.0, 79.0, 151.0, 83.0, 61.0, 109.0, 43.0, 79.0, 77.0, 77.0, 129.0, 65.0, 90.0, 73.0, 121.0, 13.0, 107.0, 143.0, 34.0, 34.0, 65.0, 80.0, 85.0, 69.0, 94.0, 119.0, 70.0, 90.0, 120.0, 25.0, 20.0, 57.0, 77.0, 67.0, 45.0, 30.0, 90.0, 50.0, 90.0, 10.0, 60.0, 48.0, 88.0, 44.0, 74.0, 26.0, 121.0, 30.0, 50.0, 30.0, 20.0, 70.0, 30.0, 46.0, 71.0, 85.0, 66.0, 136.0, 40.0, 75.0, 45.0, 65.0, 32.0, 42.0, 50.0, 70.0, 39.0, 49.0, 29.0, 50.0, 70.0, 60.0, 95.0, 50.0, 30.0, 65.0, 70.0, 30.0, 34.0, 64.0, 75.0, 15.0, 20.0, 65.0, 70.0, 50.0, 130.0, 95.0, 85.0, 97.0, 40.0, 30.0, 75.0, 55.0, 75.0, 55.0, 85.0, 82.0, 102.0, 142.0, 138.0, 148.0, 138.0, 128.0, 130.0, 130.0], \"xaxis\": \"x6\", \"xbins\": {\"end\": 180, \"size\": 5, \"start\": 5}, \"yaxis\": \"y6\"}],\n",
       "                        {\"annotations\": [{\"font\": {\"size\": 16}, \"showarrow\": false, \"text\": \"HP\", \"x\": 0.225, \"xanchor\": \"center\", \"xref\": \"paper\", \"y\": 1.0, \"yanchor\": \"bottom\", \"yref\": \"paper\"}, {\"font\": {\"size\": 16}, \"showarrow\": false, \"text\": \"Attack\", \"x\": 0.775, \"xanchor\": \"center\", \"xref\": \"paper\", \"y\": 1.0, \"yanchor\": \"bottom\", \"yref\": \"paper\"}, {\"font\": {\"size\": 16}, \"showarrow\": false, \"text\": \"Defense\", \"x\": 0.225, \"xanchor\": \"center\", \"xref\": \"paper\", \"y\": 0.6111111111111112, \"yanchor\": \"bottom\", \"yref\": \"paper\"}, {\"font\": {\"size\": 16}, \"showarrow\": false, \"text\": \"Special Attack\", \"x\": 0.775, \"xanchor\": \"center\", \"xref\": \"paper\", \"y\": 0.6111111111111112, \"yanchor\": \"bottom\", \"yref\": \"paper\"}, {\"font\": {\"size\": 16}, \"showarrow\": false, \"text\": \"Special Defense\", \"x\": 0.225, \"xanchor\": \"center\", \"xref\": \"paper\", \"y\": 0.22222222222222224, \"yanchor\": \"bottom\", \"yref\": \"paper\"}, {\"font\": {\"size\": 16}, \"showarrow\": false, \"text\": \"Speed\", \"x\": 0.775, \"xanchor\": \"center\", \"xref\": \"paper\", \"y\": 0.22222222222222224, \"yanchor\": \"bottom\", \"yref\": \"paper\"}], \"height\": 1000, \"template\": {\"data\": {\"bar\": [{\"error_x\": {\"color\": \"#2a3f5f\"}, \"error_y\": {\"color\": \"#2a3f5f\"}, \"marker\": {\"line\": {\"color\": \"#E5ECF6\", \"width\": 0.5}}, \"type\": \"bar\"}], \"barpolar\": [{\"marker\": {\"line\": {\"color\": \"#E5ECF6\", \"width\": 0.5}}, \"type\": \"barpolar\"}], \"carpet\": [{\"aaxis\": {\"endlinecolor\": \"#2a3f5f\", \"gridcolor\": \"white\", \"linecolor\": \"white\", \"minorgridcolor\": \"white\", \"startlinecolor\": \"#2a3f5f\"}, \"baxis\": {\"endlinecolor\": \"#2a3f5f\", \"gridcolor\": \"white\", \"linecolor\": \"white\", \"minorgridcolor\": \"white\", \"startlinecolor\": \"#2a3f5f\"}, \"type\": \"carpet\"}], \"choropleth\": [{\"colorbar\": {\"outlinewidth\": 0, \"ticks\": \"\"}, \"type\": \"choropleth\"}], \"contour\": [{\"colorbar\": {\"outlinewidth\": 0, \"ticks\": \"\"}, \"colorscale\": [[0.0, \"#0d0887\"], [0.1111111111111111, \"#46039f\"], [0.2222222222222222, \"#7201a8\"], [0.3333333333333333, \"#9c179e\"], [0.4444444444444444, \"#bd3786\"], [0.5555555555555556, \"#d8576b\"], [0.6666666666666666, \"#ed7953\"], [0.7777777777777778, \"#fb9f3a\"], [0.8888888888888888, \"#fdca26\"], [1.0, \"#f0f921\"]], \"type\": \"contour\"}], \"contourcarpet\": [{\"colorbar\": {\"outlinewidth\": 0, \"ticks\": \"\"}, \"type\": \"contourcarpet\"}], \"heatmap\": [{\"colorbar\": {\"outlinewidth\": 0, \"ticks\": \"\"}, \"colorscale\": [[0.0, \"#0d0887\"], [0.1111111111111111, \"#46039f\"], [0.2222222222222222, \"#7201a8\"], [0.3333333333333333, \"#9c179e\"], [0.4444444444444444, \"#bd3786\"], [0.5555555555555556, \"#d8576b\"], [0.6666666666666666, \"#ed7953\"], [0.7777777777777778, \"#fb9f3a\"], [0.8888888888888888, \"#fdca26\"], [1.0, \"#f0f921\"]], \"type\": \"heatmap\"}], \"heatmapgl\": [{\"colorbar\": {\"outlinewidth\": 0, \"ticks\": \"\"}, \"colorscale\": [[0.0, \"#0d0887\"], [0.1111111111111111, \"#46039f\"], [0.2222222222222222, \"#7201a8\"], [0.3333333333333333, \"#9c179e\"], [0.4444444444444444, \"#bd3786\"], [0.5555555555555556, \"#d8576b\"], [0.6666666666666666, \"#ed7953\"], [0.7777777777777778, \"#fb9f3a\"], [0.8888888888888888, \"#fdca26\"], [1.0, \"#f0f921\"]], \"type\": \"heatmapgl\"}], \"histogram\": [{\"marker\": {\"colorbar\": {\"outlinewidth\": 0, \"ticks\": \"\"}}, \"type\": \"histogram\"}], \"histogram2d\": [{\"colorbar\": {\"outlinewidth\": 0, \"ticks\": \"\"}, \"colorscale\": [[0.0, \"#0d0887\"], [0.1111111111111111, \"#46039f\"], [0.2222222222222222, \"#7201a8\"], [0.3333333333333333, \"#9c179e\"], [0.4444444444444444, \"#bd3786\"], [0.5555555555555556, \"#d8576b\"], [0.6666666666666666, \"#ed7953\"], [0.7777777777777778, \"#fb9f3a\"], [0.8888888888888888, \"#fdca26\"], [1.0, \"#f0f921\"]], \"type\": \"histogram2d\"}], \"histogram2dcontour\": [{\"colorbar\": {\"outlinewidth\": 0, \"ticks\": \"\"}, \"colorscale\": [[0.0, \"#0d0887\"], [0.1111111111111111, \"#46039f\"], [0.2222222222222222, \"#7201a8\"], [0.3333333333333333, \"#9c179e\"], [0.4444444444444444, \"#bd3786\"], [0.5555555555555556, \"#d8576b\"], [0.6666666666666666, \"#ed7953\"], [0.7777777777777778, \"#fb9f3a\"], [0.8888888888888888, \"#fdca26\"], [1.0, \"#f0f921\"]], \"type\": \"histogram2dcontour\"}], \"mesh3d\": [{\"colorbar\": {\"outlinewidth\": 0, \"ticks\": \"\"}, \"type\": \"mesh3d\"}], \"parcoords\": [{\"line\": {\"colorbar\": {\"outlinewidth\": 0, \"ticks\": \"\"}}, \"type\": \"parcoords\"}], \"pie\": [{\"automargin\": true, \"type\": \"pie\"}], \"scatter\": [{\"marker\": {\"colorbar\": {\"outlinewidth\": 0, \"ticks\": \"\"}}, \"type\": \"scatter\"}], \"scatter3d\": [{\"line\": {\"colorbar\": {\"outlinewidth\": 0, \"ticks\": \"\"}}, \"marker\": {\"colorbar\": {\"outlinewidth\": 0, \"ticks\": \"\"}}, \"type\": \"scatter3d\"}], \"scattercarpet\": [{\"marker\": {\"colorbar\": {\"outlinewidth\": 0, \"ticks\": \"\"}}, \"type\": \"scattercarpet\"}], \"scattergeo\": [{\"marker\": {\"colorbar\": {\"outlinewidth\": 0, \"ticks\": \"\"}}, \"type\": \"scattergeo\"}], \"scattergl\": [{\"marker\": {\"colorbar\": {\"outlinewidth\": 0, \"ticks\": \"\"}}, \"type\": \"scattergl\"}], \"scattermapbox\": [{\"marker\": {\"colorbar\": {\"outlinewidth\": 0, \"ticks\": \"\"}}, \"type\": \"scattermapbox\"}], \"scatterpolar\": [{\"marker\": {\"colorbar\": {\"outlinewidth\": 0, \"ticks\": \"\"}}, \"type\": \"scatterpolar\"}], \"scatterpolargl\": [{\"marker\": {\"colorbar\": {\"outlinewidth\": 0, \"ticks\": \"\"}}, \"type\": \"scatterpolargl\"}], \"scatterternary\": [{\"marker\": {\"colorbar\": {\"outlinewidth\": 0, \"ticks\": \"\"}}, \"type\": \"scatterternary\"}], \"surface\": [{\"colorbar\": {\"outlinewidth\": 0, \"ticks\": \"\"}, \"colorscale\": [[0.0, \"#0d0887\"], [0.1111111111111111, \"#46039f\"], [0.2222222222222222, \"#7201a8\"], [0.3333333333333333, \"#9c179e\"], [0.4444444444444444, \"#bd3786\"], [0.5555555555555556, \"#d8576b\"], [0.6666666666666666, \"#ed7953\"], [0.7777777777777778, \"#fb9f3a\"], [0.8888888888888888, \"#fdca26\"], [1.0, \"#f0f921\"]], \"type\": \"surface\"}], \"table\": [{\"cells\": {\"fill\": {\"color\": \"#EBF0F8\"}, \"line\": {\"color\": \"white\"}}, \"header\": {\"fill\": {\"color\": \"#C8D4E3\"}, \"line\": {\"color\": \"white\"}}, \"type\": \"table\"}]}, \"layout\": {\"annotationdefaults\": {\"arrowcolor\": \"#2a3f5f\", \"arrowhead\": 0, \"arrowwidth\": 1}, \"coloraxis\": {\"colorbar\": {\"outlinewidth\": 0, \"ticks\": \"\"}}, \"colorscale\": {\"diverging\": [[0, \"#8e0152\"], [0.1, \"#c51b7d\"], [0.2, \"#de77ae\"], [0.3, \"#f1b6da\"], [0.4, \"#fde0ef\"], [0.5, \"#f7f7f7\"], [0.6, \"#e6f5d0\"], [0.7, \"#b8e186\"], [0.8, \"#7fbc41\"], [0.9, \"#4d9221\"], [1, \"#276419\"]], \"sequential\": [[0.0, \"#0d0887\"], [0.1111111111111111, \"#46039f\"], [0.2222222222222222, \"#7201a8\"], [0.3333333333333333, \"#9c179e\"], [0.4444444444444444, \"#bd3786\"], [0.5555555555555556, \"#d8576b\"], [0.6666666666666666, \"#ed7953\"], [0.7777777777777778, \"#fb9f3a\"], [0.8888888888888888, \"#fdca26\"], [1.0, \"#f0f921\"]], \"sequentialminus\": [[0.0, \"#0d0887\"], [0.1111111111111111, \"#46039f\"], [0.2222222222222222, \"#7201a8\"], [0.3333333333333333, \"#9c179e\"], [0.4444444444444444, \"#bd3786\"], [0.5555555555555556, \"#d8576b\"], [0.6666666666666666, \"#ed7953\"], [0.7777777777777778, \"#fb9f3a\"], [0.8888888888888888, \"#fdca26\"], [1.0, \"#f0f921\"]]}, \"colorway\": [\"#636efa\", \"#EF553B\", \"#00cc96\", \"#ab63fa\", \"#FFA15A\", \"#19d3f3\", \"#FF6692\", \"#B6E880\", \"#FF97FF\", \"#FECB52\"], \"font\": {\"color\": \"#2a3f5f\"}, \"geo\": {\"bgcolor\": \"white\", \"lakecolor\": \"white\", \"landcolor\": \"#E5ECF6\", \"showlakes\": true, \"showland\": true, \"subunitcolor\": \"white\"}, \"hoverlabel\": {\"align\": \"left\"}, \"hovermode\": \"closest\", \"mapbox\": {\"style\": \"light\"}, \"paper_bgcolor\": \"white\", \"plot_bgcolor\": \"#E5ECF6\", \"polar\": {\"angularaxis\": {\"gridcolor\": \"white\", \"linecolor\": \"white\", \"ticks\": \"\"}, \"bgcolor\": \"#E5ECF6\", \"radialaxis\": {\"gridcolor\": \"white\", \"linecolor\": \"white\", \"ticks\": \"\"}}, \"scene\": {\"xaxis\": {\"backgroundcolor\": \"#E5ECF6\", \"gridcolor\": \"white\", \"gridwidth\": 2, \"linecolor\": \"white\", \"showbackground\": true, \"ticks\": \"\", \"zerolinecolor\": \"white\"}, \"yaxis\": {\"backgroundcolor\": \"#E5ECF6\", \"gridcolor\": \"white\", \"gridwidth\": 2, \"linecolor\": \"white\", \"showbackground\": true, \"ticks\": \"\", \"zerolinecolor\": \"white\"}, \"zaxis\": {\"backgroundcolor\": \"#E5ECF6\", \"gridcolor\": \"white\", \"gridwidth\": 2, \"linecolor\": \"white\", \"showbackground\": true, \"ticks\": \"\", \"zerolinecolor\": \"white\"}}, \"shapedefaults\": {\"line\": {\"color\": \"#2a3f5f\"}}, \"ternary\": {\"aaxis\": {\"gridcolor\": \"white\", \"linecolor\": \"white\", \"ticks\": \"\"}, \"baxis\": {\"gridcolor\": \"white\", \"linecolor\": \"white\", \"ticks\": \"\"}, \"bgcolor\": \"#E5ECF6\", \"caxis\": {\"gridcolor\": \"white\", \"linecolor\": \"white\", \"ticks\": \"\"}}, \"title\": {\"x\": 0.05}, \"xaxis\": {\"automargin\": true, \"gridcolor\": \"white\", \"linecolor\": \"white\", \"ticks\": \"\", \"title\": {\"standoff\": 15}, \"zerolinecolor\": \"white\", \"zerolinewidth\": 2}, \"yaxis\": {\"automargin\": true, \"gridcolor\": \"white\", \"linecolor\": \"white\", \"ticks\": \"\", \"title\": {\"standoff\": 15}, \"zerolinecolor\": \"white\", \"zerolinewidth\": 2}}}, \"title\": {\"text\": \"Base stats distribution\"}, \"width\": 1000, \"xaxis\": {\"anchor\": \"y\", \"domain\": [0.0, 0.45]}, \"xaxis2\": {\"anchor\": \"y2\", \"domain\": [0.55, 1.0]}, \"xaxis3\": {\"anchor\": \"y3\", \"domain\": [0.0, 0.45]}, \"xaxis4\": {\"anchor\": \"y4\", \"domain\": [0.55, 1.0]}, \"xaxis5\": {\"anchor\": \"y5\", \"domain\": [0.0, 0.45]}, \"xaxis6\": {\"anchor\": \"y6\", \"domain\": [0.55, 1.0]}, \"yaxis\": {\"anchor\": \"x\", \"domain\": [0.7777777777777778, 1.0]}, \"yaxis2\": {\"anchor\": \"x2\", \"domain\": [0.7777777777777778, 1.0]}, \"yaxis3\": {\"anchor\": \"x3\", \"domain\": [0.3888888888888889, 0.6111111111111112]}, \"yaxis4\": {\"anchor\": \"x4\", \"domain\": [0.3888888888888889, 0.6111111111111112]}, \"yaxis5\": {\"anchor\": \"x5\", \"domain\": [0.0, 0.22222222222222224]}, \"yaxis6\": {\"anchor\": \"x6\", \"domain\": [0.0, 0.22222222222222224]}},\n",
       "                        {\"responsive\": true}\n",
       "                    ).then(function(){\n",
       "                            \n",
       "var gd = document.getElementById('3b72ba7e-4ce4-4520-af0a-fe9a2d0b4396');\n",
       "var x = new MutationObserver(function (mutations, observer) {{\n",
       "        var display = window.getComputedStyle(gd).display;\n",
       "        if (!display || display === 'none') {{\n",
       "            console.log([gd, 'removed!']);\n",
       "            Plotly.purge(gd);\n",
       "            observer.disconnect();\n",
       "        }}\n",
       "}});\n",
       "\n",
       "// Listen for the removal of the full notebook cells\n",
       "var notebookContainer = gd.closest('#notebook-container');\n",
       "if (notebookContainer) {{\n",
       "    x.observe(notebookContainer, {childList: true});\n",
       "}}\n",
       "\n",
       "// Listen for the clearing of the current output cell\n",
       "var outputEl = gd.closest('.output');\n",
       "if (outputEl) {{\n",
       "    x.observe(outputEl, {childList: true});\n",
       "}}\n",
       "\n",
       "                        })\n",
       "                };\n",
       "                });\n",
       "            </script>\n",
       "        </div>"
      ]
     },
     "metadata": {},
     "output_type": "display_data"
    }
   ],
   "source": [
    "from plotly.subplots import make_subplots\n",
    "import plotly.graph_objects as go\n",
    "\n",
    "fig = make_subplots(rows=3,\n",
    "                    cols=2,\n",
    "                    subplot_titles=(\"HP\", \"Attack\", \"Defense\",\n",
    "                                    \"Special Attack\", \"Special Defense\",\n",
    "                                    \"Speed\"))\n",
    "\n",
    "fig.add_trace(go.Histogram(x=stats[\"HP\"],\n",
    "                           name=\"HP\",\n",
    "                           xbins=dict(start=1, end=255, size=5)),\n",
    "              row=1,\n",
    "              col=1)\n",
    "\n",
    "fig.add_trace(go.Histogram(x=stats[\"Attack\"],\n",
    "                           name=\"Attack\",\n",
    "                           xbins=dict(start=5, end=190, size=5)),\n",
    "              row=1,\n",
    "              col=2)\n",
    "\n",
    "fig.add_trace(go.Histogram(x=stats[\"Defense\"],\n",
    "                           name=\"Defense\",\n",
    "                           xbins=dict(start=5, end=250, size=5)),\n",
    "              row=2,\n",
    "              col=1)\n",
    "\n",
    "fig.add_trace(go.Histogram(x=stats[\"Special Attack\"],\n",
    "                           name=\"Special Attack\",\n",
    "                           xbins=dict(start=10, end=194, size=5)),\n",
    "              row=2,\n",
    "              col=2)\n",
    "\n",
    "fig.add_trace(go.Histogram(x=stats[\"Special Defense\"],\n",
    "                           name=\"Special Defense\",\n",
    "                           xbins=dict(start=20, end=250, size=5)),\n",
    "              row=3,\n",
    "              col=1)\n",
    "\n",
    "fig.add_trace(go.Histogram(x=stats[\"Speed\"],\n",
    "                           name=\"Speed\",\n",
    "                           xbins=dict(start=5, end=180, size=5)),\n",
    "              row=3,\n",
    "              col=2)\n",
    "\n",
    "fig.update_layout(height=1000,\n",
    "                  width=1000,\n",
    "                  title_text=\"Base stats distribution\")\n",
    "\n",
    "fig.show()"
   ]
  },
  {
   "cell_type": "markdown",
   "metadata": {},
   "source": [
    "### Wikidex dataset insights"
   ]
  },
  {
   "cell_type": "markdown",
   "metadata": {
    "heading_collapsed": true
   },
   "source": [
    "#### Comment about Base Stats distribution through the whole list of Pokémon.\n",
    "\n",
    "`Shape:`\n",
    "All the distributions are right-skewed, slightly in *Attack* and *Speed* instances, which are closer to a normal distribution; but none is Wald distributed as they had no support on (0,∞). \n",
    "\n",
    "`Centre:`\n",
    "The stat with the highest mean is *Attack* (80.11) whilst the lowest is *Speed* (67.96) being all-together with *HP* (69.53) the only stats with below overall stats mean (72.78) means.\n",
    "\n",
    "`Spread:`\n",
    "The stat that holds the biggest spread is *HP* (1-255) whereas *Speed* (5-180) has the lowest range of values.\n",
    "\n",
    "`Kurtosis:`\n",
    "Defensive stats (*HP, Defense and Special Defense*) seem to be more Leptokurtic, especially *HP*. On the other hand, offensive-related base stats are more Mesokurtic, being *Speed* the best example.\n"
   ]
  },
  {
   "cell_type": "markdown",
   "metadata": {},
   "source": [
    "## Combined dataset"
   ]
  },
  {
   "cell_type": "markdown",
   "metadata": {},
   "source": [
    "### Combined dataset EDA and cleaning"
   ]
  },
  {
   "cell_type": "code",
   "execution_count": 26,
   "metadata": {
    "ExecuteTime": {
     "end_time": "2020-03-21T11:06:12.169472Z",
     "start_time": "2020-03-21T11:06:12.160710Z"
    }
   },
   "outputs": [],
   "source": [
    "combined = pd.read_csv(\"data/Combined_DF_clean.csv\")"
   ]
  },
  {
   "cell_type": "code",
   "execution_count": 27,
   "metadata": {
    "ExecuteTime": {
     "end_time": "2020-03-21T11:06:12.285584Z",
     "start_time": "2020-03-21T11:06:12.172105Z"
    }
   },
   "outputs": [
    {
     "data": {
      "text/plain": [
       "(197, 18)"
      ]
     },
     "execution_count": 27,
     "metadata": {},
     "output_type": "execute_result"
    }
   ],
   "source": [
    "combined.shape"
   ]
  },
  {
   "cell_type": "code",
   "execution_count": 28,
   "metadata": {
    "ExecuteTime": {
     "end_time": "2020-03-21T11:06:12.417478Z",
     "start_time": "2020-03-21T11:06:12.287572Z"
    }
   },
   "outputs": [
    {
     "name": "stdout",
     "output_type": "stream",
     "text": [
      "<class 'pandas.core.frame.DataFrame'>\n",
      "RangeIndex: 197 entries, 0 to 196\n",
      "Data columns (total 18 columns):\n",
      " #   Column                      Non-Null Count  Dtype  \n",
      "---  ------                      --------------  -----  \n",
      " 0   Unnamed: 0                  197 non-null    int64  \n",
      " 1   National Dex #              197 non-null    int64  \n",
      " 2   Pokémon                     197 non-null    object \n",
      " 3   Type                        197 non-null    object \n",
      " 4   Base HP                     197 non-null    float64\n",
      " 5   Base Attack                 197 non-null    float64\n",
      " 6   Base Defense                197 non-null    float64\n",
      " 7   Base Special Attack         197 non-null    float64\n",
      " 8   Base Special Defense        197 non-null    float64\n",
      " 9   Base Speed                  197 non-null    float64\n",
      " 10  Base Stats Mean             197 non-null    float64\n",
      " 11  Base Stats SD               197 non-null    float64\n",
      " 12  VGC 2020 Usage Rank         196 non-null    float64\n",
      " 13  VGC 2020 Usage %            196 non-null    float64\n",
      " 14  Competitive viability       197 non-null    object \n",
      " 15  Most frequent teammate      197 non-null    object \n",
      " 16  2nd most frequent teammate  197 non-null    object \n",
      " 17  3rd most frequent teammate  197 non-null    object \n",
      "dtypes: float64(10), int64(2), object(6)\n",
      "memory usage: 27.8+ KB\n"
     ]
    }
   ],
   "source": [
    "combined.info()"
   ]
  },
  {
   "cell_type": "code",
   "execution_count": 29,
   "metadata": {
    "ExecuteTime": {
     "end_time": "2020-03-21T11:06:12.538505Z",
     "start_time": "2020-03-21T11:06:12.419417Z"
    }
   },
   "outputs": [
    {
     "data": {
      "text/html": [
       "<div>\n",
       "<style scoped>\n",
       "    .dataframe tbody tr th:only-of-type {\n",
       "        vertical-align: middle;\n",
       "    }\n",
       "\n",
       "    .dataframe tbody tr th {\n",
       "        vertical-align: top;\n",
       "    }\n",
       "\n",
       "    .dataframe thead th {\n",
       "        text-align: right;\n",
       "    }\n",
       "</style>\n",
       "<table border=\"1\" class=\"dataframe\">\n",
       "  <thead>\n",
       "    <tr style=\"text-align: right;\">\n",
       "      <th></th>\n",
       "      <th>Unnamed: 0</th>\n",
       "      <th>National Dex #</th>\n",
       "      <th>Pokémon</th>\n",
       "      <th>Type</th>\n",
       "      <th>Base HP</th>\n",
       "      <th>Base Attack</th>\n",
       "      <th>Base Defense</th>\n",
       "      <th>Base Special Attack</th>\n",
       "      <th>Base Special Defense</th>\n",
       "      <th>Base Speed</th>\n",
       "      <th>Base Stats Mean</th>\n",
       "      <th>Base Stats SD</th>\n",
       "      <th>VGC 2020 Usage Rank</th>\n",
       "      <th>VGC 2020 Usage %</th>\n",
       "      <th>Competitive viability</th>\n",
       "      <th>Most frequent teammate</th>\n",
       "      <th>2nd most frequent teammate</th>\n",
       "      <th>3rd most frequent teammate</th>\n",
       "    </tr>\n",
       "  </thead>\n",
       "  <tbody>\n",
       "    <tr>\n",
       "      <th>0</th>\n",
       "      <td>0</td>\n",
       "      <td>468</td>\n",
       "      <td>Togekiss</td>\n",
       "      <td>['fairy', 'flying']</td>\n",
       "      <td>85.0</td>\n",
       "      <td>50.0</td>\n",
       "      <td>95.0</td>\n",
       "      <td>120.0</td>\n",
       "      <td>115.0</td>\n",
       "      <td>80.0</td>\n",
       "      <td>90.83</td>\n",
       "      <td>23.35</td>\n",
       "      <td>1.0</td>\n",
       "      <td>46.0</td>\n",
       "      <td>B</td>\n",
       "      <td>Excadrill 38.536% ['ground', 'steel']</td>\n",
       "      <td>Arcanine 35.593% ['fire']</td>\n",
       "      <td>Dragapult 33.117% ['dragon', 'ghost']</td>\n",
       "    </tr>\n",
       "    <tr>\n",
       "      <th>1</th>\n",
       "      <td>1</td>\n",
       "      <td>59</td>\n",
       "      <td>Arcanine</td>\n",
       "      <td>['fire']</td>\n",
       "      <td>90.0</td>\n",
       "      <td>110.0</td>\n",
       "      <td>80.0</td>\n",
       "      <td>100.0</td>\n",
       "      <td>80.0</td>\n",
       "      <td>95.0</td>\n",
       "      <td>92.50</td>\n",
       "      <td>10.70</td>\n",
       "      <td>2.0</td>\n",
       "      <td>36.0</td>\n",
       "      <td>B</td>\n",
       "      <td>Togekiss 45.687% ['fairy', 'flying']</td>\n",
       "      <td>Dragapult 30.663% ['dragon', 'ghost']</td>\n",
       "      <td>Tyranitar 28.847% ['rock', 'dark']</td>\n",
       "    </tr>\n",
       "    <tr>\n",
       "      <th>2</th>\n",
       "      <td>2</td>\n",
       "      <td>887</td>\n",
       "      <td>Dragapult</td>\n",
       "      <td>['dragon', 'ghost']</td>\n",
       "      <td>88.0</td>\n",
       "      <td>120.0</td>\n",
       "      <td>75.0</td>\n",
       "      <td>100.0</td>\n",
       "      <td>75.0</td>\n",
       "      <td>142.0</td>\n",
       "      <td>100.00</td>\n",
       "      <td>24.35</td>\n",
       "      <td>3.0</td>\n",
       "      <td>31.0</td>\n",
       "      <td>B</td>\n",
       "      <td>Togekiss 48.228% ['fairy', 'flying']</td>\n",
       "      <td>Excadrill 38.133% ['ground', 'steel']</td>\n",
       "      <td>Arcanine 34.788% ['fire']</td>\n",
       "    </tr>\n",
       "    <tr>\n",
       "      <th>3</th>\n",
       "      <td>3</td>\n",
       "      <td>530</td>\n",
       "      <td>Excadrill</td>\n",
       "      <td>['ground', 'steel']</td>\n",
       "      <td>110.0</td>\n",
       "      <td>135.0</td>\n",
       "      <td>60.0</td>\n",
       "      <td>50.0</td>\n",
       "      <td>65.0</td>\n",
       "      <td>88.0</td>\n",
       "      <td>84.67</td>\n",
       "      <td>29.95</td>\n",
       "      <td>4.0</td>\n",
       "      <td>30.0</td>\n",
       "      <td>B</td>\n",
       "      <td>Togekiss 59.572% ['fairy', 'flying']</td>\n",
       "      <td>Tyranitar 47.122% ['rock', 'dark']</td>\n",
       "      <td>Dragapult 40.479% ['dragon', 'ghost']</td>\n",
       "    </tr>\n",
       "    <tr>\n",
       "      <th>4</th>\n",
       "      <td>4</td>\n",
       "      <td>547</td>\n",
       "      <td>Whimsicott</td>\n",
       "      <td>['grass', 'fairy']</td>\n",
       "      <td>60.0</td>\n",
       "      <td>67.0</td>\n",
       "      <td>85.0</td>\n",
       "      <td>77.0</td>\n",
       "      <td>75.0</td>\n",
       "      <td>116.0</td>\n",
       "      <td>80.00</td>\n",
       "      <td>17.91</td>\n",
       "      <td>5.0</td>\n",
       "      <td>29.0</td>\n",
       "      <td>B-</td>\n",
       "      <td>Duraludon 36.074% ['steel', 'dragon']</td>\n",
       "      <td>Togekiss 32.431% ['fairy', 'flying']</td>\n",
       "      <td>Arcanine 25.983% ['fire']</td>\n",
       "    </tr>\n",
       "  </tbody>\n",
       "</table>\n",
       "</div>"
      ],
      "text/plain": [
       "   Unnamed: 0  National Dex #     Pokémon                 Type  Base HP  \\\n",
       "0           0             468    Togekiss  ['fairy', 'flying']     85.0   \n",
       "1           1              59    Arcanine             ['fire']     90.0   \n",
       "2           2             887   Dragapult  ['dragon', 'ghost']     88.0   \n",
       "3           3             530   Excadrill  ['ground', 'steel']    110.0   \n",
       "4           4             547  Whimsicott   ['grass', 'fairy']     60.0   \n",
       "\n",
       "   Base Attack  Base Defense  Base Special Attack  Base Special Defense  \\\n",
       "0         50.0          95.0                120.0                 115.0   \n",
       "1        110.0          80.0                100.0                  80.0   \n",
       "2        120.0          75.0                100.0                  75.0   \n",
       "3        135.0          60.0                 50.0                  65.0   \n",
       "4         67.0          85.0                 77.0                  75.0   \n",
       "\n",
       "   Base Speed  Base Stats Mean  Base Stats SD  VGC 2020 Usage Rank  \\\n",
       "0        80.0            90.83          23.35                  1.0   \n",
       "1        95.0            92.50          10.70                  2.0   \n",
       "2       142.0           100.00          24.35                  3.0   \n",
       "3        88.0            84.67          29.95                  4.0   \n",
       "4       116.0            80.00          17.91                  5.0   \n",
       "\n",
       "   VGC 2020 Usage % Competitive viability  \\\n",
       "0              46.0                     B   \n",
       "1              36.0                     B   \n",
       "2              31.0                     B   \n",
       "3              30.0                     B   \n",
       "4              29.0                    B-   \n",
       "\n",
       "                  Most frequent teammate  \\\n",
       "0  Excadrill 38.536% ['ground', 'steel']   \n",
       "1   Togekiss 45.687% ['fairy', 'flying']   \n",
       "2   Togekiss 48.228% ['fairy', 'flying']   \n",
       "3   Togekiss 59.572% ['fairy', 'flying']   \n",
       "4  Duraludon 36.074% ['steel', 'dragon']   \n",
       "\n",
       "              2nd most frequent teammate  \\\n",
       "0              Arcanine 35.593% ['fire']   \n",
       "1  Dragapult 30.663% ['dragon', 'ghost']   \n",
       "2  Excadrill 38.133% ['ground', 'steel']   \n",
       "3     Tyranitar 47.122% ['rock', 'dark']   \n",
       "4   Togekiss 32.431% ['fairy', 'flying']   \n",
       "\n",
       "              3rd most frequent teammate  \n",
       "0  Dragapult 33.117% ['dragon', 'ghost']  \n",
       "1     Tyranitar 28.847% ['rock', 'dark']  \n",
       "2              Arcanine 34.788% ['fire']  \n",
       "3  Dragapult 40.479% ['dragon', 'ghost']  \n",
       "4              Arcanine 25.983% ['fire']  "
      ]
     },
     "execution_count": 29,
     "metadata": {},
     "output_type": "execute_result"
    }
   ],
   "source": [
    "combined.head()"
   ]
  },
  {
   "cell_type": "code",
   "execution_count": 30,
   "metadata": {
    "ExecuteTime": {
     "end_time": "2020-03-21T11:06:12.652244Z",
     "start_time": "2020-03-21T11:06:12.540401Z"
    }
   },
   "outputs": [
    {
     "data": {
      "text/html": [
       "<div>\n",
       "<style scoped>\n",
       "    .dataframe tbody tr th:only-of-type {\n",
       "        vertical-align: middle;\n",
       "    }\n",
       "\n",
       "    .dataframe tbody tr th {\n",
       "        vertical-align: top;\n",
       "    }\n",
       "\n",
       "    .dataframe thead th {\n",
       "        text-align: right;\n",
       "    }\n",
       "</style>\n",
       "<table border=\"1\" class=\"dataframe\">\n",
       "  <thead>\n",
       "    <tr style=\"text-align: right;\">\n",
       "      <th></th>\n",
       "      <th>Unnamed: 0</th>\n",
       "      <th>National Dex #</th>\n",
       "      <th>Pokémon</th>\n",
       "      <th>Type</th>\n",
       "      <th>Base HP</th>\n",
       "      <th>Base Attack</th>\n",
       "      <th>Base Defense</th>\n",
       "      <th>Base Special Attack</th>\n",
       "      <th>Base Special Defense</th>\n",
       "      <th>Base Speed</th>\n",
       "      <th>Base Stats Mean</th>\n",
       "      <th>Base Stats SD</th>\n",
       "      <th>VGC 2020 Usage Rank</th>\n",
       "      <th>VGC 2020 Usage %</th>\n",
       "      <th>Competitive viability</th>\n",
       "      <th>Most frequent teammate</th>\n",
       "      <th>2nd most frequent teammate</th>\n",
       "      <th>3rd most frequent teammate</th>\n",
       "    </tr>\n",
       "  </thead>\n",
       "  <tbody>\n",
       "    <tr>\n",
       "      <th>192</th>\n",
       "      <td>192</td>\n",
       "      <td>338</td>\n",
       "      <td>Solrock</td>\n",
       "      <td>['rock', 'psychic']</td>\n",
       "      <td>9026.0</td>\n",
       "      <td>95.0</td>\n",
       "      <td>85.0</td>\n",
       "      <td>55.0</td>\n",
       "      <td>65.0</td>\n",
       "      <td>70.0</td>\n",
       "      <td>76.67</td>\n",
       "      <td>14.34</td>\n",
       "      <td>220.0</td>\n",
       "      <td>0.0</td>\n",
       "      <td>C</td>\n",
       "      <td>Torkoal 75.838% ['fire']</td>\n",
       "      <td>Obstagoon 68.307% ['dark', 'normal']</td>\n",
       "      <td>Dracozolt 68.292% ['electric', 'dragon']</td>\n",
       "    </tr>\n",
       "    <tr>\n",
       "      <th>193</th>\n",
       "      <td>193</td>\n",
       "      <td>546</td>\n",
       "      <td>Cottonee</td>\n",
       "      <td>['grass', 'fairy']</td>\n",
       "      <td>40.0</td>\n",
       "      <td>27.0</td>\n",
       "      <td>60.0</td>\n",
       "      <td>37.0</td>\n",
       "      <td>50.0</td>\n",
       "      <td>66.0</td>\n",
       "      <td>46.67</td>\n",
       "      <td>13.46</td>\n",
       "      <td>221.0</td>\n",
       "      <td>0.0</td>\n",
       "      <td>C</td>\n",
       "      <td>Excadrill 68.691% ['ground', 'steel']</td>\n",
       "      <td>Vanilluxe 51.546% ['ice']</td>\n",
       "      <td>Togekiss 51.127% ['fairy', 'flying']</td>\n",
       "    </tr>\n",
       "    <tr>\n",
       "      <th>194</th>\n",
       "      <td>194</td>\n",
       "      <td>538</td>\n",
       "      <td>Throh</td>\n",
       "      <td>['fighting']</td>\n",
       "      <td>120.0</td>\n",
       "      <td>100.0</td>\n",
       "      <td>85.0</td>\n",
       "      <td>30.0</td>\n",
       "      <td>85.0</td>\n",
       "      <td>45.0</td>\n",
       "      <td>77.50</td>\n",
       "      <td>30.92</td>\n",
       "      <td>222.0</td>\n",
       "      <td>0.0</td>\n",
       "      <td>C+</td>\n",
       "      <td>Gyarados 59.921% ['water', 'flying']</td>\n",
       "      <td>Arcanine 59.832% ['fire']</td>\n",
       "      <td>Whimsicott 59.695% ['grass', 'fairy']</td>\n",
       "    </tr>\n",
       "    <tr>\n",
       "      <th>195</th>\n",
       "      <td>195</td>\n",
       "      <td>422</td>\n",
       "      <td>Shellos</td>\n",
       "      <td>['water']</td>\n",
       "      <td>76.0</td>\n",
       "      <td>48.0</td>\n",
       "      <td>48.0</td>\n",
       "      <td>57.0</td>\n",
       "      <td>62.0</td>\n",
       "      <td>34.0</td>\n",
       "      <td>54.17</td>\n",
       "      <td>13.09</td>\n",
       "      <td>223.0</td>\n",
       "      <td>0.0</td>\n",
       "      <td>C-</td>\n",
       "      <td>Indeedee-F 95.882% ['psychic', 'normal']</td>\n",
       "      <td>Rhyperior 95.882% ['ground', 'rock']</td>\n",
       "      <td>Hatterene 86.486% ['psychic', 'fairy']</td>\n",
       "    </tr>\n",
       "    <tr>\n",
       "      <th>196</th>\n",
       "      <td>196</td>\n",
       "      <td>202</td>\n",
       "      <td>Wobbuffet</td>\n",
       "      <td>['psychic']</td>\n",
       "      <td>190.0</td>\n",
       "      <td>33.0</td>\n",
       "      <td>58.0</td>\n",
       "      <td>33.0</td>\n",
       "      <td>58.0</td>\n",
       "      <td>33.0</td>\n",
       "      <td>67.50</td>\n",
       "      <td>55.91</td>\n",
       "      <td>224.0</td>\n",
       "      <td>0.0</td>\n",
       "      <td>D+</td>\n",
       "      <td>Lapras 66.298% ['water', 'ice']</td>\n",
       "      <td>Gothitelle 51.576% ['psychic']</td>\n",
       "      <td>Gengar 44.001% ['ghost', 'poison']</td>\n",
       "    </tr>\n",
       "  </tbody>\n",
       "</table>\n",
       "</div>"
      ],
      "text/plain": [
       "     Unnamed: 0  National Dex #    Pokémon                 Type  Base HP  \\\n",
       "192         192             338    Solrock  ['rock', 'psychic']   9026.0   \n",
       "193         193             546   Cottonee   ['grass', 'fairy']     40.0   \n",
       "194         194             538      Throh         ['fighting']    120.0   \n",
       "195         195             422    Shellos            ['water']     76.0   \n",
       "196         196             202  Wobbuffet          ['psychic']    190.0   \n",
       "\n",
       "     Base Attack  Base Defense  Base Special Attack  Base Special Defense  \\\n",
       "192         95.0          85.0                 55.0                  65.0   \n",
       "193         27.0          60.0                 37.0                  50.0   \n",
       "194        100.0          85.0                 30.0                  85.0   \n",
       "195         48.0          48.0                 57.0                  62.0   \n",
       "196         33.0          58.0                 33.0                  58.0   \n",
       "\n",
       "     Base Speed  Base Stats Mean  Base Stats SD  VGC 2020 Usage Rank  \\\n",
       "192        70.0            76.67          14.34                220.0   \n",
       "193        66.0            46.67          13.46                221.0   \n",
       "194        45.0            77.50          30.92                222.0   \n",
       "195        34.0            54.17          13.09                223.0   \n",
       "196        33.0            67.50          55.91                224.0   \n",
       "\n",
       "     VGC 2020 Usage % Competitive viability  \\\n",
       "192               0.0                     C   \n",
       "193               0.0                     C   \n",
       "194               0.0                    C+   \n",
       "195               0.0                    C-   \n",
       "196               0.0                    D+   \n",
       "\n",
       "                       Most frequent teammate  \\\n",
       "192                  Torkoal 75.838% ['fire']   \n",
       "193     Excadrill 68.691% ['ground', 'steel']   \n",
       "194      Gyarados 59.921% ['water', 'flying']   \n",
       "195  Indeedee-F 95.882% ['psychic', 'normal']   \n",
       "196           Lapras 66.298% ['water', 'ice']   \n",
       "\n",
       "               2nd most frequent teammate  \\\n",
       "192  Obstagoon 68.307% ['dark', 'normal']   \n",
       "193             Vanilluxe 51.546% ['ice']   \n",
       "194             Arcanine 59.832% ['fire']   \n",
       "195  Rhyperior 95.882% ['ground', 'rock']   \n",
       "196        Gothitelle 51.576% ['psychic']   \n",
       "\n",
       "                   3rd most frequent teammate  \n",
       "192  Dracozolt 68.292% ['electric', 'dragon']  \n",
       "193      Togekiss 51.127% ['fairy', 'flying']  \n",
       "194     Whimsicott 59.695% ['grass', 'fairy']  \n",
       "195    Hatterene 86.486% ['psychic', 'fairy']  \n",
       "196        Gengar 44.001% ['ghost', 'poison']  "
      ]
     },
     "execution_count": 30,
     "metadata": {},
     "output_type": "execute_result"
    }
   ],
   "source": [
    "combined.tail()"
   ]
  },
  {
   "cell_type": "code",
   "execution_count": 31,
   "metadata": {
    "ExecuteTime": {
     "end_time": "2020-03-21T11:06:12.823320Z",
     "start_time": "2020-03-21T11:06:12.654230Z"
    }
   },
   "outputs": [],
   "source": [
    "combined[\"Base HP\"] = combined[\"Base HP\"].replace(\"901\", \"90\").replace(\n",
    "    \"953\", \"95\").replace(\"404\", \"40\").replace(\"505\", \"50\").replace(\n",
    "        \"927\", \"92\").replace(\"959\", \"95\").replace(\"8510\", \"85\").replace(\n",
    "            \"85 10\", \"85\").replace(\"7013\", \"70\").replace(\"9015\", \"90\").replace(\n",
    "                \"8618\",\n",
    "                \"86\").replace(\"7019\", \"70\").replace(\"6020\", \"60\").replace(\n",
    "                    \"8521\",\n",
    "                    \"85\").replace(\"6022\", \"60\").replace(\"6523\", \"65\").replace(\n",
    "                        \"65 23\", \"65\").replace(\"7325\", \"73\").replace(\n",
    "                            \"9026\", \"90\").replace(\"90 26\", \"90\").replace(\n",
    "                                \"6527\", \"65\").replace(\"65 27\", \"65\").replace(\n",
    "                                    \"8030\", \"80\").replace(\n",
    "                                        \"9531\", \"95\").replace(\n",
    "                                            \"5034\", \"50\"\n",
    ").replace(\"959\", \"95\").replace(\n",
    "                                            \"9011\",\n",
    "                                            \"90\"\n",
    ").replace(\n",
    "                                            \"7515\",\n",
    "                                            \"75\"\n",
    ").replace(\n",
    "                                            \"8515\",\n",
    "                                            \"85\"\n",
    ").replace(\"85 15\", \"85\").replace(\n",
    "                                            \"8019\",\n",
    "                                            \"80\").replace(\n",
    "                                                \"7522\",\n",
    "                                                \"75\").replace(\n",
    "                                                    \"7523\",\n",
    "                                                    \"75\").replace(\n",
    "                                                        \"8026\",\n",
    "                                                        \"80\"\n",
    ").replace(\n",
    "                                                        \"140 35\",\n",
    "                                                        \"140\").replace(\n",
    "                                                            \" \", \"\").replace(\n",
    "                                                                \",\",\n",
    "                                                                \".\").astype(\n",
    "                                                                    str)\n",
    "combined[\"Base Attack\"] = combined[\"Base Attack\"].replace(\"901\", \"90\").replace(\n",
    "    \"953\", \"95\").replace(\"404\", \"40\").replace(\"505\", \"50\").replace(\n",
    "        \"927\", \"92\").replace(\"959\", \"95\").replace(\"8510\", \"85\").replace(\n",
    "            \"85 10\", \"85\").replace(\"7013\", \"70\").replace(\"9015\", \"90\").replace(\n",
    "                \"8618\",\n",
    "                \"86\").replace(\"7019\", \"70\").replace(\"6020\", \"60\").replace(\n",
    "                    \"8521\",\n",
    "                    \"85\").replace(\"6022\", \"60\").replace(\"6523\", \"65\").replace(\n",
    "                        \"65 23\", \"65\").replace(\"7325\", \"73\").replace(\n",
    "                            \"9026\", \"90\").replace(\"90 26\", \"90\").replace(\n",
    "                                \"6527\", \"65\").replace(\"65 27\", \"65\").replace(\n",
    "                                    \"8030\", \"80\").replace(\n",
    "                                        \"9531\", \"95\").replace(\n",
    "                                            \"5034\", \"50\"\n",
    ").replace(\"959\", \"95\").replace(\n",
    "                                            \"9011\",\n",
    "                                            \"90\"\n",
    ").replace(\n",
    "                                            \"7515\",\n",
    "                                            \"75\"\n",
    ").replace(\n",
    "                                            \"8515\",\n",
    "                                            \"85\"\n",
    ").replace(\"85 15\", \"85\").replace(\n",
    "                                            \"8019\",\n",
    "                                            \"80\").replace(\n",
    "                                                \"7522\",\n",
    "                                                \"75\").replace(\n",
    "                                                    \"7523\",\n",
    "                                                    \"75\").replace(\n",
    "                                                        \"8026\",\n",
    "                                                        \"80\"\n",
    ").replace(\n",
    "                                                        \"140 35\",\n",
    "                                                        \"140\").replace(\n",
    "                                                            \" \", \"\").replace(\n",
    "                                                                \",\",\n",
    "                                                                \".\").astype(\n",
    "                                                                    str)\n",
    "combined[\"Base Defense\"] = combined[\"Base Defense\"].replace(\n",
    "    \"901\", \"90\").replace(\"953\", \"95\").replace(\"404\", \"40\").replace(\n",
    "        \"505\", \"50\").replace(\"927\", \"92\").replace(\"959\", \"95\").replace(\n",
    "            \"8510\", \"85\").replace(\"85 10\", \"85\").replace(\"7013\", \"70\").replace(\n",
    "                \"9015\",\n",
    "                \"90\").replace(\"8618\", \"86\").replace(\"7019\", \"70\").replace(\n",
    "                    \"6020\",\n",
    "                    \"60\").replace(\"8521\", \"85\").replace(\"6022\", \"60\").replace(\n",
    "                        \"6523\", \"65\").replace(\"65 23\", \"65\").replace(\n",
    "                            \"7325\", \"73\").replace(\"9026\", \"90\").replace(\n",
    "                                \"90 26\", \"90\").replace(\"6527\", \"65\").replace(\n",
    "                                    \"65 27\",\n",
    "                                    \"65\").replace(\"8030\", \"80\").replace(\n",
    "                                        \"9531\", \"95\").replace(\n",
    "                                            \"5034\", \"50\"\n",
    ").replace(\"959\", \"95\").replace(\n",
    "                                            \"9011\",\n",
    "                                            \"90\"\n",
    ").replace(\n",
    "                                            \"7515\",\n",
    "                                            \"75\"\n",
    ").replace(\n",
    "                                            \"8515\",\n",
    "                                            \"85\"\n",
    ").replace(\"85 15\", \"85\").replace(\n",
    "                                            \"8019\",\n",
    "                                            \"80\").replace(\n",
    "                                                \"7522\",\n",
    "                                                \"75\").replace(\n",
    "                                                    \"7523\",\n",
    "                                                    \"75\").replace(\n",
    "                                                        \"8026\",\n",
    "                                                        \"80\"\n",
    ").replace(\n",
    "                                                        \"140 35\",\n",
    "                                                        \"140\").replace(\n",
    "                                                            \" \", \"\").replace(\n",
    "                                                                \",\",\n",
    "                                                                \".\").astype(\n",
    "                                                                    str)\n",
    "combined[\"Base Special Attack\"] = combined[\"Base Special Attack\"].replace(\n",
    "    \"901\", \"90\").replace(\"953\", \"95\").replace(\"404\", \"40\").replace(\n",
    "        \"505\", \"50\").replace(\"927\", \"92\").replace(\"959\", \"95\").replace(\n",
    "            \"8510\", \"85\").replace(\"85 10\", \"85\").replace(\"7013\", \"70\").replace(\n",
    "                \"9015\",\n",
    "                \"90\").replace(\"8618\", \"86\").replace(\"7019\", \"70\").replace(\n",
    "                    \"6020\",\n",
    "                    \"60\").replace(\"8521\", \"85\").replace(\"6022\", \"60\").replace(\n",
    "                        \"6523\", \"65\").replace(\"65 23\", \"65\").replace(\n",
    "                            \"7325\", \"73\").replace(\"9026\", \"90\").replace(\n",
    "                                \"90 26\", \"90\").replace(\"6527\", \"65\").replace(\n",
    "                                    \"65 27\",\n",
    "                                    \"65\").replace(\"8030\", \"80\").replace(\n",
    "                                        \"9531\", \"95\").replace(\n",
    "                                            \"5034\", \"50\"\n",
    ").replace(\"959\", \"95\").replace(\n",
    "                                            \"9011\",\n",
    "                                            \"90\"\n",
    ").replace(\n",
    "                                            \"7515\",\n",
    "                                            \"75\"\n",
    ").replace(\n",
    "                                            \"8515\",\n",
    "                                            \"85\"\n",
    ").replace(\"85 15\", \"85\").replace(\n",
    "                                            \"8019\",\n",
    "                                            \"80\").replace(\n",
    "                                                \"7522\",\n",
    "                                                \"75\").replace(\n",
    "                                                    \"7523\",\n",
    "                                                    \"75\").replace(\n",
    "                                                        \"8026\",\n",
    "                                                        \"80\"\n",
    ").replace(\n",
    "                                                        \"140 35\",\n",
    "                                                        \"140\").replace(\n",
    "                                                            \" \", \"\").replace(\n",
    "                                                                \",\",\n",
    "                                                                \".\").astype(\n",
    "                                                                    str)\n",
    "combined[\"Base Special Defense\"] = combined[\"Base Special Defense\"].replace(\n",
    "    \"901\", \"90\").replace(\"953\", \"95\").replace(\"404\", \"40\").replace(\n",
    "        \"505\", \"50\").replace(\"927\", \"92\").replace(\"959\", \"95\").replace(\n",
    "            \"8510\", \"85\").replace(\"85 10\", \"85\").replace(\"7013\", \"70\").replace(\n",
    "                \"9015\",\n",
    "                \"90\").replace(\"8618\", \"86\").replace(\"7019\", \"70\").replace(\n",
    "                    \"6020\",\n",
    "                    \"60\").replace(\"8521\", \"85\").replace(\"6022\", \"60\").replace(\n",
    "                        \"6523\", \"65\").replace(\"65 23\", \"65\").replace(\n",
    "                            \"7325\", \"73\").replace(\"9026\", \"90\").replace(\n",
    "                                \"90 26\", \"90\").replace(\"6527\", \"65\").replace(\n",
    "                                    \"65 27\",\n",
    "                                    \"65\").replace(\"8030\", \"80\").replace(\n",
    "                                        \"9531\", \"95\").replace(\n",
    "                                            \"5034\", \"50\"\n",
    ").replace(\"959\", \"95\").replace(\n",
    "                                            \"9011\",\n",
    "                                            \"90\"\n",
    ").replace(\n",
    "                                            \"7515\",\n",
    "                                            \"75\"\n",
    ").replace(\n",
    "                                            \"8515\",\n",
    "                                            \"85\"\n",
    ").replace(\"85 15\", \"85\").replace(\n",
    "                                            \"8019\",\n",
    "                                            \"80\").replace(\n",
    "                                                \"7522\",\n",
    "                                                \"75\").replace(\n",
    "                                                    \"7523\",\n",
    "                                                    \"75\").replace(\n",
    "                                                        \"8026\",\n",
    "                                                        \"80\"\n",
    ").replace(\n",
    "                                                        \"140 35\",\n",
    "                                                        \"140\").replace(\n",
    "                                                            \" \", \"\").replace(\n",
    "                                                                \",\",\n",
    "                                                                \".\").astype(\n",
    "                                                                    str)\n",
    "combined[\"Base Speed\"] = combined[\"Base Speed\"].replace(\"901\", \"90\").replace(\n",
    "    \"953\", \"95\").replace(\"404\", \"40\").replace(\"505\", \"50\").replace(\n",
    "        \"927\", \"92\").replace(\"959\", \"95\").replace(\"8510\", \"85\").replace(\n",
    "            \"85 10\", \"85\").replace(\"7013\", \"70\").replace(\"9015\", \"90\").replace(\n",
    "                \"8618\",\n",
    "                \"86\").replace(\"7019\", \"70\").replace(\"6020\", \"60\").replace(\n",
    "                    \"8521\",\n",
    "                    \"85\").replace(\"6022\", \"60\").replace(\"6523\", \"65\").replace(\n",
    "                        \"65 23\", \"65\").replace(\"7325\", \"73\").replace(\n",
    "                            \"9026\", \"90\").replace(\"90 26\", \"90\").replace(\n",
    "                                \"6527\", \"65\").replace(\"65 27\", \"65\").replace(\n",
    "                                    \"8030\", \"80\").replace(\n",
    "                                        \"9531\", \"95\").replace(\n",
    "                                            \"5034\", \"50\"\n",
    ").replace(\"959\", \"95\").replace(\n",
    "                                            \"9011\",\n",
    "                                            \"90\"\n",
    ").replace(\n",
    "                                            \"7515\",\n",
    "                                            \"75\"\n",
    ").replace(\n",
    "                                            \"8515\",\n",
    "                                            \"85\"\n",
    ").replace(\"85 15\", \"85\").replace(\n",
    "                                            \"8019\",\n",
    "                                            \"80\").replace(\n",
    "                                                \"7522\",\n",
    "                                                \"75\").replace(\n",
    "                                                    \"7523\",\n",
    "                                                    \"75\").replace(\n",
    "                                                        \"8026\",\n",
    "                                                        \"80\"\n",
    ").replace(\n",
    "                                                        \"140 35\",\n",
    "                                                        \"140\").replace(\n",
    "                                                            \" \", \"\").replace(\n",
    "                                                                \",\",\n",
    "                                                                \".\").astype(\n",
    "                                                                    str)"
   ]
  },
  {
   "cell_type": "code",
   "execution_count": 32,
   "metadata": {
    "ExecuteTime": {
     "end_time": "2020-03-21T11:06:12.959384Z",
     "start_time": "2020-03-21T11:06:12.824477Z"
    }
   },
   "outputs": [],
   "source": [
    "combined_stats = combined.drop(\n",
    "    [\"Unnamed: 0\", \"Base Stats Mean\", \"Base Stats SD\"], axis=1)\n",
    "\n",
    "combined_new_HP = [re.findall(\"^.{3}\", s) for s in combined_stats[\"Base HP\"]]\n",
    "combined_new_Attack = [\n",
    "    re.findall(\"^.{3}\", s) for s in combined_stats[\"Base Attack\"]\n",
    "]\n",
    "combined_new_Defense = [\n",
    "    re.findall(\"^.{3}\", s) for s in combined_stats[\"Base Defense\"]\n",
    "]\n",
    "combined_new_Special_Attack = [\n",
    "    re.findall(\"^.{3}\", s) for s in combined_stats[\"Base Special Attack\"]\n",
    "]\n",
    "combined_new_Special_Defense = [\n",
    "    re.findall(\"^.{3}\", s) for s in combined_stats[\"Base Special Defense\"]\n",
    "]\n",
    "combined_new_Speed = [\n",
    "    re.findall(\"^.{3}\", s) for s in combined_stats[\"Base Speed\"]\n",
    "]"
   ]
  },
  {
   "cell_type": "code",
   "execution_count": 33,
   "metadata": {
    "ExecuteTime": {
     "end_time": "2020-03-21T11:06:13.076218Z",
     "start_time": "2020-03-21T11:06:12.961384Z"
    }
   },
   "outputs": [],
   "source": [
    "combined_new_HP = pd.DataFrame(combined_new_HP)\n",
    "combined_new_Attack = pd.DataFrame(combined_new_Attack)\n",
    "combined_new_Defense = pd.DataFrame(combined_new_Defense)\n",
    "combined_new_Special_Attack = pd.DataFrame(combined_new_Special_Attack)\n",
    "combined_new_Special_Defense = pd.DataFrame(combined_new_Special_Defense)\n",
    "combined_new_Speed = pd.DataFrame(combined_new_Speed)"
   ]
  },
  {
   "cell_type": "code",
   "execution_count": 34,
   "metadata": {
    "ExecuteTime": {
     "end_time": "2020-03-21T11:06:13.180335Z",
     "start_time": "2020-03-21T11:06:13.078255Z"
    }
   },
   "outputs": [],
   "source": [
    "combined_new_stats = pd.concat([\n",
    "    combined[\"Pokémon\"], combined_new_HP, combined_new_Attack,\n",
    "    combined_new_Defense, combined_new_Special_Attack,\n",
    "    combined_new_Special_Defense, combined_new_Speed\n",
    "],\n",
    "    axis=1)"
   ]
  },
  {
   "cell_type": "code",
   "execution_count": 35,
   "metadata": {
    "ExecuteTime": {
     "end_time": "2020-03-21T11:06:13.294347Z",
     "start_time": "2020-03-21T11:06:13.182331Z"
    }
   },
   "outputs": [],
   "source": [
    "combined_new_stats.columns = [\n",
    "    \"Pokémon\", \"Base HP\", \"Base Attack\", \"Base Defense\", \"Base Special Attack\",\n",
    "    \"Base Special Defense\", \"Base Speed\"\n",
    "]"
   ]
  },
  {
   "cell_type": "code",
   "execution_count": 36,
   "metadata": {
    "ExecuteTime": {
     "end_time": "2020-03-21T11:06:13.411472Z",
     "start_time": "2020-03-21T11:06:13.296341Z"
    }
   },
   "outputs": [],
   "source": [
    "combined_clean = pd.merge(combined,\n",
    "                          combined_new_stats,\n",
    "                          how=\"left\",\n",
    "                          left_on=[\n",
    "                              \"Pokémon\", \"Base HP\", \"Base Attack\",\n",
    "                              \"Base Defense\", \"Base Special Attack\",\n",
    "                              \"Base Special Defense\", \"Base Speed\"\n",
    "                          ],\n",
    "                          right_on=[\n",
    "                              \"Pokémon\", \"Base HP\", \"Base Attack\",\n",
    "                              \"Base Defense\", \"Base Special Attack\",\n",
    "                              \"Base Special Defense\", \"Base Speed\"\n",
    "                          ])"
   ]
  },
  {
   "cell_type": "code",
   "execution_count": 37,
   "metadata": {
    "ExecuteTime": {
     "end_time": "2020-03-21T11:06:13.526590Z",
     "start_time": "2020-03-21T11:06:13.413034Z"
    }
   },
   "outputs": [],
   "source": [
    "combined_clean[\"Base HP\"] = combined_clean[\"Base HP\"].astype(float)\n",
    "combined_clean[\"Base Attack\"] = combined_clean[\"Base Attack\"].astype(float)\n",
    "combined_clean[\"Base Defense\"] = combined_clean[\"Base Defense\"].astype(float)\n",
    "combined_clean[\"Base Special Attack\"] = combined_clean[\n",
    "    \"Base Special Attack\"].astype(float)\n",
    "combined_clean[\"Base Special Defense\"] = combined_clean[\n",
    "    \"Base Special Defense\"].astype(float)\n",
    "combined_clean[\"Base Speed\"] = combined_clean[\"Base Speed\"].astype(float)"
   ]
  },
  {
   "cell_type": "code",
   "execution_count": 38,
   "metadata": {
    "ExecuteTime": {
     "end_time": "2020-03-21T11:06:13.631028Z",
     "start_time": "2020-03-21T11:06:13.529577Z"
    }
   },
   "outputs": [],
   "source": [
    "errorsCombined = combined_clean.loc[\n",
    "    (combined_clean[\"Base HP\"] > 255) | (combined_clean[\"Base Attack\"] > 255) |\n",
    "    (combined_clean[\"Base Defense\"] > 255) |\n",
    "    (combined_clean[\"Base Special Attack\"] > 255) |\n",
    "    (combined_clean[\"Base Special Defense\"] > 255) |\n",
    "    (combined_clean[\"Base Speed\"] > 255)]"
   ]
  },
  {
   "cell_type": "markdown",
   "metadata": {},
   "source": [
    "Aceptaremos realizar un drop con los datos que siguen estando erroneos dado que todos tienen un usage inferior al 5%"
   ]
  },
  {
   "cell_type": "code",
   "execution_count": 39,
   "metadata": {
    "ExecuteTime": {
     "end_time": "2020-03-21T11:06:13.732459Z",
     "start_time": "2020-03-21T11:06:13.633781Z"
    }
   },
   "outputs": [],
   "source": [
    "combined = combined_clean.drop(\n",
    "    [33, 38, 44, 48, 52, 73, 74, 80, 89, 109, 122, 149, 153, 188, 191, 192],\n",
    "    axis=0)"
   ]
  },
  {
   "cell_type": "code",
   "execution_count": 40,
   "metadata": {
    "ExecuteTime": {
     "end_time": "2020-03-21T11:06:13.887973Z",
     "start_time": "2020-03-21T11:06:13.734456Z"
    }
   },
   "outputs": [
    {
     "data": {
      "text/html": [
       "<div>\n",
       "<style scoped>\n",
       "    .dataframe tbody tr th:only-of-type {\n",
       "        vertical-align: middle;\n",
       "    }\n",
       "\n",
       "    .dataframe tbody tr th {\n",
       "        vertical-align: top;\n",
       "    }\n",
       "\n",
       "    .dataframe thead th {\n",
       "        text-align: right;\n",
       "    }\n",
       "</style>\n",
       "<table border=\"1\" class=\"dataframe\">\n",
       "  <thead>\n",
       "    <tr style=\"text-align: right;\">\n",
       "      <th></th>\n",
       "      <th>count</th>\n",
       "      <th>mean</th>\n",
       "      <th>std</th>\n",
       "      <th>min</th>\n",
       "      <th>25%</th>\n",
       "      <th>50%</th>\n",
       "      <th>75%</th>\n",
       "      <th>max</th>\n",
       "    </tr>\n",
       "  </thead>\n",
       "  <tbody>\n",
       "    <tr>\n",
       "      <th>National Dex #</th>\n",
       "      <td>181.0</td>\n",
       "      <td>556.149171</td>\n",
       "      <td>257.181075</td>\n",
       "      <td>6.00</td>\n",
       "      <td>344.00</td>\n",
       "      <td>596.00</td>\n",
       "      <td>778.00</td>\n",
       "      <td>887.00</td>\n",
       "    </tr>\n",
       "    <tr>\n",
       "      <th>Base HP</th>\n",
       "      <td>181.0</td>\n",
       "      <td>77.745856</td>\n",
       "      <td>25.287273</td>\n",
       "      <td>1.00</td>\n",
       "      <td>60.00</td>\n",
       "      <td>72.00</td>\n",
       "      <td>90.00</td>\n",
       "      <td>190.00</td>\n",
       "    </tr>\n",
       "    <tr>\n",
       "      <th>Base Attack</th>\n",
       "      <td>181.0</td>\n",
       "      <td>87.723757</td>\n",
       "      <td>27.674716</td>\n",
       "      <td>10.00</td>\n",
       "      <td>65.00</td>\n",
       "      <td>90.00</td>\n",
       "      <td>110.00</td>\n",
       "      <td>147.00</td>\n",
       "    </tr>\n",
       "    <tr>\n",
       "      <th>Base Defense</th>\n",
       "      <td>181.0</td>\n",
       "      <td>86.292818</td>\n",
       "      <td>29.744979</td>\n",
       "      <td>40.00</td>\n",
       "      <td>65.00</td>\n",
       "      <td>80.00</td>\n",
       "      <td>100.00</td>\n",
       "      <td>230.00</td>\n",
       "    </tr>\n",
       "    <tr>\n",
       "      <th>Base Special Attack</th>\n",
       "      <td>181.0</td>\n",
       "      <td>77.723757</td>\n",
       "      <td>27.584032</td>\n",
       "      <td>10.00</td>\n",
       "      <td>57.00</td>\n",
       "      <td>77.00</td>\n",
       "      <td>95.00</td>\n",
       "      <td>145.00</td>\n",
       "    </tr>\n",
       "    <tr>\n",
       "      <th>Base Special Defense</th>\n",
       "      <td>181.0</td>\n",
       "      <td>83.220994</td>\n",
       "      <td>25.591574</td>\n",
       "      <td>20.00</td>\n",
       "      <td>65.00</td>\n",
       "      <td>80.00</td>\n",
       "      <td>95.00</td>\n",
       "      <td>230.00</td>\n",
       "    </tr>\n",
       "    <tr>\n",
       "      <th>Base Speed</th>\n",
       "      <td>181.0</td>\n",
       "      <td>68.215470</td>\n",
       "      <td>29.785772</td>\n",
       "      <td>5.00</td>\n",
       "      <td>42.00</td>\n",
       "      <td>67.00</td>\n",
       "      <td>88.00</td>\n",
       "      <td>145.00</td>\n",
       "    </tr>\n",
       "    <tr>\n",
       "      <th>Base Stats Mean</th>\n",
       "      <td>181.0</td>\n",
       "      <td>80.153867</td>\n",
       "      <td>9.819484</td>\n",
       "      <td>39.33</td>\n",
       "      <td>77.67</td>\n",
       "      <td>81.67</td>\n",
       "      <td>85.00</td>\n",
       "      <td>100.00</td>\n",
       "    </tr>\n",
       "    <tr>\n",
       "      <th>Base Stats SD</th>\n",
       "      <td>181.0</td>\n",
       "      <td>24.015746</td>\n",
       "      <td>11.511506</td>\n",
       "      <td>0.00</td>\n",
       "      <td>16.75</td>\n",
       "      <td>23.33</td>\n",
       "      <td>28.82</td>\n",
       "      <td>103.22</td>\n",
       "    </tr>\n",
       "    <tr>\n",
       "      <th>VGC 2020 Usage Rank</th>\n",
       "      <td>180.0</td>\n",
       "      <td>109.838889</td>\n",
       "      <td>64.332079</td>\n",
       "      <td>1.00</td>\n",
       "      <td>55.50</td>\n",
       "      <td>110.50</td>\n",
       "      <td>161.50</td>\n",
       "      <td>224.00</td>\n",
       "    </tr>\n",
       "    <tr>\n",
       "      <th>VGC 2020 Usage %</th>\n",
       "      <td>180.0</td>\n",
       "      <td>2.933333</td>\n",
       "      <td>6.943990</td>\n",
       "      <td>0.00</td>\n",
       "      <td>0.00</td>\n",
       "      <td>0.00</td>\n",
       "      <td>1.25</td>\n",
       "      <td>46.00</td>\n",
       "    </tr>\n",
       "  </tbody>\n",
       "</table>\n",
       "</div>"
      ],
      "text/plain": [
       "                      count        mean         std    min     25%     50%  \\\n",
       "National Dex #        181.0  556.149171  257.181075   6.00  344.00  596.00   \n",
       "Base HP               181.0   77.745856   25.287273   1.00   60.00   72.00   \n",
       "Base Attack           181.0   87.723757   27.674716  10.00   65.00   90.00   \n",
       "Base Defense          181.0   86.292818   29.744979  40.00   65.00   80.00   \n",
       "Base Special Attack   181.0   77.723757   27.584032  10.00   57.00   77.00   \n",
       "Base Special Defense  181.0   83.220994   25.591574  20.00   65.00   80.00   \n",
       "Base Speed            181.0   68.215470   29.785772   5.00   42.00   67.00   \n",
       "Base Stats Mean       181.0   80.153867    9.819484  39.33   77.67   81.67   \n",
       "Base Stats SD         181.0   24.015746   11.511506   0.00   16.75   23.33   \n",
       "VGC 2020 Usage Rank   180.0  109.838889   64.332079   1.00   55.50  110.50   \n",
       "VGC 2020 Usage %      180.0    2.933333    6.943990   0.00    0.00    0.00   \n",
       "\n",
       "                         75%     max  \n",
       "National Dex #        778.00  887.00  \n",
       "Base HP                90.00  190.00  \n",
       "Base Attack           110.00  147.00  \n",
       "Base Defense          100.00  230.00  \n",
       "Base Special Attack    95.00  145.00  \n",
       "Base Special Defense   95.00  230.00  \n",
       "Base Speed             88.00  145.00  \n",
       "Base Stats Mean        85.00  100.00  \n",
       "Base Stats SD          28.82  103.22  \n",
       "VGC 2020 Usage Rank   161.50  224.00  \n",
       "VGC 2020 Usage %        1.25   46.00  "
      ]
     },
     "execution_count": 40,
     "metadata": {},
     "output_type": "execute_result"
    }
   ],
   "source": [
    "combined = combined.drop([\"Unnamed: 0\"], axis=1)\n",
    "combined.describe().T"
   ]
  },
  {
   "cell_type": "markdown",
   "metadata": {},
   "source": [
    "### Combined dataset visualization"
   ]
  },
  {
   "cell_type": "code",
   "execution_count": 41,
   "metadata": {
    "ExecuteTime": {
     "end_time": "2020-03-21T11:06:16.279143Z",
     "start_time": "2020-03-21T11:06:13.890866Z"
    }
   },
   "outputs": [
    {
     "data": {
      "application/vnd.plotly.v1+json": {
       "config": {
        "plotlyServerURL": "https://plot.ly"
       },
       "data": [
        {
         "hoverlabel": {
          "namelength": 0
         },
         "hovertemplate": "<b>%{hovertext}</b><br><br>Pokémon=Togekiss<br>VGC 2020 Usage %=%{x}<br>Base Stats Mean=%{y}",
         "hovertext": [
          "Togekiss"
         ],
         "legendgroup": "Togekiss",
         "marker": {
          "color": "#636efa",
          "symbol": "circle"
         },
         "mode": "markers",
         "name": "Togekiss",
         "showlegend": true,
         "type": "scatter",
         "x": [
          46
         ],
         "xaxis": "x",
         "y": [
          90.83
         ],
         "yaxis": "y"
        },
        {
         "hoverlabel": {
          "namelength": 0
         },
         "hovertemplate": "<b>%{hovertext}</b><br><br>Pokémon=Arcanine<br>VGC 2020 Usage %=%{x}<br>Base Stats Mean=%{y}",
         "hovertext": [
          "Arcanine"
         ],
         "legendgroup": "Arcanine",
         "marker": {
          "color": "#EF553B",
          "symbol": "circle"
         },
         "mode": "markers",
         "name": "Arcanine",
         "showlegend": true,
         "type": "scatter",
         "x": [
          36
         ],
         "xaxis": "x",
         "y": [
          92.5
         ],
         "yaxis": "y"
        },
        {
         "hoverlabel": {
          "namelength": 0
         },
         "hovertemplate": "<b>%{hovertext}</b><br><br>Pokémon=Dragapult<br>VGC 2020 Usage %=%{x}<br>Base Stats Mean=%{y}",
         "hovertext": [
          "Dragapult"
         ],
         "legendgroup": "Dragapult",
         "marker": {
          "color": "#00cc96",
          "symbol": "circle"
         },
         "mode": "markers",
         "name": "Dragapult",
         "showlegend": true,
         "type": "scatter",
         "x": [
          31
         ],
         "xaxis": "x",
         "y": [
          100
         ],
         "yaxis": "y"
        },
        {
         "hoverlabel": {
          "namelength": 0
         },
         "hovertemplate": "<b>%{hovertext}</b><br><br>Pokémon=Excadrill<br>VGC 2020 Usage %=%{x}<br>Base Stats Mean=%{y}",
         "hovertext": [
          "Excadrill"
         ],
         "legendgroup": "Excadrill",
         "marker": {
          "color": "#ab63fa",
          "symbol": "circle"
         },
         "mode": "markers",
         "name": "Excadrill",
         "showlegend": true,
         "type": "scatter",
         "x": [
          30
         ],
         "xaxis": "x",
         "y": [
          84.67
         ],
         "yaxis": "y"
        },
        {
         "hoverlabel": {
          "namelength": 0
         },
         "hovertemplate": "<b>%{hovertext}</b><br><br>Pokémon=Whimsicott<br>VGC 2020 Usage %=%{x}<br>Base Stats Mean=%{y}",
         "hovertext": [
          "Whimsicott"
         ],
         "legendgroup": "Whimsicott",
         "marker": {
          "color": "#FFA15A",
          "symbol": "circle"
         },
         "mode": "markers",
         "name": "Whimsicott",
         "showlegend": true,
         "type": "scatter",
         "x": [
          29
         ],
         "xaxis": "x",
         "y": [
          80
         ],
         "yaxis": "y"
        },
        {
         "hoverlabel": {
          "namelength": 0
         },
         "hovertemplate": "<b>%{hovertext}</b><br><br>Pokémon=Duraludon<br>VGC 2020 Usage %=%{x}<br>Base Stats Mean=%{y}",
         "hovertext": [
          "Duraludon"
         ],
         "legendgroup": "Duraludon",
         "marker": {
          "color": "#19d3f3",
          "symbol": "circle"
         },
         "mode": "markers",
         "name": "Duraludon",
         "showlegend": true,
         "type": "scatter",
         "x": [
          24
         ],
         "xaxis": "x",
         "y": [
          89.17
         ],
         "yaxis": "y"
        },
        {
         "hoverlabel": {
          "namelength": 0
         },
         "hovertemplate": "<b>%{hovertext}</b><br><br>Pokémon=Tyranitar<br>VGC 2020 Usage %=%{x}<br>Base Stats Mean=%{y}",
         "hovertext": [
          "Tyranitar"
         ],
         "legendgroup": "Tyranitar",
         "marker": {
          "color": "#FF6692",
          "symbol": "circle"
         },
         "mode": "markers",
         "name": "Tyranitar",
         "showlegend": true,
         "type": "scatter",
         "x": [
          23
         ],
         "xaxis": "x",
         "y": [
          100
         ],
         "yaxis": "y"
        },
        {
         "hoverlabel": {
          "namelength": 0
         },
         "hovertemplate": "<b>%{hovertext}</b><br><br>Pokémon=Grimmsnarl<br>VGC 2020 Usage %=%{x}<br>Base Stats Mean=%{y}",
         "hovertext": [
          "Grimmsnarl"
         ],
         "legendgroup": "Grimmsnarl",
         "marker": {
          "color": "#B6E880",
          "symbol": "circle"
         },
         "mode": "markers",
         "name": "Grimmsnarl",
         "showlegend": true,
         "type": "scatter",
         "x": [
          20
         ],
         "xaxis": "x",
         "y": [
          85
         ],
         "yaxis": "y"
        },
        {
         "hoverlabel": {
          "namelength": 0
         },
         "hovertemplate": "<b>%{hovertext}</b><br><br>Pokémon=Gyarados<br>VGC 2020 Usage %=%{x}<br>Base Stats Mean=%{y}",
         "hovertext": [
          "Gyarados"
         ],
         "legendgroup": "Gyarados",
         "marker": {
          "color": "#FF97FF",
          "symbol": "circle"
         },
         "mode": "markers",
         "name": "Gyarados",
         "showlegend": true,
         "type": "scatter",
         "x": [
          17
         ],
         "xaxis": "x",
         "y": [
          90
         ],
         "yaxis": "y"
        },
        {
         "hoverlabel": {
          "namelength": 0
         },
         "hovertemplate": "<b>%{hovertext}</b><br><br>Pokémon=Gastrodon<br>VGC 2020 Usage %=%{x}<br>Base Stats Mean=%{y}",
         "hovertext": [
          "Gastrodon"
         ],
         "legendgroup": "Gastrodon",
         "marker": {
          "color": "#FECB52",
          "symbol": "circle"
         },
         "mode": "markers",
         "name": "Gastrodon",
         "showlegend": true,
         "type": "scatter",
         "x": [
          17
         ],
         "xaxis": "x",
         "y": [
          79.17
         ],
         "yaxis": "y"
        },
        {
         "hoverlabel": {
          "namelength": 0
         },
         "hovertemplate": "<b>%{hovertext}</b><br><br>Pokémon=Rhyperior<br>VGC 2020 Usage %=%{x}<br>Base Stats Mean=%{y}",
         "hovertext": [
          "Rhyperior"
         ],
         "legendgroup": "Rhyperior",
         "marker": {
          "color": "#636efa",
          "symbol": "circle"
         },
         "mode": "markers",
         "name": "Rhyperior",
         "showlegend": true,
         "type": "scatter",
         "x": [
          16
         ],
         "xaxis": "x",
         "y": [
          89.17
         ],
         "yaxis": "y"
        },
        {
         "hoverlabel": {
          "namelength": 0
         },
         "hovertemplate": "<b>%{hovertext}</b><br><br>Pokémon=Conkeldurr<br>VGC 2020 Usage %=%{x}<br>Base Stats Mean=%{y}",
         "hovertext": [
          "Conkeldurr"
         ],
         "legendgroup": "Conkeldurr",
         "marker": {
          "color": "#EF553B",
          "symbol": "circle"
         },
         "mode": "markers",
         "name": "Conkeldurr",
         "showlegend": true,
         "type": "scatter",
         "x": [
          15
         ],
         "xaxis": "x",
         "y": [
          84.17
         ],
         "yaxis": "y"
        },
        {
         "hoverlabel": {
          "namelength": 0
         },
         "hovertemplate": "<b>%{hovertext}</b><br><br>Pokémon=Snorlax<br>VGC 2020 Usage %=%{x}<br>Base Stats Mean=%{y}",
         "hovertext": [
          "Snorlax"
         ],
         "legendgroup": "Snorlax",
         "marker": {
          "color": "#00cc96",
          "symbol": "circle"
         },
         "mode": "markers",
         "name": "Snorlax",
         "showlegend": true,
         "type": "scatter",
         "x": [
          11
         ],
         "xaxis": "x",
         "y": [
          90
         ],
         "yaxis": "y"
        },
        {
         "hoverlabel": {
          "namelength": 0
         },
         "hovertemplate": "<b>%{hovertext}</b><br><br>Pokémon=Dusclops<br>VGC 2020 Usage %=%{x}<br>Base Stats Mean=%{y}",
         "hovertext": [
          "Dusclops"
         ],
         "legendgroup": "Dusclops",
         "marker": {
          "color": "#ab63fa",
          "symbol": "circle"
         },
         "mode": "markers",
         "name": "Dusclops",
         "showlegend": true,
         "type": "scatter",
         "x": [
          11
         ],
         "xaxis": "x",
         "y": [
          75.83
         ],
         "yaxis": "y"
        },
        {
         "hoverlabel": {
          "namelength": 0
         },
         "hovertemplate": "<b>%{hovertext}</b><br><br>Pokémon=Dracovish<br>VGC 2020 Usage %=%{x}<br>Base Stats Mean=%{y}",
         "hovertext": [
          "Dracovish"
         ],
         "legendgroup": "Dracovish",
         "marker": {
          "color": "#FFA15A",
          "symbol": "circle"
         },
         "mode": "markers",
         "name": "Dracovish",
         "showlegend": true,
         "type": "scatter",
         "x": [
          11
         ],
         "xaxis": "x",
         "y": [
          84.17
         ],
         "yaxis": "y"
        },
        {
         "hoverlabel": {
          "namelength": 0
         },
         "hovertemplate": "<b>%{hovertext}</b><br><br>Pokémon=Vanilluxe<br>VGC 2020 Usage %=%{x}<br>Base Stats Mean=%{y}",
         "hovertext": [
          "Vanilluxe"
         ],
         "legendgroup": "Vanilluxe",
         "marker": {
          "color": "#19d3f3",
          "symbol": "circle"
         },
         "mode": "markers",
         "name": "Vanilluxe",
         "showlegend": true,
         "type": "scatter",
         "x": [
          11
         ],
         "xaxis": "x",
         "y": [
          89.17
         ],
         "yaxis": "y"
        },
        {
         "hoverlabel": {
          "namelength": 0
         },
         "hovertemplate": "<b>%{hovertext}</b><br><br>Pokémon=Torkoal<br>VGC 2020 Usage %=%{x}<br>Base Stats Mean=%{y}",
         "hovertext": [
          "Torkoal"
         ],
         "legendgroup": "Torkoal",
         "marker": {
          "color": "#FF6692",
          "symbol": "circle"
         },
         "mode": "markers",
         "name": "Torkoal",
         "showlegend": true,
         "type": "scatter",
         "x": [
          9
         ],
         "xaxis": "x",
         "y": [
          78.33
         ],
         "yaxis": "y"
        },
        {
         "hoverlabel": {
          "namelength": 0
         },
         "hovertemplate": "<b>%{hovertext}</b><br><br>Pokémon=Inteleon<br>VGC 2020 Usage %=%{x}<br>Base Stats Mean=%{y}",
         "hovertext": [
          "Inteleon"
         ],
         "legendgroup": "Inteleon",
         "marker": {
          "color": "#B6E880",
          "symbol": "circle"
         },
         "mode": "markers",
         "name": "Inteleon",
         "showlegend": true,
         "type": "scatter",
         "x": [
          9
         ],
         "xaxis": "x",
         "y": [
          88.33
         ],
         "yaxis": "y"
        },
        {
         "hoverlabel": {
          "namelength": 0
         },
         "hovertemplate": "<b>%{hovertext}</b><br><br>Pokémon=Charizard<br>VGC 2020 Usage %=%{x}<br>Base Stats Mean=%{y}",
         "hovertext": [
          "Charizard"
         ],
         "legendgroup": "Charizard",
         "marker": {
          "color": "#FF97FF",
          "symbol": "circle"
         },
         "mode": "markers",
         "name": "Charizard",
         "showlegend": true,
         "type": "scatter",
         "x": [
          9
         ],
         "xaxis": "x",
         "y": [
          89
         ],
         "yaxis": "y"
        },
        {
         "hoverlabel": {
          "namelength": 0
         },
         "hovertemplate": "<b>%{hovertext}</b><br><br>Pokémon=Mimikyu<br>VGC 2020 Usage %=%{x}<br>Base Stats Mean=%{y}",
         "hovertext": [
          "Mimikyu"
         ],
         "legendgroup": "Mimikyu",
         "marker": {
          "color": "#FECB52",
          "symbol": "circle"
         },
         "mode": "markers",
         "name": "Mimikyu",
         "showlegend": true,
         "type": "scatter",
         "x": [
          9
         ],
         "xaxis": "x",
         "y": [
          79.33
         ],
         "yaxis": "y"
        },
        {
         "hoverlabel": {
          "namelength": 0
         },
         "hovertemplate": "<b>%{hovertext}</b><br><br>Pokémon=Chandelure<br>VGC 2020 Usage %=%{x}<br>Base Stats Mean=%{y}",
         "hovertext": [
          "Chandelure"
         ],
         "legendgroup": "Chandelure",
         "marker": {
          "color": "#636efa",
          "symbol": "circle"
         },
         "mode": "markers",
         "name": "Chandelure",
         "showlegend": true,
         "type": "scatter",
         "x": [
          9
         ],
         "xaxis": "x",
         "y": [
          86.67
         ],
         "yaxis": "y"
        },
        {
         "hoverlabel": {
          "namelength": 0
         },
         "hovertemplate": "<b>%{hovertext}</b><br><br>Pokémon=Corviknight<br>VGC 2020 Usage %=%{x}<br>Base Stats Mean=%{y}",
         "hovertext": [
          "Corviknight"
         ],
         "legendgroup": "Corviknight",
         "marker": {
          "color": "#EF553B",
          "symbol": "circle"
         },
         "mode": "markers",
         "name": "Corviknight",
         "showlegend": true,
         "type": "scatter",
         "x": [
          8
         ],
         "xaxis": "x",
         "y": [
          82.5
         ],
         "yaxis": "y"
        },
        {
         "hoverlabel": {
          "namelength": 0
         },
         "hovertemplate": "<b>%{hovertext}</b><br><br>Pokémon=Jellicent<br>VGC 2020 Usage %=%{x}<br>Base Stats Mean=%{y}",
         "hovertext": [
          "Jellicent"
         ],
         "legendgroup": "Jellicent",
         "marker": {
          "color": "#00cc96",
          "symbol": "circle"
         },
         "mode": "markers",
         "name": "Jellicent",
         "showlegend": true,
         "type": "scatter",
         "x": [
          8
         ],
         "xaxis": "x",
         "y": [
          80
         ],
         "yaxis": "y"
        },
        {
         "hoverlabel": {
          "namelength": 0
         },
         "hovertemplate": "<b>%{hovertext}</b><br><br>Pokémon=Hydreigon<br>VGC 2020 Usage %=%{x}<br>Base Stats Mean=%{y}",
         "hovertext": [
          "Hydreigon"
         ],
         "legendgroup": "Hydreigon",
         "marker": {
          "color": "#ab63fa",
          "symbol": "circle"
         },
         "mode": "markers",
         "name": "Hydreigon",
         "showlegend": true,
         "type": "scatter",
         "x": [
          7
         ],
         "xaxis": "x",
         "y": [
          100
         ],
         "yaxis": "y"
        },
        {
         "hoverlabel": {
          "namelength": 0
         },
         "hovertemplate": "<b>%{hovertext}</b><br><br>Pokémon=Milotic<br>VGC 2020 Usage %=%{x}<br>Base Stats Mean=%{y}",
         "hovertext": [
          "Milotic"
         ],
         "legendgroup": "Milotic",
         "marker": {
          "color": "#FFA15A",
          "symbol": "circle"
         },
         "mode": "markers",
         "name": "Milotic",
         "showlegend": true,
         "type": "scatter",
         "x": [
          7
         ],
         "xaxis": "x",
         "y": [
          90
         ],
         "yaxis": "y"
        },
        {
         "hoverlabel": {
          "namelength": 0
         },
         "hovertemplate": "<b>%{hovertext}</b><br><br>Pokémon=Braviary<br>VGC 2020 Usage %=%{x}<br>Base Stats Mean=%{y}",
         "hovertext": [
          "Braviary"
         ],
         "legendgroup": "Braviary",
         "marker": {
          "color": "#19d3f3",
          "symbol": "circle"
         },
         "mode": "markers",
         "name": "Braviary",
         "showlegend": true,
         "type": "scatter",
         "x": [
          7
         ],
         "xaxis": "x",
         "y": [
          85
         ],
         "yaxis": "y"
        },
        {
         "hoverlabel": {
          "namelength": 0
         },
         "hovertemplate": "<b>%{hovertext}</b><br><br>Pokémon=Mudsdale<br>VGC 2020 Usage %=%{x}<br>Base Stats Mean=%{y}",
         "hovertext": [
          "Mudsdale"
         ],
         "legendgroup": "Mudsdale",
         "marker": {
          "color": "#FF6692",
          "symbol": "circle"
         },
         "mode": "markers",
         "name": "Mudsdale",
         "showlegend": true,
         "type": "scatter",
         "x": [
          6
         ],
         "xaxis": "x",
         "y": [
          83.33
         ],
         "yaxis": "y"
        },
        {
         "hoverlabel": {
          "namelength": 0
         },
         "hovertemplate": "<b>%{hovertext}</b><br><br>Pokémon=Durant<br>VGC 2020 Usage %=%{x}<br>Base Stats Mean=%{y}",
         "hovertext": [
          "Durant"
         ],
         "legendgroup": "Durant",
         "marker": {
          "color": "#B6E880",
          "symbol": "circle"
         },
         "mode": "markers",
         "name": "Durant",
         "showlegend": true,
         "type": "scatter",
         "x": [
          6
         ],
         "xaxis": "x",
         "y": [
          80.67
         ],
         "yaxis": "y"
        },
        {
         "hoverlabel": {
          "namelength": 0
         },
         "hovertemplate": "<b>%{hovertext}</b><br><br>Pokémon=Sylveon<br>VGC 2020 Usage %=%{x}<br>Base Stats Mean=%{y}",
         "hovertext": [
          "Sylveon"
         ],
         "legendgroup": "Sylveon",
         "marker": {
          "color": "#FF97FF",
          "symbol": "circle"
         },
         "mode": "markers",
         "name": "Sylveon",
         "showlegend": true,
         "type": "scatter",
         "x": [
          6
         ],
         "xaxis": "x",
         "y": [
          87.5
         ],
         "yaxis": "y"
        },
        {
         "hoverlabel": {
          "namelength": 0
         },
         "hovertemplate": "<b>%{hovertext}</b><br><br>Pokémon=Gothitelle<br>VGC 2020 Usage %=%{x}<br>Base Stats Mean=%{y}",
         "hovertext": [
          "Gothitelle"
         ],
         "legendgroup": "Gothitelle",
         "marker": {
          "color": "#FECB52",
          "symbol": "circle"
         },
         "mode": "markers",
         "name": "Gothitelle",
         "showlegend": true,
         "type": "scatter",
         "x": [
          6
         ],
         "xaxis": "x",
         "y": [
          81.67
         ],
         "yaxis": "y"
        },
        {
         "hoverlabel": {
          "namelength": 0
         },
         "hovertemplate": "<b>%{hovertext}</b><br><br>Pokémon=Bronzong<br>VGC 2020 Usage %=%{x}<br>Base Stats Mean=%{y}",
         "hovertext": [
          "Bronzong"
         ],
         "legendgroup": "Bronzong",
         "marker": {
          "color": "#636efa",
          "symbol": "circle"
         },
         "mode": "markers",
         "name": "Bronzong",
         "showlegend": true,
         "type": "scatter",
         "x": [
          5
         ],
         "xaxis": "x",
         "y": [
          83.33
         ],
         "yaxis": "y"
        },
        {
         "hoverlabel": {
          "namelength": 0
         },
         "hovertemplate": "<b>%{hovertext}</b><br><br>Pokémon=Ferrothorn<br>VGC 2020 Usage %=%{x}<br>Base Stats Mean=%{y}",
         "hovertext": [
          "Ferrothorn"
         ],
         "legendgroup": "Ferrothorn",
         "marker": {
          "color": "#EF553B",
          "symbol": "circle"
         },
         "mode": "markers",
         "name": "Ferrothorn",
         "showlegend": true,
         "type": "scatter",
         "x": [
          5
         ],
         "xaxis": "x",
         "y": [
          81.5
         ],
         "yaxis": "y"
        },
        {
         "hoverlabel": {
          "namelength": 0
         },
         "hovertemplate": "<b>%{hovertext}</b><br><br>Pokémon=Scrafty<br>VGC 2020 Usage %=%{x}<br>Base Stats Mean=%{y}",
         "hovertext": [
          "Scrafty"
         ],
         "legendgroup": "Scrafty",
         "marker": {
          "color": "#00cc96",
          "symbol": "circle"
         },
         "mode": "markers",
         "name": "Scrafty",
         "showlegend": true,
         "type": "scatter",
         "x": [
          5
         ],
         "xaxis": "x",
         "y": [
          81.33
         ],
         "yaxis": "y"
        },
        {
         "hoverlabel": {
          "namelength": 0
         },
         "hovertemplate": "<b>%{hovertext}</b><br><br>Pokémon=Hitmontop<br>VGC 2020 Usage %=%{x}<br>Base Stats Mean=%{y}",
         "hovertext": [
          "Hitmontop"
         ],
         "legendgroup": "Hitmontop",
         "marker": {
          "color": "#ab63fa",
          "symbol": "circle"
         },
         "mode": "markers",
         "name": "Hitmontop",
         "showlegend": true,
         "type": "scatter",
         "x": [
          4
         ],
         "xaxis": "x",
         "y": [
          75.83
         ],
         "yaxis": "y"
        },
        {
         "hoverlabel": {
          "namelength": 0
         },
         "hovertemplate": "<b>%{hovertext}</b><br><br>Pokémon=Hatterene<br>VGC 2020 Usage %=%{x}<br>Base Stats Mean=%{y}",
         "hovertext": [
          "Hatterene"
         ],
         "legendgroup": "Hatterene",
         "marker": {
          "color": "#FFA15A",
          "symbol": "circle"
         },
         "mode": "markers",
         "name": "Hatterene",
         "showlegend": true,
         "type": "scatter",
         "x": [
          4
         ],
         "xaxis": "x",
         "y": [
          85
         ],
         "yaxis": "y"
        },
        {
         "hoverlabel": {
          "namelength": 0
         },
         "hovertemplate": "<b>%{hovertext}</b><br><br>Pokémon=Toxtricity<br>VGC 2020 Usage %=%{x}<br>Base Stats Mean=%{y}",
         "hovertext": [
          "Toxtricity"
         ],
         "legendgroup": "Toxtricity",
         "marker": {
          "color": "#19d3f3",
          "symbol": "circle"
         },
         "mode": "markers",
         "name": "Toxtricity",
         "showlegend": true,
         "type": "scatter",
         "x": [
          3
         ],
         "xaxis": "x",
         "y": [
          83.67
         ],
         "yaxis": "y"
        },
        {
         "hoverlabel": {
          "namelength": 0
         },
         "hovertemplate": "<b>%{hovertext}</b><br><br>Pokémon=Lapras<br>VGC 2020 Usage %=%{x}<br>Base Stats Mean=%{y}",
         "hovertext": [
          "Lapras"
         ],
         "legendgroup": "Lapras",
         "marker": {
          "color": "#FF6692",
          "symbol": "circle"
         },
         "mode": "markers",
         "name": "Lapras",
         "showlegend": true,
         "type": "scatter",
         "x": [
          3
         ],
         "xaxis": "x",
         "y": [
          89.17
         ],
         "yaxis": "y"
        },
        {
         "hoverlabel": {
          "namelength": 0
         },
         "hovertemplate": "<b>%{hovertext}</b><br><br>Pokémon=Ludicolo<br>VGC 2020 Usage %=%{x}<br>Base Stats Mean=%{y}",
         "hovertext": [
          "Ludicolo"
         ],
         "legendgroup": "Ludicolo",
         "marker": {
          "color": "#B6E880",
          "symbol": "circle"
         },
         "mode": "markers",
         "name": "Ludicolo",
         "showlegend": true,
         "type": "scatter",
         "x": [
          3
         ],
         "xaxis": "x",
         "y": [
          80
         ],
         "yaxis": "y"
        },
        {
         "hoverlabel": {
          "namelength": 0
         },
         "hovertemplate": "<b>%{hovertext}</b><br><br>Pokémon=Passimian<br>VGC 2020 Usage %=%{x}<br>Base Stats Mean=%{y}",
         "hovertext": [
          "Passimian"
         ],
         "legendgroup": "Passimian",
         "marker": {
          "color": "#FF97FF",
          "symbol": "circle"
         },
         "mode": "markers",
         "name": "Passimian",
         "showlegend": true,
         "type": "scatter",
         "x": [
          3
         ],
         "xaxis": "x",
         "y": [
          81.67
         ],
         "yaxis": "y"
        },
        {
         "hoverlabel": {
          "namelength": 0
         },
         "hovertemplate": "<b>%{hovertext}</b><br><br>Pokémon=Dracozolt<br>VGC 2020 Usage %=%{x}<br>Base Stats Mean=%{y}",
         "hovertext": [
          "Dracozolt"
         ],
         "legendgroup": "Dracozolt",
         "marker": {
          "color": "#FECB52",
          "symbol": "circle"
         },
         "mode": "markers",
         "name": "Dracozolt",
         "showlegend": true,
         "type": "scatter",
         "x": [
          2
         ],
         "xaxis": "x",
         "y": [
          84.17
         ],
         "yaxis": "y"
        },
        {
         "hoverlabel": {
          "namelength": 0
         },
         "hovertemplate": "<b>%{hovertext}</b><br><br>Pokémon=Togedemaru<br>VGC 2020 Usage %=%{x}<br>Base Stats Mean=%{y}",
         "hovertext": [
          "Togedemaru"
         ],
         "legendgroup": "Togedemaru",
         "marker": {
          "color": "#636efa",
          "symbol": "circle"
         },
         "mode": "markers",
         "name": "Togedemaru",
         "showlegend": true,
         "type": "scatter",
         "x": [
          2
         ],
         "xaxis": "x",
         "y": [
          72.5
         ],
         "yaxis": "y"
        },
        {
         "hoverlabel": {
          "namelength": 0
         },
         "hovertemplate": "<b>%{hovertext}</b><br><br>Pokémon=Lucario<br>VGC 2020 Usage %=%{x}<br>Base Stats Mean=%{y}",
         "hovertext": [
          "Lucario"
         ],
         "legendgroup": "Lucario",
         "marker": {
          "color": "#EF553B",
          "symbol": "circle"
         },
         "mode": "markers",
         "name": "Lucario",
         "showlegend": true,
         "type": "scatter",
         "x": [
          2
         ],
         "xaxis": "x",
         "y": [
          87.5
         ],
         "yaxis": "y"
        },
        {
         "hoverlabel": {
          "namelength": 0
         },
         "hovertemplate": "<b>%{hovertext}</b><br><br>Pokémon=Sableye<br>VGC 2020 Usage %=%{x}<br>Base Stats Mean=%{y}",
         "hovertext": [
          "Sableye"
         ],
         "legendgroup": "Sableye",
         "marker": {
          "color": "#00cc96",
          "symbol": "circle"
         },
         "mode": "markers",
         "name": "Sableye",
         "showlegend": true,
         "type": "scatter",
         "x": [
          2
         ],
         "xaxis": "x",
         "y": [
          63.33
         ],
         "yaxis": "y"
        },
        {
         "hoverlabel": {
          "namelength": 0
         },
         "hovertemplate": "<b>%{hovertext}</b><br><br>Pokémon=Goodra<br>VGC 2020 Usage %=%{x}<br>Base Stats Mean=%{y}",
         "hovertext": [
          "Goodra"
         ],
         "legendgroup": "Goodra",
         "marker": {
          "color": "#ab63fa",
          "symbol": "circle"
         },
         "mode": "markers",
         "name": "Goodra",
         "showlegend": true,
         "type": "scatter",
         "x": [
          2
         ],
         "xaxis": "x",
         "y": [
          100
         ],
         "yaxis": "y"
        },
        {
         "hoverlabel": {
          "namelength": 0
         },
         "hovertemplate": "<b>%{hovertext}</b><br><br>Pokémon=Hippowdon<br>VGC 2020 Usage %=%{x}<br>Base Stats Mean=%{y}",
         "hovertext": [
          "Hippowdon"
         ],
         "legendgroup": "Hippowdon",
         "marker": {
          "color": "#FFA15A",
          "symbol": "circle"
         },
         "mode": "markers",
         "name": "Hippowdon",
         "showlegend": true,
         "type": "scatter",
         "x": [
          2
         ],
         "xaxis": "x",
         "y": [
          87.5
         ],
         "yaxis": "y"
        },
        {
         "hoverlabel": {
          "namelength": 0
         },
         "hovertemplate": "<b>%{hovertext}</b><br><br>Pokémon=Oranguru<br>VGC 2020 Usage %=%{x}<br>Base Stats Mean=%{y}",
         "hovertext": [
          "Oranguru"
         ],
         "legendgroup": "Oranguru",
         "marker": {
          "color": "#19d3f3",
          "symbol": "circle"
         },
         "mode": "markers",
         "name": "Oranguru",
         "showlegend": true,
         "type": "scatter",
         "x": [
          1
         ],
         "xaxis": "x",
         "y": [
          81.67
         ],
         "yaxis": "y"
        },
        {
         "hoverlabel": {
          "namelength": 0
         },
         "hovertemplate": "<b>%{hovertext}</b><br><br>Pokémon=Appletun<br>VGC 2020 Usage %=%{x}<br>Base Stats Mean=%{y}",
         "hovertext": [
          "Appletun"
         ],
         "legendgroup": "Appletun",
         "marker": {
          "color": "#FF6692",
          "symbol": "circle"
         },
         "mode": "markers",
         "name": "Appletun",
         "showlegend": true,
         "type": "scatter",
         "x": [
          1
         ],
         "xaxis": "x",
         "y": [
          80.83
         ],
         "yaxis": "y"
        },
        {
         "hoverlabel": {
          "namelength": 0
         },
         "hovertemplate": "<b>%{hovertext}</b><br><br>Pokémon=Reuniclus<br>VGC 2020 Usage %=%{x}<br>Base Stats Mean=%{y}",
         "hovertext": [
          "Reuniclus"
         ],
         "legendgroup": "Reuniclus",
         "marker": {
          "color": "#B6E880",
          "symbol": "circle"
         },
         "mode": "markers",
         "name": "Reuniclus",
         "showlegend": true,
         "type": "scatter",
         "x": [
          1
         ],
         "xaxis": "x",
         "y": [
          81.67
         ],
         "yaxis": "y"
        },
        {
         "hoverlabel": {
          "namelength": 0
         },
         "hovertemplate": "<b>%{hovertext}</b><br><br>Pokémon=Hawlucha<br>VGC 2020 Usage %=%{x}<br>Base Stats Mean=%{y}",
         "hovertext": [
          "Hawlucha"
         ],
         "legendgroup": "Hawlucha",
         "marker": {
          "color": "#FF97FF",
          "symbol": "circle"
         },
         "mode": "markers",
         "name": "Hawlucha",
         "showlegend": true,
         "type": "scatter",
         "x": [
          1
         ],
         "xaxis": "x",
         "y": [
          83.33
         ],
         "yaxis": "y"
        },
        {
         "hoverlabel": {
          "namelength": 0
         },
         "hovertemplate": "<b>%{hovertext}</b><br><br>Pokémon=Cinderace<br>VGC 2020 Usage %=%{x}<br>Base Stats Mean=%{y}",
         "hovertext": [
          "Cinderace"
         ],
         "legendgroup": "Cinderace",
         "marker": {
          "color": "#FECB52",
          "symbol": "circle"
         },
         "mode": "markers",
         "name": "Cinderace",
         "showlegend": true,
         "type": "scatter",
         "x": [
          1
         ],
         "xaxis": "x",
         "y": [
          88.33
         ],
         "yaxis": "y"
        },
        {
         "hoverlabel": {
          "namelength": 0
         },
         "hovertemplate": "<b>%{hovertext}</b><br><br>Pokémon=Mandibuzz<br>VGC 2020 Usage %=%{x}<br>Base Stats Mean=%{y}",
         "hovertext": [
          "Mandibuzz"
         ],
         "legendgroup": "Mandibuzz",
         "marker": {
          "color": "#636efa",
          "symbol": "circle"
         },
         "mode": "markers",
         "name": "Mandibuzz",
         "showlegend": true,
         "type": "scatter",
         "x": [
          1
         ],
         "xaxis": "x",
         "y": [
          85
         ],
         "yaxis": "y"
        },
        {
         "hoverlabel": {
          "namelength": 0
         },
         "hovertemplate": "<b>%{hovertext}</b><br><br>Pokémon=Araquanid<br>VGC 2020 Usage %=%{x}<br>Base Stats Mean=%{y}",
         "hovertext": [
          "Araquanid"
         ],
         "legendgroup": "Araquanid",
         "marker": {
          "color": "#EF553B",
          "symbol": "circle"
         },
         "mode": "markers",
         "name": "Araquanid",
         "showlegend": true,
         "type": "scatter",
         "x": [
          1
         ],
         "xaxis": "x",
         "y": [
          75.67
         ],
         "yaxis": "y"
        },
        {
         "hoverlabel": {
          "namelength": 0
         },
         "hovertemplate": "<b>%{hovertext}</b><br><br>Pokémon=Abomasnow<br>VGC 2020 Usage %=%{x}<br>Base Stats Mean=%{y}",
         "hovertext": [
          "Abomasnow"
         ],
         "legendgroup": "Abomasnow",
         "marker": {
          "color": "#00cc96",
          "symbol": "circle"
         },
         "mode": "markers",
         "name": "Abomasnow",
         "showlegend": true,
         "type": "scatter",
         "x": [
          1
         ],
         "xaxis": "x",
         "y": [
          82.33
         ],
         "yaxis": "y"
        },
        {
         "hoverlabel": {
          "namelength": 0
         },
         "hovertemplate": "<b>%{hovertext}</b><br><br>Pokémon=Kommo-o<br>VGC 2020 Usage %=%{x}<br>Base Stats Mean=%{y}",
         "hovertext": [
          "Kommo-o"
         ],
         "legendgroup": "Kommo-o",
         "marker": {
          "color": "#ab63fa",
          "symbol": "circle"
         },
         "mode": "markers",
         "name": "Kommo-o",
         "showlegend": true,
         "type": "scatter",
         "x": [
          1
         ],
         "xaxis": "x",
         "y": [
          100
         ],
         "yaxis": "y"
        },
        {
         "hoverlabel": {
          "namelength": 0
         },
         "hovertemplate": "<b>%{hovertext}</b><br><br>Pokémon=Silvally<br>VGC 2020 Usage %=%{x}<br>Base Stats Mean=%{y}",
         "hovertext": [
          "Silvally"
         ],
         "legendgroup": "Silvally",
         "marker": {
          "color": "#FFA15A",
          "symbol": "circle"
         },
         "mode": "markers",
         "name": "Silvally",
         "showlegend": true,
         "type": "scatter",
         "x": [
          1
         ],
         "xaxis": "x",
         "y": [
          95
         ],
         "yaxis": "y"
        },
        {
         "hoverlabel": {
          "namelength": 0
         },
         "hovertemplate": "<b>%{hovertext}</b><br><br>Pokémon=Umbreon<br>VGC 2020 Usage %=%{x}<br>Base Stats Mean=%{y}",
         "hovertext": [
          "Umbreon"
         ],
         "legendgroup": "Umbreon",
         "marker": {
          "color": "#19d3f3",
          "symbol": "circle"
         },
         "mode": "markers",
         "name": "Umbreon",
         "showlegend": true,
         "type": "scatter",
         "x": [
          1
         ],
         "xaxis": "x",
         "y": [
          87.5
         ],
         "yaxis": "y"
        },
        {
         "hoverlabel": {
          "namelength": 0
         },
         "hovertemplate": "<b>%{hovertext}</b><br><br>Pokémon=Gengar<br>VGC 2020 Usage %=%{x}<br>Base Stats Mean=%{y}",
         "hovertext": [
          "Gengar"
         ],
         "legendgroup": "Gengar",
         "marker": {
          "color": "#FF6692",
          "symbol": "circle"
         },
         "mode": "markers",
         "name": "Gengar",
         "showlegend": true,
         "type": "scatter",
         "x": [
          1
         ],
         "xaxis": "x",
         "y": [
          83.33
         ],
         "yaxis": "y"
        },
        {
         "hoverlabel": {
          "namelength": 0
         },
         "hovertemplate": "<b>%{hovertext}</b><br><br>Pokémon=Dhelmise<br>VGC 2020 Usage %=%{x}<br>Base Stats Mean=%{y}",
         "hovertext": [
          "Dhelmise"
         ],
         "legendgroup": "Dhelmise",
         "marker": {
          "color": "#B6E880",
          "symbol": "circle"
         },
         "mode": "markers",
         "name": "Dhelmise",
         "showlegend": true,
         "type": "scatter",
         "x": [
          1
         ],
         "xaxis": "x",
         "y": [
          86.17
         ],
         "yaxis": "y"
        },
        {
         "hoverlabel": {
          "namelength": 0
         },
         "hovertemplate": "<b>%{hovertext}</b><br><br>Pokémon=Gardevoir<br>VGC 2020 Usage %=%{x}<br>Base Stats Mean=%{y}",
         "hovertext": [
          "Gardevoir"
         ],
         "legendgroup": "Gardevoir",
         "marker": {
          "color": "#FF97FF",
          "symbol": "circle"
         },
         "mode": "markers",
         "name": "Gardevoir",
         "showlegend": true,
         "type": "scatter",
         "x": [
          1
         ],
         "xaxis": "x",
         "y": [
          86.33
         ],
         "yaxis": "y"
        },
        {
         "hoverlabel": {
          "namelength": 0
         },
         "hovertemplate": "<b>%{hovertext}</b><br><br>Pokémon=Sigilyph<br>VGC 2020 Usage %=%{x}<br>Base Stats Mean=%{y}",
         "hovertext": [
          "Sigilyph"
         ],
         "legendgroup": "Sigilyph",
         "marker": {
          "color": "#FECB52",
          "symbol": "circle"
         },
         "mode": "markers",
         "name": "Sigilyph",
         "showlegend": true,
         "type": "scatter",
         "x": [
          1
         ],
         "xaxis": "x",
         "y": [
          81.67
         ],
         "yaxis": "y"
        },
        {
         "hoverlabel": {
          "namelength": 0
         },
         "hovertemplate": "<b>%{hovertext}</b><br><br>Pokémon=Obstagoon<br>VGC 2020 Usage %=%{x}<br>Base Stats Mean=%{y}",
         "hovertext": [
          "Obstagoon"
         ],
         "legendgroup": "Obstagoon",
         "marker": {
          "color": "#636efa",
          "symbol": "circle"
         },
         "mode": "markers",
         "name": "Obstagoon",
         "showlegend": true,
         "type": "scatter",
         "x": [
          1
         ],
         "xaxis": "x",
         "y": [
          86.67
         ],
         "yaxis": "y"
        },
        {
         "hoverlabel": {
          "namelength": 0
         },
         "hovertemplate": "<b>%{hovertext}</b><br><br>Pokémon=Rillaboom<br>VGC 2020 Usage %=%{x}<br>Base Stats Mean=%{y}",
         "hovertext": [
          "Rillaboom"
         ],
         "legendgroup": "Rillaboom",
         "marker": {
          "color": "#EF553B",
          "symbol": "circle"
         },
         "mode": "markers",
         "name": "Rillaboom",
         "showlegend": true,
         "type": "scatter",
         "x": [
          1
         ],
         "xaxis": "x",
         "y": [
          88.33
         ],
         "yaxis": "y"
        },
        {
         "hoverlabel": {
          "namelength": 0
         },
         "hovertemplate": "<b>%{hovertext}</b><br><br>Pokémon=Mamoswine<br>VGC 2020 Usage %=%{x}<br>Base Stats Mean=%{y}",
         "hovertext": [
          "Mamoswine"
         ],
         "legendgroup": "Mamoswine",
         "marker": {
          "color": "#00cc96",
          "symbol": "circle"
         },
         "mode": "markers",
         "name": "Mamoswine",
         "showlegend": true,
         "type": "scatter",
         "x": [
          1
         ],
         "xaxis": "x",
         "y": [
          88.33
         ],
         "yaxis": "y"
        },
        {
         "hoverlabel": {
          "namelength": 0
         },
         "hovertemplate": "<b>%{hovertext}</b><br><br>Pokémon=Ribombee<br>VGC 2020 Usage %=%{x}<br>Base Stats Mean=%{y}",
         "hovertext": [
          "Ribombee"
         ],
         "legendgroup": "Ribombee",
         "marker": {
          "color": "#ab63fa",
          "symbol": "circle"
         },
         "mode": "markers",
         "name": "Ribombee",
         "showlegend": true,
         "type": "scatter",
         "x": [
          1
         ],
         "xaxis": "x",
         "y": [
          77.33
         ],
         "yaxis": "y"
        },
        {
         "hoverlabel": {
          "namelength": 0
         },
         "hovertemplate": "<b>%{hovertext}</b><br><br>Pokémon=Greedent<br>VGC 2020 Usage %=%{x}<br>Base Stats Mean=%{y}",
         "hovertext": [
          "Greedent"
         ],
         "legendgroup": "Greedent",
         "marker": {
          "color": "#FFA15A",
          "symbol": "circle"
         },
         "mode": "markers",
         "name": "Greedent",
         "showlegend": true,
         "type": "scatter",
         "x": [
          1
         ],
         "xaxis": "x",
         "y": [
          76.67
         ],
         "yaxis": "y"
        },
        {
         "hoverlabel": {
          "namelength": 0
         },
         "hovertemplate": "<b>%{hovertext}</b><br><br>Pokémon=Sandaconda<br>VGC 2020 Usage %=%{x}<br>Base Stats Mean=%{y}",
         "hovertext": [
          "Sandaconda"
         ],
         "legendgroup": "Sandaconda",
         "marker": {
          "color": "#19d3f3",
          "symbol": "circle"
         },
         "mode": "markers",
         "name": "Sandaconda",
         "showlegend": true,
         "type": "scatter",
         "x": [
          1
         ],
         "xaxis": "x",
         "y": [
          85
         ],
         "yaxis": "y"
        },
        {
         "hoverlabel": {
          "namelength": 0
         },
         "hovertemplate": "<b>%{hovertext}</b><br><br>Pokémon=Sirfetch'd<br>VGC 2020 Usage %=%{x}<br>Base Stats Mean=%{y}",
         "hovertext": [
          "Sirfetch'd"
         ],
         "legendgroup": "Sirfetch'd",
         "marker": {
          "color": "#FF6692",
          "symbol": "circle"
         },
         "mode": "markers",
         "name": "Sirfetch'd",
         "showlegend": true,
         "type": "scatter",
         "x": [
          null
         ],
         "xaxis": "x",
         "y": [
          84.5
         ],
         "yaxis": "y"
        },
        {
         "hoverlabel": {
          "namelength": 0
         },
         "hovertemplate": "<b>%{hovertext}</b><br><br>Pokémon=Bisharp<br>VGC 2020 Usage %=%{x}<br>Base Stats Mean=%{y}",
         "hovertext": [
          "Bisharp"
         ],
         "legendgroup": "Bisharp",
         "marker": {
          "color": "#B6E880",
          "symbol": "circle"
         },
         "mode": "markers",
         "name": "Bisharp",
         "showlegend": true,
         "type": "scatter",
         "x": [
          1
         ],
         "xaxis": "x",
         "y": [
          81.67
         ],
         "yaxis": "y"
        },
        {
         "hoverlabel": {
          "namelength": 0
         },
         "hovertemplate": "<b>%{hovertext}</b><br><br>Pokémon=Drampa<br>VGC 2020 Usage %=%{x}<br>Base Stats Mean=%{y}",
         "hovertext": [
          "Drampa"
         ],
         "legendgroup": "Drampa",
         "marker": {
          "color": "#FF97FF",
          "symbol": "circle"
         },
         "mode": "markers",
         "name": "Drampa",
         "showlegend": true,
         "type": "scatter",
         "x": [
          1
         ],
         "xaxis": "x",
         "y": [
          80.83
         ],
         "yaxis": "y"
        },
        {
         "hoverlabel": {
          "namelength": 0
         },
         "hovertemplate": "<b>%{hovertext}</b><br><br>Pokémon=Coalossal<br>VGC 2020 Usage %=%{x}<br>Base Stats Mean=%{y}",
         "hovertext": [
          "Coalossal"
         ],
         "legendgroup": "Coalossal",
         "marker": {
          "color": "#FECB52",
          "symbol": "circle"
         },
         "mode": "markers",
         "name": "Coalossal",
         "showlegend": true,
         "type": "scatter",
         "x": [
          1
         ],
         "xaxis": "x",
         "y": [
          85
         ],
         "yaxis": "y"
        },
        {
         "hoverlabel": {
          "namelength": 0
         },
         "hovertemplate": "<b>%{hovertext}</b><br><br>Pokémon=Haxorus<br>VGC 2020 Usage %=%{x}<br>Base Stats Mean=%{y}",
         "hovertext": [
          "Haxorus"
         ],
         "legendgroup": "Haxorus",
         "marker": {
          "color": "#636efa",
          "symbol": "circle"
         },
         "mode": "markers",
         "name": "Haxorus",
         "showlegend": true,
         "type": "scatter",
         "x": [
          1
         ],
         "xaxis": "x",
         "y": [
          90
         ],
         "yaxis": "y"
        },
        {
         "hoverlabel": {
          "namelength": 0
         },
         "hovertemplate": "<b>%{hovertext}</b><br><br>Pokémon=Barraskewda<br>VGC 2020 Usage %=%{x}<br>Base Stats Mean=%{y}",
         "hovertext": [
          "Barraskewda"
         ],
         "legendgroup": "Barraskewda",
         "marker": {
          "color": "#EF553B",
          "symbol": "circle"
         },
         "mode": "markers",
         "name": "Barraskewda",
         "showlegend": true,
         "type": "scatter",
         "x": [
          1
         ],
         "xaxis": "x",
         "y": [
          81.67
         ],
         "yaxis": "y"
        },
        {
         "hoverlabel": {
          "namelength": 0
         },
         "hovertemplate": "<b>%{hovertext}</b><br><br>Pokémon=Aromatisse<br>VGC 2020 Usage %=%{x}<br>Base Stats Mean=%{y}",
         "hovertext": [
          "Aromatisse"
         ],
         "legendgroup": "Aromatisse",
         "marker": {
          "color": "#00cc96",
          "symbol": "circle"
         },
         "mode": "markers",
         "name": "Aromatisse",
         "showlegend": true,
         "type": "scatter",
         "x": [
          1
         ],
         "xaxis": "x",
         "y": [
          77
         ],
         "yaxis": "y"
        },
        {
         "hoverlabel": {
          "namelength": 0
         },
         "hovertemplate": "<b>%{hovertext}</b><br><br>Pokémon=Ninetales<br>VGC 2020 Usage %=%{x}<br>Base Stats Mean=%{y}",
         "hovertext": [
          "Ninetales"
         ],
         "legendgroup": "Ninetales",
         "marker": {
          "color": "#ab63fa",
          "symbol": "circle"
         },
         "mode": "markers",
         "name": "Ninetales",
         "showlegend": true,
         "type": "scatter",
         "x": [
          0
         ],
         "xaxis": "x",
         "y": [
          84.17
         ],
         "yaxis": "y"
        },
        {
         "hoverlabel": {
          "namelength": 0
         },
         "hovertemplate": "<b>%{hovertext}</b><br><br>Pokémon=Alcremie<br>VGC 2020 Usage %=%{x}<br>Base Stats Mean=%{y}",
         "hovertext": [
          "Alcremie"
         ],
         "legendgroup": "Alcremie",
         "marker": {
          "color": "#FFA15A",
          "symbol": "circle"
         },
         "mode": "markers",
         "name": "Alcremie",
         "showlegend": true,
         "type": "scatter",
         "x": [
          0
         ],
         "xaxis": "x",
         "y": [
          82.5
         ],
         "yaxis": "y"
        },
        {
         "hoverlabel": {
          "namelength": 0
         },
         "hovertemplate": "<b>%{hovertext}</b><br><br>Pokémon=Shiinotic<br>VGC 2020 Usage %=%{x}<br>Base Stats Mean=%{y}",
         "hovertext": [
          "Shiinotic"
         ],
         "legendgroup": "Shiinotic",
         "marker": {
          "color": "#19d3f3",
          "symbol": "circle"
         },
         "mode": "markers",
         "name": "Shiinotic",
         "showlegend": true,
         "type": "scatter",
         "x": [
          0
         ],
         "xaxis": "x",
         "y": [
          67.5
         ],
         "yaxis": "y"
        },
        {
         "hoverlabel": {
          "namelength": 0
         },
         "hovertemplate": "<b>%{hovertext}</b><br><br>Pokémon=Glaceon<br>VGC 2020 Usage %=%{x}<br>Base Stats Mean=%{y}",
         "hovertext": [
          "Glaceon"
         ],
         "legendgroup": "Glaceon",
         "marker": {
          "color": "#FF6692",
          "symbol": "circle"
         },
         "mode": "markers",
         "name": "Glaceon",
         "showlegend": true,
         "type": "scatter",
         "x": [
          0
         ],
         "xaxis": "x",
         "y": [
          87.5
         ],
         "yaxis": "y"
        },
        {
         "hoverlabel": {
          "namelength": 0
         },
         "hovertemplate": "<b>%{hovertext}</b><br><br>Pokémon=Runerigus<br>VGC 2020 Usage %=%{x}<br>Base Stats Mean=%{y}",
         "hovertext": [
          "Runerigus"
         ],
         "legendgroup": "Runerigus",
         "marker": {
          "color": "#B6E880",
          "symbol": "circle"
         },
         "mode": "markers",
         "name": "Runerigus",
         "showlegend": true,
         "type": "scatter",
         "x": [
          0
         ],
         "xaxis": "x",
         "y": [
          80.5
         ],
         "yaxis": "y"
        },
        {
         "hoverlabel": {
          "namelength": 0
         },
         "hovertemplate": "<b>%{hovertext}</b><br><br>Pokémon=Morpeko<br>VGC 2020 Usage %=%{x}<br>Base Stats Mean=%{y}",
         "hovertext": [
          "Morpeko"
         ],
         "legendgroup": "Morpeko",
         "marker": {
          "color": "#FF97FF",
          "symbol": "circle"
         },
         "mode": "markers",
         "name": "Morpeko",
         "showlegend": true,
         "type": "scatter",
         "x": [
          0
         ],
         "xaxis": "x",
         "y": [
          72.67
         ],
         "yaxis": "y"
        },
        {
         "hoverlabel": {
          "namelength": 0
         },
         "hovertemplate": "<b>%{hovertext}</b><br><br>Pokémon=Perrserker<br>VGC 2020 Usage %=%{x}<br>Base Stats Mean=%{y}",
         "hovertext": [
          "Perrserker"
         ],
         "legendgroup": "Perrserker",
         "marker": {
          "color": "#FECB52",
          "symbol": "circle"
         },
         "mode": "markers",
         "name": "Perrserker",
         "showlegend": true,
         "type": "scatter",
         "x": [
          0
         ],
         "xaxis": "x",
         "y": [
          73.33
         ],
         "yaxis": "y"
        },
        {
         "hoverlabel": {
          "namelength": 0
         },
         "hovertemplate": "<b>%{hovertext}</b><br><br>Pokémon=Cofagrigus<br>VGC 2020 Usage %=%{x}<br>Base Stats Mean=%{y}",
         "hovertext": [
          "Cofagrigus"
         ],
         "legendgroup": "Cofagrigus",
         "marker": {
          "color": "#636efa",
          "symbol": "circle"
         },
         "mode": "markers",
         "name": "Cofagrigus",
         "showlegend": true,
         "type": "scatter",
         "x": [
          0
         ],
         "xaxis": "x",
         "y": [
          80.5
         ],
         "yaxis": "y"
        },
        {
         "hoverlabel": {
          "namelength": 0
         },
         "hovertemplate": "<b>%{hovertext}</b><br><br>Pokémon=Musharna<br>VGC 2020 Usage %=%{x}<br>Base Stats Mean=%{y}",
         "hovertext": [
          "Musharna"
         ],
         "legendgroup": "Musharna",
         "marker": {
          "color": "#EF553B",
          "symbol": "circle"
         },
         "mode": "markers",
         "name": "Musharna",
         "showlegend": true,
         "type": "scatter",
         "x": [
          0
         ],
         "xaxis": "x",
         "y": [
          81.17
         ],
         "yaxis": "y"
        },
        {
         "hoverlabel": {
          "namelength": 0
         },
         "hovertemplate": "<b>%{hovertext}</b><br><br>Pokémon=Centiskorch<br>VGC 2020 Usage %=%{x}<br>Base Stats Mean=%{y}",
         "hovertext": [
          "Centiskorch"
         ],
         "legendgroup": "Centiskorch",
         "marker": {
          "color": "#00cc96",
          "symbol": "circle"
         },
         "mode": "markers",
         "name": "Centiskorch",
         "showlegend": true,
         "type": "scatter",
         "x": [
          0
         ],
         "xaxis": "x",
         "y": [
          87.5
         ],
         "yaxis": "y"
        },
        {
         "hoverlabel": {
          "namelength": 0
         },
         "hovertemplate": "<b>%{hovertext}</b><br><br>Pokémon=Malamar<br>VGC 2020 Usage %=%{x}<br>Base Stats Mean=%{y}",
         "hovertext": [
          "Malamar"
         ],
         "legendgroup": "Malamar",
         "marker": {
          "color": "#ab63fa",
          "symbol": "circle"
         },
         "mode": "markers",
         "name": "Malamar",
         "showlegend": true,
         "type": "scatter",
         "x": [
          0
         ],
         "xaxis": "x",
         "y": [
          80.33
         ],
         "yaxis": "y"
        },
        {
         "hoverlabel": {
          "namelength": 0
         },
         "hovertemplate": "<b>%{hovertext}</b><br><br>Pokémon=Gallade<br>VGC 2020 Usage %=%{x}<br>Base Stats Mean=%{y}",
         "hovertext": [
          "Gallade"
         ],
         "legendgroup": "Gallade",
         "marker": {
          "color": "#FFA15A",
          "symbol": "circle"
         },
         "mode": "markers",
         "name": "Gallade",
         "showlegend": true,
         "type": "scatter",
         "x": [
          0
         ],
         "xaxis": "x",
         "y": [
          86.33
         ],
         "yaxis": "y"
        },
        {
         "hoverlabel": {
          "namelength": 0
         },
         "hovertemplate": "<b>%{hovertext}</b><br><br>Pokémon=Pincurchin<br>VGC 2020 Usage %=%{x}<br>Base Stats Mean=%{y}",
         "hovertext": [
          "Pincurchin"
         ],
         "legendgroup": "Pincurchin",
         "marker": {
          "color": "#19d3f3",
          "symbol": "circle"
         },
         "mode": "markers",
         "name": "Pincurchin",
         "showlegend": true,
         "type": "scatter",
         "x": [
          0
         ],
         "xaxis": "x",
         "y": [
          72.5
         ],
         "yaxis": "y"
        },
        {
         "hoverlabel": {
          "namelength": 0
         },
         "hovertemplate": "<b>%{hovertext}</b><br><br>Pokémon=Weavile<br>VGC 2020 Usage %=%{x}<br>Base Stats Mean=%{y}",
         "hovertext": [
          "Weavile"
         ],
         "legendgroup": "Weavile",
         "marker": {
          "color": "#FF6692",
          "symbol": "circle"
         },
         "mode": "markers",
         "name": "Weavile",
         "showlegend": true,
         "type": "scatter",
         "x": [
          0
         ],
         "xaxis": "x",
         "y": [
          85
         ],
         "yaxis": "y"
        },
        {
         "hoverlabel": {
          "namelength": 0
         },
         "hovertemplate": "<b>%{hovertext}</b><br><br>Pokémon=Diggersby<br>VGC 2020 Usage %=%{x}<br>Base Stats Mean=%{y}",
         "hovertext": [
          "Diggersby"
         ],
         "legendgroup": "Diggersby",
         "marker": {
          "color": "#B6E880",
          "symbol": "circle"
         },
         "mode": "markers",
         "name": "Diggersby",
         "showlegend": true,
         "type": "scatter",
         "x": [
          0
         ],
         "xaxis": "x",
         "y": [
          70.5
         ],
         "yaxis": "y"
        },
        {
         "hoverlabel": {
          "namelength": 0
         },
         "hovertemplate": "<b>%{hovertext}</b><br><br>Pokémon=Arctozolt<br>VGC 2020 Usage %=%{x}<br>Base Stats Mean=%{y}",
         "hovertext": [
          "Arctozolt"
         ],
         "legendgroup": "Arctozolt",
         "marker": {
          "color": "#FF97FF",
          "symbol": "circle"
         },
         "mode": "markers",
         "name": "Arctozolt",
         "showlegend": true,
         "type": "scatter",
         "x": [
          0
         ],
         "xaxis": "x",
         "y": [
          84.17
         ],
         "yaxis": "y"
        },
        {
         "hoverlabel": {
          "namelength": 0
         },
         "hovertemplate": "<b>%{hovertext}</b><br><br>Pokémon=Trevenant<br>VGC 2020 Usage %=%{x}<br>Base Stats Mean=%{y}",
         "hovertext": [
          "Trevenant"
         ],
         "legendgroup": "Trevenant",
         "marker": {
          "color": "#FECB52",
          "symbol": "circle"
         },
         "mode": "markers",
         "name": "Trevenant",
         "showlegend": true,
         "type": "scatter",
         "x": [
          0
         ],
         "xaxis": "x",
         "y": [
          79
         ],
         "yaxis": "y"
        },
        {
         "hoverlabel": {
          "namelength": 0
         },
         "hovertemplate": "<b>%{hovertext}</b><br><br>Pokémon=Eldegoss<br>VGC 2020 Usage %=%{x}<br>Base Stats Mean=%{y}",
         "hovertext": [
          "Eldegoss"
         ],
         "legendgroup": "Eldegoss",
         "marker": {
          "color": "#636efa",
          "symbol": "circle"
         },
         "mode": "markers",
         "name": "Eldegoss",
         "showlegend": true,
         "type": "scatter",
         "x": [
          0
         ],
         "xaxis": "x",
         "y": [
          76.67
         ],
         "yaxis": "y"
        },
        {
         "hoverlabel": {
          "namelength": 0
         },
         "hovertemplate": "<b>%{hovertext}</b><br><br>Pokémon=Vikavolt<br>VGC 2020 Usage %=%{x}<br>Base Stats Mean=%{y}",
         "hovertext": [
          "Vikavolt"
         ],
         "legendgroup": "Vikavolt",
         "marker": {
          "color": "#EF553B",
          "symbol": "circle"
         },
         "mode": "markers",
         "name": "Vikavolt",
         "showlegend": true,
         "type": "scatter",
         "x": [
          0
         ],
         "xaxis": "x",
         "y": [
          83.33
         ],
         "yaxis": "y"
        },
        {
         "hoverlabel": {
          "namelength": 0
         },
         "hovertemplate": "<b>%{hovertext}</b><br><br>Pokémon=Stonjourner<br>VGC 2020 Usage %=%{x}<br>Base Stats Mean=%{y}",
         "hovertext": [
          "Stonjourner"
         ],
         "legendgroup": "Stonjourner",
         "marker": {
          "color": "#00cc96",
          "symbol": "circle"
         },
         "mode": "markers",
         "name": "Stonjourner",
         "showlegend": true,
         "type": "scatter",
         "x": [
          0
         ],
         "xaxis": "x",
         "y": [
          78.33
         ],
         "yaxis": "y"
        },
        {
         "hoverlabel": {
          "namelength": 0
         },
         "hovertemplate": "<b>%{hovertext}</b><br><br>Pokémon=Cursola<br>VGC 2020 Usage %=%{x}<br>Base Stats Mean=%{y}",
         "hovertext": [
          "Cursola"
         ],
         "legendgroup": "Cursola",
         "marker": {
          "color": "#ab63fa",
          "symbol": "circle"
         },
         "mode": "markers",
         "name": "Cursola",
         "showlegend": true,
         "type": "scatter",
         "x": [
          0
         ],
         "xaxis": "x",
         "y": [
          85
         ],
         "yaxis": "y"
        },
        {
         "hoverlabel": {
          "namelength": 0
         },
         "hovertemplate": "<b>%{hovertext}</b><br><br>Pokémon=Tsareena<br>VGC 2020 Usage %=%{x}<br>Base Stats Mean=%{y}",
         "hovertext": [
          "Tsareena"
         ],
         "legendgroup": "Tsareena",
         "marker": {
          "color": "#FFA15A",
          "symbol": "circle"
         },
         "mode": "markers",
         "name": "Tsareena",
         "showlegend": true,
         "type": "scatter",
         "x": [
          0
         ],
         "xaxis": "x",
         "y": [
          85
         ],
         "yaxis": "y"
        },
        {
         "hoverlabel": {
          "namelength": 0
         },
         "hovertemplate": "<b>%{hovertext}</b><br><br>Pokémon=Escavalier<br>VGC 2020 Usage %=%{x}<br>Base Stats Mean=%{y}",
         "hovertext": [
          "Escavalier"
         ],
         "legendgroup": "Escavalier",
         "marker": {
          "color": "#19d3f3",
          "symbol": "circle"
         },
         "mode": "markers",
         "name": "Escavalier",
         "showlegend": true,
         "type": "scatter",
         "x": [
          0
         ],
         "xaxis": "x",
         "y": [
          82.5
         ],
         "yaxis": "y"
        },
        {
         "hoverlabel": {
          "namelength": 0
         },
         "hovertemplate": "<b>%{hovertext}</b><br><br>Pokémon=Copperajah<br>VGC 2020 Usage %=%{x}<br>Base Stats Mean=%{y}",
         "hovertext": [
          "Copperajah"
         ],
         "legendgroup": "Copperajah",
         "marker": {
          "color": "#FF6692",
          "symbol": "circle"
         },
         "mode": "markers",
         "name": "Copperajah",
         "showlegend": true,
         "type": "scatter",
         "x": [
          0
         ],
         "xaxis": "x",
         "y": [
          83.33
         ],
         "yaxis": "y"
        },
        {
         "hoverlabel": {
          "namelength": 0
         },
         "hovertemplate": "<b>%{hovertext}</b><br><br>Pokémon=Heliolisk<br>VGC 2020 Usage %=%{x}<br>Base Stats Mean=%{y}",
         "hovertext": [
          "Heliolisk"
         ],
         "legendgroup": "Heliolisk",
         "marker": {
          "color": "#B6E880",
          "symbol": "circle"
         },
         "mode": "markers",
         "name": "Heliolisk",
         "showlegend": true,
         "type": "scatter",
         "x": [
          0
         ],
         "xaxis": "x",
         "y": [
          80.17
         ],
         "yaxis": "y"
        },
        {
         "hoverlabel": {
          "namelength": 0
         },
         "hovertemplate": "<b>%{hovertext}</b><br><br>Pokémon=Frosmoth<br>VGC 2020 Usage %=%{x}<br>Base Stats Mean=%{y}",
         "hovertext": [
          "Frosmoth"
         ],
         "legendgroup": "Frosmoth",
         "marker": {
          "color": "#FF97FF",
          "symbol": "circle"
         },
         "mode": "markers",
         "name": "Frosmoth",
         "showlegend": true,
         "type": "scatter",
         "x": [
          0
         ],
         "xaxis": "x",
         "y": [
          79.17
         ],
         "yaxis": "y"
        },
        {
         "hoverlabel": {
          "namelength": 0
         },
         "hovertemplate": "<b>%{hovertext}</b><br><br>Pokémon=Leafeon<br>VGC 2020 Usage %=%{x}<br>Base Stats Mean=%{y}",
         "hovertext": [
          "Leafeon"
         ],
         "legendgroup": "Leafeon",
         "marker": {
          "color": "#FECB52",
          "symbol": "circle"
         },
         "mode": "markers",
         "name": "Leafeon",
         "showlegend": true,
         "type": "scatter",
         "x": [
          0
         ],
         "xaxis": "x",
         "y": [
          87.5
         ],
         "yaxis": "y"
        },
        {
         "hoverlabel": {
          "namelength": 0
         },
         "hovertemplate": "<b>%{hovertext}</b><br><br>Pokémon=Flygon<br>VGC 2020 Usage %=%{x}<br>Base Stats Mean=%{y}",
         "hovertext": [
          "Flygon"
         ],
         "legendgroup": "Flygon",
         "marker": {
          "color": "#636efa",
          "symbol": "circle"
         },
         "mode": "markers",
         "name": "Flygon",
         "showlegend": true,
         "type": "scatter",
         "x": [
          0
         ],
         "xaxis": "x",
         "y": [
          86.67
         ],
         "yaxis": "y"
        },
        {
         "hoverlabel": {
          "namelength": 0
         },
         "hovertemplate": "<b>%{hovertext}</b><br><br>Pokémon=Claydol<br>VGC 2020 Usage %=%{x}<br>Base Stats Mean=%{y}",
         "hovertext": [
          "Claydol"
         ],
         "legendgroup": "Claydol",
         "marker": {
          "color": "#EF553B",
          "symbol": "circle"
         },
         "mode": "markers",
         "name": "Claydol",
         "showlegend": true,
         "type": "scatter",
         "x": [
          0
         ],
         "xaxis": "x",
         "y": [
          83.33
         ],
         "yaxis": "y"
        },
        {
         "hoverlabel": {
          "namelength": 0
         },
         "hovertemplate": "<b>%{hovertext}</b><br><br>Pokémon=Crawdaunt<br>VGC 2020 Usage %=%{x}<br>Base Stats Mean=%{y}",
         "hovertext": [
          "Crawdaunt"
         ],
         "legendgroup": "Crawdaunt",
         "marker": {
          "color": "#00cc96",
          "symbol": "circle"
         },
         "mode": "markers",
         "name": "Crawdaunt",
         "showlegend": true,
         "type": "scatter",
         "x": [
          0
         ],
         "xaxis": "x",
         "y": [
          78
         ],
         "yaxis": "y"
        },
        {
         "hoverlabel": {
          "namelength": 0
         },
         "hovertemplate": "<b>%{hovertext}</b><br><br>Pokémon=Flapple<br>VGC 2020 Usage %=%{x}<br>Base Stats Mean=%{y}",
         "hovertext": [
          "Flapple"
         ],
         "legendgroup": "Flapple",
         "marker": {
          "color": "#ab63fa",
          "symbol": "circle"
         },
         "mode": "markers",
         "name": "Flapple",
         "showlegend": true,
         "type": "scatter",
         "x": [
          0
         ],
         "xaxis": "x",
         "y": [
          80.83
         ],
         "yaxis": "y"
        },
        {
         "hoverlabel": {
          "namelength": 0
         },
         "hovertemplate": "<b>%{hovertext}</b><br><br>Pokémon=Drednaw<br>VGC 2020 Usage %=%{x}<br>Base Stats Mean=%{y}",
         "hovertext": [
          "Drednaw"
         ],
         "legendgroup": "Drednaw",
         "marker": {
          "color": "#FFA15A",
          "symbol": "circle"
         },
         "mode": "markers",
         "name": "Drednaw",
         "showlegend": true,
         "type": "scatter",
         "x": [
          0
         ],
         "xaxis": "x",
         "y": [
          80.83
         ],
         "yaxis": "y"
        },
        {
         "hoverlabel": {
          "namelength": 0
         },
         "hovertemplate": "<b>%{hovertext}</b><br><br>Pokémon=Cloyster<br>VGC 2020 Usage %=%{x}<br>Base Stats Mean=%{y}",
         "hovertext": [
          "Cloyster"
         ],
         "legendgroup": "Cloyster",
         "marker": {
          "color": "#19d3f3",
          "symbol": "circle"
         },
         "mode": "markers",
         "name": "Cloyster",
         "showlegend": true,
         "type": "scatter",
         "x": [
          0
         ],
         "xaxis": "x",
         "y": [
          87.5
         ],
         "yaxis": "y"
        },
        {
         "hoverlabel": {
          "namelength": 0
         },
         "hovertemplate": "<b>%{hovertext}</b><br><br>Pokémon=Avalugg<br>VGC 2020 Usage %=%{x}<br>Base Stats Mean=%{y}",
         "hovertext": [
          "Avalugg"
         ],
         "legendgroup": "Avalugg",
         "marker": {
          "color": "#FF6692",
          "symbol": "circle"
         },
         "mode": "markers",
         "name": "Avalugg",
         "showlegend": true,
         "type": "scatter",
         "x": [
          0
         ],
         "xaxis": "x",
         "y": [
          85.67
         ],
         "yaxis": "y"
        },
        {
         "hoverlabel": {
          "namelength": 0
         },
         "hovertemplate": "<b>%{hovertext}</b><br><br>Pokémon=Togetic<br>VGC 2020 Usage %=%{x}<br>Base Stats Mean=%{y}",
         "hovertext": [
          "Togetic"
         ],
         "legendgroup": "Togetic",
         "marker": {
          "color": "#B6E880",
          "symbol": "circle"
         },
         "mode": "markers",
         "name": "Togetic",
         "showlegend": true,
         "type": "scatter",
         "x": [
          0
         ],
         "xaxis": "x",
         "y": [
          67.5
         ],
         "yaxis": "y"
        },
        {
         "hoverlabel": {
          "namelength": 0
         },
         "hovertemplate": "<b>%{hovertext}</b><br><br>Pokémon=Salazzle<br>VGC 2020 Usage %=%{x}<br>Base Stats Mean=%{y}",
         "hovertext": [
          "Salazzle"
         ],
         "legendgroup": "Salazzle",
         "marker": {
          "color": "#FF97FF",
          "symbol": "circle"
         },
         "mode": "markers",
         "name": "Salazzle",
         "showlegend": true,
         "type": "scatter",
         "x": [
          0
         ],
         "xaxis": "x",
         "y": [
          80
         ],
         "yaxis": "y"
        },
        {
         "hoverlabel": {
          "namelength": 0
         },
         "hovertemplate": "<b>%{hovertext}</b><br><br>Pokémon=Drifblim<br>VGC 2020 Usage %=%{x}<br>Base Stats Mean=%{y}",
         "hovertext": [
          "Drifblim"
         ],
         "legendgroup": "Drifblim",
         "marker": {
          "color": "#FECB52",
          "symbol": "circle"
         },
         "mode": "markers",
         "name": "Drifblim",
         "showlegend": true,
         "type": "scatter",
         "x": [
          0
         ],
         "xaxis": "x",
         "y": [
          83
         ],
         "yaxis": "y"
        },
        {
         "hoverlabel": {
          "namelength": 0
         },
         "hovertemplate": "<b>%{hovertext}</b><br><br>Pokémon=Polteageist<br>VGC 2020 Usage %=%{x}<br>Base Stats Mean=%{y}",
         "hovertext": [
          "Polteageist"
         ],
         "legendgroup": "Polteageist",
         "marker": {
          "color": "#636efa",
          "symbol": "circle"
         },
         "mode": "markers",
         "name": "Polteageist",
         "showlegend": true,
         "type": "scatter",
         "x": [
          0
         ],
         "xaxis": "x",
         "y": [
          84.67
         ],
         "yaxis": "y"
        },
        {
         "hoverlabel": {
          "namelength": 0
         },
         "hovertemplate": "<b>%{hovertext}</b><br><br>Pokémon=Noivern<br>VGC 2020 Usage %=%{x}<br>Base Stats Mean=%{y}",
         "hovertext": [
          "Noivern"
         ],
         "legendgroup": "Noivern",
         "marker": {
          "color": "#EF553B",
          "symbol": "circle"
         },
         "mode": "markers",
         "name": "Noivern",
         "showlegend": true,
         "type": "scatter",
         "x": [
          0
         ],
         "xaxis": "x",
         "y": [
          89.17
         ],
         "yaxis": "y"
        },
        {
         "hoverlabel": {
          "namelength": 0
         },
         "hovertemplate": "<b>%{hovertext}</b><br><br>Pokémon=Toxapex<br>VGC 2020 Usage %=%{x}<br>Base Stats Mean=%{y}",
         "hovertext": [
          "Toxapex"
         ],
         "legendgroup": "Toxapex",
         "marker": {
          "color": "#00cc96",
          "symbol": "circle"
         },
         "mode": "markers",
         "name": "Toxapex",
         "showlegend": true,
         "type": "scatter",
         "x": [
          0
         ],
         "xaxis": "x",
         "y": [
          82.5
         ],
         "yaxis": "y"
        },
        {
         "hoverlabel": {
          "namelength": 0
         },
         "hovertemplate": "<b>%{hovertext}</b><br><br>Pokémon=Machamp<br>VGC 2020 Usage %=%{x}<br>Base Stats Mean=%{y}",
         "hovertext": [
          "Machamp"
         ],
         "legendgroup": "Machamp",
         "marker": {
          "color": "#ab63fa",
          "symbol": "circle"
         },
         "mode": "markers",
         "name": "Machamp",
         "showlegend": true,
         "type": "scatter",
         "x": [
          0
         ],
         "xaxis": "x",
         "y": [
          84.17
         ],
         "yaxis": "y"
        },
        {
         "hoverlabel": {
          "namelength": 0
         },
         "hovertemplate": "<b>%{hovertext}</b><br><br>Pokémon=Golisopod<br>VGC 2020 Usage %=%{x}<br>Base Stats Mean=%{y}",
         "hovertext": [
          "Golisopod"
         ],
         "legendgroup": "Golisopod",
         "marker": {
          "color": "#FFA15A",
          "symbol": "circle"
         },
         "mode": "markers",
         "name": "Golisopod",
         "showlegend": true,
         "type": "scatter",
         "x": [
          0
         ],
         "xaxis": "x",
         "y": [
          88.33
         ],
         "yaxis": "y"
        },
        {
         "hoverlabel": {
          "namelength": 0
         },
         "hovertemplate": "<b>%{hovertext}</b><br><br>Pokémon=Accelgor<br>VGC 2020 Usage %=%{x}<br>Base Stats Mean=%{y}",
         "hovertext": [
          "Accelgor"
         ],
         "legendgroup": "Accelgor",
         "marker": {
          "color": "#19d3f3",
          "symbol": "circle"
         },
         "mode": "markers",
         "name": "Accelgor",
         "showlegend": true,
         "type": "scatter",
         "x": [
          0
         ],
         "xaxis": "x",
         "y": [
          82.5
         ],
         "yaxis": "y"
        },
        {
         "hoverlabel": {
          "namelength": 0
         },
         "hovertemplate": "<b>%{hovertext}</b><br><br>Pokémon=Manectric<br>VGC 2020 Usage %=%{x}<br>Base Stats Mean=%{y}",
         "hovertext": [
          "Manectric"
         ],
         "legendgroup": "Manectric",
         "marker": {
          "color": "#FF6692",
          "symbol": "circle"
         },
         "mode": "markers",
         "name": "Manectric",
         "showlegend": true,
         "type": "scatter",
         "x": [
          0
         ],
         "xaxis": "x",
         "y": [
          79.17
         ],
         "yaxis": "y"
        },
        {
         "hoverlabel": {
          "namelength": 0
         },
         "hovertemplate": "<b>%{hovertext}</b><br><br>Pokémon=Sawk<br>VGC 2020 Usage %=%{x}<br>Base Stats Mean=%{y}",
         "hovertext": [
          "Sawk"
         ],
         "legendgroup": "Sawk",
         "marker": {
          "color": "#B6E880",
          "symbol": "circle"
         },
         "mode": "markers",
         "name": "Sawk",
         "showlegend": true,
         "type": "scatter",
         "x": [
          0
         ],
         "xaxis": "x",
         "y": [
          77.5
         ],
         "yaxis": "y"
        },
        {
         "hoverlabel": {
          "namelength": 0
         },
         "hovertemplate": "<b>%{hovertext}</b><br><br>Pokémon=Falinks<br>VGC 2020 Usage %=%{x}<br>Base Stats Mean=%{y}",
         "hovertext": [
          "Falinks"
         ],
         "legendgroup": "Falinks",
         "marker": {
          "color": "#FF97FF",
          "symbol": "circle"
         },
         "mode": "markers",
         "name": "Falinks",
         "showlegend": true,
         "type": "scatter",
         "x": [
          0
         ],
         "xaxis": "x",
         "y": [
          78.33
         ],
         "yaxis": "y"
        },
        {
         "hoverlabel": {
          "namelength": 0
         },
         "hovertemplate": "<b>%{hovertext}</b><br><br>Pokémon=Boltund<br>VGC 2020 Usage %=%{x}<br>Base Stats Mean=%{y}",
         "hovertext": [
          "Boltund"
         ],
         "legendgroup": "Boltund",
         "marker": {
          "color": "#FECB52",
          "symbol": "circle"
         },
         "mode": "markers",
         "name": "Boltund",
         "showlegend": true,
         "type": "scatter",
         "x": [
          0
         ],
         "xaxis": "x",
         "y": [
          81.67
         ],
         "yaxis": "y"
        },
        {
         "hoverlabel": {
          "namelength": 0
         },
         "hovertemplate": "<b>%{hovertext}</b><br><br>Pokémon=Steelix<br>VGC 2020 Usage %=%{x}<br>Base Stats Mean=%{y}",
         "hovertext": [
          "Steelix"
         ],
         "legendgroup": "Steelix",
         "marker": {
          "color": "#636efa",
          "symbol": "circle"
         },
         "mode": "markers",
         "name": "Steelix",
         "showlegend": true,
         "type": "scatter",
         "x": [
          0
         ],
         "xaxis": "x",
         "y": [
          85
         ],
         "yaxis": "y"
        },
        {
         "hoverlabel": {
          "namelength": 0
         },
         "hovertemplate": "<b>%{hovertext}</b><br><br>Pokémon=Orbeetle<br>VGC 2020 Usage %=%{x}<br>Base Stats Mean=%{y}",
         "hovertext": [
          "Orbeetle"
         ],
         "legendgroup": "Orbeetle",
         "marker": {
          "color": "#EF553B",
          "symbol": "circle"
         },
         "mode": "markers",
         "name": "Orbeetle",
         "showlegend": true,
         "type": "scatter",
         "x": [
          0
         ],
         "xaxis": "x",
         "y": [
          84.17
         ],
         "yaxis": "y"
        },
        {
         "hoverlabel": {
          "namelength": 0
         },
         "hovertemplate": "<b>%{hovertext}</b><br><br>Pokémon=Ditto<br>VGC 2020 Usage %=%{x}<br>Base Stats Mean=%{y}",
         "hovertext": [
          "Ditto"
         ],
         "legendgroup": "Ditto",
         "marker": {
          "color": "#00cc96",
          "symbol": "circle"
         },
         "mode": "markers",
         "name": "Ditto",
         "showlegend": true,
         "type": "scatter",
         "x": [
          0
         ],
         "xaxis": "x",
         "y": [
          48
         ],
         "yaxis": "y"
        },
        {
         "hoverlabel": {
          "namelength": 0
         },
         "hovertemplate": "<b>%{hovertext}</b><br><br>Pokémon=Cramorant<br>VGC 2020 Usage %=%{x}<br>Base Stats Mean=%{y}",
         "hovertext": [
          "Cramorant"
         ],
         "legendgroup": "Cramorant",
         "marker": {
          "color": "#ab63fa",
          "symbol": "circle"
         },
         "mode": "markers",
         "name": "Cramorant",
         "showlegend": true,
         "type": "scatter",
         "x": [
          0
         ],
         "xaxis": "x",
         "y": [
          79.17
         ],
         "yaxis": "y"
        },
        {
         "hoverlabel": {
          "namelength": 0
         },
         "hovertemplate": "<b>%{hovertext}</b><br><br>Pokémon=Bewear<br>VGC 2020 Usage %=%{x}<br>Base Stats Mean=%{y}",
         "hovertext": [
          "Bewear"
         ],
         "legendgroup": "Bewear",
         "marker": {
          "color": "#FFA15A",
          "symbol": "circle"
         },
         "mode": "markers",
         "name": "Bewear",
         "showlegend": true,
         "type": "scatter",
         "x": [
          0
         ],
         "xaxis": "x",
         "y": [
          83.33
         ],
         "yaxis": "y"
        },
        {
         "hoverlabel": {
          "namelength": 0
         },
         "hovertemplate": "<b>%{hovertext}</b><br><br>Pokémon=Toxicroak<br>VGC 2020 Usage %=%{x}<br>Base Stats Mean=%{y}",
         "hovertext": [
          "Toxicroak"
         ],
         "legendgroup": "Toxicroak",
         "marker": {
          "color": "#19d3f3",
          "symbol": "circle"
         },
         "mode": "markers",
         "name": "Toxicroak",
         "showlegend": true,
         "type": "scatter",
         "x": [
          0
         ],
         "xaxis": "x",
         "y": [
          81.67
         ],
         "yaxis": "y"
        },
        {
         "hoverlabel": {
          "namelength": 0
         },
         "hovertemplate": "<b>%{hovertext}</b><br><br>Pokémon=Galvantula<br>VGC 2020 Usage %=%{x}<br>Base Stats Mean=%{y}",
         "hovertext": [
          "Galvantula"
         ],
         "legendgroup": "Galvantula",
         "marker": {
          "color": "#FF6692",
          "symbol": "circle"
         },
         "mode": "markers",
         "name": "Galvantula",
         "showlegend": true,
         "type": "scatter",
         "x": [
          0
         ],
         "xaxis": "x",
         "y": [
          78.67
         ],
         "yaxis": "y"
        },
        {
         "hoverlabel": {
          "namelength": 0
         },
         "hovertemplate": "<b>%{hovertext}</b><br><br>Pokémon=Espeon<br>VGC 2020 Usage %=%{x}<br>Base Stats Mean=%{y}",
         "hovertext": [
          "Espeon"
         ],
         "legendgroup": "Espeon",
         "marker": {
          "color": "#B6E880",
          "symbol": "circle"
         },
         "mode": "markers",
         "name": "Espeon",
         "showlegend": true,
         "type": "scatter",
         "x": [
          0
         ],
         "xaxis": "x",
         "y": [
          87.5
         ],
         "yaxis": "y"
        },
        {
         "hoverlabel": {
          "namelength": 0
         },
         "hovertemplate": "<b>%{hovertext}</b><br><br>Pokémon=Arctovish<br>VGC 2020 Usage %=%{x}<br>Base Stats Mean=%{y}",
         "hovertext": [
          "Arctovish"
         ],
         "legendgroup": "Arctovish",
         "marker": {
          "color": "#FF97FF",
          "symbol": "circle"
         },
         "mode": "markers",
         "name": "Arctovish",
         "showlegend": true,
         "type": "scatter",
         "x": [
          0
         ],
         "xaxis": "x",
         "y": [
          84.17
         ],
         "yaxis": "y"
        },
        {
         "hoverlabel": {
          "namelength": 0
         },
         "hovertemplate": "<b>%{hovertext}</b><br><br>Pokémon=Cherrim<br>VGC 2020 Usage %=%{x}<br>Base Stats Mean=%{y}",
         "hovertext": [
          "Cherrim"
         ],
         "legendgroup": "Cherrim",
         "marker": {
          "color": "#FECB52",
          "symbol": "circle"
         },
         "mode": "markers",
         "name": "Cherrim",
         "showlegend": true,
         "type": "scatter",
         "x": [
          0
         ],
         "xaxis": "x",
         "y": [
          75
         ],
         "yaxis": "y"
        },
        {
         "hoverlabel": {
          "namelength": 0
         },
         "hovertemplate": "<b>%{hovertext}</b><br><br>Pokémon=Klang<br>VGC 2020 Usage %=%{x}<br>Base Stats Mean=%{y}",
         "hovertext": [
          "Klang"
         ],
         "legendgroup": "Klang",
         "marker": {
          "color": "#636efa",
          "symbol": "circle"
         },
         "mode": "markers",
         "name": "Klang",
         "showlegend": true,
         "type": "scatter",
         "x": [
          0
         ],
         "xaxis": "x",
         "y": [
          73.33
         ],
         "yaxis": "y"
        },
        {
         "hoverlabel": {
          "namelength": 0
         },
         "hovertemplate": "<b>%{hovertext}</b><br><br>Pokémon=Klinklang<br>VGC 2020 Usage %=%{x}<br>Base Stats Mean=%{y}",
         "hovertext": [
          "Klinklang"
         ],
         "legendgroup": "Klinklang",
         "marker": {
          "color": "#EF553B",
          "symbol": "circle"
         },
         "mode": "markers",
         "name": "Klinklang",
         "showlegend": true,
         "type": "scatter",
         "x": [
          0
         ],
         "xaxis": "x",
         "y": [
          86.67
         ],
         "yaxis": "y"
        },
        {
         "hoverlabel": {
          "namelength": 0
         },
         "hovertemplate": "<b>%{hovertext}</b><br><br>Pokémon=Gothorita<br>VGC 2020 Usage %=%{x}<br>Base Stats Mean=%{y}",
         "hovertext": [
          "Gothorita"
         ],
         "legendgroup": "Gothorita",
         "marker": {
          "color": "#00cc96",
          "symbol": "circle"
         },
         "mode": "markers",
         "name": "Gothorita",
         "showlegend": true,
         "type": "scatter",
         "x": [
          0
         ],
         "xaxis": "x",
         "y": [
          65
         ],
         "yaxis": "y"
        },
        {
         "hoverlabel": {
          "namelength": 0
         },
         "hovertemplate": "<b>%{hovertext}</b><br><br>Pokémon=Grapploct<br>VGC 2020 Usage %=%{x}<br>Base Stats Mean=%{y}",
         "hovertext": [
          "Grapploct"
         ],
         "legendgroup": "Grapploct",
         "marker": {
          "color": "#ab63fa",
          "symbol": "circle"
         },
         "mode": "markers",
         "name": "Grapploct",
         "showlegend": true,
         "type": "scatter",
         "x": [
          0
         ],
         "xaxis": "x",
         "y": [
          80
         ],
         "yaxis": "y"
        },
        {
         "hoverlabel": {
          "namelength": 0
         },
         "hovertemplate": "<b>%{hovertext}</b><br><br>Pokémon=Dubwool<br>VGC 2020 Usage %=%{x}<br>Base Stats Mean=%{y}",
         "hovertext": [
          "Dubwool"
         ],
         "legendgroup": "Dubwool",
         "marker": {
          "color": "#FFA15A",
          "symbol": "circle"
         },
         "mode": "markers",
         "name": "Dubwool",
         "showlegend": true,
         "type": "scatter",
         "x": [
          0
         ],
         "xaxis": "x",
         "y": [
          81.67
         ],
         "yaxis": "y"
        },
        {
         "hoverlabel": {
          "namelength": 0
         },
         "hovertemplate": "<b>%{hovertext}</b><br><br>Pokémon=Quagsire<br>VGC 2020 Usage %=%{x}<br>Base Stats Mean=%{y}",
         "hovertext": [
          "Quagsire"
         ],
         "legendgroup": "Quagsire",
         "marker": {
          "color": "#19d3f3",
          "symbol": "circle"
         },
         "mode": "markers",
         "name": "Quagsire",
         "showlegend": true,
         "type": "scatter",
         "x": [
          0
         ],
         "xaxis": "x",
         "y": [
          71.67
         ],
         "yaxis": "y"
        },
        {
         "hoverlabel": {
          "namelength": 0
         },
         "hovertemplate": "<b>%{hovertext}</b><br><br>Pokémon=Thievul<br>VGC 2020 Usage %=%{x}<br>Base Stats Mean=%{y}",
         "hovertext": [
          "Thievul"
         ],
         "legendgroup": "Thievul",
         "marker": {
          "color": "#FF6692",
          "symbol": "circle"
         },
         "mode": "markers",
         "name": "Thievul",
         "showlegend": true,
         "type": "scatter",
         "x": [
          0
         ],
         "xaxis": "x",
         "y": [
          75.83
         ],
         "yaxis": "y"
        },
        {
         "hoverlabel": {
          "namelength": 0
         },
         "hovertemplate": "<b>%{hovertext}</b><br><br>Pokémon=Basculin<br>VGC 2020 Usage %=%{x}<br>Base Stats Mean=%{y}",
         "hovertext": [
          "Basculin"
         ],
         "legendgroup": "Basculin",
         "marker": {
          "color": "#B6E880",
          "symbol": "circle"
         },
         "mode": "markers",
         "name": "Basculin",
         "showlegend": true,
         "type": "scatter",
         "x": [
          0
         ],
         "xaxis": "x",
         "y": [
          76.67
         ],
         "yaxis": "y"
        },
        {
         "hoverlabel": {
          "namelength": 0
         },
         "hovertemplate": "<b>%{hovertext}</b><br><br>Pokémon=Jolteon<br>VGC 2020 Usage %=%{x}<br>Base Stats Mean=%{y}",
         "hovertext": [
          "Jolteon"
         ],
         "legendgroup": "Jolteon",
         "marker": {
          "color": "#FF97FF",
          "symbol": "circle"
         },
         "mode": "markers",
         "name": "Jolteon",
         "showlegend": true,
         "type": "scatter",
         "x": [
          0
         ],
         "xaxis": "x",
         "y": [
          87.5
         ],
         "yaxis": "y"
        },
        {
         "hoverlabel": {
          "namelength": 0
         },
         "hovertemplate": "<b>%{hovertext}</b><br><br>Pokémon=Drapion<br>VGC 2020 Usage %=%{x}<br>Base Stats Mean=%{y}",
         "hovertext": [
          "Drapion"
         ],
         "legendgroup": "Drapion",
         "marker": {
          "color": "#FECB52",
          "symbol": "circle"
         },
         "mode": "markers",
         "name": "Drapion",
         "showlegend": true,
         "type": "scatter",
         "x": [
          0
         ],
         "xaxis": "x",
         "y": [
          83.33
         ],
         "yaxis": "y"
        },
        {
         "hoverlabel": {
          "namelength": 0
         },
         "hovertemplate": "<b>%{hovertext}</b><br><br>Pokémon=Rhydon<br>VGC 2020 Usage %=%{x}<br>Base Stats Mean=%{y}",
         "hovertext": [
          "Rhydon"
         ],
         "legendgroup": "Rhydon",
         "marker": {
          "color": "#636efa",
          "symbol": "circle"
         },
         "mode": "markers",
         "name": "Rhydon",
         "showlegend": true,
         "type": "scatter",
         "x": [
          0
         ],
         "xaxis": "x",
         "y": [
          80.83
         ],
         "yaxis": "y"
        },
        {
         "hoverlabel": {
          "namelength": 0
         },
         "hovertemplate": "<b>%{hovertext}</b><br><br>Pokémon=Shiftry<br>VGC 2020 Usage %=%{x}<br>Base Stats Mean=%{y}",
         "hovertext": [
          "Shiftry"
         ],
         "legendgroup": "Shiftry",
         "marker": {
          "color": "#EF553B",
          "symbol": "circle"
         },
         "mode": "markers",
         "name": "Shiftry",
         "showlegend": true,
         "type": "scatter",
         "x": [
          0
         ],
         "xaxis": "x",
         "y": [
          80
         ],
         "yaxis": "y"
        },
        {
         "hoverlabel": {
          "namelength": 0
         },
         "hovertemplate": "<b>%{hovertext}</b><br><br>Pokémon=Froslass<br>VGC 2020 Usage %=%{x}<br>Base Stats Mean=%{y}",
         "hovertext": [
          "Froslass"
         ],
         "legendgroup": "Froslass",
         "marker": {
          "color": "#00cc96",
          "symbol": "circle"
         },
         "mode": "markers",
         "name": "Froslass",
         "showlegend": true,
         "type": "scatter",
         "x": [
          0
         ],
         "xaxis": "x",
         "y": [
          80
         ],
         "yaxis": "y"
        },
        {
         "hoverlabel": {
          "namelength": 0
         },
         "hovertemplate": "<b>%{hovertext}</b><br><br>Pokémon=Vaporeon<br>VGC 2020 Usage %=%{x}<br>Base Stats Mean=%{y}",
         "hovertext": [
          "Vaporeon"
         ],
         "legendgroup": "Vaporeon",
         "marker": {
          "color": "#ab63fa",
          "symbol": "circle"
         },
         "mode": "markers",
         "name": "Vaporeon",
         "showlegend": true,
         "type": "scatter",
         "x": [
          0
         ],
         "xaxis": "x",
         "y": [
          87.5
         ],
         "yaxis": "y"
        },
        {
         "hoverlabel": {
          "namelength": 0
         },
         "hovertemplate": "<b>%{hovertext}</b><br><br>Pokémon=Cinccino<br>VGC 2020 Usage %=%{x}<br>Base Stats Mean=%{y}",
         "hovertext": [
          "Cinccino"
         ],
         "legendgroup": "Cinccino",
         "marker": {
          "color": "#FFA15A",
          "symbol": "circle"
         },
         "mode": "markers",
         "name": "Cinccino",
         "showlegend": true,
         "type": "scatter",
         "x": [
          0
         ],
         "xaxis": "x",
         "y": [
          78.33
         ],
         "yaxis": "y"
        },
        {
         "hoverlabel": {
          "namelength": 0
         },
         "hovertemplate": "<b>%{hovertext}</b><br><br>Pokémon=Octillery<br>VGC 2020 Usage %=%{x}<br>Base Stats Mean=%{y}",
         "hovertext": [
          "Octillery"
         ],
         "legendgroup": "Octillery",
         "marker": {
          "color": "#19d3f3",
          "symbol": "circle"
         },
         "mode": "markers",
         "name": "Octillery",
         "showlegend": true,
         "type": "scatter",
         "x": [
          0
         ],
         "xaxis": "x",
         "y": [
          80
         ],
         "yaxis": "y"
        },
        {
         "hoverlabel": {
          "namelength": 0
         },
         "hovertemplate": "<b>%{hovertext}</b><br><br>Pokémon=Dottler<br>VGC 2020 Usage %=%{x}<br>Base Stats Mean=%{y}",
         "hovertext": [
          "Dottler"
         ],
         "legendgroup": "Dottler",
         "marker": {
          "color": "#FF6692",
          "symbol": "circle"
         },
         "mode": "markers",
         "name": "Dottler",
         "showlegend": true,
         "type": "scatter",
         "x": [
          0
         ],
         "xaxis": "x",
         "y": [
          55.83
         ],
         "yaxis": "y"
        },
        {
         "hoverlabel": {
          "namelength": 0
         },
         "hovertemplate": "<b>%{hovertext}</b><br><br>Pokémon=Dusknoir<br>VGC 2020 Usage %=%{x}<br>Base Stats Mean=%{y}",
         "hovertext": [
          "Dusknoir"
         ],
         "legendgroup": "Dusknoir",
         "marker": {
          "color": "#B6E880",
          "symbol": "circle"
         },
         "mode": "markers",
         "name": "Dusknoir",
         "showlegend": true,
         "type": "scatter",
         "x": [
          0
         ],
         "xaxis": "x",
         "y": [
          87.5
         ],
         "yaxis": "y"
        },
        {
         "hoverlabel": {
          "namelength": 0
         },
         "hovertemplate": "<b>%{hovertext}</b><br><br>Pokémon=Delibird<br>VGC 2020 Usage %=%{x}<br>Base Stats Mean=%{y}",
         "hovertext": [
          "Delibird"
         ],
         "legendgroup": "Delibird",
         "marker": {
          "color": "#FF97FF",
          "symbol": "circle"
         },
         "mode": "markers",
         "name": "Delibird",
         "showlegend": true,
         "type": "scatter",
         "x": [
          0
         ],
         "xaxis": "x",
         "y": [
          55
         ],
         "yaxis": "y"
        },
        {
         "hoverlabel": {
          "namelength": 0
         },
         "hovertemplate": "<b>%{hovertext}</b><br><br>Pokémon=Wailord<br>VGC 2020 Usage %=%{x}<br>Base Stats Mean=%{y}",
         "hovertext": [
          "Wailord"
         ],
         "legendgroup": "Wailord",
         "marker": {
          "color": "#FECB52",
          "symbol": "circle"
         },
         "mode": "markers",
         "name": "Wailord",
         "showlegend": true,
         "type": "scatter",
         "x": [
          0
         ],
         "xaxis": "x",
         "y": [
          83.33
         ],
         "yaxis": "y"
        },
        {
         "hoverlabel": {
          "namelength": 0
         },
         "hovertemplate": "<b>%{hovertext}</b><br><br>Pokémon=Kingler<br>VGC 2020 Usage %=%{x}<br>Base Stats Mean=%{y}",
         "hovertext": [
          "Kingler"
         ],
         "legendgroup": "Kingler",
         "marker": {
          "color": "#636efa",
          "symbol": "circle"
         },
         "mode": "markers",
         "name": "Kingler",
         "showlegend": true,
         "type": "scatter",
         "x": [
          0
         ],
         "xaxis": "x",
         "y": [
          79.17
         ],
         "yaxis": "y"
        },
        {
         "hoverlabel": {
          "namelength": 0
         },
         "hovertemplate": "<b>%{hovertext}</b><br><br>Pokémon=Beheeyem<br>VGC 2020 Usage %=%{x}<br>Base Stats Mean=%{y}",
         "hovertext": [
          "Beheeyem"
         ],
         "legendgroup": "Beheeyem",
         "marker": {
          "color": "#EF553B",
          "symbol": "circle"
         },
         "mode": "markers",
         "name": "Beheeyem",
         "showlegend": true,
         "type": "scatter",
         "x": [
          0
         ],
         "xaxis": "x",
         "y": [
          80.83
         ],
         "yaxis": "y"
        },
        {
         "hoverlabel": {
          "namelength": 0
         },
         "hovertemplate": "<b>%{hovertext}</b><br><br>Pokémon=Glalie<br>VGC 2020 Usage %=%{x}<br>Base Stats Mean=%{y}",
         "hovertext": [
          "Glalie"
         ],
         "legendgroup": "Glalie",
         "marker": {
          "color": "#00cc96",
          "symbol": "circle"
         },
         "mode": "markers",
         "name": "Glalie",
         "showlegend": true,
         "type": "scatter",
         "x": [
          0
         ],
         "xaxis": "x",
         "y": [
          80
         ],
         "yaxis": "y"
        },
        {
         "hoverlabel": {
          "namelength": 0
         },
         "hovertemplate": "<b>%{hovertext}</b><br><br>Pokémon=Shuckle<br>VGC 2020 Usage %=%{x}<br>Base Stats Mean=%{y}",
         "hovertext": [
          "Shuckle"
         ],
         "legendgroup": "Shuckle",
         "marker": {
          "color": "#ab63fa",
          "symbol": "circle"
         },
         "mode": "markers",
         "name": "Shuckle",
         "showlegend": true,
         "type": "scatter",
         "x": [
          0
         ],
         "xaxis": "x",
         "y": [
          84.17
         ],
         "yaxis": "y"
        },
        {
         "hoverlabel": {
          "namelength": 0
         },
         "hovertemplate": "<b>%{hovertext}</b><br><br>Pokémon=Clefairy<br>VGC 2020 Usage %=%{x}<br>Base Stats Mean=%{y}",
         "hovertext": [
          "Clefairy"
         ],
         "legendgroup": "Clefairy",
         "marker": {
          "color": "#FFA15A",
          "symbol": "circle"
         },
         "mode": "markers",
         "name": "Clefairy",
         "showlegend": true,
         "type": "scatter",
         "x": [
          0
         ],
         "xaxis": "x",
         "y": [
          53.83
         ],
         "yaxis": "y"
        },
        {
         "hoverlabel": {
          "namelength": 0
         },
         "hovertemplate": "<b>%{hovertext}</b><br><br>Pokémon=Riolu<br>VGC 2020 Usage %=%{x}<br>Base Stats Mean=%{y}",
         "hovertext": [
          "Riolu"
         ],
         "legendgroup": "Riolu",
         "marker": {
          "color": "#19d3f3",
          "symbol": "circle"
         },
         "mode": "markers",
         "name": "Riolu",
         "showlegend": true,
         "type": "scatter",
         "x": [
          0
         ],
         "xaxis": "x",
         "y": [
          47.5
         ],
         "yaxis": "y"
        },
        {
         "hoverlabel": {
          "namelength": 0
         },
         "hovertemplate": "<b>%{hovertext}</b><br><br>Pokémon=Turtonator<br>VGC 2020 Usage %=%{x}<br>Base Stats Mean=%{y}",
         "hovertext": [
          "Turtonator"
         ],
         "legendgroup": "Turtonator",
         "marker": {
          "color": "#FF6692",
          "symbol": "circle"
         },
         "mode": "markers",
         "name": "Turtonator",
         "showlegend": true,
         "type": "scatter",
         "x": [
          0
         ],
         "xaxis": "x",
         "y": [
          80.83
         ],
         "yaxis": "y"
        },
        {
         "hoverlabel": {
          "namelength": 0
         },
         "hovertemplate": "<b>%{hovertext}</b><br><br>Pokémon=Doublade<br>VGC 2020 Usage %=%{x}<br>Base Stats Mean=%{y}",
         "hovertext": [
          "Doublade"
         ],
         "legendgroup": "Doublade",
         "marker": {
          "color": "#B6E880",
          "symbol": "circle"
         },
         "mode": "markers",
         "name": "Doublade",
         "showlegend": true,
         "type": "scatter",
         "x": [
          0
         ],
         "xaxis": "x",
         "y": [
          74.67
         ],
         "yaxis": "y"
        },
        {
         "hoverlabel": {
          "namelength": 0
         },
         "hovertemplate": "<b>%{hovertext}</b><br><br>Pokémon=Xatu<br>VGC 2020 Usage %=%{x}<br>Base Stats Mean=%{y}",
         "hovertext": [
          "Xatu"
         ],
         "legendgroup": "Xatu",
         "marker": {
          "color": "#FF97FF",
          "symbol": "circle"
         },
         "mode": "markers",
         "name": "Xatu",
         "showlegend": true,
         "type": "scatter",
         "x": [
          0
         ],
         "xaxis": "x",
         "y": [
          78.33
         ],
         "yaxis": "y"
        },
        {
         "hoverlabel": {
          "namelength": 0
         },
         "hovertemplate": "<b>%{hovertext}</b><br><br>Pokémon=Hitmonlee<br>VGC 2020 Usage %=%{x}<br>Base Stats Mean=%{y}",
         "hovertext": [
          "Hitmonlee"
         ],
         "legendgroup": "Hitmonlee",
         "marker": {
          "color": "#FECB52",
          "symbol": "circle"
         },
         "mode": "markers",
         "name": "Hitmonlee",
         "showlegend": true,
         "type": "scatter",
         "x": [
          0
         ],
         "xaxis": "x",
         "y": [
          75.83
         ],
         "yaxis": "y"
        },
        {
         "hoverlabel": {
          "namelength": 0
         },
         "hovertemplate": "<b>%{hovertext}</b><br><br>Pokémon=Charjabug<br>VGC 2020 Usage %=%{x}<br>Base Stats Mean=%{y}",
         "hovertext": [
          "Charjabug"
         ],
         "legendgroup": "Charjabug",
         "marker": {
          "color": "#636efa",
          "symbol": "circle"
         },
         "mode": "markers",
         "name": "Charjabug",
         "showlegend": true,
         "type": "scatter",
         "x": [
          0
         ],
         "xaxis": "x",
         "y": [
          66.67
         ],
         "yaxis": "y"
        },
        {
         "hoverlabel": {
          "namelength": 0
         },
         "hovertemplate": "<b>%{hovertext}</b><br><br>Pokémon=Maractus<br>VGC 2020 Usage %=%{x}<br>Base Stats Mean=%{y}",
         "hovertext": [
          "Maractus"
         ],
         "legendgroup": "Maractus",
         "marker": {
          "color": "#EF553B",
          "symbol": "circle"
         },
         "mode": "markers",
         "name": "Maractus",
         "showlegend": true,
         "type": "scatter",
         "x": [
          0
         ],
         "xaxis": "x",
         "y": [
          76.83
         ],
         "yaxis": "y"
        },
        {
         "hoverlabel": {
          "namelength": 0
         },
         "hovertemplate": "<b>%{hovertext}</b><br><br>Pokémon=Shedinja<br>VGC 2020 Usage %=%{x}<br>Base Stats Mean=%{y}",
         "hovertext": [
          "Shedinja"
         ],
         "legendgroup": "Shedinja",
         "marker": {
          "color": "#00cc96",
          "symbol": "circle"
         },
         "mode": "markers",
         "name": "Shedinja",
         "showlegend": true,
         "type": "scatter",
         "x": [
          0
         ],
         "xaxis": "x",
         "y": [
          39.33
         ],
         "yaxis": "y"
        },
        {
         "hoverlabel": {
          "namelength": 0
         },
         "hovertemplate": "<b>%{hovertext}</b><br><br>Pokémon=Hitmonchan<br>VGC 2020 Usage %=%{x}<br>Base Stats Mean=%{y}",
         "hovertext": [
          "Hitmonchan"
         ],
         "legendgroup": "Hitmonchan",
         "marker": {
          "color": "#ab63fa",
          "symbol": "circle"
         },
         "mode": "markers",
         "name": "Hitmonchan",
         "showlegend": true,
         "type": "scatter",
         "x": [
          0
         ],
         "xaxis": "x",
         "y": [
          75.83
         ],
         "yaxis": "y"
        },
        {
         "hoverlabel": {
          "namelength": 0
         },
         "hovertemplate": "<b>%{hovertext}</b><br><br>Pokémon=Swoobat<br>VGC 2020 Usage %=%{x}<br>Base Stats Mean=%{y}",
         "hovertext": [
          "Swoobat"
         ],
         "legendgroup": "Swoobat",
         "marker": {
          "color": "#FFA15A",
          "symbol": "circle"
         },
         "mode": "markers",
         "name": "Swoobat",
         "showlegend": true,
         "type": "scatter",
         "x": [
          0
         ],
         "xaxis": "x",
         "y": [
          70.83
         ],
         "yaxis": "y"
        },
        {
         "hoverlabel": {
          "namelength": 0
         },
         "hovertemplate": "<b>%{hovertext}</b><br><br>Pokémon=Gloom<br>VGC 2020 Usage %=%{x}<br>Base Stats Mean=%{y}",
         "hovertext": [
          "Gloom"
         ],
         "legendgroup": "Gloom",
         "marker": {
          "color": "#19d3f3",
          "symbol": "circle"
         },
         "mode": "markers",
         "name": "Gloom",
         "showlegend": true,
         "type": "scatter",
         "x": [
          0
         ],
         "xaxis": "x",
         "y": [
          65.83
         ],
         "yaxis": "y"
        },
        {
         "hoverlabel": {
          "namelength": 0
         },
         "hovertemplate": "<b>%{hovertext}</b><br><br>Pokémon=Whiscash<br>VGC 2020 Usage %=%{x}<br>Base Stats Mean=%{y}",
         "hovertext": [
          "Whiscash"
         ],
         "legendgroup": "Whiscash",
         "marker": {
          "color": "#FF6692",
          "symbol": "circle"
         },
         "mode": "markers",
         "name": "Whiscash",
         "showlegend": true,
         "type": "scatter",
         "x": [
          0
         ],
         "xaxis": "x",
         "y": [
          78
         ],
         "yaxis": "y"
        },
        {
         "hoverlabel": {
          "namelength": 0
         },
         "hovertemplate": "<b>%{hovertext}</b><br><br>Pokémon=Sneasel<br>VGC 2020 Usage %=%{x}<br>Base Stats Mean=%{y}",
         "hovertext": [
          "Sneasel"
         ],
         "legendgroup": "Sneasel",
         "marker": {
          "color": "#B6E880",
          "symbol": "circle"
         },
         "mode": "markers",
         "name": "Sneasel",
         "showlegend": true,
         "type": "scatter",
         "x": [
          0
         ],
         "xaxis": "x",
         "y": [
          71.67
         ],
         "yaxis": "y"
        },
        {
         "hoverlabel": {
          "namelength": 0
         },
         "hovertemplate": "<b>%{hovertext}</b><br><br>Pokémon=Flareon<br>VGC 2020 Usage %=%{x}<br>Base Stats Mean=%{y}",
         "hovertext": [
          "Flareon"
         ],
         "legendgroup": "Flareon",
         "marker": {
          "color": "#FF97FF",
          "symbol": "circle"
         },
         "mode": "markers",
         "name": "Flareon",
         "showlegend": true,
         "type": "scatter",
         "x": [
          0
         ],
         "xaxis": "x",
         "y": [
          87.5
         ],
         "yaxis": "y"
        },
        {
         "hoverlabel": {
          "namelength": 0
         },
         "hovertemplate": "<b>%{hovertext}</b><br><br>Pokémon=Golurk<br>VGC 2020 Usage %=%{x}<br>Base Stats Mean=%{y}",
         "hovertext": [
          "Golurk"
         ],
         "legendgroup": "Golurk",
         "marker": {
          "color": "#FECB52",
          "symbol": "circle"
         },
         "mode": "markers",
         "name": "Golurk",
         "showlegend": true,
         "type": "scatter",
         "x": [
          0
         ],
         "xaxis": "x",
         "y": [
          80.5
         ],
         "yaxis": "y"
        },
        {
         "hoverlabel": {
          "namelength": 0
         },
         "hovertemplate": "<b>%{hovertext}</b><br><br>Pokémon=Meowstic<br>VGC 2020 Usage %=%{x}<br>Base Stats Mean=%{y}",
         "hovertext": [
          "Meowstic"
         ],
         "legendgroup": "Meowstic",
         "marker": {
          "color": "#636efa",
          "symbol": "circle"
         },
         "mode": "markers",
         "name": "Meowstic",
         "showlegend": true,
         "type": "scatter",
         "x": [
          0
         ],
         "xaxis": "x",
         "y": [
          77.67
         ],
         "yaxis": "y"
        },
        {
         "hoverlabel": {
          "namelength": 0
         },
         "hovertemplate": "<b>%{hovertext}</b><br><br>Pokémon=Lanturn<br>VGC 2020 Usage %=%{x}<br>Base Stats Mean=%{y}",
         "hovertext": [
          "Lanturn"
         ],
         "legendgroup": "Lanturn",
         "marker": {
          "color": "#EF553B",
          "symbol": "circle"
         },
         "mode": "markers",
         "name": "Lanturn",
         "showlegend": true,
         "type": "scatter",
         "x": [
          0
         ],
         "xaxis": "x",
         "y": [
          76.67
         ],
         "yaxis": "y"
        },
        {
         "hoverlabel": {
          "namelength": 0
         },
         "hovertemplate": "<b>%{hovertext}</b><br><br>Pokémon=Slurpuff<br>VGC 2020 Usage %=%{x}<br>Base Stats Mean=%{y}",
         "hovertext": [
          "Slurpuff"
         ],
         "legendgroup": "Slurpuff",
         "marker": {
          "color": "#00cc96",
          "symbol": "circle"
         },
         "mode": "markers",
         "name": "Slurpuff",
         "showlegend": true,
         "type": "scatter",
         "x": [
          0
         ],
         "xaxis": "x",
         "y": [
          80
         ],
         "yaxis": "y"
        },
        {
         "hoverlabel": {
          "namelength": 0
         },
         "hovertemplate": "<b>%{hovertext}</b><br><br>Pokémon=Mime Jr.<br>VGC 2020 Usage %=%{x}<br>Base Stats Mean=%{y}",
         "hovertext": [
          "Mime Jr."
         ],
         "legendgroup": "Mime Jr.",
         "marker": {
          "color": "#ab63fa",
          "symbol": "circle"
         },
         "mode": "markers",
         "name": "Mime Jr.",
         "showlegend": true,
         "type": "scatter",
         "x": [
          0
         ],
         "xaxis": "x",
         "y": [
          51.67
         ],
         "yaxis": "y"
        },
        {
         "hoverlabel": {
          "namelength": 0
         },
         "hovertemplate": "<b>%{hovertext}</b><br><br>Pokémon=Morelull<br>VGC 2020 Usage %=%{x}<br>Base Stats Mean=%{y}",
         "hovertext": [
          "Morelull"
         ],
         "legendgroup": "Morelull",
         "marker": {
          "color": "#FFA15A",
          "symbol": "circle"
         },
         "mode": "markers",
         "name": "Morelull",
         "showlegend": true,
         "type": "scatter",
         "x": [
          0
         ],
         "xaxis": "x",
         "y": [
          47.5
         ],
         "yaxis": "y"
        },
        {
         "hoverlabel": {
          "namelength": 0
         },
         "hovertemplate": "<b>%{hovertext}</b><br><br>Pokémon=Mawile<br>VGC 2020 Usage %=%{x}<br>Base Stats Mean=%{y}",
         "hovertext": [
          "Mawile"
         ],
         "legendgroup": "Mawile",
         "marker": {
          "color": "#19d3f3",
          "symbol": "circle"
         },
         "mode": "markers",
         "name": "Mawile",
         "showlegend": true,
         "type": "scatter",
         "x": [
          0
         ],
         "xaxis": "x",
         "y": [
          63.33
         ],
         "yaxis": "y"
        },
        {
         "hoverlabel": {
          "namelength": 0
         },
         "hovertemplate": "<b>%{hovertext}</b><br><br>Pokémon=Pyukumuku<br>VGC 2020 Usage %=%{x}<br>Base Stats Mean=%{y}",
         "hovertext": [
          "Pyukumuku"
         ],
         "legendgroup": "Pyukumuku",
         "marker": {
          "color": "#FF6692",
          "symbol": "circle"
         },
         "mode": "markers",
         "name": "Pyukumuku",
         "showlegend": true,
         "type": "scatter",
         "x": [
          0
         ],
         "xaxis": "x",
         "y": [
          68.33
         ],
         "yaxis": "y"
        },
        {
         "hoverlabel": {
          "namelength": 0
         },
         "hovertemplate": "<b>%{hovertext}</b><br><br>Pokémon=Cottonee<br>VGC 2020 Usage %=%{x}<br>Base Stats Mean=%{y}",
         "hovertext": [
          "Cottonee"
         ],
         "legendgroup": "Cottonee",
         "marker": {
          "color": "#B6E880",
          "symbol": "circle"
         },
         "mode": "markers",
         "name": "Cottonee",
         "showlegend": true,
         "type": "scatter",
         "x": [
          0
         ],
         "xaxis": "x",
         "y": [
          46.67
         ],
         "yaxis": "y"
        },
        {
         "hoverlabel": {
          "namelength": 0
         },
         "hovertemplate": "<b>%{hovertext}</b><br><br>Pokémon=Throh<br>VGC 2020 Usage %=%{x}<br>Base Stats Mean=%{y}",
         "hovertext": [
          "Throh"
         ],
         "legendgroup": "Throh",
         "marker": {
          "color": "#FF97FF",
          "symbol": "circle"
         },
         "mode": "markers",
         "name": "Throh",
         "showlegend": true,
         "type": "scatter",
         "x": [
          0
         ],
         "xaxis": "x",
         "y": [
          77.5
         ],
         "yaxis": "y"
        },
        {
         "hoverlabel": {
          "namelength": 0
         },
         "hovertemplate": "<b>%{hovertext}</b><br><br>Pokémon=Shellos<br>VGC 2020 Usage %=%{x}<br>Base Stats Mean=%{y}",
         "hovertext": [
          "Shellos"
         ],
         "legendgroup": "Shellos",
         "marker": {
          "color": "#FECB52",
          "symbol": "circle"
         },
         "mode": "markers",
         "name": "Shellos",
         "showlegend": true,
         "type": "scatter",
         "x": [
          0
         ],
         "xaxis": "x",
         "y": [
          54.17
         ],
         "yaxis": "y"
        },
        {
         "hoverlabel": {
          "namelength": 0
         },
         "hovertemplate": "<b>%{hovertext}</b><br><br>Pokémon=Wobbuffet<br>VGC 2020 Usage %=%{x}<br>Base Stats Mean=%{y}",
         "hovertext": [
          "Wobbuffet"
         ],
         "legendgroup": "Wobbuffet",
         "marker": {
          "color": "#636efa",
          "symbol": "circle"
         },
         "mode": "markers",
         "name": "Wobbuffet",
         "showlegend": true,
         "type": "scatter",
         "x": [
          0
         ],
         "xaxis": "x",
         "y": [
          67.5
         ],
         "yaxis": "y"
        }
       ],
       "layout": {
        "legend": {
         "title": {
          "text": "Pokémon"
         },
         "tracegroupgap": 0
        },
        "margin": {
         "t": 60
        },
        "template": {
         "data": {
          "bar": [
           {
            "error_x": {
             "color": "#2a3f5f"
            },
            "error_y": {
             "color": "#2a3f5f"
            },
            "marker": {
             "line": {
              "color": "#E5ECF6",
              "width": 0.5
             }
            },
            "type": "bar"
           }
          ],
          "barpolar": [
           {
            "marker": {
             "line": {
              "color": "#E5ECF6",
              "width": 0.5
             }
            },
            "type": "barpolar"
           }
          ],
          "carpet": [
           {
            "aaxis": {
             "endlinecolor": "#2a3f5f",
             "gridcolor": "white",
             "linecolor": "white",
             "minorgridcolor": "white",
             "startlinecolor": "#2a3f5f"
            },
            "baxis": {
             "endlinecolor": "#2a3f5f",
             "gridcolor": "white",
             "linecolor": "white",
             "minorgridcolor": "white",
             "startlinecolor": "#2a3f5f"
            },
            "type": "carpet"
           }
          ],
          "choropleth": [
           {
            "colorbar": {
             "outlinewidth": 0,
             "ticks": ""
            },
            "type": "choropleth"
           }
          ],
          "contour": [
           {
            "colorbar": {
             "outlinewidth": 0,
             "ticks": ""
            },
            "colorscale": [
             [
              0,
              "#0d0887"
             ],
             [
              0.1111111111111111,
              "#46039f"
             ],
             [
              0.2222222222222222,
              "#7201a8"
             ],
             [
              0.3333333333333333,
              "#9c179e"
             ],
             [
              0.4444444444444444,
              "#bd3786"
             ],
             [
              0.5555555555555556,
              "#d8576b"
             ],
             [
              0.6666666666666666,
              "#ed7953"
             ],
             [
              0.7777777777777778,
              "#fb9f3a"
             ],
             [
              0.8888888888888888,
              "#fdca26"
             ],
             [
              1,
              "#f0f921"
             ]
            ],
            "type": "contour"
           }
          ],
          "contourcarpet": [
           {
            "colorbar": {
             "outlinewidth": 0,
             "ticks": ""
            },
            "type": "contourcarpet"
           }
          ],
          "heatmap": [
           {
            "colorbar": {
             "outlinewidth": 0,
             "ticks": ""
            },
            "colorscale": [
             [
              0,
              "#0d0887"
             ],
             [
              0.1111111111111111,
              "#46039f"
             ],
             [
              0.2222222222222222,
              "#7201a8"
             ],
             [
              0.3333333333333333,
              "#9c179e"
             ],
             [
              0.4444444444444444,
              "#bd3786"
             ],
             [
              0.5555555555555556,
              "#d8576b"
             ],
             [
              0.6666666666666666,
              "#ed7953"
             ],
             [
              0.7777777777777778,
              "#fb9f3a"
             ],
             [
              0.8888888888888888,
              "#fdca26"
             ],
             [
              1,
              "#f0f921"
             ]
            ],
            "type": "heatmap"
           }
          ],
          "heatmapgl": [
           {
            "colorbar": {
             "outlinewidth": 0,
             "ticks": ""
            },
            "colorscale": [
             [
              0,
              "#0d0887"
             ],
             [
              0.1111111111111111,
              "#46039f"
             ],
             [
              0.2222222222222222,
              "#7201a8"
             ],
             [
              0.3333333333333333,
              "#9c179e"
             ],
             [
              0.4444444444444444,
              "#bd3786"
             ],
             [
              0.5555555555555556,
              "#d8576b"
             ],
             [
              0.6666666666666666,
              "#ed7953"
             ],
             [
              0.7777777777777778,
              "#fb9f3a"
             ],
             [
              0.8888888888888888,
              "#fdca26"
             ],
             [
              1,
              "#f0f921"
             ]
            ],
            "type": "heatmapgl"
           }
          ],
          "histogram": [
           {
            "marker": {
             "colorbar": {
              "outlinewidth": 0,
              "ticks": ""
             }
            },
            "type": "histogram"
           }
          ],
          "histogram2d": [
           {
            "colorbar": {
             "outlinewidth": 0,
             "ticks": ""
            },
            "colorscale": [
             [
              0,
              "#0d0887"
             ],
             [
              0.1111111111111111,
              "#46039f"
             ],
             [
              0.2222222222222222,
              "#7201a8"
             ],
             [
              0.3333333333333333,
              "#9c179e"
             ],
             [
              0.4444444444444444,
              "#bd3786"
             ],
             [
              0.5555555555555556,
              "#d8576b"
             ],
             [
              0.6666666666666666,
              "#ed7953"
             ],
             [
              0.7777777777777778,
              "#fb9f3a"
             ],
             [
              0.8888888888888888,
              "#fdca26"
             ],
             [
              1,
              "#f0f921"
             ]
            ],
            "type": "histogram2d"
           }
          ],
          "histogram2dcontour": [
           {
            "colorbar": {
             "outlinewidth": 0,
             "ticks": ""
            },
            "colorscale": [
             [
              0,
              "#0d0887"
             ],
             [
              0.1111111111111111,
              "#46039f"
             ],
             [
              0.2222222222222222,
              "#7201a8"
             ],
             [
              0.3333333333333333,
              "#9c179e"
             ],
             [
              0.4444444444444444,
              "#bd3786"
             ],
             [
              0.5555555555555556,
              "#d8576b"
             ],
             [
              0.6666666666666666,
              "#ed7953"
             ],
             [
              0.7777777777777778,
              "#fb9f3a"
             ],
             [
              0.8888888888888888,
              "#fdca26"
             ],
             [
              1,
              "#f0f921"
             ]
            ],
            "type": "histogram2dcontour"
           }
          ],
          "mesh3d": [
           {
            "colorbar": {
             "outlinewidth": 0,
             "ticks": ""
            },
            "type": "mesh3d"
           }
          ],
          "parcoords": [
           {
            "line": {
             "colorbar": {
              "outlinewidth": 0,
              "ticks": ""
             }
            },
            "type": "parcoords"
           }
          ],
          "pie": [
           {
            "automargin": true,
            "type": "pie"
           }
          ],
          "scatter": [
           {
            "marker": {
             "colorbar": {
              "outlinewidth": 0,
              "ticks": ""
             }
            },
            "type": "scatter"
           }
          ],
          "scatter3d": [
           {
            "line": {
             "colorbar": {
              "outlinewidth": 0,
              "ticks": ""
             }
            },
            "marker": {
             "colorbar": {
              "outlinewidth": 0,
              "ticks": ""
             }
            },
            "type": "scatter3d"
           }
          ],
          "scattercarpet": [
           {
            "marker": {
             "colorbar": {
              "outlinewidth": 0,
              "ticks": ""
             }
            },
            "type": "scattercarpet"
           }
          ],
          "scattergeo": [
           {
            "marker": {
             "colorbar": {
              "outlinewidth": 0,
              "ticks": ""
             }
            },
            "type": "scattergeo"
           }
          ],
          "scattergl": [
           {
            "marker": {
             "colorbar": {
              "outlinewidth": 0,
              "ticks": ""
             }
            },
            "type": "scattergl"
           }
          ],
          "scattermapbox": [
           {
            "marker": {
             "colorbar": {
              "outlinewidth": 0,
              "ticks": ""
             }
            },
            "type": "scattermapbox"
           }
          ],
          "scatterpolar": [
           {
            "marker": {
             "colorbar": {
              "outlinewidth": 0,
              "ticks": ""
             }
            },
            "type": "scatterpolar"
           }
          ],
          "scatterpolargl": [
           {
            "marker": {
             "colorbar": {
              "outlinewidth": 0,
              "ticks": ""
             }
            },
            "type": "scatterpolargl"
           }
          ],
          "scatterternary": [
           {
            "marker": {
             "colorbar": {
              "outlinewidth": 0,
              "ticks": ""
             }
            },
            "type": "scatterternary"
           }
          ],
          "surface": [
           {
            "colorbar": {
             "outlinewidth": 0,
             "ticks": ""
            },
            "colorscale": [
             [
              0,
              "#0d0887"
             ],
             [
              0.1111111111111111,
              "#46039f"
             ],
             [
              0.2222222222222222,
              "#7201a8"
             ],
             [
              0.3333333333333333,
              "#9c179e"
             ],
             [
              0.4444444444444444,
              "#bd3786"
             ],
             [
              0.5555555555555556,
              "#d8576b"
             ],
             [
              0.6666666666666666,
              "#ed7953"
             ],
             [
              0.7777777777777778,
              "#fb9f3a"
             ],
             [
              0.8888888888888888,
              "#fdca26"
             ],
             [
              1,
              "#f0f921"
             ]
            ],
            "type": "surface"
           }
          ],
          "table": [
           {
            "cells": {
             "fill": {
              "color": "#EBF0F8"
             },
             "line": {
              "color": "white"
             }
            },
            "header": {
             "fill": {
              "color": "#C8D4E3"
             },
             "line": {
              "color": "white"
             }
            },
            "type": "table"
           }
          ]
         },
         "layout": {
          "annotationdefaults": {
           "arrowcolor": "#2a3f5f",
           "arrowhead": 0,
           "arrowwidth": 1
          },
          "coloraxis": {
           "colorbar": {
            "outlinewidth": 0,
            "ticks": ""
           }
          },
          "colorscale": {
           "diverging": [
            [
             0,
             "#8e0152"
            ],
            [
             0.1,
             "#c51b7d"
            ],
            [
             0.2,
             "#de77ae"
            ],
            [
             0.3,
             "#f1b6da"
            ],
            [
             0.4,
             "#fde0ef"
            ],
            [
             0.5,
             "#f7f7f7"
            ],
            [
             0.6,
             "#e6f5d0"
            ],
            [
             0.7,
             "#b8e186"
            ],
            [
             0.8,
             "#7fbc41"
            ],
            [
             0.9,
             "#4d9221"
            ],
            [
             1,
             "#276419"
            ]
           ],
           "sequential": [
            [
             0,
             "#0d0887"
            ],
            [
             0.1111111111111111,
             "#46039f"
            ],
            [
             0.2222222222222222,
             "#7201a8"
            ],
            [
             0.3333333333333333,
             "#9c179e"
            ],
            [
             0.4444444444444444,
             "#bd3786"
            ],
            [
             0.5555555555555556,
             "#d8576b"
            ],
            [
             0.6666666666666666,
             "#ed7953"
            ],
            [
             0.7777777777777778,
             "#fb9f3a"
            ],
            [
             0.8888888888888888,
             "#fdca26"
            ],
            [
             1,
             "#f0f921"
            ]
           ],
           "sequentialminus": [
            [
             0,
             "#0d0887"
            ],
            [
             0.1111111111111111,
             "#46039f"
            ],
            [
             0.2222222222222222,
             "#7201a8"
            ],
            [
             0.3333333333333333,
             "#9c179e"
            ],
            [
             0.4444444444444444,
             "#bd3786"
            ],
            [
             0.5555555555555556,
             "#d8576b"
            ],
            [
             0.6666666666666666,
             "#ed7953"
            ],
            [
             0.7777777777777778,
             "#fb9f3a"
            ],
            [
             0.8888888888888888,
             "#fdca26"
            ],
            [
             1,
             "#f0f921"
            ]
           ]
          },
          "colorway": [
           "#636efa",
           "#EF553B",
           "#00cc96",
           "#ab63fa",
           "#FFA15A",
           "#19d3f3",
           "#FF6692",
           "#B6E880",
           "#FF97FF",
           "#FECB52"
          ],
          "font": {
           "color": "#2a3f5f"
          },
          "geo": {
           "bgcolor": "white",
           "lakecolor": "white",
           "landcolor": "#E5ECF6",
           "showlakes": true,
           "showland": true,
           "subunitcolor": "white"
          },
          "hoverlabel": {
           "align": "left"
          },
          "hovermode": "closest",
          "mapbox": {
           "style": "light"
          },
          "paper_bgcolor": "white",
          "plot_bgcolor": "#E5ECF6",
          "polar": {
           "angularaxis": {
            "gridcolor": "white",
            "linecolor": "white",
            "ticks": ""
           },
           "bgcolor": "#E5ECF6",
           "radialaxis": {
            "gridcolor": "white",
            "linecolor": "white",
            "ticks": ""
           }
          },
          "scene": {
           "xaxis": {
            "backgroundcolor": "#E5ECF6",
            "gridcolor": "white",
            "gridwidth": 2,
            "linecolor": "white",
            "showbackground": true,
            "ticks": "",
            "zerolinecolor": "white"
           },
           "yaxis": {
            "backgroundcolor": "#E5ECF6",
            "gridcolor": "white",
            "gridwidth": 2,
            "linecolor": "white",
            "showbackground": true,
            "ticks": "",
            "zerolinecolor": "white"
           },
           "zaxis": {
            "backgroundcolor": "#E5ECF6",
            "gridcolor": "white",
            "gridwidth": 2,
            "linecolor": "white",
            "showbackground": true,
            "ticks": "",
            "zerolinecolor": "white"
           }
          },
          "shapedefaults": {
           "line": {
            "color": "#2a3f5f"
           }
          },
          "ternary": {
           "aaxis": {
            "gridcolor": "white",
            "linecolor": "white",
            "ticks": ""
           },
           "baxis": {
            "gridcolor": "white",
            "linecolor": "white",
            "ticks": ""
           },
           "bgcolor": "#E5ECF6",
           "caxis": {
            "gridcolor": "white",
            "linecolor": "white",
            "ticks": ""
           }
          },
          "title": {
           "x": 0.05
          },
          "xaxis": {
           "automargin": true,
           "gridcolor": "white",
           "linecolor": "white",
           "ticks": "",
           "title": {
            "standoff": 15
           },
           "zerolinecolor": "white",
           "zerolinewidth": 2
          },
          "yaxis": {
           "automargin": true,
           "gridcolor": "white",
           "linecolor": "white",
           "ticks": "",
           "title": {
            "standoff": 15
           },
           "zerolinecolor": "white",
           "zerolinewidth": 2
          }
         }
        },
        "xaxis": {
         "anchor": "y",
         "domain": [
          0,
          1
         ],
         "title": {
          "text": "VGC 2020 Usage %"
         }
        },
        "yaxis": {
         "anchor": "x",
         "domain": [
          0,
          1
         ],
         "title": {
          "text": "Base Stats Mean"
         }
        }
       }
      },
      "text/html": [
       "<div>\n",
       "        \n",
       "        \n",
       "            <div id=\"4f8ebe35-46d7-452d-8357-9fcb705f0282\" class=\"plotly-graph-div\" style=\"height:525px; width:100%;\"></div>\n",
       "            <script type=\"text/javascript\">\n",
       "                require([\"plotly\"], function(Plotly) {\n",
       "                    window.PLOTLYENV=window.PLOTLYENV || {};\n",
       "                    \n",
       "                if (document.getElementById(\"4f8ebe35-46d7-452d-8357-9fcb705f0282\")) {\n",
       "                    Plotly.newPlot(\n",
       "                        '4f8ebe35-46d7-452d-8357-9fcb705f0282',\n",
       "                        [{\"hoverlabel\": {\"namelength\": 0}, \"hovertemplate\": \"<b>%{hovertext}</b><br><br>Pok\\u00e9mon=Togekiss<br>VGC 2020 Usage %=%{x}<br>Base Stats Mean=%{y}\", \"hovertext\": [\"Togekiss\"], \"legendgroup\": \"Togekiss\", \"marker\": {\"color\": \"#636efa\", \"symbol\": \"circle\"}, \"mode\": \"markers\", \"name\": \"Togekiss\", \"showlegend\": true, \"type\": \"scatter\", \"x\": [46.0], \"xaxis\": \"x\", \"y\": [90.83], \"yaxis\": \"y\"}, {\"hoverlabel\": {\"namelength\": 0}, \"hovertemplate\": \"<b>%{hovertext}</b><br><br>Pok\\u00e9mon=Arcanine<br>VGC 2020 Usage %=%{x}<br>Base Stats Mean=%{y}\", \"hovertext\": [\"Arcanine\"], \"legendgroup\": \"Arcanine\", \"marker\": {\"color\": \"#EF553B\", \"symbol\": \"circle\"}, \"mode\": \"markers\", \"name\": \"Arcanine\", \"showlegend\": true, \"type\": \"scatter\", \"x\": [36.0], \"xaxis\": \"x\", \"y\": [92.5], \"yaxis\": \"y\"}, {\"hoverlabel\": {\"namelength\": 0}, \"hovertemplate\": \"<b>%{hovertext}</b><br><br>Pok\\u00e9mon=Dragapult<br>VGC 2020 Usage %=%{x}<br>Base Stats Mean=%{y}\", \"hovertext\": [\"Dragapult\"], \"legendgroup\": \"Dragapult\", \"marker\": {\"color\": \"#00cc96\", \"symbol\": \"circle\"}, \"mode\": \"markers\", \"name\": \"Dragapult\", \"showlegend\": true, \"type\": \"scatter\", \"x\": [31.0], \"xaxis\": \"x\", \"y\": [100.0], \"yaxis\": \"y\"}, {\"hoverlabel\": {\"namelength\": 0}, \"hovertemplate\": \"<b>%{hovertext}</b><br><br>Pok\\u00e9mon=Excadrill<br>VGC 2020 Usage %=%{x}<br>Base Stats Mean=%{y}\", \"hovertext\": [\"Excadrill\"], \"legendgroup\": \"Excadrill\", \"marker\": {\"color\": \"#ab63fa\", \"symbol\": \"circle\"}, \"mode\": \"markers\", \"name\": \"Excadrill\", \"showlegend\": true, \"type\": \"scatter\", \"x\": [30.0], \"xaxis\": \"x\", \"y\": [84.67], \"yaxis\": \"y\"}, {\"hoverlabel\": {\"namelength\": 0}, \"hovertemplate\": \"<b>%{hovertext}</b><br><br>Pok\\u00e9mon=Whimsicott<br>VGC 2020 Usage %=%{x}<br>Base Stats Mean=%{y}\", \"hovertext\": [\"Whimsicott\"], \"legendgroup\": \"Whimsicott\", \"marker\": {\"color\": \"#FFA15A\", \"symbol\": \"circle\"}, \"mode\": \"markers\", \"name\": \"Whimsicott\", \"showlegend\": true, \"type\": \"scatter\", \"x\": [29.0], \"xaxis\": \"x\", \"y\": [80.0], \"yaxis\": \"y\"}, {\"hoverlabel\": {\"namelength\": 0}, \"hovertemplate\": \"<b>%{hovertext}</b><br><br>Pok\\u00e9mon=Duraludon<br>VGC 2020 Usage %=%{x}<br>Base Stats Mean=%{y}\", \"hovertext\": [\"Duraludon\"], \"legendgroup\": \"Duraludon\", \"marker\": {\"color\": \"#19d3f3\", \"symbol\": \"circle\"}, \"mode\": \"markers\", \"name\": \"Duraludon\", \"showlegend\": true, \"type\": \"scatter\", \"x\": [24.0], \"xaxis\": \"x\", \"y\": [89.17], \"yaxis\": \"y\"}, {\"hoverlabel\": {\"namelength\": 0}, \"hovertemplate\": \"<b>%{hovertext}</b><br><br>Pok\\u00e9mon=Tyranitar<br>VGC 2020 Usage %=%{x}<br>Base Stats Mean=%{y}\", \"hovertext\": [\"Tyranitar\"], \"legendgroup\": \"Tyranitar\", \"marker\": {\"color\": \"#FF6692\", \"symbol\": \"circle\"}, \"mode\": \"markers\", \"name\": \"Tyranitar\", \"showlegend\": true, \"type\": \"scatter\", \"x\": [23.0], \"xaxis\": \"x\", \"y\": [100.0], \"yaxis\": \"y\"}, {\"hoverlabel\": {\"namelength\": 0}, \"hovertemplate\": \"<b>%{hovertext}</b><br><br>Pok\\u00e9mon=Grimmsnarl<br>VGC 2020 Usage %=%{x}<br>Base Stats Mean=%{y}\", \"hovertext\": [\"Grimmsnarl\"], \"legendgroup\": \"Grimmsnarl\", \"marker\": {\"color\": \"#B6E880\", \"symbol\": \"circle\"}, \"mode\": \"markers\", \"name\": \"Grimmsnarl\", \"showlegend\": true, \"type\": \"scatter\", \"x\": [20.0], \"xaxis\": \"x\", \"y\": [85.0], \"yaxis\": \"y\"}, {\"hoverlabel\": {\"namelength\": 0}, \"hovertemplate\": \"<b>%{hovertext}</b><br><br>Pok\\u00e9mon=Gyarados<br>VGC 2020 Usage %=%{x}<br>Base Stats Mean=%{y}\", \"hovertext\": [\"Gyarados\"], \"legendgroup\": \"Gyarados\", \"marker\": {\"color\": \"#FF97FF\", \"symbol\": \"circle\"}, \"mode\": \"markers\", \"name\": \"Gyarados\", \"showlegend\": true, \"type\": \"scatter\", \"x\": [17.0], \"xaxis\": \"x\", \"y\": [90.0], \"yaxis\": \"y\"}, {\"hoverlabel\": {\"namelength\": 0}, \"hovertemplate\": \"<b>%{hovertext}</b><br><br>Pok\\u00e9mon=Gastrodon<br>VGC 2020 Usage %=%{x}<br>Base Stats Mean=%{y}\", \"hovertext\": [\"Gastrodon\"], \"legendgroup\": \"Gastrodon\", \"marker\": {\"color\": \"#FECB52\", \"symbol\": \"circle\"}, \"mode\": \"markers\", \"name\": \"Gastrodon\", \"showlegend\": true, \"type\": \"scatter\", \"x\": [17.0], \"xaxis\": \"x\", \"y\": [79.17], \"yaxis\": \"y\"}, {\"hoverlabel\": {\"namelength\": 0}, \"hovertemplate\": \"<b>%{hovertext}</b><br><br>Pok\\u00e9mon=Rhyperior<br>VGC 2020 Usage %=%{x}<br>Base Stats Mean=%{y}\", \"hovertext\": [\"Rhyperior\"], \"legendgroup\": \"Rhyperior\", \"marker\": {\"color\": \"#636efa\", \"symbol\": \"circle\"}, \"mode\": \"markers\", \"name\": \"Rhyperior\", \"showlegend\": true, \"type\": \"scatter\", \"x\": [16.0], \"xaxis\": \"x\", \"y\": [89.17], \"yaxis\": \"y\"}, {\"hoverlabel\": {\"namelength\": 0}, \"hovertemplate\": \"<b>%{hovertext}</b><br><br>Pok\\u00e9mon=Conkeldurr<br>VGC 2020 Usage %=%{x}<br>Base Stats Mean=%{y}\", \"hovertext\": [\"Conkeldurr\"], \"legendgroup\": \"Conkeldurr\", \"marker\": {\"color\": \"#EF553B\", \"symbol\": \"circle\"}, \"mode\": \"markers\", \"name\": \"Conkeldurr\", \"showlegend\": true, \"type\": \"scatter\", \"x\": [15.0], \"xaxis\": \"x\", \"y\": [84.17], \"yaxis\": \"y\"}, {\"hoverlabel\": {\"namelength\": 0}, \"hovertemplate\": \"<b>%{hovertext}</b><br><br>Pok\\u00e9mon=Snorlax<br>VGC 2020 Usage %=%{x}<br>Base Stats Mean=%{y}\", \"hovertext\": [\"Snorlax\"], \"legendgroup\": \"Snorlax\", \"marker\": {\"color\": \"#00cc96\", \"symbol\": \"circle\"}, \"mode\": \"markers\", \"name\": \"Snorlax\", \"showlegend\": true, \"type\": \"scatter\", \"x\": [11.0], \"xaxis\": \"x\", \"y\": [90.0], \"yaxis\": \"y\"}, {\"hoverlabel\": {\"namelength\": 0}, \"hovertemplate\": \"<b>%{hovertext}</b><br><br>Pok\\u00e9mon=Dusclops<br>VGC 2020 Usage %=%{x}<br>Base Stats Mean=%{y}\", \"hovertext\": [\"Dusclops\"], \"legendgroup\": \"Dusclops\", \"marker\": {\"color\": \"#ab63fa\", \"symbol\": \"circle\"}, \"mode\": \"markers\", \"name\": \"Dusclops\", \"showlegend\": true, \"type\": \"scatter\", \"x\": [11.0], \"xaxis\": \"x\", \"y\": [75.83], \"yaxis\": \"y\"}, {\"hoverlabel\": {\"namelength\": 0}, \"hovertemplate\": \"<b>%{hovertext}</b><br><br>Pok\\u00e9mon=Dracovish<br>VGC 2020 Usage %=%{x}<br>Base Stats Mean=%{y}\", \"hovertext\": [\"Dracovish\"], \"legendgroup\": \"Dracovish\", \"marker\": {\"color\": \"#FFA15A\", \"symbol\": \"circle\"}, \"mode\": \"markers\", \"name\": \"Dracovish\", \"showlegend\": true, \"type\": \"scatter\", \"x\": [11.0], \"xaxis\": \"x\", \"y\": [84.17], \"yaxis\": \"y\"}, {\"hoverlabel\": {\"namelength\": 0}, \"hovertemplate\": \"<b>%{hovertext}</b><br><br>Pok\\u00e9mon=Vanilluxe<br>VGC 2020 Usage %=%{x}<br>Base Stats Mean=%{y}\", \"hovertext\": [\"Vanilluxe\"], \"legendgroup\": \"Vanilluxe\", \"marker\": {\"color\": \"#19d3f3\", \"symbol\": \"circle\"}, \"mode\": \"markers\", \"name\": \"Vanilluxe\", \"showlegend\": true, \"type\": \"scatter\", \"x\": [11.0], \"xaxis\": \"x\", \"y\": [89.17], \"yaxis\": \"y\"}, {\"hoverlabel\": {\"namelength\": 0}, \"hovertemplate\": \"<b>%{hovertext}</b><br><br>Pok\\u00e9mon=Torkoal<br>VGC 2020 Usage %=%{x}<br>Base Stats Mean=%{y}\", \"hovertext\": [\"Torkoal\"], \"legendgroup\": \"Torkoal\", \"marker\": {\"color\": \"#FF6692\", \"symbol\": \"circle\"}, \"mode\": \"markers\", \"name\": \"Torkoal\", \"showlegend\": true, \"type\": \"scatter\", \"x\": [9.0], \"xaxis\": \"x\", \"y\": [78.33], \"yaxis\": \"y\"}, {\"hoverlabel\": {\"namelength\": 0}, \"hovertemplate\": \"<b>%{hovertext}</b><br><br>Pok\\u00e9mon=Inteleon<br>VGC 2020 Usage %=%{x}<br>Base Stats Mean=%{y}\", \"hovertext\": [\"Inteleon\"], \"legendgroup\": \"Inteleon\", \"marker\": {\"color\": \"#B6E880\", \"symbol\": \"circle\"}, \"mode\": \"markers\", \"name\": \"Inteleon\", \"showlegend\": true, \"type\": \"scatter\", \"x\": [9.0], \"xaxis\": \"x\", \"y\": [88.33], \"yaxis\": \"y\"}, {\"hoverlabel\": {\"namelength\": 0}, \"hovertemplate\": \"<b>%{hovertext}</b><br><br>Pok\\u00e9mon=Charizard<br>VGC 2020 Usage %=%{x}<br>Base Stats Mean=%{y}\", \"hovertext\": [\"Charizard\"], \"legendgroup\": \"Charizard\", \"marker\": {\"color\": \"#FF97FF\", \"symbol\": \"circle\"}, \"mode\": \"markers\", \"name\": \"Charizard\", \"showlegend\": true, \"type\": \"scatter\", \"x\": [9.0], \"xaxis\": \"x\", \"y\": [89.0], \"yaxis\": \"y\"}, {\"hoverlabel\": {\"namelength\": 0}, \"hovertemplate\": \"<b>%{hovertext}</b><br><br>Pok\\u00e9mon=Mimikyu<br>VGC 2020 Usage %=%{x}<br>Base Stats Mean=%{y}\", \"hovertext\": [\"Mimikyu\"], \"legendgroup\": \"Mimikyu\", \"marker\": {\"color\": \"#FECB52\", \"symbol\": \"circle\"}, \"mode\": \"markers\", \"name\": \"Mimikyu\", \"showlegend\": true, \"type\": \"scatter\", \"x\": [9.0], \"xaxis\": \"x\", \"y\": [79.33], \"yaxis\": \"y\"}, {\"hoverlabel\": {\"namelength\": 0}, \"hovertemplate\": \"<b>%{hovertext}</b><br><br>Pok\\u00e9mon=Chandelure<br>VGC 2020 Usage %=%{x}<br>Base Stats Mean=%{y}\", \"hovertext\": [\"Chandelure\"], \"legendgroup\": \"Chandelure\", \"marker\": {\"color\": \"#636efa\", \"symbol\": \"circle\"}, \"mode\": \"markers\", \"name\": \"Chandelure\", \"showlegend\": true, \"type\": \"scatter\", \"x\": [9.0], \"xaxis\": \"x\", \"y\": [86.67], \"yaxis\": \"y\"}, {\"hoverlabel\": {\"namelength\": 0}, \"hovertemplate\": \"<b>%{hovertext}</b><br><br>Pok\\u00e9mon=Corviknight<br>VGC 2020 Usage %=%{x}<br>Base Stats Mean=%{y}\", \"hovertext\": [\"Corviknight\"], \"legendgroup\": \"Corviknight\", \"marker\": {\"color\": \"#EF553B\", \"symbol\": \"circle\"}, \"mode\": \"markers\", \"name\": \"Corviknight\", \"showlegend\": true, \"type\": \"scatter\", \"x\": [8.0], \"xaxis\": \"x\", \"y\": [82.5], \"yaxis\": \"y\"}, {\"hoverlabel\": {\"namelength\": 0}, \"hovertemplate\": \"<b>%{hovertext}</b><br><br>Pok\\u00e9mon=Jellicent<br>VGC 2020 Usage %=%{x}<br>Base Stats Mean=%{y}\", \"hovertext\": [\"Jellicent\"], \"legendgroup\": \"Jellicent\", \"marker\": {\"color\": \"#00cc96\", \"symbol\": \"circle\"}, \"mode\": \"markers\", \"name\": \"Jellicent\", \"showlegend\": true, \"type\": \"scatter\", \"x\": [8.0], \"xaxis\": \"x\", \"y\": [80.0], \"yaxis\": \"y\"}, {\"hoverlabel\": {\"namelength\": 0}, \"hovertemplate\": \"<b>%{hovertext}</b><br><br>Pok\\u00e9mon=Hydreigon<br>VGC 2020 Usage %=%{x}<br>Base Stats Mean=%{y}\", \"hovertext\": [\"Hydreigon\"], \"legendgroup\": \"Hydreigon\", \"marker\": {\"color\": \"#ab63fa\", \"symbol\": \"circle\"}, \"mode\": \"markers\", \"name\": \"Hydreigon\", \"showlegend\": true, \"type\": \"scatter\", \"x\": [7.0], \"xaxis\": \"x\", \"y\": [100.0], \"yaxis\": \"y\"}, {\"hoverlabel\": {\"namelength\": 0}, \"hovertemplate\": \"<b>%{hovertext}</b><br><br>Pok\\u00e9mon=Milotic<br>VGC 2020 Usage %=%{x}<br>Base Stats Mean=%{y}\", \"hovertext\": [\"Milotic\"], \"legendgroup\": \"Milotic\", \"marker\": {\"color\": \"#FFA15A\", \"symbol\": \"circle\"}, \"mode\": \"markers\", \"name\": \"Milotic\", \"showlegend\": true, \"type\": \"scatter\", \"x\": [7.0], \"xaxis\": \"x\", \"y\": [90.0], \"yaxis\": \"y\"}, {\"hoverlabel\": {\"namelength\": 0}, \"hovertemplate\": \"<b>%{hovertext}</b><br><br>Pok\\u00e9mon=Braviary<br>VGC 2020 Usage %=%{x}<br>Base Stats Mean=%{y}\", \"hovertext\": [\"Braviary\"], \"legendgroup\": \"Braviary\", \"marker\": {\"color\": \"#19d3f3\", \"symbol\": \"circle\"}, \"mode\": \"markers\", \"name\": \"Braviary\", \"showlegend\": true, \"type\": \"scatter\", \"x\": [7.0], \"xaxis\": \"x\", \"y\": [85.0], \"yaxis\": \"y\"}, {\"hoverlabel\": {\"namelength\": 0}, \"hovertemplate\": \"<b>%{hovertext}</b><br><br>Pok\\u00e9mon=Mudsdale<br>VGC 2020 Usage %=%{x}<br>Base Stats Mean=%{y}\", \"hovertext\": [\"Mudsdale\"], \"legendgroup\": \"Mudsdale\", \"marker\": {\"color\": \"#FF6692\", \"symbol\": \"circle\"}, \"mode\": \"markers\", \"name\": \"Mudsdale\", \"showlegend\": true, \"type\": \"scatter\", \"x\": [6.0], \"xaxis\": \"x\", \"y\": [83.33], \"yaxis\": \"y\"}, {\"hoverlabel\": {\"namelength\": 0}, \"hovertemplate\": \"<b>%{hovertext}</b><br><br>Pok\\u00e9mon=Durant<br>VGC 2020 Usage %=%{x}<br>Base Stats Mean=%{y}\", \"hovertext\": [\"Durant\"], \"legendgroup\": \"Durant\", \"marker\": {\"color\": \"#B6E880\", \"symbol\": \"circle\"}, \"mode\": \"markers\", \"name\": \"Durant\", \"showlegend\": true, \"type\": \"scatter\", \"x\": [6.0], \"xaxis\": \"x\", \"y\": [80.67], \"yaxis\": \"y\"}, {\"hoverlabel\": {\"namelength\": 0}, \"hovertemplate\": \"<b>%{hovertext}</b><br><br>Pok\\u00e9mon=Sylveon<br>VGC 2020 Usage %=%{x}<br>Base Stats Mean=%{y}\", \"hovertext\": [\"Sylveon\"], \"legendgroup\": \"Sylveon\", \"marker\": {\"color\": \"#FF97FF\", \"symbol\": \"circle\"}, \"mode\": \"markers\", \"name\": \"Sylveon\", \"showlegend\": true, \"type\": \"scatter\", \"x\": [6.0], \"xaxis\": \"x\", \"y\": [87.5], \"yaxis\": \"y\"}, {\"hoverlabel\": {\"namelength\": 0}, \"hovertemplate\": \"<b>%{hovertext}</b><br><br>Pok\\u00e9mon=Gothitelle<br>VGC 2020 Usage %=%{x}<br>Base Stats Mean=%{y}\", \"hovertext\": [\"Gothitelle\"], \"legendgroup\": \"Gothitelle\", \"marker\": {\"color\": \"#FECB52\", \"symbol\": \"circle\"}, \"mode\": \"markers\", \"name\": \"Gothitelle\", \"showlegend\": true, \"type\": \"scatter\", \"x\": [6.0], \"xaxis\": \"x\", \"y\": [81.67], \"yaxis\": \"y\"}, {\"hoverlabel\": {\"namelength\": 0}, \"hovertemplate\": \"<b>%{hovertext}</b><br><br>Pok\\u00e9mon=Bronzong<br>VGC 2020 Usage %=%{x}<br>Base Stats Mean=%{y}\", \"hovertext\": [\"Bronzong\"], \"legendgroup\": \"Bronzong\", \"marker\": {\"color\": \"#636efa\", \"symbol\": \"circle\"}, \"mode\": \"markers\", \"name\": \"Bronzong\", \"showlegend\": true, \"type\": \"scatter\", \"x\": [5.0], \"xaxis\": \"x\", \"y\": [83.33], \"yaxis\": \"y\"}, {\"hoverlabel\": {\"namelength\": 0}, \"hovertemplate\": \"<b>%{hovertext}</b><br><br>Pok\\u00e9mon=Ferrothorn<br>VGC 2020 Usage %=%{x}<br>Base Stats Mean=%{y}\", \"hovertext\": [\"Ferrothorn\"], \"legendgroup\": \"Ferrothorn\", \"marker\": {\"color\": \"#EF553B\", \"symbol\": \"circle\"}, \"mode\": \"markers\", \"name\": \"Ferrothorn\", \"showlegend\": true, \"type\": \"scatter\", \"x\": [5.0], \"xaxis\": \"x\", \"y\": [81.5], \"yaxis\": \"y\"}, {\"hoverlabel\": {\"namelength\": 0}, \"hovertemplate\": \"<b>%{hovertext}</b><br><br>Pok\\u00e9mon=Scrafty<br>VGC 2020 Usage %=%{x}<br>Base Stats Mean=%{y}\", \"hovertext\": [\"Scrafty\"], \"legendgroup\": \"Scrafty\", \"marker\": {\"color\": \"#00cc96\", \"symbol\": \"circle\"}, \"mode\": \"markers\", \"name\": \"Scrafty\", \"showlegend\": true, \"type\": \"scatter\", \"x\": [5.0], \"xaxis\": \"x\", \"y\": [81.33], \"yaxis\": \"y\"}, {\"hoverlabel\": {\"namelength\": 0}, \"hovertemplate\": \"<b>%{hovertext}</b><br><br>Pok\\u00e9mon=Hitmontop<br>VGC 2020 Usage %=%{x}<br>Base Stats Mean=%{y}\", \"hovertext\": [\"Hitmontop\"], \"legendgroup\": \"Hitmontop\", \"marker\": {\"color\": \"#ab63fa\", \"symbol\": \"circle\"}, \"mode\": \"markers\", \"name\": \"Hitmontop\", \"showlegend\": true, \"type\": \"scatter\", \"x\": [4.0], \"xaxis\": \"x\", \"y\": [75.83], \"yaxis\": \"y\"}, {\"hoverlabel\": {\"namelength\": 0}, \"hovertemplate\": \"<b>%{hovertext}</b><br><br>Pok\\u00e9mon=Hatterene<br>VGC 2020 Usage %=%{x}<br>Base Stats Mean=%{y}\", \"hovertext\": [\"Hatterene\"], \"legendgroup\": \"Hatterene\", \"marker\": {\"color\": \"#FFA15A\", \"symbol\": \"circle\"}, \"mode\": \"markers\", \"name\": \"Hatterene\", \"showlegend\": true, \"type\": \"scatter\", \"x\": [4.0], \"xaxis\": \"x\", \"y\": [85.0], \"yaxis\": \"y\"}, {\"hoverlabel\": {\"namelength\": 0}, \"hovertemplate\": \"<b>%{hovertext}</b><br><br>Pok\\u00e9mon=Toxtricity<br>VGC 2020 Usage %=%{x}<br>Base Stats Mean=%{y}\", \"hovertext\": [\"Toxtricity\"], \"legendgroup\": \"Toxtricity\", \"marker\": {\"color\": \"#19d3f3\", \"symbol\": \"circle\"}, \"mode\": \"markers\", \"name\": \"Toxtricity\", \"showlegend\": true, \"type\": \"scatter\", \"x\": [3.0], \"xaxis\": \"x\", \"y\": [83.67], \"yaxis\": \"y\"}, {\"hoverlabel\": {\"namelength\": 0}, \"hovertemplate\": \"<b>%{hovertext}</b><br><br>Pok\\u00e9mon=Lapras<br>VGC 2020 Usage %=%{x}<br>Base Stats Mean=%{y}\", \"hovertext\": [\"Lapras\"], \"legendgroup\": \"Lapras\", \"marker\": {\"color\": \"#FF6692\", \"symbol\": \"circle\"}, \"mode\": \"markers\", \"name\": \"Lapras\", \"showlegend\": true, \"type\": \"scatter\", \"x\": [3.0], \"xaxis\": \"x\", \"y\": [89.17], \"yaxis\": \"y\"}, {\"hoverlabel\": {\"namelength\": 0}, \"hovertemplate\": \"<b>%{hovertext}</b><br><br>Pok\\u00e9mon=Ludicolo<br>VGC 2020 Usage %=%{x}<br>Base Stats Mean=%{y}\", \"hovertext\": [\"Ludicolo\"], \"legendgroup\": \"Ludicolo\", \"marker\": {\"color\": \"#B6E880\", \"symbol\": \"circle\"}, \"mode\": \"markers\", \"name\": \"Ludicolo\", \"showlegend\": true, \"type\": \"scatter\", \"x\": [3.0], \"xaxis\": \"x\", \"y\": [80.0], \"yaxis\": \"y\"}, {\"hoverlabel\": {\"namelength\": 0}, \"hovertemplate\": \"<b>%{hovertext}</b><br><br>Pok\\u00e9mon=Passimian<br>VGC 2020 Usage %=%{x}<br>Base Stats Mean=%{y}\", \"hovertext\": [\"Passimian\"], \"legendgroup\": \"Passimian\", \"marker\": {\"color\": \"#FF97FF\", \"symbol\": \"circle\"}, \"mode\": \"markers\", \"name\": \"Passimian\", \"showlegend\": true, \"type\": \"scatter\", \"x\": [3.0], \"xaxis\": \"x\", \"y\": [81.67], \"yaxis\": \"y\"}, {\"hoverlabel\": {\"namelength\": 0}, \"hovertemplate\": \"<b>%{hovertext}</b><br><br>Pok\\u00e9mon=Dracozolt<br>VGC 2020 Usage %=%{x}<br>Base Stats Mean=%{y}\", \"hovertext\": [\"Dracozolt\"], \"legendgroup\": \"Dracozolt\", \"marker\": {\"color\": \"#FECB52\", \"symbol\": \"circle\"}, \"mode\": \"markers\", \"name\": \"Dracozolt\", \"showlegend\": true, \"type\": \"scatter\", \"x\": [2.0], \"xaxis\": \"x\", \"y\": [84.17], \"yaxis\": \"y\"}, {\"hoverlabel\": {\"namelength\": 0}, \"hovertemplate\": \"<b>%{hovertext}</b><br><br>Pok\\u00e9mon=Togedemaru<br>VGC 2020 Usage %=%{x}<br>Base Stats Mean=%{y}\", \"hovertext\": [\"Togedemaru\"], \"legendgroup\": \"Togedemaru\", \"marker\": {\"color\": \"#636efa\", \"symbol\": \"circle\"}, \"mode\": \"markers\", \"name\": \"Togedemaru\", \"showlegend\": true, \"type\": \"scatter\", \"x\": [2.0], \"xaxis\": \"x\", \"y\": [72.5], \"yaxis\": \"y\"}, {\"hoverlabel\": {\"namelength\": 0}, \"hovertemplate\": \"<b>%{hovertext}</b><br><br>Pok\\u00e9mon=Lucario<br>VGC 2020 Usage %=%{x}<br>Base Stats Mean=%{y}\", \"hovertext\": [\"Lucario\"], \"legendgroup\": \"Lucario\", \"marker\": {\"color\": \"#EF553B\", \"symbol\": \"circle\"}, \"mode\": \"markers\", \"name\": \"Lucario\", \"showlegend\": true, \"type\": \"scatter\", \"x\": [2.0], \"xaxis\": \"x\", \"y\": [87.5], \"yaxis\": \"y\"}, {\"hoverlabel\": {\"namelength\": 0}, \"hovertemplate\": \"<b>%{hovertext}</b><br><br>Pok\\u00e9mon=Sableye<br>VGC 2020 Usage %=%{x}<br>Base Stats Mean=%{y}\", \"hovertext\": [\"Sableye\"], \"legendgroup\": \"Sableye\", \"marker\": {\"color\": \"#00cc96\", \"symbol\": \"circle\"}, \"mode\": \"markers\", \"name\": \"Sableye\", \"showlegend\": true, \"type\": \"scatter\", \"x\": [2.0], \"xaxis\": \"x\", \"y\": [63.33], \"yaxis\": \"y\"}, {\"hoverlabel\": {\"namelength\": 0}, \"hovertemplate\": \"<b>%{hovertext}</b><br><br>Pok\\u00e9mon=Goodra<br>VGC 2020 Usage %=%{x}<br>Base Stats Mean=%{y}\", \"hovertext\": [\"Goodra\"], \"legendgroup\": \"Goodra\", \"marker\": {\"color\": \"#ab63fa\", \"symbol\": \"circle\"}, \"mode\": \"markers\", \"name\": \"Goodra\", \"showlegend\": true, \"type\": \"scatter\", \"x\": [2.0], \"xaxis\": \"x\", \"y\": [100.0], \"yaxis\": \"y\"}, {\"hoverlabel\": {\"namelength\": 0}, \"hovertemplate\": \"<b>%{hovertext}</b><br><br>Pok\\u00e9mon=Hippowdon<br>VGC 2020 Usage %=%{x}<br>Base Stats Mean=%{y}\", \"hovertext\": [\"Hippowdon\"], \"legendgroup\": \"Hippowdon\", \"marker\": {\"color\": \"#FFA15A\", \"symbol\": \"circle\"}, \"mode\": \"markers\", \"name\": \"Hippowdon\", \"showlegend\": true, \"type\": \"scatter\", \"x\": [2.0], \"xaxis\": \"x\", \"y\": [87.5], \"yaxis\": \"y\"}, {\"hoverlabel\": {\"namelength\": 0}, \"hovertemplate\": \"<b>%{hovertext}</b><br><br>Pok\\u00e9mon=Oranguru<br>VGC 2020 Usage %=%{x}<br>Base Stats Mean=%{y}\", \"hovertext\": [\"Oranguru\"], \"legendgroup\": \"Oranguru\", \"marker\": {\"color\": \"#19d3f3\", \"symbol\": \"circle\"}, \"mode\": \"markers\", \"name\": \"Oranguru\", \"showlegend\": true, \"type\": \"scatter\", \"x\": [1.0], \"xaxis\": \"x\", \"y\": [81.67], \"yaxis\": \"y\"}, {\"hoverlabel\": {\"namelength\": 0}, \"hovertemplate\": \"<b>%{hovertext}</b><br><br>Pok\\u00e9mon=Appletun<br>VGC 2020 Usage %=%{x}<br>Base Stats Mean=%{y}\", \"hovertext\": [\"Appletun\"], \"legendgroup\": \"Appletun\", \"marker\": {\"color\": \"#FF6692\", \"symbol\": \"circle\"}, \"mode\": \"markers\", \"name\": \"Appletun\", \"showlegend\": true, \"type\": \"scatter\", \"x\": [1.0], \"xaxis\": \"x\", \"y\": [80.83], \"yaxis\": \"y\"}, {\"hoverlabel\": {\"namelength\": 0}, \"hovertemplate\": \"<b>%{hovertext}</b><br><br>Pok\\u00e9mon=Reuniclus<br>VGC 2020 Usage %=%{x}<br>Base Stats Mean=%{y}\", \"hovertext\": [\"Reuniclus\"], \"legendgroup\": \"Reuniclus\", \"marker\": {\"color\": \"#B6E880\", \"symbol\": \"circle\"}, \"mode\": \"markers\", \"name\": \"Reuniclus\", \"showlegend\": true, \"type\": \"scatter\", \"x\": [1.0], \"xaxis\": \"x\", \"y\": [81.67], \"yaxis\": \"y\"}, {\"hoverlabel\": {\"namelength\": 0}, \"hovertemplate\": \"<b>%{hovertext}</b><br><br>Pok\\u00e9mon=Hawlucha<br>VGC 2020 Usage %=%{x}<br>Base Stats Mean=%{y}\", \"hovertext\": [\"Hawlucha\"], \"legendgroup\": \"Hawlucha\", \"marker\": {\"color\": \"#FF97FF\", \"symbol\": \"circle\"}, \"mode\": \"markers\", \"name\": \"Hawlucha\", \"showlegend\": true, \"type\": \"scatter\", \"x\": [1.0], \"xaxis\": \"x\", \"y\": [83.33], \"yaxis\": \"y\"}, {\"hoverlabel\": {\"namelength\": 0}, \"hovertemplate\": \"<b>%{hovertext}</b><br><br>Pok\\u00e9mon=Cinderace<br>VGC 2020 Usage %=%{x}<br>Base Stats Mean=%{y}\", \"hovertext\": [\"Cinderace\"], \"legendgroup\": \"Cinderace\", \"marker\": {\"color\": \"#FECB52\", \"symbol\": \"circle\"}, \"mode\": \"markers\", \"name\": \"Cinderace\", \"showlegend\": true, \"type\": \"scatter\", \"x\": [1.0], \"xaxis\": \"x\", \"y\": [88.33], \"yaxis\": \"y\"}, {\"hoverlabel\": {\"namelength\": 0}, \"hovertemplate\": \"<b>%{hovertext}</b><br><br>Pok\\u00e9mon=Mandibuzz<br>VGC 2020 Usage %=%{x}<br>Base Stats Mean=%{y}\", \"hovertext\": [\"Mandibuzz\"], \"legendgroup\": \"Mandibuzz\", \"marker\": {\"color\": \"#636efa\", \"symbol\": \"circle\"}, \"mode\": \"markers\", \"name\": \"Mandibuzz\", \"showlegend\": true, \"type\": \"scatter\", \"x\": [1.0], \"xaxis\": \"x\", \"y\": [85.0], \"yaxis\": \"y\"}, {\"hoverlabel\": {\"namelength\": 0}, \"hovertemplate\": \"<b>%{hovertext}</b><br><br>Pok\\u00e9mon=Araquanid<br>VGC 2020 Usage %=%{x}<br>Base Stats Mean=%{y}\", \"hovertext\": [\"Araquanid\"], \"legendgroup\": \"Araquanid\", \"marker\": {\"color\": \"#EF553B\", \"symbol\": \"circle\"}, \"mode\": \"markers\", \"name\": \"Araquanid\", \"showlegend\": true, \"type\": \"scatter\", \"x\": [1.0], \"xaxis\": \"x\", \"y\": [75.67], \"yaxis\": \"y\"}, {\"hoverlabel\": {\"namelength\": 0}, \"hovertemplate\": \"<b>%{hovertext}</b><br><br>Pok\\u00e9mon=Abomasnow<br>VGC 2020 Usage %=%{x}<br>Base Stats Mean=%{y}\", \"hovertext\": [\"Abomasnow\"], \"legendgroup\": \"Abomasnow\", \"marker\": {\"color\": \"#00cc96\", \"symbol\": \"circle\"}, \"mode\": \"markers\", \"name\": \"Abomasnow\", \"showlegend\": true, \"type\": \"scatter\", \"x\": [1.0], \"xaxis\": \"x\", \"y\": [82.33], \"yaxis\": \"y\"}, {\"hoverlabel\": {\"namelength\": 0}, \"hovertemplate\": \"<b>%{hovertext}</b><br><br>Pok\\u00e9mon=Kommo-o<br>VGC 2020 Usage %=%{x}<br>Base Stats Mean=%{y}\", \"hovertext\": [\"Kommo-o\"], \"legendgroup\": \"Kommo-o\", \"marker\": {\"color\": \"#ab63fa\", \"symbol\": \"circle\"}, \"mode\": \"markers\", \"name\": \"Kommo-o\", \"showlegend\": true, \"type\": \"scatter\", \"x\": [1.0], \"xaxis\": \"x\", \"y\": [100.0], \"yaxis\": \"y\"}, {\"hoverlabel\": {\"namelength\": 0}, \"hovertemplate\": \"<b>%{hovertext}</b><br><br>Pok\\u00e9mon=Silvally<br>VGC 2020 Usage %=%{x}<br>Base Stats Mean=%{y}\", \"hovertext\": [\"Silvally\"], \"legendgroup\": \"Silvally\", \"marker\": {\"color\": \"#FFA15A\", \"symbol\": \"circle\"}, \"mode\": \"markers\", \"name\": \"Silvally\", \"showlegend\": true, \"type\": \"scatter\", \"x\": [1.0], \"xaxis\": \"x\", \"y\": [95.0], \"yaxis\": \"y\"}, {\"hoverlabel\": {\"namelength\": 0}, \"hovertemplate\": \"<b>%{hovertext}</b><br><br>Pok\\u00e9mon=Umbreon<br>VGC 2020 Usage %=%{x}<br>Base Stats Mean=%{y}\", \"hovertext\": [\"Umbreon\"], \"legendgroup\": \"Umbreon\", \"marker\": {\"color\": \"#19d3f3\", \"symbol\": \"circle\"}, \"mode\": \"markers\", \"name\": \"Umbreon\", \"showlegend\": true, \"type\": \"scatter\", \"x\": [1.0], \"xaxis\": \"x\", \"y\": [87.5], \"yaxis\": \"y\"}, {\"hoverlabel\": {\"namelength\": 0}, \"hovertemplate\": \"<b>%{hovertext}</b><br><br>Pok\\u00e9mon=Gengar<br>VGC 2020 Usage %=%{x}<br>Base Stats Mean=%{y}\", \"hovertext\": [\"Gengar\"], \"legendgroup\": \"Gengar\", \"marker\": {\"color\": \"#FF6692\", \"symbol\": \"circle\"}, \"mode\": \"markers\", \"name\": \"Gengar\", \"showlegend\": true, \"type\": \"scatter\", \"x\": [1.0], \"xaxis\": \"x\", \"y\": [83.33], \"yaxis\": \"y\"}, {\"hoverlabel\": {\"namelength\": 0}, \"hovertemplate\": \"<b>%{hovertext}</b><br><br>Pok\\u00e9mon=Dhelmise<br>VGC 2020 Usage %=%{x}<br>Base Stats Mean=%{y}\", \"hovertext\": [\"Dhelmise\"], \"legendgroup\": \"Dhelmise\", \"marker\": {\"color\": \"#B6E880\", \"symbol\": \"circle\"}, \"mode\": \"markers\", \"name\": \"Dhelmise\", \"showlegend\": true, \"type\": \"scatter\", \"x\": [1.0], \"xaxis\": \"x\", \"y\": [86.17], \"yaxis\": \"y\"}, {\"hoverlabel\": {\"namelength\": 0}, \"hovertemplate\": \"<b>%{hovertext}</b><br><br>Pok\\u00e9mon=Gardevoir<br>VGC 2020 Usage %=%{x}<br>Base Stats Mean=%{y}\", \"hovertext\": [\"Gardevoir\"], \"legendgroup\": \"Gardevoir\", \"marker\": {\"color\": \"#FF97FF\", \"symbol\": \"circle\"}, \"mode\": \"markers\", \"name\": \"Gardevoir\", \"showlegend\": true, \"type\": \"scatter\", \"x\": [1.0], \"xaxis\": \"x\", \"y\": [86.33], \"yaxis\": \"y\"}, {\"hoverlabel\": {\"namelength\": 0}, \"hovertemplate\": \"<b>%{hovertext}</b><br><br>Pok\\u00e9mon=Sigilyph<br>VGC 2020 Usage %=%{x}<br>Base Stats Mean=%{y}\", \"hovertext\": [\"Sigilyph\"], \"legendgroup\": \"Sigilyph\", \"marker\": {\"color\": \"#FECB52\", \"symbol\": \"circle\"}, \"mode\": \"markers\", \"name\": \"Sigilyph\", \"showlegend\": true, \"type\": \"scatter\", \"x\": [1.0], \"xaxis\": \"x\", \"y\": [81.67], \"yaxis\": \"y\"}, {\"hoverlabel\": {\"namelength\": 0}, \"hovertemplate\": \"<b>%{hovertext}</b><br><br>Pok\\u00e9mon=Obstagoon<br>VGC 2020 Usage %=%{x}<br>Base Stats Mean=%{y}\", \"hovertext\": [\"Obstagoon\"], \"legendgroup\": \"Obstagoon\", \"marker\": {\"color\": \"#636efa\", \"symbol\": \"circle\"}, \"mode\": \"markers\", \"name\": \"Obstagoon\", \"showlegend\": true, \"type\": \"scatter\", \"x\": [1.0], \"xaxis\": \"x\", \"y\": [86.67], \"yaxis\": \"y\"}, {\"hoverlabel\": {\"namelength\": 0}, \"hovertemplate\": \"<b>%{hovertext}</b><br><br>Pok\\u00e9mon=Rillaboom<br>VGC 2020 Usage %=%{x}<br>Base Stats Mean=%{y}\", \"hovertext\": [\"Rillaboom\"], \"legendgroup\": \"Rillaboom\", \"marker\": {\"color\": \"#EF553B\", \"symbol\": \"circle\"}, \"mode\": \"markers\", \"name\": \"Rillaboom\", \"showlegend\": true, \"type\": \"scatter\", \"x\": [1.0], \"xaxis\": \"x\", \"y\": [88.33], \"yaxis\": \"y\"}, {\"hoverlabel\": {\"namelength\": 0}, \"hovertemplate\": \"<b>%{hovertext}</b><br><br>Pok\\u00e9mon=Mamoswine<br>VGC 2020 Usage %=%{x}<br>Base Stats Mean=%{y}\", \"hovertext\": [\"Mamoswine\"], \"legendgroup\": \"Mamoswine\", \"marker\": {\"color\": \"#00cc96\", \"symbol\": \"circle\"}, \"mode\": \"markers\", \"name\": \"Mamoswine\", \"showlegend\": true, \"type\": \"scatter\", \"x\": [1.0], \"xaxis\": \"x\", \"y\": [88.33], \"yaxis\": \"y\"}, {\"hoverlabel\": {\"namelength\": 0}, \"hovertemplate\": \"<b>%{hovertext}</b><br><br>Pok\\u00e9mon=Ribombee<br>VGC 2020 Usage %=%{x}<br>Base Stats Mean=%{y}\", \"hovertext\": [\"Ribombee\"], \"legendgroup\": \"Ribombee\", \"marker\": {\"color\": \"#ab63fa\", \"symbol\": \"circle\"}, \"mode\": \"markers\", \"name\": \"Ribombee\", \"showlegend\": true, \"type\": \"scatter\", \"x\": [1.0], \"xaxis\": \"x\", \"y\": [77.33], \"yaxis\": \"y\"}, {\"hoverlabel\": {\"namelength\": 0}, \"hovertemplate\": \"<b>%{hovertext}</b><br><br>Pok\\u00e9mon=Greedent<br>VGC 2020 Usage %=%{x}<br>Base Stats Mean=%{y}\", \"hovertext\": [\"Greedent\"], \"legendgroup\": \"Greedent\", \"marker\": {\"color\": \"#FFA15A\", \"symbol\": \"circle\"}, \"mode\": \"markers\", \"name\": \"Greedent\", \"showlegend\": true, \"type\": \"scatter\", \"x\": [1.0], \"xaxis\": \"x\", \"y\": [76.67], \"yaxis\": \"y\"}, {\"hoverlabel\": {\"namelength\": 0}, \"hovertemplate\": \"<b>%{hovertext}</b><br><br>Pok\\u00e9mon=Sandaconda<br>VGC 2020 Usage %=%{x}<br>Base Stats Mean=%{y}\", \"hovertext\": [\"Sandaconda\"], \"legendgroup\": \"Sandaconda\", \"marker\": {\"color\": \"#19d3f3\", \"symbol\": \"circle\"}, \"mode\": \"markers\", \"name\": \"Sandaconda\", \"showlegend\": true, \"type\": \"scatter\", \"x\": [1.0], \"xaxis\": \"x\", \"y\": [85.0], \"yaxis\": \"y\"}, {\"hoverlabel\": {\"namelength\": 0}, \"hovertemplate\": \"<b>%{hovertext}</b><br><br>Pok\\u00e9mon=Sirfetch'd<br>VGC 2020 Usage %=%{x}<br>Base Stats Mean=%{y}\", \"hovertext\": [\"Sirfetch'd\"], \"legendgroup\": \"Sirfetch'd\", \"marker\": {\"color\": \"#FF6692\", \"symbol\": \"circle\"}, \"mode\": \"markers\", \"name\": \"Sirfetch'd\", \"showlegend\": true, \"type\": \"scatter\", \"x\": [null], \"xaxis\": \"x\", \"y\": [84.5], \"yaxis\": \"y\"}, {\"hoverlabel\": {\"namelength\": 0}, \"hovertemplate\": \"<b>%{hovertext}</b><br><br>Pok\\u00e9mon=Bisharp<br>VGC 2020 Usage %=%{x}<br>Base Stats Mean=%{y}\", \"hovertext\": [\"Bisharp\"], \"legendgroup\": \"Bisharp\", \"marker\": {\"color\": \"#B6E880\", \"symbol\": \"circle\"}, \"mode\": \"markers\", \"name\": \"Bisharp\", \"showlegend\": true, \"type\": \"scatter\", \"x\": [1.0], \"xaxis\": \"x\", \"y\": [81.67], \"yaxis\": \"y\"}, {\"hoverlabel\": {\"namelength\": 0}, \"hovertemplate\": \"<b>%{hovertext}</b><br><br>Pok\\u00e9mon=Drampa<br>VGC 2020 Usage %=%{x}<br>Base Stats Mean=%{y}\", \"hovertext\": [\"Drampa\"], \"legendgroup\": \"Drampa\", \"marker\": {\"color\": \"#FF97FF\", \"symbol\": \"circle\"}, \"mode\": \"markers\", \"name\": \"Drampa\", \"showlegend\": true, \"type\": \"scatter\", \"x\": [1.0], \"xaxis\": \"x\", \"y\": [80.83], \"yaxis\": \"y\"}, {\"hoverlabel\": {\"namelength\": 0}, \"hovertemplate\": \"<b>%{hovertext}</b><br><br>Pok\\u00e9mon=Coalossal<br>VGC 2020 Usage %=%{x}<br>Base Stats Mean=%{y}\", \"hovertext\": [\"Coalossal\"], \"legendgroup\": \"Coalossal\", \"marker\": {\"color\": \"#FECB52\", \"symbol\": \"circle\"}, \"mode\": \"markers\", \"name\": \"Coalossal\", \"showlegend\": true, \"type\": \"scatter\", \"x\": [1.0], \"xaxis\": \"x\", \"y\": [85.0], \"yaxis\": \"y\"}, {\"hoverlabel\": {\"namelength\": 0}, \"hovertemplate\": \"<b>%{hovertext}</b><br><br>Pok\\u00e9mon=Haxorus<br>VGC 2020 Usage %=%{x}<br>Base Stats Mean=%{y}\", \"hovertext\": [\"Haxorus\"], \"legendgroup\": \"Haxorus\", \"marker\": {\"color\": \"#636efa\", \"symbol\": \"circle\"}, \"mode\": \"markers\", \"name\": \"Haxorus\", \"showlegend\": true, \"type\": \"scatter\", \"x\": [1.0], \"xaxis\": \"x\", \"y\": [90.0], \"yaxis\": \"y\"}, {\"hoverlabel\": {\"namelength\": 0}, \"hovertemplate\": \"<b>%{hovertext}</b><br><br>Pok\\u00e9mon=Barraskewda<br>VGC 2020 Usage %=%{x}<br>Base Stats Mean=%{y}\", \"hovertext\": [\"Barraskewda\"], \"legendgroup\": \"Barraskewda\", \"marker\": {\"color\": \"#EF553B\", \"symbol\": \"circle\"}, \"mode\": \"markers\", \"name\": \"Barraskewda\", \"showlegend\": true, \"type\": \"scatter\", \"x\": [1.0], \"xaxis\": \"x\", \"y\": [81.67], \"yaxis\": \"y\"}, {\"hoverlabel\": {\"namelength\": 0}, \"hovertemplate\": \"<b>%{hovertext}</b><br><br>Pok\\u00e9mon=Aromatisse<br>VGC 2020 Usage %=%{x}<br>Base Stats Mean=%{y}\", \"hovertext\": [\"Aromatisse\"], \"legendgroup\": \"Aromatisse\", \"marker\": {\"color\": \"#00cc96\", \"symbol\": \"circle\"}, \"mode\": \"markers\", \"name\": \"Aromatisse\", \"showlegend\": true, \"type\": \"scatter\", \"x\": [1.0], \"xaxis\": \"x\", \"y\": [77.0], \"yaxis\": \"y\"}, {\"hoverlabel\": {\"namelength\": 0}, \"hovertemplate\": \"<b>%{hovertext}</b><br><br>Pok\\u00e9mon=Ninetales<br>VGC 2020 Usage %=%{x}<br>Base Stats Mean=%{y}\", \"hovertext\": [\"Ninetales\"], \"legendgroup\": \"Ninetales\", \"marker\": {\"color\": \"#ab63fa\", \"symbol\": \"circle\"}, \"mode\": \"markers\", \"name\": \"Ninetales\", \"showlegend\": true, \"type\": \"scatter\", \"x\": [0.0], \"xaxis\": \"x\", \"y\": [84.17], \"yaxis\": \"y\"}, {\"hoverlabel\": {\"namelength\": 0}, \"hovertemplate\": \"<b>%{hovertext}</b><br><br>Pok\\u00e9mon=Alcremie<br>VGC 2020 Usage %=%{x}<br>Base Stats Mean=%{y}\", \"hovertext\": [\"Alcremie\"], \"legendgroup\": \"Alcremie\", \"marker\": {\"color\": \"#FFA15A\", \"symbol\": \"circle\"}, \"mode\": \"markers\", \"name\": \"Alcremie\", \"showlegend\": true, \"type\": \"scatter\", \"x\": [0.0], \"xaxis\": \"x\", \"y\": [82.5], \"yaxis\": \"y\"}, {\"hoverlabel\": {\"namelength\": 0}, \"hovertemplate\": \"<b>%{hovertext}</b><br><br>Pok\\u00e9mon=Shiinotic<br>VGC 2020 Usage %=%{x}<br>Base Stats Mean=%{y}\", \"hovertext\": [\"Shiinotic\"], \"legendgroup\": \"Shiinotic\", \"marker\": {\"color\": \"#19d3f3\", \"symbol\": \"circle\"}, \"mode\": \"markers\", \"name\": \"Shiinotic\", \"showlegend\": true, \"type\": \"scatter\", \"x\": [0.0], \"xaxis\": \"x\", \"y\": [67.5], \"yaxis\": \"y\"}, {\"hoverlabel\": {\"namelength\": 0}, \"hovertemplate\": \"<b>%{hovertext}</b><br><br>Pok\\u00e9mon=Glaceon<br>VGC 2020 Usage %=%{x}<br>Base Stats Mean=%{y}\", \"hovertext\": [\"Glaceon\"], \"legendgroup\": \"Glaceon\", \"marker\": {\"color\": \"#FF6692\", \"symbol\": \"circle\"}, \"mode\": \"markers\", \"name\": \"Glaceon\", \"showlegend\": true, \"type\": \"scatter\", \"x\": [0.0], \"xaxis\": \"x\", \"y\": [87.5], \"yaxis\": \"y\"}, {\"hoverlabel\": {\"namelength\": 0}, \"hovertemplate\": \"<b>%{hovertext}</b><br><br>Pok\\u00e9mon=Runerigus<br>VGC 2020 Usage %=%{x}<br>Base Stats Mean=%{y}\", \"hovertext\": [\"Runerigus\"], \"legendgroup\": \"Runerigus\", \"marker\": {\"color\": \"#B6E880\", \"symbol\": \"circle\"}, \"mode\": \"markers\", \"name\": \"Runerigus\", \"showlegend\": true, \"type\": \"scatter\", \"x\": [0.0], \"xaxis\": \"x\", \"y\": [80.5], \"yaxis\": \"y\"}, {\"hoverlabel\": {\"namelength\": 0}, \"hovertemplate\": \"<b>%{hovertext}</b><br><br>Pok\\u00e9mon=Morpeko<br>VGC 2020 Usage %=%{x}<br>Base Stats Mean=%{y}\", \"hovertext\": [\"Morpeko\"], \"legendgroup\": \"Morpeko\", \"marker\": {\"color\": \"#FF97FF\", \"symbol\": \"circle\"}, \"mode\": \"markers\", \"name\": \"Morpeko\", \"showlegend\": true, \"type\": \"scatter\", \"x\": [0.0], \"xaxis\": \"x\", \"y\": [72.67], \"yaxis\": \"y\"}, {\"hoverlabel\": {\"namelength\": 0}, \"hovertemplate\": \"<b>%{hovertext}</b><br><br>Pok\\u00e9mon=Perrserker<br>VGC 2020 Usage %=%{x}<br>Base Stats Mean=%{y}\", \"hovertext\": [\"Perrserker\"], \"legendgroup\": \"Perrserker\", \"marker\": {\"color\": \"#FECB52\", \"symbol\": \"circle\"}, \"mode\": \"markers\", \"name\": \"Perrserker\", \"showlegend\": true, \"type\": \"scatter\", \"x\": [0.0], \"xaxis\": \"x\", \"y\": [73.33], \"yaxis\": \"y\"}, {\"hoverlabel\": {\"namelength\": 0}, \"hovertemplate\": \"<b>%{hovertext}</b><br><br>Pok\\u00e9mon=Cofagrigus<br>VGC 2020 Usage %=%{x}<br>Base Stats Mean=%{y}\", \"hovertext\": [\"Cofagrigus\"], \"legendgroup\": \"Cofagrigus\", \"marker\": {\"color\": \"#636efa\", \"symbol\": \"circle\"}, \"mode\": \"markers\", \"name\": \"Cofagrigus\", \"showlegend\": true, \"type\": \"scatter\", \"x\": [0.0], \"xaxis\": \"x\", \"y\": [80.5], \"yaxis\": \"y\"}, {\"hoverlabel\": {\"namelength\": 0}, \"hovertemplate\": \"<b>%{hovertext}</b><br><br>Pok\\u00e9mon=Musharna<br>VGC 2020 Usage %=%{x}<br>Base Stats Mean=%{y}\", \"hovertext\": [\"Musharna\"], \"legendgroup\": \"Musharna\", \"marker\": {\"color\": \"#EF553B\", \"symbol\": \"circle\"}, \"mode\": \"markers\", \"name\": \"Musharna\", \"showlegend\": true, \"type\": \"scatter\", \"x\": [0.0], \"xaxis\": \"x\", \"y\": [81.17], \"yaxis\": \"y\"}, {\"hoverlabel\": {\"namelength\": 0}, \"hovertemplate\": \"<b>%{hovertext}</b><br><br>Pok\\u00e9mon=Centiskorch<br>VGC 2020 Usage %=%{x}<br>Base Stats Mean=%{y}\", \"hovertext\": [\"Centiskorch\"], \"legendgroup\": \"Centiskorch\", \"marker\": {\"color\": \"#00cc96\", \"symbol\": \"circle\"}, \"mode\": \"markers\", \"name\": \"Centiskorch\", \"showlegend\": true, \"type\": \"scatter\", \"x\": [0.0], \"xaxis\": \"x\", \"y\": [87.5], \"yaxis\": \"y\"}, {\"hoverlabel\": {\"namelength\": 0}, \"hovertemplate\": \"<b>%{hovertext}</b><br><br>Pok\\u00e9mon=Malamar<br>VGC 2020 Usage %=%{x}<br>Base Stats Mean=%{y}\", \"hovertext\": [\"Malamar\"], \"legendgroup\": \"Malamar\", \"marker\": {\"color\": \"#ab63fa\", \"symbol\": \"circle\"}, \"mode\": \"markers\", \"name\": \"Malamar\", \"showlegend\": true, \"type\": \"scatter\", \"x\": [0.0], \"xaxis\": \"x\", \"y\": [80.33], \"yaxis\": \"y\"}, {\"hoverlabel\": {\"namelength\": 0}, \"hovertemplate\": \"<b>%{hovertext}</b><br><br>Pok\\u00e9mon=Gallade<br>VGC 2020 Usage %=%{x}<br>Base Stats Mean=%{y}\", \"hovertext\": [\"Gallade\"], \"legendgroup\": \"Gallade\", \"marker\": {\"color\": \"#FFA15A\", \"symbol\": \"circle\"}, \"mode\": \"markers\", \"name\": \"Gallade\", \"showlegend\": true, \"type\": \"scatter\", \"x\": [0.0], \"xaxis\": \"x\", \"y\": [86.33], \"yaxis\": \"y\"}, {\"hoverlabel\": {\"namelength\": 0}, \"hovertemplate\": \"<b>%{hovertext}</b><br><br>Pok\\u00e9mon=Pincurchin<br>VGC 2020 Usage %=%{x}<br>Base Stats Mean=%{y}\", \"hovertext\": [\"Pincurchin\"], \"legendgroup\": \"Pincurchin\", \"marker\": {\"color\": \"#19d3f3\", \"symbol\": \"circle\"}, \"mode\": \"markers\", \"name\": \"Pincurchin\", \"showlegend\": true, \"type\": \"scatter\", \"x\": [0.0], \"xaxis\": \"x\", \"y\": [72.5], \"yaxis\": \"y\"}, {\"hoverlabel\": {\"namelength\": 0}, \"hovertemplate\": \"<b>%{hovertext}</b><br><br>Pok\\u00e9mon=Weavile<br>VGC 2020 Usage %=%{x}<br>Base Stats Mean=%{y}\", \"hovertext\": [\"Weavile\"], \"legendgroup\": \"Weavile\", \"marker\": {\"color\": \"#FF6692\", \"symbol\": \"circle\"}, \"mode\": \"markers\", \"name\": \"Weavile\", \"showlegend\": true, \"type\": \"scatter\", \"x\": [0.0], \"xaxis\": \"x\", \"y\": [85.0], \"yaxis\": \"y\"}, {\"hoverlabel\": {\"namelength\": 0}, \"hovertemplate\": \"<b>%{hovertext}</b><br><br>Pok\\u00e9mon=Diggersby<br>VGC 2020 Usage %=%{x}<br>Base Stats Mean=%{y}\", \"hovertext\": [\"Diggersby\"], \"legendgroup\": \"Diggersby\", \"marker\": {\"color\": \"#B6E880\", \"symbol\": \"circle\"}, \"mode\": \"markers\", \"name\": \"Diggersby\", \"showlegend\": true, \"type\": \"scatter\", \"x\": [0.0], \"xaxis\": \"x\", \"y\": [70.5], \"yaxis\": \"y\"}, {\"hoverlabel\": {\"namelength\": 0}, \"hovertemplate\": \"<b>%{hovertext}</b><br><br>Pok\\u00e9mon=Arctozolt<br>VGC 2020 Usage %=%{x}<br>Base Stats Mean=%{y}\", \"hovertext\": [\"Arctozolt\"], \"legendgroup\": \"Arctozolt\", \"marker\": {\"color\": \"#FF97FF\", \"symbol\": \"circle\"}, \"mode\": \"markers\", \"name\": \"Arctozolt\", \"showlegend\": true, \"type\": \"scatter\", \"x\": [0.0], \"xaxis\": \"x\", \"y\": [84.17], \"yaxis\": \"y\"}, {\"hoverlabel\": {\"namelength\": 0}, \"hovertemplate\": \"<b>%{hovertext}</b><br><br>Pok\\u00e9mon=Trevenant<br>VGC 2020 Usage %=%{x}<br>Base Stats Mean=%{y}\", \"hovertext\": [\"Trevenant\"], \"legendgroup\": \"Trevenant\", \"marker\": {\"color\": \"#FECB52\", \"symbol\": \"circle\"}, \"mode\": \"markers\", \"name\": \"Trevenant\", \"showlegend\": true, \"type\": \"scatter\", \"x\": [0.0], \"xaxis\": \"x\", \"y\": [79.0], \"yaxis\": \"y\"}, {\"hoverlabel\": {\"namelength\": 0}, \"hovertemplate\": \"<b>%{hovertext}</b><br><br>Pok\\u00e9mon=Eldegoss<br>VGC 2020 Usage %=%{x}<br>Base Stats Mean=%{y}\", \"hovertext\": [\"Eldegoss\"], \"legendgroup\": \"Eldegoss\", \"marker\": {\"color\": \"#636efa\", \"symbol\": \"circle\"}, \"mode\": \"markers\", \"name\": \"Eldegoss\", \"showlegend\": true, \"type\": \"scatter\", \"x\": [0.0], \"xaxis\": \"x\", \"y\": [76.67], \"yaxis\": \"y\"}, {\"hoverlabel\": {\"namelength\": 0}, \"hovertemplate\": \"<b>%{hovertext}</b><br><br>Pok\\u00e9mon=Vikavolt<br>VGC 2020 Usage %=%{x}<br>Base Stats Mean=%{y}\", \"hovertext\": [\"Vikavolt\"], \"legendgroup\": \"Vikavolt\", \"marker\": {\"color\": \"#EF553B\", \"symbol\": \"circle\"}, \"mode\": \"markers\", \"name\": \"Vikavolt\", \"showlegend\": true, \"type\": \"scatter\", \"x\": [0.0], \"xaxis\": \"x\", \"y\": [83.33], \"yaxis\": \"y\"}, {\"hoverlabel\": {\"namelength\": 0}, \"hovertemplate\": \"<b>%{hovertext}</b><br><br>Pok\\u00e9mon=Stonjourner<br>VGC 2020 Usage %=%{x}<br>Base Stats Mean=%{y}\", \"hovertext\": [\"Stonjourner\"], \"legendgroup\": \"Stonjourner\", \"marker\": {\"color\": \"#00cc96\", \"symbol\": \"circle\"}, \"mode\": \"markers\", \"name\": \"Stonjourner\", \"showlegend\": true, \"type\": \"scatter\", \"x\": [0.0], \"xaxis\": \"x\", \"y\": [78.33], \"yaxis\": \"y\"}, {\"hoverlabel\": {\"namelength\": 0}, \"hovertemplate\": \"<b>%{hovertext}</b><br><br>Pok\\u00e9mon=Cursola<br>VGC 2020 Usage %=%{x}<br>Base Stats Mean=%{y}\", \"hovertext\": [\"Cursola\"], \"legendgroup\": \"Cursola\", \"marker\": {\"color\": \"#ab63fa\", \"symbol\": \"circle\"}, \"mode\": \"markers\", \"name\": \"Cursola\", \"showlegend\": true, \"type\": \"scatter\", \"x\": [0.0], \"xaxis\": \"x\", \"y\": [85.0], \"yaxis\": \"y\"}, {\"hoverlabel\": {\"namelength\": 0}, \"hovertemplate\": \"<b>%{hovertext}</b><br><br>Pok\\u00e9mon=Tsareena<br>VGC 2020 Usage %=%{x}<br>Base Stats Mean=%{y}\", \"hovertext\": [\"Tsareena\"], \"legendgroup\": \"Tsareena\", \"marker\": {\"color\": \"#FFA15A\", \"symbol\": \"circle\"}, \"mode\": \"markers\", \"name\": \"Tsareena\", \"showlegend\": true, \"type\": \"scatter\", \"x\": [0.0], \"xaxis\": \"x\", \"y\": [85.0], \"yaxis\": \"y\"}, {\"hoverlabel\": {\"namelength\": 0}, \"hovertemplate\": \"<b>%{hovertext}</b><br><br>Pok\\u00e9mon=Escavalier<br>VGC 2020 Usage %=%{x}<br>Base Stats Mean=%{y}\", \"hovertext\": [\"Escavalier\"], \"legendgroup\": \"Escavalier\", \"marker\": {\"color\": \"#19d3f3\", \"symbol\": \"circle\"}, \"mode\": \"markers\", \"name\": \"Escavalier\", \"showlegend\": true, \"type\": \"scatter\", \"x\": [0.0], \"xaxis\": \"x\", \"y\": [82.5], \"yaxis\": \"y\"}, {\"hoverlabel\": {\"namelength\": 0}, \"hovertemplate\": \"<b>%{hovertext}</b><br><br>Pok\\u00e9mon=Copperajah<br>VGC 2020 Usage %=%{x}<br>Base Stats Mean=%{y}\", \"hovertext\": [\"Copperajah\"], \"legendgroup\": \"Copperajah\", \"marker\": {\"color\": \"#FF6692\", \"symbol\": \"circle\"}, \"mode\": \"markers\", \"name\": \"Copperajah\", \"showlegend\": true, \"type\": \"scatter\", \"x\": [0.0], \"xaxis\": \"x\", \"y\": [83.33], \"yaxis\": \"y\"}, {\"hoverlabel\": {\"namelength\": 0}, \"hovertemplate\": \"<b>%{hovertext}</b><br><br>Pok\\u00e9mon=Heliolisk<br>VGC 2020 Usage %=%{x}<br>Base Stats Mean=%{y}\", \"hovertext\": [\"Heliolisk\"], \"legendgroup\": \"Heliolisk\", \"marker\": {\"color\": \"#B6E880\", \"symbol\": \"circle\"}, \"mode\": \"markers\", \"name\": \"Heliolisk\", \"showlegend\": true, \"type\": \"scatter\", \"x\": [0.0], \"xaxis\": \"x\", \"y\": [80.17], \"yaxis\": \"y\"}, {\"hoverlabel\": {\"namelength\": 0}, \"hovertemplate\": \"<b>%{hovertext}</b><br><br>Pok\\u00e9mon=Frosmoth<br>VGC 2020 Usage %=%{x}<br>Base Stats Mean=%{y}\", \"hovertext\": [\"Frosmoth\"], \"legendgroup\": \"Frosmoth\", \"marker\": {\"color\": \"#FF97FF\", \"symbol\": \"circle\"}, \"mode\": \"markers\", \"name\": \"Frosmoth\", \"showlegend\": true, \"type\": \"scatter\", \"x\": [0.0], \"xaxis\": \"x\", \"y\": [79.17], \"yaxis\": \"y\"}, {\"hoverlabel\": {\"namelength\": 0}, \"hovertemplate\": \"<b>%{hovertext}</b><br><br>Pok\\u00e9mon=Leafeon<br>VGC 2020 Usage %=%{x}<br>Base Stats Mean=%{y}\", \"hovertext\": [\"Leafeon\"], \"legendgroup\": \"Leafeon\", \"marker\": {\"color\": \"#FECB52\", \"symbol\": \"circle\"}, \"mode\": \"markers\", \"name\": \"Leafeon\", \"showlegend\": true, \"type\": \"scatter\", \"x\": [0.0], \"xaxis\": \"x\", \"y\": [87.5], \"yaxis\": \"y\"}, {\"hoverlabel\": {\"namelength\": 0}, \"hovertemplate\": \"<b>%{hovertext}</b><br><br>Pok\\u00e9mon=Flygon<br>VGC 2020 Usage %=%{x}<br>Base Stats Mean=%{y}\", \"hovertext\": [\"Flygon\"], \"legendgroup\": \"Flygon\", \"marker\": {\"color\": \"#636efa\", \"symbol\": \"circle\"}, \"mode\": \"markers\", \"name\": \"Flygon\", \"showlegend\": true, \"type\": \"scatter\", \"x\": [0.0], \"xaxis\": \"x\", \"y\": [86.67], \"yaxis\": \"y\"}, {\"hoverlabel\": {\"namelength\": 0}, \"hovertemplate\": \"<b>%{hovertext}</b><br><br>Pok\\u00e9mon=Claydol<br>VGC 2020 Usage %=%{x}<br>Base Stats Mean=%{y}\", \"hovertext\": [\"Claydol\"], \"legendgroup\": \"Claydol\", \"marker\": {\"color\": \"#EF553B\", \"symbol\": \"circle\"}, \"mode\": \"markers\", \"name\": \"Claydol\", \"showlegend\": true, \"type\": \"scatter\", \"x\": [0.0], \"xaxis\": \"x\", \"y\": [83.33], \"yaxis\": \"y\"}, {\"hoverlabel\": {\"namelength\": 0}, \"hovertemplate\": \"<b>%{hovertext}</b><br><br>Pok\\u00e9mon=Crawdaunt<br>VGC 2020 Usage %=%{x}<br>Base Stats Mean=%{y}\", \"hovertext\": [\"Crawdaunt\"], \"legendgroup\": \"Crawdaunt\", \"marker\": {\"color\": \"#00cc96\", \"symbol\": \"circle\"}, \"mode\": \"markers\", \"name\": \"Crawdaunt\", \"showlegend\": true, \"type\": \"scatter\", \"x\": [0.0], \"xaxis\": \"x\", \"y\": [78.0], \"yaxis\": \"y\"}, {\"hoverlabel\": {\"namelength\": 0}, \"hovertemplate\": \"<b>%{hovertext}</b><br><br>Pok\\u00e9mon=Flapple<br>VGC 2020 Usage %=%{x}<br>Base Stats Mean=%{y}\", \"hovertext\": [\"Flapple\"], \"legendgroup\": \"Flapple\", \"marker\": {\"color\": \"#ab63fa\", \"symbol\": \"circle\"}, \"mode\": \"markers\", \"name\": \"Flapple\", \"showlegend\": true, \"type\": \"scatter\", \"x\": [0.0], \"xaxis\": \"x\", \"y\": [80.83], \"yaxis\": \"y\"}, {\"hoverlabel\": {\"namelength\": 0}, \"hovertemplate\": \"<b>%{hovertext}</b><br><br>Pok\\u00e9mon=Drednaw<br>VGC 2020 Usage %=%{x}<br>Base Stats Mean=%{y}\", \"hovertext\": [\"Drednaw\"], \"legendgroup\": \"Drednaw\", \"marker\": {\"color\": \"#FFA15A\", \"symbol\": \"circle\"}, \"mode\": \"markers\", \"name\": \"Drednaw\", \"showlegend\": true, \"type\": \"scatter\", \"x\": [0.0], \"xaxis\": \"x\", \"y\": [80.83], \"yaxis\": \"y\"}, {\"hoverlabel\": {\"namelength\": 0}, \"hovertemplate\": \"<b>%{hovertext}</b><br><br>Pok\\u00e9mon=Cloyster<br>VGC 2020 Usage %=%{x}<br>Base Stats Mean=%{y}\", \"hovertext\": [\"Cloyster\"], \"legendgroup\": \"Cloyster\", \"marker\": {\"color\": \"#19d3f3\", \"symbol\": \"circle\"}, \"mode\": \"markers\", \"name\": \"Cloyster\", \"showlegend\": true, \"type\": \"scatter\", \"x\": [0.0], \"xaxis\": \"x\", \"y\": [87.5], \"yaxis\": \"y\"}, {\"hoverlabel\": {\"namelength\": 0}, \"hovertemplate\": \"<b>%{hovertext}</b><br><br>Pok\\u00e9mon=Avalugg<br>VGC 2020 Usage %=%{x}<br>Base Stats Mean=%{y}\", \"hovertext\": [\"Avalugg\"], \"legendgroup\": \"Avalugg\", \"marker\": {\"color\": \"#FF6692\", \"symbol\": \"circle\"}, \"mode\": \"markers\", \"name\": \"Avalugg\", \"showlegend\": true, \"type\": \"scatter\", \"x\": [0.0], \"xaxis\": \"x\", \"y\": [85.67], \"yaxis\": \"y\"}, {\"hoverlabel\": {\"namelength\": 0}, \"hovertemplate\": \"<b>%{hovertext}</b><br><br>Pok\\u00e9mon=Togetic<br>VGC 2020 Usage %=%{x}<br>Base Stats Mean=%{y}\", \"hovertext\": [\"Togetic\"], \"legendgroup\": \"Togetic\", \"marker\": {\"color\": \"#B6E880\", \"symbol\": \"circle\"}, \"mode\": \"markers\", \"name\": \"Togetic\", \"showlegend\": true, \"type\": \"scatter\", \"x\": [0.0], \"xaxis\": \"x\", \"y\": [67.5], \"yaxis\": \"y\"}, {\"hoverlabel\": {\"namelength\": 0}, \"hovertemplate\": \"<b>%{hovertext}</b><br><br>Pok\\u00e9mon=Salazzle<br>VGC 2020 Usage %=%{x}<br>Base Stats Mean=%{y}\", \"hovertext\": [\"Salazzle\"], \"legendgroup\": \"Salazzle\", \"marker\": {\"color\": \"#FF97FF\", \"symbol\": \"circle\"}, \"mode\": \"markers\", \"name\": \"Salazzle\", \"showlegend\": true, \"type\": \"scatter\", \"x\": [0.0], \"xaxis\": \"x\", \"y\": [80.0], \"yaxis\": \"y\"}, {\"hoverlabel\": {\"namelength\": 0}, \"hovertemplate\": \"<b>%{hovertext}</b><br><br>Pok\\u00e9mon=Drifblim<br>VGC 2020 Usage %=%{x}<br>Base Stats Mean=%{y}\", \"hovertext\": [\"Drifblim\"], \"legendgroup\": \"Drifblim\", \"marker\": {\"color\": \"#FECB52\", \"symbol\": \"circle\"}, \"mode\": \"markers\", \"name\": \"Drifblim\", \"showlegend\": true, \"type\": \"scatter\", \"x\": [0.0], \"xaxis\": \"x\", \"y\": [83.0], \"yaxis\": \"y\"}, {\"hoverlabel\": {\"namelength\": 0}, \"hovertemplate\": \"<b>%{hovertext}</b><br><br>Pok\\u00e9mon=Polteageist<br>VGC 2020 Usage %=%{x}<br>Base Stats Mean=%{y}\", \"hovertext\": [\"Polteageist\"], \"legendgroup\": \"Polteageist\", \"marker\": {\"color\": \"#636efa\", \"symbol\": \"circle\"}, \"mode\": \"markers\", \"name\": \"Polteageist\", \"showlegend\": true, \"type\": \"scatter\", \"x\": [0.0], \"xaxis\": \"x\", \"y\": [84.67], \"yaxis\": \"y\"}, {\"hoverlabel\": {\"namelength\": 0}, \"hovertemplate\": \"<b>%{hovertext}</b><br><br>Pok\\u00e9mon=Noivern<br>VGC 2020 Usage %=%{x}<br>Base Stats Mean=%{y}\", \"hovertext\": [\"Noivern\"], \"legendgroup\": \"Noivern\", \"marker\": {\"color\": \"#EF553B\", \"symbol\": \"circle\"}, \"mode\": \"markers\", \"name\": \"Noivern\", \"showlegend\": true, \"type\": \"scatter\", \"x\": [0.0], \"xaxis\": \"x\", \"y\": [89.17], \"yaxis\": \"y\"}, {\"hoverlabel\": {\"namelength\": 0}, \"hovertemplate\": \"<b>%{hovertext}</b><br><br>Pok\\u00e9mon=Toxapex<br>VGC 2020 Usage %=%{x}<br>Base Stats Mean=%{y}\", \"hovertext\": [\"Toxapex\"], \"legendgroup\": \"Toxapex\", \"marker\": {\"color\": \"#00cc96\", \"symbol\": \"circle\"}, \"mode\": \"markers\", \"name\": \"Toxapex\", \"showlegend\": true, \"type\": \"scatter\", \"x\": [0.0], \"xaxis\": \"x\", \"y\": [82.5], \"yaxis\": \"y\"}, {\"hoverlabel\": {\"namelength\": 0}, \"hovertemplate\": \"<b>%{hovertext}</b><br><br>Pok\\u00e9mon=Machamp<br>VGC 2020 Usage %=%{x}<br>Base Stats Mean=%{y}\", \"hovertext\": [\"Machamp\"], \"legendgroup\": \"Machamp\", \"marker\": {\"color\": \"#ab63fa\", \"symbol\": \"circle\"}, \"mode\": \"markers\", \"name\": \"Machamp\", \"showlegend\": true, \"type\": \"scatter\", \"x\": [0.0], \"xaxis\": \"x\", \"y\": [84.17], \"yaxis\": \"y\"}, {\"hoverlabel\": {\"namelength\": 0}, \"hovertemplate\": \"<b>%{hovertext}</b><br><br>Pok\\u00e9mon=Golisopod<br>VGC 2020 Usage %=%{x}<br>Base Stats Mean=%{y}\", \"hovertext\": [\"Golisopod\"], \"legendgroup\": \"Golisopod\", \"marker\": {\"color\": \"#FFA15A\", \"symbol\": \"circle\"}, \"mode\": \"markers\", \"name\": \"Golisopod\", \"showlegend\": true, \"type\": \"scatter\", \"x\": [0.0], \"xaxis\": \"x\", \"y\": [88.33], \"yaxis\": \"y\"}, {\"hoverlabel\": {\"namelength\": 0}, \"hovertemplate\": \"<b>%{hovertext}</b><br><br>Pok\\u00e9mon=Accelgor<br>VGC 2020 Usage %=%{x}<br>Base Stats Mean=%{y}\", \"hovertext\": [\"Accelgor\"], \"legendgroup\": \"Accelgor\", \"marker\": {\"color\": \"#19d3f3\", \"symbol\": \"circle\"}, \"mode\": \"markers\", \"name\": \"Accelgor\", \"showlegend\": true, \"type\": \"scatter\", \"x\": [0.0], \"xaxis\": \"x\", \"y\": [82.5], \"yaxis\": \"y\"}, {\"hoverlabel\": {\"namelength\": 0}, \"hovertemplate\": \"<b>%{hovertext}</b><br><br>Pok\\u00e9mon=Manectric<br>VGC 2020 Usage %=%{x}<br>Base Stats Mean=%{y}\", \"hovertext\": [\"Manectric\"], \"legendgroup\": \"Manectric\", \"marker\": {\"color\": \"#FF6692\", \"symbol\": \"circle\"}, \"mode\": \"markers\", \"name\": \"Manectric\", \"showlegend\": true, \"type\": \"scatter\", \"x\": [0.0], \"xaxis\": \"x\", \"y\": [79.17], \"yaxis\": \"y\"}, {\"hoverlabel\": {\"namelength\": 0}, \"hovertemplate\": \"<b>%{hovertext}</b><br><br>Pok\\u00e9mon=Sawk<br>VGC 2020 Usage %=%{x}<br>Base Stats Mean=%{y}\", \"hovertext\": [\"Sawk\"], \"legendgroup\": \"Sawk\", \"marker\": {\"color\": \"#B6E880\", \"symbol\": \"circle\"}, \"mode\": \"markers\", \"name\": \"Sawk\", \"showlegend\": true, \"type\": \"scatter\", \"x\": [0.0], \"xaxis\": \"x\", \"y\": [77.5], \"yaxis\": \"y\"}, {\"hoverlabel\": {\"namelength\": 0}, \"hovertemplate\": \"<b>%{hovertext}</b><br><br>Pok\\u00e9mon=Falinks<br>VGC 2020 Usage %=%{x}<br>Base Stats Mean=%{y}\", \"hovertext\": [\"Falinks\"], \"legendgroup\": \"Falinks\", \"marker\": {\"color\": \"#FF97FF\", \"symbol\": \"circle\"}, \"mode\": \"markers\", \"name\": \"Falinks\", \"showlegend\": true, \"type\": \"scatter\", \"x\": [0.0], \"xaxis\": \"x\", \"y\": [78.33], \"yaxis\": \"y\"}, {\"hoverlabel\": {\"namelength\": 0}, \"hovertemplate\": \"<b>%{hovertext}</b><br><br>Pok\\u00e9mon=Boltund<br>VGC 2020 Usage %=%{x}<br>Base Stats Mean=%{y}\", \"hovertext\": [\"Boltund\"], \"legendgroup\": \"Boltund\", \"marker\": {\"color\": \"#FECB52\", \"symbol\": \"circle\"}, \"mode\": \"markers\", \"name\": \"Boltund\", \"showlegend\": true, \"type\": \"scatter\", \"x\": [0.0], \"xaxis\": \"x\", \"y\": [81.67], \"yaxis\": \"y\"}, {\"hoverlabel\": {\"namelength\": 0}, \"hovertemplate\": \"<b>%{hovertext}</b><br><br>Pok\\u00e9mon=Steelix<br>VGC 2020 Usage %=%{x}<br>Base Stats Mean=%{y}\", \"hovertext\": [\"Steelix\"], \"legendgroup\": \"Steelix\", \"marker\": {\"color\": \"#636efa\", \"symbol\": \"circle\"}, \"mode\": \"markers\", \"name\": \"Steelix\", \"showlegend\": true, \"type\": \"scatter\", \"x\": [0.0], \"xaxis\": \"x\", \"y\": [85.0], \"yaxis\": \"y\"}, {\"hoverlabel\": {\"namelength\": 0}, \"hovertemplate\": \"<b>%{hovertext}</b><br><br>Pok\\u00e9mon=Orbeetle<br>VGC 2020 Usage %=%{x}<br>Base Stats Mean=%{y}\", \"hovertext\": [\"Orbeetle\"], \"legendgroup\": \"Orbeetle\", \"marker\": {\"color\": \"#EF553B\", \"symbol\": \"circle\"}, \"mode\": \"markers\", \"name\": \"Orbeetle\", \"showlegend\": true, \"type\": \"scatter\", \"x\": [0.0], \"xaxis\": \"x\", \"y\": [84.17], \"yaxis\": \"y\"}, {\"hoverlabel\": {\"namelength\": 0}, \"hovertemplate\": \"<b>%{hovertext}</b><br><br>Pok\\u00e9mon=Ditto<br>VGC 2020 Usage %=%{x}<br>Base Stats Mean=%{y}\", \"hovertext\": [\"Ditto\"], \"legendgroup\": \"Ditto\", \"marker\": {\"color\": \"#00cc96\", \"symbol\": \"circle\"}, \"mode\": \"markers\", \"name\": \"Ditto\", \"showlegend\": true, \"type\": \"scatter\", \"x\": [0.0], \"xaxis\": \"x\", \"y\": [48.0], \"yaxis\": \"y\"}, {\"hoverlabel\": {\"namelength\": 0}, \"hovertemplate\": \"<b>%{hovertext}</b><br><br>Pok\\u00e9mon=Cramorant<br>VGC 2020 Usage %=%{x}<br>Base Stats Mean=%{y}\", \"hovertext\": [\"Cramorant\"], \"legendgroup\": \"Cramorant\", \"marker\": {\"color\": \"#ab63fa\", \"symbol\": \"circle\"}, \"mode\": \"markers\", \"name\": \"Cramorant\", \"showlegend\": true, \"type\": \"scatter\", \"x\": [0.0], \"xaxis\": \"x\", \"y\": [79.17], \"yaxis\": \"y\"}, {\"hoverlabel\": {\"namelength\": 0}, \"hovertemplate\": \"<b>%{hovertext}</b><br><br>Pok\\u00e9mon=Bewear<br>VGC 2020 Usage %=%{x}<br>Base Stats Mean=%{y}\", \"hovertext\": [\"Bewear\"], \"legendgroup\": \"Bewear\", \"marker\": {\"color\": \"#FFA15A\", \"symbol\": \"circle\"}, \"mode\": \"markers\", \"name\": \"Bewear\", \"showlegend\": true, \"type\": \"scatter\", \"x\": [0.0], \"xaxis\": \"x\", \"y\": [83.33], \"yaxis\": \"y\"}, {\"hoverlabel\": {\"namelength\": 0}, \"hovertemplate\": \"<b>%{hovertext}</b><br><br>Pok\\u00e9mon=Toxicroak<br>VGC 2020 Usage %=%{x}<br>Base Stats Mean=%{y}\", \"hovertext\": [\"Toxicroak\"], \"legendgroup\": \"Toxicroak\", \"marker\": {\"color\": \"#19d3f3\", \"symbol\": \"circle\"}, \"mode\": \"markers\", \"name\": \"Toxicroak\", \"showlegend\": true, \"type\": \"scatter\", \"x\": [0.0], \"xaxis\": \"x\", \"y\": [81.67], \"yaxis\": \"y\"}, {\"hoverlabel\": {\"namelength\": 0}, \"hovertemplate\": \"<b>%{hovertext}</b><br><br>Pok\\u00e9mon=Galvantula<br>VGC 2020 Usage %=%{x}<br>Base Stats Mean=%{y}\", \"hovertext\": [\"Galvantula\"], \"legendgroup\": \"Galvantula\", \"marker\": {\"color\": \"#FF6692\", \"symbol\": \"circle\"}, \"mode\": \"markers\", \"name\": \"Galvantula\", \"showlegend\": true, \"type\": \"scatter\", \"x\": [0.0], \"xaxis\": \"x\", \"y\": [78.67], \"yaxis\": \"y\"}, {\"hoverlabel\": {\"namelength\": 0}, \"hovertemplate\": \"<b>%{hovertext}</b><br><br>Pok\\u00e9mon=Espeon<br>VGC 2020 Usage %=%{x}<br>Base Stats Mean=%{y}\", \"hovertext\": [\"Espeon\"], \"legendgroup\": \"Espeon\", \"marker\": {\"color\": \"#B6E880\", \"symbol\": \"circle\"}, \"mode\": \"markers\", \"name\": \"Espeon\", \"showlegend\": true, \"type\": \"scatter\", \"x\": [0.0], \"xaxis\": \"x\", \"y\": [87.5], \"yaxis\": \"y\"}, {\"hoverlabel\": {\"namelength\": 0}, \"hovertemplate\": \"<b>%{hovertext}</b><br><br>Pok\\u00e9mon=Arctovish<br>VGC 2020 Usage %=%{x}<br>Base Stats Mean=%{y}\", \"hovertext\": [\"Arctovish\"], \"legendgroup\": \"Arctovish\", \"marker\": {\"color\": \"#FF97FF\", \"symbol\": \"circle\"}, \"mode\": \"markers\", \"name\": \"Arctovish\", \"showlegend\": true, \"type\": \"scatter\", \"x\": [0.0], \"xaxis\": \"x\", \"y\": [84.17], \"yaxis\": \"y\"}, {\"hoverlabel\": {\"namelength\": 0}, \"hovertemplate\": \"<b>%{hovertext}</b><br><br>Pok\\u00e9mon=Cherrim<br>VGC 2020 Usage %=%{x}<br>Base Stats Mean=%{y}\", \"hovertext\": [\"Cherrim\"], \"legendgroup\": \"Cherrim\", \"marker\": {\"color\": \"#FECB52\", \"symbol\": \"circle\"}, \"mode\": \"markers\", \"name\": \"Cherrim\", \"showlegend\": true, \"type\": \"scatter\", \"x\": [0.0], \"xaxis\": \"x\", \"y\": [75.0], \"yaxis\": \"y\"}, {\"hoverlabel\": {\"namelength\": 0}, \"hovertemplate\": \"<b>%{hovertext}</b><br><br>Pok\\u00e9mon=Klang<br>VGC 2020 Usage %=%{x}<br>Base Stats Mean=%{y}\", \"hovertext\": [\"Klang\"], \"legendgroup\": \"Klang\", \"marker\": {\"color\": \"#636efa\", \"symbol\": \"circle\"}, \"mode\": \"markers\", \"name\": \"Klang\", \"showlegend\": true, \"type\": \"scatter\", \"x\": [0.0], \"xaxis\": \"x\", \"y\": [73.33], \"yaxis\": \"y\"}, {\"hoverlabel\": {\"namelength\": 0}, \"hovertemplate\": \"<b>%{hovertext}</b><br><br>Pok\\u00e9mon=Klinklang<br>VGC 2020 Usage %=%{x}<br>Base Stats Mean=%{y}\", \"hovertext\": [\"Klinklang\"], \"legendgroup\": \"Klinklang\", \"marker\": {\"color\": \"#EF553B\", \"symbol\": \"circle\"}, \"mode\": \"markers\", \"name\": \"Klinklang\", \"showlegend\": true, \"type\": \"scatter\", \"x\": [0.0], \"xaxis\": \"x\", \"y\": [86.67], \"yaxis\": \"y\"}, {\"hoverlabel\": {\"namelength\": 0}, \"hovertemplate\": \"<b>%{hovertext}</b><br><br>Pok\\u00e9mon=Gothorita<br>VGC 2020 Usage %=%{x}<br>Base Stats Mean=%{y}\", \"hovertext\": [\"Gothorita\"], \"legendgroup\": \"Gothorita\", \"marker\": {\"color\": \"#00cc96\", \"symbol\": \"circle\"}, \"mode\": \"markers\", \"name\": \"Gothorita\", \"showlegend\": true, \"type\": \"scatter\", \"x\": [0.0], \"xaxis\": \"x\", \"y\": [65.0], \"yaxis\": \"y\"}, {\"hoverlabel\": {\"namelength\": 0}, \"hovertemplate\": \"<b>%{hovertext}</b><br><br>Pok\\u00e9mon=Grapploct<br>VGC 2020 Usage %=%{x}<br>Base Stats Mean=%{y}\", \"hovertext\": [\"Grapploct\"], \"legendgroup\": \"Grapploct\", \"marker\": {\"color\": \"#ab63fa\", \"symbol\": \"circle\"}, \"mode\": \"markers\", \"name\": \"Grapploct\", \"showlegend\": true, \"type\": \"scatter\", \"x\": [0.0], \"xaxis\": \"x\", \"y\": [80.0], \"yaxis\": \"y\"}, {\"hoverlabel\": {\"namelength\": 0}, \"hovertemplate\": \"<b>%{hovertext}</b><br><br>Pok\\u00e9mon=Dubwool<br>VGC 2020 Usage %=%{x}<br>Base Stats Mean=%{y}\", \"hovertext\": [\"Dubwool\"], \"legendgroup\": \"Dubwool\", \"marker\": {\"color\": \"#FFA15A\", \"symbol\": \"circle\"}, \"mode\": \"markers\", \"name\": \"Dubwool\", \"showlegend\": true, \"type\": \"scatter\", \"x\": [0.0], \"xaxis\": \"x\", \"y\": [81.67], \"yaxis\": \"y\"}, {\"hoverlabel\": {\"namelength\": 0}, \"hovertemplate\": \"<b>%{hovertext}</b><br><br>Pok\\u00e9mon=Quagsire<br>VGC 2020 Usage %=%{x}<br>Base Stats Mean=%{y}\", \"hovertext\": [\"Quagsire\"], \"legendgroup\": \"Quagsire\", \"marker\": {\"color\": \"#19d3f3\", \"symbol\": \"circle\"}, \"mode\": \"markers\", \"name\": \"Quagsire\", \"showlegend\": true, \"type\": \"scatter\", \"x\": [0.0], \"xaxis\": \"x\", \"y\": [71.67], \"yaxis\": \"y\"}, {\"hoverlabel\": {\"namelength\": 0}, \"hovertemplate\": \"<b>%{hovertext}</b><br><br>Pok\\u00e9mon=Thievul<br>VGC 2020 Usage %=%{x}<br>Base Stats Mean=%{y}\", \"hovertext\": [\"Thievul\"], \"legendgroup\": \"Thievul\", \"marker\": {\"color\": \"#FF6692\", \"symbol\": \"circle\"}, \"mode\": \"markers\", \"name\": \"Thievul\", \"showlegend\": true, \"type\": \"scatter\", \"x\": [0.0], \"xaxis\": \"x\", \"y\": [75.83], \"yaxis\": \"y\"}, {\"hoverlabel\": {\"namelength\": 0}, \"hovertemplate\": \"<b>%{hovertext}</b><br><br>Pok\\u00e9mon=Basculin<br>VGC 2020 Usage %=%{x}<br>Base Stats Mean=%{y}\", \"hovertext\": [\"Basculin\"], \"legendgroup\": \"Basculin\", \"marker\": {\"color\": \"#B6E880\", \"symbol\": \"circle\"}, \"mode\": \"markers\", \"name\": \"Basculin\", \"showlegend\": true, \"type\": \"scatter\", \"x\": [0.0], \"xaxis\": \"x\", \"y\": [76.67], \"yaxis\": \"y\"}, {\"hoverlabel\": {\"namelength\": 0}, \"hovertemplate\": \"<b>%{hovertext}</b><br><br>Pok\\u00e9mon=Jolteon<br>VGC 2020 Usage %=%{x}<br>Base Stats Mean=%{y}\", \"hovertext\": [\"Jolteon\"], \"legendgroup\": \"Jolteon\", \"marker\": {\"color\": \"#FF97FF\", \"symbol\": \"circle\"}, \"mode\": \"markers\", \"name\": \"Jolteon\", \"showlegend\": true, \"type\": \"scatter\", \"x\": [0.0], \"xaxis\": \"x\", \"y\": [87.5], \"yaxis\": \"y\"}, {\"hoverlabel\": {\"namelength\": 0}, \"hovertemplate\": \"<b>%{hovertext}</b><br><br>Pok\\u00e9mon=Drapion<br>VGC 2020 Usage %=%{x}<br>Base Stats Mean=%{y}\", \"hovertext\": [\"Drapion\"], \"legendgroup\": \"Drapion\", \"marker\": {\"color\": \"#FECB52\", \"symbol\": \"circle\"}, \"mode\": \"markers\", \"name\": \"Drapion\", \"showlegend\": true, \"type\": \"scatter\", \"x\": [0.0], \"xaxis\": \"x\", \"y\": [83.33], \"yaxis\": \"y\"}, {\"hoverlabel\": {\"namelength\": 0}, \"hovertemplate\": \"<b>%{hovertext}</b><br><br>Pok\\u00e9mon=Rhydon<br>VGC 2020 Usage %=%{x}<br>Base Stats Mean=%{y}\", \"hovertext\": [\"Rhydon\"], \"legendgroup\": \"Rhydon\", \"marker\": {\"color\": \"#636efa\", \"symbol\": \"circle\"}, \"mode\": \"markers\", \"name\": \"Rhydon\", \"showlegend\": true, \"type\": \"scatter\", \"x\": [0.0], \"xaxis\": \"x\", \"y\": [80.83], \"yaxis\": \"y\"}, {\"hoverlabel\": {\"namelength\": 0}, \"hovertemplate\": \"<b>%{hovertext}</b><br><br>Pok\\u00e9mon=Shiftry<br>VGC 2020 Usage %=%{x}<br>Base Stats Mean=%{y}\", \"hovertext\": [\"Shiftry\"], \"legendgroup\": \"Shiftry\", \"marker\": {\"color\": \"#EF553B\", \"symbol\": \"circle\"}, \"mode\": \"markers\", \"name\": \"Shiftry\", \"showlegend\": true, \"type\": \"scatter\", \"x\": [0.0], \"xaxis\": \"x\", \"y\": [80.0], \"yaxis\": \"y\"}, {\"hoverlabel\": {\"namelength\": 0}, \"hovertemplate\": \"<b>%{hovertext}</b><br><br>Pok\\u00e9mon=Froslass<br>VGC 2020 Usage %=%{x}<br>Base Stats Mean=%{y}\", \"hovertext\": [\"Froslass\"], \"legendgroup\": \"Froslass\", \"marker\": {\"color\": \"#00cc96\", \"symbol\": \"circle\"}, \"mode\": \"markers\", \"name\": \"Froslass\", \"showlegend\": true, \"type\": \"scatter\", \"x\": [0.0], \"xaxis\": \"x\", \"y\": [80.0], \"yaxis\": \"y\"}, {\"hoverlabel\": {\"namelength\": 0}, \"hovertemplate\": \"<b>%{hovertext}</b><br><br>Pok\\u00e9mon=Vaporeon<br>VGC 2020 Usage %=%{x}<br>Base Stats Mean=%{y}\", \"hovertext\": [\"Vaporeon\"], \"legendgroup\": \"Vaporeon\", \"marker\": {\"color\": \"#ab63fa\", \"symbol\": \"circle\"}, \"mode\": \"markers\", \"name\": \"Vaporeon\", \"showlegend\": true, \"type\": \"scatter\", \"x\": [0.0], \"xaxis\": \"x\", \"y\": [87.5], \"yaxis\": \"y\"}, {\"hoverlabel\": {\"namelength\": 0}, \"hovertemplate\": \"<b>%{hovertext}</b><br><br>Pok\\u00e9mon=Cinccino<br>VGC 2020 Usage %=%{x}<br>Base Stats Mean=%{y}\", \"hovertext\": [\"Cinccino\"], \"legendgroup\": \"Cinccino\", \"marker\": {\"color\": \"#FFA15A\", \"symbol\": \"circle\"}, \"mode\": \"markers\", \"name\": \"Cinccino\", \"showlegend\": true, \"type\": \"scatter\", \"x\": [0.0], \"xaxis\": \"x\", \"y\": [78.33], \"yaxis\": \"y\"}, {\"hoverlabel\": {\"namelength\": 0}, \"hovertemplate\": \"<b>%{hovertext}</b><br><br>Pok\\u00e9mon=Octillery<br>VGC 2020 Usage %=%{x}<br>Base Stats Mean=%{y}\", \"hovertext\": [\"Octillery\"], \"legendgroup\": \"Octillery\", \"marker\": {\"color\": \"#19d3f3\", \"symbol\": \"circle\"}, \"mode\": \"markers\", \"name\": \"Octillery\", \"showlegend\": true, \"type\": \"scatter\", \"x\": [0.0], \"xaxis\": \"x\", \"y\": [80.0], \"yaxis\": \"y\"}, {\"hoverlabel\": {\"namelength\": 0}, \"hovertemplate\": \"<b>%{hovertext}</b><br><br>Pok\\u00e9mon=Dottler<br>VGC 2020 Usage %=%{x}<br>Base Stats Mean=%{y}\", \"hovertext\": [\"Dottler\"], \"legendgroup\": \"Dottler\", \"marker\": {\"color\": \"#FF6692\", \"symbol\": \"circle\"}, \"mode\": \"markers\", \"name\": \"Dottler\", \"showlegend\": true, \"type\": \"scatter\", \"x\": [0.0], \"xaxis\": \"x\", \"y\": [55.83], \"yaxis\": \"y\"}, {\"hoverlabel\": {\"namelength\": 0}, \"hovertemplate\": \"<b>%{hovertext}</b><br><br>Pok\\u00e9mon=Dusknoir<br>VGC 2020 Usage %=%{x}<br>Base Stats Mean=%{y}\", \"hovertext\": [\"Dusknoir\"], \"legendgroup\": \"Dusknoir\", \"marker\": {\"color\": \"#B6E880\", \"symbol\": \"circle\"}, \"mode\": \"markers\", \"name\": \"Dusknoir\", \"showlegend\": true, \"type\": \"scatter\", \"x\": [0.0], \"xaxis\": \"x\", \"y\": [87.5], \"yaxis\": \"y\"}, {\"hoverlabel\": {\"namelength\": 0}, \"hovertemplate\": \"<b>%{hovertext}</b><br><br>Pok\\u00e9mon=Delibird<br>VGC 2020 Usage %=%{x}<br>Base Stats Mean=%{y}\", \"hovertext\": [\"Delibird\"], \"legendgroup\": \"Delibird\", \"marker\": {\"color\": \"#FF97FF\", \"symbol\": \"circle\"}, \"mode\": \"markers\", \"name\": \"Delibird\", \"showlegend\": true, \"type\": \"scatter\", \"x\": [0.0], \"xaxis\": \"x\", \"y\": [55.0], \"yaxis\": \"y\"}, {\"hoverlabel\": {\"namelength\": 0}, \"hovertemplate\": \"<b>%{hovertext}</b><br><br>Pok\\u00e9mon=Wailord<br>VGC 2020 Usage %=%{x}<br>Base Stats Mean=%{y}\", \"hovertext\": [\"Wailord\"], \"legendgroup\": \"Wailord\", \"marker\": {\"color\": \"#FECB52\", \"symbol\": \"circle\"}, \"mode\": \"markers\", \"name\": \"Wailord\", \"showlegend\": true, \"type\": \"scatter\", \"x\": [0.0], \"xaxis\": \"x\", \"y\": [83.33], \"yaxis\": \"y\"}, {\"hoverlabel\": {\"namelength\": 0}, \"hovertemplate\": \"<b>%{hovertext}</b><br><br>Pok\\u00e9mon=Kingler<br>VGC 2020 Usage %=%{x}<br>Base Stats Mean=%{y}\", \"hovertext\": [\"Kingler\"], \"legendgroup\": \"Kingler\", \"marker\": {\"color\": \"#636efa\", \"symbol\": \"circle\"}, \"mode\": \"markers\", \"name\": \"Kingler\", \"showlegend\": true, \"type\": \"scatter\", \"x\": [0.0], \"xaxis\": \"x\", \"y\": [79.17], \"yaxis\": \"y\"}, {\"hoverlabel\": {\"namelength\": 0}, \"hovertemplate\": \"<b>%{hovertext}</b><br><br>Pok\\u00e9mon=Beheeyem<br>VGC 2020 Usage %=%{x}<br>Base Stats Mean=%{y}\", \"hovertext\": [\"Beheeyem\"], \"legendgroup\": \"Beheeyem\", \"marker\": {\"color\": \"#EF553B\", \"symbol\": \"circle\"}, \"mode\": \"markers\", \"name\": \"Beheeyem\", \"showlegend\": true, \"type\": \"scatter\", \"x\": [0.0], \"xaxis\": \"x\", \"y\": [80.83], \"yaxis\": \"y\"}, {\"hoverlabel\": {\"namelength\": 0}, \"hovertemplate\": \"<b>%{hovertext}</b><br><br>Pok\\u00e9mon=Glalie<br>VGC 2020 Usage %=%{x}<br>Base Stats Mean=%{y}\", \"hovertext\": [\"Glalie\"], \"legendgroup\": \"Glalie\", \"marker\": {\"color\": \"#00cc96\", \"symbol\": \"circle\"}, \"mode\": \"markers\", \"name\": \"Glalie\", \"showlegend\": true, \"type\": \"scatter\", \"x\": [0.0], \"xaxis\": \"x\", \"y\": [80.0], \"yaxis\": \"y\"}, {\"hoverlabel\": {\"namelength\": 0}, \"hovertemplate\": \"<b>%{hovertext}</b><br><br>Pok\\u00e9mon=Shuckle<br>VGC 2020 Usage %=%{x}<br>Base Stats Mean=%{y}\", \"hovertext\": [\"Shuckle\"], \"legendgroup\": \"Shuckle\", \"marker\": {\"color\": \"#ab63fa\", \"symbol\": \"circle\"}, \"mode\": \"markers\", \"name\": \"Shuckle\", \"showlegend\": true, \"type\": \"scatter\", \"x\": [0.0], \"xaxis\": \"x\", \"y\": [84.17], \"yaxis\": \"y\"}, {\"hoverlabel\": {\"namelength\": 0}, \"hovertemplate\": \"<b>%{hovertext}</b><br><br>Pok\\u00e9mon=Clefairy<br>VGC 2020 Usage %=%{x}<br>Base Stats Mean=%{y}\", \"hovertext\": [\"Clefairy\"], \"legendgroup\": \"Clefairy\", \"marker\": {\"color\": \"#FFA15A\", \"symbol\": \"circle\"}, \"mode\": \"markers\", \"name\": \"Clefairy\", \"showlegend\": true, \"type\": \"scatter\", \"x\": [0.0], \"xaxis\": \"x\", \"y\": [53.83], \"yaxis\": \"y\"}, {\"hoverlabel\": {\"namelength\": 0}, \"hovertemplate\": \"<b>%{hovertext}</b><br><br>Pok\\u00e9mon=Riolu<br>VGC 2020 Usage %=%{x}<br>Base Stats Mean=%{y}\", \"hovertext\": [\"Riolu\"], \"legendgroup\": \"Riolu\", \"marker\": {\"color\": \"#19d3f3\", \"symbol\": \"circle\"}, \"mode\": \"markers\", \"name\": \"Riolu\", \"showlegend\": true, \"type\": \"scatter\", \"x\": [0.0], \"xaxis\": \"x\", \"y\": [47.5], \"yaxis\": \"y\"}, {\"hoverlabel\": {\"namelength\": 0}, \"hovertemplate\": \"<b>%{hovertext}</b><br><br>Pok\\u00e9mon=Turtonator<br>VGC 2020 Usage %=%{x}<br>Base Stats Mean=%{y}\", \"hovertext\": [\"Turtonator\"], \"legendgroup\": \"Turtonator\", \"marker\": {\"color\": \"#FF6692\", \"symbol\": \"circle\"}, \"mode\": \"markers\", \"name\": \"Turtonator\", \"showlegend\": true, \"type\": \"scatter\", \"x\": [0.0], \"xaxis\": \"x\", \"y\": [80.83], \"yaxis\": \"y\"}, {\"hoverlabel\": {\"namelength\": 0}, \"hovertemplate\": \"<b>%{hovertext}</b><br><br>Pok\\u00e9mon=Doublade<br>VGC 2020 Usage %=%{x}<br>Base Stats Mean=%{y}\", \"hovertext\": [\"Doublade\"], \"legendgroup\": \"Doublade\", \"marker\": {\"color\": \"#B6E880\", \"symbol\": \"circle\"}, \"mode\": \"markers\", \"name\": \"Doublade\", \"showlegend\": true, \"type\": \"scatter\", \"x\": [0.0], \"xaxis\": \"x\", \"y\": [74.67], \"yaxis\": \"y\"}, {\"hoverlabel\": {\"namelength\": 0}, \"hovertemplate\": \"<b>%{hovertext}</b><br><br>Pok\\u00e9mon=Xatu<br>VGC 2020 Usage %=%{x}<br>Base Stats Mean=%{y}\", \"hovertext\": [\"Xatu\"], \"legendgroup\": \"Xatu\", \"marker\": {\"color\": \"#FF97FF\", \"symbol\": \"circle\"}, \"mode\": \"markers\", \"name\": \"Xatu\", \"showlegend\": true, \"type\": \"scatter\", \"x\": [0.0], \"xaxis\": \"x\", \"y\": [78.33], \"yaxis\": \"y\"}, {\"hoverlabel\": {\"namelength\": 0}, \"hovertemplate\": \"<b>%{hovertext}</b><br><br>Pok\\u00e9mon=Hitmonlee<br>VGC 2020 Usage %=%{x}<br>Base Stats Mean=%{y}\", \"hovertext\": [\"Hitmonlee\"], \"legendgroup\": \"Hitmonlee\", \"marker\": {\"color\": \"#FECB52\", \"symbol\": \"circle\"}, \"mode\": \"markers\", \"name\": \"Hitmonlee\", \"showlegend\": true, \"type\": \"scatter\", \"x\": [0.0], \"xaxis\": \"x\", \"y\": [75.83], \"yaxis\": \"y\"}, {\"hoverlabel\": {\"namelength\": 0}, \"hovertemplate\": \"<b>%{hovertext}</b><br><br>Pok\\u00e9mon=Charjabug<br>VGC 2020 Usage %=%{x}<br>Base Stats Mean=%{y}\", \"hovertext\": [\"Charjabug\"], \"legendgroup\": \"Charjabug\", \"marker\": {\"color\": \"#636efa\", \"symbol\": \"circle\"}, \"mode\": \"markers\", \"name\": \"Charjabug\", \"showlegend\": true, \"type\": \"scatter\", \"x\": [0.0], \"xaxis\": \"x\", \"y\": [66.67], \"yaxis\": \"y\"}, {\"hoverlabel\": {\"namelength\": 0}, \"hovertemplate\": \"<b>%{hovertext}</b><br><br>Pok\\u00e9mon=Maractus<br>VGC 2020 Usage %=%{x}<br>Base Stats Mean=%{y}\", \"hovertext\": [\"Maractus\"], \"legendgroup\": \"Maractus\", \"marker\": {\"color\": \"#EF553B\", \"symbol\": \"circle\"}, \"mode\": \"markers\", \"name\": \"Maractus\", \"showlegend\": true, \"type\": \"scatter\", \"x\": [0.0], \"xaxis\": \"x\", \"y\": [76.83], \"yaxis\": \"y\"}, {\"hoverlabel\": {\"namelength\": 0}, \"hovertemplate\": \"<b>%{hovertext}</b><br><br>Pok\\u00e9mon=Shedinja<br>VGC 2020 Usage %=%{x}<br>Base Stats Mean=%{y}\", \"hovertext\": [\"Shedinja\"], \"legendgroup\": \"Shedinja\", \"marker\": {\"color\": \"#00cc96\", \"symbol\": \"circle\"}, \"mode\": \"markers\", \"name\": \"Shedinja\", \"showlegend\": true, \"type\": \"scatter\", \"x\": [0.0], \"xaxis\": \"x\", \"y\": [39.33], \"yaxis\": \"y\"}, {\"hoverlabel\": {\"namelength\": 0}, \"hovertemplate\": \"<b>%{hovertext}</b><br><br>Pok\\u00e9mon=Hitmonchan<br>VGC 2020 Usage %=%{x}<br>Base Stats Mean=%{y}\", \"hovertext\": [\"Hitmonchan\"], \"legendgroup\": \"Hitmonchan\", \"marker\": {\"color\": \"#ab63fa\", \"symbol\": \"circle\"}, \"mode\": \"markers\", \"name\": \"Hitmonchan\", \"showlegend\": true, \"type\": \"scatter\", \"x\": [0.0], \"xaxis\": \"x\", \"y\": [75.83], \"yaxis\": \"y\"}, {\"hoverlabel\": {\"namelength\": 0}, \"hovertemplate\": \"<b>%{hovertext}</b><br><br>Pok\\u00e9mon=Swoobat<br>VGC 2020 Usage %=%{x}<br>Base Stats Mean=%{y}\", \"hovertext\": [\"Swoobat\"], \"legendgroup\": \"Swoobat\", \"marker\": {\"color\": \"#FFA15A\", \"symbol\": \"circle\"}, \"mode\": \"markers\", \"name\": \"Swoobat\", \"showlegend\": true, \"type\": \"scatter\", \"x\": [0.0], \"xaxis\": \"x\", \"y\": [70.83], \"yaxis\": \"y\"}, {\"hoverlabel\": {\"namelength\": 0}, \"hovertemplate\": \"<b>%{hovertext}</b><br><br>Pok\\u00e9mon=Gloom<br>VGC 2020 Usage %=%{x}<br>Base Stats Mean=%{y}\", \"hovertext\": [\"Gloom\"], \"legendgroup\": \"Gloom\", \"marker\": {\"color\": \"#19d3f3\", \"symbol\": \"circle\"}, \"mode\": \"markers\", \"name\": \"Gloom\", \"showlegend\": true, \"type\": \"scatter\", \"x\": [0.0], \"xaxis\": \"x\", \"y\": [65.83], \"yaxis\": \"y\"}, {\"hoverlabel\": {\"namelength\": 0}, \"hovertemplate\": \"<b>%{hovertext}</b><br><br>Pok\\u00e9mon=Whiscash<br>VGC 2020 Usage %=%{x}<br>Base Stats Mean=%{y}\", \"hovertext\": [\"Whiscash\"], \"legendgroup\": \"Whiscash\", \"marker\": {\"color\": \"#FF6692\", \"symbol\": \"circle\"}, \"mode\": \"markers\", \"name\": \"Whiscash\", \"showlegend\": true, \"type\": \"scatter\", \"x\": [0.0], \"xaxis\": \"x\", \"y\": [78.0], \"yaxis\": \"y\"}, {\"hoverlabel\": {\"namelength\": 0}, \"hovertemplate\": \"<b>%{hovertext}</b><br><br>Pok\\u00e9mon=Sneasel<br>VGC 2020 Usage %=%{x}<br>Base Stats Mean=%{y}\", \"hovertext\": [\"Sneasel\"], \"legendgroup\": \"Sneasel\", \"marker\": {\"color\": \"#B6E880\", \"symbol\": \"circle\"}, \"mode\": \"markers\", \"name\": \"Sneasel\", \"showlegend\": true, \"type\": \"scatter\", \"x\": [0.0], \"xaxis\": \"x\", \"y\": [71.67], \"yaxis\": \"y\"}, {\"hoverlabel\": {\"namelength\": 0}, \"hovertemplate\": \"<b>%{hovertext}</b><br><br>Pok\\u00e9mon=Flareon<br>VGC 2020 Usage %=%{x}<br>Base Stats Mean=%{y}\", \"hovertext\": [\"Flareon\"], \"legendgroup\": \"Flareon\", \"marker\": {\"color\": \"#FF97FF\", \"symbol\": \"circle\"}, \"mode\": \"markers\", \"name\": \"Flareon\", \"showlegend\": true, \"type\": \"scatter\", \"x\": [0.0], \"xaxis\": \"x\", \"y\": [87.5], \"yaxis\": \"y\"}, {\"hoverlabel\": {\"namelength\": 0}, \"hovertemplate\": \"<b>%{hovertext}</b><br><br>Pok\\u00e9mon=Golurk<br>VGC 2020 Usage %=%{x}<br>Base Stats Mean=%{y}\", \"hovertext\": [\"Golurk\"], \"legendgroup\": \"Golurk\", \"marker\": {\"color\": \"#FECB52\", \"symbol\": \"circle\"}, \"mode\": \"markers\", \"name\": \"Golurk\", \"showlegend\": true, \"type\": \"scatter\", \"x\": [0.0], \"xaxis\": \"x\", \"y\": [80.5], \"yaxis\": \"y\"}, {\"hoverlabel\": {\"namelength\": 0}, \"hovertemplate\": \"<b>%{hovertext}</b><br><br>Pok\\u00e9mon=Meowstic<br>VGC 2020 Usage %=%{x}<br>Base Stats Mean=%{y}\", \"hovertext\": [\"Meowstic\"], \"legendgroup\": \"Meowstic\", \"marker\": {\"color\": \"#636efa\", \"symbol\": \"circle\"}, \"mode\": \"markers\", \"name\": \"Meowstic\", \"showlegend\": true, \"type\": \"scatter\", \"x\": [0.0], \"xaxis\": \"x\", \"y\": [77.67], \"yaxis\": \"y\"}, {\"hoverlabel\": {\"namelength\": 0}, \"hovertemplate\": \"<b>%{hovertext}</b><br><br>Pok\\u00e9mon=Lanturn<br>VGC 2020 Usage %=%{x}<br>Base Stats Mean=%{y}\", \"hovertext\": [\"Lanturn\"], \"legendgroup\": \"Lanturn\", \"marker\": {\"color\": \"#EF553B\", \"symbol\": \"circle\"}, \"mode\": \"markers\", \"name\": \"Lanturn\", \"showlegend\": true, \"type\": \"scatter\", \"x\": [0.0], \"xaxis\": \"x\", \"y\": [76.67], \"yaxis\": \"y\"}, {\"hoverlabel\": {\"namelength\": 0}, \"hovertemplate\": \"<b>%{hovertext}</b><br><br>Pok\\u00e9mon=Slurpuff<br>VGC 2020 Usage %=%{x}<br>Base Stats Mean=%{y}\", \"hovertext\": [\"Slurpuff\"], \"legendgroup\": \"Slurpuff\", \"marker\": {\"color\": \"#00cc96\", \"symbol\": \"circle\"}, \"mode\": \"markers\", \"name\": \"Slurpuff\", \"showlegend\": true, \"type\": \"scatter\", \"x\": [0.0], \"xaxis\": \"x\", \"y\": [80.0], \"yaxis\": \"y\"}, {\"hoverlabel\": {\"namelength\": 0}, \"hovertemplate\": \"<b>%{hovertext}</b><br><br>Pok\\u00e9mon=Mime Jr.<br>VGC 2020 Usage %=%{x}<br>Base Stats Mean=%{y}\", \"hovertext\": [\"Mime Jr.\"], \"legendgroup\": \"Mime Jr.\", \"marker\": {\"color\": \"#ab63fa\", \"symbol\": \"circle\"}, \"mode\": \"markers\", \"name\": \"Mime Jr.\", \"showlegend\": true, \"type\": \"scatter\", \"x\": [0.0], \"xaxis\": \"x\", \"y\": [51.67], \"yaxis\": \"y\"}, {\"hoverlabel\": {\"namelength\": 0}, \"hovertemplate\": \"<b>%{hovertext}</b><br><br>Pok\\u00e9mon=Morelull<br>VGC 2020 Usage %=%{x}<br>Base Stats Mean=%{y}\", \"hovertext\": [\"Morelull\"], \"legendgroup\": \"Morelull\", \"marker\": {\"color\": \"#FFA15A\", \"symbol\": \"circle\"}, \"mode\": \"markers\", \"name\": \"Morelull\", \"showlegend\": true, \"type\": \"scatter\", \"x\": [0.0], \"xaxis\": \"x\", \"y\": [47.5], \"yaxis\": \"y\"}, {\"hoverlabel\": {\"namelength\": 0}, \"hovertemplate\": \"<b>%{hovertext}</b><br><br>Pok\\u00e9mon=Mawile<br>VGC 2020 Usage %=%{x}<br>Base Stats Mean=%{y}\", \"hovertext\": [\"Mawile\"], \"legendgroup\": \"Mawile\", \"marker\": {\"color\": \"#19d3f3\", \"symbol\": \"circle\"}, \"mode\": \"markers\", \"name\": \"Mawile\", \"showlegend\": true, \"type\": \"scatter\", \"x\": [0.0], \"xaxis\": \"x\", \"y\": [63.33], \"yaxis\": \"y\"}, {\"hoverlabel\": {\"namelength\": 0}, \"hovertemplate\": \"<b>%{hovertext}</b><br><br>Pok\\u00e9mon=Pyukumuku<br>VGC 2020 Usage %=%{x}<br>Base Stats Mean=%{y}\", \"hovertext\": [\"Pyukumuku\"], \"legendgroup\": \"Pyukumuku\", \"marker\": {\"color\": \"#FF6692\", \"symbol\": \"circle\"}, \"mode\": \"markers\", \"name\": \"Pyukumuku\", \"showlegend\": true, \"type\": \"scatter\", \"x\": [0.0], \"xaxis\": \"x\", \"y\": [68.33], \"yaxis\": \"y\"}, {\"hoverlabel\": {\"namelength\": 0}, \"hovertemplate\": \"<b>%{hovertext}</b><br><br>Pok\\u00e9mon=Cottonee<br>VGC 2020 Usage %=%{x}<br>Base Stats Mean=%{y}\", \"hovertext\": [\"Cottonee\"], \"legendgroup\": \"Cottonee\", \"marker\": {\"color\": \"#B6E880\", \"symbol\": \"circle\"}, \"mode\": \"markers\", \"name\": \"Cottonee\", \"showlegend\": true, \"type\": \"scatter\", \"x\": [0.0], \"xaxis\": \"x\", \"y\": [46.67], \"yaxis\": \"y\"}, {\"hoverlabel\": {\"namelength\": 0}, \"hovertemplate\": \"<b>%{hovertext}</b><br><br>Pok\\u00e9mon=Throh<br>VGC 2020 Usage %=%{x}<br>Base Stats Mean=%{y}\", \"hovertext\": [\"Throh\"], \"legendgroup\": \"Throh\", \"marker\": {\"color\": \"#FF97FF\", \"symbol\": \"circle\"}, \"mode\": \"markers\", \"name\": \"Throh\", \"showlegend\": true, \"type\": \"scatter\", \"x\": [0.0], \"xaxis\": \"x\", \"y\": [77.5], \"yaxis\": \"y\"}, {\"hoverlabel\": {\"namelength\": 0}, \"hovertemplate\": \"<b>%{hovertext}</b><br><br>Pok\\u00e9mon=Shellos<br>VGC 2020 Usage %=%{x}<br>Base Stats Mean=%{y}\", \"hovertext\": [\"Shellos\"], \"legendgroup\": \"Shellos\", \"marker\": {\"color\": \"#FECB52\", \"symbol\": \"circle\"}, \"mode\": \"markers\", \"name\": \"Shellos\", \"showlegend\": true, \"type\": \"scatter\", \"x\": [0.0], \"xaxis\": \"x\", \"y\": [54.17], \"yaxis\": \"y\"}, {\"hoverlabel\": {\"namelength\": 0}, \"hovertemplate\": \"<b>%{hovertext}</b><br><br>Pok\\u00e9mon=Wobbuffet<br>VGC 2020 Usage %=%{x}<br>Base Stats Mean=%{y}\", \"hovertext\": [\"Wobbuffet\"], \"legendgroup\": \"Wobbuffet\", \"marker\": {\"color\": \"#636efa\", \"symbol\": \"circle\"}, \"mode\": \"markers\", \"name\": \"Wobbuffet\", \"showlegend\": true, \"type\": \"scatter\", \"x\": [0.0], \"xaxis\": \"x\", \"y\": [67.5], \"yaxis\": \"y\"}],\n",
       "                        {\"legend\": {\"title\": {\"text\": \"Pok\\u00e9mon\"}, \"tracegroupgap\": 0}, \"margin\": {\"t\": 60}, \"template\": {\"data\": {\"bar\": [{\"error_x\": {\"color\": \"#2a3f5f\"}, \"error_y\": {\"color\": \"#2a3f5f\"}, \"marker\": {\"line\": {\"color\": \"#E5ECF6\", \"width\": 0.5}}, \"type\": \"bar\"}], \"barpolar\": [{\"marker\": {\"line\": {\"color\": \"#E5ECF6\", \"width\": 0.5}}, \"type\": \"barpolar\"}], \"carpet\": [{\"aaxis\": {\"endlinecolor\": \"#2a3f5f\", \"gridcolor\": \"white\", \"linecolor\": \"white\", \"minorgridcolor\": \"white\", \"startlinecolor\": \"#2a3f5f\"}, \"baxis\": {\"endlinecolor\": \"#2a3f5f\", \"gridcolor\": \"white\", \"linecolor\": \"white\", \"minorgridcolor\": \"white\", \"startlinecolor\": \"#2a3f5f\"}, \"type\": \"carpet\"}], \"choropleth\": [{\"colorbar\": {\"outlinewidth\": 0, \"ticks\": \"\"}, \"type\": \"choropleth\"}], \"contour\": [{\"colorbar\": {\"outlinewidth\": 0, \"ticks\": \"\"}, \"colorscale\": [[0.0, \"#0d0887\"], [0.1111111111111111, \"#46039f\"], [0.2222222222222222, \"#7201a8\"], [0.3333333333333333, \"#9c179e\"], [0.4444444444444444, \"#bd3786\"], [0.5555555555555556, \"#d8576b\"], [0.6666666666666666, \"#ed7953\"], [0.7777777777777778, \"#fb9f3a\"], [0.8888888888888888, \"#fdca26\"], [1.0, \"#f0f921\"]], \"type\": \"contour\"}], \"contourcarpet\": [{\"colorbar\": {\"outlinewidth\": 0, \"ticks\": \"\"}, \"type\": \"contourcarpet\"}], \"heatmap\": [{\"colorbar\": {\"outlinewidth\": 0, \"ticks\": \"\"}, \"colorscale\": [[0.0, \"#0d0887\"], [0.1111111111111111, \"#46039f\"], [0.2222222222222222, \"#7201a8\"], [0.3333333333333333, \"#9c179e\"], [0.4444444444444444, \"#bd3786\"], [0.5555555555555556, \"#d8576b\"], [0.6666666666666666, \"#ed7953\"], [0.7777777777777778, \"#fb9f3a\"], [0.8888888888888888, \"#fdca26\"], [1.0, \"#f0f921\"]], \"type\": \"heatmap\"}], \"heatmapgl\": [{\"colorbar\": {\"outlinewidth\": 0, \"ticks\": \"\"}, \"colorscale\": [[0.0, \"#0d0887\"], [0.1111111111111111, \"#46039f\"], [0.2222222222222222, \"#7201a8\"], [0.3333333333333333, \"#9c179e\"], [0.4444444444444444, \"#bd3786\"], [0.5555555555555556, \"#d8576b\"], [0.6666666666666666, \"#ed7953\"], [0.7777777777777778, \"#fb9f3a\"], [0.8888888888888888, \"#fdca26\"], [1.0, \"#f0f921\"]], \"type\": \"heatmapgl\"}], \"histogram\": [{\"marker\": {\"colorbar\": {\"outlinewidth\": 0, \"ticks\": \"\"}}, \"type\": \"histogram\"}], \"histogram2d\": [{\"colorbar\": {\"outlinewidth\": 0, \"ticks\": \"\"}, \"colorscale\": [[0.0, \"#0d0887\"], [0.1111111111111111, \"#46039f\"], [0.2222222222222222, \"#7201a8\"], [0.3333333333333333, \"#9c179e\"], [0.4444444444444444, \"#bd3786\"], [0.5555555555555556, \"#d8576b\"], [0.6666666666666666, \"#ed7953\"], [0.7777777777777778, \"#fb9f3a\"], [0.8888888888888888, \"#fdca26\"], [1.0, \"#f0f921\"]], \"type\": \"histogram2d\"}], \"histogram2dcontour\": [{\"colorbar\": {\"outlinewidth\": 0, \"ticks\": \"\"}, \"colorscale\": [[0.0, \"#0d0887\"], [0.1111111111111111, \"#46039f\"], [0.2222222222222222, \"#7201a8\"], [0.3333333333333333, \"#9c179e\"], [0.4444444444444444, \"#bd3786\"], [0.5555555555555556, \"#d8576b\"], [0.6666666666666666, \"#ed7953\"], [0.7777777777777778, \"#fb9f3a\"], [0.8888888888888888, \"#fdca26\"], [1.0, \"#f0f921\"]], \"type\": \"histogram2dcontour\"}], \"mesh3d\": [{\"colorbar\": {\"outlinewidth\": 0, \"ticks\": \"\"}, \"type\": \"mesh3d\"}], \"parcoords\": [{\"line\": {\"colorbar\": {\"outlinewidth\": 0, \"ticks\": \"\"}}, \"type\": \"parcoords\"}], \"pie\": [{\"automargin\": true, \"type\": \"pie\"}], \"scatter\": [{\"marker\": {\"colorbar\": {\"outlinewidth\": 0, \"ticks\": \"\"}}, \"type\": \"scatter\"}], \"scatter3d\": [{\"line\": {\"colorbar\": {\"outlinewidth\": 0, \"ticks\": \"\"}}, \"marker\": {\"colorbar\": {\"outlinewidth\": 0, \"ticks\": \"\"}}, \"type\": \"scatter3d\"}], \"scattercarpet\": [{\"marker\": {\"colorbar\": {\"outlinewidth\": 0, \"ticks\": \"\"}}, \"type\": \"scattercarpet\"}], \"scattergeo\": [{\"marker\": {\"colorbar\": {\"outlinewidth\": 0, \"ticks\": \"\"}}, \"type\": \"scattergeo\"}], \"scattergl\": [{\"marker\": {\"colorbar\": {\"outlinewidth\": 0, \"ticks\": \"\"}}, \"type\": \"scattergl\"}], \"scattermapbox\": [{\"marker\": {\"colorbar\": {\"outlinewidth\": 0, \"ticks\": \"\"}}, \"type\": \"scattermapbox\"}], \"scatterpolar\": [{\"marker\": {\"colorbar\": {\"outlinewidth\": 0, \"ticks\": \"\"}}, \"type\": \"scatterpolar\"}], \"scatterpolargl\": [{\"marker\": {\"colorbar\": {\"outlinewidth\": 0, \"ticks\": \"\"}}, \"type\": \"scatterpolargl\"}], \"scatterternary\": [{\"marker\": {\"colorbar\": {\"outlinewidth\": 0, \"ticks\": \"\"}}, \"type\": \"scatterternary\"}], \"surface\": [{\"colorbar\": {\"outlinewidth\": 0, \"ticks\": \"\"}, \"colorscale\": [[0.0, \"#0d0887\"], [0.1111111111111111, \"#46039f\"], [0.2222222222222222, \"#7201a8\"], [0.3333333333333333, \"#9c179e\"], [0.4444444444444444, \"#bd3786\"], [0.5555555555555556, \"#d8576b\"], [0.6666666666666666, \"#ed7953\"], [0.7777777777777778, \"#fb9f3a\"], [0.8888888888888888, \"#fdca26\"], [1.0, \"#f0f921\"]], \"type\": \"surface\"}], \"table\": [{\"cells\": {\"fill\": {\"color\": \"#EBF0F8\"}, \"line\": {\"color\": \"white\"}}, \"header\": {\"fill\": {\"color\": \"#C8D4E3\"}, \"line\": {\"color\": \"white\"}}, \"type\": \"table\"}]}, \"layout\": {\"annotationdefaults\": {\"arrowcolor\": \"#2a3f5f\", \"arrowhead\": 0, \"arrowwidth\": 1}, \"coloraxis\": {\"colorbar\": {\"outlinewidth\": 0, \"ticks\": \"\"}}, \"colorscale\": {\"diverging\": [[0, \"#8e0152\"], [0.1, \"#c51b7d\"], [0.2, \"#de77ae\"], [0.3, \"#f1b6da\"], [0.4, \"#fde0ef\"], [0.5, \"#f7f7f7\"], [0.6, \"#e6f5d0\"], [0.7, \"#b8e186\"], [0.8, \"#7fbc41\"], [0.9, \"#4d9221\"], [1, \"#276419\"]], \"sequential\": [[0.0, \"#0d0887\"], [0.1111111111111111, \"#46039f\"], [0.2222222222222222, \"#7201a8\"], [0.3333333333333333, \"#9c179e\"], [0.4444444444444444, \"#bd3786\"], [0.5555555555555556, \"#d8576b\"], [0.6666666666666666, \"#ed7953\"], [0.7777777777777778, \"#fb9f3a\"], [0.8888888888888888, \"#fdca26\"], [1.0, \"#f0f921\"]], \"sequentialminus\": [[0.0, \"#0d0887\"], [0.1111111111111111, \"#46039f\"], [0.2222222222222222, \"#7201a8\"], [0.3333333333333333, \"#9c179e\"], [0.4444444444444444, \"#bd3786\"], [0.5555555555555556, \"#d8576b\"], [0.6666666666666666, \"#ed7953\"], [0.7777777777777778, \"#fb9f3a\"], [0.8888888888888888, \"#fdca26\"], [1.0, \"#f0f921\"]]}, \"colorway\": [\"#636efa\", \"#EF553B\", \"#00cc96\", \"#ab63fa\", \"#FFA15A\", \"#19d3f3\", \"#FF6692\", \"#B6E880\", \"#FF97FF\", \"#FECB52\"], \"font\": {\"color\": \"#2a3f5f\"}, \"geo\": {\"bgcolor\": \"white\", \"lakecolor\": \"white\", \"landcolor\": \"#E5ECF6\", \"showlakes\": true, \"showland\": true, \"subunitcolor\": \"white\"}, \"hoverlabel\": {\"align\": \"left\"}, \"hovermode\": \"closest\", \"mapbox\": {\"style\": \"light\"}, \"paper_bgcolor\": \"white\", \"plot_bgcolor\": \"#E5ECF6\", \"polar\": {\"angularaxis\": {\"gridcolor\": \"white\", \"linecolor\": \"white\", \"ticks\": \"\"}, \"bgcolor\": \"#E5ECF6\", \"radialaxis\": {\"gridcolor\": \"white\", \"linecolor\": \"white\", \"ticks\": \"\"}}, \"scene\": {\"xaxis\": {\"backgroundcolor\": \"#E5ECF6\", \"gridcolor\": \"white\", \"gridwidth\": 2, \"linecolor\": \"white\", \"showbackground\": true, \"ticks\": \"\", \"zerolinecolor\": \"white\"}, \"yaxis\": {\"backgroundcolor\": \"#E5ECF6\", \"gridcolor\": \"white\", \"gridwidth\": 2, \"linecolor\": \"white\", \"showbackground\": true, \"ticks\": \"\", \"zerolinecolor\": \"white\"}, \"zaxis\": {\"backgroundcolor\": \"#E5ECF6\", \"gridcolor\": \"white\", \"gridwidth\": 2, \"linecolor\": \"white\", \"showbackground\": true, \"ticks\": \"\", \"zerolinecolor\": \"white\"}}, \"shapedefaults\": {\"line\": {\"color\": \"#2a3f5f\"}}, \"ternary\": {\"aaxis\": {\"gridcolor\": \"white\", \"linecolor\": \"white\", \"ticks\": \"\"}, \"baxis\": {\"gridcolor\": \"white\", \"linecolor\": \"white\", \"ticks\": \"\"}, \"bgcolor\": \"#E5ECF6\", \"caxis\": {\"gridcolor\": \"white\", \"linecolor\": \"white\", \"ticks\": \"\"}}, \"title\": {\"x\": 0.05}, \"xaxis\": {\"automargin\": true, \"gridcolor\": \"white\", \"linecolor\": \"white\", \"ticks\": \"\", \"title\": {\"standoff\": 15}, \"zerolinecolor\": \"white\", \"zerolinewidth\": 2}, \"yaxis\": {\"automargin\": true, \"gridcolor\": \"white\", \"linecolor\": \"white\", \"ticks\": \"\", \"title\": {\"standoff\": 15}, \"zerolinecolor\": \"white\", \"zerolinewidth\": 2}}}, \"xaxis\": {\"anchor\": \"y\", \"domain\": [0.0, 1.0], \"title\": {\"text\": \"VGC 2020 Usage %\"}}, \"yaxis\": {\"anchor\": \"x\", \"domain\": [0.0, 1.0], \"title\": {\"text\": \"Base Stats Mean\"}}},\n",
       "                        {\"responsive\": true}\n",
       "                    ).then(function(){\n",
       "                            \n",
       "var gd = document.getElementById('4f8ebe35-46d7-452d-8357-9fcb705f0282');\n",
       "var x = new MutationObserver(function (mutations, observer) {{\n",
       "        var display = window.getComputedStyle(gd).display;\n",
       "        if (!display || display === 'none') {{\n",
       "            console.log([gd, 'removed!']);\n",
       "            Plotly.purge(gd);\n",
       "            observer.disconnect();\n",
       "        }}\n",
       "}});\n",
       "\n",
       "// Listen for the removal of the full notebook cells\n",
       "var notebookContainer = gd.closest('#notebook-container');\n",
       "if (notebookContainer) {{\n",
       "    x.observe(notebookContainer, {childList: true});\n",
       "}}\n",
       "\n",
       "// Listen for the clearing of the current output cell\n",
       "var outputEl = gd.closest('.output');\n",
       "if (outputEl) {{\n",
       "    x.observe(outputEl, {childList: true});\n",
       "}}\n",
       "\n",
       "                        })\n",
       "                };\n",
       "                });\n",
       "            </script>\n",
       "        </div>"
      ]
     },
     "metadata": {},
     "output_type": "display_data"
    }
   ],
   "source": [
    "import plotly.express as px\n",
    "\n",
    "px.scatter(combined,\n",
    "           x=\"VGC 2020 Usage %\",\n",
    "           y=\"Base Stats Mean\",\n",
    "           color=\"Pokémon\",\n",
    "           hover_name=\"Pokémon\")"
   ]
  },
  {
   "cell_type": "markdown",
   "metadata": {},
   "source": [
    "### Combined dataset insights"
   ]
  },
  {
   "cell_type": "markdown",
   "metadata": {},
   "source": [
    "#### Comments about VGC 2020 Usage % and Base Stats Mean relationship\n",
    "\n",
    "Pokémon's usage in VGC 2020 online competitions seems to be ***positively correlated*** with each Pokémon's Base Stats Mean forming a ***logarithmic growth*** so that Stats Means grow a lot without affecting much to VGC Usage %, and from 70 base stats means, usage starts increasing really fast, and it almost stops growing from 85-90 mean values."
   ]
  },
  {
   "cell_type": "markdown",
   "metadata": {},
   "source": [
    "## Outliers dataset"
   ]
  },
  {
   "cell_type": "markdown",
   "metadata": {},
   "source": [
    "### Outliers dataset  EDA and cleaning"
   ]
  },
  {
   "cell_type": "code",
   "execution_count": 42,
   "metadata": {
    "ExecuteTime": {
     "end_time": "2020-03-21T11:06:16.289222Z",
     "start_time": "2020-03-21T11:06:16.281138Z"
    }
   },
   "outputs": [],
   "source": [
    "outliers = pd.read_csv(\"data/outliers_clean.csv\")"
   ]
  },
  {
   "cell_type": "code",
   "execution_count": 43,
   "metadata": {
    "ExecuteTime": {
     "end_time": "2020-03-21T11:06:16.648628Z",
     "start_time": "2020-03-21T11:06:16.291245Z"
    }
   },
   "outputs": [
    {
     "data": {
      "text/plain": [
       "(18, 13)"
      ]
     },
     "execution_count": 43,
     "metadata": {},
     "output_type": "execute_result"
    }
   ],
   "source": [
    "outliers.shape"
   ]
  },
  {
   "cell_type": "code",
   "execution_count": 44,
   "metadata": {
    "ExecuteTime": {
     "end_time": "2020-03-21T11:06:16.739665Z",
     "start_time": "2020-03-21T11:06:16.650623Z"
    }
   },
   "outputs": [
    {
     "name": "stdout",
     "output_type": "stream",
     "text": [
      "<class 'pandas.core.frame.DataFrame'>\n",
      "RangeIndex: 18 entries, 0 to 17\n",
      "Data columns (total 13 columns):\n",
      " #   Column                Non-Null Count  Dtype  \n",
      "---  ------                --------------  -----  \n",
      " 0   Unnamed: 0            18 non-null     int64  \n",
      " 1   Outlier               18 non-null     object \n",
      " 2   Pokémon               18 non-null     object \n",
      " 3   Type                  18 non-null     object \n",
      " 4   Base Attack           18 non-null     float64\n",
      " 5   Base Defense          18 non-null     float64\n",
      " 6   Base HP               18 non-null     float64\n",
      " 7   Base Special Attack   18 non-null     float64\n",
      " 8   Base Special Defense  18 non-null     float64\n",
      " 9   Base Speed            18 non-null     float64\n",
      " 10  Base Stats Mean       18 non-null     float64\n",
      " 11  Base Stats SD         18 non-null     float64\n",
      " 12  VGC 2020 Usage %      18 non-null     float64\n",
      "dtypes: float64(9), int64(1), object(3)\n",
      "memory usage: 2.0+ KB\n"
     ]
    }
   ],
   "source": [
    "outliers.info()"
   ]
  },
  {
   "cell_type": "code",
   "execution_count": 45,
   "metadata": {
    "ExecuteTime": {
     "end_time": "2020-03-21T11:06:16.862744Z",
     "start_time": "2020-03-21T11:06:16.741390Z"
    }
   },
   "outputs": [],
   "source": [
    "order = [\n",
    "    'Unnamed: 0', 'Outlier', 'Pokémon', 'Type', 'Base HP', 'Base Attack',\n",
    "    'Base Defense', 'Base Special Attack', 'Base Special Defense',\n",
    "    'Base Speed', 'Base Stats Mean', 'Base Stats SD', 'VGC 2020 Usage %'\n",
    "]\n",
    "\n",
    "outliers = outliers[order]"
   ]
  },
  {
   "cell_type": "code",
   "execution_count": 46,
   "metadata": {
    "ExecuteTime": {
     "end_time": "2020-03-21T11:06:16.976960Z",
     "start_time": "2020-03-21T11:06:16.864727Z"
    }
   },
   "outputs": [
    {
     "data": {
      "text/html": [
       "<div>\n",
       "<style scoped>\n",
       "    .dataframe tbody tr th:only-of-type {\n",
       "        vertical-align: middle;\n",
       "    }\n",
       "\n",
       "    .dataframe tbody tr th {\n",
       "        vertical-align: top;\n",
       "    }\n",
       "\n",
       "    .dataframe thead th {\n",
       "        text-align: right;\n",
       "    }\n",
       "</style>\n",
       "<table border=\"1\" class=\"dataframe\">\n",
       "  <thead>\n",
       "    <tr style=\"text-align: right;\">\n",
       "      <th></th>\n",
       "      <th>Unnamed: 0</th>\n",
       "      <th>Outlier</th>\n",
       "      <th>Pokémon</th>\n",
       "      <th>Type</th>\n",
       "      <th>Base HP</th>\n",
       "      <th>Base Attack</th>\n",
       "      <th>Base Defense</th>\n",
       "      <th>Base Special Attack</th>\n",
       "      <th>Base Special Defense</th>\n",
       "      <th>Base Speed</th>\n",
       "      <th>Base Stats Mean</th>\n",
       "      <th>Base Stats SD</th>\n",
       "      <th>VGC 2020 Usage %</th>\n",
       "    </tr>\n",
       "  </thead>\n",
       "  <tbody>\n",
       "    <tr>\n",
       "      <th>0</th>\n",
       "      <td>175</td>\n",
       "      <td>Base HP</td>\n",
       "      <td>Shedinja</td>\n",
       "      <td>['bug', 'ghost']</td>\n",
       "      <td>1.0</td>\n",
       "      <td>90.0</td>\n",
       "      <td>45.0</td>\n",
       "      <td>30.0</td>\n",
       "      <td>30.0</td>\n",
       "      <td>40.0</td>\n",
       "      <td>39.33</td>\n",
       "      <td>26.59</td>\n",
       "      <td>0.0</td>\n",
       "    </tr>\n",
       "    <tr>\n",
       "      <th>1</th>\n",
       "      <td>101</td>\n",
       "      <td>Base Special Defense</td>\n",
       "      <td>Stonjourner</td>\n",
       "      <td>['rock']</td>\n",
       "      <td>100.0</td>\n",
       "      <td>125.0</td>\n",
       "      <td>135.0</td>\n",
       "      <td>20.0</td>\n",
       "      <td>20.0</td>\n",
       "      <td>70.0</td>\n",
       "      <td>78.33</td>\n",
       "      <td>46.07</td>\n",
       "      <td>0.0</td>\n",
       "    </tr>\n",
       "    <tr>\n",
       "      <th>2</th>\n",
       "      <td>33</td>\n",
       "      <td>Base Stats Mean</td>\n",
       "      <td>Butterfree</td>\n",
       "      <td>['bug', 'flying']</td>\n",
       "      <td>60.0</td>\n",
       "      <td>45.0</td>\n",
       "      <td>50.0</td>\n",
       "      <td>901.0</td>\n",
       "      <td>80.0</td>\n",
       "      <td>70.0</td>\n",
       "      <td>65.83</td>\n",
       "      <td>15.92</td>\n",
       "      <td>5.0</td>\n",
       "    </tr>\n",
       "    <tr>\n",
       "      <th>3</th>\n",
       "      <td>45</td>\n",
       "      <td>Base Stats Mean</td>\n",
       "      <td>Sableye</td>\n",
       "      <td>['dark', 'ghost']</td>\n",
       "      <td>50.0</td>\n",
       "      <td>75.0</td>\n",
       "      <td>75.0</td>\n",
       "      <td>65.0</td>\n",
       "      <td>65.0</td>\n",
       "      <td>50.0</td>\n",
       "      <td>63.33</td>\n",
       "      <td>10.27</td>\n",
       "      <td>2.0</td>\n",
       "    </tr>\n",
       "    <tr>\n",
       "      <th>4</th>\n",
       "      <td>52</td>\n",
       "      <td>Base Stats Mean</td>\n",
       "      <td>Pikachu</td>\n",
       "      <td>['electric']</td>\n",
       "      <td>35.0</td>\n",
       "      <td>55.0</td>\n",
       "      <td>404.0</td>\n",
       "      <td>50.0</td>\n",
       "      <td>505.0</td>\n",
       "      <td>90.0</td>\n",
       "      <td>53.33</td>\n",
       "      <td>17.72</td>\n",
       "      <td>1.0</td>\n",
       "    </tr>\n",
       "  </tbody>\n",
       "</table>\n",
       "</div>"
      ],
      "text/plain": [
       "   Unnamed: 0               Outlier      Pokémon               Type  Base HP  \\\n",
       "0         175               Base HP     Shedinja   ['bug', 'ghost']      1.0   \n",
       "1         101  Base Special Defense  Stonjourner           ['rock']    100.0   \n",
       "2          33       Base Stats Mean   Butterfree  ['bug', 'flying']     60.0   \n",
       "3          45       Base Stats Mean      Sableye  ['dark', 'ghost']     50.0   \n",
       "4          52       Base Stats Mean      Pikachu       ['electric']     35.0   \n",
       "\n",
       "   Base Attack  Base Defense  Base Special Attack  Base Special Defense  \\\n",
       "0         90.0          45.0                 30.0                  30.0   \n",
       "1        125.0         135.0                 20.0                  20.0   \n",
       "2         45.0          50.0                901.0                  80.0   \n",
       "3         75.0          75.0                 65.0                  65.0   \n",
       "4         55.0         404.0                 50.0                 505.0   \n",
       "\n",
       "   Base Speed  Base Stats Mean  Base Stats SD  VGC 2020 Usage %  \n",
       "0        40.0            39.33          26.59               0.0  \n",
       "1        70.0            78.33          46.07               0.0  \n",
       "2        70.0            65.83          15.92               5.0  \n",
       "3        50.0            63.33          10.27               2.0  \n",
       "4        90.0            53.33          17.72               1.0  "
      ]
     },
     "execution_count": 46,
     "metadata": {},
     "output_type": "execute_result"
    }
   ],
   "source": [
    "outliers.head()"
   ]
  },
  {
   "cell_type": "code",
   "execution_count": 47,
   "metadata": {
    "ExecuteTime": {
     "end_time": "2020-03-21T11:06:17.090877Z",
     "start_time": "2020-03-21T11:06:16.977948Z"
    }
   },
   "outputs": [
    {
     "data": {
      "text/html": [
       "<div>\n",
       "<style scoped>\n",
       "    .dataframe tbody tr th:only-of-type {\n",
       "        vertical-align: middle;\n",
       "    }\n",
       "\n",
       "    .dataframe tbody tr th {\n",
       "        vertical-align: top;\n",
       "    }\n",
       "\n",
       "    .dataframe thead th {\n",
       "        text-align: right;\n",
       "    }\n",
       "</style>\n",
       "<table border=\"1\" class=\"dataframe\">\n",
       "  <thead>\n",
       "    <tr style=\"text-align: right;\">\n",
       "      <th></th>\n",
       "      <th>Unnamed: 0</th>\n",
       "      <th>Outlier</th>\n",
       "      <th>Pokémon</th>\n",
       "      <th>Type</th>\n",
       "      <th>Base HP</th>\n",
       "      <th>Base Attack</th>\n",
       "      <th>Base Defense</th>\n",
       "      <th>Base Special Attack</th>\n",
       "      <th>Base Special Defense</th>\n",
       "      <th>Base Speed</th>\n",
       "      <th>Base Stats Mean</th>\n",
       "      <th>Base Stats SD</th>\n",
       "      <th>VGC 2020 Usage %</th>\n",
       "    </tr>\n",
       "  </thead>\n",
       "  <tbody>\n",
       "    <tr>\n",
       "      <th>13</th>\n",
       "      <td>186</td>\n",
       "      <td>Base Stats Mean</td>\n",
       "      <td>Mime Jr.</td>\n",
       "      <td>['psychic', 'fairy']</td>\n",
       "      <td>20.0</td>\n",
       "      <td>25.0</td>\n",
       "      <td>45.0</td>\n",
       "      <td>70.0</td>\n",
       "      <td>90.0</td>\n",
       "      <td>60.0</td>\n",
       "      <td>51.67</td>\n",
       "      <td>24.61</td>\n",
       "      <td>0.0</td>\n",
       "    </tr>\n",
       "    <tr>\n",
       "      <th>14</th>\n",
       "      <td>187</td>\n",
       "      <td>Base Stats Mean</td>\n",
       "      <td>Morelull</td>\n",
       "      <td>['grass', 'fairy']</td>\n",
       "      <td>40.0</td>\n",
       "      <td>35.0</td>\n",
       "      <td>55.0</td>\n",
       "      <td>65.0</td>\n",
       "      <td>75.0</td>\n",
       "      <td>15.0</td>\n",
       "      <td>47.50</td>\n",
       "      <td>19.95</td>\n",
       "      <td>0.0</td>\n",
       "    </tr>\n",
       "    <tr>\n",
       "      <th>15</th>\n",
       "      <td>189</td>\n",
       "      <td>Base Stats Mean</td>\n",
       "      <td>Mawile</td>\n",
       "      <td>['steel', 'fairy']</td>\n",
       "      <td>50.0</td>\n",
       "      <td>85.0</td>\n",
       "      <td>85.0</td>\n",
       "      <td>55.0</td>\n",
       "      <td>55.0</td>\n",
       "      <td>50.0</td>\n",
       "      <td>63.33</td>\n",
       "      <td>15.46</td>\n",
       "      <td>0.0</td>\n",
       "    </tr>\n",
       "    <tr>\n",
       "      <th>16</th>\n",
       "      <td>193</td>\n",
       "      <td>Base Stats Mean</td>\n",
       "      <td>Cottonee</td>\n",
       "      <td>['grass', 'fairy']</td>\n",
       "      <td>40.0</td>\n",
       "      <td>27.0</td>\n",
       "      <td>60.0</td>\n",
       "      <td>37.0</td>\n",
       "      <td>50.0</td>\n",
       "      <td>66.0</td>\n",
       "      <td>46.67</td>\n",
       "      <td>13.46</td>\n",
       "      <td>0.0</td>\n",
       "    </tr>\n",
       "    <tr>\n",
       "      <th>17</th>\n",
       "      <td>195</td>\n",
       "      <td>Base Stats Mean</td>\n",
       "      <td>Shellos</td>\n",
       "      <td>['water']</td>\n",
       "      <td>76.0</td>\n",
       "      <td>48.0</td>\n",
       "      <td>48.0</td>\n",
       "      <td>57.0</td>\n",
       "      <td>62.0</td>\n",
       "      <td>34.0</td>\n",
       "      <td>54.17</td>\n",
       "      <td>13.09</td>\n",
       "      <td>0.0</td>\n",
       "    </tr>\n",
       "  </tbody>\n",
       "</table>\n",
       "</div>"
      ],
      "text/plain": [
       "    Unnamed: 0          Outlier   Pokémon                  Type  Base HP  \\\n",
       "13         186  Base Stats Mean  Mime Jr.  ['psychic', 'fairy']     20.0   \n",
       "14         187  Base Stats Mean  Morelull    ['grass', 'fairy']     40.0   \n",
       "15         189  Base Stats Mean    Mawile    ['steel', 'fairy']     50.0   \n",
       "16         193  Base Stats Mean  Cottonee    ['grass', 'fairy']     40.0   \n",
       "17         195  Base Stats Mean   Shellos             ['water']     76.0   \n",
       "\n",
       "    Base Attack  Base Defense  Base Special Attack  Base Special Defense  \\\n",
       "13         25.0          45.0                 70.0                  90.0   \n",
       "14         35.0          55.0                 65.0                  75.0   \n",
       "15         85.0          85.0                 55.0                  55.0   \n",
       "16         27.0          60.0                 37.0                  50.0   \n",
       "17         48.0          48.0                 57.0                  62.0   \n",
       "\n",
       "    Base Speed  Base Stats Mean  Base Stats SD  VGC 2020 Usage %  \n",
       "13        60.0            51.67          24.61               0.0  \n",
       "14        15.0            47.50          19.95               0.0  \n",
       "15        50.0            63.33          15.46               0.0  \n",
       "16        66.0            46.67          13.46               0.0  \n",
       "17        34.0            54.17          13.09               0.0  "
      ]
     },
     "execution_count": 47,
     "metadata": {},
     "output_type": "execute_result"
    }
   ],
   "source": [
    "outliers.tail()"
   ]
  },
  {
   "cell_type": "code",
   "execution_count": 48,
   "metadata": {
    "ExecuteTime": {
     "end_time": "2020-03-21T11:06:17.200263Z",
     "start_time": "2020-03-21T11:06:17.092286Z"
    }
   },
   "outputs": [],
   "source": [
    "outliers = outliers.drop([\"Unnamed: 0\"], axis=1)"
   ]
  },
  {
   "cell_type": "code",
   "execution_count": 49,
   "metadata": {
    "ExecuteTime": {
     "end_time": "2020-03-21T11:06:17.307515Z",
     "start_time": "2020-03-21T11:06:17.207206Z"
    }
   },
   "outputs": [],
   "source": [
    "errorsOutliers = outliers.loc[(outliers[\"Base HP\"] > 255) |\n",
    "                              (outliers[\"Base Attack\"] > 255) |\n",
    "                              (outliers[\"Base Defense\"] > 255) |\n",
    "                              (outliers[\"Base Special Attack\"] > 255) |\n",
    "                              (outliers[\"Base Special Defense\"] > 255) |\n",
    "                              (outliers[\"Base Speed\"] > 255)]"
   ]
  },
  {
   "cell_type": "markdown",
   "metadata": {},
   "source": [
    "De nuevo aceptaremos realizar un drop con los datos que siguen estando erroneos dado que todos tienen un usage inferior al 5%"
   ]
  },
  {
   "cell_type": "code",
   "execution_count": 50,
   "metadata": {
    "ExecuteTime": {
     "end_time": "2020-03-21T11:06:17.421893Z",
     "start_time": "2020-03-21T11:06:17.313471Z"
    }
   },
   "outputs": [],
   "source": [
    "outliers = outliers.drop([2, 4], axis=0)"
   ]
  },
  {
   "cell_type": "code",
   "execution_count": 51,
   "metadata": {
    "ExecuteTime": {
     "end_time": "2020-03-21T11:06:17.569663Z",
     "start_time": "2020-03-21T11:06:17.424046Z"
    }
   },
   "outputs": [
    {
     "data": {
      "text/html": [
       "<div>\n",
       "<style scoped>\n",
       "    .dataframe tbody tr th:only-of-type {\n",
       "        vertical-align: middle;\n",
       "    }\n",
       "\n",
       "    .dataframe tbody tr th {\n",
       "        vertical-align: top;\n",
       "    }\n",
       "\n",
       "    .dataframe thead th {\n",
       "        text-align: right;\n",
       "    }\n",
       "</style>\n",
       "<table border=\"1\" class=\"dataframe\">\n",
       "  <thead>\n",
       "    <tr style=\"text-align: right;\">\n",
       "      <th></th>\n",
       "      <th>count</th>\n",
       "      <th>mean</th>\n",
       "      <th>std</th>\n",
       "      <th>min</th>\n",
       "      <th>25%</th>\n",
       "      <th>50%</th>\n",
       "      <th>75%</th>\n",
       "      <th>max</th>\n",
       "    </tr>\n",
       "  </thead>\n",
       "  <tbody>\n",
       "    <tr>\n",
       "      <th>Base HP</th>\n",
       "      <td>16.0</td>\n",
       "      <td>46.937500</td>\n",
       "      <td>25.373132</td>\n",
       "      <td>1.00</td>\n",
       "      <td>40.0000</td>\n",
       "      <td>49.000</td>\n",
       "      <td>60.0000</td>\n",
       "      <td>100.00</td>\n",
       "    </tr>\n",
       "    <tr>\n",
       "      <th>Base Attack</th>\n",
       "      <td>16.0</td>\n",
       "      <td>60.187500</td>\n",
       "      <td>27.479007</td>\n",
       "      <td>25.00</td>\n",
       "      <td>42.5000</td>\n",
       "      <td>51.500</td>\n",
       "      <td>77.5000</td>\n",
       "      <td>125.00</td>\n",
       "    </tr>\n",
       "    <tr>\n",
       "      <th>Base Defense</th>\n",
       "      <td>16.0</td>\n",
       "      <td>62.125000</td>\n",
       "      <td>24.165747</td>\n",
       "      <td>40.00</td>\n",
       "      <td>45.0000</td>\n",
       "      <td>51.500</td>\n",
       "      <td>71.2500</td>\n",
       "      <td>135.00</td>\n",
       "    </tr>\n",
       "    <tr>\n",
       "      <th>Base Special Attack</th>\n",
       "      <td>16.0</td>\n",
       "      <td>52.937500</td>\n",
       "      <td>18.364708</td>\n",
       "      <td>20.00</td>\n",
       "      <td>36.5000</td>\n",
       "      <td>56.000</td>\n",
       "      <td>65.0000</td>\n",
       "      <td>85.00</td>\n",
       "    </tr>\n",
       "    <tr>\n",
       "      <th>Base Special Defense</th>\n",
       "      <td>16.0</td>\n",
       "      <td>57.812500</td>\n",
       "      <td>21.827257</td>\n",
       "      <td>20.00</td>\n",
       "      <td>43.7500</td>\n",
       "      <td>58.500</td>\n",
       "      <td>75.0000</td>\n",
       "      <td>90.00</td>\n",
       "    </tr>\n",
       "    <tr>\n",
       "      <th>Base Speed</th>\n",
       "      <td>16.0</td>\n",
       "      <td>48.000000</td>\n",
       "      <td>16.024980</td>\n",
       "      <td>15.00</td>\n",
       "      <td>38.7500</td>\n",
       "      <td>49.000</td>\n",
       "      <td>60.0000</td>\n",
       "      <td>75.00</td>\n",
       "    </tr>\n",
       "    <tr>\n",
       "      <th>Base Stats Mean</th>\n",
       "      <td>16.0</td>\n",
       "      <td>54.665625</td>\n",
       "      <td>10.438356</td>\n",
       "      <td>39.33</td>\n",
       "      <td>47.5000</td>\n",
       "      <td>54.000</td>\n",
       "      <td>63.3300</td>\n",
       "      <td>78.33</td>\n",
       "    </tr>\n",
       "    <tr>\n",
       "      <th>Base Stats SD</th>\n",
       "      <td>16.0</td>\n",
       "      <td>17.619375</td>\n",
       "      <td>10.241364</td>\n",
       "      <td>0.00</td>\n",
       "      <td>12.6675</td>\n",
       "      <td>13.715</td>\n",
       "      <td>22.6975</td>\n",
       "      <td>46.07</td>\n",
       "    </tr>\n",
       "    <tr>\n",
       "      <th>VGC 2020 Usage %</th>\n",
       "      <td>16.0</td>\n",
       "      <td>0.125000</td>\n",
       "      <td>0.500000</td>\n",
       "      <td>0.00</td>\n",
       "      <td>0.0000</td>\n",
       "      <td>0.000</td>\n",
       "      <td>0.0000</td>\n",
       "      <td>2.00</td>\n",
       "    </tr>\n",
       "  </tbody>\n",
       "</table>\n",
       "</div>"
      ],
      "text/plain": [
       "                      count       mean        std    min      25%     50%  \\\n",
       "Base HP                16.0  46.937500  25.373132   1.00  40.0000  49.000   \n",
       "Base Attack            16.0  60.187500  27.479007  25.00  42.5000  51.500   \n",
       "Base Defense           16.0  62.125000  24.165747  40.00  45.0000  51.500   \n",
       "Base Special Attack    16.0  52.937500  18.364708  20.00  36.5000  56.000   \n",
       "Base Special Defense   16.0  57.812500  21.827257  20.00  43.7500  58.500   \n",
       "Base Speed             16.0  48.000000  16.024980  15.00  38.7500  49.000   \n",
       "Base Stats Mean        16.0  54.665625  10.438356  39.33  47.5000  54.000   \n",
       "Base Stats SD          16.0  17.619375  10.241364   0.00  12.6675  13.715   \n",
       "VGC 2020 Usage %       16.0   0.125000   0.500000   0.00   0.0000   0.000   \n",
       "\n",
       "                          75%     max  \n",
       "Base HP               60.0000  100.00  \n",
       "Base Attack           77.5000  125.00  \n",
       "Base Defense          71.2500  135.00  \n",
       "Base Special Attack   65.0000   85.00  \n",
       "Base Special Defense  75.0000   90.00  \n",
       "Base Speed            60.0000   75.00  \n",
       "Base Stats Mean       63.3300   78.33  \n",
       "Base Stats SD         22.6975   46.07  \n",
       "VGC 2020 Usage %       0.0000    2.00  "
      ]
     },
     "execution_count": 51,
     "metadata": {},
     "output_type": "execute_result"
    }
   ],
   "source": [
    "outliers.describe().T"
   ]
  },
  {
   "cell_type": "markdown",
   "metadata": {},
   "source": [
    "### Outliers dataset visualization"
   ]
  },
  {
   "cell_type": "code",
   "execution_count": 52,
   "metadata": {
    "ExecuteTime": {
     "end_time": "2020-03-21T11:06:18.059085Z",
     "start_time": "2020-03-21T11:06:17.571658Z"
    }
   },
   "outputs": [
    {
     "data": {
      "image/png": "[encoded data removed]",
      "text/plain": [
       "<Figure size 1080x576 with 1 Axes>"
      ]
     },
     "metadata": {
      "needs_background": "light"
     },
     "output_type": "display_data"
    }
   ],
   "source": [
    "boxplot = outliers.boxplot(column=[\n",
    "    \"Base HP\", \"Base Attack\", \"Base Defense\", \"Base Special Attack\",\n",
    "    \"Base Special Defense\", \"Base Speed\", \"Base Stats Mean\"\n",
    "],\n",
    "    figsize=(15, 8),\n",
    "    notch=True,\n",
    "    vert=True,\n",
    "    patch_artist=True)"
   ]
  },
  {
   "cell_type": "markdown",
   "metadata": {},
   "source": [
    "### Outliers dataset insights"
   ]
  },
  {
   "cell_type": "markdown",
   "metadata": {
    "heading_collapsed": true
   },
   "source": [
    "#### Comment about Base Stats distribution of Pokémon very rarely used in VGC 2020\n",
    "`Centre:`\n",
    "The stat with the highest mean is *Defense* (62.13) whilst the lowest is *HP* (46.94) being all-together with *Speed* (48) being below average (54.67) as *Special Attack* (52.94).\n",
    "\n",
    "`Spread:`\n",
    "The stat that holds the biggest spread is *Defense* (24-135) whereas *Speed* (16-75) has again the lowest range of values.\n",
    "\n",
    "`Outliers:`\n",
    "Among all outliers, there's just 2 that are not in this dataset because of having much lower Base Stats Mean that the other competitive Pokémon: Shedinja and Stonjourner. The first one is here because of its negligible HP (1), the latest because of holding the lowest Base Special Defense among Pokémon frequently used in VGC.\n",
    "\n",
    "Actually, all those data come from those Pokémon that are outliers among VGC 2020 used Pokémon, still there 2 outliers among them. \n",
    "\n",
    "One of them is Shedinja which can be considered an outlier among outliers because of its HP (being 1). The other one is Stonjourner, outlying because of both its high HP (100) and its high defence (135)."
   ]
  }
 ],
 "metadata": {
  "kernelspec": {
   "display_name": "Python 3",
   "language": "python",
   "name": "python3"
  },
  "language_info": {
   "codemirror_mode": {
    "name": "ipython",
    "version": 3
   },
   "file_extension": ".py",
   "mimetype": "text/x-python",
   "name": "python",
   "nbconvert_exporter": "python",
   "pygments_lexer": "ipython3",
   "version": "3.7.7"
  },
  "varInspector": {
   "cols": {
    "lenName": 16,
    "lenType": 16,
    "lenVar": 40
   },
   "kernels_config": {
    "python": {
     "delete_cmd_postfix": "",
     "delete_cmd_prefix": "del ",
     "library": "var_list.py",
     "varRefreshCmd": "print(var_dic_list())"
    },
    "r": {
     "delete_cmd_postfix": ") ",
     "delete_cmd_prefix": "rm(",
     "library": "var_list.r",
     "varRefreshCmd": "cat(var_dic_list()) "
    }
   },
   "types_to_exclude": [
    "module",
    "function",
    "builtin_function_or_method",
    "instance",
    "_Feature"
   ],
   "window_display": false
  }
 },
 "nbformat": 4,
 "nbformat_minor": 2
}
